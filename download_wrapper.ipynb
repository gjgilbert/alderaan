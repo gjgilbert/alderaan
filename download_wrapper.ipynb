{
 "cells": [
  {
   "cell_type": "code",
   "execution_count": 1,
   "metadata": {},
   "outputs": [
    {
     "name": "stdout",
     "output_type": "stream",
     "text": [
      "\n",
      "KOI-922\n",
      "downloading short cadence data from MAST\n"
     ]
    },
    {
     "name": "stderr",
     "output_type": "stream",
     "text": [
      "/Users/research/anaconda3/lib/python3.7/site-packages/lightkurve/search.py:284: LightkurveWarning: Cannot download from an empty search result.\n",
      "  LightkurveWarning)\n"
     ]
    },
    {
     "name": "stdout",
     "output_type": "stream",
     "text": [
      "downloading long cadence data from MAST\n",
      "\n",
      "KOI-824\n",
      "downloading short cadence data from MAST\n",
      "downloading long cadence data from MAST\n",
      "\n",
      "KOI-210\n",
      "downloading short cadence data from MAST\n",
      "downloading long cadence data from MAST\n",
      "\n",
      "KOI-4528\n",
      "downloading short cadence data from MAST\n"
     ]
    },
    {
     "name": "stderr",
     "output_type": "stream",
     "text": [
      "/Users/research/anaconda3/lib/python3.7/site-packages/lightkurve/search.py:284: LightkurveWarning: Cannot download from an empty search result.\n",
      "  LightkurveWarning)\n"
     ]
    },
    {
     "name": "stdout",
     "output_type": "stream",
     "text": [
      "downloading long cadence data from MAST\n",
      "\n",
      "KOI-856\n",
      "downloading short cadence data from MAST\n"
     ]
    },
    {
     "name": "stderr",
     "output_type": "stream",
     "text": [
      "/Users/research/anaconda3/lib/python3.7/site-packages/lightkurve/search.py:284: LightkurveWarning: Cannot download from an empty search result.\n",
      "  LightkurveWarning)\n"
     ]
    },
    {
     "name": "stdout",
     "output_type": "stream",
     "text": [
      "downloading long cadence data from MAST\n",
      "\n",
      "KOI-621\n",
      "downloading short cadence data from MAST\n"
     ]
    },
    {
     "name": "stderr",
     "output_type": "stream",
     "text": [
      "/Users/research/anaconda3/lib/python3.7/site-packages/lightkurve/search.py:284: LightkurveWarning: Cannot download from an empty search result.\n",
      "  LightkurveWarning)\n"
     ]
    },
    {
     "name": "stdout",
     "output_type": "stream",
     "text": [
      "downloading long cadence data from MAST\n",
      "\n",
      "KOI-4632\n",
      "downloading short cadence data from MAST\n"
     ]
    },
    {
     "name": "stderr",
     "output_type": "stream",
     "text": [
      "/Users/research/anaconda3/lib/python3.7/site-packages/lightkurve/search.py:284: LightkurveWarning: Cannot download from an empty search result.\n",
      "  LightkurveWarning)\n"
     ]
    },
    {
     "name": "stdout",
     "output_type": "stream",
     "text": [
      "downloading long cadence data from MAST\n",
      "\n",
      "KOI-1066\n",
      "downloading short cadence data from MAST\n"
     ]
    },
    {
     "name": "stderr",
     "output_type": "stream",
     "text": [
      "/Users/research/anaconda3/lib/python3.7/site-packages/lightkurve/search.py:284: LightkurveWarning: Cannot download from an empty search result.\n",
      "  LightkurveWarning)\n"
     ]
    },
    {
     "name": "stdout",
     "output_type": "stream",
     "text": [
      "downloading long cadence data from MAST\n",
      "\n",
      "KOI-189\n",
      "downloading short cadence data from MAST\n",
      "downloading long cadence data from MAST\n",
      "\n",
      "KOI-212\n",
      "downloading short cadence data from MAST\n",
      "downloading long cadence data from MAST\n"
     ]
    }
   ],
   "source": [
    "%run download_from_MAST.py --mission='Kepler' --target='K00922' --primary_dir='/Users/research/projects/alderaan/'\n",
    "%run download_from_MAST.py --mission='Kepler' --target='K00824' --primary_dir='/Users/research/projects/alderaan/'\n",
    "%run download_from_MAST.py --mission='Kepler' --target='K00210' --primary_dir='/Users/research/projects/alderaan/'\n",
    "%run download_from_MAST.py --mission='Kepler' --target='K04528' --primary_dir='/Users/research/projects/alderaan/'\n",
    "%run download_from_MAST.py --mission='Kepler' --target='K00856' --primary_dir='/Users/research/projects/alderaan/'\n",
    "%run download_from_MAST.py --mission='Kepler' --target='K00621' --primary_dir='/Users/research/projects/alderaan/'\n",
    "%run download_from_MAST.py --mission='Kepler' --target='K04632' --primary_dir='/Users/research/projects/alderaan/'\n",
    "%run download_from_MAST.py --mission='Kepler' --target='K01066' --primary_dir='/Users/research/projects/alderaan/'\n",
    "%run download_from_MAST.py --mission='Kepler' --target='K00189' --primary_dir='/Users/research/projects/alderaan/'\n",
    "%run download_from_MAST.py --mission='Kepler' --target='K00212' --primary_dir='/Users/research/projects/alderaan/'"
   ]
  },
  {
   "cell_type": "code",
   "execution_count": 2,
   "metadata": {},
   "outputs": [
    {
     "name": "stdout",
     "output_type": "stream",
     "text": [
      "\n",
      "KOI-2683\n",
      "downloading short cadence data from MAST\n"
     ]
    },
    {
     "name": "stderr",
     "output_type": "stream",
     "text": [
      "/Users/research/anaconda3/lib/python3.7/site-packages/lightkurve/search.py:284: LightkurveWarning: Cannot download from an empty search result.\n",
      "  LightkurveWarning)\n"
     ]
    },
    {
     "name": "stdout",
     "output_type": "stream",
     "text": [
      "downloading long cadence data from MAST\n",
      "\n",
      "KOI-5384\n",
      "downloading short cadence data from MAST\n"
     ]
    },
    {
     "name": "stderr",
     "output_type": "stream",
     "text": [
      "/Users/research/anaconda3/lib/python3.7/site-packages/lightkurve/search.py:284: LightkurveWarning: Cannot download from an empty search result.\n",
      "  LightkurveWarning)\n"
     ]
    },
    {
     "name": "stdout",
     "output_type": "stream",
     "text": [
      "downloading long cadence data from MAST\n",
      "\n",
      "KOI-777\n",
      "downloading short cadence data from MAST\n"
     ]
    },
    {
     "name": "stderr",
     "output_type": "stream",
     "text": [
      "/Users/research/anaconda3/lib/python3.7/site-packages/lightkurve/search.py:284: LightkurveWarning: Cannot download from an empty search result.\n",
      "  LightkurveWarning)\n"
     ]
    },
    {
     "name": "stdout",
     "output_type": "stream",
     "text": [
      "downloading long cadence data from MAST\n",
      "\n",
      "KOI-3801\n",
      "downloading short cadence data from MAST\n"
     ]
    },
    {
     "name": "stderr",
     "output_type": "stream",
     "text": [
      "/Users/research/anaconda3/lib/python3.7/site-packages/lightkurve/search.py:284: LightkurveWarning: Cannot download from an empty search result.\n",
      "  LightkurveWarning)\n"
     ]
    },
    {
     "name": "stdout",
     "output_type": "stream",
     "text": [
      "downloading long cadence data from MAST\n",
      "\n",
      "KOI-865\n",
      "downloading short cadence data from MAST\n"
     ]
    },
    {
     "name": "stderr",
     "output_type": "stream",
     "text": [
      "/Users/research/anaconda3/lib/python3.7/site-packages/lightkurve/search.py:284: LightkurveWarning: Cannot download from an empty search result.\n",
      "  LightkurveWarning)\n"
     ]
    },
    {
     "name": "stdout",
     "output_type": "stream",
     "text": [
      "downloading long cadence data from MAST\n",
      "\n",
      "KOI-1553\n",
      "downloading short cadence data from MAST\n"
     ]
    },
    {
     "name": "stderr",
     "output_type": "stream",
     "text": [
      "/Users/research/anaconda3/lib/python3.7/site-packages/lightkurve/search.py:284: LightkurveWarning: Cannot download from an empty search result.\n",
      "  LightkurveWarning)\n"
     ]
    },
    {
     "name": "stdout",
     "output_type": "stream",
     "text": [
      "downloading long cadence data from MAST\n",
      "\n",
      "KOI-3309\n",
      "downloading short cadence data from MAST\n"
     ]
    },
    {
     "name": "stderr",
     "output_type": "stream",
     "text": [
      "/Users/research/anaconda3/lib/python3.7/site-packages/lightkurve/search.py:284: LightkurveWarning: Cannot download from an empty search result.\n",
      "  LightkurveWarning)\n"
     ]
    },
    {
     "name": "stdout",
     "output_type": "stream",
     "text": [
      "downloading long cadence data from MAST\n",
      "\n",
      "KOI-22\n",
      "downloading short cadence data from MAST\n",
      "downloading long cadence data from MAST\n",
      "\n",
      "KOI-4756\n",
      "downloading short cadence data from MAST\n"
     ]
    },
    {
     "name": "stderr",
     "output_type": "stream",
     "text": [
      "/Users/research/anaconda3/lib/python3.7/site-packages/lightkurve/search.py:284: LightkurveWarning: Cannot download from an empty search result.\n",
      "  LightkurveWarning)\n"
     ]
    },
    {
     "name": "stdout",
     "output_type": "stream",
     "text": [
      "downloading long cadence data from MAST\n",
      "\n",
      "KOI-1872\n",
      "downloading short cadence data from MAST\n"
     ]
    },
    {
     "name": "stderr",
     "output_type": "stream",
     "text": [
      "/Users/research/anaconda3/lib/python3.7/site-packages/lightkurve/search.py:284: LightkurveWarning: Cannot download from an empty search result.\n",
      "  LightkurveWarning)\n"
     ]
    },
    {
     "name": "stdout",
     "output_type": "stream",
     "text": [
      "downloading long cadence data from MAST\n"
     ]
    }
   ],
   "source": [
    "%run download_from_MAST.py --mission='Kepler' --target='K02683' --primary_dir='/Users/research/projects/alderaan/'\n",
    "%run download_from_MAST.py --mission='Kepler' --target='K05384' --primary_dir='/Users/research/projects/alderaan/'\n",
    "%run download_from_MAST.py --mission='Kepler' --target='K00777' --primary_dir='/Users/research/projects/alderaan/'\n",
    "%run download_from_MAST.py --mission='Kepler' --target='K03801' --primary_dir='/Users/research/projects/alderaan/'\n",
    "%run download_from_MAST.py --mission='Kepler' --target='K00865' --primary_dir='/Users/research/projects/alderaan/'\n",
    "%run download_from_MAST.py --mission='Kepler' --target='K01553' --primary_dir='/Users/research/projects/alderaan/'\n",
    "%run download_from_MAST.py --mission='Kepler' --target='K03309' --primary_dir='/Users/research/projects/alderaan/'\n",
    "%run download_from_MAST.py --mission='Kepler' --target='K00022' --primary_dir='/Users/research/projects/alderaan/'\n",
    "%run download_from_MAST.py --mission='Kepler' --target='K04756' --primary_dir='/Users/research/projects/alderaan/'\n",
    "%run download_from_MAST.py --mission='Kepler' --target='K01872' --primary_dir='/Users/research/projects/alderaan/'"
   ]
  },
  {
   "cell_type": "code",
   "execution_count": 3,
   "metadata": {},
   "outputs": [
    {
     "name": "stdout",
     "output_type": "stream",
     "text": [
      "\n",
      "KOI-219\n",
      "downloading short cadence data from MAST\n"
     ]
    },
    {
     "name": "stderr",
     "output_type": "stream",
     "text": [
      "/Users/research/anaconda3/lib/python3.7/site-packages/lightkurve/search.py:284: LightkurveWarning: Cannot download from an empty search result.\n",
      "  LightkurveWarning)\n"
     ]
    },
    {
     "name": "stdout",
     "output_type": "stream",
     "text": [
      "downloading long cadence data from MAST\n",
      "\n",
      "KOI-3683\n",
      "downloading short cadence data from MAST\n",
      "downloading long cadence data from MAST\n",
      "\n",
      "KOI-429\n",
      "downloading short cadence data from MAST\n"
     ]
    },
    {
     "name": "stderr",
     "output_type": "stream",
     "text": [
      "/Users/research/anaconda3/lib/python3.7/site-packages/lightkurve/search.py:284: LightkurveWarning: Cannot download from an empty search result.\n",
      "  LightkurveWarning)\n"
     ]
    },
    {
     "name": "stdout",
     "output_type": "stream",
     "text": [
      "downloading long cadence data from MAST\n",
      "\n",
      "KOI-1457\n",
      "downloading short cadence data from MAST\n"
     ]
    },
    {
     "name": "stderr",
     "output_type": "stream",
     "text": [
      "/Users/research/anaconda3/lib/python3.7/site-packages/lightkurve/search.py:284: LightkurveWarning: Cannot download from an empty search result.\n",
      "  LightkurveWarning)\n"
     ]
    },
    {
     "name": "stdout",
     "output_type": "stream",
     "text": [
      "downloading long cadence data from MAST\n",
      "\n",
      "KOI-1478\n",
      "downloading short cadence data from MAST\n",
      "downloading long cadence data from MAST\n",
      "\n",
      "KOI-1420\n",
      "downloading short cadence data from MAST\n"
     ]
    },
    {
     "name": "stderr",
     "output_type": "stream",
     "text": [
      "/Users/research/anaconda3/lib/python3.7/site-packages/lightkurve/search.py:284: LightkurveWarning: Cannot download from an empty search result.\n",
      "  LightkurveWarning)\n"
     ]
    },
    {
     "name": "stdout",
     "output_type": "stream",
     "text": [
      "downloading long cadence data from MAST\n",
      "\n",
      "KOI-1790\n",
      "downloading short cadence data from MAST\n",
      "downloading long cadence data from MAST\n",
      "\n",
      "KOI-716\n",
      "downloading short cadence data from MAST\n",
      "downloading long cadence data from MAST\n",
      "\n",
      "KOI-628\n",
      "downloading short cadence data from MAST\n",
      "downloading long cadence data from MAST\n",
      "\n",
      "KOI-2689\n",
      "downloading short cadence data from MAST\n"
     ]
    },
    {
     "name": "stderr",
     "output_type": "stream",
     "text": [
      "/Users/research/anaconda3/lib/python3.7/site-packages/lightkurve/search.py:284: LightkurveWarning: Cannot download from an empty search result.\n",
      "  LightkurveWarning)\n"
     ]
    },
    {
     "name": "stdout",
     "output_type": "stream",
     "text": [
      "downloading long cadence data from MAST\n"
     ]
    }
   ],
   "source": [
    "%run download_from_MAST.py --mission='Kepler' --target='K00219' --primary_dir='/Users/research/projects/alderaan/'\n",
    "%run download_from_MAST.py --mission='Kepler' --target='K03683' --primary_dir='/Users/research/projects/alderaan/'\n",
    "%run download_from_MAST.py --mission='Kepler' --target='K00429' --primary_dir='/Users/research/projects/alderaan/'\n",
    "%run download_from_MAST.py --mission='Kepler' --target='K01457' --primary_dir='/Users/research/projects/alderaan/'\n",
    "%run download_from_MAST.py --mission='Kepler' --target='K01478' --primary_dir='/Users/research/projects/alderaan/'\n",
    "%run download_from_MAST.py --mission='Kepler' --target='K01420' --primary_dir='/Users/research/projects/alderaan/'\n",
    "%run download_from_MAST.py --mission='Kepler' --target='K01790' --primary_dir='/Users/research/projects/alderaan/'\n",
    "%run download_from_MAST.py --mission='Kepler' --target='K00716' --primary_dir='/Users/research/projects/alderaan/'\n",
    "%run download_from_MAST.py --mission='Kepler' --target='K00628' --primary_dir='/Users/research/projects/alderaan/'\n",
    "%run download_from_MAST.py --mission='Kepler' --target='K02689' --primary_dir='/Users/research/projects/alderaan/'"
   ]
  },
  {
   "cell_type": "code",
   "execution_count": 4,
   "metadata": {},
   "outputs": [
    {
     "name": "stdout",
     "output_type": "stream",
     "text": [
      "\n",
      "KOI-372\n",
      "downloading short cadence data from MAST\n",
      "downloading long cadence data from MAST\n",
      "\n",
      "KOI-797\n",
      "downloading short cadence data from MAST\n"
     ]
    },
    {
     "name": "stderr",
     "output_type": "stream",
     "text": [
      "/Users/research/anaconda3/lib/python3.7/site-packages/lightkurve/search.py:284: LightkurveWarning: Cannot download from an empty search result.\n",
      "  LightkurveWarning)\n"
     ]
    },
    {
     "name": "stdout",
     "output_type": "stream",
     "text": [
      "downloading long cadence data from MAST\n",
      "\n",
      "KOI-1465\n",
      "downloading short cadence data from MAST\n"
     ]
    },
    {
     "name": "stderr",
     "output_type": "stream",
     "text": [
      "/Users/research/anaconda3/lib/python3.7/site-packages/lightkurve/search.py:284: LightkurveWarning: Cannot download from an empty search result.\n",
      "  LightkurveWarning)\n"
     ]
    },
    {
     "name": "stdout",
     "output_type": "stream",
     "text": [
      "downloading long cadence data from MAST\n",
      "\n",
      "KOI-3445\n",
      "downloading short cadence data from MAST\n"
     ]
    },
    {
     "name": "stderr",
     "output_type": "stream",
     "text": [
      "/Users/research/anaconda3/lib/python3.7/site-packages/lightkurve/search.py:284: LightkurveWarning: Cannot download from an empty search result.\n",
      "  LightkurveWarning)\n"
     ]
    },
    {
     "name": "stdout",
     "output_type": "stream",
     "text": [
      "downloading long cadence data from MAST\n",
      "\n",
      "KOI-1242\n",
      "downloading short cadence data from MAST\n",
      "downloading long cadence data from MAST\n",
      "\n",
      "KOI-1470\n",
      "downloading short cadence data from MAST\n"
     ]
    },
    {
     "name": "stderr",
     "output_type": "stream",
     "text": [
      "/Users/research/anaconda3/lib/python3.7/site-packages/lightkurve/search.py:284: LightkurveWarning: Cannot download from an empty search result.\n",
      "  LightkurveWarning)\n"
     ]
    },
    {
     "name": "stdout",
     "output_type": "stream",
     "text": [
      "downloading long cadence data from MAST\n",
      "\n",
      "KOI-1466\n",
      "downloading short cadence data from MAST\n",
      "downloading long cadence data from MAST\n",
      "\n",
      "KOI-5071\n",
      "downloading short cadence data from MAST\n"
     ]
    },
    {
     "name": "stderr",
     "output_type": "stream",
     "text": [
      "/Users/research/anaconda3/lib/python3.7/site-packages/lightkurve/search.py:284: LightkurveWarning: Cannot download from an empty search result.\n",
      "  LightkurveWarning)\n"
     ]
    },
    {
     "name": "stdout",
     "output_type": "stream",
     "text": [
      "downloading long cadence data from MAST\n",
      "\n",
      "KOI-1159\n",
      "downloading short cadence data from MAST\n"
     ]
    },
    {
     "name": "stderr",
     "output_type": "stream",
     "text": [
      "/Users/research/anaconda3/lib/python3.7/site-packages/lightkurve/search.py:284: LightkurveWarning: Cannot download from an empty search result.\n",
      "  LightkurveWarning)\n"
     ]
    },
    {
     "name": "stdout",
     "output_type": "stream",
     "text": [
      "downloading long cadence data from MAST\n",
      "\n",
      "KOI-735\n",
      "downloading short cadence data from MAST\n"
     ]
    },
    {
     "name": "stderr",
     "output_type": "stream",
     "text": [
      "/Users/research/anaconda3/lib/python3.7/site-packages/lightkurve/search.py:284: LightkurveWarning: Cannot download from an empty search result.\n",
      "  LightkurveWarning)\n"
     ]
    },
    {
     "name": "stdout",
     "output_type": "stream",
     "text": [
      "downloading long cadence data from MAST\n"
     ]
    }
   ],
   "source": [
    "%run download_from_MAST.py --mission='Kepler' --target='K00372' --primary_dir='/Users/research/projects/alderaan/'\n",
    "%run download_from_MAST.py --mission='Kepler' --target='K00797' --primary_dir='/Users/research/projects/alderaan/'\n",
    "%run download_from_MAST.py --mission='Kepler' --target='K01465' --primary_dir='/Users/research/projects/alderaan/'\n",
    "%run download_from_MAST.py --mission='Kepler' --target='K03445' --primary_dir='/Users/research/projects/alderaan/'\n",
    "%run download_from_MAST.py --mission='Kepler' --target='K01242' --primary_dir='/Users/research/projects/alderaan/'\n",
    "%run download_from_MAST.py --mission='Kepler' --target='K01470' --primary_dir='/Users/research/projects/alderaan/'\n",
    "%run download_from_MAST.py --mission='Kepler' --target='K01466' --primary_dir='/Users/research/projects/alderaan/'\n",
    "%run download_from_MAST.py --mission='Kepler' --target='K05071' --primary_dir='/Users/research/projects/alderaan/'\n",
    "%run download_from_MAST.py --mission='Kepler' --target='K01159' --primary_dir='/Users/research/projects/alderaan/'\n",
    "%run download_from_MAST.py --mission='Kepler' --target='K00735' --primary_dir='/Users/research/projects/alderaan/'"
   ]
  },
  {
   "cell_type": "code",
   "execution_count": 5,
   "metadata": {},
   "outputs": [
    {
     "name": "stdout",
     "output_type": "stream",
     "text": [
      "\n",
      "KOI-4975\n",
      "downloading short cadence data from MAST\n"
     ]
    },
    {
     "name": "stderr",
     "output_type": "stream",
     "text": [
      "/Users/research/anaconda3/lib/python3.7/site-packages/lightkurve/search.py:284: LightkurveWarning: Cannot download from an empty search result.\n",
      "  LightkurveWarning)\n"
     ]
    },
    {
     "name": "stdout",
     "output_type": "stream",
     "text": [
      "downloading long cadence data from MAST\n",
      "\n",
      "KOI-1547\n",
      "downloading short cadence data from MAST\n",
      "downloading long cadence data from MAST\n",
      "\n",
      "KOI-3220\n",
      "downloading short cadence data from MAST\n"
     ]
    },
    {
     "name": "stderr",
     "output_type": "stream",
     "text": [
      "/Users/research/anaconda3/lib/python3.7/site-packages/lightkurve/search.py:284: LightkurveWarning: Cannot download from an empty search result.\n",
      "  LightkurveWarning)\n"
     ]
    },
    {
     "name": "stdout",
     "output_type": "stream",
     "text": [
      "downloading long cadence data from MAST\n",
      "\n",
      "KOI-1549\n",
      "downloading short cadence data from MAST\n"
     ]
    },
    {
     "name": "stderr",
     "output_type": "stream",
     "text": [
      "/Users/research/anaconda3/lib/python3.7/site-packages/lightkurve/search.py:284: LightkurveWarning: Cannot download from an empty search result.\n",
      "  LightkurveWarning)\n"
     ]
    },
    {
     "name": "stdout",
     "output_type": "stream",
     "text": [
      "downloading long cadence data from MAST\n",
      "\n",
      "KOI-1288\n",
      "downloading short cadence data from MAST\n"
     ]
    },
    {
     "name": "stderr",
     "output_type": "stream",
     "text": [
      "/Users/research/anaconda3/lib/python3.7/site-packages/lightkurve/search.py:284: LightkurveWarning: Cannot download from an empty search result.\n",
      "  LightkurveWarning)\n"
     ]
    },
    {
     "name": "stdout",
     "output_type": "stream",
     "text": [
      "downloading long cadence data from MAST\n",
      "\n",
      "KOI-4189\n",
      "downloading short cadence data from MAST\n"
     ]
    },
    {
     "name": "stderr",
     "output_type": "stream",
     "text": [
      "/Users/research/anaconda3/lib/python3.7/site-packages/lightkurve/search.py:284: LightkurveWarning: Cannot download from an empty search result.\n",
      "  LightkurveWarning)\n"
     ]
    },
    {
     "name": "stdout",
     "output_type": "stream",
     "text": [
      "downloading long cadence data from MAST\n",
      "\n",
      "KOI-1476\n",
      "downloading short cadence data from MAST\n"
     ]
    },
    {
     "name": "stderr",
     "output_type": "stream",
     "text": [
      "/Users/research/anaconda3/lib/python3.7/site-packages/lightkurve/search.py:284: LightkurveWarning: Cannot download from an empty search result.\n",
      "  LightkurveWarning)\n"
     ]
    },
    {
     "name": "stdout",
     "output_type": "stream",
     "text": [
      "downloading long cadence data from MAST\n",
      "\n",
      "KOI-2102\n",
      "downloading short cadence data from MAST\n"
     ]
    },
    {
     "name": "stderr",
     "output_type": "stream",
     "text": [
      "/Users/research/anaconda3/lib/python3.7/site-packages/lightkurve/search.py:284: LightkurveWarning: Cannot download from an empty search result.\n",
      "  LightkurveWarning)\n"
     ]
    },
    {
     "name": "stdout",
     "output_type": "stream",
     "text": [
      "downloading long cadence data from MAST\n",
      "\n",
      "KOI-4068\n",
      "downloading short cadence data from MAST\n"
     ]
    },
    {
     "name": "stderr",
     "output_type": "stream",
     "text": [
      "/Users/research/anaconda3/lib/python3.7/site-packages/lightkurve/search.py:284: LightkurveWarning: Cannot download from an empty search result.\n",
      "  LightkurveWarning)\n"
     ]
    },
    {
     "name": "stdout",
     "output_type": "stream",
     "text": [
      "downloading long cadence data from MAST\n",
      "\n",
      "KOI-2445\n",
      "downloading short cadence data from MAST\n",
      "downloading long cadence data from MAST\n"
     ]
    }
   ],
   "source": [
    "%run download_from_MAST.py --mission='Kepler' --target='K04975' --primary_dir='/Users/research/projects/alderaan/'\n",
    "%run download_from_MAST.py --mission='Kepler' --target='K01547' --primary_dir='/Users/research/projects/alderaan/'\n",
    "%run download_from_MAST.py --mission='Kepler' --target='K03220' --primary_dir='/Users/research/projects/alderaan/'\n",
    "%run download_from_MAST.py --mission='Kepler' --target='K01549' --primary_dir='/Users/research/projects/alderaan/'\n",
    "%run download_from_MAST.py --mission='Kepler' --target='K01288' --primary_dir='/Users/research/projects/alderaan/'\n",
    "%run download_from_MAST.py --mission='Kepler' --target='K04189' --primary_dir='/Users/research/projects/alderaan/'\n",
    "%run download_from_MAST.py --mission='Kepler' --target='K01476' --primary_dir='/Users/research/projects/alderaan/'\n",
    "%run download_from_MAST.py --mission='Kepler' --target='K02102' --primary_dir='/Users/research/projects/alderaan/'\n",
    "%run download_from_MAST.py --mission='Kepler' --target='K04068' --primary_dir='/Users/research/projects/alderaan/'\n",
    "%run download_from_MAST.py --mission='Kepler' --target='K02445' --primary_dir='/Users/research/projects/alderaan/'"
   ]
  },
  {
   "cell_type": "code",
   "execution_count": 6,
   "metadata": {},
   "outputs": [
    {
     "name": "stdout",
     "output_type": "stream",
     "text": [
      "\n",
      "KOI-1320\n",
      "downloading short cadence data from MAST\n"
     ]
    },
    {
     "name": "stderr",
     "output_type": "stream",
     "text": [
      "/Users/research/anaconda3/lib/python3.7/site-packages/lightkurve/search.py:284: LightkurveWarning: Cannot download from an empty search result.\n",
      "  LightkurveWarning)\n"
     ]
    },
    {
     "name": "stdout",
     "output_type": "stream",
     "text": [
      "downloading long cadence data from MAST\n",
      "\n",
      "KOI-2189\n",
      "downloading short cadence data from MAST\n"
     ]
    },
    {
     "name": "stderr",
     "output_type": "stream",
     "text": [
      "/Users/research/anaconda3/lib/python3.7/site-packages/lightkurve/search.py:284: LightkurveWarning: Cannot download from an empty search result.\n",
      "  LightkurveWarning)\n"
     ]
    },
    {
     "name": "stdout",
     "output_type": "stream",
     "text": [
      "downloading long cadence data from MAST\n",
      "\n",
      "KOI-900\n",
      "downloading short cadence data from MAST\n"
     ]
    },
    {
     "name": "stderr",
     "output_type": "stream",
     "text": [
      "/Users/research/anaconda3/lib/python3.7/site-packages/lightkurve/search.py:284: LightkurveWarning: Cannot download from an empty search result.\n",
      "  LightkurveWarning)\n"
     ]
    },
    {
     "name": "stdout",
     "output_type": "stream",
     "text": [
      "downloading long cadence data from MAST\n",
      "\n",
      "KOI-513\n",
      "downloading short cadence data from MAST\n"
     ]
    },
    {
     "name": "stderr",
     "output_type": "stream",
     "text": [
      "/Users/research/anaconda3/lib/python3.7/site-packages/lightkurve/search.py:284: LightkurveWarning: Cannot download from an empty search result.\n",
      "  LightkurveWarning)\n"
     ]
    },
    {
     "name": "stdout",
     "output_type": "stream",
     "text": [
      "downloading long cadence data from MAST\n",
      "\n",
      "KOI-918\n",
      "downloading short cadence data from MAST\n",
      "downloading long cadence data from MAST\n",
      "\n",
      "KOI-3411\n",
      "downloading short cadence data from MAST\n"
     ]
    },
    {
     "name": "stderr",
     "output_type": "stream",
     "text": [
      "/Users/research/anaconda3/lib/python3.7/site-packages/lightkurve/search.py:284: LightkurveWarning: Cannot download from an empty search result.\n",
      "  LightkurveWarning)\n"
     ]
    },
    {
     "name": "stdout",
     "output_type": "stream",
     "text": [
      "downloading long cadence data from MAST\n",
      "\n",
      "KOI-367\n",
      "downloading short cadence data from MAST\n",
      "downloading long cadence data from MAST\n",
      "\n",
      "KOI-3358\n",
      "downloading short cadence data from MAST\n"
     ]
    },
    {
     "name": "stderr",
     "output_type": "stream",
     "text": [
      "/Users/research/anaconda3/lib/python3.7/site-packages/lightkurve/search.py:284: LightkurveWarning: Cannot download from an empty search result.\n",
      "  LightkurveWarning)\n"
     ]
    },
    {
     "name": "stdout",
     "output_type": "stream",
     "text": [
      "downloading long cadence data from MAST\n",
      "\n",
      "KOI-1268\n",
      "downloading short cadence data from MAST\n"
     ]
    },
    {
     "name": "stderr",
     "output_type": "stream",
     "text": [
      "/Users/research/anaconda3/lib/python3.7/site-packages/lightkurve/search.py:284: LightkurveWarning: Cannot download from an empty search result.\n",
      "  LightkurveWarning)\n"
     ]
    },
    {
     "name": "stdout",
     "output_type": "stream",
     "text": [
      "downloading long cadence data from MAST\n",
      "\n",
      "KOI-8217\n",
      "downloading short cadence data from MAST\n"
     ]
    },
    {
     "name": "stderr",
     "output_type": "stream",
     "text": [
      "Could not resolve KOI-8217 to a sky position.\n",
      "/Users/research/anaconda3/lib/python3.7/site-packages/lightkurve/search.py:284: LightkurveWarning: Cannot download from an empty search result.\n",
      "  LightkurveWarning)\n"
     ]
    },
    {
     "name": "stdout",
     "output_type": "stream",
     "text": [
      "downloading long cadence data from MAST\n"
     ]
    },
    {
     "name": "stderr",
     "output_type": "stream",
     "text": [
      "Could not resolve KOI-8217 to a sky position.\n",
      "/Users/research/anaconda3/lib/python3.7/site-packages/lightkurve/search.py:284: LightkurveWarning: Cannot download from an empty search result.\n",
      "  LightkurveWarning)\n"
     ]
    },
    {
     "name": "stdout",
     "output_type": "stream",
     "text": [
      "\n",
      "KOI-639\n",
      "downloading short cadence data from MAST\n",
      "downloading long cadence data from MAST\n"
     ]
    }
   ],
   "source": [
    "%run download_from_MAST.py --mission='Kepler' --target='K01320' --primary_dir='/Users/research/projects/alderaan/'\n",
    "%run download_from_MAST.py --mission='Kepler' --target='K02189' --primary_dir='/Users/research/projects/alderaan/'\n",
    "%run download_from_MAST.py --mission='Kepler' --target='K00900' --primary_dir='/Users/research/projects/alderaan/'\n",
    "%run download_from_MAST.py --mission='Kepler' --target='K00513' --primary_dir='/Users/research/projects/alderaan/'\n",
    "%run download_from_MAST.py --mission='Kepler' --target='K00918' --primary_dir='/Users/research/projects/alderaan/'\n",
    "%run download_from_MAST.py --mission='Kepler' --target='K03411' --primary_dir='/Users/research/projects/alderaan/'\n",
    "%run download_from_MAST.py --mission='Kepler' --target='K00367' --primary_dir='/Users/research/projects/alderaan/'\n",
    "%run download_from_MAST.py --mission='Kepler' --target='K03358' --primary_dir='/Users/research/projects/alderaan/'\n",
    "%run download_from_MAST.py --mission='Kepler' --target='K01268' --primary_dir='/Users/research/projects/alderaan/'\n",
    "%run download_from_MAST.py --mission='Kepler' --target='K08217' --primary_dir='/Users/research/projects/alderaan/'\n",
    "%run download_from_MAST.py --mission='Kepler' --target='K00639' --primary_dir='/Users/research/projects/alderaan/'"
   ]
  }
 ],
 "metadata": {
  "kernelspec": {
   "display_name": "Python 3",
   "language": "python",
   "name": "python3"
  },
  "language_info": {
   "codemirror_mode": {
    "name": "ipython",
    "version": 3
   },
   "file_extension": ".py",
   "mimetype": "text/x-python",
   "name": "python",
   "nbconvert_exporter": "python",
   "pygments_lexer": "ipython3",
   "version": "3.7.3"
  }
 },
 "nbformat": 4,
 "nbformat_minor": 2
}
