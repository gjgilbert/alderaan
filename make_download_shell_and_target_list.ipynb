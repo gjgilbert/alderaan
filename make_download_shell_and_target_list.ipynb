{
 "cells": [
  {
   "cell_type": "markdown",
   "metadata": {},
   "source": [
    "# Make download list\n",
    "#### Read in csv catalog and generate text file to use to call download_from_MAST on UChicago Midway cluster"
   ]
  },
  {
   "cell_type": "code",
   "execution_count": 1,
   "metadata": {},
   "outputs": [],
   "source": [
    "import numpy as np\n",
    "import matplotlib.pyplot as plt\n",
    "import csv\n",
    "import alderaan.io as io"
   ]
  },
  {
   "cell_type": "code",
   "execution_count": 2,
   "metadata": {},
   "outputs": [],
   "source": [
    "MAINPATH = '/Users/research/projects/alderaan/'\n",
    "CSV_FILE = MAINPATH + 'Catalogs/simulated_catalog_eccentric.csv'\n",
    "\n",
    "LISTNAME = \"-sim-BIG-eccentric\""
   ]
  },
  {
   "cell_type": "markdown",
   "metadata": {},
   "source": [
    "# Read in Catalog data"
   ]
  },
  {
   "cell_type": "code",
   "execution_count": 3,
   "metadata": {},
   "outputs": [
    {
     "name": "stdout",
     "output_type": "stream",
     "text": [
      "Reading in data from csv file\n"
     ]
    }
   ],
   "source": [
    "# Read in the data from csv file\n",
    "print('Reading in data from csv file')\n",
    "\n",
    "# read in a csv file containing info on targets\n",
    "csv_keys, csv_values = io.read_csv_file(CSV_FILE)\n",
    "\n",
    "# put these csv data into a dictionary\n",
    "target_dict = {}\n",
    "for k in csv_keys: \n",
    "    target_dict[k] = io.get_csv_data(k, csv_keys, csv_values)\n",
    "    \n",
    "    \n",
    "for k in target_dict.keys():\n",
    "    target_dict[k] = np.array(target_dict[k])"
   ]
  },
  {
   "cell_type": "markdown",
   "metadata": {},
   "source": [
    "# Pull desired KOIs"
   ]
  },
  {
   "cell_type": "code",
   "execution_count": 4,
   "metadata": {},
   "outputs": [],
   "source": [
    "npl = np.array(target_dict[\"npl\"], dtype=\"int\")\n",
    "rp  = np.array(target_dict[\"prad\"], dtype=\"float\")\n",
    "\n",
    "use = (npl == 1)*(rp > 4.0)\n",
    "\n",
    "koi_list = np.random.choice(target_dict[\"koi_id\"][use], np.sum(use), replace=False)"
   ]
  },
  {
   "cell_type": "code",
   "execution_count": 5,
   "metadata": {},
   "outputs": [],
   "source": [
    "downloadfile = MAINPATH + \"Temp/\" + \"download_from_MAST\" + LISTNAME + \".sh\"\n",
    "\n",
    "with open(downloadfile, \"w\") as outfile:\n",
    "    outfile.write(\"module unload python\\n\")\n",
    "    outfile.write(\"module load python/cpython-3.7.0\\n\\n\")\n",
    "\n",
    "    \n",
    "    for i, koi in enumerate(koi_list):\n",
    "        outstring = \"python3 download_from_MAST.py --mission='Kepler' --target='\" + koi\n",
    "        outstring += \"' --primary_dir='/home/gjgilbert/projects/alderaan/'\\n\"\n",
    "        \n",
    "        outfile.write(outstring)"
   ]
  },
  {
   "cell_type": "code",
   "execution_count": 6,
   "metadata": {},
   "outputs": [],
   "source": [
    "wrapperfile = MAINPATH + \"Temp/\" + \"download_wrapper\" + LISTNAME + \".wrap\"\n",
    "\n",
    "with open(wrapperfile, \"w\") as outfile:\n",
    "    for i, koi in enumerate(koi_list):\n",
    "        outstring = \"%run download_from_MAST.py --mission='Kepler' --target='\" + koi\n",
    "        outstring += \"' --primary_dir='/Users/research/projects/alderaan/'\\n\"\n",
    "        \n",
    "        outfile.write(outstring)"
   ]
  },
  {
   "cell_type": "code",
   "execution_count": 7,
   "metadata": {},
   "outputs": [],
   "source": [
    "targetfile = MAINPATH + \"Temp/\" + \"target_list\" + LISTNAME + \".txt\"\n",
    "\n",
    "with open(targetfile, \"w\") as outfile:\n",
    "    for i, koi in enumerate(koi_list):\n",
    "        sim_id = \"S\" + koi[1:]\n",
    "        \n",
    "        outfile.write(sim_id + \"\\n\")"
   ]
  },
  {
   "cell_type": "code",
   "execution_count": null,
   "metadata": {},
   "outputs": [],
   "source": []
  },
  {
   "cell_type": "code",
   "execution_count": null,
   "metadata": {},
   "outputs": [],
   "source": []
  }
 ],
 "metadata": {
  "kernelspec": {
   "display_name": "Python 3",
   "language": "python",
   "name": "python3"
  },
  "language_info": {
   "codemirror_mode": {
    "name": "ipython",
    "version": 3
   },
   "file_extension": ".py",
   "mimetype": "text/x-python",
   "name": "python",
   "nbconvert_exporter": "python",
   "pygments_lexer": "ipython3",
   "version": "3.7.3"
  }
 },
 "nbformat": 4,
 "nbformat_minor": 2
}
