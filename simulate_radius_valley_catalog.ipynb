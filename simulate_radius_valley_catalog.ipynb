{
 "cells": [
  {
   "cell_type": "markdown",
   "metadata": {},
   "source": [
    "# Build Simulated Catalog"
   ]
  },
  {
   "cell_type": "code",
   "execution_count": 1,
   "metadata": {},
   "outputs": [],
   "source": [
    "import numpy as np\n",
    "import matplotlib.pyplot as plt\n",
    "from   scipy import stats\n",
    "from   scipy.interpolate import interp1d\n",
    "import csv\n",
    "import sys\n",
    "import os\n",
    "import importlib as imp\n",
    "\n",
    "sys.path.insert(0, \"./forecaster/\")\n",
    "import mr_forecast as mr\n",
    "\n",
    "\n",
    "import alderaan.io as io\n",
    "from alderaan.constants import *\n",
    "from alderaan.utils import *"
   ]
  },
  {
   "cell_type": "code",
   "execution_count": 2,
   "metadata": {},
   "outputs": [],
   "source": [
    "PRIMARY_DIR  = '/Users/research/projects/alderaan/'\n",
    "CSV_IN  = PRIMARY_DIR + \"Catalogs/cumulative_koi_catalog.csv\"\n",
    "CSV_OUT = PRIMARY_DIR + \"Catalogs/simulated_catalog_radius_valley.csv\""
   ]
  },
  {
   "cell_type": "markdown",
   "metadata": {},
   "source": [
    "# Read in real KOI data and do some quick cleanup"
   ]
  },
  {
   "cell_type": "code",
   "execution_count": 3,
   "metadata": {},
   "outputs": [
    {
     "name": "stdout",
     "output_type": "stream",
     "text": [
      "Reading in data from csv file\n",
      "Loaded 4297 real KOIs\n"
     ]
    }
   ],
   "source": [
    "# Read in the data from csv file\n",
    "print('Reading in data from csv file')\n",
    "\n",
    "# read in a csv file containing info on targets\n",
    "csv_keys, csv_values = io.read_csv_file(CSV_IN)\n",
    "\n",
    "# put these csv data into a dictionary\n",
    "real_kois = {}\n",
    "for k in csv_keys: \n",
    "    real_kois[k] = io.get_csv_data(k, csv_keys, csv_values)\n",
    "    \n",
    "k0 = \"koi_id\"\n",
    "    \n",
    "print(\"Loaded {0} real KOIs\".format(len(real_kois[k0])))"
   ]
  },
  {
   "cell_type": "code",
   "execution_count": 4,
   "metadata": {},
   "outputs": [],
   "source": [
    "# convert datatypes\n",
    "for k in real_kois.keys():\n",
    "    try:\n",
    "        real_kois[k] = np.asarray(real_kois[k], dtype=\"float\")\n",
    "    except:\n",
    "        real_kois[k] = np.asarray(real_kois[k])\n",
    "    \n",
    "    \n",
    "real_kois[\"npl\"] = np.asarray(real_kois[\"npl\"], dtype=\"int\")\n",
    "real_kois[\"kic_id\"] = np.asarray(real_kois[\"kic_id\"], dtype=\"int\")"
   ]
  },
  {
   "cell_type": "code",
   "execution_count": 5,
   "metadata": {},
   "outputs": [],
   "source": [
    "# eliminate any KOIs with short period planets (P < 10 days)\n",
    "usp_kics = []\n",
    "\n",
    "for i, per in enumerate(real_kois[\"period\"]):\n",
    "    if per < 5.0:\n",
    "        usp_kics.append(real_kois[\"kic_id\"][i])\n",
    "        \n",
    "\n",
    "bad = np.isin(real_kois[\"kic_id\"], usp_kics)\n",
    "\n",
    "\n",
    "for k in real_kois.keys():\n",
    "    real_kois[k] = real_kois[k][~bad]"
   ]
  },
  {
   "cell_type": "code",
   "execution_count": 6,
   "metadata": {},
   "outputs": [],
   "source": [
    "# eliminate any NaN-valued systems\n",
    "bad = np.zeros(len(real_kois[\"koi_id\"]), dtype=\"bool\")\n",
    "\n",
    "for k in real_kois.keys():\n",
    "    if real_kois[k].dtype == \"float64\":\n",
    "        bad += np.isnan(real_kois[k])\n",
    "        \n",
    "        \n",
    "for i, koi in enumerate(real_kois[\"koi_id\"]):\n",
    "    use = real_kois[\"koi_id\"] == koi\n",
    "    \n",
    "    if np.sum(bad[use]) > 0:\n",
    "        bad[use] = True\n",
    "    \n",
    "for k in real_kois.keys():\n",
    "    real_kois[k] = real_kois[k][~bad]"
   ]
  },
  {
   "cell_type": "code",
   "execution_count": 7,
   "metadata": {},
   "outputs": [],
   "source": [
    "# recalculate radius ratio to ensure consistency\n",
    "real_kois[\"ror\"] = real_kois[\"prad\"]/real_kois[\"rstar\"]/RSRE"
   ]
  },
  {
   "cell_type": "code",
   "execution_count": 8,
   "metadata": {},
   "outputs": [
    {
     "data": {
      "text/plain": [
       "dict_keys(['planet_name', 'disposition', 'koi_id', 'kic_id', 'npl', 'kep_mag', 'mstar', 'mstar_err1', 'mstar_err2', 'rstar', 'rstar_err1', 'rstar_err2', 'logrho', 'logrho_err1', 'logrho_err2', 'Teff', 'Teff_err1', 'Teff_err2', 'FeH', 'FeH_err1', 'FeH_err2', 'logg', 'logg_err1', 'logg_err2', 'limbdark_1', 'limbdark_2', 'period', 'period_err1', 'period_err2', 'epoch', 'epoch_err1', 'epoch_err2', 'prad', 'prad_err1', 'prad_err2', 'impact', 'impact_err1', 'impact_err2', 'depth', 'depth_err1', 'depth_err2', 'duration', 'duration_err1', 'duration_err2', 'ror', 'ror_err1', 'ror_err2', 'dor', 'dor_err1', 'dor_err2', 'snr', 'num_transits'])"
      ]
     },
     "execution_count": 8,
     "metadata": {},
     "output_type": "execute_result"
    }
   ],
   "source": [
    "real_kois.keys()"
   ]
  },
  {
   "cell_type": "code",
   "execution_count": 9,
   "metadata": {},
   "outputs": [],
   "source": [
    "my_keys = ['planet_name', 'disposition', 'koi_id', 'kic_id', \n",
    "           'npl', 'kep_mag', \n",
    "           'mstar', 'mstar_err1', 'mstar_err2', \n",
    "           'rstar', 'rstar_err1', 'rstar_err2',\n",
    "           'logrho', 'logrho_err1', 'logrho_err2',\n",
    "           'limbdark_1', 'limbdark_2', \n",
    "           'pmass', 'prad', 'period', 'epoch', 'impact','ecc', 'omega', \n",
    "           'depth', 'duration', 'ror', 'dor',\n",
    "           'snr', 'ttv_type']"
   ]
  },
  {
   "cell_type": "markdown",
   "metadata": {},
   "source": [
    "# (1) Single planet systems"
   ]
  },
  {
   "cell_type": "code",
   "execution_count": 10,
   "metadata": {},
   "outputs": [
    {
     "name": "stdout",
     "output_type": "stream",
     "text": [
      "1233 planets in single systems\n"
     ]
    }
   ],
   "source": [
    "singles = {}\n",
    "\n",
    "for k in my_keys:\n",
    "    singles[k] = []\n",
    "    \n",
    "\n",
    "# draw single-planet systems and assign them a TTV type\n",
    "use1 = (real_kois[\"npl\"] == 1)*(real_kois[\"rstar\"] < 1.5)*(real_kois[\"period\"] < 300.)*(real_kois[\"ror\"] < 0.05)\n",
    "N1 = int(np.sum(use1))\n",
    "\n",
    "print(\"{0} planets in single systems\".format(N1))\n",
    "\n",
    "select_systems = real_kois[\"koi_id\"][use1]\n",
    "np.random.shuffle(select_systems)\n",
    "\n",
    "for i, ss in enumerate(select_systems):\n",
    "    use = real_kois[\"koi_id\"] == ss\n",
    "    \n",
    "    for k in singles.keys():\n",
    "        if np.isin(k, list(real_kois.keys())):\n",
    "            singles[k].append(real_kois[k][use][0])\n",
    "    \n",
    "    # assign TTV model\n",
    "    if i < 0.25*N1:\n",
    "        singles[\"ttv_type\"].append(\"linear\")\n",
    "    elif i < 0.50*N1:\n",
    "        singles[\"ttv_type\"].append(\"quadratic\")\n",
    "    elif i < 0.75*N1:\n",
    "        singles[\"ttv_type\"].append(\"cubic\")\n",
    "    elif i < N1:\n",
    "        singles[\"ttv_type\"].append(\"sinusoidal\")\n",
    "        \n",
    "for k in singles.keys():\n",
    "    singles[k] = np.asarray(singles[k])"
   ]
  },
  {
   "cell_type": "code",
   "execution_count": 11,
   "metadata": {},
   "outputs": [],
   "source": [
    "# shift epochs forward by 1/phi\n",
    "singles[\"epoch\"] += singles[\"period\"]/1.618\n",
    "\n",
    "# draw periods\n",
    "singles[\"period\"] = np.random.uniform(0., 30., size=N1)\n",
    "\n",
    "# draw radii\n",
    "small = singles[\"prad\"] < 1.6\n",
    "\n",
    "singles[\"prad\"][small] = np.random.uniform(1.0, 1.5, size=np.sum(small))\n",
    "singles[\"prad\"][~small] = np.random.uniform(1.7, 2.3, size=np.sum(~small))\n",
    "\n",
    "singles[\"ror\"] = singles[\"prad\"]/singles[\"rstar\"]/RSRE\n",
    "\n",
    "# set mass values to NaN\n",
    "singles[\"pmass\"] = [\"nan\"]*N1\n",
    "\n",
    "\n",
    "# assign impact parameter\n",
    "singles[\"impact\"] = np.random.uniform(0., 1., size=N1)\n",
    "\n",
    "\n",
    "# assign eccentricity vectors\n",
    "singles[\"ecc\"] = np.random.uniform(0, 0.9, size=len(singles[\"prad\"]))\n",
    "singles[\"omega\"] = np.random.uniform(0, 2*pi, size=len(singles[\"prad\"]))"
   ]
  },
  {
   "cell_type": "markdown",
   "metadata": {},
   "source": [
    "# Fix dispositions and planet names to SIMULATED"
   ]
  },
  {
   "cell_type": "code",
   "execution_count": 12,
   "metadata": {},
   "outputs": [],
   "source": [
    "my_catalog = {}\n",
    "\n",
    "for k in my_keys:\n",
    "    my_catalog[k] = singles[k]\n",
    "    \n",
    "my_catalog['disposition'] = np.array([\"SIMULATED\"]*len(my_catalog[\"disposition\"]))"
   ]
  },
  {
   "cell_type": "code",
   "execution_count": 13,
   "metadata": {},
   "outputs": [],
   "source": [
    "# fix planet names\n",
    "for i, pname in enumerate(my_catalog[\"planet_name\"]):\n",
    "    my_catalog[\"planet_name\"][i] = \"S\" + pname[1:]"
   ]
  },
  {
   "cell_type": "markdown",
   "metadata": {},
   "source": [
    "# Perturb stellar masses and radii within uncertainties"
   ]
  },
  {
   "cell_type": "code",
   "execution_count": 14,
   "metadata": {},
   "outputs": [],
   "source": [
    "for i, koi in enumerate(my_catalog[\"koi_id\"]):\n",
    "    use = my_catalog[\"koi_id\"] == koi\n",
    "\n",
    "    # perturb masses\n",
    "    mstar = my_catalog[\"mstar\"][use][0]\n",
    "    mstar_err = np.sqrt(my_catalog[\"mstar_err1\"][use][0]**2 + my_catalog[\"mstar_err2\"][use][0]**2)/np.sqrt(2)\n",
    "\n",
    "    my_catalog[\"mstar\"][use] = mstar + mstar_err*stats.truncnorm.rvs(-3,3)\n",
    "    \n",
    "    if np.any(my_catalog[\"mstar\"][use] < 0):\n",
    "        my_catalog[\"mstar\"][use] = mstar*np.random.uniform(0.95,1.05)*mstar\n",
    "\n",
    "    \n",
    "    # perturb radii\n",
    "    rstar = my_catalog[\"rstar\"][use][0]\n",
    "    rstar_err = np.sqrt(my_catalog[\"rstar_err1\"][use][0]**2 + my_catalog[\"rstar_err2\"][use][0]**2)/np.sqrt(2)\n",
    "\n",
    "    my_catalog[\"rstar\"][use] = rstar + rstar_err*stats.truncnorm.rvs(-3,3)\n",
    "    \n",
    "    if np.any(my_catalog[\"rstar\"][use] < 0):\n",
    "        my_catalog[\"rstar\"][use] = rstar*np.random.uniform(0.95,1.05)*rstar\n",
    "    \n",
    "    \n",
    "my_catalog[\"logrho\"] = np.log10(my_catalog[\"mstar\"]/my_catalog[\"rstar\"]**3*RHOSUN_GCM3)"
   ]
  },
  {
   "cell_type": "markdown",
   "metadata": {},
   "source": [
    "# Recalculate transit depths, durations, $r_p/R_{\\star}$, and $a/R_{\\star}$"
   ]
  },
  {
   "cell_type": "code",
   "execution_count": 15,
   "metadata": {},
   "outputs": [
    {
     "name": "stderr",
     "output_type": "stream",
     "text": [
      "/Users/research/projects/alderaan/alderaan/utils.py:95: RuntimeWarning: invalid value encountered in arccos\n",
      "  sini = np.sin(np.arccos(b/(sma/Rs)))\n",
      "/Users/research/projects/alderaan/alderaan/utils.py:103: RuntimeWarning: invalid value encountered in arcsin\n",
      "  Ttot = (P/pi)*np.arcsin(argument)*Xe\n"
     ]
    }
   ],
   "source": [
    "# recalculate transit depths and durations\n",
    "my_catalog[\"depth\"] = get_transit_depth(my_catalog[\"prad\"]/my_catalog[\"rstar\"]/RSRE, my_catalog[\"impact\"])*1e6\n",
    "\n",
    "\n",
    "# recalculate transit durations\n",
    "sma = get_sma(my_catalog[\"period\"], my_catalog[\"mstar\"])\n",
    "\n",
    "my_catalog[\"duration\"] = 24*get_dur_tot(my_catalog[\"period\"], \n",
    "                                        my_catalog[\"prad\"]/RSRE, \n",
    "                                        my_catalog[\"rstar\"],\n",
    "                                        my_catalog[\"impact\"],\n",
    "                                        sma,\n",
    "                                        my_catalog[\"ecc\"],\n",
    "                                        my_catalog[\"omega\"])\n",
    "\n",
    "\n",
    "my_catalog[\"ror\"] = my_catalog[\"prad\"]/my_catalog[\"rstar\"]/RSRE\n",
    "my_catalog[\"dor\"] = sma/my_catalog[\"rstar\"]"
   ]
  },
  {
   "cell_type": "markdown",
   "metadata": {},
   "source": [
    "# Calculate SNR and remove systems hosting any planets with SNR < 7.1"
   ]
  },
  {
   "cell_type": "code",
   "execution_count": 16,
   "metadata": {},
   "outputs": [],
   "source": [
    "# Read in CDPP data\n",
    "cdpp = io.load_cdpp_data(PRIMARY_DIR + \"Catalogs/keplerstellar_cdpp.csv\")\n",
    "\n",
    "# do some data cleanup\n",
    "for k in cdpp.keys():\n",
    "    cdpp[k] = np.asarray(cdpp[k])\n",
    "    cdpp[k][cdpp[k] == \"\"] = \"nan\"\n",
    "\n",
    "    \n",
    "for k in cdpp.keys():\n",
    "    try:\n",
    "        cdpp[k] = np.asarray(cdpp[k], dtype=\"float\")\n",
    "    except:\n",
    "        pass\n",
    "    \n",
    "cdpp[\"kepid\"] = np.asarray(cdpp[\"kepid\"], dtype=\"int\")\n",
    "cdpp[\"nkoi\"]  = np.asarray(cdpp[\"nkoi\"], dtype=\"int\")\n",
    "\n",
    "\n",
    "cdpp_interp = []\n",
    "bad_dur = []\n",
    "\n",
    "for i, kic in enumerate(my_catalog[\"kic_id\"]):\n",
    "    cdpp_dur, cdpp_rms = io.pull_cdpp_rms(cdpp, kic)\n",
    "    \n",
    "    tdur = my_catalog[\"duration\"][i]\n",
    "    \n",
    "    if np.isnan(tdur):\n",
    "        tdur = get_dur_tot(my_catalog[\"period\"][i], my_catalog[\"prad\"][i]/RSRE, my_catalog[\"rstar\"][i],\n",
    "                           my_catalog[\"impact\"][i], get_sma(my_catalog[\"period\"][i], my_catalog[\"mstar\"][i]))\n",
    "        \n",
    "        bad_dur.append(True)\n",
    "        \n",
    "    else:\n",
    "        bad_dur.append(False)\n",
    "    \n",
    "    cdpp_interp.append(interp1d(cdpp_dur, cdpp_rms, bounds_error=False, fill_value=\"extrapolate\")(tdur))\n",
    "    \n",
    "    \n",
    "cdpp_interp = np.squeeze(cdpp_interp)"
   ]
  },
  {
   "cell_type": "code",
   "execution_count": 17,
   "metadata": {},
   "outputs": [],
   "source": [
    "# Read in occurence rate data products\n",
    "keys, vals = io.read_csv_file(PRIMARY_DIR + \"Catalogs/keplerstellar_occurence.csv\")\n",
    "\n",
    "occ = {}\n",
    "for k in keys: \n",
    "    occ[k] = io.get_csv_data(k, keys, vals)\n",
    "\n",
    "    \n",
    "# do some data cleanup\n",
    "for k in occ.keys():\n",
    "    occ[k] = np.asarray(occ[k])\n",
    "    occ[k][occ[k] == \"\"] = \"nan\"\n",
    "\n",
    "    \n",
    "for k in occ.keys():\n",
    "    try:\n",
    "        occ[k] = np.asarray(occ[k], dtype=\"float\")\n",
    "    except:\n",
    "        pass\n",
    "    \n",
    "    \n",
    "occ[\"kepid\"] = np.asarray(occ[\"kepid\"], dtype=\"int\")\n",
    "occ[\"nkoi\"]  = np.asarray(occ[\"nkoi\"], dtype=\"int\")\n",
    "\n",
    "\n",
    "dutycycle = []\n",
    "dataspan = []\n",
    "\n",
    "for i, kic in enumerate(my_catalog[\"kic_id\"]):\n",
    "    use = occ[\"kepid\"] == kic\n",
    "    \n",
    "    loc = np.nanargmax(occ[\"dataspan\"][use])\n",
    "    dutycycle.append(occ[\"dutycycle\"][use][loc])\n",
    "    dataspan.append(occ[\"dataspan\"][use][loc])\n",
    "    \n",
    "    \n",
    "dutycycle = np.asarray(dutycycle)\n",
    "dataspan = np.asarray(dataspan)\n",
    "\n",
    "expected_num_transits = dataspan/my_catalog[\"period\"]*dutycycle"
   ]
  },
  {
   "cell_type": "code",
   "execution_count": 18,
   "metadata": {},
   "outputs": [],
   "source": [
    "# calculate snr\n",
    "snr = my_catalog[\"depth\"]/cdpp_interp * np.sqrt(expected_num_transits)\n",
    "bad = snr < 7.1\n",
    "\n",
    "# remove low SNR or NaN-valued objects\n",
    "for k in my_catalog.keys():\n",
    "    my_catalog[k] = np.asarray(my_catalog[k])\n",
    "    \n",
    "    try:\n",
    "        bad += np.isnan(my_catalog[k])\n",
    "    except:\n",
    "        pass\n",
    "    \n",
    "    \n",
    "for k in my_catalog.keys():\n",
    "    my_catalog[k] = my_catalog[k][~bad]"
   ]
  },
  {
   "cell_type": "markdown",
   "metadata": {},
   "source": [
    "### Resize mini-Neptune population count to match super-Earth population count"
   ]
  },
  {
   "cell_type": "code",
   "execution_count": 26,
   "metadata": {},
   "outputs": [],
   "source": [
    "small = my_catalog[\"prad\"] < 1.6\n",
    "\n",
    "keep = np.random.choice(my_catalog[\"koi_id\"][~small], size=np.sum(small), replace=False)\n",
    "keep = np.hstack([keep, my_catalog[\"koi_id\"][small]])\n",
    "keep = np.isin(my_catalog[\"koi_id\"], keep)\n",
    "\n",
    "for k in my_catalog.keys():\n",
    "    my_catalog[k] = my_catalog[k][keep]"
   ]
  },
  {
   "cell_type": "code",
   "execution_count": 28,
   "metadata": {},
   "outputs": [
    {
     "data": {
      "image/png": "[encoded data removed]",
      "text/plain": [
       "<Figure size 432x288 with 1 Axes>"
      ]
     },
     "metadata": {
      "needs_background": "light"
     },
     "output_type": "display_data"
    }
   ],
   "source": [
    "plt.figure()\n",
    "plt.plot(my_catalog[\"period\"], my_catalog[\"prad\"], \"k.\")\n",
    "plt.show()"
   ]
  },
  {
   "cell_type": "markdown",
   "metadata": {},
   "source": [
    "# Do some cleanup"
   ]
  },
  {
   "cell_type": "code",
   "execution_count": 29,
   "metadata": {},
   "outputs": [
    {
     "data": {
      "text/plain": [
       "dict_keys(['planet_name', 'disposition', 'koi_id', 'kic_id', 'npl', 'kep_mag', 'mstar', 'mstar_err1', 'mstar_err2', 'rstar', 'rstar_err1', 'rstar_err2', 'logrho', 'logrho_err1', 'logrho_err2', 'limbdark_1', 'limbdark_2', 'pmass', 'prad', 'period', 'epoch', 'impact', 'ecc', 'omega', 'depth', 'duration', 'ror', 'dor', 'snr', 'ttv_type'])"
      ]
     },
     "execution_count": 29,
     "metadata": {},
     "output_type": "execute_result"
    }
   ],
   "source": [
    "my_catalog.keys()"
   ]
  },
  {
   "cell_type": "code",
   "execution_count": 30,
   "metadata": {},
   "outputs": [],
   "source": [
    "all_keys = list(my_catalog.keys())\n",
    "int_keys = ['kic_id', 'npl', 'depth']\n",
    "string_keys = ['planet_name', 'disposition', 'koi_id', 'ttv_type']\n",
    "precise_keys = ['period', 'epoch']\n",
    "\n",
    "\n",
    "for k in my_catalog.keys():\n",
    "    if np.isin(k, int_keys):\n",
    "        my_catalog[k] = np.array(my_catalog[k], dtype=\"int\")\n",
    "    elif np.isin(k, string_keys):\n",
    "        my_catalog[k] = my_catalog[k]\n",
    "    elif np.isin(k, precise_keys):\n",
    "        my_catalog[k] = np.round(np.array(my_catalog[k], dtype=\"float\"), 5)\n",
    "    else:\n",
    "        my_catalog[k] = np.round(np.array(my_catalog[k], dtype=\"float\"), 3)"
   ]
  },
  {
   "cell_type": "markdown",
   "metadata": {},
   "source": [
    "# Write out the catalog"
   ]
  },
  {
   "cell_type": "code",
   "execution_count": 31,
   "metadata": {},
   "outputs": [],
   "source": [
    "WRITENEW = True\n",
    "if WRITENEW:\n",
    "    with open(CSV_OUT, \"w\") as outfile:\n",
    "        writer = csv.writer(outfile)\n",
    "        writer.writerow(my_catalog.keys())\n",
    "        writer.writerows(zip(*my_catalog.values()))"
   ]
  },
  {
   "cell_type": "code",
   "execution_count": null,
   "metadata": {},
   "outputs": [],
   "source": []
  }
 ],
 "metadata": {
  "kernelspec": {
   "display_name": "Python 3",
   "language": "python",
   "name": "python3"
  },
  "language_info": {
   "codemirror_mode": {
    "name": "ipython",
    "version": 3
   },
   "file_extension": ".py",
   "mimetype": "text/x-python",
   "name": "python",
   "nbconvert_exporter": "python",
   "pygments_lexer": "ipython3",
   "version": "3.7.3"
  }
 },
 "nbformat": 4,
 "nbformat_minor": 2
}
