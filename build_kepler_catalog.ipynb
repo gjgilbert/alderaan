{
 "cells": [
  {
   "cell_type": "code",
   "execution_count": 1,
   "metadata": {},
   "outputs": [],
   "source": [
    "# IMPORT STATEMENTS AND PRELIMINARIES\n",
    "\n",
    "import numpy as np\n",
    "import csv\n",
    "import matplotlib.pyplot as plt\n",
    "from scipy import stats\n",
    "\n",
    "pi = np.pi\n",
    "\n",
    "MAINPATH = '/Users/research/projects/alderaan/'"
   ]
  },
  {
   "cell_type": "markdown",
   "metadata": {},
   "source": [
    "# Read in Kepler DR25"
   ]
  },
  {
   "cell_type": "code",
   "execution_count": 2,
   "metadata": {},
   "outputs": [],
   "source": [
    "# file names\n",
    "dr25_file = MAINPATH + 'Catalogs/kepler_dr25.csv'\n",
    "\n",
    "# convenience function to read in csv file\n",
    "def read_csv_file(filename):\n",
    "    data = []\n",
    "    with open(filename) as infile:\n",
    "        reader = csv.reader(infile)\n",
    "\n",
    "        for row in reader:\n",
    "            data.append(row)\n",
    "\n",
    "        if filename == dr25_file:\n",
    "            keys   = data[0]\n",
    "            values = data[1:]\n",
    "\n",
    "            \n",
    "        return keys, values\n",
    "\n",
    "\n",
    "# READ IN DR25 DATABASE -- https://exoplanetarchive.ipac.caltech.edu\n",
    "dr25_keys, dr25_data = read_csv_file(dr25_file)"
   ]
  },
  {
   "cell_type": "code",
   "execution_count": 3,
   "metadata": {},
   "outputs": [],
   "source": [
    "# convenience functions to pull data from csv files\n",
    "def getdr25(keyname,keys=dr25_keys,data=dr25_data):\n",
    "    '''\n",
    "    keyname = (string) of column definition\n",
    "    '''\n",
    "    kid = keys.index(keyname)\n",
    "    \n",
    "    outdata = []\n",
    "    for row in data:\n",
    "        outdata.append(row[kid])\n",
    "    \n",
    "    return outdata"
   ]
  },
  {
   "cell_type": "code",
   "execution_count": 4,
   "metadata": {},
   "outputs": [],
   "source": [
    "# read dr25 data into a dictionary\n",
    "dr25 = {}\n",
    "for k in dr25_keys:\n",
    "    dr25[k] = getdr25(k)"
   ]
  },
  {
   "cell_type": "code",
   "execution_count": 5,
   "metadata": {},
   "outputs": [
    {
     "name": "stdout",
     "output_type": "stream",
     "text": [
      "total number of queried DR25 objects = 9564\n"
     ]
    }
   ],
   "source": [
    "def check_lengths(data):\n",
    "    keys = data.keys()\n",
    "    k0   = list(keys)[0]\n",
    "    L0   = len(data[k0])\n",
    "    \n",
    "    for k in keys:\n",
    "        if len(data[k]) != L0:\n",
    "            raise ValueError('inconsistent array lengths')\n",
    "            \n",
    "    return None\n",
    "\n",
    "\n",
    "def convert_to_arrays(data):\n",
    "    keys = data.keys()\n",
    "    dnew = {}\n",
    "    \n",
    "    for k in keys:\n",
    "        dnew[k] = np.asarray(data[k])\n",
    "        \n",
    "    return dnew       \n",
    "\n",
    "\n",
    "\n",
    "# grab a reference key\n",
    "dr25_k0 = list(dr25.keys())[0]\n",
    "\n",
    "\n",
    "# convert to arrays\n",
    "dr25 = convert_to_arrays(dr25)\n",
    "print('total number of queried DR25 objects =', len(dr25[dr25_k0]))\n",
    "\n",
    "\n",
    "check_lengths(dr25)"
   ]
  },
  {
   "cell_type": "markdown",
   "metadata": {},
   "source": [
    "# Read in Gaia DR2"
   ]
  },
  {
   "cell_type": "code",
   "execution_count": 6,
   "metadata": {},
   "outputs": [],
   "source": [
    "gaiapath = MAINPATH + \"Catalogs/berger_2020_gaia_kepler_tab2_output.txt\"\n",
    "\n",
    "# read in the stellar output parameters\n",
    "with open(gaiapath, \"r\") as infile:\n",
    "    raw_gaia_data = []\n",
    "    \n",
    "    for i, line in enumerate(infile):\n",
    "        raw_gaia_data.append(line.split(\"&\"))\n",
    "            \n",
    "raw_gaia_data = np.array(raw_gaia_data)\n",
    "\n",
    "\n",
    "# strip off trailing \\newline commands\n",
    "for i in range(len(raw_gaia_data)):\n",
    "    raw_gaia_data[i,-1] = raw_gaia_data[i,-1].strip(\"\\n\").strip(\"\\ \")"
   ]
  },
  {
   "cell_type": "code",
   "execution_count": 7,
   "metadata": {},
   "outputs": [],
   "source": [
    "raw_gaia_dict = {}\n",
    "\n",
    "for i, k in enumerate(raw_gaia_data[0]):\n",
    "    raw_gaia_dict[k] = raw_gaia_data[1:,i]"
   ]
  },
  {
   "cell_type": "code",
   "execution_count": 8,
   "metadata": {},
   "outputs": [],
   "source": [
    "gaia = {}\n",
    "\n",
    "gaia['kic']          = raw_gaia_dict['KIC']\n",
    "\n",
    "gaia['Teff']         = raw_gaia_dict['iso_teff']\n",
    "gaia['Teff_err1']    = raw_gaia_dict['iso_teff_err1']\n",
    "gaia['Teff_err2']    = raw_gaia_dict['iso_teff_err2']\n",
    "\n",
    "gaia['FeH']          = raw_gaia_dict['iso_feh']\n",
    "gaia['FeH_err1']     = raw_gaia_dict['iso_feh_err1']\n",
    "gaia['FeH_err2']     = raw_gaia_dict['iso_feh_err2']\n",
    "\n",
    "gaia['Mstar']        = raw_gaia_dict['iso_mass']\n",
    "gaia['Mstar_err1']   = raw_gaia_dict['iso_mass_err1']\n",
    "gaia['Mstar_err2']   = raw_gaia_dict['iso_mass_err2']\n",
    "\n",
    "gaia['Rstar']        = raw_gaia_dict['iso_rad']\n",
    "gaia['Rstar_err1']   = raw_gaia_dict['iso_rad_err1']\n",
    "gaia['Rstar_err2']   = raw_gaia_dict['iso_rad_err2']\n",
    "\n",
    "gaia['rhostar']      = raw_gaia_dict['iso_rho']\n",
    "gaia['rhostar_err1'] = raw_gaia_dict['iso_rho_err1']\n",
    "gaia['rhostar_err2'] = raw_gaia_dict['iso_rho_err2']"
   ]
  },
  {
   "cell_type": "markdown",
   "metadata": {},
   "source": [
    "# Remove false-positives and low SNR objects"
   ]
  },
  {
   "cell_type": "code",
   "execution_count": 9,
   "metadata": {},
   "outputs": [
    {
     "name": "stdout",
     "output_type": "stream",
     "text": [
      "after removing false positives, DR25 objects = 4541\n"
     ]
    }
   ],
   "source": [
    "# remove false positives from DR25\n",
    "fp = dr25['koi_disposition'] == 'FALSE POSITIVE'\n",
    "fp += (dr25['koi_disposition'] != 'CONFIRMED')*(dr25['koi_pdisposition'] == 'FALSE POSITIVE')\n",
    "\n",
    "for k in dr25.keys():\n",
    "    dr25[k] = dr25[k][~fp]\n",
    "\n",
    "print('after removing false positives, DR25 objects =', len(dr25[dr25_k0]))"
   ]
  },
  {
   "cell_type": "code",
   "execution_count": 10,
   "metadata": {},
   "outputs": [
    {
     "name": "stdout",
     "output_type": "stream",
     "text": [
      "after cutting on SNR > 7.1, DR25 objects = 4341\n"
     ]
    }
   ],
   "source": [
    "# cut DR25 low signal-to-noise objects (SNR < 7.1)\n",
    "dr25_snr = dr25['koi_model_snr']\n",
    "dr25_snr[dr25_snr == ''] = 0\n",
    "dr25_snr = np.array(dr25_snr, dtype='float')\n",
    "\n",
    "for k in dr25.keys():\n",
    "    dr25[k] = dr25[k][dr25_snr >= 7.1]\n",
    "    \n",
    "print('after cutting on SNR > 7.1, DR25 objects =', len(dr25[dr25_k0]))"
   ]
  },
  {
   "cell_type": "markdown",
   "metadata": {},
   "source": [
    "# Initialize my catalog"
   ]
  },
  {
   "cell_type": "code",
   "execution_count": 11,
   "metadata": {},
   "outputs": [],
   "source": [
    "Nobj = len(dr25['kepid'])"
   ]
  },
  {
   "cell_type": "code",
   "execution_count": 12,
   "metadata": {},
   "outputs": [],
   "source": [
    "my_catalog = {}\n",
    "\n",
    "my_catalog['planet_name'] = dr25['kepoi_name']\n",
    "my_catalog['disposition'] = dr25['koi_disposition']\n",
    "\n",
    "my_catalog['koi_id']  = np.array(['K00000']*Nobj)\n",
    "my_catalog['kic_id']  = dr25['kepid']\n",
    "#my_catalog['gaia_id'] = np.ones(Nobj, dtype=gaia['gaia_id'].dtype)\n",
    "\n",
    "my_catalog['npl'] = dr25['koi_count']\n",
    "my_catalog['kep_mag'] = np.array(dr25['koi_kepmag'], dtype='float').round(3)\n",
    "\n",
    "my_catalog['rstar'] = dr25['koi_srad']\n",
    "my_catalog['rstar_err1'] = dr25['koi_srad_err1']\n",
    "my_catalog['rstar_err2'] = dr25['koi_srad_err2']\n",
    "\n",
    "my_catalog['mstar'] = dr25['koi_smass']\n",
    "my_catalog['mstar_err1'] = dr25['koi_smass_err1']\n",
    "my_catalog['mstar_err2'] = dr25['koi_smass_err2']\n",
    "\n",
    "my_catalog['epoch'] = dr25['koi_time0']\n",
    "my_catalog['epoch_err1'] = dr25['koi_time0_err1']\n",
    "my_catalog['epoch_err2'] = dr25['koi_time0_err2']\n",
    "\n",
    "my_catalog['period'] = dr25['koi_period']\n",
    "my_catalog['period_err1'] = dr25['koi_period_err1']\n",
    "my_catalog['period_err2'] = dr25['koi_period_err2']\n",
    "\n",
    "my_catalog['depth'] = dr25['koi_depth']\n",
    "my_catalog['depth_err1'] = dr25['koi_depth_err1']\n",
    "my_catalog['depth_err2'] = dr25['koi_depth_err2']\n",
    "\n",
    "my_catalog['duration'] = dr25['koi_duration']\n",
    "my_catalog['duration_err1'] = dr25['koi_duration_err1']\n",
    "my_catalog['duration_err2'] = dr25['koi_duration_err2']"
   ]
  },
  {
   "cell_type": "code",
   "execution_count": 13,
   "metadata": {},
   "outputs": [],
   "source": [
    "# make KOI name for star\n",
    "for i, pname in enumerate(my_catalog['planet_name']):\n",
    "    my_catalog['koi_id'][i] = pname[:-3]"
   ]
  },
  {
   "cell_type": "code",
   "execution_count": 14,
   "metadata": {},
   "outputs": [
    {
     "name": "stderr",
     "output_type": "stream",
     "text": [
      "/Users/research/anaconda3/lib/python3.7/site-packages/ipykernel_launcher.py:3: FutureWarning: elementwise comparison failed; returning scalar instead, but in the future will perform elementwise comparison\n",
      "  This is separate from the ipykernel package so we can avoid doing imports until\n"
     ]
    }
   ],
   "source": [
    "# replace empty values with zeros\n",
    "for i, k in enumerate(my_catalog.keys()):\n",
    "    bad = (my_catalog[k] == '')\n",
    "    \n",
    "    my_catalog[k][bad] = 0"
   ]
  },
  {
   "cell_type": "markdown",
   "metadata": {},
   "source": [
    "# Cross-match Kepler vs. Gaia and combine\n",
    "\n",
    "#### This section uses Berger+ 2018 which only includes stellar radii; the catalog from Berger+ 2020 will soon be available and that will also include stellar masses"
   ]
  },
  {
   "cell_type": "code",
   "execution_count": 15,
   "metadata": {},
   "outputs": [
    {
     "data": {
      "text/plain": [
       "(4341, 186301)"
      ]
     },
     "execution_count": 15,
     "metadata": {},
     "output_type": "execute_result"
    }
   ],
   "source": [
    "dr25_kic = np.array(dr25['kepid'], dtype='int')\n",
    "gaia_kic = np.array(gaia['kic'], dtype='int')\n",
    "\n",
    "len(dr25_kic), len(gaia_kic)"
   ]
  },
  {
   "cell_type": "code",
   "execution_count": 16,
   "metadata": {},
   "outputs": [],
   "source": [
    "# update Kepler stellar radii and masses to Gaia values where available\n",
    "use = np.isin(dr25_kic, gaia_kic)\n",
    "\n",
    "for i, kic in enumerate(dr25_kic):\n",
    "    if use[i]:\n",
    "        my_catalog['rstar'][i] = np.squeeze(gaia['Rstar'][gaia_kic == kic])\n",
    "        my_catalog['rstar_err1'][i] = np.squeeze(gaia['Rstar_err1'][gaia_kic == kic])\n",
    "        my_catalog['rstar_err2'][i] = np.squeeze(gaia['Rstar_err2'][gaia_kic == kic])\n",
    "        \n",
    "        my_catalog['mstar'][i] = np.squeeze(gaia['Mstar'][gaia_kic == kic])\n",
    "        my_catalog['mstar_err1'][i] = np.squeeze(gaia['Mstar_err1'][gaia_kic == kic])\n",
    "        my_catalog['mstar_err2'][i] = np.squeeze(gaia['Mstar_err2'][gaia_kic == kic])\n",
    "\n",
    "# convert radius and mass to floats\n",
    "my_catalog['rstar'] = np.array(my_catalog['rstar'], dtype='float')\n",
    "my_catalog['rstar_err1'] = np.array(my_catalog['rstar_err1'], dtype='float')\n",
    "my_catalog['rstar_err2'] = np.array(my_catalog['rstar_err2'], dtype='float')\n",
    "\n",
    "my_catalog['mstar'] = np.array(my_catalog['mstar'], dtype='float')\n",
    "my_catalog['mstar_err1'] = np.array(my_catalog['mstar_err1'], dtype='float')\n",
    "my_catalog['mstar_err2'] = np.array(my_catalog['mstar_err2'], dtype='float')"
   ]
  },
  {
   "cell_type": "markdown",
   "metadata": {},
   "source": [
    "# Adjust number of planets in each system"
   ]
  },
  {
   "cell_type": "code",
   "execution_count": 21,
   "metadata": {},
   "outputs": [],
   "source": [
    "# adjust number of planets in each system to reflect removals \n",
    "unique_systems = np.unique(my_catalog['koi_id'])\n",
    "\n",
    "my_catalog['npl'] = np.zeros(len(my_catalog['koi_id']), dtype='int')\n",
    "\n",
    "for us in unique_systems:\n",
    "    new_npl = np.sum(my_catalog['koi_id'] == us)\n",
    "    my_catalog['npl'][my_catalog['koi_id'] == us] = new_npl"
   ]
  },
  {
   "cell_type": "code",
   "execution_count": 22,
   "metadata": {},
   "outputs": [
    {
     "data": {
      "text/plain": [
       "(array([2628.,  904.,  471.,  208.,  105.,   18.,    7.,    0.]),\n",
       " array([1, 2, 3, 4, 5, 6, 7, 8, 9]),\n",
       " <a list of 8 Patch objects>)"
      ]
     },
     "execution_count": 22,
     "metadata": {},
     "output_type": "execute_result"
    },
    {
     "data": {
      "image/png": "[encoded data removed]",
      "text/plain": [
       "<Figure size 432x288 with 1 Axes>"
      ]
     },
     "metadata": {
      "needs_background": "light"
     },
     "output_type": "display_data"
    }
   ],
   "source": [
    "plt.hist(np.array(my_catalog['npl'], dtype='float'), bins=np.arange(1,10), color='cornflowerblue', edgecolor='k')"
   ]
  },
  {
   "cell_type": "markdown",
   "metadata": {},
   "source": [
    "# Read out catalogue"
   ]
  },
  {
   "cell_type": "code",
   "execution_count": 23,
   "metadata": {},
   "outputs": [],
   "source": [
    "WRITENEW = True\n",
    "if WRITENEW:\n",
    "    filepath = MAINPATH + 'Catalogs/clean_kepler_catalog.csv'\n",
    "\n",
    "    with open(filepath, \"w\") as outfile:\n",
    "        writer = csv.writer(outfile)\n",
    "        writer.writerow(my_catalog.keys())\n",
    "        writer.writerows(zip(*my_catalog.values()))"
   ]
  },
  {
   "cell_type": "code",
   "execution_count": null,
   "metadata": {},
   "outputs": [],
   "source": []
  }
 ],
 "metadata": {
  "kernelspec": {
   "display_name": "Python 3",
   "language": "python",
   "name": "python3"
  },
  "language_info": {
   "codemirror_mode": {
    "name": "ipython",
    "version": 3
   },
   "file_extension": ".py",
   "mimetype": "text/x-python",
   "name": "python",
   "nbconvert_exporter": "python",
   "pygments_lexer": "ipython3",
   "version": "3.7.3"
  }
 },
 "nbformat": 4,
 "nbformat_minor": 2
}
