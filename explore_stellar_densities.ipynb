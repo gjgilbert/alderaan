{
 "cells": [
  {
   "cell_type": "code",
   "execution_count": 1,
   "metadata": {},
   "outputs": [],
   "source": [
    "import numpy as np\n",
    "import matplotlib.pyplot as plt\n",
    "\n",
    "import alderaan.io as io\n",
    "from alderaan.constants import *"
   ]
  },
  {
   "cell_type": "code",
   "execution_count": 5,
   "metadata": {},
   "outputs": [],
   "source": [
    "PRIMARY_DIR  = '/Users/research/projects/alderaan/'\n",
    "CSV_FILE = PRIMARY_DIR + \"Catalogs/cumulative_koi_catalog.csv\""
   ]
  },
  {
   "cell_type": "code",
   "execution_count": 6,
   "metadata": {},
   "outputs": [
    {
     "name": "stdout",
     "output_type": "stream",
     "text": [
      "Reading in data from csv file\n"
     ]
    }
   ],
   "source": [
    "# Read in the data from csv file\n",
    "print('Reading in data from csv file')\n",
    "\n",
    "# read in a csv file containing info on targets\n",
    "csv_keys, csv_values = io.read_csv_file(CSV_FILE)\n",
    "\n",
    "# put these csv data into a dictionary\n",
    "target_dict = {}\n",
    "for k in csv_keys: \n",
    "    target_dict[k] = io.get_csv_data(k, csv_keys, csv_values)"
   ]
  },
  {
   "cell_type": "code",
   "execution_count": 7,
   "metadata": {},
   "outputs": [
    {
     "data": {
      "text/plain": [
       "dict_keys(['planet_name', 'disposition', 'koi_id', 'kic_id', 'npl', 'kep_mag', 'mstar', 'mstar_err1', 'mstar_err2', 'rstar', 'rstar_err1', 'rstar_err2', 'logrho', 'logrho_err1', 'logrho_err2', 'Teff', 'Teff_err1', 'Teff_err2', 'FeH', 'FeH_err1', 'FeH_err2', 'logg', 'logg_err1', 'logg_err2', 'limbdark_1', 'limbdark_2', 'period', 'period_err1', 'period_err2', 'epoch', 'epoch_err1', 'epoch_err2', 'prad', 'prad_err1', 'prad_err2', 'impact', 'impact_err1', 'impact_err2', 'depth', 'depth_err1', 'depth_err2', 'duration', 'duration_err1', 'duration_err2', 'ror', 'ror_err1', 'ror_err2', 'dor', 'dor_err1', 'dor_err2', 'snr', 'num_transits'])"
      ]
     },
     "execution_count": 7,
     "metadata": {},
     "output_type": "execute_result"
    }
   ],
   "source": [
    "target_dict.keys()"
   ]
  },
  {
   "cell_type": "code",
   "execution_count": 14,
   "metadata": {},
   "outputs": [],
   "source": [
    "# only use each target star once\n",
    "keep = np.zeros(len(target_dict[\"planet_name\"]), dtype=\"bool\")\n",
    "\n",
    "for i, pname in enumerate(target_dict[\"planet_name\"]):\n",
    "    if pname[-2:] == \"01\":\n",
    "        keep[i] = True\n",
    "        \n",
    "        \n",
    "for k in target_dict.keys():\n",
    "    target_dict[k] = np.array(target_dict[k])[keep]"
   ]
  },
  {
   "cell_type": "code",
   "execution_count": 20,
   "metadata": {},
   "outputs": [],
   "source": [
    "logrho = np.array(target_dict[\"logrho\"], dtype=\"float\")\n",
    "logrho_err1 = np.array(target_dict[\"logrho_err1\"], dtype=\"float\")\n",
    "logrho_err2 = np.array(target_dict[\"logrho_err2\"], dtype=\"float\")\n",
    "\n",
    "bad = np.isnan(logrho) + np.isnan(logrho_err1) + np.isnan(logrho_err2)\n",
    "\n",
    "logrho = logrho[~bad]\n",
    "logrho_err1 = logrho_err1[~bad]\n",
    "logrho_err2 = logrho_err2[~bad]"
   ]
  },
  {
   "cell_type": "code",
   "execution_count": 22,
   "metadata": {},
   "outputs": [
    {
     "data": {
      "image/png": "[encoded data removed]",
      "text/plain": [
       "<Figure size 1728x360 with 3 Axes>"
      ]
     },
     "metadata": {
      "needs_background": "light"
     },
     "output_type": "display_data"
    }
   ],
   "source": [
    "fig, ax = plt.subplots(1,3, figsize=(24,5))\n",
    "\n",
    "ax[0].hist(logrho)\n",
    "ax[1].hist(logrho_err1)\n",
    "ax[2].hist(logrho_err2)\n",
    "\n",
    "plt.show()"
   ]
  },
  {
   "cell_type": "code",
   "execution_count": 34,
   "metadata": {},
   "outputs": [
    {
     "data": {
      "image/png": "[encoded data removed]",
      "text/plain": [
       "<Figure size 1152x360 with 2 Axes>"
      ]
     },
     "metadata": {
      "needs_background": "light"
     },
     "output_type": "display_data"
    }
   ],
   "source": [
    "rho = 10**logrho\n",
    "rho_err1 = 10**(logrho+logrho_err1) - rho\n",
    "rho_err2 = 10**(logrho+logrho_err2) - rho\n",
    "\n",
    "rho_err = np.sqrt(rho_err1**2 + rho_err2**2)/np.sqrt(2)\n",
    "\n",
    "fig, ax = plt.subplots(1,2, figsize=(16,5))\n",
    "\n",
    "\n",
    "ax[0].hist(rho, bins=np.linspace(0,15,31), color=\"C1\")\n",
    "ax[1].hist(rho_err/rho, bins=np.linspace(0,2,31), color=\"C1\")\n",
    "\n",
    "plt.show()"
   ]
  },
  {
   "cell_type": "code",
   "execution_count": 40,
   "metadata": {},
   "outputs": [
    {
     "name": "stdout",
     "output_type": "stream",
     "text": [
      "fraction of targets with relative error...\n",
      "   < 1.00:  0.9974\n",
      "   < 0.30:  0.4020\n",
      "   < 0.10:  0.0108\n",
      "   < 0.03:  0.0003\n",
      "   < 0.01:  0.0003\n"
     ]
    }
   ],
   "source": [
    "f100 = np.sum(rho_err/rho < 1)/len(rho)\n",
    "f30 = np.sum(rho_err/rho < 0.3)/len(rho)\n",
    "f10 = np.sum(rho_err/rho < 0.1)/len(rho)\n",
    "f3 = np.sum(rho_err/rho < 0.03)/len(rho)\n",
    "f1 = np.sum(rho_err/rho < 0.01)/len(rho)\n",
    "\n",
    "print(\"fraction of targets with relative error...\")\n",
    "print(\"   < 1.00:  {0:.4f}\".format(f100))\n",
    "print(\"   < 0.30:  {0:.4f}\".format(f30))\n",
    "print(\"   < 0.10:  {0:.4f}\".format(f10))\n",
    "print(\"   < 0.03:  {0:.4f}\".format(f3))\n",
    "print(\"   < 0.01:  {0:.4f}\".format(f1))"
   ]
  },
  {
   "cell_type": "code",
   "execution_count": 63,
   "metadata": {},
   "outputs": [
    {
     "data": {
      "text/plain": [
       "82.81907992727282"
      ]
     },
     "execution_count": 63,
     "metadata": {},
     "output_type": "execute_result"
    }
   ],
   "source": [
    "# rho_circ/rho_star\n",
    "def g(ecc, omega):\n",
    "    return ((1 + ecc*np.sin(omega))/np.sqrt(1-ecc**2))**3\n",
    "\n",
    "g(0.9,pi/2)"
   ]
  },
  {
   "cell_type": "code",
   "execution_count": null,
   "metadata": {},
   "outputs": [],
   "source": []
  },
  {
   "cell_type": "code",
   "execution_count": null,
   "metadata": {},
   "outputs": [],
   "source": []
  }
 ],
 "metadata": {
  "kernelspec": {
   "display_name": "Python 3",
   "language": "python",
   "name": "python3"
  },
  "language_info": {
   "codemirror_mode": {
    "name": "ipython",
    "version": 3
   },
   "file_extension": ".py",
   "mimetype": "text/x-python",
   "name": "python",
   "nbconvert_exporter": "python",
   "pygments_lexer": "ipython3",
   "version": "3.7.3"
  }
 },
 "nbformat": 4,
 "nbformat_minor": 2
}
