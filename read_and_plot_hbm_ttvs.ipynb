{
 "cells": [
  {
   "cell_type": "code",
   "execution_count": null,
   "metadata": {},
   "outputs": [],
   "source": [
    "import numpy as np\n",
    "import matplotlib.pyplot as plt\n",
    "\n",
    "import scipy.optimize as op\n",
    "import scipy.signal as sig\n",
    "from   scipy import stats\n",
    "from   scipy import fftpack\n",
    "import astropy\n",
    "from   astropy.io import fits as pyfits\n",
    "import random\n",
    "\n",
    "import csv\n",
    "import sys\n",
    "import os\n",
    "import importlib as imp\n",
    "import glob\n",
    "from   timeit import default_timer as timer\n",
    "import warnings\n",
    "import progressbar\n",
    "import argparse\n",
    "import json\n",
    "\n",
    "import lightkurve as lk\n",
    "import exoplanet as exo\n",
    "import theano.tensor as T\n",
    "import pymc3 as pm\n",
    "import corner\n",
    "\n",
    "from alderaan.constants import *\n",
    "from alderaan.utils import *\n",
    "from alderaan.Planet import *\n",
    "from alderaan.LiteCurve import *\n",
    "import alderaan.io as io\n",
    "import alderaan.detrend as detrend\n",
    "import alderaan.noise as noise\n",
    "\n",
    "\n",
    "# flush buffer to avoid mixed outputs from progressbar\n",
    "sys.stdout.flush()\n",
    "\n",
    "# turn off FutureWarnings\n",
    "warnings.filterwarnings('ignore', category=FutureWarning)\n",
    "\n",
    "# start program timer\n",
    "global_start_time = timer()"
   ]
  },
  {
   "cell_type": "code",
   "execution_count": null,
   "metadata": {},
   "outputs": [],
   "source": [
    "# select mission, target, and paths\n",
    "\n",
    "MISSION = \"Kepler\"\n",
    "TARGET  = \"K00137\"\n",
    "PRIMARY_DIR = '/Users/research/projects/alderaan/'\n",
    "TRACE_FILE  = '/Users/research/projects/alderaan/__midway_traces//K00137/K00137_hbm_ttvs_200709a.fits'"
   ]
  },
  {
   "cell_type": "markdown",
   "metadata": {},
   "source": [
    "# Make sure the necessary paths exist"
   ]
  },
  {
   "cell_type": "code",
   "execution_count": null,
   "metadata": {},
   "outputs": [],
   "source": [
    "# directory in which to find lightcurve data\n",
    "if MISSION == 'Kepler': DOWNLOAD_DIR = PRIMARY_DIR + 'MAST_downloads/'\n",
    "if MISSION == 'Simulated': DOWNLOAD_DIR = PRIMARY_DIR + 'Simulations/'\n",
    "\n",
    "# directories in which to place pipeline outputs    \n",
    "FIGURE_DIR    = PRIMARY_DIR + 'Figures/' + TARGET + '/'\n",
    "TRACE_DIR     = PRIMARY_DIR + 'Traces/' + TARGET + '/'\n",
    "QUICK_TTV_DIR = PRIMARY_DIR + 'QuickTTVs/' + TARGET + '/'\n",
    "DLC_DIR       = PRIMARY_DIR + 'Detrended_lightcurves/' + TARGET + '/'\n",
    "NOISE_DIR     = PRIMARY_DIR + 'Noise_models/' + TARGET + '/'\n",
    "\n",
    "# check if all the paths exist and create them if not\n",
    "if os.path.exists(FIGURE_DIR) == False:\n",
    "    os.mkdir(FIGURE_DIR)\n",
    "    \n",
    "if os.path.exists(TRACE_DIR) == False:\n",
    "    os.mkdir(TRACE_DIR)\n",
    "    \n",
    "if os.path.exists(QUICK_TTV_DIR) == False:\n",
    "    os.mkdir(QUICK_TTV_DIR)\n",
    "    \n",
    "if os.path.exists(DLC_DIR) == False:\n",
    "    os.mkdir(DLC_DIR)\n",
    "    \n",
    "if os.path.exists(NOISE_DIR) == False:\n",
    "    os.mkdir(NOISE_DIR)"
   ]
  },
  {
   "cell_type": "markdown",
   "metadata": {},
   "source": [
    "# Get HBM TTV model posteriors"
   ]
  },
  {
   "cell_type": "code",
   "execution_count": null,
   "metadata": {},
   "outputs": [],
   "source": [
    "with pyfits.open(TRACE_FILE) as hbm_trace:\n",
    "    header = hbm_trace[0].header\n",
    "    hdulist = pyfits.HDUList(hbm_trace)\n",
    "    \n",
    "    NPL = int((len(hdulist)-1)/3)\n",
    "    NDRAWS = hbm_trace['POP_SD_0'].data.shape[0]\n",
    "    \n",
    "    print(NDRAWS, NPL)\n",
    "    \n",
    "    # TTV parameters\n",
    "    OFFSET = [None]*NPL\n",
    "    TTS    = [None]*NPL\n",
    "    POP_SD = [None]*NPL\n",
    "    \n",
    "    for npl in range(NPL):\n",
    "        try: OFFSET[npl] = hbm_trace['OFFSET_{0}'.format(npl)].data\n",
    "        except: pass\n",
    "\n",
    "        try: TTS[npl] = hbm_trace['TTS_{0}'.format(npl)].data\n",
    "        except: pass\n",
    "        \n",
    "        try: POP_SD[npl] = hbm_trace['POP_SD_{0}'.format(npl)].data\n",
    "        except: pass"
   ]
  },
  {
   "cell_type": "code",
   "execution_count": null,
   "metadata": {
    "scrolled": false
   },
   "outputs": [],
   "source": [
    "for npl in range(NPL):\n",
    "    fig = corner.corner(POP_SD[npl]*24*60, labels=[0,1,2,3], color='C{0}'.format(npl))"
   ]
  },
  {
   "cell_type": "markdown",
   "metadata": {},
   "source": [
    "# Get transit times, linear ephemeris and O-C"
   ]
  },
  {
   "cell_type": "code",
   "execution_count": null,
   "metadata": {},
   "outputs": [],
   "source": [
    "for npl in range(NPL):\n",
    "    tts = np.median(TTS[npl], 0)\n",
    "    \n",
    "    per = np.median(tts[1:]-tts[:-1])\n",
    "    epoch = np.median(tts[0])\n",
    "\n",
    "    inds = np.array(np.floor((tts - epoch + per/2)/per), dtype='int')\n",
    "    \n",
    "    \n",
    "    pfit = np.polyfit(inds, tts, 1)\n",
    "    ephem = np.polyval(pfit, inds)\n",
    "    \n",
    "    xtime = tts\n",
    "    yomc  = (tts - ephem)*24*60\n",
    "    yerr  = np.std(TTS[npl], 0)*24*60\n",
    "    \n",
    "    plt.figure(figsize=(15,4))\n",
    "    plt.errorbar(xtime, yomc, yerr=yerr, fmt='.', color='C{0}'.format(npl))\n",
    "    plt.xlim(100,1600)\n",
    "    plt.ylim(ylim[npl])\n",
    "    plt.xlabel(\"Time [days]\")\n",
    "    plt.ylabel(\"O-C\")\n",
    "    plt.show()\n",
    "    "
   ]
  },
  {
   "cell_type": "code",
   "execution_count": null,
   "metadata": {},
   "outputs": [],
   "source": []
  },
  {
   "cell_type": "code",
   "execution_count": null,
   "metadata": {},
   "outputs": [],
   "source": []
  },
  {
   "cell_type": "code",
   "execution_count": null,
   "metadata": {},
   "outputs": [],
   "source": []
  }
 ],
 "metadata": {
  "kernelspec": {
   "display_name": "Python 3",
   "language": "python",
   "name": "python3"
  },
  "language_info": {
   "codemirror_mode": {
    "name": "ipython",
    "version": 3
   },
   "file_extension": ".py",
   "mimetype": "text/x-python",
   "name": "python",
   "nbconvert_exporter": "python",
   "pygments_lexer": "ipython3",
   "version": "3.7.3"
  }
 },
 "nbformat": 4,
 "nbformat_minor": 2
}
