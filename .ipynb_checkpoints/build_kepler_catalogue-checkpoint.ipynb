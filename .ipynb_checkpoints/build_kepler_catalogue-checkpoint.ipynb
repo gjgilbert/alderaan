{
 "cells": [
  {
   "cell_type": "code",
   "execution_count": 1,
   "metadata": {},
   "outputs": [],
   "source": [
    "# IMPORT STATEMENTS AND PRELIMINARIES\n",
    "\n",
    "import numpy as np\n",
    "import csv\n",
    "import matplotlib.pyplot as plt\n",
    "from scipy import stats\n",
    "\n",
    "pi = np.pi\n",
    "\n",
    "MAINPATH = '/Users/research/projects/archeopteryx/'"
   ]
  },
  {
   "cell_type": "markdown",
   "metadata": {},
   "source": [
    "# Read in Kepler DR25"
   ]
  },
  {
   "cell_type": "code",
   "execution_count": 2,
   "metadata": {},
   "outputs": [],
   "source": [
    "# file names\n",
    "dr25_file = MAINPATH + 'Catalogues/kepler_dr25.csv'\n",
    "\n",
    "# convenience function to read in csv file\n",
    "def read_csv_file(filename):\n",
    "    data = []\n",
    "    with open(filename) as infile:\n",
    "        reader = csv.reader(infile)\n",
    "\n",
    "        for row in reader:\n",
    "            data.append(row)\n",
    "\n",
    "        if filename == dr25_file:\n",
    "            keys   = data[0]\n",
    "            values = data[1:]\n",
    "\n",
    "            \n",
    "        return keys, values\n",
    "\n",
    "\n",
    "# READ IN DR25 DATABASE -- https://exoplanetarchive.ipac.caltech.edu\n",
    "dr25_keys, dr25_data = read_csv_file(dr25_file)"
   ]
  },
  {
   "cell_type": "code",
   "execution_count": 3,
   "metadata": {},
   "outputs": [],
   "source": [
    "# convenience functions to pull data from csv files\n",
    "def getdr25(keyname,keys=dr25_keys,data=dr25_data):\n",
    "    '''\n",
    "    keyname = (string) of column definition\n",
    "    '''\n",
    "    kid = keys.index(keyname)\n",
    "    \n",
    "    outdata = []\n",
    "    for row in data:\n",
    "        outdata.append(row[kid])\n",
    "    \n",
    "    return outdata"
   ]
  },
  {
   "cell_type": "code",
   "execution_count": 4,
   "metadata": {},
   "outputs": [],
   "source": [
    "# read dr25 data into a dictionary\n",
    "dr25 = {}\n",
    "for k in dr25_keys:\n",
    "    dr25[k] = getdr25(k)"
   ]
  },
  {
   "cell_type": "code",
   "execution_count": 5,
   "metadata": {},
   "outputs": [
    {
     "name": "stdout",
     "output_type": "stream",
     "text": [
      "total number of queried DR25 objects = 9564\n"
     ]
    }
   ],
   "source": [
    "def check_lengths(data):\n",
    "    keys = data.keys()\n",
    "    k0   = list(keys)[0]\n",
    "    L0   = len(data[k0])\n",
    "    \n",
    "    for k in keys:\n",
    "        if len(data[k]) != L0:\n",
    "            raise ValueError('inconsistent array lengths')\n",
    "            \n",
    "    return None\n",
    "\n",
    "\n",
    "def convert_to_arrays(data):\n",
    "    keys = data.keys()\n",
    "    dnew = {}\n",
    "    \n",
    "    for k in keys:\n",
    "        dnew[k] = np.asarray(data[k])\n",
    "        \n",
    "    return dnew       \n",
    "\n",
    "\n",
    "\n",
    "# grab a reference key\n",
    "dr25_k0 = list(dr25.keys())[0]\n",
    "\n",
    "\n",
    "# convert to arrays\n",
    "dr25 = convert_to_arrays(dr25)\n",
    "print('total number of queried DR25 objects =', len(dr25[dr25_k0]))\n",
    "\n",
    "\n",
    "check_lengths(dr25)"
   ]
  },
  {
   "cell_type": "markdown",
   "metadata": {},
   "source": [
    "# Read in Gaia DR2"
   ]
  },
  {
   "cell_type": "code",
   "execution_count": 6,
   "metadata": {},
   "outputs": [],
   "source": [
    "gaiapath = MAINPATH + 'Catalogues/berger_2018_gaia_kepler_radii.txt'\n",
    "\n",
    "with open(gaiapath, \"r\") as infile:\n",
    "    raw_gaia_data = []\n",
    "    \n",
    "    for i, line in enumerate(infile):\n",
    "        if i >= 32:\n",
    "            raw_gaia_data.append(line.split())\n",
    "            \n",
    "raw_gaia_data = np.array(raw_gaia_data)"
   ]
  },
  {
   "cell_type": "code",
   "execution_count": 7,
   "metadata": {},
   "outputs": [],
   "source": [
    "gaia = {}\n",
    "\n",
    "gaia['kic']        = raw_gaia_data[:,0]\n",
    "gaia['gaia_id']    = raw_gaia_data[:,1]\n",
    "gaia['Teff']       = raw_gaia_data[:,2]\n",
    "gaia['Teff_err']   = raw_gaia_data[:,3]\n",
    "gaia['dist']       = raw_gaia_data[:,4]\n",
    "gaia['dist_err1']  = raw_gaia_data[:,5]\n",
    "gaia['dist_err2']  = raw_gaia_data[:,6]\n",
    "gaia['Rstar']      = raw_gaia_data[:,7]\n",
    "gaia['Rstar_err1'] = raw_gaia_data[:,8]\n",
    "gaia['Rstar_err2'] = raw_gaia_data[:,9]\n",
    "gaia['Av']         = raw_gaia_data[:,10]\n",
    "gaia['evol']       = raw_gaia_data[:,11]\n",
    "gaia['binary']     = raw_gaia_data[:,12]"
   ]
  },
  {
   "cell_type": "markdown",
   "metadata": {},
   "source": [
    "# Remove false-positives and low SNR objects"
   ]
  },
  {
   "cell_type": "code",
   "execution_count": 8,
   "metadata": {},
   "outputs": [
    {
     "name": "stdout",
     "output_type": "stream",
     "text": [
      "after removing false positives, DR25 objects = 4541\n"
     ]
    }
   ],
   "source": [
    "# remove false positives from DR25\n",
    "fp = dr25['koi_disposition'] == 'FALSE POSITIVE'\n",
    "fp += (dr25['koi_disposition'] != 'CONFIRMED')*(dr25['koi_pdisposition'] == 'FALSE POSITIVE')\n",
    "\n",
    "for k in dr25.keys():\n",
    "    dr25[k] = dr25[k][~fp]\n",
    "\n",
    "print('after removing false positives, DR25 objects =', len(dr25[dr25_k0]))"
   ]
  },
  {
   "cell_type": "code",
   "execution_count": 9,
   "metadata": {},
   "outputs": [
    {
     "name": "stdout",
     "output_type": "stream",
     "text": [
      "after cutting on SNR > 7.1, DR25 objects = 4341\n"
     ]
    }
   ],
   "source": [
    "# cut DR25 low signal-to-noise objects (SNR < 7.1)\n",
    "dr25_snr = dr25['koi_model_snr']\n",
    "dr25_snr[dr25_snr == ''] = 0\n",
    "dr25_snr = np.array(dr25_snr, dtype='float')\n",
    "\n",
    "for k in dr25.keys():\n",
    "    dr25[k] = dr25[k][dr25_snr >= 7.1]\n",
    "    \n",
    "print('after cutting on SNR > 7.1, DR25 objects =', len(dr25[dr25_k0]))"
   ]
  },
  {
   "cell_type": "code",
   "execution_count": 10,
   "metadata": {},
   "outputs": [
    {
     "data": {
      "text/plain": [
       "['kepid',\n",
       " 'kepoi_name',\n",
       " 'kepler_name',\n",
       " 'degree_ra',\n",
       " 'ra_err',\n",
       " 'ra_str',\n",
       " 'degree_dec',\n",
       " 'dec_err',\n",
       " 'dec_str',\n",
       " 'koi_gmag',\n",
       " 'koi_gmag_err',\n",
       " 'koi_rmag',\n",
       " 'koi_rmag_err',\n",
       " 'koi_imag',\n",
       " 'koi_imag_err',\n",
       " 'koi_zmag',\n",
       " 'koi_zmag_err',\n",
       " 'koi_jmag',\n",
       " 'koi_jmag_err',\n",
       " 'koi_hmag',\n",
       " 'koi_hmag_err',\n",
       " 'koi_kmag',\n",
       " 'koi_kmag_err',\n",
       " 'koi_kepmag',\n",
       " 'koi_kepmag_err',\n",
       " 'koi_delivname',\n",
       " 'koi_vet_stat',\n",
       " 'koi_quarters',\n",
       " 'koi_disposition',\n",
       " 'koi_pdisposition',\n",
       " 'koi_count',\n",
       " 'koi_num_transits',\n",
       " 'koi_max_sngle_ev',\n",
       " 'koi_max_mult_ev',\n",
       " 'koi_bin_oedp_sig',\n",
       " 'koi_limbdark_mod',\n",
       " 'koi_ldm_coeff4',\n",
       " 'koi_ldm_coeff3',\n",
       " 'koi_ldm_coeff2',\n",
       " 'koi_ldm_coeff1',\n",
       " 'koi_trans_mod',\n",
       " 'koi_model_snr',\n",
       " 'koi_model_dof',\n",
       " 'koi_model_chisq',\n",
       " 'koi_time0bk',\n",
       " 'koi_time0bk_err1',\n",
       " 'koi_time0bk_err2',\n",
       " 'koi_eccen',\n",
       " 'koi_eccen_err1',\n",
       " 'koi_eccen_err2',\n",
       " 'koi_longp',\n",
       " 'koi_longp_err1',\n",
       " 'koi_longp_err2',\n",
       " 'koi_prad',\n",
       " 'koi_prad_err1',\n",
       " 'koi_prad_err2',\n",
       " 'koi_sma',\n",
       " 'koi_sma_err1',\n",
       " 'koi_sma_err2',\n",
       " 'koi_impact',\n",
       " 'koi_impact_err1',\n",
       " 'koi_impact_err2',\n",
       " 'koi_duration',\n",
       " 'koi_duration_err1',\n",
       " 'koi_duration_err2',\n",
       " 'koi_ingress',\n",
       " 'koi_ingress_err1',\n",
       " 'koi_ingress_err2',\n",
       " 'koi_depth',\n",
       " 'koi_depth_err1',\n",
       " 'koi_depth_err2',\n",
       " 'koi_period',\n",
       " 'koi_period_err1',\n",
       " 'koi_period_err2',\n",
       " 'koi_ror',\n",
       " 'koi_ror_err1',\n",
       " 'koi_ror_err2',\n",
       " 'koi_dor',\n",
       " 'koi_dor_err1',\n",
       " 'koi_dor_err2',\n",
       " 'koi_incl',\n",
       " 'koi_incl_err1',\n",
       " 'koi_incl_err2',\n",
       " 'koi_teq',\n",
       " 'koi_teq_err1',\n",
       " 'koi_teq_err2',\n",
       " 'koi_steff',\n",
       " 'koi_steff_err1',\n",
       " 'koi_steff_err2',\n",
       " 'koi_slogg',\n",
       " 'koi_slogg_err1',\n",
       " 'koi_slogg_err2',\n",
       " 'koi_smet',\n",
       " 'koi_smet_err1',\n",
       " 'koi_smet_err2',\n",
       " 'koi_srad',\n",
       " 'koi_srad_err1',\n",
       " 'koi_srad_err2',\n",
       " 'koi_smass',\n",
       " 'koi_smass_err1',\n",
       " 'koi_smass_err2',\n",
       " 'koi_sage',\n",
       " 'koi_sage_err1',\n",
       " 'koi_sage_err2',\n",
       " 'koi_sparprov',\n",
       " 'koi_fwm_stat_sig',\n",
       " 'koi_fwm_sra',\n",
       " 'koi_fwm_sra_err',\n",
       " 'koi_fwm_sdec',\n",
       " 'koi_fwm_sdec_err',\n",
       " 'koi_fwm_srao',\n",
       " 'koi_fwm_srao_err',\n",
       " 'koi_fwm_sdeco',\n",
       " 'koi_fwm_sdeco_err',\n",
       " 'koi_fwm_prao',\n",
       " 'koi_fwm_prao_err',\n",
       " 'koi_fwm_pdeco',\n",
       " 'koi_fwm_pdeco_err',\n",
       " 'koi_dicco_mra',\n",
       " 'koi_dicco_mra_err',\n",
       " 'koi_dicco_mdec',\n",
       " 'koi_dicco_mdec_err',\n",
       " 'koi_dicco_msky',\n",
       " 'koi_dicco_msky_err',\n",
       " 'koi_dicco_fra',\n",
       " 'koi_dicco_fra_err',\n",
       " 'koi_dicco_fdec',\n",
       " 'koi_dicco_fdec_err',\n",
       " 'koi_dicco_fsky',\n",
       " 'koi_dicco_fsky_err',\n",
       " 'koi_dikco_mra',\n",
       " 'koi_dikco_mra_err',\n",
       " 'koi_dikco_mdec',\n",
       " 'koi_dikco_mdec_err',\n",
       " 'koi_dikco_msky',\n",
       " 'koi_dikco_msky_err',\n",
       " 'koi_dikco_fra',\n",
       " 'koi_dikco_fra_err',\n",
       " 'koi_dikco_fdec',\n",
       " 'koi_dikco_fdec_err',\n",
       " 'koi_dikco_fsky',\n",
       " 'koi_dikco_fsky_err',\n",
       " 'koi_comment',\n",
       " 'koi_vet_date',\n",
       " 'koi_tce_plnt_num',\n",
       " 'koi_tce_delivname',\n",
       " 'koi_datalink_dvs',\n",
       " 'koi_disp_prov',\n",
       " 'koi_parm_prov',\n",
       " 'koi_time0',\n",
       " 'koi_time0_err1',\n",
       " 'koi_time0_err2',\n",
       " 'koi_datalink_dvr',\n",
       " 'koi_fpflag_nt',\n",
       " 'koi_fpflag_ss',\n",
       " 'koi_fpflag_co',\n",
       " 'koi_fpflag_ec',\n",
       " 'koi_insol',\n",
       " 'koi_insol_err1',\n",
       " 'koi_insol_err2',\n",
       " 'koi_srho',\n",
       " 'koi_srho_err1',\n",
       " 'koi_srho_err2',\n",
       " 'koi_fittype',\n",
       " 'koi_score',\n",
       " 'kepoi']"
      ]
     },
     "execution_count": 10,
     "metadata": {},
     "output_type": "execute_result"
    }
   ],
   "source": [
    "dr25_keys"
   ]
  },
  {
   "cell_type": "markdown",
   "metadata": {},
   "source": [
    "# Initialize my catalog"
   ]
  },
  {
   "cell_type": "code",
   "execution_count": 11,
   "metadata": {},
   "outputs": [],
   "source": [
    "Nobj = len(dr25['kepid'])"
   ]
  },
  {
   "cell_type": "code",
   "execution_count": 13,
   "metadata": {},
   "outputs": [],
   "source": [
    "my_catalog = {}\n",
    "\n",
    "my_catalog['planet_name'] = dr25['kepoi_name']\n",
    "my_catalog['disposition'] = dr25['koi_disposition']\n",
    "\n",
    "my_catalog['koi_id']  = np.array(['K00000']*Nobj)\n",
    "my_catalog['kic_id']  = dr25['kepid']\n",
    "my_catalog['gaia_id'] = np.ones(Nobj, dtype=gaia['gaia_id'].dtype)\n",
    "\n",
    "my_catalog['npl'] = dr25['koi_count']\n",
    "my_catalog['kep_mag'] = np.array(dr25['koi_kepmag'], dtype='float').round(3)\n",
    "\n",
    "my_catalog['rstar'] = dr25['koi_srad']\n",
    "my_catalog['rstar_err1'] = dr25['koi_srad_err1']\n",
    "my_catalog['rstar_err2'] = dr25['koi_srad_err2']\n",
    "\n",
    "my_catalog['mstar'] = dr25['koi_smass']\n",
    "my_catalog['mstar_err1'] = dr25['koi_smass_err1']\n",
    "my_catalog['mstar_err2'] = dr25['koi_smass_err2']\n",
    "\n",
    "my_catalog['epoch'] = dr25['koi_time0']\n",
    "my_catalog['epoch_err1'] = dr25['koi_time0_err1']\n",
    "my_catalog['epoch_err2'] = dr25['koi_time0_err2']\n",
    "\n",
    "my_catalog['period'] = dr25['koi_period']\n",
    "my_catalog['period_err1'] = dr25['koi_period_err1']\n",
    "my_catalog['period_err2'] = dr25['koi_period_err2']\n",
    "\n",
    "my_catalog['depth'] = dr25['koi_depth']\n",
    "my_catalog['depth_err1'] = dr25['koi_depth_err1']\n",
    "my_catalog['depth_err2'] = dr25['koi_depth_err2']\n",
    "\n",
    "my_catalog['duration'] = dr25['koi_duration']\n",
    "my_catalog['duration_err1'] = dr25['koi_duration_err1']\n",
    "my_catalog['duration_err2'] = dr25['koi_duration_err2']"
   ]
  },
  {
   "cell_type": "code",
   "execution_count": 14,
   "metadata": {},
   "outputs": [],
   "source": [
    "# make KOI name for star\n",
    "for i, pname in enumerate(my_catalog['planet_name']):\n",
    "    my_catalog['koi_id'][i] = pname[:-3]"
   ]
  },
  {
   "cell_type": "code",
   "execution_count": 15,
   "metadata": {},
   "outputs": [
    {
     "name": "stderr",
     "output_type": "stream",
     "text": [
      "/Users/research/anaconda3/lib/python3.7/site-packages/ipykernel_launcher.py:3: FutureWarning: elementwise comparison failed; returning scalar instead, but in the future will perform elementwise comparison\n",
      "  This is separate from the ipykernel package so we can avoid doing imports until\n"
     ]
    }
   ],
   "source": [
    "# replace empty values with zeros\n",
    "for i, k in enumerate(my_catalog.keys()):\n",
    "    bad = (my_catalog[k] == '')\n",
    "    \n",
    "    my_catalog[k][bad] = 0"
   ]
  },
  {
   "cell_type": "code",
   "execution_count": 16,
   "metadata": {},
   "outputs": [
    {
     "data": {
      "text/plain": [
       "dict_keys(['planet_name', 'disposition', 'koi_id', 'kic_id', 'gaia_id', 'npl', 'kep_mag', 'rstar', 'rstar_err1', 'rstar_err2', 'mstar', 'mstar_err1', 'mstar_err2', 'epoch', 'epoch_err1', 'epoch_err2', 'period', 'period_err1', 'period_err2', 'depth', 'depth_err1', 'depth_err2', 'duration', 'duration_err1', 'duration_err2'])"
      ]
     },
     "execution_count": 16,
     "metadata": {},
     "output_type": "execute_result"
    }
   ],
   "source": [
    "my_catalog.keys()"
   ]
  },
  {
   "cell_type": "markdown",
   "metadata": {},
   "source": [
    "# Cross-match Kepler vs. Gaia and combine\n",
    "\n",
    "#### This section uses Berger+ 2018 which only includes stellar radii; the catalog from Berger+ 2020 will soon be available and that will also include stellar masses"
   ]
  },
  {
   "cell_type": "code",
   "execution_count": 17,
   "metadata": {},
   "outputs": [
    {
     "data": {
      "text/plain": [
       "(4341, 177911)"
      ]
     },
     "execution_count": 17,
     "metadata": {},
     "output_type": "execute_result"
    }
   ],
   "source": [
    "dr25_kic = np.array(dr25['kepid'], dtype='int')\n",
    "gaia_kic = np.array(gaia['kic'], dtype='int')\n",
    "\n",
    "len(dr25_kic), len(gaia_kic)"
   ]
  },
  {
   "cell_type": "code",
   "execution_count": 18,
   "metadata": {},
   "outputs": [],
   "source": [
    "# update Kepler stellar radii to Gaia stellar radii where available\n",
    "use = np.isin(dr25_kic, gaia_kic)\n",
    "\n",
    "for i, kic in enumerate(dr25_kic):\n",
    "    if use[i]:\n",
    "        my_catalog['gaia_id'][i] = np.squeeze(gaia['gaia_id'][gaia_kic == kic])\n",
    "\n",
    "        my_catalog['rstar'][i] = np.squeeze(gaia['Rstar'][gaia_kic == kic])\n",
    "        my_catalog['rstar_err1'][i] = np.squeeze(gaia['Rstar_err1'][gaia_kic == kic])\n",
    "        my_catalog['rstar_err2'][i] = np.squeeze(gaia['Rstar_err2'][gaia_kic == kic])\n",
    "        \n",
    "\n",
    "# convert radius and mass to floats\n",
    "my_catalog['rstar'] = np.array(my_catalog['rstar'], dtype='float')\n",
    "my_catalog['rstar_err1'] = np.array(my_catalog['rstar_err1'], dtype='float')\n",
    "my_catalog['rstar_err2'] = np.array(my_catalog['rstar_err2'], dtype='float')\n",
    "\n",
    "my_catalog['mstar'] = np.array(my_catalog['mstar'], dtype='float')\n",
    "my_catalog['mstar_err1'] = np.array(my_catalog['mstar_err1'], dtype='float')\n",
    "my_catalog['mstar_err2'] = np.array(my_catalog['mstar_err2'], dtype='float')"
   ]
  },
  {
   "cell_type": "code",
   "execution_count": 19,
   "metadata": {},
   "outputs": [],
   "source": [
    "def stellar_R2M(R):\n",
    "    \"\"\"\n",
    "    Calculate stellar mass from radius using a broken power law\n",
    "    All units are assumed to be [R_sun, M_sun]\n",
    "    \n",
    "    Parameters\n",
    "    ----------\n",
    "    R : float, stellar radius [R_sun]\n",
    "    \n",
    "    Returns\n",
    "    -------\n",
    "    M : float, stellar mass [M_sun]\n",
    "    \"\"\"\n",
    "    if R < 1:\n",
    "        alpha = 0.8\n",
    "    elif R >= 1:\n",
    "        alpha = 0.57\n",
    "        \n",
    "    return R**(1/alpha)"
   ]
  },
  {
   "cell_type": "code",
   "execution_count": 20,
   "metadata": {},
   "outputs": [],
   "source": [
    "# compute stellar mass from a broken power law (for now)\n",
    "for i, rs in enumerate(my_catalog['rstar']):\n",
    "    my_catalog['mstar'][i] = stellar_R2M(rs).round(3)\n",
    "        \n",
    "    mplus = stellar_R2M(rs + my_catalog['rstar_err1'][i]).round(3)\n",
    "    mminus = stellar_R2M(rs - my_catalog['rstar_err2'][i]).round(3)\n",
    "        \n",
    "    my_catalog['mstar_err1'][i] = mplus - my_catalog['mstar'][i]\n",
    "    my_catalog['mstar_err2'][i] = my_catalog['mstar'][i] - mminus"
   ]
  },
  {
   "cell_type": "markdown",
   "metadata": {},
   "source": [
    "# Remove objects with unreliable error estimates"
   ]
  },
  {
   "cell_type": "code",
   "execution_count": 21,
   "metadata": {},
   "outputs": [],
   "source": [
    "bad  = (my_catalog['mstar_err2'] < 0) + (my_catalog['rstar_err2'] < 0)\n",
    "bad += (my_catalog['mstar_err1'] > 2*my_catalog['mstar']) + (my_catalog['rstar_err1'] > 2*my_catalog['rstar'])\n",
    "\n",
    "for k in my_catalog.keys():\n",
    "    my_catalog[k] = my_catalog[k][~bad]"
   ]
  },
  {
   "cell_type": "markdown",
   "metadata": {},
   "source": [
    "# Adjust number of planets in each system"
   ]
  },
  {
   "cell_type": "code",
   "execution_count": 22,
   "metadata": {},
   "outputs": [],
   "source": [
    "# adjust number of planets in each system to reflect removals \n",
    "unique_systems = np.unique(my_catalog['koi_id'])\n",
    "\n",
    "my_catalog['npl'] = np.zeros(len(my_catalog['koi_id']), dtype='int')\n",
    "\n",
    "for us in unique_systems:\n",
    "    new_npl = np.sum(my_catalog['koi_id'] == us)\n",
    "    my_catalog['npl'][my_catalog['koi_id'] == us] = new_npl"
   ]
  },
  {
   "cell_type": "code",
   "execution_count": 23,
   "metadata": {},
   "outputs": [
    {
     "data": {
      "text/plain": [
       "(array([2367.,  824.,  426.,  192.,   95.,   18.,    7.,    0.]),\n",
       " array([1, 2, 3, 4, 5, 6, 7, 8, 9]),\n",
       " <a list of 8 Patch objects>)"
      ]
     },
     "execution_count": 23,
     "metadata": {},
     "output_type": "execute_result"
    },
    {
     "data": {
      "image/png": "[encoded data removed]",
      "text/plain": [
       "<Figure size 432x288 with 1 Axes>"
      ]
     },
     "metadata": {
      "needs_background": "light"
     },
     "output_type": "display_data"
    }
   ],
   "source": [
    "plt.hist(np.array(my_catalog['npl'], dtype='float'), bins=np.arange(1,10), color='cornflowerblue', edgecolor='k')"
   ]
  },
  {
   "cell_type": "markdown",
   "metadata": {},
   "source": [
    "# Read out catalogue"
   ]
  },
  {
   "cell_type": "code",
   "execution_count": 24,
   "metadata": {},
   "outputs": [],
   "source": [
    "WRITENEW = True\n",
    "if WRITENEW:\n",
    "    filepath = MAINPATH + 'Catalogues/clean_kepler_catalog.csv'\n",
    "\n",
    "    with open(filepath, \"w\") as outfile:\n",
    "        writer = csv.writer(outfile)\n",
    "        writer.writerow(my_catalog.keys())\n",
    "        writer.writerows(zip(*my_catalog.values()))"
   ]
  },
  {
   "cell_type": "code",
   "execution_count": null,
   "metadata": {},
   "outputs": [],
   "source": []
  }
 ],
 "metadata": {
  "kernelspec": {
   "display_name": "Python 3",
   "language": "python",
   "name": "python3"
  },
  "language_info": {
   "codemirror_mode": {
    "name": "ipython",
    "version": 3
   },
   "file_extension": ".py",
   "mimetype": "text/x-python",
   "name": "python",
   "nbconvert_exporter": "python",
   "pygments_lexer": "ipython3",
   "version": "3.7.3"
  }
 },
 "nbformat": 4,
 "nbformat_minor": 2
}
