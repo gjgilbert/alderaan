{
 "cells": [
  {
   "cell_type": "code",
   "execution_count": 1,
   "metadata": {},
   "outputs": [],
   "source": [
    "import numpy as np\n",
    "import matplotlib.pyplot as plt\n",
    "\n",
    "import exoplanet as exo\n",
    "import pymc3 as pm\n",
    "import theano.tensor as T\n",
    "import lightkurve as lk\n",
    "\n",
    "import sys\n",
    "import os\n",
    "import csv\n",
    "\n",
    "from scipy import stats\n",
    "\n",
    "from alderaan.constants import *\n",
    "from alderaan import noise\n",
    "from alderaan.utils import *\n",
    "\n",
    "pi = np.pi"
   ]
  },
  {
   "cell_type": "markdown",
   "metadata": {},
   "source": [
    "# Transit depth"
   ]
  },
  {
   "cell_type": "code",
   "execution_count": 2,
   "metadata": {},
   "outputs": [
    {
     "data": {
      "image/png": "[encoded data removed]",
      "text/plain": [
       "<Figure size 432x288 with 1 Axes>"
      ]
     },
     "metadata": {
      "needs_background": "light"
     },
     "output_type": "display_data"
    }
   ],
   "source": [
    "N = 50\n",
    "\n",
    "p = 0.05\n",
    "b = np.linspace(1-2*p, 1+2*p, N)\n",
    "\n",
    "d = get_transit_depth(p, b)\n",
    "\n",
    "plt.figure()\n",
    "plt.plot(b, d)\n",
    "plt.show()"
   ]
  },
  {
   "cell_type": "code",
   "execution_count": null,
   "metadata": {},
   "outputs": [],
   "source": []
  },
  {
   "cell_type": "code",
   "execution_count": null,
   "metadata": {},
   "outputs": [],
   "source": []
  },
  {
   "cell_type": "markdown",
   "metadata": {},
   "source": [
    "# Prior distributions"
   ]
  },
  {
   "cell_type": "code",
   "execution_count": 3,
   "metadata": {},
   "outputs": [],
   "source": [
    "def gamma(ecc, omega):\n",
    "    num = 1 + ecc*np.sin(omega)\n",
    "    den = np.sqrt(1-ecc**2)\n",
    "    return (num/den)#**3"
   ]
  },
  {
   "cell_type": "code",
   "execution_count": 4,
   "metadata": {},
   "outputs": [
    {
     "data": {
      "image/png": "[encoded data removed]",
      "text/plain": [
       "<Figure size 432x288 with 1 Axes>"
      ]
     },
     "metadata": {
      "needs_background": "light"
     },
     "output_type": "display_data"
    }
   ],
   "source": [
    "N = 1000000\n",
    "\n",
    "edraw = np.random.uniform(0, 1, size=N)**2\n",
    "wdraw = np.random.uniform(0, 2*pi, size=N)\n",
    "gdraw = gamma(edraw, wdraw)\n",
    "\n",
    "plt.figure()\n",
    "plt.hist(np.log(gdraw), bins=np.linspace(-4,4,33), density=True)\n",
    "plt.show()"
   ]
  },
  {
   "cell_type": "code",
   "execution_count": 5,
   "metadata": {},
   "outputs": [
    {
     "data": {
      "text/plain": [
       "[<matplotlib.lines.Line2D at 0x7fa655c20518>]"
      ]
     },
     "execution_count": 5,
     "metadata": {},
     "output_type": "execute_result"
    },
    {
     "data": {
      "image/png": "[encoded data removed]",
      "text/plain": [
       "<Figure size 432x288 with 1 Axes>"
      ]
     },
     "metadata": {
      "needs_background": "light"
     },
     "output_type": "display_data"
    }
   ],
   "source": [
    "mu = np.mean(np.log(gdraw))\n",
    "sd = np.std(np.log(gdraw))/2\n",
    "\n",
    "x = np.linspace(-4,4,N)\n",
    "y = stats.cauchy.pdf(x, loc=mu, scale=sd)\n",
    "\n",
    "plt.hist(np.log(gdraw), bins=np.linspace(-4,4,33), density=True)\n",
    "plt.plot(x, y)"
   ]
  },
  {
   "cell_type": "code",
   "execution_count": null,
   "metadata": {},
   "outputs": [],
   "source": []
  },
  {
   "cell_type": "code",
   "execution_count": null,
   "metadata": {},
   "outputs": [],
   "source": [
    "N = 100000\n",
    "loc = 0\n",
    "scale = 1\n",
    "\n",
    "nlogb = stats.expon.rvs(loc=loc, scale=scale, size=N)\n",
    "b = np.exp(-nlogb)\n",
    "\n",
    "plt.figure()\n",
    "plt.hist(nlogb, edgecolor=\"k\", density=True)\n",
    "plt.show()\n",
    "\n",
    "plt.figure()\n",
    "plt.hist(b, edgecolor=\"k\", density=True, color=\"teal\")\n",
    "plt.show()"
   ]
  },
  {
   "cell_type": "markdown",
   "metadata": {},
   "source": [
    "# Limb darkening pseudo-code"
   ]
  },
  {
   "cell_type": "code",
   "execution_count": null,
   "metadata": {},
   "outputs": [],
   "source": [
    "for koi in all_kois_list:\n",
    "    # load observables from csv file\n",
    "    observables = load(gaia_constrained_stellar_parameters, target=koi)\n",
    "    \n",
    "    # relevant parameters and errors: T, logg, [Fe/H]\n",
    "    T, T_err, logg, logg_err, z, z_err = observables\n",
    "    \n",
    "    # empty lists to hold computed quadratic limb darkening parameters\n",
    "    u1_samples = []\n",
    "    u2_samples = []\n",
    "    \n",
    "    # draw N=250 probabilistic samples from Gaussian distributions\n",
    "    for i in range(250):\n",
    "        t_ = random.normal(mu=T, sigma=T_err)\n",
    "        g_ = random.normal(mu=logg, sigma=logg_err)\n",
    "        z_ = random.normal(mu=z, sigma=z_err)\n",
    "        \n",
    "        u1, u2 = EXOFAST.compute_limb_darkening(t_, g_, z_)\n",
    "        \n",
    "        u1_samples.append(u1)\n",
    "        u2_samples.append(u2)"
   ]
  },
  {
   "cell_type": "code",
   "execution_count": null,
   "metadata": {},
   "outputs": [],
   "source": []
  },
  {
   "cell_type": "markdown",
   "metadata": {},
   "source": [
    "# Accurate transit duration equations"
   ]
  },
  {
   "cell_type": "code",
   "execution_count": null,
   "metadata": {},
   "outputs": [],
   "source": [
    "Ms   = 0.92\n",
    "Rs   = 1.04\n",
    "P    = np.array([10.3, 13.0, 22.7, 32.0, 46.7])\n",
    "rprs = np.array([1.84, 2.88, 3.2, 4.12, 2.52])/RSRE\n",
    "b    = np.array([0.02, 0.00, 0.02, 0.69, 0.22])\n",
    "sma  = get_sma(P, Ms)\n",
    "\n",
    "\n",
    "    \n",
    "dur_tot = get_dur_tot(P, rprs*Rs, Rs, b, sma)\n",
    "dur_full = get_dur_full(P, rprs*Rs, Rs, b, sma)\n",
    "tau_ingress = get_ingress_duration(P, rprs*Rs, Rs, b, sma)\n",
    "\n",
    "print(\"T14 (hr):\\t\", dur_tot.round(3)*24)\n",
    "print(\"T23 (hr):\\t\", dur_full.round(3)*24)\n",
    "print(\"t_ingress (min):\\t\", tau_ingress.round(3)*24*60)\n",
    "\n",
    "print(\"\")\n",
    "print((tau_ingress/dur_tot).round(3))"
   ]
  },
  {
   "cell_type": "markdown",
   "metadata": {},
   "source": [
    "# Kepler stellar table CDPP values"
   ]
  },
  {
   "cell_type": "code",
   "execution_count": null,
   "metadata": {},
   "outputs": [],
   "source": [
    "MAINPATH = \"/Users/research/projects/alderaan/\"\n",
    "\n",
    "temp = []\n",
    "\n",
    "with open(MAINPATH + \"Catalogs/keplerstellar_cdpp.txt\", \"r\") as file:\n",
    "    temp = [line.rstrip('\\n').split(\",\") for line in file]"
   ]
  },
  {
   "cell_type": "code",
   "execution_count": null,
   "metadata": {},
   "outputs": [],
   "source": [
    "keys = temp[0]\n",
    "vals = temp[1:]\n",
    "\n",
    "data = {}\n",
    "\n",
    "for i, k in enumerate(keys):\n",
    "    data[k] = []\n",
    "    \n",
    "    for j, v in enumerate(vals):\n",
    "        data[k].append(v[i])\n",
    "\n",
    "for k in data.keys():\n",
    "    data[k] = np.array(data[k])\n",
    "    \n",
    "data[\"cdpp03\"] = data.pop(\"rrmscdpp03p0\")\n",
    "data[\"cdpp06\"] = data.pop(\"rrmscdpp06p0\")\n",
    "data[\"cdpp09\"] = data.pop(\"rrmscdpp09p0\")\n",
    "data[\"cdpp12\"] = data.pop(\"rrmscdpp12p0\")\n",
    "data[\"cdpp15\"] = data.pop(\"rrmscdpp15p0\")"
   ]
  },
  {
   "cell_type": "code",
   "execution_count": null,
   "metadata": {},
   "outputs": [],
   "source": [
    "for k in data.keys():\n",
    "    empty = data[k] == \"\"\n",
    "    \n",
    "    data[k][empty] = \"-99\"\n",
    "    \n",
    "    try:\n",
    "        data[k] = np.array(data[k], dtype=\"float\")\n",
    "        data[k][empty] = np.nan\n",
    "    except:\n",
    "        pass\n",
    "\n",
    "data[\"kepid\"] = np.array(data[\"kepid\"], dtype=\"int\")"
   ]
  },
  {
   "cell_type": "code",
   "execution_count": null,
   "metadata": {},
   "outputs": [],
   "source": [
    "KIC = 6462863\n",
    "\n",
    "use = np.array(data[\"kepid\"], dtype=\"int\") == 6462863\n",
    "\n",
    "c03 = np.nanmean(data[\"cdpp03\"][use])\n",
    "c06 = np.nanmean(data[\"cdpp06\"][use])\n",
    "c09 = np.nanmean(data[\"cdpp09\"][use])\n",
    "c12 = np.nanmean(data[\"cdpp12\"][use])\n",
    "c15 = np.nanmean(data[\"cdpp15\"][use])\n",
    "\n",
    "cdpp_dur = np.array([3, 6, 9, 12, 15], dtype=\"float\")\n",
    "cdpp_rms = np.array([c03, c06, c09, c12, c15], dtype=\"float\")"
   ]
  },
  {
   "cell_type": "code",
   "execution_count": null,
   "metadata": {},
   "outputs": [],
   "source": [
    "plt.figure()\n",
    "plt.plot(cdpp_dur, cdpp_rms, \"ro\")\n",
    "plt.show()"
   ]
  },
  {
   "cell_type": "code",
   "execution_count": null,
   "metadata": {},
   "outputs": [],
   "source": []
  },
  {
   "cell_type": "markdown",
   "metadata": {},
   "source": [
    "# Checking KeplerLightCurve quality bitmask"
   ]
  },
  {
   "cell_type": "code",
   "execution_count": null,
   "metadata": {},
   "outputs": [],
   "source": [
    "lk.KeplerQualityFlags.DEFAULT_BITMASK"
   ]
  },
  {
   "cell_type": "code",
   "execution_count": null,
   "metadata": {},
   "outputs": [],
   "source": [
    "lk.KeplerQualityFlags.decode(1130799)"
   ]
  },
  {
   "cell_type": "markdown",
   "metadata": {},
   "source": [
    "# TTV orbits with user-specified period"
   ]
  },
  {
   "cell_type": "code",
   "execution_count": null,
   "metadata": {},
   "outputs": [],
   "source": [
    "tmin = 0.\n",
    "tmax = 100.\n",
    "\n",
    "period = 17.1\n",
    "epoch  = 5.3\n",
    "rprs   = 0.05\n",
    "\n",
    "transit_times = np.arange(epoch,tmax,period)\n",
    "transit_times += 0.001*period*np.random.normal(size=len(transit_times))\n",
    "\n",
    "transit_inds = np.arange(0,len(transit_times), dtype=\"int\")\n",
    "\n",
    "lsq_per, lsq_t0 = np.polyfit(transit_inds, transit_times, 1)\n",
    "\n",
    "ephemeris = np.polyval([lsq_per, lsq_t0], transit_inds)\n",
    "\n",
    "\n",
    "plt.figure(figsize=(12,4))\n",
    "plt.plot(ephemeris, (transit_times-ephemeris)*24*60, \"ko\")\n",
    "plt.show()\n",
    "\n",
    "omc_rms_amp = np.std((transit_times-ephemeris))"
   ]
  },
  {
   "cell_type": "code",
   "execution_count": null,
   "metadata": {},
   "outputs": [],
   "source": [
    "noise_ppm = 345\n",
    "\n",
    "t_ = np.arange(tmin,tmax,lcit)\n",
    "f_ = np.ones_like(t_) + noise_ppm*1e-6*np.random.normal(size=len(t_))\n",
    "\n",
    "\n",
    "U1, U2 = [0.4, 0.2]\n",
    "\n",
    "exoSLC = exo.StarryLightCurve([U1,U2])\n",
    "orbit = exo.orbits.TTVOrbit(transit_times=[transit_times], transit_inds=[transit_inds])\n",
    "\n",
    "light_curves = exoSLC.get_light_curve(orbit=orbit, r=rprs, t=t_, oversample=15)\n",
    "model_flux = 1.0 + pm.math.sum(light_curves, axis=-1).eval()\n",
    "\n",
    "f_ *= model_flux\n",
    "\n",
    "\n",
    "plt.figure(figsize=(20,4))\n",
    "plt.plot(t_, f_, \"k\")\n",
    "plt.plot(t_, model_flux, \"r\")\n",
    "plt.show()"
   ]
  },
  {
   "cell_type": "code",
   "execution_count": null,
   "metadata": {},
   "outputs": [],
   "source": [
    "with pm.Model() as model:\n",
    "    # stella parameters\n",
    "    # stellar parameters (limb darkening using Kipping 2013)\n",
    "    u = exo.distributions.QuadLimbDark('u')\n",
    "\n",
    "    Rstar = pm.Normal(\"Rstar\", mu=1.0, sd=0.1)\n",
    "    Mstar = pm.Normal(\"Mstar\", mu=1.0, sd=0.1)\n",
    "    \n",
    "    # planetary parameters (impact parameter using Espinoza 2018)\n",
    "    logr = pm.Uniform('logr', lower=np.log(0.0003), upper=np.log(0.3), testval=np.log(rprs))\n",
    "    rp   = pm.Deterministic('rp', T.exp(logr))\n",
    "    b    = exo.distributions.ImpactParameter('b', ror=rp/Rstar)\n",
    "    \n",
    "    \n",
    "    # nuissance parameter\n",
    "    flux0 = pm.Normal(\"flux0\", mu=np.median(f_), sd=np.std(f_))\n",
    "    logvar = pm.Normal(\"logvar\", mu=0, sd=10, testval=np.log(np.var(f_)))\n",
    "    \n",
    "    \n",
    "    # transit times\n",
    "    tt_offset = pm.Normal(\"tt_offset\", mu=0, sd=1, shape=len(transit_times), \n",
    "                          testval=10*omc_rms_amp*T.ones(len(transit_times)))\n",
    "    tts = pm.Deterministic('tts', ephemeris+tt_offset)\n",
    "    \n",
    "    # set up stellar model and planetary orbit\n",
    "    exoSLC = exo.StarryLightCurve(u)\n",
    "    orbit  = exo.orbits.TTVOrbit(transit_times=[tts], transit_inds=[transit_inds], \n",
    "                                 b=b, r_star=Rstar, m_star=Mstar, period=[period])\n",
    "    \n",
    "\n",
    "\n",
    "    light_curves = exoSLC.get_light_curve(orbit=orbit, r=rp, t=t_, oversample=15)\n",
    "    model_flux = pm.Deterministic(\"model_flux\", flux0 + pm.math.sum(light_curves, axis=-1))\n",
    "    \n",
    "    obs = pm.Normal(\"obs\", mu=model_flux, sd=T.ones(len(f_))*T.exp(logvar), observed=f_)"
   ]
  },
  {
   "cell_type": "code",
   "execution_count": null,
   "metadata": {},
   "outputs": [],
   "source": [
    "with model:\n",
    "    map_soln = exo.optimize(start=model.test_point, vars=[flux0, logvar])\n",
    "    map_soln = exo.optimize(start=map_soln, vars=[b])\n",
    "    map_soln = exo.optimize(start=map_soln, vars=[u, Mstar])\n",
    "    map_soln = exo.optimize(start=map_soln, vars=[tt_offset])\n",
    "    map_soln = exo.optimize(start=map_soln)\n",
    "    \n",
    "\n",
    "plt.figure(figsize=(20,4))\n",
    "plt.plot(t_, f_, \"k\")\n",
    "plt.plot(t_, map_soln[\"model_flux\"], \"orange\")\n",
    "plt.show()"
   ]
  },
  {
   "cell_type": "code",
   "execution_count": null,
   "metadata": {},
   "outputs": [],
   "source": [
    "plt.plot(map_soln[\"tts\"] - ephemeris, \"ko\")"
   ]
  },
  {
   "cell_type": "code",
   "execution_count": null,
   "metadata": {},
   "outputs": [],
   "source": [
    "transit_times"
   ]
  },
  {
   "cell_type": "code",
   "execution_count": null,
   "metadata": {},
   "outputs": [],
   "source": []
  }
 ],
 "metadata": {
  "kernelspec": {
   "display_name": "Python 3",
   "language": "python",
   "name": "python3"
  },
  "language_info": {
   "codemirror_mode": {
    "name": "ipython",
    "version": 3
   },
   "file_extension": ".py",
   "mimetype": "text/x-python",
   "name": "python",
   "nbconvert_exporter": "python",
   "pygments_lexer": "ipython3",
   "version": "3.7.3"
  }
 },
 "nbformat": 4,
 "nbformat_minor": 2
}
