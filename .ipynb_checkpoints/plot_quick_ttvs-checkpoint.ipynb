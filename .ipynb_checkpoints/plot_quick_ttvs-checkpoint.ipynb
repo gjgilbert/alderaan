{
 "cells": [
  {
   "cell_type": "markdown",
   "metadata": {},
   "source": [
    "# Plot Quick TTVs"
   ]
  },
  {
   "cell_type": "code",
   "execution_count": 1,
   "metadata": {},
   "outputs": [],
   "source": [
    "import numpy as np\n",
    "import matplotlib.pyplot as plt\n",
    "from   astropy.io import fits as pyfits\n",
    "\n",
    "import alderaan.io as io"
   ]
  },
  {
   "cell_type": "markdown",
   "metadata": {},
   "source": [
    "# Set paths"
   ]
  },
  {
   "cell_type": "code",
   "execution_count": 2,
   "metadata": {},
   "outputs": [],
   "source": [
    "# select mission, target, and paths\n",
    "MISSION = \"Simulated\"\n",
    "TARGET  = \"S00430\"\n",
    "PRIMARY_DIR  = '/Users/research/projects/alderaan/'"
   ]
  },
  {
   "cell_type": "code",
   "execution_count": 3,
   "metadata": {},
   "outputs": [],
   "source": [
    "if MISSION == \"Kepler\":\n",
    "    CSV_FILE = PRIMARY_DIR + \"Catalogs/cumulative_koi_catalog.csv\"\n",
    "    \n",
    "if MISSION == \"Simulated\":\n",
    "    CSV_FILE = PRIMARY_DIR + \"Catalogs/simulated_catalog.csv\""
   ]
  },
  {
   "cell_type": "code",
   "execution_count": 4,
   "metadata": {},
   "outputs": [],
   "source": [
    "QUICK_TTV_DIR = PRIMARY_DIR + 'QuickTTVs/' + TARGET + '/'\n",
    "\n",
    "if MISSION == \"Simulated\":\n",
    "    TRUE_TTV_DIR = PRIMARY_DIR + 'Simulations/TTVs/'\n",
    "else:\n",
    "    TRUE_TTV_DIR = None"
   ]
  },
  {
   "cell_type": "markdown",
   "metadata": {},
   "source": [
    "# Read in data from CSV file"
   ]
  },
  {
   "cell_type": "code",
   "execution_count": 5,
   "metadata": {},
   "outputs": [
    {
     "name": "stdout",
     "output_type": "stream",
     "text": [
      "Reading in data from csv file\n"
     ]
    }
   ],
   "source": [
    "# Read in the data from csv file\n",
    "print('Reading in data from csv file')\n",
    "\n",
    "# read in a csv file containing info on targets\n",
    "csv_keys, csv_values = io.read_csv_file(CSV_FILE)\n",
    "\n",
    "# put these csv data into a dictionary\n",
    "target_dict = {}\n",
    "for k in csv_keys: \n",
    "    target_dict[k] = io.get_csv_data(k, csv_keys, csv_values)\n",
    "\n",
    "    \n",
    "if MISSION == 'Kepler':\n",
    "    KOI_ID = TARGET\n",
    "    \n",
    "elif MISSION == 'Simulated':\n",
    "    KOI_ID = \"K\" + TARGET[1:]\n",
    "\n",
    "else:\n",
    "    raise ValueError(\"MISSION must be 'Kepler' or 'Simulated'\")\n",
    "    \n",
    "    \n",
    "# pull relevant quantities and establish GLOBAL variables\n",
    "use = np.array(target_dict['koi_id']) == KOI_ID\n",
    "\n",
    "KIC = np.array(target_dict['kic_id'], dtype='int')[use]\n",
    "NPL = np.array(target_dict['npl'], dtype='int')[use]"
   ]
  },
  {
   "cell_type": "code",
   "execution_count": 6,
   "metadata": {},
   "outputs": [],
   "source": [
    "# do some consistency checks\n",
    "if all(k == KIC[0] for k in KIC): KIC = KIC[0]\n",
    "else: raise ValueError('There are inconsistencies with KIC in the csv input file')\n",
    "\n",
    "if all(n == NPL[0] for n in NPL): NPL = NPL[0]\n",
    "else: raise ValueError('There are inconsistencies with NPL in the csv input file')"
   ]
  },
  {
   "cell_type": "markdown",
   "metadata": {},
   "source": [
    "# Read in and plot Quick TTVs"
   ]
  },
  {
   "cell_type": "code",
   "execution_count": 7,
   "metadata": {},
   "outputs": [],
   "source": [
    "# Read in QuickTTV estimates and calculate linear ephemeris for each planet\n",
    "EPOCHS  = np.zeros(NPL)\n",
    "PERIODS = np.zeros(NPL)\n",
    "\n",
    "transit_inds = []\n",
    "indep_transit_times = []\n",
    "indep_ephemeris = []\n",
    "\n",
    "\n",
    "for npl in range(NPL):\n",
    "    # read in predetermined transit times\n",
    "    fname_in = QUICK_TTV_DIR + TARGET + '_{:02d}'.format(npl) + '_quick_ttvs.txt'\n",
    "    data_in  = np.genfromtxt(fname_in)\n",
    "    \n",
    "    transit_inds.append(data_in[:,0])\n",
    "    indep_transit_times.append(data_in[:,1])\n",
    "    \n",
    "    # do a quick fit to get a linear ephemeris\n",
    "    pfit = np.polyfit(transit_inds[npl], indep_transit_times[npl], 1)\n",
    "    \n",
    "    indep_ephemeris.append(np.polyval(pfit, transit_inds[npl]))\n",
    "    \n",
    "    EPOCHS[npl] = pfit[1]\n",
    "    PERIODS[npl] = pfit[0]\n",
    "    \n",
    "    \n",
    "# make sure transit_inds are zero-indexed\n",
    "for npl in range(NPL):\n",
    "    transit_inds[npl] = np.array(transit_inds[npl] - transit_inds[npl][0], dtype=\"int\")"
   ]
  },
  {
   "cell_type": "code",
   "execution_count": 8,
   "metadata": {},
   "outputs": [
    {
     "data": {
      "image/png": "[encoded data removed]",
      "text/plain": [
       "<Figure size 864x576 with 2 Axes>"
      ]
     },
     "metadata": {
      "needs_background": "light"
     },
     "output_type": "display_data"
    }
   ],
   "source": [
    "fig, axes = plt.subplots(NPL, figsize=(12,8))\n",
    "\n",
    "for npl in range(NPL):\n",
    "    xtime = indep_ephemeris[npl]\n",
    "    yomc  = (indep_transit_times[npl] - indep_ephemeris[npl])*24*60\n",
    "    \n",
    "    axes[npl].plot(xtime, yomc, '.', c='C{0}'.format(npl))\n",
    "    axes[npl].set_ylabel('O-C [min]', fontsize=20)\n",
    "axes[NPL-1].set_xlabel('Time [BJKD]', fontsize=20)\n",
    "plt.show()"
   ]
  },
  {
   "cell_type": "markdown",
   "metadata": {},
   "source": [
    "# For simulated data, read in and plot \"true\" TTVs"
   ]
  },
  {
   "cell_type": "code",
   "execution_count": 9,
   "metadata": {},
   "outputs": [],
   "source": [
    "# Read in QuickTTV estimates and calculate linear ephemeris for each planet\n",
    "EPOCHS  = np.zeros(NPL)\n",
    "PERIODS = np.zeros(NPL)\n",
    "\n",
    "true_transit_inds = []\n",
    "true_transit_times = []\n",
    "true_ephemeris = []\n",
    "\n",
    "\n",
    "for npl in range(NPL):\n",
    "    # read in predetermined transit times\n",
    "    fname_in = TRUE_TTV_DIR + TARGET + '_{:02d}'.format(npl) + '_sim_ttvs.txt'\n",
    "    data_in  = np.genfromtxt(fname_in)\n",
    "    \n",
    "    true_transit_inds.append(data_in[:,0])\n",
    "    true_transit_times.append(data_in[:,1])\n",
    "    \n",
    "    # do a quick fit to get a linear ephemeris\n",
    "    pfit = np.polyfit(true_transit_inds[npl], true_transit_times[npl], 1)\n",
    "    \n",
    "    true_ephemeris.append(np.polyval(pfit, true_transit_inds[npl]))\n",
    "    \n",
    "    EPOCHS[npl] = pfit[1]\n",
    "    PERIODS[npl] = pfit[0]\n",
    "    \n",
    "    \n",
    "# make sure transit_inds are zero-indexed\n",
    "for npl in range(NPL):\n",
    "    true_transit_inds[npl] = np.array(true_transit_inds[npl] - true_transit_inds[npl][0], dtype=\"int\")"
   ]
  },
  {
   "cell_type": "code",
   "execution_count": 10,
   "metadata": {},
   "outputs": [
    {
     "data": {
      "image/png": "[encoded data removed]",
      "text/plain": [
       "<Figure size 864x576 with 2 Axes>"
      ]
     },
     "metadata": {
      "needs_background": "light"
     },
     "output_type": "display_data"
    }
   ],
   "source": [
    "fig, axes = plt.subplots(NPL, figsize=(12,8))\n",
    "\n",
    "for npl in range(NPL):\n",
    "    xtime = true_ephemeris[npl]\n",
    "    yomc  = (true_transit_times[npl] - true_ephemeris[npl])*24*60\n",
    "    \n",
    "    axes[npl].plot(xtime, yomc, '.', c='C{0}'.format(npl))\n",
    "    axes[npl].set_ylabel('O-C [min]', fontsize=20)\n",
    "axes[NPL-1].set_xlabel('Time [BJKD]', fontsize=20)\n",
    "plt.show()"
   ]
  },
  {
   "cell_type": "code",
   "execution_count": null,
   "metadata": {},
   "outputs": [],
   "source": []
  }
 ],
 "metadata": {
  "kernelspec": {
   "display_name": "Python 3",
   "language": "python",
   "name": "python3"
  },
  "language_info": {
   "codemirror_mode": {
    "name": "ipython",
    "version": 3
   },
   "file_extension": ".py",
   "mimetype": "text/x-python",
   "name": "python",
   "nbconvert_exporter": "python",
   "pygments_lexer": "ipython3",
   "version": "3.7.3"
  }
 },
 "nbformat": 4,
 "nbformat_minor": 2
}
