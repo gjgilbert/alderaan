{
 "cells": [
  {
   "cell_type": "code",
   "execution_count": 1,
   "metadata": {},
   "outputs": [],
   "source": [
    "import numpy as np\n",
    "import matplotlib.pyplot as plt\n",
    "import matplotlib.cm as cm\n",
    "import astropy\n",
    "from   astropy.io import fits as pyfits\n",
    "from   scipy import stats\n",
    "import scipy.optimize as op\n",
    "import glob\n",
    "import csv\n",
    "import json\n",
    "\n",
    "from   alderaan.constants import *\n",
    "from   alderaan.utils import *\n",
    "import alderaan.io as io"
   ]
  },
  {
   "cell_type": "code",
   "execution_count": 2,
   "metadata": {},
   "outputs": [],
   "source": [
    "# manually set main directory and catalog files locations\n",
    "PRIMARY_DIR  = '/Users/research/projects/alderaan/'\n",
    "\n",
    "SIM_FILE = PRIMARY_DIR + \"Catalogs/simulated_catalog_eccentric.csv\"\n",
    "RES_FILE = PRIMARY_DIR + \"Catalogs/injection_and_recovery_results-BIG-ecc-v1.csv\""
   ]
  },
  {
   "cell_type": "code",
   "execution_count": 3,
   "metadata": {},
   "outputs": [],
   "source": [
    "# directory in which to find/store inputs/outputs\n",
    "SIM_DIR   = PRIMARY_DIR + 'Simulations/'\n",
    "TRACE_DIR = PRIMARY_DIR + 'Traces/'"
   ]
  },
  {
   "cell_type": "markdown",
   "metadata": {},
   "source": [
    "# Read in INJECTED catalog"
   ]
  },
  {
   "cell_type": "code",
   "execution_count": 4,
   "metadata": {},
   "outputs": [
    {
     "name": "stdout",
     "output_type": "stream",
     "text": [
      "Reading in data from INJECTED catalog\n"
     ]
    }
   ],
   "source": [
    "# Read in the data from csv file\n",
    "print('Reading in data from INJECTED catalog')\n",
    "\n",
    "# read in a csv file containing info on targets\n",
    "csv_keys, csv_values = io.read_csv_file(SIM_FILE)\n",
    "\n",
    "# put these csv data into a dictionary\n",
    "injected = {}\n",
    "\n",
    "for k in csv_keys: \n",
    "    injected[k] = io.get_csv_data(k, csv_keys, csv_values)\n",
    "    \n",
    "for k in injected.keys():\n",
    "    try:\n",
    "        injected[k] = np.array(injected[k], dtype=\"float\")\n",
    "    except:\n",
    "        injected[k] = np.array(injected[k])"
   ]
  },
  {
   "cell_type": "code",
   "execution_count": 5,
   "metadata": {},
   "outputs": [
    {
     "data": {
      "text/plain": [
       "dict_keys(['planet_name', 'disposition', 'koi_id', 'kic_id', 'npl', 'kep_mag', 'mstar', 'mstar_err1', 'mstar_err2', 'rstar', 'rstar_err1', 'rstar_err2', 'rhostar', 'rhostar_err1', 'rhostar_err2', 'limbdark_1', 'limbdark_2', 'pmass', 'prad', 'epoch', 'period', 'impact', 'ecc', 'omega', 'depth', 'duration', 'ttv_type'])"
      ]
     },
     "execution_count": 5,
     "metadata": {},
     "output_type": "execute_result"
    }
   ],
   "source": [
    "injected.keys()"
   ]
  },
  {
   "cell_type": "markdown",
   "metadata": {},
   "source": [
    "# Read in RECOVERED catalog"
   ]
  },
  {
   "cell_type": "code",
   "execution_count": 6,
   "metadata": {},
   "outputs": [
    {
     "name": "stdout",
     "output_type": "stream",
     "text": [
      "Reading in data from RECOVERED catalog\n"
     ]
    }
   ],
   "source": [
    "# Read in the data from csv file\n",
    "print('Reading in data from RECOVERED catalog')\n",
    "\n",
    "# read in a csv file containing info on targets\n",
    "csv_keys, csv_values = io.read_csv_file(RES_FILE)\n",
    "\n",
    "# put these csv data into a dictionary\n",
    "recovered = {}\n",
    "\n",
    "for k in csv_keys: \n",
    "    recovered[k] = io.get_csv_data(k, csv_keys, csv_values)\n",
    "    \n",
    "for k in recovered.keys():\n",
    "    try:\n",
    "        recovered[k] = np.array(recovered[k], dtype=\"float\")\n",
    "    except:\n",
    "        recovered[k] = np.array(recovered[k])"
   ]
  },
  {
   "cell_type": "code",
   "execution_count": 7,
   "metadata": {},
   "outputs": [
    {
     "data": {
      "text/plain": [
       "dict_keys(['koi_id', 'npl', 'rstar', 'limbdark_1', 'limbdark_2', 'epoch', 'period', 'prad', 'impact', 'logsw4_0', 'logw0_0', 'logq_0', 'logsw4_1', 'logw0_1', 'logq_1', 'logsw4_2', 'logw0_2', 'logq_2', 'logsw4_3', 'logw0_3', 'logq_3'])"
      ]
     },
     "execution_count": 7,
     "metadata": {},
     "output_type": "execute_result"
    }
   ],
   "source": [
    "recovered.keys()"
   ]
  },
  {
   "cell_type": "markdown",
   "metadata": {},
   "source": [
    "# Function to pull data"
   ]
  },
  {
   "cell_type": "code",
   "execution_count": 8,
   "metadata": {},
   "outputs": [],
   "source": [
    "def pull_data(data_injected, data_recovered, key_injected, key_recovered):\n",
    "\n",
    "    inj = []\n",
    "    rec = []\n",
    "    \n",
    "    for j, koi in enumerate(recovered[\"koi_id\"]):\n",
    "        ki = key_injected\n",
    "        kr = key_recovered\n",
    "        \n",
    "        use = injected[\"koi_id\"] == koi\n",
    "\n",
    "        per_i = injected[\"period\"][use]\n",
    "        per_r = recovered[\"period\"][j]\n",
    "\n",
    "        loc = np.argmin(np.abs(per_i - per_r))\n",
    "\n",
    "        inj.append(injected[ki][use][loc])\n",
    "        rec.append(recovered[kr][j])\n",
    "        \n",
    "    return np.asarray(inj), np.asarray(rec)"
   ]
  },
  {
   "cell_type": "markdown",
   "metadata": {},
   "source": [
    "# Scratchwork"
   ]
  },
  {
   "cell_type": "code",
   "execution_count": 9,
   "metadata": {},
   "outputs": [],
   "source": [
    "koi_inj, koi_rec = pull_data(injected, recovered, \"koi_id\", \"koi_id\")\n",
    "\n",
    "#Ms_inj, Ms_rec = pull_data(injected, recovered, \"mstar\", \"mstar\")\n",
    "Rs_inj, Rs_rec = pull_data(injected, recovered, \"rstar\", \"rstar\")\n",
    "u1_inj, u1_rec = pull_data(injected, recovered, \"limbdark_1\", \"limbdark_1\")\n",
    "u2_inj, u2_rec = pull_data(injected, recovered, \"limbdark_2\", \"limbdark_2\")\n",
    "\n",
    "P_inj,  P_rec  = pull_data(injected, recovered, \"period\", \"period\")\n",
    "rp_inj, rp_rec = pull_data(injected, recovered, \"prad\", \"prad\")\n",
    "b_inj,  b_rec  = pull_data(injected, recovered, \"impact\", \"impact\")\n",
    "\n",
    "\n",
    "#sma_inj = get_sma(P_inj, Ms_inj)\n",
    "#sma_rec = get_sma(P_rec, Ms_rec)\n",
    "#sma_delta = sma_rec - sma_inj\n",
    "\n",
    "#dur_inj = get_dur_tot(P_inj, rp_inj/RSRE, Rs_inj, b_inj, sma_inj)\n",
    "#dur_rec = get_dur_tot(P_rec, rp_rec/RSRE, Rs_rec, b_rec, sma_rec)\n",
    "#dur_delta = dur_rec - dur_inj\n",
    "\n",
    "#tau_inj = get_ingress_duration(P_inj, rp_inj/RSRE, Rs_inj, b_inj, sma_inj)\n",
    "#tau_rec = get_ingress_duration(P_rec, rp_rec/RSRE, Rs_rec, b_rec, sma_rec)\n",
    "#tau_delta = tau_rec - tau_inj"
   ]
  },
  {
   "cell_type": "code",
   "execution_count": 32,
   "metadata": {},
   "outputs": [
    {
     "data": {
      "image/png": "[encoded data removed]",
      "text/plain": [
       "<Figure size 576x360 with 2 Axes>"
      ]
     },
     "metadata": {
      "needs_background": "light"
     },
     "output_type": "display_data"
    }
   ],
   "source": [
    "x = np.linspace(rp_inj.min(), rp_inj.max())\n",
    "\n",
    "plt.figure(figsize=(8,5))\n",
    "plt.plot(x, x, c=\"grey\", ls=\":\")\n",
    "plt.scatter(rp_inj, rp_rec, c=np.abs(b_inj - b_rec))\n",
    "plt.xlabel(\"rp_inj\", fontsize=20)\n",
    "plt.ylabel(\"rp_rec\", fontsize=20)\n",
    "plt.colorbar()\n",
    "plt.show()\n",
    "\n",
    "\n",
    "delta = rp_rec-rp_inj\n",
    "out = np.abs(delta-np.median(delta))/astropy.stats.mad_std(delta) > 3.0"
   ]
  },
  {
   "cell_type": "code",
   "execution_count": 11,
   "metadata": {},
   "outputs": [
    {
     "data": {
      "image/png": "[encoded data removed]",
      "text/plain": [
       "<Figure size 576x360 with 2 Axes>"
      ]
     },
     "metadata": {
      "needs_background": "light"
     },
     "output_type": "display_data"
    },
    {
     "name": "stdout",
     "output_type": "stream",
     "text": [
      "Outliers: []\n"
     ]
    }
   ],
   "source": [
    "x = np.linspace(b_inj.min(), b_inj.max())\n",
    "\n",
    "plt.figure(figsize=(8,5))\n",
    "plt.plot(x, x, c=\"grey\", ls=\":\")\n",
    "plt.scatter(b_inj, b_rec, c=np.abs(rp_inj))\n",
    "plt.xlabel(\"b_inj\", fontsize=20)\n",
    "plt.ylabel(\"b_rec\", fontsize=20)\n",
    "plt.colorbar()\n",
    "plt.show()\n",
    "\n",
    "\n",
    "delta = b_rec-b_inj\n",
    "out = np.abs(delta-np.median(delta))/astropy.stats.mad_std(delta) > 3.0\n",
    "\n",
    "print(\"Outliers:\", koi_inj[out])"
   ]
  },
  {
   "cell_type": "code",
   "execution_count": 12,
   "metadata": {},
   "outputs": [
    {
     "ename": "NameError",
     "evalue": "name 'dur_inj' is not defined",
     "output_type": "error",
     "traceback": [
      "\u001b[0;31m---------------------------------------------------------------------------\u001b[0m",
      "\u001b[0;31mNameError\u001b[0m                                 Traceback (most recent call last)",
      "\u001b[0;32m<ipython-input-12-95349c39a538>\u001b[0m in \u001b[0;36m<module>\u001b[0;34m\u001b[0m\n\u001b[0;32m----> 1\u001b[0;31m \u001b[0mx\u001b[0m \u001b[0;34m=\u001b[0m \u001b[0mnp\u001b[0m\u001b[0;34m.\u001b[0m\u001b[0mlinspace\u001b[0m\u001b[0;34m(\u001b[0m\u001b[0mdur_inj\u001b[0m\u001b[0;34m.\u001b[0m\u001b[0mmin\u001b[0m\u001b[0;34m(\u001b[0m\u001b[0;34m)\u001b[0m\u001b[0;34m,\u001b[0m \u001b[0mdur_inj\u001b[0m\u001b[0;34m.\u001b[0m\u001b[0mmax\u001b[0m\u001b[0;34m(\u001b[0m\u001b[0;34m)\u001b[0m\u001b[0;34m)\u001b[0m\u001b[0;34m*\u001b[0m\u001b[0;36m24\u001b[0m\u001b[0;34m\u001b[0m\u001b[0;34m\u001b[0m\u001b[0m\n\u001b[0m\u001b[1;32m      2\u001b[0m \u001b[0;34m\u001b[0m\u001b[0m\n\u001b[1;32m      3\u001b[0m \u001b[0mplt\u001b[0m\u001b[0;34m.\u001b[0m\u001b[0mfigure\u001b[0m\u001b[0;34m(\u001b[0m\u001b[0mfigsize\u001b[0m\u001b[0;34m=\u001b[0m\u001b[0;34m(\u001b[0m\u001b[0;36m8\u001b[0m\u001b[0;34m,\u001b[0m\u001b[0;36m5\u001b[0m\u001b[0;34m)\u001b[0m\u001b[0;34m)\u001b[0m\u001b[0;34m\u001b[0m\u001b[0;34m\u001b[0m\u001b[0m\n\u001b[1;32m      4\u001b[0m \u001b[0mplt\u001b[0m\u001b[0;34m.\u001b[0m\u001b[0mplot\u001b[0m\u001b[0;34m(\u001b[0m\u001b[0mx\u001b[0m\u001b[0;34m,\u001b[0m \u001b[0mx\u001b[0m\u001b[0;34m,\u001b[0m \u001b[0mc\u001b[0m\u001b[0;34m=\u001b[0m\u001b[0;34m\"grey\"\u001b[0m\u001b[0;34m,\u001b[0m \u001b[0mls\u001b[0m\u001b[0;34m=\u001b[0m\u001b[0;34m\":\"\u001b[0m\u001b[0;34m)\u001b[0m\u001b[0;34m\u001b[0m\u001b[0;34m\u001b[0m\u001b[0m\n\u001b[1;32m      5\u001b[0m \u001b[0mplt\u001b[0m\u001b[0;34m.\u001b[0m\u001b[0mscatter\u001b[0m\u001b[0;34m(\u001b[0m\u001b[0mdur_inj\u001b[0m\u001b[0;34m*\u001b[0m\u001b[0;36m24\u001b[0m\u001b[0;34m,\u001b[0m \u001b[0mdur_rec\u001b[0m\u001b[0;34m*\u001b[0m\u001b[0;36m24\u001b[0m\u001b[0;34m,\u001b[0m \u001b[0mc\u001b[0m\u001b[0;34m=\u001b[0m\u001b[0mnp\u001b[0m\u001b[0;34m.\u001b[0m\u001b[0mabs\u001b[0m\u001b[0;34m(\u001b[0m\u001b[0mb_rec\u001b[0m\u001b[0;34m-\u001b[0m\u001b[0mb_inj\u001b[0m\u001b[0;34m)\u001b[0m\u001b[0;34m)\u001b[0m\u001b[0;34m\u001b[0m\u001b[0;34m\u001b[0m\u001b[0m\n",
      "\u001b[0;31mNameError\u001b[0m: name 'dur_inj' is not defined"
     ]
    }
   ],
   "source": [
    "x = np.linspace(dur_inj.min(), dur_inj.max())*24\n",
    "\n",
    "plt.figure(figsize=(8,5))\n",
    "plt.plot(x, x, c=\"grey\", ls=\":\")\n",
    "plt.scatter(dur_inj*24, dur_rec*24, c=np.abs(b_rec-b_inj))\n",
    "plt.xlabel(\"dur_inj\", fontsize=20)\n",
    "plt.ylabel(\"dur_rec\", fontsize=20)\n",
    "plt.colorbar()\n",
    "plt.show()\n",
    "\n",
    "delta = dur_rec-dur_inj\n",
    "out = np.abs(delta-np.median(delta))/astropy.stats.mad_std(delta) > 3.0\n",
    "\n",
    "print(\"Outliers:\", koi_inj[out])"
   ]
  },
  {
   "cell_type": "code",
   "execution_count": null,
   "metadata": {},
   "outputs": [],
   "source": [
    "x = np.linspace(tau_inj.min(), tau_inj.max())*24*60\n",
    "\n",
    "plt.figure(figsize=(8,5))\n",
    "plt.scatter(tau_inj*24*60, tau_rec*24*60, c=np.abs(b_rec-b_inj))\n",
    "plt.plot(x, x, c=\"grey\", ls=\":\")\n",
    "plt.xlabel(\"tau_inj\", fontsize=20)\n",
    "plt.ylabel(\"tau_rec\", fontsize=20)\n",
    "plt.colorbar()\n",
    "\n",
    "\n",
    "delta = tau_rec-tau_inj\n",
    "out = np.abs(delta-np.median(delta))/astropy.stats.mad_std(delta) > 3.0\n",
    "\n",
    "print(\"Outliers:\", koi_inj[out])"
   ]
  },
  {
   "cell_type": "code",
   "execution_count": null,
   "metadata": {},
   "outputs": [],
   "source": [
    "x = np.linspace(Ms_inj.min(), Ms_inj.max())\n",
    "plt.figure(figsize=(8,5))\n",
    "plt.scatter(Ms_inj, Ms_rec, c=np.abs(b_rec-b_inj))\n",
    "plt.plot(x, x, c=\"grey\", ls=\":\")\n",
    "plt.xlabel(\"Ms_inj\", fontsize=20)\n",
    "plt.ylabel(\"Ms_rec\", fontsize=20)\n",
    "plt.colorbar()\n",
    "\n",
    "delta = Ms_rec-Ms_inj\n",
    "out = np.abs(delta-np.median(delta))/astropy.stats.mad_std(delta) > 3.0\n",
    "\n",
    "print(\"Outliers:\", koi_inj[out])"
   ]
  },
  {
   "cell_type": "code",
   "execution_count": 13,
   "metadata": {},
   "outputs": [
    {
     "name": "stdout",
     "output_type": "stream",
     "text": [
      "Outliers: ['K01723' 'K00728']\n"
     ]
    },
    {
     "data": {
      "image/png": "[encoded data removed]",
      "text/plain": [
       "<Figure size 576x360 with 2 Axes>"
      ]
     },
     "metadata": {
      "needs_background": "light"
     },
     "output_type": "display_data"
    }
   ],
   "source": [
    "x = np.linspace(Rs_inj.min(), Rs_inj.max())\n",
    "plt.figure(figsize=(8,5))\n",
    "plt.scatter(Rs_inj, Rs_rec, c=np.abs(b_rec-b_inj))\n",
    "plt.plot(x, x, c=\"grey\", ls=\":\")\n",
    "plt.xlabel(\"Rs_inj\", fontsize=20)\n",
    "plt.ylabel(\"Rs_rec\", fontsize=20)\n",
    "plt.colorbar()\n",
    "\n",
    "\n",
    "delta = Rs_rec-Rs_inj\n",
    "out = np.abs(delta-np.median(delta))/astropy.stats.mad_std(delta) > 3.0\n",
    "\n",
    "print(\"Outliers:\", koi_inj[out])"
   ]
  },
  {
   "cell_type": "code",
   "execution_count": null,
   "metadata": {},
   "outputs": [],
   "source": []
  },
  {
   "cell_type": "code",
   "execution_count": null,
   "metadata": {},
   "outputs": [],
   "source": []
  },
  {
   "cell_type": "code",
   "execution_count": null,
   "metadata": {},
   "outputs": [],
   "source": []
  },
  {
   "cell_type": "code",
   "execution_count": null,
   "metadata": {},
   "outputs": [],
   "source": []
  }
 ],
 "metadata": {
  "kernelspec": {
   "display_name": "Python 3",
   "language": "python",
   "name": "python3"
  },
  "language_info": {
   "codemirror_mode": {
    "name": "ipython",
    "version": 3
   },
   "file_extension": ".py",
   "mimetype": "text/x-python",
   "name": "python",
   "nbconvert_exporter": "python",
   "pygments_lexer": "ipython3",
   "version": "3.7.3"
  }
 },
 "nbformat": 4,
 "nbformat_minor": 2
}
