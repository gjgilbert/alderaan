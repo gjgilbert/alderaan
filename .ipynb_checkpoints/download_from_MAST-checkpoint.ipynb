{
 "cells": [
  {
   "cell_type": "markdown",
   "metadata": {},
   "source": [
    "This script downloads lightcurves for a single target from the MAST archive using Lightkurve. To use, specify the KOI identifier (e.g. 'K00137') and a directory (PRIMARY_DIR) to place the downloaded fits files into. Lightkurve creates a file structure based on each object's KIC identifier. These files can then be read back in using lk.search.open() in the script \"main_pipeline.py\".\n",
    "\n",
    "This two-step procedure is necessary because the University of Chicago midway.rcc server does not allow connections to the internet on compute nodes. However, internet access is granted on the login node, so this script (\"download_from_MAST.py\") should first be run on the login node, after which the data reduction pipeline (\"main_pipeline.py\") can be run on the compute node using a slurm batch request."
   ]
  },
  {
   "cell_type": "code",
   "execution_count": null,
   "metadata": {},
   "outputs": [],
   "source": [
    "import numpy as np\n",
    "\n",
    "import csv\n",
    "import sys\n",
    "import os\n",
    "import imp\n",
    "import glob\n",
    "import warnings\n",
    "import argparse\n",
    "\n",
    "import lightkurve as lk\n",
    "\n",
    "from archeopteryx.constants import *\n",
    "from archeopteryx.utils import *\n",
    "from archeopteryx.LiteCurve import *\n",
    "import archeopteryx.io as io\n",
    "\n",
    "# flush buffer to avoid mixed outputs from progressbar\n",
    "sys.stdout.flush()\n",
    "\n",
    "# turn off FutureWarnings\n",
    "warnings.filterwarnings('ignore', category=FutureWarning)"
   ]
  },
  {
   "cell_type": "markdown",
   "metadata": {},
   "source": [
    "# Manually set I/O parameters"
   ]
  },
  {
   "cell_type": "code",
   "execution_count": null,
   "metadata": {},
   "outputs": [],
   "source": [
    "# select mission, target, and paths\n",
    "MISSION = \"Kepler\"\n",
    "TARGET  = \"K00072\"\n",
    "PRIMARY_DIR = '/Users/research/projects/archeopteryx/'"
   ]
  },
  {
   "cell_type": "code",
   "execution_count": null,
   "metadata": {},
   "outputs": [],
   "source": [
    "# here's where we parse the inputs\n",
    "try:\n",
    "    parser = argparse.ArgumentParser(description=\"Inputs for ALDERAAN transit fiting pipeline\")\n",
    "    parser.add_argument(\"--mission\", default=None, type=str, required=True, \\\n",
    "                        help=\"Mission name\")\n",
    "    parser.add_argument(\"--target\", default=None, type=str, required=True, \\\n",
    "                        help=\"Target name; see ALDERAAN documentation for acceptable formats\")\n",
    "    parser.add_argument(\"--primary_dir\", default=None, type=str, required=True, \\\n",
    "                        help=\"Primary directory path for accessing lightcurve data and saving outputs\")\n",
    "\n",
    "    args = parser.parse_args()\n",
    "    MISSION     = args.mission\n",
    "    TARGET      = args.target\n",
    "    PRIMARY_DIR = args.primary_dir\n",
    "    \n",
    "except:\n",
    "    pass"
   ]
  },
  {
   "cell_type": "code",
   "execution_count": null,
   "metadata": {},
   "outputs": [],
   "source": [
    "# directory in which to place MAST downloads\n",
    "DOWNLOAD_DIR = PRIMARY_DIR + 'MAST_downloads/'\n",
    "\n",
    "# make a target name lightkurve and MAST can understand\n",
    "MAST_TARGET = 'KOI-'+ str(int(TARGET[1:]))"
   ]
  },
  {
   "cell_type": "markdown",
   "metadata": {},
   "source": [
    "# Download the data from MAST"
   ]
  },
  {
   "cell_type": "code",
   "execution_count": null,
   "metadata": {},
   "outputs": [],
   "source": [
    "# download the SHORT CADENCE data -- this creates a LightCurveFileCollection\n",
    "print('downloading short cadence data from MAST')\n",
    "sc_rawdata = lk.search_lightcurvefile(MAST_TARGET, cadence='short', \\\n",
    "                                      mission='Kepler').download_all(download_dir=DOWNLOAD_DIR)"
   ]
  },
  {
   "cell_type": "code",
   "execution_count": null,
   "metadata": {},
   "outputs": [],
   "source": [
    "# clean up the SHORT CADENCE data\n",
    "try:\n",
    "    sc_data = io.cleanup_lkfc(sc_rawdata, KIC)\n",
    "\n",
    "    # identify which quarters are found in short cadence\n",
    "    sc_qlist = []\n",
    "    for i, scq in enumerate(sc_data):\n",
    "        sc_qlist.append(scq.quarter)\n",
    "    \n",
    "except:\n",
    "    sc_data = None\n",
    "    sc_qlist = []\n",
    "    \n",
    "    \n",
    "# make a list of quarters where short cadence flux is unavailable\n",
    "qlist = np.arange(18)\n",
    "keep  = ~np.isin(qlist, np.unique(sc_qlist))\n",
    "lc_qlist = qlist[keep]"
   ]
  },
  {
   "cell_type": "code",
   "execution_count": null,
   "metadata": {},
   "outputs": [],
   "source": [
    "# download the LONG CADENCE data -- this creates a LightCurveFileCollection\n",
    "print('downloading long cadence data from MAST')\n",
    "lc_rawdata = lk.search_lightcurvefile(MAST_TARGET, cadence='long', quarter=lc_qlist, \\\n",
    "                                      mission='Kepler').download_all(download_dir=DOWNLOAD_DIR)    "
   ]
  },
  {
   "cell_type": "code",
   "execution_count": null,
   "metadata": {},
   "outputs": [],
   "source": []
  }
 ],
 "metadata": {
  "kernelspec": {
   "display_name": "Python 3",
   "language": "python",
   "name": "python3"
  },
  "language_info": {
   "codemirror_mode": {
    "name": "ipython",
    "version": 3
   },
   "file_extension": ".py",
   "mimetype": "text/x-python",
   "name": "python",
   "nbconvert_exporter": "python",
   "pygments_lexer": "ipython3",
   "version": "3.7.3"
  }
 },
 "nbformat": 4,
 "nbformat_minor": 2
}
