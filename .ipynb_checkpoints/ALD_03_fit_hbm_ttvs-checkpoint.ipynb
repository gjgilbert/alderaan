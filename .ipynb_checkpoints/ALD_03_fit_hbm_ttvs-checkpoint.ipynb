{
 "cells": [
  {
   "cell_type": "code",
   "execution_count": 1,
   "metadata": {},
   "outputs": [],
   "source": [
    "import numpy as np\n",
    "import matplotlib.pyplot as plt\n",
    "\n",
    "import numpy.polynomial.polynomial as poly\n",
    "import astropy.stats\n",
    "from   astropy.timeseries import LombScargle\n",
    "from   astropy.io import fits as pyfits\n",
    "from   scipy.interpolate import UnivariateSpline\n",
    "from   scipy import stats\n",
    "\n",
    "import sys\n",
    "import os\n",
    "import importlib as imp\n",
    "import warnings\n",
    "import argparse\n",
    "import json\n",
    "from   timeit import default_timer as timer\n",
    "\n",
    "import pymc3 as pm\n",
    "import pymc3_ext as pmx\n",
    "import exoplanet as exo\n",
    "import aesara_theano_fallback.tensor as T\n",
    "from   aesara_theano_fallback import aesara as theano\n",
    "from   celerite2.theano import GaussianProcess\n",
    "from   celerite2.theano import terms as GPterms\n",
    "\n",
    "from alderaan.constants import *\n",
    "from alderaan.utils import *\n",
    "from alderaan.Planet import *\n",
    "from alderaan.LiteCurve import *\n",
    "import alderaan.io as io\n",
    "\n",
    "# these lines make progressbar work with SLURM \n",
    "from fastprogress.fastprogress import force_console_behavior\n",
    "master_bar, progress_bar = force_console_behavior()\n",
    "sys.stdout.flush()\n",
    "\n",
    "# turn off FutureWarnings\n",
    "warnings.filterwarnings('ignore', category=FutureWarning)\n",
    "\n",
    "# start program timer\n",
    "global_start_time = timer()"
   ]
  },
  {
   "cell_type": "markdown",
   "metadata": {},
   "source": [
    "# Manually set I/O parameters\n",
    "#### User should manually set MISSION, TARGET, PRIMARY_DIR,  and CSV_FILE"
   ]
  },
  {
   "cell_type": "code",
   "execution_count": 2,
   "metadata": {},
   "outputs": [],
   "source": [
    "# here's where you can hard code in mission, target, and paths\n",
    "MISSION = \"Kepler\"\n",
    "TARGET  = \"K04034\"\n",
    "PRIMARY_DIR = '/Users/research/projects/alderaan/'\n",
    "\n",
    "USE_HBM = False\n",
    "INTERLACE = False\n",
    "MAX_GROUP_SIZE = 16"
   ]
  },
  {
   "cell_type": "code",
   "execution_count": 3,
   "metadata": {},
   "outputs": [
    {
     "name": "stderr",
     "output_type": "stream",
     "text": [
      "usage: ipykernel_launcher.py [-h] --mission MISSION --target TARGET\n",
      "                             --primary_dir PRIMARY_DIR\n",
      "ipykernel_launcher.py: error: the following arguments are required: --mission, --target, --primary_dir\n"
     ]
    }
   ],
   "source": [
    "# here's where we parse the inputs from an sbatch script\n",
    "try:\n",
    "    parser = argparse.ArgumentParser(description=\"Inputs for ALDERAAN transit fiting pipeline\")\n",
    "    parser.add_argument(\"--mission\", default=None, type=str, required=True, \\\n",
    "                        help=\"Mission name\")\n",
    "    parser.add_argument(\"--target\", default=None, type=str, required=True, \\\n",
    "                        help=\"Target name; see ALDERAAN documentation for acceptable formats\")\n",
    "    parser.add_argument(\"--primary_dir\", default=None, type=str, required=True, \\\n",
    "                        help=\"Primary directory path for accessing lightcurve data and saving outputs\")\n",
    "    \n",
    "    args = parser.parse_args()\n",
    "    MISSION     = args.mission\n",
    "    TARGET      = args.target\n",
    "    PRIMARY_DIR = args.primary_dir\n",
    "    \n",
    "except:\n",
    "    pass"
   ]
  },
  {
   "cell_type": "markdown",
   "metadata": {},
   "source": [
    "# Make sure the necessary paths exist"
   ]
  },
  {
   "cell_type": "code",
   "execution_count": 4,
   "metadata": {},
   "outputs": [],
   "source": [
    "# directory in which to find lightcurve data\n",
    "#if MISSION == 'Kepler': DOWNLOAD_DIR = PRIMARY_DIR + 'MAST_downloads/'\n",
    "#if MISSION == 'Simulated': DOWNLOAD_DIR = PRIMARY_DIR + 'Simulations/'\n",
    "\n",
    "# directories in which to place pipeline outputs    \n",
    "FIGURE_DIR    = PRIMARY_DIR + 'Figures/' + TARGET + '/'\n",
    "TRACE_DIR     = PRIMARY_DIR + 'Traces/' + TARGET + '/'\n",
    "QUICK_TTV_DIR = PRIMARY_DIR + 'QuickTTVs/' + TARGET + '/'\n",
    "DLC_DIR       = PRIMARY_DIR + 'Detrended_lightcurves/' + TARGET + '/'\n",
    "NOISE_DIR     = PRIMARY_DIR + 'Noise_models/' + TARGET + '/'\n",
    "\n",
    "# check if all the paths exist and create them if not\n",
    "if os.path.exists(FIGURE_DIR) == False:\n",
    "    os.mkdir(FIGURE_DIR)\n",
    "    \n",
    "if os.path.exists(TRACE_DIR) == False:\n",
    "    os.mkdir(TRACE_DIR)\n",
    "    \n",
    "if os.path.exists(QUICK_TTV_DIR) == False:\n",
    "    os.mkdir(QUICK_TTV_DIR)\n",
    "    \n",
    "if os.path.exists(DLC_DIR) == False:\n",
    "    os.mkdir(DLC_DIR)\n",
    "    \n",
    "if os.path.exists(NOISE_DIR) == False:\n",
    "    os.mkdir(NOISE_DIR)"
   ]
  },
  {
   "cell_type": "markdown",
   "metadata": {},
   "source": [
    "# Get shape model posteriors"
   ]
  },
  {
   "cell_type": "code",
   "execution_count": 5,
   "metadata": {},
   "outputs": [],
   "source": [
    "TRACE_FILE = TRACE_DIR + TARGET + '_transit_shape.fits'"
   ]
  },
  {
   "cell_type": "code",
   "execution_count": 6,
   "metadata": {},
   "outputs": [
    {
     "name": "stdout",
     "output_type": "stream",
     "text": [
      "Filename: /Users/research/projects/alderaan/Traces/K04034/K04034_transit_shape.fits\n",
      "No.    Name      Ver    Type      Cards   Dimensions   Format\n",
      "  0  PRIMARY       1 PrimaryHDU       6   ()      \n",
      "  1  LOG_ROR       1 ImageHDU         8   (2, 10000)   float64   \n",
      "  2  LOG_DUR       1 ImageHDU         8   (2, 10000)   float64   \n",
      "  3  C0            1 ImageHDU         8   (2, 10000)   float64   \n",
      "  4  C1            1 ImageHDU         8   (2, 10000)   float64   \n",
      "  5  FLUX0         1 ImageHDU         8   (15, 10000)   float64   \n",
      "  6  LOGJIT        1 ImageHDU         8   (15, 10000)   float64   \n",
      "  7  Q_LIMBDARK    1 ImageHDU         8   (2, 10000)   float64   \n",
      "  8  U             1 ImageHDU         8   (2, 10000)   float64   \n",
      "  9  ROR           1 ImageHDU         8   (2, 10000)   float64   \n",
      " 10  RP            1 ImageHDU         8   (2, 10000)   float64   \n",
      " 11  B             1 ImageHDU         8   (2, 10000)   float64   \n",
      " 12  DUR           1 ImageHDU         8   (2, 10000)   float64   \n",
      " 13  TTS_0         1 ImageHDU         8   (159, 10000)   float64   \n",
      " 14  TTS_1         1 ImageHDU         8   (83, 10000)   float64   \n",
      " 15  P             1 ImageHDU         8   (2, 10000)   float64   \n",
      " 16  T0            1 ImageHDU         8   (2, 10000)   float64   \n",
      " 17  RHO           1 ImageHDU         8   (2, 10000)   float64   \n",
      "None\n"
     ]
    }
   ],
   "source": [
    "with pyfits.open(TRACE_FILE) as trace:\n",
    "    print(trace.info())"
   ]
  },
  {
   "cell_type": "code",
   "execution_count": 7,
   "metadata": {
    "scrolled": false
   },
   "outputs": [],
   "source": [
    "# Read in the fits file with saved traces\n",
    "\n",
    "with pyfits.open(TRACE_FILE) as trace:\n",
    "    header  = trace[0].header\n",
    "    hdulist = pyfits.HDUList(trace)\n",
    "    \n",
    "    NDRAWS, NPL = trace['P'].shape\n",
    "    \n",
    "    # limb darkening parameters\n",
    "    U_LIMBDARK = np.array(trace['U'].data, dtype=\"float\")\n",
    "    Q_LIMBDARK = np.array(trace['Q_LIMBDARK'].data, dtype=\"float\")\n",
    "    \n",
    "    # basis parameters\n",
    "    C0 = np.array(trace['C0'].data, dtype=\"float\")\n",
    "    C1 = np.array(trace['C1'].data, dtype=\"float\")\n",
    "    B  = np.array(trace['B'].data, dtype=\"float\")\n",
    "    LOG_ROR = np.array(trace['LOG_ROR'].data, dtype=\"float\")/np.log(10)\n",
    "    LOG_DUR = np.array(trace['LOG_DUR'].data, dtype=\"float\")/np.log(10)\n",
    "    \n",
    "    # physical parameters\n",
    "    P   = np.array(trace['P'].data, dtype=\"float\")\n",
    "    T0  = np.array(trace['T0'].data, dtype=\"float\")\n",
    "    RP  = np.array(trace['RP'].data, dtype=\"float\")*RSRE\n",
    "    RHO = np.array(trace['RHO'].data, dtype=\"float\")\n",
    "    DUR = np.array(trace['DUR'].data, dtype=\"float\")\n",
    "    \n",
    "    # TTV parameters\n",
    "    TTS = [None]*NPL\n",
    "\n",
    "    for npl in range(NPL):    \n",
    "        TTS[npl] = trace['TTS_{0}'.format(npl)].data"
   ]
  },
  {
   "cell_type": "markdown",
   "metadata": {},
   "source": [
    "# Set fixed values for star and planet parameters"
   ]
  },
  {
   "cell_type": "markdown",
   "metadata": {},
   "source": [
    "#### TODO: Fit a \"cannonical\" model rather than pulling a single trace"
   ]
  },
  {
   "cell_type": "code",
   "execution_count": 8,
   "metadata": {},
   "outputs": [],
   "source": [
    "basis = [C0, C1, B, LOG_ROR, LOG_DUR]\n",
    "\n",
    "# identify which sample is closest to the median for all parameters\n",
    "dist_sq = np.zeros(NDRAWS)\n",
    "\n",
    "\n",
    "for i, var in enumerate(basis):\n",
    "    for npl in range(NPL):\n",
    "        dist_sq += ((var[:,npl] - np.median(var[:,npl]))/np.std(var[:,npl]))**2\n",
    "        \n",
    "loc = np.argmin(dist_sq)"
   ]
  },
  {
   "cell_type": "code",
   "execution_count": 9,
   "metadata": {},
   "outputs": [],
   "source": [
    "# grab star and planet parameters for that sample\n",
    "u = U_LIMBDARK[loc]\n",
    "\n",
    "ror = np.exp(np.array(LOG_ROR[loc], dtype=\"float\"))\n",
    "b   = np.array(B[loc], dtype=\"float\")\n",
    "dur = np.array(DUR[loc], dtype=\"float\")\n",
    "\n",
    "periods = np.array(P[loc], dtype=\"float\")\n",
    "epochs  = np.array(T0[loc], dtype=\"float\")"
   ]
  },
  {
   "cell_type": "markdown",
   "metadata": {},
   "source": [
    "# Read in detrended lightcurves and QuickTTV estimates"
   ]
  },
  {
   "cell_type": "code",
   "execution_count": 10,
   "metadata": {},
   "outputs": [],
   "source": [
    "# Load detrended lightcurves\n",
    "try:\n",
    "    lc = io.load_detrended_lightcurve(DLC_DIR + TARGET + '_lc_detrended.fits')\n",
    "except:\n",
    "    lc = None\n",
    "    \n",
    "try:\n",
    "    sc = io.load_detrended_lightcurve(DLC_DIR + TARGET + '_sc_detrended.fits')\n",
    "except:\n",
    "    sc = None"
   ]
  },
  {
   "cell_type": "code",
   "execution_count": 11,
   "metadata": {},
   "outputs": [
    {
     "data": {
      "image/png": "[encoded data removed]",
      "text/plain": [
       "<Figure size 864x432 with 2 Axes>"
      ]
     },
     "metadata": {
      "needs_background": "light"
     },
     "output_type": "display_data"
    }
   ],
   "source": [
    "transit_inds = []\n",
    "ephemeris = []\n",
    "\n",
    "quick_transit_times = []\n",
    "map_transit_times = []\n",
    "\n",
    "\n",
    "# load Quick TTVs\n",
    "for npl in range(NPL):\n",
    "    fname_in = QUICK_TTV_DIR + TARGET + '_{:02d}'.format(npl) + '_quick_ttvs.txt'\n",
    "    data_in  = np.genfromtxt(fname_in)\n",
    "    \n",
    "    quick_transit_times.append(np.array(data_in[:,1], dtype=\"float\"))\n",
    "    \n",
    "    transit_inds.append(np.array(data_in[:,0], dtype=\"int\"))\n",
    "    ephemeris.append(poly.polyval(transit_inds[npl], [epochs[npl], periods[npl]]))    \n",
    "    \n",
    "\n",
    "# load MAP TTVs\n",
    "for npl in range(NPL):\n",
    "    fname_in = QUICK_TTV_DIR + TARGET + '_{:02d}'.format(npl) + '_map_ttvs.txt'\n",
    "    data_in  = np.genfromtxt(fname_in)\n",
    "    \n",
    "    map_transit_times.append(np.array(data_in[:,1], dtype=\"float\"))    \n",
    "    \n",
    "    \n",
    "fig, axes = plt.subplots(NPL, figsize=(12,3*NPL))\n",
    "\n",
    "for npl in range(NPL):\n",
    "    xtime = ephemeris[npl]\n",
    "    yomc_q = (quick_transit_times[npl] - ephemeris[npl])*24*60\n",
    "    yomc_m = (map_transit_times[npl] - ephemeris[npl])*24*60\n",
    "    \n",
    "    axes[npl].plot(xtime, yomc_q, '-', c='C{0}'.format(npl))\n",
    "    axes[npl].plot(xtime, yomc_m, '.', c='C{0}'.format(npl))\n",
    "    axes[npl].set_ylabel('O-C [min]', fontsize=20)\n",
    "axes[NPL-1].set_xlabel('Time [BJKD]', fontsize=20)\n",
    "plt.show()"
   ]
  },
  {
   "cell_type": "code",
   "execution_count": 12,
   "metadata": {},
   "outputs": [],
   "source": [
    "# get estimate of ttv amplitude and a reasonable buffer\n",
    "ttv_rms_amp = np.zeros(NPL)\n",
    "ttv_buffer  = np.zeros(NPL)\n",
    "\n",
    "for npl in range(NPL):\n",
    "    # estimate TTV amplitude\n",
    "    ttv_rms_amp[npl] = astropy.stats.mad_std(map_transit_times[npl] - ephemeris[npl])\n",
    "\n",
    "    # based on scatter in independent times, set threshold so not even one outlier is expected\n",
    "    N   = len(transit_inds[npl])\n",
    "    eta = np.max([3., stats.norm.interval((N-1)/N)[1]])\n",
    "\n",
    "    ttv_buffer[npl] = eta*ttv_rms_amp[npl] + lcit"
   ]
  },
  {
   "cell_type": "markdown",
   "metadata": {},
   "source": [
    "# Set up noise GP"
   ]
  },
  {
   "cell_type": "code",
   "execution_count": 13,
   "metadata": {},
   "outputs": [],
   "source": [
    "# Read in noise model GP priors\n",
    "gp_percs = []\n",
    "\n",
    "for z in range(4):\n",
    "    try:\n",
    "        fname_in = NOISE_DIR + TARGET + '_shoterm_gp_priors_{0}.txt'.format(z)\n",
    "\n",
    "        with open(fname_in) as infile:\n",
    "            gp_percs.append(json.load(infile))\n",
    "\n",
    "    except:\n",
    "        gp_percs.append(None)"
   ]
  },
  {
   "cell_type": "code",
   "execution_count": 14,
   "metadata": {},
   "outputs": [],
   "source": [
    "gp_priors = []\n",
    "\n",
    "for z in range(4):\n",
    "    if gp_percs[z] is not None:\n",
    "        # set GP priors baed on outputs of alderaan.detrend_and_estimate_noise\n",
    "        # expected for any season with short cadence data\n",
    "        gpz = {}\n",
    "\n",
    "        for k in gp_percs[z].keys():\n",
    "            if k != \"percentiles\":\n",
    "                perc = np.array(gp_percs[z]['percentiles'])\n",
    "\n",
    "                med = np.array(gp_percs[z][k])[perc == 50.0][0]\n",
    "                err1 = np.array(gp_percs[z][k])[perc == 84.135][0]\n",
    "                err2 = np.array(gp_percs[z][k])[perc == 15.865][0]\n",
    "\n",
    "                dev = np.sqrt((err1-med)**2/2 + (err2-med)**2/2)\n",
    "\n",
    "                gpz[k] = (med, dev)\n",
    "\n",
    "        gp_priors.append(gpz)\n",
    "        \n",
    "    else:\n",
    "        # these are dummy values that effectively create a zero-amplitude kernel\n",
    "        gpz = {}\n",
    "        gpz['logw0'] = [np.log(2*pi/(7*DURS.max()))]\n",
    "        gpz['logSw4'] = [-100.]\n",
    "        gpz['logQ'] = [np.log(1/np.sqrt(2))]\n",
    "        \n",
    "        gp_priors.append(gpz)"
   ]
  },
  {
   "cell_type": "code",
   "execution_count": 15,
   "metadata": {},
   "outputs": [],
   "source": [
    "for z in range(4):\n",
    "    gpz = gp_priors[z]\n",
    "    \n",
    "    logS = gpz[\"logSw4\"][0] - 4*gpz[\"logw0\"][0]\n",
    "    \n",
    "    if len(gpz[\"logSw4\"]) == 1:\n",
    "        gp_priors[z][\"logS\"] = np.copy(logS)\n",
    "        \n",
    "    if len(gpz[\"logSw4\"]) == 2:\n",
    "        logS_var = gpz[\"logSw4\"][1]**2 + 16*gpz[\"logw0\"][1]**2\n",
    "        gp_priors[z][\"logS\"] = np.array([logS, np.sqrt(logS_var)])"
   ]
  },
  {
   "cell_type": "markdown",
   "metadata": {},
   "source": [
    "# Determine time baseline"
   ]
  },
  {
   "cell_type": "code",
   "execution_count": 16,
   "metadata": {},
   "outputs": [],
   "source": [
    "time_min = []\n",
    "time_max = []\n",
    "\n",
    "if lc is not None:\n",
    "    time_min.append(lc.time.min())\n",
    "    time_max.append(lc.time.max())\n",
    "\n",
    "if sc is not None:\n",
    "    time_min.append(sc.time.min())\n",
    "    time_max.append(sc.time.max())\n",
    "\n",
    "TIME_START = np.min(time_min)\n",
    "TIME_END   = np.max(time_max)\n",
    "\n",
    "if TIME_START < 0:\n",
    "    raise ValueError(\"START TIME [BKJD] is negative...this will cause problems\")"
   ]
  },
  {
   "cell_type": "markdown",
   "metadata": {},
   "source": [
    "# Break the transits into subgroups\n",
    "#### Groups are indexed starting at 1, with 0 reserved for overlapping transits"
   ]
  },
  {
   "cell_type": "code",
   "execution_count": 17,
   "metadata": {},
   "outputs": [],
   "source": [
    "# fit at most MAX_GROUP_SIZE transits at a time\n",
    "tts_group = []\n",
    "\n",
    "for npl in range(NPL):\n",
    "    ntrans = len(ephemeris[npl])\n",
    "    ngroups = int(np.ceil(ntrans)/MAX_GROUP_SIZE)\n",
    "    groupsize = int(np.ceil(ntrans)/ngroups) + 1\n",
    "    \n",
    "    tts_group.append(np.repeat(np.arange(1,ngroups+1), groupsize)[:ntrans])"
   ]
  },
  {
   "cell_type": "code",
   "execution_count": 18,
   "metadata": {},
   "outputs": [],
   "source": [
    "if INTERLACE:\n",
    "    # interlace groups\n",
    "    for npl in range(NPL):\n",
    "        for g in range(1, tts_group[npl].max()):\n",
    "\n",
    "            count = np.min([np.sum(tts_group[npl] == g), np.sum(tts_group[npl] == g+1)])\n",
    "            loc = np.where(tts_group[npl] == g)[0].max()\n",
    "\n",
    "            for c in range(np.min([count//6,3])):\n",
    "                tts_group[npl][loc-2*c] = g+1\n",
    "                tts_group[npl][loc+2*c+1] = g"
   ]
  },
  {
   "cell_type": "markdown",
   "metadata": {},
   "source": [
    "# Identify overlapping transits"
   ]
  },
  {
   "cell_type": "code",
   "execution_count": 19,
   "metadata": {},
   "outputs": [],
   "source": [
    "if lc is not None:\n",
    "    lc_quarters = np.unique(lc.quarter)\n",
    "else:\n",
    "    lc_quarters = np.array([])\n",
    "    \n",
    "if sc is not None:\n",
    "    sc_quarters = np.unique(sc.quarter)\n",
    "else:\n",
    "    sc_quarters = np.array([])\n",
    "    \n",
    "    \n",
    "quarters = np.sort(np.hstack([lc_quarters, sc_quarters]))"
   ]
  },
  {
   "cell_type": "code",
   "execution_count": 20,
   "metadata": {},
   "outputs": [],
   "source": [
    "overlap = []\n",
    "\n",
    "for i in range(NPL):\n",
    "    overlap.append(np.zeros(len(ephemeris[i]), dtype='bool'))\n",
    "    \n",
    "    for j in range(NPL):\n",
    "        if i != j:\n",
    "            for tt in ephemeris[j]:\n",
    "                overlap[i] += np.abs(ephemeris[i] - tt) < (dur[i] + dur[j] + lcit)\n",
    "                \n",
    "                \n",
    "# assign overlapping transits to group -99\n",
    "for npl in range(NPL):\n",
    "    tts_group[npl][overlap[npl]] = -99"
   ]
  },
  {
   "cell_type": "markdown",
   "metadata": {},
   "source": [
    "# Track which quarter each transit falls in"
   ]
  },
  {
   "cell_type": "code",
   "execution_count": 21,
   "metadata": {},
   "outputs": [],
   "source": [
    "thresh = np.zeros(len(quarters)+1)\n",
    "\n",
    "thresh[0] = TIME_START\n",
    "\n",
    "for j, q in enumerate(quarters):\n",
    "    if np.isin(q, sc_quarters):\n",
    "        thresh[j+1] = sc.time[sc.quarter == q].max()\n",
    "    if np.isin(q, lc_quarters):\n",
    "        thresh[j+1] = lc.time[lc.quarter == q].max()\n",
    "        \n",
    "thresh[0] -= 1.0\n",
    "thresh[-1] += 1.0"
   ]
  },
  {
   "cell_type": "code",
   "execution_count": 22,
   "metadata": {},
   "outputs": [],
   "source": [
    "transit_quarter = [None]*NPL\n",
    "\n",
    "for npl in range(NPL):\n",
    "    tts = ephemeris[npl]\n",
    "    transit_quarter[npl] = np.zeros(len(tts), dtype='int')\n",
    "\n",
    "    for j, q in enumerate(quarters):\n",
    "        transit_quarter[npl][(tts >= thresh[j])*(tts<thresh[j+1])] = q"
   ]
  },
  {
   "cell_type": "markdown",
   "metadata": {},
   "source": [
    "# Renormalize individual transits"
   ]
  },
  {
   "cell_type": "code",
   "execution_count": 23,
   "metadata": {},
   "outputs": [
    {
     "name": "stdout",
     "output_type": "stream",
     "text": [
      "\n",
      "PLANET 0\n",
      "\n",
      "PLANET 1\n"
     ]
    }
   ],
   "source": [
    "if lc is not None:\n",
    "    t_ = lc.time\n",
    "    f_ = lc.flux\n",
    "\n",
    "    for npl in range(NPL):\n",
    "        print(\"\\nPLANET\", npl)\n",
    "        for i, t0 in enumerate(ephemeris[npl]):\n",
    "            if tts_group[npl][i] != -99:\n",
    "                wide_mask = np.abs(t_-t0) < 1.5*dur[npl] + ttv_buffer[npl]\n",
    "                narrow_mask = np.abs(t_-t0) < 0.5*dur[npl] + ttv_buffer[npl]\n",
    "                \n",
    "                m_ = wide_mask*~narrow_mask\n",
    "                \n",
    "                if (np.sum(wide_mask)==0) + (np.sum(narrow_mask)==0) + (np.sum(m_)==0):\n",
    "                    warnings.warn(\"Found a transit with no photometric data...this is unexpected\")\n",
    "                    \n",
    "                else:\n",
    "                    f_[wide_mask] /= np.mean(f_[m_])\n",
    "                \n",
    "    lc.flux = np.copy(f_)"
   ]
  },
  {
   "cell_type": "markdown",
   "metadata": {},
   "source": [
    "# Make photometry masks"
   ]
  },
  {
   "cell_type": "code",
   "execution_count": 24,
   "metadata": {},
   "outputs": [],
   "source": [
    "if sc is not None:\n",
    "    sc_mask = np.zeros((NPL,len(sc.time)),dtype='int')\n",
    "    \n",
    "    for npl in range(NPL):\n",
    "        masksize = np.max([2/24,1.5*dur[npl]])        \n",
    "        \n",
    "        for i, t0 in enumerate(quick_transit_times[npl]):\n",
    "            use = np.abs(sc.time - t0) <= masksize\n",
    "            \n",
    "            sc_mask[npl][use] = tts_group[npl][i]\n",
    "\n",
    "else:\n",
    "    sc_mask = None\n",
    "\n",
    "    \n",
    "if lc is not None:\n",
    "    lc_mask = np.zeros((NPL,len(lc.time)),dtype='int')\n",
    "    \n",
    "    for npl in range(NPL):\n",
    "        masksize = np.max([2/24,1.5*dur[npl]])        \n",
    "        \n",
    "        for i, t0 in enumerate(quick_transit_times[npl]):\n",
    "            use = np.abs(lc.time - t0) <= masksize\n",
    "            \n",
    "            lc_mask[npl][use] = tts_group[npl][i]\n",
    "        \n",
    "else:\n",
    "    lc_mask = None"
   ]
  },
  {
   "cell_type": "code",
   "execution_count": 25,
   "metadata": {},
   "outputs": [
    {
     "data": {
      "image/png": "[encoded data removed]",
      "text/plain": [
       "<Figure size 1440x288 with 1 Axes>"
      ]
     },
     "metadata": {
      "needs_background": "light"
     },
     "output_type": "display_data"
    },
    {
     "data": {
      "image/png": "[encoded data removed]",
      "text/plain": [
       "<Figure size 1440x288 with 1 Axes>"
      ]
     },
     "metadata": {
      "needs_background": "light"
     },
     "output_type": "display_data"
    }
   ],
   "source": [
    "for npl in range(NPL):\n",
    "    plt.figure(figsize=(20,4))\n",
    "    \n",
    "    for g in np.unique(tts_group[npl]):\n",
    "        m_ = lc_mask[npl] == g\n",
    "        \n",
    "        if g != -99:\n",
    "            plt.plot(lc.time[m_], lc.flux[m_], c=\"C{0}\".format(g))\n",
    "    \n",
    "    plt.show()"
   ]
  },
  {
   "cell_type": "markdown",
   "metadata": {},
   "source": [
    "# Grab the relevant data"
   ]
  },
  {
   "cell_type": "code",
   "execution_count": 26,
   "metadata": {},
   "outputs": [],
   "source": [
    "# grab data near transits for each quarter\n",
    "all_time = [None]*18\n",
    "all_flux = [None]*18\n",
    "all_mask = [None]*18\n",
    "all_dtype = [\"none\"]*18\n",
    "\n",
    "lc_flux = []\n",
    "sc_flux = []\n",
    "\n",
    "\n",
    "for q in range(18):\n",
    "    if sc is not None:\n",
    "        if np.isin(q, sc.quarter):\n",
    "            use = (sc_mask.sum(0) != 0)*(sc.quarter == q)\n",
    "\n",
    "            if np.sum(use) > 45:\n",
    "                all_time[q] = sc.time[use]\n",
    "                all_flux[q] = sc.flux[use]\n",
    "                all_mask[q] = sc_mask[:,use]\n",
    "                all_dtype[q] = \"short\"\n",
    "\n",
    "                sc_flux.append(sc.flux[use])\n",
    "                \n",
    "            else:\n",
    "                all_dtype[q] = \"short_no_transits\"\n",
    "\n",
    "    \n",
    "    if lc is not None:\n",
    "        if np.isin(q, lc.quarter):\n",
    "            use = (lc_mask.sum(0) != 0)*(lc.quarter == q)\n",
    "\n",
    "            if np.sum(use) > 5:\n",
    "                all_time[q] = lc.time[use]\n",
    "                all_flux[q] = lc.flux[use]\n",
    "                all_mask[q] = lc_mask[:,use]\n",
    "                all_dtype[q] = \"long\"\n",
    "\n",
    "                lc_flux.append(lc.flux[use])\n",
    "                \n",
    "            else:\n",
    "                all_dtype[q] = \"long_no_transits\""
   ]
  },
  {
   "cell_type": "code",
   "execution_count": 27,
   "metadata": {},
   "outputs": [],
   "source": [
    "# check which quarters have data and transits\n",
    "good = (np.array(all_dtype) == \"short\") + (np.array(all_dtype) == \"long\")\n",
    "quarters = np.arange(18)[good]\n",
    "nq = len(quarters)\n",
    "\n",
    "seasons = np.sort(np.unique(quarters % 4))\n",
    "\n",
    "# make some linear flux arrays (for convenience use laster)\n",
    "try: sc_flux_lin = np.hstack(sc_flux)\n",
    "except: sc_flux_lin = np.array([])\n",
    "    \n",
    "try: lc_flux_lin = np.hstack(lc_flux)\n",
    "except: lc_flux_lin = np.array([])\n",
    "    \n",
    "try:\n",
    "    good_flux = np.hstack([sc_flux_lin, lc_flux_lin])\n",
    "except:\n",
    "    try:\n",
    "        good_flux = np.hstack(sc_flux)\n",
    "    except:\n",
    "        good_flux = np.hstack(lc_flux)"
   ]
  },
  {
   "cell_type": "code",
   "execution_count": 28,
   "metadata": {},
   "outputs": [
    {
     "name": "stdout",
     "output_type": "stream",
     "text": [
      "\n",
      "cumulative runtime =  8 s\n",
      "\n"
     ]
    }
   ],
   "source": [
    "print('')\n",
    "print('cumulative runtime = ', int(timer() - global_start_time), 's')\n",
    "print('')"
   ]
  },
  {
   "cell_type": "markdown",
   "metadata": {},
   "source": [
    "# Fit transit times"
   ]
  },
  {
   "cell_type": "code",
   "execution_count": 29,
   "metadata": {},
   "outputs": [
    {
     "name": "stdout",
     "output_type": "stream",
     "text": [
      "Fitting transit times\n",
      "\n",
      "\n"
     ]
    }
   ],
   "source": [
    "print(\"Fitting transit times\\n\\n\")"
   ]
  },
  {
   "cell_type": "code",
   "execution_count": 35,
   "metadata": {
    "scrolled": true
   },
   "outputs": [
    {
     "name": "stdout",
     "output_type": "stream",
     "text": [
      "\n",
      "PLANET 0, GROUP 1\n",
      "16 transits\n",
      "quarters: [0 1 2]\n"
     ]
    },
    {
     "name": "stderr",
     "output_type": "stream",
     "text": [
      "optimizing logp for variables: [logjit, flux0]\n"
     ]
    },
    {
     "data": {
      "text/html": [
       "\n",
       "    <div>\n",
       "        <style>\n",
       "            /* Turns off some styling */\n",
       "            progress {\n",
       "                /* gets rid of default border in Firefox and Opera. */\n",
       "                border: none;\n",
       "                /* Needs to be in here for Safari polyfill so background images work as expected. */\n",
       "                background-size: auto;\n",
       "            }\n",
       "            .progress-bar-interrupted, .progress-bar-interrupted::-webkit-progress-bar {\n",
       "                background: #F44336;\n",
       "            }\n",
       "        </style>\n",
       "      <progress value='34' class='' max='34' style='width:300px; height:20px; vertical-align: middle;'></progress>\n",
       "      100.00% [34/34 00:00<00:00 logp = 1.143e+03]\n",
       "    </div>\n",
       "    "
      ],
      "text/plain": [
       "<IPython.core.display.HTML object>"
      ]
     },
     "metadata": {},
     "output_type": "display_data"
    },
    {
     "name": "stdout",
     "output_type": "stream",
     "text": [
      "\n"
     ]
    },
    {
     "name": "stderr",
     "output_type": "stream",
     "text": [
      "message: Optimization terminated successfully.\n",
      "logp: -339.18446246430085 -> 1142.637711756508\n",
      "optimizing logp for variables: [logjit, flux0, tt_offset]\n"
     ]
    },
    {
     "data": {
      "text/html": [
       "\n",
       "    <div>\n",
       "        <style>\n",
       "            /* Turns off some styling */\n",
       "            progress {\n",
       "                /* gets rid of default border in Firefox and Opera. */\n",
       "                border: none;\n",
       "                /* Needs to be in here for Safari polyfill so background images work as expected. */\n",
       "                background-size: auto;\n",
       "            }\n",
       "            .progress-bar-interrupted, .progress-bar-interrupted::-webkit-progress-bar {\n",
       "                background: #F44336;\n",
       "            }\n",
       "        </style>\n",
       "      <progress value='126' class='' max='126' style='width:300px; height:20px; vertical-align: middle;'></progress>\n",
       "      100.00% [126/126 00:00<00:00 logp = 1.147e+03]\n",
       "    </div>\n",
       "    "
      ],
      "text/plain": [
       "<IPython.core.display.HTML object>"
      ]
     },
     "metadata": {},
     "output_type": "display_data"
    },
    {
     "name": "stdout",
     "output_type": "stream",
     "text": [
      "\n"
     ]
    },
    {
     "name": "stderr",
     "output_type": "stream",
     "text": [
      "message: Desired error not necessarily achieved due to precision loss.\n",
      "logp: 1142.637711756508 -> 1146.6647300805075\n",
      "/Users/research/anaconda3/lib/python3.7/site-packages/pymc3_ext/sampling/schedule.py:34: UserWarning: there are not enough tuning steps to accomodate the tuning schedule; assigning automatically as 20%/70%/10%\n",
      "  \"there are not enough tuning steps to accomodate the tuning \"\n",
      "Only 3 samples in chain.\n",
      "Multiprocess sampling (2 chains in 4 jobs)\n",
      "NUTS: [logjit, flux0, tt_offset]\n"
     ]
    },
    {
     "data": {
      "text/html": [
       "\n",
       "    <div>\n",
       "        <style>\n",
       "            /* Turns off some styling */\n",
       "            progress {\n",
       "                /* gets rid of default border in Firefox and Opera. */\n",
       "                border: none;\n",
       "                /* Needs to be in here for Safari polyfill so background images work as expected. */\n",
       "                background-size: auto;\n",
       "            }\n",
       "            .progress-bar-interrupted, .progress-bar-interrupted::-webkit-progress-bar {\n",
       "                background: #F44336;\n",
       "            }\n",
       "        </style>\n",
       "      <progress value='26' class='' max='26' style='width:300px; height:20px; vertical-align: middle;'></progress>\n",
       "      100.00% [26/26 01:14<00:00 Sampling 2 chains, 0 divergences]\n",
       "    </div>\n",
       "    "
      ],
      "text/plain": [
       "<IPython.core.display.HTML object>"
      ]
     },
     "metadata": {},
     "output_type": "display_data"
    },
    {
     "name": "stderr",
     "output_type": "stream",
     "text": [
      "Sampling 2 chains for 10 tune and 3 draw iterations (20 + 6 draws total) took 84 seconds.\n",
      "/Users/research/anaconda3/lib/python3.7/site-packages/pymc3/sampling.py:643: UserWarning: The number of samples is too small to check convergence reliably.\n",
      "  warnings.warn(\"The number of samples is too small to check convergence reliably.\")\n",
      "The chain reached the maximum tree depth. Increase max_treedepth, increase target_accept or reparameterize.\n",
      "The chain reached the maximum tree depth. Increase max_treedepth, increase target_accept or reparameterize.\n"
     ]
    },
    {
     "name": "stdout",
     "output_type": "stream",
     "text": [
      "\n",
      "PLANET 0, GROUP 2\n",
      "14 transits\n",
      "quarters: [3 4]\n"
     ]
    },
    {
     "name": "stderr",
     "output_type": "stream",
     "text": [
      "optimizing logp for variables: [logjit, flux0]\n"
     ]
    },
    {
     "data": {
      "text/html": [
       "\n",
       "    <div>\n",
       "        <style>\n",
       "            /* Turns off some styling */\n",
       "            progress {\n",
       "                /* gets rid of default border in Firefox and Opera. */\n",
       "                border: none;\n",
       "                /* Needs to be in here for Safari polyfill so background images work as expected. */\n",
       "                background-size: auto;\n",
       "            }\n",
       "            .progress-bar-interrupted, .progress-bar-interrupted::-webkit-progress-bar {\n",
       "                background: #F44336;\n",
       "            }\n",
       "        </style>\n",
       "      <progress value='143' class='' max='143' style='width:300px; height:20px; vertical-align: middle;'></progress>\n",
       "      100.00% [143/143 00:00<00:00 logp = 9.971e+02]\n",
       "    </div>\n",
       "    "
      ],
      "text/plain": [
       "<IPython.core.display.HTML object>"
      ]
     },
     "metadata": {},
     "output_type": "display_data"
    },
    {
     "name": "stdout",
     "output_type": "stream",
     "text": [
      "\n"
     ]
    },
    {
     "name": "stderr",
     "output_type": "stream",
     "text": [
      "message: Optimization terminated successfully.\n",
      "logp: -301.5774566653725 -> 997.1382283362194\n",
      "optimizing logp for variables: [logjit, flux0, tt_offset]\n"
     ]
    },
    {
     "data": {
      "text/html": [
       "\n",
       "    <div>\n",
       "        <style>\n",
       "            /* Turns off some styling */\n",
       "            progress {\n",
       "                /* gets rid of default border in Firefox and Opera. */\n",
       "                border: none;\n",
       "                /* Needs to be in here for Safari polyfill so background images work as expected. */\n",
       "                background-size: auto;\n",
       "            }\n",
       "            .progress-bar-interrupted, .progress-bar-interrupted::-webkit-progress-bar {\n",
       "                background: #F44336;\n",
       "            }\n",
       "        </style>\n",
       "      <progress value='40' class='' max='40' style='width:300px; height:20px; vertical-align: middle;'></progress>\n",
       "      100.00% [40/40 00:00<00:00 logp = 9.992e+02]\n",
       "    </div>\n",
       "    "
      ],
      "text/plain": [
       "<IPython.core.display.HTML object>"
      ]
     },
     "metadata": {},
     "output_type": "display_data"
    },
    {
     "name": "stdout",
     "output_type": "stream",
     "text": [
      "\n"
     ]
    },
    {
     "name": "stderr",
     "output_type": "stream",
     "text": [
      "message: Optimization terminated successfully.\n",
      "logp: 997.1382283362194 -> 999.2418685131947\n",
      "/Users/research/anaconda3/lib/python3.7/site-packages/pymc3_ext/sampling/schedule.py:34: UserWarning: there are not enough tuning steps to accomodate the tuning schedule; assigning automatically as 20%/70%/10%\n",
      "  \"there are not enough tuning steps to accomodate the tuning \"\n",
      "Only 3 samples in chain.\n",
      "Multiprocess sampling (2 chains in 4 jobs)\n",
      "NUTS: [logjit, flux0, tt_offset]\n"
     ]
    },
    {
     "data": {
      "text/html": [
       "\n",
       "    <div>\n",
       "        <style>\n",
       "            /* Turns off some styling */\n",
       "            progress {\n",
       "                /* gets rid of default border in Firefox and Opera. */\n",
       "                border: none;\n",
       "                /* Needs to be in here for Safari polyfill so background images work as expected. */\n",
       "                background-size: auto;\n",
       "            }\n",
       "            .progress-bar-interrupted, .progress-bar-interrupted::-webkit-progress-bar {\n",
       "                background: #F44336;\n",
       "            }\n",
       "        </style>\n",
       "      <progress value='26' class='' max='26' style='width:300px; height:20px; vertical-align: middle;'></progress>\n",
       "      100.00% [26/26 01:08<00:00 Sampling 2 chains, 0 divergences]\n",
       "    </div>\n",
       "    "
      ],
      "text/plain": [
       "<IPython.core.display.HTML object>"
      ]
     },
     "metadata": {},
     "output_type": "display_data"
    },
    {
     "name": "stderr",
     "output_type": "stream",
     "text": [
      "Sampling 2 chains for 10 tune and 3 draw iterations (20 + 6 draws total) took 78 seconds.\n",
      "/Users/research/anaconda3/lib/python3.7/site-packages/pymc3/sampling.py:643: UserWarning: The number of samples is too small to check convergence reliably.\n",
      "  warnings.warn(\"The number of samples is too small to check convergence reliably.\")\n",
      "The chain reached the maximum tree depth. Increase max_treedepth, increase target_accept or reparameterize.\n",
      "The chain reached the maximum tree depth. Increase max_treedepth, increase target_accept or reparameterize.\n"
     ]
    },
    {
     "name": "stdout",
     "output_type": "stream",
     "text": [
      "\n",
      "PLANET 0, GROUP 3\n",
      "15 transits\n",
      "quarters: [4 5]\n"
     ]
    },
    {
     "name": "stderr",
     "output_type": "stream",
     "text": [
      "optimizing logp for variables: [logjit, flux0]\n"
     ]
    },
    {
     "data": {
      "text/html": [
       "\n",
       "    <div>\n",
       "        <style>\n",
       "            /* Turns off some styling */\n",
       "            progress {\n",
       "                /* gets rid of default border in Firefox and Opera. */\n",
       "                border: none;\n",
       "                /* Needs to be in here for Safari polyfill so background images work as expected. */\n",
       "                background-size: auto;\n",
       "            }\n",
       "            .progress-bar-interrupted, .progress-bar-interrupted::-webkit-progress-bar {\n",
       "                background: #F44336;\n",
       "            }\n",
       "        </style>\n",
       "      <progress value='164' class='' max='164' style='width:300px; height:20px; vertical-align: middle;'></progress>\n",
       "      100.00% [164/164 00:00<00:00 logp = 1.068e+03]\n",
       "    </div>\n",
       "    "
      ],
      "text/plain": [
       "<IPython.core.display.HTML object>"
      ]
     },
     "metadata": {},
     "output_type": "display_data"
    },
    {
     "name": "stdout",
     "output_type": "stream",
     "text": [
      "\n"
     ]
    },
    {
     "name": "stderr",
     "output_type": "stream",
     "text": [
      "message: Desired error not necessarily achieved due to precision loss.\n",
      "logp: -324.6734624807482 -> 1067.704272525259\n",
      "optimizing logp for variables: [logjit, flux0, tt_offset]\n"
     ]
    },
    {
     "data": {
      "text/html": [
       "\n",
       "    <div>\n",
       "        <style>\n",
       "            /* Turns off some styling */\n",
       "            progress {\n",
       "                /* gets rid of default border in Firefox and Opera. */\n",
       "                border: none;\n",
       "                /* Needs to be in here for Safari polyfill so background images work as expected. */\n",
       "                background-size: auto;\n",
       "            }\n",
       "            .progress-bar-interrupted, .progress-bar-interrupted::-webkit-progress-bar {\n",
       "                background: #F44336;\n",
       "            }\n",
       "        </style>\n",
       "      <progress value='127' class='' max='127' style='width:300px; height:20px; vertical-align: middle;'></progress>\n",
       "      100.00% [127/127 00:00<00:00 logp = 1.068e+03]\n",
       "    </div>\n",
       "    "
      ],
      "text/plain": [
       "<IPython.core.display.HTML object>"
      ]
     },
     "metadata": {},
     "output_type": "display_data"
    },
    {
     "name": "stdout",
     "output_type": "stream",
     "text": [
      "\n"
     ]
    },
    {
     "name": "stderr",
     "output_type": "stream",
     "text": [
      "message: Desired error not necessarily achieved due to precision loss.\n",
      "logp: 1067.704272525259 -> 1067.7445195345992\n",
      "/Users/research/anaconda3/lib/python3.7/site-packages/pymc3_ext/sampling/schedule.py:34: UserWarning: there are not enough tuning steps to accomodate the tuning schedule; assigning automatically as 20%/70%/10%\n",
      "  \"there are not enough tuning steps to accomodate the tuning \"\n",
      "Only 3 samples in chain.\n",
      "Multiprocess sampling (2 chains in 4 jobs)\n",
      "NUTS: [logjit, flux0, tt_offset]\n"
     ]
    },
    {
     "data": {
      "text/html": [
       "\n",
       "    <div>\n",
       "        <style>\n",
       "            /* Turns off some styling */\n",
       "            progress {\n",
       "                /* gets rid of default border in Firefox and Opera. */\n",
       "                border: none;\n",
       "                /* Needs to be in here for Safari polyfill so background images work as expected. */\n",
       "                background-size: auto;\n",
       "            }\n",
       "            .progress-bar-interrupted, .progress-bar-interrupted::-webkit-progress-bar {\n",
       "                background: #F44336;\n",
       "            }\n",
       "        </style>\n",
       "      <progress value='26' class='' max='26' style='width:300px; height:20px; vertical-align: middle;'></progress>\n",
       "      100.00% [26/26 01:11<00:00 Sampling 2 chains, 0 divergences]\n",
       "    </div>\n",
       "    "
      ],
      "text/plain": [
       "<IPython.core.display.HTML object>"
      ]
     },
     "metadata": {},
     "output_type": "display_data"
    },
    {
     "name": "stderr",
     "output_type": "stream",
     "text": [
      "Sampling 2 chains for 10 tune and 3 draw iterations (20 + 6 draws total) took 81 seconds.\n",
      "/Users/research/anaconda3/lib/python3.7/site-packages/pymc3/sampling.py:643: UserWarning: The number of samples is too small to check convergence reliably.\n",
      "  warnings.warn(\"The number of samples is too small to check convergence reliably.\")\n",
      "The chain reached the maximum tree depth. Increase max_treedepth, increase target_accept or reparameterize.\n"
     ]
    },
    {
     "name": "stdout",
     "output_type": "stream",
     "text": [
      "\n",
      "PLANET 0, GROUP 4\n",
      "14 transits\n",
      "quarters: [5 6 8]\n"
     ]
    },
    {
     "name": "stderr",
     "output_type": "stream",
     "text": [
      "optimizing logp for variables: [logjit, flux0]\n"
     ]
    },
    {
     "data": {
      "text/html": [
       "\n",
       "    <div>\n",
       "        <style>\n",
       "            /* Turns off some styling */\n",
       "            progress {\n",
       "                /* gets rid of default border in Firefox and Opera. */\n",
       "                border: none;\n",
       "                /* Needs to be in here for Safari polyfill so background images work as expected. */\n",
       "                background-size: auto;\n",
       "            }\n",
       "            .progress-bar-interrupted, .progress-bar-interrupted::-webkit-progress-bar {\n",
       "                background: #F44336;\n",
       "            }\n",
       "        </style>\n",
       "      <progress value='80' class='' max='80' style='width:300px; height:20px; vertical-align: middle;'></progress>\n",
       "      100.00% [80/80 00:00<00:00 logp = 9.898e+02]\n",
       "    </div>\n",
       "    "
      ],
      "text/plain": [
       "<IPython.core.display.HTML object>"
      ]
     },
     "metadata": {},
     "output_type": "display_data"
    },
    {
     "name": "stdout",
     "output_type": "stream",
     "text": [
      "\n"
     ]
    },
    {
     "name": "stderr",
     "output_type": "stream",
     "text": [
      "message: Desired error not necessarily achieved due to precision loss.\n",
      "logp: -293.913109538056 -> 989.7997172950706\n",
      "optimizing logp for variables: [logjit, flux0, tt_offset]\n"
     ]
    },
    {
     "data": {
      "text/html": [
       "\n",
       "    <div>\n",
       "        <style>\n",
       "            /* Turns off some styling */\n",
       "            progress {\n",
       "                /* gets rid of default border in Firefox and Opera. */\n",
       "                border: none;\n",
       "                /* Needs to be in here for Safari polyfill so background images work as expected. */\n",
       "                background-size: auto;\n",
       "            }\n",
       "            .progress-bar-interrupted, .progress-bar-interrupted::-webkit-progress-bar {\n",
       "                background: #F44336;\n",
       "            }\n",
       "        </style>\n",
       "      <progress value='33' class='' max='33' style='width:300px; height:20px; vertical-align: middle;'></progress>\n",
       "      100.00% [33/33 00:00<00:00 logp = 9.899e+02]\n",
       "    </div>\n",
       "    "
      ],
      "text/plain": [
       "<IPython.core.display.HTML object>"
      ]
     },
     "metadata": {},
     "output_type": "display_data"
    },
    {
     "name": "stdout",
     "output_type": "stream",
     "text": [
      "\n"
     ]
    },
    {
     "name": "stderr",
     "output_type": "stream",
     "text": [
      "message: Optimization terminated successfully.\n",
      "logp: 989.7997172950706 -> 989.9468954398974\n",
      "/Users/research/anaconda3/lib/python3.7/site-packages/pymc3_ext/sampling/schedule.py:34: UserWarning: there are not enough tuning steps to accomodate the tuning schedule; assigning automatically as 20%/70%/10%\n",
      "  \"there are not enough tuning steps to accomodate the tuning \"\n",
      "Only 3 samples in chain.\n",
      "Multiprocess sampling (2 chains in 4 jobs)\n",
      "NUTS: [logjit, flux0, tt_offset]\n"
     ]
    },
    {
     "data": {
      "text/html": [
       "\n",
       "    <div>\n",
       "        <style>\n",
       "            /* Turns off some styling */\n",
       "            progress {\n",
       "                /* gets rid of default border in Firefox and Opera. */\n",
       "                border: none;\n",
       "                /* Needs to be in here for Safari polyfill so background images work as expected. */\n",
       "                background-size: auto;\n",
       "            }\n",
       "            .progress-bar-interrupted, .progress-bar-interrupted::-webkit-progress-bar {\n",
       "                background: #F44336;\n",
       "            }\n",
       "        </style>\n",
       "      <progress value='6' class='' max='26' style='width:300px; height:20px; vertical-align: middle;'></progress>\n",
       "      23.08% [6/26 01:06<03:40 Sampling 2 chains, 0 divergences]\n",
       "    </div>\n",
       "    "
      ],
      "text/plain": [
       "<IPython.core.display.HTML object>"
      ]
     },
     "metadata": {},
     "output_type": "display_data"
    },
    {
     "ename": "ValueError",
     "evalue": "Not enough samples to build a trace.",
     "output_type": "error",
     "traceback": [
      "\u001b[0;31m---------------------------------------------------------------------------\u001b[0m",
      "\u001b[0;31mKeyboardInterrupt\u001b[0m                         Traceback (most recent call last)",
      "\u001b[0;32m~/anaconda3/lib/python3.7/site-packages/pymc3/sampling.py\u001b[0m in \u001b[0;36m_mp_sample\u001b[0;34m(draws, tune, step, chains, cores, chain, random_seed, start, progressbar, trace, model, callback, discard_tuned_samples, mp_ctx, pickle_backend, **kwargs)\u001b[0m\n\u001b[1;32m   1476\u001b[0m             \u001b[0;32mwith\u001b[0m \u001b[0msampler\u001b[0m\u001b[0;34m:\u001b[0m\u001b[0;34m\u001b[0m\u001b[0;34m\u001b[0m\u001b[0m\n\u001b[0;32m-> 1477\u001b[0;31m                 \u001b[0;32mfor\u001b[0m \u001b[0mdraw\u001b[0m \u001b[0;32min\u001b[0m \u001b[0msampler\u001b[0m\u001b[0;34m:\u001b[0m\u001b[0;34m\u001b[0m\u001b[0;34m\u001b[0m\u001b[0m\n\u001b[0m\u001b[1;32m   1478\u001b[0m                     \u001b[0mtrace\u001b[0m \u001b[0;34m=\u001b[0m \u001b[0mtraces\u001b[0m\u001b[0;34m[\u001b[0m\u001b[0mdraw\u001b[0m\u001b[0;34m.\u001b[0m\u001b[0mchain\u001b[0m \u001b[0;34m-\u001b[0m \u001b[0mchain\u001b[0m\u001b[0;34m]\u001b[0m\u001b[0;34m\u001b[0m\u001b[0;34m\u001b[0m\u001b[0m\n",
      "\u001b[0;32m~/anaconda3/lib/python3.7/site-packages/pymc3/parallel_sampling.py\u001b[0m in \u001b[0;36m__iter__\u001b[0;34m(self)\u001b[0m\n\u001b[1;32m    478\u001b[0m         \u001b[0;32mwhile\u001b[0m \u001b[0mself\u001b[0m\u001b[0;34m.\u001b[0m\u001b[0m_active\u001b[0m\u001b[0;34m:\u001b[0m\u001b[0;34m\u001b[0m\u001b[0;34m\u001b[0m\u001b[0m\n\u001b[0;32m--> 479\u001b[0;31m             \u001b[0mdraw\u001b[0m \u001b[0;34m=\u001b[0m \u001b[0mProcessAdapter\u001b[0m\u001b[0;34m.\u001b[0m\u001b[0mrecv_draw\u001b[0m\u001b[0;34m(\u001b[0m\u001b[0mself\u001b[0m\u001b[0;34m.\u001b[0m\u001b[0m_active\u001b[0m\u001b[0;34m)\u001b[0m\u001b[0;34m\u001b[0m\u001b[0;34m\u001b[0m\u001b[0m\n\u001b[0m\u001b[1;32m    480\u001b[0m             \u001b[0mproc\u001b[0m\u001b[0;34m,\u001b[0m \u001b[0mis_last\u001b[0m\u001b[0;34m,\u001b[0m \u001b[0mdraw\u001b[0m\u001b[0;34m,\u001b[0m \u001b[0mtuning\u001b[0m\u001b[0;34m,\u001b[0m \u001b[0mstats\u001b[0m\u001b[0;34m,\u001b[0m \u001b[0mwarns\u001b[0m \u001b[0;34m=\u001b[0m \u001b[0mdraw\u001b[0m\u001b[0;34m\u001b[0m\u001b[0;34m\u001b[0m\u001b[0m\n",
      "\u001b[0;32m~/anaconda3/lib/python3.7/site-packages/pymc3/parallel_sampling.py\u001b[0m in \u001b[0;36mrecv_draw\u001b[0;34m(processes, timeout)\u001b[0m\n\u001b[1;32m    345\u001b[0m         \u001b[0mpipes\u001b[0m \u001b[0;34m=\u001b[0m \u001b[0;34m[\u001b[0m\u001b[0mproc\u001b[0m\u001b[0;34m.\u001b[0m\u001b[0m_msg_pipe\u001b[0m \u001b[0;32mfor\u001b[0m \u001b[0mproc\u001b[0m \u001b[0;32min\u001b[0m \u001b[0mprocesses\u001b[0m\u001b[0;34m]\u001b[0m\u001b[0;34m\u001b[0m\u001b[0;34m\u001b[0m\u001b[0m\n\u001b[0;32m--> 346\u001b[0;31m         \u001b[0mready\u001b[0m \u001b[0;34m=\u001b[0m \u001b[0mmultiprocessing\u001b[0m\u001b[0;34m.\u001b[0m\u001b[0mconnection\u001b[0m\u001b[0;34m.\u001b[0m\u001b[0mwait\u001b[0m\u001b[0;34m(\u001b[0m\u001b[0mpipes\u001b[0m\u001b[0;34m)\u001b[0m\u001b[0;34m\u001b[0m\u001b[0;34m\u001b[0m\u001b[0m\n\u001b[0m\u001b[1;32m    347\u001b[0m         \u001b[0;32mif\u001b[0m \u001b[0;32mnot\u001b[0m \u001b[0mready\u001b[0m\u001b[0;34m:\u001b[0m\u001b[0;34m\u001b[0m\u001b[0;34m\u001b[0m\u001b[0m\n",
      "\u001b[0;32m~/anaconda3/lib/python3.7/multiprocessing/connection.py\u001b[0m in \u001b[0;36mwait\u001b[0;34m(object_list, timeout)\u001b[0m\n\u001b[1;32m    919\u001b[0m             \u001b[0;32mwhile\u001b[0m \u001b[0;32mTrue\u001b[0m\u001b[0;34m:\u001b[0m\u001b[0;34m\u001b[0m\u001b[0;34m\u001b[0m\u001b[0m\n\u001b[0;32m--> 920\u001b[0;31m                 \u001b[0mready\u001b[0m \u001b[0;34m=\u001b[0m \u001b[0mselector\u001b[0m\u001b[0;34m.\u001b[0m\u001b[0mselect\u001b[0m\u001b[0;34m(\u001b[0m\u001b[0mtimeout\u001b[0m\u001b[0;34m)\u001b[0m\u001b[0;34m\u001b[0m\u001b[0;34m\u001b[0m\u001b[0m\n\u001b[0m\u001b[1;32m    921\u001b[0m                 \u001b[0;32mif\u001b[0m \u001b[0mready\u001b[0m\u001b[0;34m:\u001b[0m\u001b[0;34m\u001b[0m\u001b[0;34m\u001b[0m\u001b[0m\n",
      "\u001b[0;32m~/anaconda3/lib/python3.7/selectors.py\u001b[0m in \u001b[0;36mselect\u001b[0;34m(self, timeout)\u001b[0m\n\u001b[1;32m    414\u001b[0m         \u001b[0;32mtry\u001b[0m\u001b[0;34m:\u001b[0m\u001b[0;34m\u001b[0m\u001b[0;34m\u001b[0m\u001b[0m\n\u001b[0;32m--> 415\u001b[0;31m             \u001b[0mfd_event_list\u001b[0m \u001b[0;34m=\u001b[0m \u001b[0mself\u001b[0m\u001b[0;34m.\u001b[0m\u001b[0m_selector\u001b[0m\u001b[0;34m.\u001b[0m\u001b[0mpoll\u001b[0m\u001b[0;34m(\u001b[0m\u001b[0mtimeout\u001b[0m\u001b[0;34m)\u001b[0m\u001b[0;34m\u001b[0m\u001b[0;34m\u001b[0m\u001b[0m\n\u001b[0m\u001b[1;32m    416\u001b[0m         \u001b[0;32mexcept\u001b[0m \u001b[0mInterruptedError\u001b[0m\u001b[0;34m:\u001b[0m\u001b[0;34m\u001b[0m\u001b[0;34m\u001b[0m\u001b[0m\n",
      "\u001b[0;31mKeyboardInterrupt\u001b[0m: ",
      "\nDuring handling of the above exception, another exception occurred:\n",
      "\u001b[0;31mValueError\u001b[0m                                Traceback (most recent call last)",
      "\u001b[0;32m<ipython-input-35-c4ce2a91247f>\u001b[0m in \u001b[0;36m<module>\u001b[0;34m\u001b[0m\n\u001b[1;32m    118\u001b[0m                                    \u001b[0mstart\u001b[0m\u001b[0;34m=\u001b[0m\u001b[0mhbm_map\u001b[0m\u001b[0;34m,\u001b[0m\u001b[0;34m\u001b[0m\u001b[0;34m\u001b[0m\u001b[0m\n\u001b[1;32m    119\u001b[0m                                    \u001b[0mtarget_accept\u001b[0m\u001b[0;34m=\u001b[0m\u001b[0;36m0.9\u001b[0m\u001b[0;34m,\u001b[0m\u001b[0;34m\u001b[0m\u001b[0;34m\u001b[0m\u001b[0m\n\u001b[0;32m--> 120\u001b[0;31m                                    \u001b[0mparameter_groups\u001b[0m\u001b[0;34m=\u001b[0m\u001b[0;34m[\u001b[0m\u001b[0mpmx\u001b[0m\u001b[0;34m.\u001b[0m\u001b[0mParameterGroup\u001b[0m\u001b[0;34m(\u001b[0m\u001b[0;34m[\u001b[0m\u001b[0mtt_offset\u001b[0m\u001b[0;34m]\u001b[0m\u001b[0;34m,\u001b[0m \u001b[0;34m\"diag\"\u001b[0m\u001b[0;34m)\u001b[0m\u001b[0;34m]\u001b[0m\u001b[0;34m\u001b[0m\u001b[0;34m\u001b[0m\u001b[0m\n\u001b[0m\u001b[1;32m    121\u001b[0m                                   )\n\u001b[1;32m    122\u001b[0m \u001b[0;34m\u001b[0m\u001b[0m\n",
      "\u001b[0;32m~/anaconda3/lib/python3.7/site-packages/pymc3_ext/sampling/sampling.py\u001b[0m in \u001b[0;36msample\u001b[0;34m(draws, tune, model, step_kwargs, warmup_window, adapt_window, cooldown_window, initial_accept, target_accept, gamma, k, t0, parameter_groups, adapt_type, recompute_interval, regularization_steps, regularization_variance, **kwargs)\u001b[0m\n\u001b[1;32m     95\u001b[0m     )\n\u001b[1;32m     96\u001b[0m \u001b[0;34m\u001b[0m\u001b[0m\n\u001b[0;32m---> 97\u001b[0;31m     \u001b[0;32mreturn\u001b[0m \u001b[0mpm\u001b[0m\u001b[0;34m.\u001b[0m\u001b[0msample\u001b[0m\u001b[0;34m(\u001b[0m\u001b[0mdraws\u001b[0m\u001b[0;34m=\u001b[0m\u001b[0mdraws\u001b[0m\u001b[0;34m,\u001b[0m \u001b[0mtune\u001b[0m\u001b[0;34m=\u001b[0m\u001b[0mtune\u001b[0m\u001b[0;34m,\u001b[0m \u001b[0mmodel\u001b[0m\u001b[0;34m=\u001b[0m\u001b[0mmodel\u001b[0m\u001b[0;34m,\u001b[0m \u001b[0mstep\u001b[0m\u001b[0;34m=\u001b[0m\u001b[0mstep\u001b[0m\u001b[0;34m,\u001b[0m \u001b[0;34m**\u001b[0m\u001b[0mkwargs\u001b[0m\u001b[0;34m)\u001b[0m\u001b[0;34m\u001b[0m\u001b[0;34m\u001b[0m\u001b[0m\n\u001b[0m",
      "\u001b[0;32m~/anaconda3/lib/python3.7/site-packages/pymc3/sampling.py\u001b[0m in \u001b[0;36msample\u001b[0;34m(draws, step, init, n_init, start, trace, chain_idx, chains, cores, tune, progressbar, model, random_seed, discard_tuned_samples, compute_convergence_checks, callback, jitter_max_retries, return_inferencedata, idata_kwargs, mp_ctx, pickle_backend, **kwargs)\u001b[0m\n\u001b[1;32m    557\u001b[0m         \u001b[0m_print_step_hierarchy\u001b[0m\u001b[0;34m(\u001b[0m\u001b[0mstep\u001b[0m\u001b[0;34m)\u001b[0m\u001b[0;34m\u001b[0m\u001b[0;34m\u001b[0m\u001b[0m\n\u001b[1;32m    558\u001b[0m         \u001b[0;32mtry\u001b[0m\u001b[0;34m:\u001b[0m\u001b[0;34m\u001b[0m\u001b[0;34m\u001b[0m\u001b[0m\n\u001b[0;32m--> 559\u001b[0;31m             \u001b[0mtrace\u001b[0m \u001b[0;34m=\u001b[0m \u001b[0m_mp_sample\u001b[0m\u001b[0;34m(\u001b[0m\u001b[0;34m**\u001b[0m\u001b[0msample_args\u001b[0m\u001b[0;34m,\u001b[0m \u001b[0;34m**\u001b[0m\u001b[0mparallel_args\u001b[0m\u001b[0;34m)\u001b[0m\u001b[0;34m\u001b[0m\u001b[0;34m\u001b[0m\u001b[0m\n\u001b[0m\u001b[1;32m    560\u001b[0m         \u001b[0;32mexcept\u001b[0m \u001b[0mpickle\u001b[0m\u001b[0;34m.\u001b[0m\u001b[0mPickleError\u001b[0m\u001b[0;34m:\u001b[0m\u001b[0;34m\u001b[0m\u001b[0;34m\u001b[0m\u001b[0m\n\u001b[1;32m    561\u001b[0m             \u001b[0m_log\u001b[0m\u001b[0;34m.\u001b[0m\u001b[0mwarning\u001b[0m\u001b[0;34m(\u001b[0m\u001b[0;34m\"Could not pickle model, sampling singlethreaded.\"\u001b[0m\u001b[0;34m)\u001b[0m\u001b[0;34m\u001b[0m\u001b[0;34m\u001b[0m\u001b[0m\n",
      "\u001b[0;32m~/anaconda3/lib/python3.7/site-packages/pymc3/sampling.py\u001b[0m in \u001b[0;36m_mp_sample\u001b[0;34m(draws, tune, step, chains, cores, chain, random_seed, start, progressbar, trace, model, callback, discard_tuned_samples, mp_ctx, pickle_backend, **kwargs)\u001b[0m\n\u001b[1;32m   1501\u001b[0m     \u001b[0;32mexcept\u001b[0m \u001b[0mKeyboardInterrupt\u001b[0m\u001b[0;34m:\u001b[0m\u001b[0;34m\u001b[0m\u001b[0;34m\u001b[0m\u001b[0m\n\u001b[1;32m   1502\u001b[0m         \u001b[0;32mif\u001b[0m \u001b[0mdiscard_tuned_samples\u001b[0m\u001b[0;34m:\u001b[0m\u001b[0;34m\u001b[0m\u001b[0;34m\u001b[0m\u001b[0m\n\u001b[0;32m-> 1503\u001b[0;31m             \u001b[0mtraces\u001b[0m\u001b[0;34m,\u001b[0m \u001b[0mlength\u001b[0m \u001b[0;34m=\u001b[0m \u001b[0m_choose_chains\u001b[0m\u001b[0;34m(\u001b[0m\u001b[0mtraces\u001b[0m\u001b[0;34m,\u001b[0m \u001b[0mtune\u001b[0m\u001b[0;34m)\u001b[0m\u001b[0;34m\u001b[0m\u001b[0;34m\u001b[0m\u001b[0m\n\u001b[0m\u001b[1;32m   1504\u001b[0m         \u001b[0;32melse\u001b[0m\u001b[0;34m:\u001b[0m\u001b[0;34m\u001b[0m\u001b[0;34m\u001b[0m\u001b[0m\n\u001b[1;32m   1505\u001b[0m             \u001b[0mtraces\u001b[0m\u001b[0;34m,\u001b[0m \u001b[0mlength\u001b[0m \u001b[0;34m=\u001b[0m \u001b[0m_choose_chains\u001b[0m\u001b[0;34m(\u001b[0m\u001b[0mtraces\u001b[0m\u001b[0;34m,\u001b[0m \u001b[0;36m0\u001b[0m\u001b[0;34m)\u001b[0m\u001b[0;34m\u001b[0m\u001b[0;34m\u001b[0m\u001b[0m\n",
      "\u001b[0;32m~/anaconda3/lib/python3.7/site-packages/pymc3/sampling.py\u001b[0m in \u001b[0;36m_choose_chains\u001b[0;34m(traces, tune)\u001b[0m\n\u001b[1;32m   1527\u001b[0m     \u001b[0mlengths\u001b[0m \u001b[0;34m=\u001b[0m \u001b[0;34m[\u001b[0m\u001b[0mmax\u001b[0m\u001b[0;34m(\u001b[0m\u001b[0;36m0\u001b[0m\u001b[0;34m,\u001b[0m \u001b[0mlen\u001b[0m\u001b[0;34m(\u001b[0m\u001b[0mtrace\u001b[0m\u001b[0;34m)\u001b[0m \u001b[0;34m-\u001b[0m \u001b[0mtune\u001b[0m\u001b[0;34m)\u001b[0m \u001b[0;32mfor\u001b[0m \u001b[0mtrace\u001b[0m \u001b[0;32min\u001b[0m \u001b[0mtraces\u001b[0m\u001b[0;34m]\u001b[0m\u001b[0;34m\u001b[0m\u001b[0;34m\u001b[0m\u001b[0m\n\u001b[1;32m   1528\u001b[0m     \u001b[0;32mif\u001b[0m \u001b[0;32mnot\u001b[0m \u001b[0msum\u001b[0m\u001b[0;34m(\u001b[0m\u001b[0mlengths\u001b[0m\u001b[0;34m)\u001b[0m\u001b[0;34m:\u001b[0m\u001b[0;34m\u001b[0m\u001b[0;34m\u001b[0m\u001b[0m\n\u001b[0;32m-> 1529\u001b[0;31m         \u001b[0;32mraise\u001b[0m \u001b[0mValueError\u001b[0m\u001b[0;34m(\u001b[0m\u001b[0;34m\"Not enough samples to build a trace.\"\u001b[0m\u001b[0;34m)\u001b[0m\u001b[0;34m\u001b[0m\u001b[0;34m\u001b[0m\u001b[0m\n\u001b[0m\u001b[1;32m   1530\u001b[0m \u001b[0;34m\u001b[0m\u001b[0m\n\u001b[1;32m   1531\u001b[0m     \u001b[0midxs\u001b[0m \u001b[0;34m=\u001b[0m \u001b[0mnp\u001b[0m\u001b[0;34m.\u001b[0m\u001b[0margsort\u001b[0m\u001b[0;34m(\u001b[0m\u001b[0mlengths\u001b[0m\u001b[0;34m)\u001b[0m\u001b[0;34m\u001b[0m\u001b[0;34m\u001b[0m\u001b[0m\n",
      "\u001b[0;31mValueError\u001b[0m: Not enough samples to build a trace."
     ]
    }
   ],
   "source": [
    "tts_chains = []\n",
    "offset_chains = []\n",
    "pop_sd_chains = []\n",
    "\n",
    "for npl in range(NPL):\n",
    "    for ng in range(1,tts_group[npl].max()+1):\n",
    "        print(\"\\nPLANET {0}, GROUP {1}\".format(npl,ng))\n",
    "        \n",
    "        # identify which quarters and which_seasons have data\n",
    "        use = tts_group[npl] == ng\n",
    "        \n",
    "        group_quarters = np.unique(transit_quarter[npl][use])\n",
    "        group_seasons = np.unique(group_quarters % 4)\n",
    "                        \n",
    "        print(np.sum(use), \"transits\")\n",
    "        print(\"quarters:\", group_quarters)\n",
    "        \n",
    "        # grab transit times\n",
    "        fixed_inds = np.copy(transit_inds[npl][use])\n",
    "        fixed_inds -= fixed_inds[0]\n",
    "        \n",
    "        fixed_ephem = ephemeris[npl][use]\n",
    "        quick_tts = quick_transit_times[npl][use]\n",
    "          \n",
    "        \n",
    "        # define Legendre polynomials\n",
    "        #x = 2*(fixed_ephem-np.min(fixed_ephem))/(np.max(fixed_ephem)-np.min(fixed_ephem)) - 1\n",
    "                \n",
    "        \n",
    "        # now build the model\n",
    "        with pm.Model() as hbm_model:\n",
    "            # hierarchical (hyper)parameters\n",
    "            if USE_HBM:\n",
    "                raise ValueError(\"Not set up for HBM yet\")\n",
    "            else:\n",
    "                pop_sd = ttv_rms_amp[npl]\n",
    "            \n",
    "            \n",
    "            # transit times\n",
    "            tt_offset = pm.StudentT(\"tt_offset\", nu=2, shape=len(fixed_ephem))\n",
    "            transit_times = pm.Deterministic(\"tts\", fixed_ephem + tt_offset*pop_sd)\n",
    "            \n",
    "                        \n",
    "            # set up stellar model and planetary orbit\n",
    "            starrystar = exo.LimbDarkLightCurve(u)\n",
    "            orbit = exo.orbits.TTVOrbit(transit_times = [transit_times], \n",
    "                                        transit_inds = [fixed_inds], \n",
    "                                        period = [periods[npl]],\n",
    "                                        b = b[npl],\n",
    "                                        ror = ror[npl], \n",
    "                                        duration = dur[npl])\n",
    "\n",
    "            # track period and epoch\n",
    "            T0 = pm.Deterministic(\"T0\", orbit.t0)\n",
    "            P  = pm.Deterministic(\"P\", orbit.period)\n",
    "            \n",
    "            # nuissance parameters (one mean flux; variance by quarter)\n",
    "            flux0 = pm.Normal(\"flux0\", mu=np.median(good_flux), sd=np.std(good_flux), shape=len(group_quarters))\n",
    "            logjit = pm.Normal(\"logjit\", mu=np.var(good_flux), sd=5.0, shape=len(group_quarters))\n",
    "            \n",
    "            # build the GP kernel using a different noise model for each season\n",
    "            kernel = [None]*4\n",
    "\n",
    "            for z in range(4):\n",
    "                gpz = gp_priors[z]\n",
    "                if np.isin(z, group_seasons):\n",
    "                    kernel[z] = GPterms.SHOTerm(S0=T.exp(gpz[\"logSw4\"][0]-4*gpz[\"logw0\"][0]), \n",
    "                                                w0=T.exp(gpz[\"logw0\"][0]), \n",
    "                                                Q=T.exp(gpz[\"logQ\"][0]))\n",
    "            \n",
    "            \n",
    "            # now evaluate the model for each quarter\n",
    "            light_curves = [None]*len(group_quarters)\n",
    "            model_flux = [None]*len(group_quarters)\n",
    "            gp = [None]*len(group_quarters)\n",
    "\n",
    "            \n",
    "            for j, q in enumerate(group_quarters):\n",
    "                # here's the data\n",
    "                t_ = all_time[q][all_mask[q][npl] == ng]\n",
    "                f_ = all_flux[q][all_mask[q][npl] == ng]\n",
    "                \n",
    "                if all_dtype[q] == \"short\":\n",
    "                    oversample = 1\n",
    "                    texp = 1.0*scit\n",
    "                if all_dtype[q] == \"long\":\n",
    "                    oversample = 15\n",
    "                    texp = 1.0*lcit\n",
    "                \n",
    "\n",
    "                # calculate light curves\n",
    "                light_curves[j] = starrystar.get_light_curve(orbit=orbit, r=ror[npl], t=t_, \n",
    "                                                             oversample=oversample, texp=texp)\n",
    "\n",
    "                model_flux[j] = pm.math.sum(light_curves[j], axis=-1) + flux0[j]*T.ones(len(t_))\n",
    "                pm.Deterministic(\"model_flux_{0}\".format(j), model_flux[j])\n",
    "\n",
    "                # here's the GP (w/ kernel by season)\n",
    "                gp[j] = GaussianProcess(kernel[q%4], \n",
    "                                        t=t_, \n",
    "                                        diag=T.exp(logjit[j])*T.ones(len(t_)), \n",
    "                                        mean=0.0)\n",
    "\n",
    "                gp[j].marginal(\"gp_{0}\".format(j), observed=f_-model_flux[j])\n",
    "            \n",
    "\n",
    "        with hbm_model:\n",
    "            hbm_map = hbm_model.test_point\n",
    "            hbm_map = pmx.optimize(start=hbm_map, vars=[flux0, logjit])\n",
    "            hbm_map = pmx.optimize(start=hbm_map)\n",
    "  \n",
    "            \n",
    "        # sample from the posterior\n",
    "        with hbm_model:\n",
    "            hbm_trace = pmx.sample(tune=10000, \n",
    "                                   draws=2000, \n",
    "                                   chains=2, \n",
    "                                   start=hbm_map,\n",
    "                                   target_accept=0.9, \n",
    "                                   parameter_groups=[pmx.ParameterGroup([tt_offset], \"diag\")]\n",
    "                                  )\n",
    "        \n",
    "        # save the results\n",
    "        tts_chains.append(np.copy(np.array(hbm_trace[\"tts\"])))\n",
    "        offset_chains.append(np.copy(np.array(hbm_trace[\"tt_offset\"])))"
   ]
  },
  {
   "cell_type": "markdown",
   "metadata": {},
   "source": [
    "# Fit overlapping transits"
   ]
  },
  {
   "cell_type": "markdown",
   "metadata": {},
   "source": [
    "### TODO: fit overlapping transits in batches of < MAX_GROUP_SIZE\n",
    "### TODO: construct block-diagonal matrix for overlapping transits\n",
    "### BUT...fitting one quarter at a time is a much simpler workaround for both of these issues that avoids further tedious tracking of individual transits"
   ]
  },
  {
   "cell_type": "code",
   "execution_count": null,
   "metadata": {},
   "outputs": [],
   "source": [
    "overlap_count = 0\n",
    "\n",
    "for npl in range(NPL):\n",
    "    overlap_count += np.sum(tts_group[npl]==-99)\n",
    "    \n",
    "print(overlap_count, \"overlapping transits\")"
   ]
  },
  {
   "cell_type": "code",
   "execution_count": null,
   "metadata": {},
   "outputs": [],
   "source": []
  },
  {
   "cell_type": "code",
   "execution_count": null,
   "metadata": {},
   "outputs": [],
   "source": []
  },
  {
   "cell_type": "code",
   "execution_count": null,
   "metadata": {},
   "outputs": [],
   "source": []
  },
  {
   "cell_type": "code",
   "execution_count": null,
   "metadata": {},
   "outputs": [],
   "source": []
  },
  {
   "cell_type": "code",
   "execution_count": null,
   "metadata": {},
   "outputs": [],
   "source": []
  },
  {
   "cell_type": "code",
   "execution_count": null,
   "metadata": {},
   "outputs": [],
   "source": [
    "for j, q in enumerate(quarters):\n",
    "\n",
    "    # grab the relevant data\n",
    "    fixed_inds  = []\n",
    "    fixed_ephem = []\n",
    "    quick_tts   = []\n",
    "\n",
    "    overlap_planets = []\n",
    "    overlap_quarters = []\n",
    "\n",
    "    for npl in range(NPL):\n",
    "        use = (tts_group[npl] == -99)*(transit_quarter[npl] == q)\n",
    "\n",
    "        if np.sum(use) > 0:\n",
    "            fixed_inds.append(transit_inds[npl][use])\n",
    "            fixed_inds[npl] -= fixed_inds[npl][0]\n",
    "\n",
    "            fixed_ephem.append(ephemeris[npl][use])\n",
    "            quick_tts.append(quick_transit_times[npl][use])\n",
    "\n",
    "            overlap_planets.append(npl)\n",
    "            overlap_quarters.append(transit_quarter[npl][use])\n",
    "\n",
    "    #overlap_quarters = np.unique(np.hstack(overlap_quarters))\n",
    "    #overlap_seasons = np.unique(overlap_quarters % 4)\n",
    "\n",
    "    if len(overlap_planets) > 0:\n",
    "\n",
    "        with pm.Model() as overlap_model:\n",
    "            # hierarchical (hyper)parameters\n",
    "            if USE_HBM:\n",
    "                raise ValueError(\"Not set up for HBM yet\")\n",
    "            else:\n",
    "                pop_sd = ttv_rms_amp\n",
    "\n",
    "\n",
    "            # transit times\n",
    "            tt_offset = []\n",
    "            transit_times = []\n",
    "\n",
    "            for i, npl in enumerate(overlap_planets):\n",
    "                tt_offset.append(pm.StudentT('tt_offset_{0}'.format(npl), nu=2, shape=len(fixed_ephem[i])))\n",
    "                transit_times.append(pm.Deterministic('tts_{0}'.format(npl), \n",
    "                                                      fixed_ephem[i] + tt_offset[i]*pop_sd[npl]))\n",
    "\n",
    "\n",
    "            # set up stellar model and planetary orbit\n",
    "            starrystar = exo.LimbDarkLightCurve(u)\n",
    "            orbit = exo.orbits.TTVOrbit(transit_times = transit_times, \n",
    "                                        transit_inds = fixed_inds, \n",
    "                                        period = np.atleast_1d(periods[overlap_planets]),\n",
    "                                        b = b[overlap_planets], \n",
    "                                        ror = ror[overlap_planets], \n",
    "                                        duration = dur[overlap_planets])\n",
    "\n",
    "\n",
    "            # track period and epoch\n",
    "            T0 = pm.Deterministic(\"T0\", orbit.t0)\n",
    "            P  = pm.Deterministic(\"P\", orbit.period)\n",
    "\n",
    "            # nuissance parameters (one mean flux; variance by quarter)\n",
    "            flux0 = pm.Normal(\"flux0\", mu=np.median(good_flux), sd=np.std(good_flux))\n",
    "            logjit = pm.Normal(\"logjit\", mu=np.var(good_flux), sd=5.0)\n",
    "\n",
    "\n",
    "            gpz = gp_priors[q%4]\n",
    "            kernel = GPterms.SHOTerm(S0=T.exp(gpz[\"logSw4\"][0]-4*gpz[\"logw0\"][0]), \n",
    "                                     w0=T.exp(gpz[\"logw0\"][0]), \n",
    "                                     Q=T.exp(gpz[\"logQ\"][0]))\n",
    "\n",
    "            \n",
    "            # time and flux arrays\n",
    "            t_ = all_time[q][(all_mask[q] == -99).sum(0) > 0]\n",
    "            f_ = all_flux[q][(all_mask[q] == -99).sum(0) > 0]\n",
    "\n",
    "\n",
    "            if all_dtype[q] == \"short\":\n",
    "                oversample = 1\n",
    "                texp = 1.0*scit\n",
    "            if all_dtype[q] == \"long\":\n",
    "                oversample = 15\n",
    "                texp = 1.0*lcit\n",
    "\n",
    "\n",
    "            # calculate light curves\n",
    "            light_curves = starrystar.get_light_curve(orbit=orbit, r=ror[overlap_planets], t=t_, \n",
    "                                                         oversample=oversample, texp=texp)\n",
    "\n",
    "            model_flux = pm.math.sum(light_curves, axis=-1) + flux0*T.ones(len(t_))\n",
    "            pm.Deterministic(\"model_flux\".format, model_flux)\n",
    "\n",
    "        # here's the GP (w/ kernel by season)\n",
    "        gp[j] = GaussianProcess(kernel[q%4], \n",
    "                                t=t_, \n",
    "                                diag=T.exp(logjit[j])*T.ones(len(t_)), \n",
    "                                mean=0.0)\n",
    "\n",
    "        gp[j].marginal(\"gp_{0}\".format(j), observed=f_-model_flux[j])\n",
    "\n",
    "\n",
    "# optimize the MAP solution\n",
    "with overlap_model:\n",
    "    overlap_map = pmx.optimize()\n",
    "\n",
    "\n",
    "# sample from the posterior\n",
    "with overlap_model:\n",
    "    overlap_trace = pm.sample(tune=10000, \n",
    "                              draws=2000, \n",
    "                              start=overlap_map, \n",
    "                              chains=2,\n",
    "                              initial_accept=0.6,\n",
    "                              target_accept=0.9,\n",
    "                              init=\"adapt_full\"\n",
    "                             )\n",
    "\n",
    "\n",
    "# save the results\n",
    "for i, npl in enumerate(overlap_planets):\n",
    "    tts_chains.append(np.copy(np.array(overlap_trace['tts_{0}'.format(npl)])))\n",
    "    offset_chains.append(np.copy(np.array(overlap_trace['tt_offset_{0}'.format(npl)])))"
   ]
  },
  {
   "cell_type": "markdown",
   "metadata": {},
   "source": [
    "# Save traces to fits file"
   ]
  },
  {
   "cell_type": "code",
   "execution_count": null,
   "metadata": {},
   "outputs": [],
   "source": [
    "# make a list of ordered pairs (npl,group) to help organize the chains\n",
    "chain_organizer = []\n",
    "\n",
    "for npl in range(NPL):\n",
    "    for ng in range(1, 1+tts_group[npl].max()):\n",
    "        chain_organizer.append((npl,ng))\n",
    "\n",
    "if overlap_count > 0:\n",
    "    for i, npl in enumerate(overlap_planets):\n",
    "        chain_organizer.append((npl,-99))"
   ]
  },
  {
   "cell_type": "code",
   "execution_count": null,
   "metadata": {},
   "outputs": [],
   "source": [
    "# make primary HDU\n",
    "primary_hdu = pyfits.PrimaryHDU()\n",
    "header = primary_hdu.header\n",
    "header[\"TARGET\"] = TARGET\n",
    "header[\"U1\"] = u[0]\n",
    "header[\"U2\"] = u[1]\n",
    "\n",
    "for npl in range(NPL):\n",
    "    header[\"ROR_{0}\".format(npl)] = ror[npl]\n",
    "    header[\"B_{0}\".format(npl)]   = b[npl]\n",
    "    header[\"DUR_{0}\".format(npl)] = dur[npl]   \n",
    "    \n",
    "primary_hdu.header = header\n",
    "    \n",
    "# add it to HDU list\n",
    "hbm_hdulist = []\n",
    "hbm_hdulist.append(primary_hdu)\n",
    "\n",
    "\n",
    "# grab all samples from trace\n",
    "for npl in range(NPL):\n",
    "    combo_tts = []\n",
    "    combo_offset = []\n",
    "    combo_groupno = []\n",
    "    \n",
    "    for i, chorg in enumerate(chain_organizer):\n",
    "        if chorg[0] == npl:\n",
    "            combo_tts.append(tts_chains[i])\n",
    "            combo_offset.append(offset_chains[i])\n",
    "            combo_groupno.append(chorg[1]*np.ones(tts_chains[i].shape[1], dtype=\"int\"))\n",
    "        \n",
    "    combo_tts = np.hstack(combo_tts)\n",
    "    combo_offset = np.hstack(combo_offset)\n",
    "    combo_groupno = np.hstack(combo_groupno)\n",
    "\n",
    "    order = np.argsort(np.nanmedian(combo_tts,0))\n",
    "\n",
    "    combo_tts = combo_tts[:,order]\n",
    "    combo_offset = combo_offset[:,order]\n",
    "    combo_groupno = combo_groupno[order]\n",
    "    \n",
    "    \n",
    "    # add to HDUList\n",
    "    hbm_hdulist.append(pyfits.ImageHDU(combo_tts, name='TTS_{0}'.format(npl)))\n",
    "    hbm_hdulist.append(pyfits.ImageHDU(combo_offset, name='OFFSET_{0}'.format(npl)))\n",
    "    hbm_hdulist.append(pyfits.ImageHDU(combo_groupno, name='GROUP_{0}'.format(npl)))\n",
    "\n",
    "    \n",
    "hbm_hdulist = pyfits.HDUList(hbm_hdulist)\n",
    "hbm_hdulist.writeto(TRACE_DIR + TARGET + '_hbm_ttvs.fits', overwrite=True)"
   ]
  },
  {
   "cell_type": "code",
   "execution_count": null,
   "metadata": {},
   "outputs": [],
   "source": [
    "print('TOTAL RUNTIME = %.2f min' %((timer()-global_start_time)/60))"
   ]
  },
  {
   "cell_type": "code",
   "execution_count": null,
   "metadata": {},
   "outputs": [],
   "source": []
  },
  {
   "cell_type": "code",
   "execution_count": null,
   "metadata": {},
   "outputs": [],
   "source": []
  },
  {
   "cell_type": "code",
   "execution_count": null,
   "metadata": {},
   "outputs": [],
   "source": []
  },
  {
   "cell_type": "code",
   "execution_count": null,
   "metadata": {},
   "outputs": [],
   "source": []
  },
  {
   "cell_type": "code",
   "execution_count": null,
   "metadata": {},
   "outputs": [],
   "source": []
  },
  {
   "cell_type": "code",
   "execution_count": null,
   "metadata": {},
   "outputs": [],
   "source": []
  },
  {
   "cell_type": "code",
   "execution_count": null,
   "metadata": {},
   "outputs": [],
   "source": []
  },
  {
   "cell_type": "code",
   "execution_count": null,
   "metadata": {},
   "outputs": [],
   "source": []
  },
  {
   "cell_type": "code",
   "execution_count": null,
   "metadata": {},
   "outputs": [],
   "source": []
  },
  {
   "cell_type": "code",
   "execution_count": null,
   "metadata": {},
   "outputs": [],
   "source": [
    "if overlap_count > 0:\n",
    "    # grab the relevant data\n",
    "    fixed_inds  = []\n",
    "    fixed_ephem = []\n",
    "    quick_tts   = []\n",
    "\n",
    "    overlap_planets = []\n",
    "    overlap_quarters = []\n",
    "\n",
    "    for npl in range(NPL):\n",
    "        use = tts_group[npl] == -99\n",
    "\n",
    "        if np.sum(use) > 0:\n",
    "            fixed_inds.append(transit_inds[npl][use])\n",
    "            fixed_inds[npl] -= fixed_inds[npl][0]\n",
    "\n",
    "            fixed_ephem.append(ephemeris[npl][use])\n",
    "            quick_tts.append(quick_transit_times[npl][use])\n",
    "\n",
    "            overlap_planets.append(npl)\n",
    "            overlap_quarters.append(transit_quarter[npl][use])\n",
    "    \n",
    "    overlap_quarters = np.unique(np.hstack(overlap_quarters))\n",
    "    overlap_seasons = np.unique(overlap_quarters % 4)\n",
    "    \n",
    "    \n",
    "    # now build the model\n",
    "    with pm.Model() as overlap_model:\n",
    "        # hierarchical (hyper)parameters\n",
    "        if USE_HBM:\n",
    "            raise ValueError(\"Not set up for HBM yet\")\n",
    "        else:\n",
    "            pop_sd = ttv_rms_amp\n",
    "            \n",
    "            \n",
    "        # transit times\n",
    "        tt_offset = []\n",
    "        transit_times = []\n",
    "\n",
    "        for i, npl in enumerate(overlap_planets):\n",
    "            tt_offset.append(pm.StudentT('tt_offset_{0}'.format(npl), nu=2, shape=len(fixed_ephem[i])))\n",
    "            transit_times.append(pm.Deterministic('tts_{0}'.format(npl), \n",
    "                                                  fixed_ephem[i] + tt_offset[i]*pop_sd[npl]))\n",
    "\n",
    "\n",
    "        # set up stellar model and planetary orbit\n",
    "        starrystar = exo.LimbDarkLightCurve(u)\n",
    "        orbit = exo.orbits.TTVOrbit(transit_times = transit_times, \n",
    "                                    transit_inds = fixed_inds, \n",
    "                                    period = np.atleast_1d(periods[overlap_planets]),\n",
    "                                    b = b[overlap_planets], \n",
    "                                    ror = ror[overlap_planets], \n",
    "                                    duration = dur[overlap_planets])\n",
    "\n",
    "\n",
    "        # track period and epoch\n",
    "        T0 = pm.Deterministic(\"T0\", orbit.t0)\n",
    "        P  = pm.Deterministic(\"P\", orbit.period)\n",
    "\n",
    "        # nuissance parameters (one mean flux; variance by quarter)\n",
    "        flux0 = pm.Normal(\"flux0\", mu=np.median(good_flux), sd=np.std(good_flux), shape=len(overlap_quarters))\n",
    "        logjit = pm.Normal(\"logjit\", mu=np.var(good_flux), sd=5.0, shape=len(overlap_quarters))\n",
    "\n",
    "\n",
    "        # build the GP kernel using a different noise model for each season\n",
    "        kernel = [None]*4\n",
    "\n",
    "        for z in range(4):\n",
    "            gpz = gp_priors[z]\n",
    "            if np.isin(z, overlap_seasons):\n",
    "                kernel[z] = GPterms.SHOTerm(S0=T.exp(gpz[\"logSw4\"][0]-4*gpz[\"logw0\"][0]), \n",
    "                                            w0=T.exp(gpz[\"logw0\"][0]), \n",
    "                                            Q=T.exp(gpz[\"logQ\"][0]))\n",
    "\n",
    "\n",
    "\n",
    "        # now evaluate the model for each quarter\n",
    "        light_curves = [None]*len(overlap_quarters)\n",
    "        model_flux = [None]*len(overlap_quarters)\n",
    "        gp = [None]*len(overlap_quarters)\n",
    "\n",
    "\n",
    "        for j, q in enumerate(overlap_quarters):\n",
    "            # here's the data\n",
    "            t_ = all_time[q][(all_mask[q] == -99).sum(0) > 0]\n",
    "            f_ = all_flux[q][(all_mask[q] == -99).sum(0) > 0]\n",
    "\n",
    "\n",
    "            if all_dtype[q] == \"short\":\n",
    "                oversample = 1\n",
    "                texp = 1.0*scit\n",
    "            if all_dtype[q] == \"long\":\n",
    "                oversample = 15\n",
    "                texp = 1.0*lcit\n",
    "\n",
    "\n",
    "            # calculate light curves\n",
    "            light_curves[j] = starrystar.get_light_curve(orbit=orbit, r=ror[overlap_planets], t=t_, \n",
    "                                                         oversample=oversample, texp=texp)\n",
    "\n",
    "            model_flux[j] = pm.math.sum(light_curves[j], axis=-1) + flux0[j]*T.ones(len(t_))\n",
    "            pm.Deterministic(\"model_flux_{0}\".format(j), model_flux[j])\n",
    "\n",
    "            # here's the GP (w/ kernel by season)\n",
    "            gp[j] = GaussianProcess(kernel[q%4], \n",
    "                                    t=t_, \n",
    "                                    diag=T.exp(logjit[j])*T.ones(len(t_)), \n",
    "                                    mean=0.0)\n",
    "\n",
    "            gp[j].marginal(\"gp_{0}\".format(j), observed=f_-model_flux[j])\n",
    "        \n",
    "        \n",
    "    # optimize the MAP solution\n",
    "    with overlap_model:\n",
    "        overlap_map = pmx.optimize()\n",
    "\n",
    "\n",
    "    # sample from the posterior\n",
    "    with overlap_model:\n",
    "        overlap_trace = pm.sample(tune=10000, \n",
    "                                  draws=2000, \n",
    "                                  start=overlap_map, \n",
    "                                  chains=2,\n",
    "                                  initial_accept=0.6,\n",
    "                                  target_accept=0.9,\n",
    "                                  init=\"adapt_full\"\n",
    "                                 )\n",
    "\n",
    "\n",
    "    # save the results\n",
    "    for i, npl in enumerate(overlap_planets):\n",
    "        tts_chains.append(np.copy(np.array(overlap_trace['tts_{0}'.format(npl)])))\n",
    "        offset_chains.append(np.copy(np.array(overlap_trace['tt_offset_{0}'.format(npl)])))"
   ]
  }
 ],
 "metadata": {
  "kernelspec": {
   "display_name": "Python 3",
   "language": "python",
   "name": "python3"
  },
  "language_info": {
   "codemirror_mode": {
    "name": "ipython",
    "version": 3
   },
   "file_extension": ".py",
   "mimetype": "text/x-python",
   "name": "python",
   "nbconvert_exporter": "python",
   "pygments_lexer": "ipython3",
   "version": "3.7.3"
  }
 },
 "nbformat": 4,
 "nbformat_minor": 2
}
