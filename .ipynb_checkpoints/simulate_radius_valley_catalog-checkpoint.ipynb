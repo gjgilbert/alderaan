{
 "cells": [
  {
   "cell_type": "markdown",
   "metadata": {},
   "source": [
    "# Build Simulated Catalog"
   ]
  },
  {
   "cell_type": "code",
   "execution_count": 1,
   "metadata": {},
   "outputs": [],
   "source": [
    "import numpy as np\n",
    "import matplotlib.pyplot as plt\n",
    "from   scipy import stats\n",
    "from   scipy.interpolate import interp1d\n",
    "import csv\n",
    "import sys\n",
    "import os\n",
    "import importlib as imp\n",
    "\n",
    "sys.path.insert(0, \"./forecaster/\")\n",
    "import mr_forecast as mr\n",
    "\n",
    "\n",
    "import alderaan.io as io\n",
    "from alderaan.constants import *\n",
    "from alderaan.utils import *"
   ]
  },
  {
   "cell_type": "code",
   "execution_count": 2,
   "metadata": {},
   "outputs": [],
   "source": [
    "PRIMARY_DIR  = '/Users/research/projects/alderaan/'\n",
    "CSV_IN  = PRIMARY_DIR + \"Catalogs/cumulative_koi_catalog.csv\"\n",
    "CSV_OUT = PRIMARY_DIR + \"Catalogs/simulated_catalog_eccentric.csv\""
   ]
  },
  {
   "cell_type": "markdown",
   "metadata": {},
   "source": [
    "# Read in real KOI data and do some quick cleanup"
   ]
  },
  {
   "cell_type": "code",
   "execution_count": 3,
   "metadata": {},
   "outputs": [
    {
     "name": "stdout",
     "output_type": "stream",
     "text": [
      "Reading in data from csv file\n",
      "Loaded 4297 real KOIs\n"
     ]
    }
   ],
   "source": [
    "# Read in the data from csv file\n",
    "print('Reading in data from csv file')\n",
    "\n",
    "# read in a csv file containing info on targets\n",
    "csv_keys, csv_values = io.read_csv_file(CSV_IN)\n",
    "\n",
    "# put these csv data into a dictionary\n",
    "real_kois = {}\n",
    "for k in csv_keys: \n",
    "    real_kois[k] = io.get_csv_data(k, csv_keys, csv_values)\n",
    "    \n",
    "k0 = \"koi_id\"\n",
    "    \n",
    "print(\"Loaded {0} real KOIs\".format(len(real_kois[k0])))"
   ]
  },
  {
   "cell_type": "code",
   "execution_count": 4,
   "metadata": {},
   "outputs": [],
   "source": [
    "# convert datatypes\n",
    "for k in real_kois.keys():\n",
    "    try:\n",
    "        real_kois[k] = np.asarray(real_kois[k], dtype=\"float\")\n",
    "    except:\n",
    "        real_kois[k] = np.asarray(real_kois[k])\n",
    "    \n",
    "    \n",
    "real_kois[\"npl\"] = np.asarray(real_kois[\"npl\"], dtype=\"int\")\n",
    "real_kois[\"kic_id\"] = np.asarray(real_kois[\"kic_id\"], dtype=\"int\")"
   ]
  },
  {
   "cell_type": "code",
   "execution_count": 5,
   "metadata": {},
   "outputs": [],
   "source": [
    "# eliminate any KOIs with ultra short period planets (P < 5 days)\n",
    "usp_kics = []\n",
    "\n",
    "for i, per in enumerate(real_kois[\"period\"]):\n",
    "    if per < 5.0:\n",
    "        usp_kics.append(real_kois[\"kic_id\"][i])\n",
    "        \n",
    "\n",
    "bad = np.isin(real_kois[\"kic_id\"], usp_kics)\n",
    "\n",
    "\n",
    "for k in real_kois.keys():\n",
    "    real_kois[k] = real_kois[k][~bad]"
   ]
  },
  {
   "cell_type": "code",
   "execution_count": 6,
   "metadata": {},
   "outputs": [],
   "source": [
    "# eliminate any NaN-valued systems\n",
    "bad = np.zeros(len(real_kois[\"koi_id\"]), dtype=\"bool\")\n",
    "\n",
    "for k in real_kois.keys():\n",
    "    if real_kois[k].dtype == \"float64\":\n",
    "        bad += np.isnan(real_kois[k])\n",
    "        \n",
    "        \n",
    "for i, koi in enumerate(real_kois[\"koi_id\"]):\n",
    "    use = real_kois[\"koi_id\"] == koi\n",
    "    \n",
    "    if np.sum(bad[use]) > 0:\n",
    "        bad[use] = True\n",
    "    \n",
    "for k in real_kois.keys():\n",
    "    real_kois[k] = real_kois[k][~bad]"
   ]
  },
  {
   "cell_type": "code",
   "execution_count": 7,
   "metadata": {},
   "outputs": [],
   "source": [
    "# recalculate radius ratio to ensure consistency\n",
    "real_kois[\"ror\"] = real_kois[\"prad\"]/real_kois[\"rstar\"]/RSRE"
   ]
  },
  {
   "cell_type": "code",
   "execution_count": 8,
   "metadata": {},
   "outputs": [
    {
     "data": {
      "text/plain": [
       "dict_keys(['planet_name', 'disposition', 'koi_id', 'kic_id', 'npl', 'kep_mag', 'mstar', 'mstar_err1', 'mstar_err2', 'rstar', 'rstar_err1', 'rstar_err2', 'logrho', 'logrho_err1', 'logrho_err2', 'Teff', 'Teff_err1', 'Teff_err2', 'FeH', 'FeH_err1', 'FeH_err2', 'logg', 'logg_err1', 'logg_err2', 'limbdark_1', 'limbdark_2', 'period', 'period_err1', 'period_err2', 'epoch', 'epoch_err1', 'epoch_err2', 'prad', 'prad_err1', 'prad_err2', 'impact', 'impact_err1', 'impact_err2', 'depth', 'depth_err1', 'depth_err2', 'duration', 'duration_err1', 'duration_err2', 'ror', 'ror_err1', 'ror_err2', 'dor', 'dor_err1', 'dor_err2', 'snr', 'num_transits'])"
      ]
     },
     "execution_count": 8,
     "metadata": {},
     "output_type": "execute_result"
    }
   ],
   "source": [
    "real_kois.keys()"
   ]
  },
  {
   "cell_type": "code",
   "execution_count": 9,
   "metadata": {},
   "outputs": [],
   "source": [
    "my_keys = ['planet_name', 'disposition', 'koi_id', 'kic_id', \n",
    "           'npl', 'kep_mag', \n",
    "           'mstar', 'mstar_err1', 'mstar_err2', \n",
    "           'rstar', 'rstar_err1', 'rstar_err2',\n",
    "           'logrho', 'logrho_err1', 'logrho_err2',\n",
    "           'limbdark_1', 'limbdark_2', \n",
    "           'pmass', 'prad', 'period', 'epoch', 'impact','ecc', 'omega', \n",
    "           'depth', 'duration', 'ror', 'dor',\n",
    "           'snr', 'ttv_type']"
   ]
  },
  {
   "cell_type": "markdown",
   "metadata": {},
   "source": [
    "# (1) Single planet systems"
   ]
  },
  {
   "cell_type": "code",
   "execution_count": 10,
   "metadata": {},
   "outputs": [
    {
     "name": "stdout",
     "output_type": "stream",
     "text": [
      "1364 planets in single systems\n"
     ]
    }
   ],
   "source": [
    "singles = {}\n",
    "\n",
    "for k in my_keys:\n",
    "    singles[k] = []\n",
    "    \n",
    "\n",
    "# draw single-planet systems and assign them a TTV type\n",
    "use1 = (real_kois[\"npl\"] == 1)*(real_kois[\"rstar\"] < 1.5)*(real_kois[\"period\"] < 300.)*(real_kois[\"ror\"] < 0.2)\n",
    "N1 = int(np.sum(use1))\n",
    "\n",
    "print(\"{0} planets in single systems\".format(N1))\n",
    "\n",
    "select_systems = real_kois[\"koi_id\"][use1]\n",
    "np.random.shuffle(select_systems)\n",
    "\n",
    "for i, ss in enumerate(select_systems):\n",
    "    use = real_kois[\"koi_id\"] == ss\n",
    "    \n",
    "    for k in singles.keys():\n",
    "        if np.isin(k, list(real_kois.keys())):\n",
    "            singles[k].append(real_kois[k][use][0])\n",
    "            \n",
    "    \n",
    "    # 50% investigate inclination/eccentricity \n",
    "    if i < 0.5*N1:\n",
    "        singles[\"ttv_type\"].append(\"none\")\n",
    "    \n",
    "    # 40% investigate parametric TTVs\n",
    "    elif i < 0.58*N1:\n",
    "        singles[\"ttv_type\"].append(\"linear\")\n",
    "    elif i < 0.66*N1:\n",
    "        singles[\"ttv_type\"].append(\"quadratic\")\n",
    "    elif i < 0.74*N1:\n",
    "        singles[\"ttv_type\"].append(\"cubic\")\n",
    "    elif i < 0.82*N1:\n",
    "        singles[\"ttv_type\"].append(\"sinusoidal\")\n",
    "    elif i < 0.90*N1:\n",
    "        singles[\"ttv_type\"].append(\"gaussian\") \n",
    "        \n",
    "    # 10% investigate ultra short periods\n",
    "    else:\n",
    "        singles[\"ttv_type\"].append(\"none\")\n",
    "        \n",
    "for k in singles.keys():\n",
    "    singles[k] = np.asarray(singles[k])"
   ]
  },
  {
   "cell_type": "code",
   "execution_count": 11,
   "metadata": {},
   "outputs": [],
   "source": [
    "# shift epochs forward by 1/phi\n",
    "singles[\"epoch\"] += singles[\"period\"]/1.618\n",
    "\n",
    "# assign impact parameter\n",
    "singles[\"impact\"] = np.random.uniform(0., 1., size=N1)\n",
    "\n",
    "# set mass values to NaN\n",
    "singles[\"pmass\"] = [\"nan\"]*N1"
   ]
  },
  {
   "cell_type": "code",
   "execution_count": 12,
   "metadata": {},
   "outputs": [],
   "source": [
    "# assign eccentricity vectors (Rayleigh scales from Mills 2019)\n",
    "has_ttvs = singles[\"ttv_type\"] != \"none\"\n",
    "\n",
    "esinw, ecosw = np.random.normal(size=N1*2).reshape(2,N1)\n",
    "\n",
    "esinw[has_ttvs] *= 0.0355\n",
    "ecosw[has_ttvs] *= 0.0355\n",
    "esinw[~has_ttvs] *= 0.21\n",
    "esinw[~has_ttvs] *= 0.21\n",
    "\n",
    "singles[\"ecc\"] = np.sqrt(esinw**2 + ecosw**2)\n",
    "singles[\"omega\"] = np.arctan2(esinw,ecosw)\n",
    "\n",
    "bad = singles[\"ecc\"] > 0.9\n",
    "singles[\"ecc\"][bad] = np.random.uniform(0,0.9, size=np.sum(bad))"
   ]
  },
  {
   "cell_type": "code",
   "execution_count": 13,
   "metadata": {},
   "outputs": [],
   "source": [
    "# overwrite ultra-short-period (USP) planets\n",
    "usp = np.arange(N1) >= 0.9*N1\n",
    "\n",
    "new_per = np.random.uniform(0.75, 5, size=np.sum(usp))\n",
    "ratio = np.ceil(singles[\"period\"][usp]/new_per)\n",
    "\n",
    "# integer adjustment prevents synthetic transits from overlapping real transits\n",
    "singles[\"period\"][usp] /= ratio\n",
    "\n",
    "# adjust radii to be smaller than R_jup\n",
    "large = singles[\"prad\"] > RJRE\n",
    "singles[\"prad\"][large] = np.exp(np.random.uniform(np.log(4), np.log(11), size=np.sum(large)))\n",
    "\n",
    "# make zero eccentricity\n",
    "singles[\"ecc\"][usp] = 0.0"
   ]
  },
  {
   "cell_type": "markdown",
   "metadata": {},
   "source": [
    "# (2) Mean-motion resonance systems (2 planets)"
   ]
  },
  {
   "cell_type": "code",
   "execution_count": 14,
   "metadata": {},
   "outputs": [],
   "source": [
    "def draw_parameters(npl, Mstar, per_min=None, per_max=None, force_resonance=False):\n",
    "    \"\"\"\n",
    "    Draw stellar mass, planet masses, and orbital periods and enforce pairwise Hill stability\n",
    "    \n",
    "    Parameters\n",
    "    ----------\n",
    "    npl : int\n",
    "        number of planets\n",
    "    Mstar : float\n",
    "        stellar mass [M_sun]\n",
    "    force_resonance : bool\n",
    "        True to ensure that all planet pairs are near mean motion resonance (default=False)\n",
    "        \n",
    "    Returns\n",
    "    -------\n",
    "    mass : ndarray\n",
    "        planet masses [M_sun]\n",
    "    per : ndarray\n",
    "        orbital periods [days]\n",
    "    \"\"\"\n",
    "    if npl < 2:\n",
    "        raise ValueError(\"Expected at least 2 planets\")\n",
    "        \n",
    "    if per_min is None: per_min = 3.0\n",
    "    if per_max is None: per_max = 50.0\n",
    "\n",
    "\n",
    "    # loop until a pairwise Hill stable solution is found\n",
    "    d_Hill = np.zeros(npl-1)\n",
    "    \n",
    "    while np.any(d_Hill < 8):\n",
    "        # planet masses\n",
    "        log_mass = np.random.uniform(np.log(1.5), np.log(17.), size=npl)\n",
    "        mass = np.exp(log_mass)/MSME\n",
    "\n",
    "        # planet periods\n",
    "        per = np.ones(npl)*1e3\n",
    "\n",
    "        while np.any(per > 365.):            \n",
    "            per[0] = np.random.uniform(per_min,per_max)\n",
    "\n",
    "            for i in range(npl-1):\n",
    "\n",
    "                if force_resonance:\n",
    "                    # 75% chance just wide of resonance, 25% chance just narrow\n",
    "                    log_P_ttv = np.random.uniform(np.log(4*per[i]), np.log(2400))\n",
    "                    P_ttv = np.exp(log_P_ttv)*np.random.choice([-1,1,1,1])\n",
    "                    \n",
    "                    idx = np.random.randint(0,6)\n",
    "                                        \n",
    "                    j_out = np.array([2, 3, 4, 5, 3, 5])[idx]\n",
    "                    j_in = np.array([1, 2, 3, 4, 1, 3])[idx]\n",
    "                    \n",
    "                    per[i+1] = -j_out/(1/P_ttv - j_in/per[i])\n",
    "\n",
    "                else:\n",
    "                    P_ratio = 1.5 + np.random.lognormal(mean=0, sigma=1)\n",
    "                    per[i+1] = per[i]*P_ratio\n",
    "\n",
    "\n",
    "        # check stability: separation > 8 mutual Hill radii\n",
    "        sma = get_sma(per, Mstar)\n",
    "        r_Hill = ((mass[1:]+mass[:-1])/(3*Mstar))**(1/3) * (sma[1:]+sma[:-1])/2\n",
    "        d_Hill = (sma[1:]-sma[:-1])/r_Hill\n",
    "    \n",
    "    \n",
    "    # return parameters\n",
    "    return mass, per"
   ]
  },
  {
   "cell_type": "code",
   "execution_count": 15,
   "metadata": {},
   "outputs": [],
   "source": [
    "def mass_to_rad(mp): \n",
    "    '''\n",
    "    mp - float \n",
    "    \n",
    "    Uses the mass-radius relation given in Chen and Kipping (2017).  This method takes mass and \n",
    "    outputs radius.  mp is given in Earth masses, and rp is returned in Earth radii.  The specific numbers were obtained\n",
    "    from here: https://exoplanetarchive.ipac.caltech.edu/docs/pscp_calc.html.\n",
    "    '''\n",
    "    M = np.log10(mp)\n",
    "    \n",
    "    if mp < 2.04:                                          \n",
    "        C, S = 0.00346, 0.2790\n",
    "    elif mp < 132:\n",
    "        C, S = -0.0925, 0.589\n",
    "    elif mp < 26600:\n",
    "        C, S = 1.25, -0.044\n",
    "    else:\n",
    "        C, S = -2.85, 0.881\n",
    "        \n",
    "    return 10**(C + M*S)\n",
    "\n",
    "\n",
    "def rad_to_mass(rp):\n",
    "    '''\n",
    "    rp - float  \n",
    "    \n",
    "    Takes a radius measurement and outputs its corresponding mass using the mass-radius relation in Chen and Kipping\n",
    "    (2017).  This is kind of like the inverse of mass_radius above.  The specific numbers were obtained from here: \n",
    "    https://exoplanetarchive.ipac.caltech.edu/docs/pscp_calc.html\n",
    "    '''\n",
    "    R = np.log10(rp)\n",
    "    \n",
    "    if rp < 1.23:                                         \n",
    "        C, S = 0.00346, 0.2790\n",
    "    elif rp < 11.1:\n",
    "        C, S = -0.0925, 0.589\n",
    "    elif rp < 14.3:\n",
    "        C, S = np.nan, np.nan\n",
    "    else:\n",
    "        C, S = -2.85, 0.881\n",
    "        \n",
    "    return 10**((R-C)/S)\n"
   ]
  },
  {
   "cell_type": "code",
   "execution_count": 16,
   "metadata": {},
   "outputs": [
    {
     "name": "stdout",
     "output_type": "stream",
     "text": [
      "478 planets in 239 double systems\n"
     ]
    }
   ],
   "source": [
    "doubles = {}\n",
    "\n",
    "for k in my_keys:\n",
    "    doubles[k] = []\n",
    "    \n",
    "# draw 2-planet systems\n",
    "use2 = (real_kois[\"npl\"] == 2)*(real_kois[\"rstar\"] < 1.5)\n",
    "N2 = int(np.sum(use2))\n",
    "select_systems = np.unique(real_kois[\"koi_id\"][use2])\n",
    "np.random.shuffle(select_systems)\n",
    "\n",
    "print(\"{0} planets in {1} double systems\".format(N2, int(N2/2)))\n",
    "\n",
    "for i, ss in enumerate(select_systems):\n",
    "    use = real_kois[\"koi_id\"] == ss\n",
    "    periods = real_kois[\"period\"][use]\n",
    "    \n",
    "    for k in doubles.keys():\n",
    "        if np.isin(k, list(real_kois.keys())):\n",
    "            doubles[k].append(real_kois[k][use][np.argmin(periods)])\n",
    "            doubles[k].append(real_kois[k][use][np.argmax(periods)])\n",
    "            \n",
    "    \n",
    "    # 50% will have realistic N-body TTVs; 50% will have no TTVs\n",
    "    if i < 0.5*N2:\n",
    "        doubles[\"ttv_type\"].append(\"rebound\")\n",
    "        doubles[\"ttv_type\"].append(\"rebound\")\n",
    "    else:\n",
    "        doubles[\"ttv_type\"].append(\"none\")\n",
    "        doubles[\"ttv_type\"].append(\"none\")\n",
    "        \n",
    "for k in doubles.keys():\n",
    "    doubles[k] = np.asarray(doubles[k])"
   ]
  },
  {
   "cell_type": "code",
   "execution_count": 17,
   "metadata": {},
   "outputs": [],
   "source": [
    "hill_stable_masses = []\n",
    "hill_stable_periods = []\n",
    "\n",
    "for i, koi in enumerate(np.unique(doubles[\"koi_id\"])):\n",
    "    use = doubles[\"koi_id\"] == koi\n",
    "    \n",
    "    Mstar = doubles[\"mstar\"][use][0]\n",
    "    periods = doubles[\"period\"][use]\n",
    "    \n",
    "    if doubles[\"ttv_type\"][use][0] == \"rebound\":\n",
    "        force_resonance = True\n",
    "    else:\n",
    "        force_resonance = False\n",
    "    \n",
    "    mass, per = draw_parameters(2, Mstar, \n",
    "                                per_min=periods.min()/np.sqrt(2), \n",
    "                                per_max=np.sqrt(2)*periods.min(), \n",
    "                                force_resonance=force_resonance)\n",
    "    \n",
    "    hill_stable_masses.append(mass*MSME)\n",
    "    hill_stable_periods.append(per)\n",
    "    \n",
    "hill_stable_masses = np.array(hill_stable_masses).reshape(-1)\n",
    "hill_stable_periods = np.array(hill_stable_periods).reshape(-1)"
   ]
  },
  {
   "cell_type": "code",
   "execution_count": 18,
   "metadata": {},
   "outputs": [],
   "source": [
    "hill_stable_radii = np.zeros_like(hill_stable_masses)\n",
    "\n",
    "for i, hsm in enumerate(hill_stable_masses):\n",
    "    hill_stable_radii[i] = mass_to_rad(hsm)"
   ]
  },
  {
   "cell_type": "code",
   "execution_count": 19,
   "metadata": {},
   "outputs": [],
   "source": [
    "# replace periods, radii, and masses with hill stable pairs\n",
    "doubles[\"period\"] = np.copy(hill_stable_periods)\n",
    "doubles[\"pmass\"] = np.copy(hill_stable_masses)\n",
    "doubles[\"prad\"] = np.copy(hill_stable_radii)\n",
    "\n",
    "# assign impact parameter\n",
    "doubles[\"impact\"] = np.random.uniform(0.,0.9, size=N2)\n",
    "\n",
    "# assign placeholder eccentricity vectors (will be redrawn during TTV simulation)\n",
    "doubles[\"ecc\"] = np.nan*np.ones(N2)\n",
    "doubles[\"omega\"] = np.nan*np.ones(N2)"
   ]
  },
  {
   "cell_type": "code",
   "execution_count": 20,
   "metadata": {},
   "outputs": [],
   "source": [
    "# assign eccentricity vectors to non-resonant doubles (see Mills 2019 for scale)\n",
    "nonres = doubles[\"ttv_type\"] != \"rebound\"\n",
    "\n",
    "esinw, ecosw = 0.0355*np.random.normal(size=2*np.sum(nonres)).reshape(2,np.sum(nonres))\n",
    "\n",
    "doubles[\"ecc\"][nonres] = np.sqrt(esinw**2 + ecosw**2)\n",
    "doubles[\"omega\"][nonres] = np.arctan2(esinw,ecosw)\n",
    "\n",
    "bad = doubles[\"ecc\"] > 0.7\n",
    "doubles[\"ecc\"][bad] = np.random.uniform(0,0.7, size=np.sum(bad))"
   ]
  },
  {
   "cell_type": "markdown",
   "metadata": {},
   "source": [
    "# (3) Multi-planet systems"
   ]
  },
  {
   "cell_type": "code",
   "execution_count": 21,
   "metadata": {},
   "outputs": [
    {
     "name": "stdout",
     "output_type": "stream",
     "text": [
      "228 planets in 76 triple systems\n",
      "68 planets in 17 quadruple systems\n"
     ]
    }
   ],
   "source": [
    "multis = {}\n",
    "\n",
    "for k in my_keys:\n",
    "    multis[k] = []\n",
    "    \n",
    "multis[\"ttv_type\"] = []\n",
    "\n",
    "\n",
    "# draw multiplanet systems\n",
    "use3 = (real_kois[\"npl\"] == 3)*(real_kois[\"rstar\"] < 1.5)\n",
    "use4 = (real_kois[\"npl\"] == 4)*(real_kois[\"rstar\"] < 1.5)\n",
    "\n",
    "N3 = int(np.sum(use3))\n",
    "N4 = int(np.sum(use4))\n",
    "\n",
    "select_systems = np.unique(real_kois[\"koi_id\"][use3+use4])\n",
    "\n",
    "print(\"{0} planets in {1} triple systems\".format(N3, N3//3))\n",
    "print(\"{0} planets in {1} quadruple systems\".format(N4, N4//4))\n",
    "\n",
    "\n",
    "for i, ss in enumerate(select_systems):\n",
    "    locs = np.where(real_kois[\"koi_id\"] == ss)[0]\n",
    "    \n",
    "    for loc in locs:\n",
    "        for k in multis.keys():\n",
    "            if np.isin(k, list(real_kois.keys())):\n",
    "                multis[k].append(real_kois[k][loc])  \n",
    "            \n",
    "        multis[\"ttv_type\"].append(\"rebound\")\n",
    "\n",
    "        \n",
    "for k in multis.keys():\n",
    "    multis[k] = np.asarray(multis[k])"
   ]
  },
  {
   "cell_type": "code",
   "execution_count": 22,
   "metadata": {},
   "outputs": [],
   "source": [
    "# assign impact parameter\n",
    "multis[\"impact\"] = np.random.uniform(0,0.9, size=N3+N4)\n",
    "\n",
    "# adjust radii to be in range (R_earth, R_jup)\n",
    "small = multis[\"prad\"] < 1.0\n",
    "large = multis[\"prad\"] > RJRE\n",
    "\n",
    "multis[\"prad\"][small] = np.exp(np.random.uniform(np.log(1), np.log(4), size=np.sum(small)))\n",
    "multis[\"prad\"][large] = np.exp(np.random.uniform(np.log(4), np.log(11), size=np.sum(large)))\n",
    "\n",
    "# assign placeholder eccentricity vectors (will be redrawn during TTV simulation)\n",
    "multis[\"ecc\"] = np.nan*np.ones(N3 + N4)\n",
    "multis[\"omega\"] = np.nan*np.ones(N3 + N4)"
   ]
  },
  {
   "cell_type": "code",
   "execution_count": 23,
   "metadata": {},
   "outputs": [],
   "source": [
    "# peturb periods and radii\n",
    "fractional_perturbation = np.random.uniform(0.02,0.05,size=N3+N4)\n",
    "\n",
    "for i, ss in enumerate(select_systems):\n",
    "    use = multis[\"koi_id\"] == ss\n",
    "    \n",
    "    multis[\"period\"][use] *= 1 + fractional_perturbation[i]\n",
    "    multis[\"prad\"][use] *= 1 + fractional_perturbation[i]\n",
    "    \n",
    "\n",
    "# perturb epochs\n",
    "for i, per in enumerate(multis[\"period\"]):\n",
    "    multis[\"epoch\"][i] += np.random.uniform(0,per)"
   ]
  },
  {
   "cell_type": "code",
   "execution_count": 24,
   "metadata": {},
   "outputs": [],
   "source": [
    "# calculate masses\n",
    "masses = np.zeros_like(multis[\"prad\"])\n",
    "\n",
    "for i, r in enumerate(multis[\"prad\"]):\n",
    "    masses[i] = rad_to_mass(r)\n",
    "\n",
    "bad = masses > MJME\n",
    "masses[bad] = np.exp(np.random.uniform(np.log(17.),np.log(300.),size=np.sum(bad)))\n",
    "\n",
    "multis[\"pmass\"] = np.copy(masses)"
   ]
  },
  {
   "cell_type": "markdown",
   "metadata": {},
   "source": [
    "# Fix dispositions and planet names to SIMULATED"
   ]
  },
  {
   "cell_type": "code",
   "execution_count": 25,
   "metadata": {},
   "outputs": [],
   "source": [
    "my_catalog = {}\n",
    "\n",
    "for k in my_keys:\n",
    "    my_catalog[k] = np.hstack([singles[k], doubles[k], multis[k]]).reshape(-1)\n",
    "    \n",
    "    \n",
    "my_catalog['disposition'] = np.array([\"SIMULATED\"]*len(my_catalog[\"disposition\"]))"
   ]
  },
  {
   "cell_type": "code",
   "execution_count": 26,
   "metadata": {},
   "outputs": [],
   "source": [
    "# fix planet names\n",
    "for i, pname in enumerate(my_catalog[\"planet_name\"]):\n",
    "    my_catalog[\"planet_name\"][i] = \"S\" + pname[1:]"
   ]
  },
  {
   "cell_type": "markdown",
   "metadata": {},
   "source": [
    "# Perturb stellar masses and radii within uncertainties"
   ]
  },
  {
   "cell_type": "code",
   "execution_count": 27,
   "metadata": {},
   "outputs": [],
   "source": [
    "for i, koi in enumerate(my_catalog[\"koi_id\"]):\n",
    "    use = my_catalog[\"koi_id\"] == koi\n",
    "\n",
    "    # perturb masses\n",
    "    mstar = my_catalog[\"mstar\"][use][0]\n",
    "    mstar_err = np.sqrt(my_catalog[\"mstar_err1\"][use][0]**2 + my_catalog[\"mstar_err2\"][use][0]**2)/np.sqrt(2)\n",
    "\n",
    "    my_catalog[\"mstar\"][use] = mstar + mstar_err*stats.truncnorm.rvs(-3,3)\n",
    "    \n",
    "    if np.any(my_catalog[\"mstar\"][use] < 0):\n",
    "        my_catalog[\"mstar\"][use] = mstar*np.random.uniform(0.95,1.05)*mstar\n",
    "\n",
    "    \n",
    "    # perturb radii\n",
    "    rstar = my_catalog[\"rstar\"][use][0]\n",
    "    rstar_err = np.sqrt(my_catalog[\"rstar_err1\"][use][0]**2 + my_catalog[\"rstar_err2\"][use][0]**2)/np.sqrt(2)\n",
    "\n",
    "    my_catalog[\"rstar\"][use] = rstar + rstar_err*stats.truncnorm.rvs(-3,3)\n",
    "    \n",
    "    if np.any(my_catalog[\"rstar\"][use] < 0):\n",
    "        my_catalog[\"rstar\"][use] = rstar*np.random.uniform(0.95,1.05)*rstar\n",
    "    \n",
    "    \n",
    "my_catalog[\"logrho\"] = np.log10(my_catalog[\"mstar\"]/my_catalog[\"rstar\"]**3*RHOSUN_GCM3)"
   ]
  },
  {
   "cell_type": "markdown",
   "metadata": {},
   "source": [
    "# Recalculate transit depths, durations, $r_p/R_{\\star}$, and $a/R_{\\star}$"
   ]
  },
  {
   "cell_type": "code",
   "execution_count": 28,
   "metadata": {},
   "outputs": [],
   "source": [
    "# recalculate transit depths and durations\n",
    "my_catalog[\"depth\"] = get_transit_depth(my_catalog[\"prad\"]/my_catalog[\"rstar\"]/RSRE, my_catalog[\"impact\"])*1e6\n",
    "\n",
    "\n",
    "# recalculate transit durations\n",
    "sma = get_sma(my_catalog[\"period\"], my_catalog[\"mstar\"])\n",
    "\n",
    "my_catalog[\"duration\"] = 24*get_dur_tot(my_catalog[\"period\"], \n",
    "                                        my_catalog[\"prad\"]/RSRE, \n",
    "                                        my_catalog[\"rstar\"],\n",
    "                                        my_catalog[\"impact\"],\n",
    "                                        sma,\n",
    "                                        my_catalog[\"ecc\"],\n",
    "                                        my_catalog[\"omega\"])\n",
    "\n",
    "\n",
    "my_catalog[\"ror\"] = my_catalog[\"prad\"]/my_catalog[\"rstar\"]/RSRE\n",
    "my_catalog[\"dor\"] = sma/my_catalog[\"rstar\"]"
   ]
  },
  {
   "cell_type": "markdown",
   "metadata": {},
   "source": [
    "# Calculate SNR and remove systems hosting any planets with SNR < 7.1"
   ]
  },
  {
   "cell_type": "code",
   "execution_count": 29,
   "metadata": {},
   "outputs": [],
   "source": [
    "# Read in CDPP data\n",
    "cdpp = io.load_cdpp_data(PRIMARY_DIR + \"Catalogs/keplerstellar_cdpp.csv\")\n",
    "\n",
    "# do some data cleanup\n",
    "for k in cdpp.keys():\n",
    "    cdpp[k] = np.asarray(cdpp[k])\n",
    "    cdpp[k][cdpp[k] == \"\"] = \"nan\"\n",
    "\n",
    "    \n",
    "for k in cdpp.keys():\n",
    "    try:\n",
    "        cdpp[k] = np.asarray(cdpp[k], dtype=\"float\")\n",
    "    except:\n",
    "        pass\n",
    "    \n",
    "cdpp[\"kepid\"] = np.asarray(cdpp[\"kepid\"], dtype=\"int\")\n",
    "cdpp[\"nkoi\"]  = np.asarray(cdpp[\"nkoi\"], dtype=\"int\")\n",
    "\n",
    "\n",
    "cdpp_interp = []\n",
    "bad_dur = []\n",
    "\n",
    "for i, kic in enumerate(my_catalog[\"kic_id\"]):\n",
    "    cdpp_dur, cdpp_rms = io.pull_cdpp_rms(cdpp, kic)\n",
    "    \n",
    "    tdur = my_catalog[\"duration\"][i]\n",
    "    \n",
    "    if np.isnan(tdur):\n",
    "        tdur = get_dur_tot(my_catalog[\"period\"][i], my_catalog[\"prad\"][i]/RSRE, my_catalog[\"rstar\"][i],\n",
    "                           my_catalog[\"impact\"][i], get_sma(my_catalog[\"period\"][i], my_catalog[\"mstar\"][i]))\n",
    "        \n",
    "        bad_dur.append(True)\n",
    "        \n",
    "    else:\n",
    "        bad_dur.append(False)\n",
    "    \n",
    "    cdpp_interp.append(interp1d(cdpp_dur, cdpp_rms, bounds_error=False, fill_value=\"extrapolate\")(tdur))\n",
    "    \n",
    "    \n",
    "cdpp_interp = np.squeeze(cdpp_interp)"
   ]
  },
  {
   "cell_type": "code",
   "execution_count": 30,
   "metadata": {},
   "outputs": [],
   "source": [
    "# Read in occurence rate data products\n",
    "keys, vals = io.read_csv_file(PRIMARY_DIR + \"Catalogs/keplerstellar_occurence.csv\")\n",
    "\n",
    "occ = {}\n",
    "for k in keys: \n",
    "    occ[k] = io.get_csv_data(k, keys, vals)\n",
    "\n",
    "    \n",
    "# do some data cleanup\n",
    "for k in occ.keys():\n",
    "    occ[k] = np.asarray(occ[k])\n",
    "    occ[k][occ[k] == \"\"] = \"nan\"\n",
    "\n",
    "    \n",
    "for k in occ.keys():\n",
    "    try:\n",
    "        occ[k] = np.asarray(occ[k], dtype=\"float\")\n",
    "    except:\n",
    "        pass\n",
    "    \n",
    "    \n",
    "occ[\"kepid\"] = np.asarray(occ[\"kepid\"], dtype=\"int\")\n",
    "occ[\"nkoi\"]  = np.asarray(occ[\"nkoi\"], dtype=\"int\")\n",
    "\n",
    "\n",
    "dutycycle = []\n",
    "dataspan = []\n",
    "\n",
    "for i, kic in enumerate(my_catalog[\"kic_id\"]):\n",
    "    use = occ[\"kepid\"] == kic\n",
    "    \n",
    "    loc = np.nanargmax(occ[\"dataspan\"][use])\n",
    "    dutycycle.append(occ[\"dutycycle\"][use][loc])\n",
    "    dataspan.append(occ[\"dataspan\"][use][loc])\n",
    "    \n",
    "    \n",
    "dutycycle = np.asarray(dutycycle)\n",
    "dataspan = np.asarray(dataspan)\n",
    "\n",
    "expected_num_transits = dataspan/my_catalog[\"period\"]*dutycycle"
   ]
  },
  {
   "cell_type": "code",
   "execution_count": 31,
   "metadata": {},
   "outputs": [
    {
     "name": "stdout",
     "output_type": "stream",
     "text": [
      "245\n",
      "33\n",
      "4\n",
      "0\n"
     ]
    }
   ],
   "source": [
    "# calculate snr\n",
    "snr = my_catalog[\"depth\"]/cdpp_interp * np.sqrt(expected_num_transits)\n",
    "\n",
    "print(np.sum(snr < 7.1))\n",
    "\n",
    "# fix low SNR planets by increasing radii\n",
    "while np.any(snr < 7.1):\n",
    "    my_catalog[\"prad\"][snr < 7.1] *= 1.5\n",
    "    \n",
    "    # recalculate transit depths\n",
    "    my_catalog[\"depth\"] = get_transit_depth(my_catalog[\"prad\"]/my_catalog[\"rstar\"]/RSRE, my_catalog[\"impact\"])*1e6\n",
    "\n",
    "    # recalculate transit durations\n",
    "    sma = get_sma(my_catalog[\"period\"], my_catalog[\"mstar\"])\n",
    "\n",
    "    my_catalog[\"duration\"] = 24*get_dur_tot(my_catalog[\"period\"], \n",
    "                                            my_catalog[\"prad\"]/RSRE, \n",
    "                                            my_catalog[\"rstar\"],\n",
    "                                            my_catalog[\"impact\"],\n",
    "                                            sma,\n",
    "                                            my_catalog[\"ecc\"],\n",
    "                                            my_catalog[\"omega\"])\n",
    "\n",
    "    my_catalog[\"ror\"] = my_catalog[\"prad\"]/my_catalog[\"rstar\"]/RSRE\n",
    "    my_catalog[\"dor\"] = sma/my_catalog[\"rstar\"]\n",
    "    \n",
    "    \n",
    "    snr = my_catalog[\"depth\"]/cdpp_interp * np.sqrt(expected_num_transits)\n",
    "\n",
    "    print(np.sum(snr < 7.1))"
   ]
  },
  {
   "cell_type": "markdown",
   "metadata": {},
   "source": [
    "# Do some cleanup"
   ]
  },
  {
   "cell_type": "code",
   "execution_count": 33,
   "metadata": {},
   "outputs": [
    {
     "data": {
      "text/plain": [
       "dict_keys(['planet_name', 'disposition', 'koi_id', 'kic_id', 'npl', 'kep_mag', 'mstar', 'mstar_err1', 'mstar_err2', 'rstar', 'rstar_err1', 'rstar_err2', 'logrho', 'logrho_err1', 'logrho_err2', 'limbdark_1', 'limbdark_2', 'pmass', 'prad', 'period', 'epoch', 'impact', 'ecc', 'omega', 'depth', 'duration', 'ror', 'dor', 'snr', 'ttv_type'])"
      ]
     },
     "execution_count": 33,
     "metadata": {},
     "output_type": "execute_result"
    }
   ],
   "source": [
    "my_catalog.keys()"
   ]
  },
  {
   "cell_type": "code",
   "execution_count": 34,
   "metadata": {},
   "outputs": [],
   "source": [
    "all_keys = list(my_catalog.keys())\n",
    "int_keys = ['kic_id', 'npl', 'depth']\n",
    "string_keys = ['planet_name', 'disposition', 'koi_id', 'ttv_type']\n",
    "precise_keys = ['period', 'epoch']\n",
    "\n",
    "\n",
    "for k in my_catalog.keys():\n",
    "    if np.isin(k, int_keys):\n",
    "        my_catalog[k] = np.array(my_catalog[k], dtype=\"int\")\n",
    "    elif np.isin(k, string_keys):\n",
    "        my_catalog[k] = my_catalog[k]\n",
    "    elif np.isin(k, precise_keys):\n",
    "        my_catalog[k] = np.round(np.array(my_catalog[k], dtype=\"float\"), 5)\n",
    "    else:\n",
    "        my_catalog[k] = np.round(np.array(my_catalog[k], dtype=\"float\"), 3)"
   ]
  },
  {
   "cell_type": "markdown",
   "metadata": {},
   "source": [
    "# Write out the catalog"
   ]
  },
  {
   "cell_type": "code",
   "execution_count": 35,
   "metadata": {},
   "outputs": [],
   "source": [
    "WRITENEW = True\n",
    "if WRITENEW:\n",
    "    with open(CSV_OUT, \"w\") as outfile:\n",
    "        writer = csv.writer(outfile)\n",
    "        writer.writerow(my_catalog.keys())\n",
    "        writer.writerows(zip(*my_catalog.values()))"
   ]
  }
 ],
 "metadata": {
  "kernelspec": {
   "display_name": "Python 3",
   "language": "python",
   "name": "python3"
  },
  "language_info": {
   "codemirror_mode": {
    "name": "ipython",
    "version": 3
   },
   "file_extension": ".py",
   "mimetype": "text/x-python",
   "name": "python",
   "nbconvert_exporter": "python",
   "pygments_lexer": "ipython3",
   "version": "3.7.3"
  }
 },
 "nbformat": 4,
 "nbformat_minor": 2
}
