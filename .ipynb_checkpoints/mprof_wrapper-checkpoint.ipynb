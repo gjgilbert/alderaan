{
 "cells": [
  {
   "cell_type": "code",
   "execution_count": 1,
   "metadata": {},
   "outputs": [
    {
     "name": "stdout",
     "output_type": "stream",
     "text": [
      "downloading short cadence data from MAST\n",
      "downloading long cadence data from MAST\n",
      "downloading short cadence data from MAST\n",
      "downloading long cadence data from MAST\n"
     ]
    },
    {
     "ename": "ConnectionError",
     "evalue": "HTTPSConnectionPool(host='mast.stsci.edu', port=443): Max retries exceeded with url: /api/v0.1/Download/file?uri=mast:Kepler/url/missions/kepler/lightcurves/0050/005094751/kplr005094751-2010174085026_llc.fits (Caused by NewConnectionError('<urllib3.connection.VerifiedHTTPSConnection object at 0x1485ba860>: Failed to establish a new connection: [Errno 8] nodename nor servname provided, or not known'))",
     "output_type": "error",
     "traceback": [
      "\u001b[0;31m---------------------------------------------------------------------------\u001b[0m",
      "\u001b[0;31mgaierror\u001b[0m                                  Traceback (most recent call last)",
      "\u001b[0;32m~/anaconda3/lib/python3.7/site-packages/urllib3/connection.py\u001b[0m in \u001b[0;36m_new_conn\u001b[0;34m(self)\u001b[0m\n\u001b[1;32m    158\u001b[0m             conn = connection.create_connection(\n\u001b[0;32m--> 159\u001b[0;31m                 (self._dns_host, self.port), self.timeout, **extra_kw)\n\u001b[0m\u001b[1;32m    160\u001b[0m \u001b[0;34m\u001b[0m\u001b[0m\n",
      "\u001b[0;32m~/anaconda3/lib/python3.7/site-packages/urllib3/util/connection.py\u001b[0m in \u001b[0;36mcreate_connection\u001b[0;34m(address, timeout, source_address, socket_options)\u001b[0m\n\u001b[1;32m     56\u001b[0m \u001b[0;34m\u001b[0m\u001b[0m\n\u001b[0;32m---> 57\u001b[0;31m     \u001b[0;32mfor\u001b[0m \u001b[0mres\u001b[0m \u001b[0;32min\u001b[0m \u001b[0msocket\u001b[0m\u001b[0;34m.\u001b[0m\u001b[0mgetaddrinfo\u001b[0m\u001b[0;34m(\u001b[0m\u001b[0mhost\u001b[0m\u001b[0;34m,\u001b[0m \u001b[0mport\u001b[0m\u001b[0;34m,\u001b[0m \u001b[0mfamily\u001b[0m\u001b[0;34m,\u001b[0m \u001b[0msocket\u001b[0m\u001b[0;34m.\u001b[0m\u001b[0mSOCK_STREAM\u001b[0m\u001b[0;34m)\u001b[0m\u001b[0;34m:\u001b[0m\u001b[0;34m\u001b[0m\u001b[0;34m\u001b[0m\u001b[0m\n\u001b[0m\u001b[1;32m     58\u001b[0m         \u001b[0maf\u001b[0m\u001b[0;34m,\u001b[0m \u001b[0msocktype\u001b[0m\u001b[0;34m,\u001b[0m \u001b[0mproto\u001b[0m\u001b[0;34m,\u001b[0m \u001b[0mcanonname\u001b[0m\u001b[0;34m,\u001b[0m \u001b[0msa\u001b[0m \u001b[0;34m=\u001b[0m \u001b[0mres\u001b[0m\u001b[0;34m\u001b[0m\u001b[0;34m\u001b[0m\u001b[0m\n",
      "\u001b[0;32m~/anaconda3/lib/python3.7/socket.py\u001b[0m in \u001b[0;36mgetaddrinfo\u001b[0;34m(host, port, family, type, proto, flags)\u001b[0m\n\u001b[1;32m    747\u001b[0m     \u001b[0maddrlist\u001b[0m \u001b[0;34m=\u001b[0m \u001b[0;34m[\u001b[0m\u001b[0;34m]\u001b[0m\u001b[0;34m\u001b[0m\u001b[0;34m\u001b[0m\u001b[0m\n\u001b[0;32m--> 748\u001b[0;31m     \u001b[0;32mfor\u001b[0m \u001b[0mres\u001b[0m \u001b[0;32min\u001b[0m \u001b[0m_socket\u001b[0m\u001b[0;34m.\u001b[0m\u001b[0mgetaddrinfo\u001b[0m\u001b[0;34m(\u001b[0m\u001b[0mhost\u001b[0m\u001b[0;34m,\u001b[0m \u001b[0mport\u001b[0m\u001b[0;34m,\u001b[0m \u001b[0mfamily\u001b[0m\u001b[0;34m,\u001b[0m \u001b[0mtype\u001b[0m\u001b[0;34m,\u001b[0m \u001b[0mproto\u001b[0m\u001b[0;34m,\u001b[0m \u001b[0mflags\u001b[0m\u001b[0;34m)\u001b[0m\u001b[0;34m:\u001b[0m\u001b[0;34m\u001b[0m\u001b[0;34m\u001b[0m\u001b[0m\n\u001b[0m\u001b[1;32m    749\u001b[0m         \u001b[0maf\u001b[0m\u001b[0;34m,\u001b[0m \u001b[0msocktype\u001b[0m\u001b[0;34m,\u001b[0m \u001b[0mproto\u001b[0m\u001b[0;34m,\u001b[0m \u001b[0mcanonname\u001b[0m\u001b[0;34m,\u001b[0m \u001b[0msa\u001b[0m \u001b[0;34m=\u001b[0m \u001b[0mres\u001b[0m\u001b[0;34m\u001b[0m\u001b[0;34m\u001b[0m\u001b[0m\n",
      "\u001b[0;31mgaierror\u001b[0m: [Errno 8] nodename nor servname provided, or not known",
      "\nDuring handling of the above exception, another exception occurred:\n",
      "\u001b[0;31mNewConnectionError\u001b[0m                        Traceback (most recent call last)",
      "\u001b[0;32m~/anaconda3/lib/python3.7/site-packages/urllib3/connectionpool.py\u001b[0m in \u001b[0;36murlopen\u001b[0;34m(self, method, url, body, headers, retries, redirect, assert_same_host, timeout, pool_timeout, release_conn, chunked, body_pos, **response_kw)\u001b[0m\n\u001b[1;32m    599\u001b[0m                                                   \u001b[0mbody\u001b[0m\u001b[0;34m=\u001b[0m\u001b[0mbody\u001b[0m\u001b[0;34m,\u001b[0m \u001b[0mheaders\u001b[0m\u001b[0;34m=\u001b[0m\u001b[0mheaders\u001b[0m\u001b[0;34m,\u001b[0m\u001b[0;34m\u001b[0m\u001b[0;34m\u001b[0m\u001b[0m\n\u001b[0;32m--> 600\u001b[0;31m                                                   chunked=chunked)\n\u001b[0m\u001b[1;32m    601\u001b[0m \u001b[0;34m\u001b[0m\u001b[0m\n",
      "\u001b[0;32m~/anaconda3/lib/python3.7/site-packages/urllib3/connectionpool.py\u001b[0m in \u001b[0;36m_make_request\u001b[0;34m(self, conn, method, url, timeout, chunked, **httplib_request_kw)\u001b[0m\n\u001b[1;32m    342\u001b[0m         \u001b[0;32mtry\u001b[0m\u001b[0;34m:\u001b[0m\u001b[0;34m\u001b[0m\u001b[0;34m\u001b[0m\u001b[0m\n\u001b[0;32m--> 343\u001b[0;31m             \u001b[0mself\u001b[0m\u001b[0;34m.\u001b[0m\u001b[0m_validate_conn\u001b[0m\u001b[0;34m(\u001b[0m\u001b[0mconn\u001b[0m\u001b[0;34m)\u001b[0m\u001b[0;34m\u001b[0m\u001b[0;34m\u001b[0m\u001b[0m\n\u001b[0m\u001b[1;32m    344\u001b[0m         \u001b[0;32mexcept\u001b[0m \u001b[0;34m(\u001b[0m\u001b[0mSocketTimeout\u001b[0m\u001b[0;34m,\u001b[0m \u001b[0mBaseSSLError\u001b[0m\u001b[0;34m)\u001b[0m \u001b[0;32mas\u001b[0m \u001b[0me\u001b[0m\u001b[0;34m:\u001b[0m\u001b[0;34m\u001b[0m\u001b[0;34m\u001b[0m\u001b[0m\n",
      "\u001b[0;32m~/anaconda3/lib/python3.7/site-packages/urllib3/connectionpool.py\u001b[0m in \u001b[0;36m_validate_conn\u001b[0;34m(self, conn)\u001b[0m\n\u001b[1;32m    838\u001b[0m         \u001b[0;32mif\u001b[0m \u001b[0;32mnot\u001b[0m \u001b[0mgetattr\u001b[0m\u001b[0;34m(\u001b[0m\u001b[0mconn\u001b[0m\u001b[0;34m,\u001b[0m \u001b[0;34m'sock'\u001b[0m\u001b[0;34m,\u001b[0m \u001b[0;32mNone\u001b[0m\u001b[0;34m)\u001b[0m\u001b[0;34m:\u001b[0m  \u001b[0;31m# AppEngine might not have  `.sock`\u001b[0m\u001b[0;34m\u001b[0m\u001b[0;34m\u001b[0m\u001b[0m\n\u001b[0;32m--> 839\u001b[0;31m             \u001b[0mconn\u001b[0m\u001b[0;34m.\u001b[0m\u001b[0mconnect\u001b[0m\u001b[0;34m(\u001b[0m\u001b[0;34m)\u001b[0m\u001b[0;34m\u001b[0m\u001b[0;34m\u001b[0m\u001b[0m\n\u001b[0m\u001b[1;32m    840\u001b[0m \u001b[0;34m\u001b[0m\u001b[0m\n",
      "\u001b[0;32m~/anaconda3/lib/python3.7/site-packages/urllib3/connection.py\u001b[0m in \u001b[0;36mconnect\u001b[0;34m(self)\u001b[0m\n\u001b[1;32m    300\u001b[0m         \u001b[0;31m# Add certificate verification\u001b[0m\u001b[0;34m\u001b[0m\u001b[0;34m\u001b[0m\u001b[0;34m\u001b[0m\u001b[0m\n\u001b[0;32m--> 301\u001b[0;31m         \u001b[0mconn\u001b[0m \u001b[0;34m=\u001b[0m \u001b[0mself\u001b[0m\u001b[0;34m.\u001b[0m\u001b[0m_new_conn\u001b[0m\u001b[0;34m(\u001b[0m\u001b[0;34m)\u001b[0m\u001b[0;34m\u001b[0m\u001b[0;34m\u001b[0m\u001b[0m\n\u001b[0m\u001b[1;32m    302\u001b[0m         \u001b[0mhostname\u001b[0m \u001b[0;34m=\u001b[0m \u001b[0mself\u001b[0m\u001b[0;34m.\u001b[0m\u001b[0mhost\u001b[0m\u001b[0;34m\u001b[0m\u001b[0;34m\u001b[0m\u001b[0m\n",
      "\u001b[0;32m~/anaconda3/lib/python3.7/site-packages/urllib3/connection.py\u001b[0m in \u001b[0;36m_new_conn\u001b[0;34m(self)\u001b[0m\n\u001b[1;32m    167\u001b[0m             raise NewConnectionError(\n\u001b[0;32m--> 168\u001b[0;31m                 self, \"Failed to establish a new connection: %s\" % e)\n\u001b[0m\u001b[1;32m    169\u001b[0m \u001b[0;34m\u001b[0m\u001b[0m\n",
      "\u001b[0;31mNewConnectionError\u001b[0m: <urllib3.connection.VerifiedHTTPSConnection object at 0x1485ba860>: Failed to establish a new connection: [Errno 8] nodename nor servname provided, or not known",
      "\nDuring handling of the above exception, another exception occurred:\n",
      "\u001b[0;31mMaxRetryError\u001b[0m                             Traceback (most recent call last)",
      "\u001b[0;32m~/anaconda3/lib/python3.7/site-packages/requests/adapters.py\u001b[0m in \u001b[0;36msend\u001b[0;34m(self, request, stream, timeout, verify, cert, proxies)\u001b[0m\n\u001b[1;32m    448\u001b[0m                     \u001b[0mretries\u001b[0m\u001b[0;34m=\u001b[0m\u001b[0mself\u001b[0m\u001b[0;34m.\u001b[0m\u001b[0mmax_retries\u001b[0m\u001b[0;34m,\u001b[0m\u001b[0;34m\u001b[0m\u001b[0;34m\u001b[0m\u001b[0m\n\u001b[0;32m--> 449\u001b[0;31m                     \u001b[0mtimeout\u001b[0m\u001b[0;34m=\u001b[0m\u001b[0mtimeout\u001b[0m\u001b[0;34m\u001b[0m\u001b[0;34m\u001b[0m\u001b[0m\n\u001b[0m\u001b[1;32m    450\u001b[0m                 )\n",
      "\u001b[0;32m~/anaconda3/lib/python3.7/site-packages/urllib3/connectionpool.py\u001b[0m in \u001b[0;36murlopen\u001b[0;34m(self, method, url, body, headers, retries, redirect, assert_same_host, timeout, pool_timeout, release_conn, chunked, body_pos, **response_kw)\u001b[0m\n\u001b[1;32m    637\u001b[0m             retries = retries.increment(method, url, error=e, _pool=self,\n\u001b[0;32m--> 638\u001b[0;31m                                         _stacktrace=sys.exc_info()[2])\n\u001b[0m\u001b[1;32m    639\u001b[0m             \u001b[0mretries\u001b[0m\u001b[0;34m.\u001b[0m\u001b[0msleep\u001b[0m\u001b[0;34m(\u001b[0m\u001b[0;34m)\u001b[0m\u001b[0;34m\u001b[0m\u001b[0;34m\u001b[0m\u001b[0m\n",
      "\u001b[0;32m~/anaconda3/lib/python3.7/site-packages/urllib3/util/retry.py\u001b[0m in \u001b[0;36mincrement\u001b[0;34m(self, method, url, response, error, _pool, _stacktrace)\u001b[0m\n\u001b[1;32m    398\u001b[0m         \u001b[0;32mif\u001b[0m \u001b[0mnew_retry\u001b[0m\u001b[0;34m.\u001b[0m\u001b[0mis_exhausted\u001b[0m\u001b[0;34m(\u001b[0m\u001b[0;34m)\u001b[0m\u001b[0;34m:\u001b[0m\u001b[0;34m\u001b[0m\u001b[0;34m\u001b[0m\u001b[0m\n\u001b[0;32m--> 399\u001b[0;31m             \u001b[0;32mraise\u001b[0m \u001b[0mMaxRetryError\u001b[0m\u001b[0;34m(\u001b[0m\u001b[0m_pool\u001b[0m\u001b[0;34m,\u001b[0m \u001b[0murl\u001b[0m\u001b[0;34m,\u001b[0m \u001b[0merror\u001b[0m \u001b[0;32mor\u001b[0m \u001b[0mResponseError\u001b[0m\u001b[0;34m(\u001b[0m\u001b[0mcause\u001b[0m\u001b[0;34m)\u001b[0m\u001b[0;34m)\u001b[0m\u001b[0;34m\u001b[0m\u001b[0;34m\u001b[0m\u001b[0m\n\u001b[0m\u001b[1;32m    400\u001b[0m \u001b[0;34m\u001b[0m\u001b[0m\n",
      "\u001b[0;31mMaxRetryError\u001b[0m: HTTPSConnectionPool(host='mast.stsci.edu', port=443): Max retries exceeded with url: /api/v0.1/Download/file?uri=mast:Kepler/url/missions/kepler/lightcurves/0050/005094751/kplr005094751-2010174085026_llc.fits (Caused by NewConnectionError('<urllib3.connection.VerifiedHTTPSConnection object at 0x1485ba860>: Failed to establish a new connection: [Errno 8] nodename nor servname provided, or not known'))",
      "\nDuring handling of the above exception, another exception occurred:\n",
      "\u001b[0;31mConnectionError\u001b[0m                           Traceback (most recent call last)",
      "\u001b[0;32m~/projects/archeopteryx/download_from_MAST.py\u001b[0m in \u001b[0;36m<module>\u001b[0;34m\u001b[0m\n\u001b[1;32m     99\u001b[0m \u001b[0;31m# In[ ]:\u001b[0m\u001b[0;34m\u001b[0m\u001b[0;34m\u001b[0m\u001b[0;34m\u001b[0m\u001b[0m\n\u001b[1;32m    100\u001b[0m \u001b[0;34m\u001b[0m\u001b[0m\n\u001b[0;32m--> 101\u001b[0;31m \u001b[0;34m\u001b[0m\u001b[0m\n\u001b[0m\u001b[1;32m    102\u001b[0m \u001b[0;31m# download the LONG CADENCE data -- this creates a LightCurveFileCollection\u001b[0m\u001b[0;34m\u001b[0m\u001b[0;34m\u001b[0m\u001b[0;34m\u001b[0m\u001b[0m\n\u001b[1;32m    103\u001b[0m \u001b[0mprint\u001b[0m\u001b[0;34m(\u001b[0m\u001b[0;34m'downloading long cadence data from MAST'\u001b[0m\u001b[0;34m)\u001b[0m\u001b[0;34m\u001b[0m\u001b[0;34m\u001b[0m\u001b[0m\n",
      "\u001b[0;32m~/anaconda3/lib/python3.7/site-packages/lightkurve/utils.py\u001b[0m in \u001b[0;36mwrapper\u001b[0;34m(*args, **kwargs)\u001b[0m\n\u001b[1;32m    471\u001b[0m             \u001b[0msys\u001b[0m\u001b[0;34m.\u001b[0m\u001b[0mstdout\u001b[0m \u001b[0;34m=\u001b[0m \u001b[0mdevnull\u001b[0m\u001b[0;34m\u001b[0m\u001b[0;34m\u001b[0m\u001b[0m\n\u001b[1;32m    472\u001b[0m             \u001b[0;32mtry\u001b[0m\u001b[0;34m:\u001b[0m\u001b[0;34m\u001b[0m\u001b[0;34m\u001b[0m\u001b[0m\n\u001b[0;32m--> 473\u001b[0;31m                 \u001b[0;32mreturn\u001b[0m \u001b[0mf\u001b[0m\u001b[0;34m(\u001b[0m\u001b[0;34m*\u001b[0m\u001b[0margs\u001b[0m\u001b[0;34m,\u001b[0m \u001b[0;34m**\u001b[0m\u001b[0mkwargs\u001b[0m\u001b[0;34m)\u001b[0m\u001b[0;34m\u001b[0m\u001b[0;34m\u001b[0m\u001b[0m\n\u001b[0m\u001b[1;32m    474\u001b[0m             \u001b[0;31m# restore to default\u001b[0m\u001b[0;34m\u001b[0m\u001b[0;34m\u001b[0m\u001b[0;34m\u001b[0m\u001b[0m\n\u001b[1;32m    475\u001b[0m             \u001b[0;32mfinally\u001b[0m\u001b[0;34m:\u001b[0m\u001b[0;34m\u001b[0m\u001b[0;34m\u001b[0m\u001b[0m\n",
      "\u001b[0;32m~/anaconda3/lib/python3.7/site-packages/lightkurve/search.py\u001b[0m in \u001b[0;36mdownload_all\u001b[0;34m(self, quality_bitmask, download_dir, cutout_size)\u001b[0m\n\u001b[1;32m    291\u001b[0m                                                \u001b[0mquality_bitmask\u001b[0m\u001b[0;34m=\u001b[0m\u001b[0mquality_bitmask\u001b[0m\u001b[0;34m,\u001b[0m\u001b[0;34m\u001b[0m\u001b[0;34m\u001b[0m\u001b[0m\n\u001b[1;32m    292\u001b[0m                                                \u001b[0mdownload_dir\u001b[0m\u001b[0;34m=\u001b[0m\u001b[0mdownload_dir\u001b[0m\u001b[0;34m,\u001b[0m\u001b[0;34m\u001b[0m\u001b[0;34m\u001b[0m\u001b[0m\n\u001b[0;32m--> 293\u001b[0;31m                                                cutout_size=cutout_size))\n\u001b[0m\u001b[1;32m    294\u001b[0m         \u001b[0;32mif\u001b[0m \u001b[0misinstance\u001b[0m\u001b[0;34m(\u001b[0m\u001b[0mproducts\u001b[0m\u001b[0;34m[\u001b[0m\u001b[0;36m0\u001b[0m\u001b[0;34m]\u001b[0m\u001b[0;34m,\u001b[0m \u001b[0mTargetPixelFile\u001b[0m\u001b[0;34m)\u001b[0m\u001b[0;34m:\u001b[0m\u001b[0;34m\u001b[0m\u001b[0;34m\u001b[0m\u001b[0m\n\u001b[1;32m    295\u001b[0m             \u001b[0;32mreturn\u001b[0m \u001b[0mTargetPixelFileCollection\u001b[0m\u001b[0;34m(\u001b[0m\u001b[0mproducts\u001b[0m\u001b[0;34m)\u001b[0m\u001b[0;34m\u001b[0m\u001b[0;34m\u001b[0m\u001b[0m\n",
      "\u001b[0;32m~/anaconda3/lib/python3.7/site-packages/lightkurve/search.py\u001b[0m in \u001b[0;36m_download_one\u001b[0;34m(self, table, quality_bitmask, download_dir, cutout_size)\u001b[0m\n\u001b[1;32m    174\u001b[0m             \u001b[0mlog\u001b[0m\u001b[0;34m.\u001b[0m\u001b[0mdebug\u001b[0m\u001b[0;34m(\u001b[0m\u001b[0;34m\"Started downloading {}.\"\u001b[0m\u001b[0;34m.\u001b[0m\u001b[0mformat\u001b[0m\u001b[0;34m(\u001b[0m\u001b[0mtable\u001b[0m\u001b[0;34m[\u001b[0m\u001b[0;34m:\u001b[0m\u001b[0;36m1\u001b[0m\u001b[0;34m]\u001b[0m\u001b[0;34m[\u001b[0m\u001b[0;34m'dataURL'\u001b[0m\u001b[0;34m]\u001b[0m\u001b[0;34m[\u001b[0m\u001b[0;36m0\u001b[0m\u001b[0;34m]\u001b[0m\u001b[0;34m)\u001b[0m\u001b[0;34m)\u001b[0m\u001b[0;34m\u001b[0m\u001b[0;34m\u001b[0m\u001b[0m\n\u001b[1;32m    175\u001b[0m             path = Observations.download_products(table[:1], mrp_only=False,\n\u001b[0;32m--> 176\u001b[0;31m                                                   download_dir=download_dir)['Local Path'][0]\n\u001b[0m\u001b[1;32m    177\u001b[0m             \u001b[0mlog\u001b[0m\u001b[0;34m.\u001b[0m\u001b[0mdebug\u001b[0m\u001b[0;34m(\u001b[0m\u001b[0;34m\"Finished downloading.\"\u001b[0m\u001b[0;34m)\u001b[0m\u001b[0;34m\u001b[0m\u001b[0;34m\u001b[0m\u001b[0m\n\u001b[1;32m    178\u001b[0m             \u001b[0;31m# open() will determine filetype and return\u001b[0m\u001b[0;34m\u001b[0m\u001b[0;34m\u001b[0m\u001b[0;34m\u001b[0m\u001b[0m\n",
      "\u001b[0;32m~/anaconda3/lib/python3.7/site-packages/astroquery/mast/core.py\u001b[0m in \u001b[0;36mdownload_products\u001b[0;34m(self, products, download_dir, cache, curl_flag, mrp_only, **filters)\u001b[0m\n\u001b[1;32m   1761\u001b[0m         \u001b[0;32melse\u001b[0m\u001b[0;34m:\u001b[0m\u001b[0;34m\u001b[0m\u001b[0;34m\u001b[0m\u001b[0m\n\u001b[1;32m   1762\u001b[0m             \u001b[0mbase_dir\u001b[0m \u001b[0;34m=\u001b[0m \u001b[0mdownload_dir\u001b[0m\u001b[0;34m.\u001b[0m\u001b[0mrstrip\u001b[0m\u001b[0;34m(\u001b[0m\u001b[0;34m'/'\u001b[0m\u001b[0;34m)\u001b[0m \u001b[0;34m+\u001b[0m \u001b[0;34m\"/mastDownload\"\u001b[0m\u001b[0;34m\u001b[0m\u001b[0;34m\u001b[0m\u001b[0m\n\u001b[0;32m-> 1763\u001b[0;31m             \u001b[0mmanifest\u001b[0m \u001b[0;34m=\u001b[0m \u001b[0mself\u001b[0m\u001b[0;34m.\u001b[0m\u001b[0m_download_files\u001b[0m\u001b[0;34m(\u001b[0m\u001b[0mproducts\u001b[0m\u001b[0;34m,\u001b[0m \u001b[0mbase_dir\u001b[0m\u001b[0;34m,\u001b[0m \u001b[0mcache\u001b[0m\u001b[0;34m)\u001b[0m\u001b[0;34m\u001b[0m\u001b[0;34m\u001b[0m\u001b[0m\n\u001b[0m\u001b[1;32m   1764\u001b[0m \u001b[0;34m\u001b[0m\u001b[0m\n\u001b[1;32m   1765\u001b[0m         \u001b[0;32mreturn\u001b[0m \u001b[0mmanifest\u001b[0m\u001b[0;34m\u001b[0m\u001b[0;34m\u001b[0m\u001b[0m\n",
      "\u001b[0;32m~/anaconda3/lib/python3.7/site-packages/astroquery/mast/core.py\u001b[0m in \u001b[0;36m_download_files\u001b[0;34m(self, products, base_dir, cache)\u001b[0m\n\u001b[1;32m   1673\u001b[0m                         \u001b[0mself\u001b[0m\u001b[0;34m.\u001b[0m\u001b[0m_download_file\u001b[0m\u001b[0;34m(\u001b[0m\u001b[0mdataUrl\u001b[0m\u001b[0;34m,\u001b[0m \u001b[0mlocalPath\u001b[0m\u001b[0;34m,\u001b[0m \u001b[0mcache\u001b[0m\u001b[0;34m=\u001b[0m\u001b[0mcache\u001b[0m\u001b[0;34m,\u001b[0m \u001b[0mhead_safe\u001b[0m\u001b[0;34m=\u001b[0m\u001b[0;32mTrue\u001b[0m\u001b[0;34m)\u001b[0m\u001b[0;34m\u001b[0m\u001b[0;34m\u001b[0m\u001b[0m\n\u001b[1;32m   1674\u001b[0m                 \u001b[0;32melse\u001b[0m\u001b[0;34m:\u001b[0m\u001b[0;34m\u001b[0m\u001b[0;34m\u001b[0m\u001b[0m\n\u001b[0;32m-> 1675\u001b[0;31m                     \u001b[0mself\u001b[0m\u001b[0;34m.\u001b[0m\u001b[0m_download_file\u001b[0m\u001b[0;34m(\u001b[0m\u001b[0mdataUrl\u001b[0m\u001b[0;34m,\u001b[0m \u001b[0mlocalPath\u001b[0m\u001b[0;34m,\u001b[0m \u001b[0mcache\u001b[0m\u001b[0;34m=\u001b[0m\u001b[0mcache\u001b[0m\u001b[0;34m,\u001b[0m \u001b[0mhead_safe\u001b[0m\u001b[0;34m=\u001b[0m\u001b[0;32mTrue\u001b[0m\u001b[0;34m)\u001b[0m\u001b[0;34m\u001b[0m\u001b[0;34m\u001b[0m\u001b[0m\n\u001b[0m\u001b[1;32m   1676\u001b[0m \u001b[0;34m\u001b[0m\u001b[0m\n\u001b[1;32m   1677\u001b[0m                 \u001b[0;31m# check if file exists also this is where would perform md5,\u001b[0m\u001b[0;34m\u001b[0m\u001b[0;34m\u001b[0m\u001b[0;34m\u001b[0m\u001b[0m\n",
      "\u001b[0;32m~/anaconda3/lib/python3.7/site-packages/astroquery/query.py\u001b[0m in \u001b[0;36m_download_file\u001b[0;34m(self, url, local_filepath, timeout, auth, continuation, cache, method, head_safe, **kwargs)\u001b[0m\n\u001b[1;32m    313\u001b[0m             \u001b[0;32mif\u001b[0m \u001b[0mhead_safe\u001b[0m\u001b[0;34m:\u001b[0m\u001b[0;34m\u001b[0m\u001b[0;34m\u001b[0m\u001b[0m\n\u001b[1;32m    314\u001b[0m                 response = self._session.request(method, url, timeout=timeout, stream=True,\n\u001b[0;32m--> 315\u001b[0;31m                                                  auth=auth, **kwargs)\n\u001b[0m\u001b[1;32m    316\u001b[0m                 \u001b[0mresponse\u001b[0m\u001b[0;34m.\u001b[0m\u001b[0mraise_for_status\u001b[0m\u001b[0;34m(\u001b[0m\u001b[0;34m)\u001b[0m\u001b[0;34m\u001b[0m\u001b[0;34m\u001b[0m\u001b[0m\n\u001b[1;32m    317\u001b[0m \u001b[0;34m\u001b[0m\u001b[0m\n",
      "\u001b[0;32m~/anaconda3/lib/python3.7/site-packages/requests/sessions.py\u001b[0m in \u001b[0;36mrequest\u001b[0;34m(self, method, url, params, data, headers, cookies, files, auth, timeout, allow_redirects, proxies, hooks, stream, verify, cert, json)\u001b[0m\n\u001b[1;32m    531\u001b[0m         }\n\u001b[1;32m    532\u001b[0m         \u001b[0msend_kwargs\u001b[0m\u001b[0;34m.\u001b[0m\u001b[0mupdate\u001b[0m\u001b[0;34m(\u001b[0m\u001b[0msettings\u001b[0m\u001b[0;34m)\u001b[0m\u001b[0;34m\u001b[0m\u001b[0;34m\u001b[0m\u001b[0m\n\u001b[0;32m--> 533\u001b[0;31m         \u001b[0mresp\u001b[0m \u001b[0;34m=\u001b[0m \u001b[0mself\u001b[0m\u001b[0;34m.\u001b[0m\u001b[0msend\u001b[0m\u001b[0;34m(\u001b[0m\u001b[0mprep\u001b[0m\u001b[0;34m,\u001b[0m \u001b[0;34m**\u001b[0m\u001b[0msend_kwargs\u001b[0m\u001b[0;34m)\u001b[0m\u001b[0;34m\u001b[0m\u001b[0;34m\u001b[0m\u001b[0m\n\u001b[0m\u001b[1;32m    534\u001b[0m \u001b[0;34m\u001b[0m\u001b[0m\n\u001b[1;32m    535\u001b[0m         \u001b[0;32mreturn\u001b[0m \u001b[0mresp\u001b[0m\u001b[0;34m\u001b[0m\u001b[0;34m\u001b[0m\u001b[0m\n",
      "\u001b[0;32m~/anaconda3/lib/python3.7/site-packages/requests/sessions.py\u001b[0m in \u001b[0;36msend\u001b[0;34m(self, request, **kwargs)\u001b[0m\n\u001b[1;32m    644\u001b[0m \u001b[0;34m\u001b[0m\u001b[0m\n\u001b[1;32m    645\u001b[0m         \u001b[0;31m# Send the request\u001b[0m\u001b[0;34m\u001b[0m\u001b[0;34m\u001b[0m\u001b[0;34m\u001b[0m\u001b[0m\n\u001b[0;32m--> 646\u001b[0;31m         \u001b[0mr\u001b[0m \u001b[0;34m=\u001b[0m \u001b[0madapter\u001b[0m\u001b[0;34m.\u001b[0m\u001b[0msend\u001b[0m\u001b[0;34m(\u001b[0m\u001b[0mrequest\u001b[0m\u001b[0;34m,\u001b[0m \u001b[0;34m**\u001b[0m\u001b[0mkwargs\u001b[0m\u001b[0;34m)\u001b[0m\u001b[0;34m\u001b[0m\u001b[0;34m\u001b[0m\u001b[0m\n\u001b[0m\u001b[1;32m    647\u001b[0m \u001b[0;34m\u001b[0m\u001b[0m\n\u001b[1;32m    648\u001b[0m         \u001b[0;31m# Total elapsed time of the request (approximately)\u001b[0m\u001b[0;34m\u001b[0m\u001b[0;34m\u001b[0m\u001b[0;34m\u001b[0m\u001b[0m\n",
      "\u001b[0;32m~/anaconda3/lib/python3.7/site-packages/requests/adapters.py\u001b[0m in \u001b[0;36msend\u001b[0;34m(self, request, stream, timeout, verify, cert, proxies)\u001b[0m\n\u001b[1;32m    514\u001b[0m                 \u001b[0;32mraise\u001b[0m \u001b[0mSSLError\u001b[0m\u001b[0;34m(\u001b[0m\u001b[0me\u001b[0m\u001b[0;34m,\u001b[0m \u001b[0mrequest\u001b[0m\u001b[0;34m=\u001b[0m\u001b[0mrequest\u001b[0m\u001b[0;34m)\u001b[0m\u001b[0;34m\u001b[0m\u001b[0;34m\u001b[0m\u001b[0m\n\u001b[1;32m    515\u001b[0m \u001b[0;34m\u001b[0m\u001b[0m\n\u001b[0;32m--> 516\u001b[0;31m             \u001b[0;32mraise\u001b[0m \u001b[0mConnectionError\u001b[0m\u001b[0;34m(\u001b[0m\u001b[0me\u001b[0m\u001b[0;34m,\u001b[0m \u001b[0mrequest\u001b[0m\u001b[0;34m=\u001b[0m\u001b[0mrequest\u001b[0m\u001b[0;34m)\u001b[0m\u001b[0;34m\u001b[0m\u001b[0;34m\u001b[0m\u001b[0m\n\u001b[0m\u001b[1;32m    517\u001b[0m \u001b[0;34m\u001b[0m\u001b[0m\n\u001b[1;32m    518\u001b[0m         \u001b[0;32mexcept\u001b[0m \u001b[0mClosedPoolError\u001b[0m \u001b[0;32mas\u001b[0m \u001b[0me\u001b[0m\u001b[0;34m:\u001b[0m\u001b[0;34m\u001b[0m\u001b[0;34m\u001b[0m\u001b[0m\n",
      "\u001b[0;31mConnectionError\u001b[0m: HTTPSConnectionPool(host='mast.stsci.edu', port=443): Max retries exceeded with url: /api/v0.1/Download/file?uri=mast:Kepler/url/missions/kepler/lightcurves/0050/005094751/kplr005094751-2010174085026_llc.fits (Caused by NewConnectionError('<urllib3.connection.VerifiedHTTPSConnection object at 0x1485ba860>: Failed to establish a new connection: [Errno 8] nodename nor servname provided, or not known'))"
     ]
    },
    {
     "name": "stdout",
     "output_type": "stream",
     "text": [
      "\n",
      "KOI-172\n",
      "downloading short cadence data from MAST\n",
      "downloading long cadence data from MAST\n",
      "\n",
      "KOI-179\n",
      "downloading short cadence data from MAST\n",
      "downloading long cadence data from MAST\n",
      "\n",
      "KOI-223\n",
      "downloading short cadence data from MAST\n",
      "downloading long cadence data from MAST\n",
      "\n",
      "KOI-275\n",
      "downloading short cadence data from MAST\n",
      "downloading long cadence data from MAST\n",
      "\n",
      "KOI-291\n",
      "downloading short cadence data from MAST\n",
      "downloading long cadence data from MAST\n",
      "\n",
      "KOI-327\n",
      "downloading short cadence data from MAST\n",
      "downloading long cadence data from MAST\n",
      "\n",
      "KOI-337\n",
      "downloading short cadence data from MAST\n",
      "downloading long cadence data from MAST\n",
      "\n",
      "KOI-581\n",
      "downloading short cadence data from MAST\n"
     ]
    },
    {
     "name": "stderr",
     "output_type": "stream",
     "text": [
      "/Users/research/anaconda3/lib/python3.7/site-packages/lightkurve/search.py:284: LightkurveWarning: Cannot download from an empty search result.\n",
      "  LightkurveWarning)\n"
     ]
    },
    {
     "name": "stdout",
     "output_type": "stream",
     "text": [
      "downloading long cadence data from MAST\n",
      "\n",
      "KOI-590\n",
      "downloading short cadence data from MAST\n"
     ]
    },
    {
     "name": "stderr",
     "output_type": "stream",
     "text": [
      "/Users/research/anaconda3/lib/python3.7/site-packages/lightkurve/search.py:284: LightkurveWarning: Cannot download from an empty search result.\n",
      "  LightkurveWarning)\n"
     ]
    },
    {
     "name": "stdout",
     "output_type": "stream",
     "text": [
      "downloading long cadence data from MAST\n",
      "\n",
      "KOI-598\n",
      "downloading short cadence data from MAST\n"
     ]
    },
    {
     "name": "stderr",
     "output_type": "stream",
     "text": [
      "/Users/research/anaconda3/lib/python3.7/site-packages/lightkurve/search.py:284: LightkurveWarning: Cannot download from an empty search result.\n",
      "  LightkurveWarning)\n"
     ]
    },
    {
     "name": "stdout",
     "output_type": "stream",
     "text": [
      "downloading long cadence data from MAST\n",
      "\n",
      "KOI-600\n",
      "downloading short cadence data from MAST\n"
     ]
    },
    {
     "name": "stderr",
     "output_type": "stream",
     "text": [
      "/Users/research/anaconda3/lib/python3.7/site-packages/lightkurve/search.py:284: LightkurveWarning: Cannot download from an empty search result.\n",
      "  LightkurveWarning)\n"
     ]
    },
    {
     "name": "stdout",
     "output_type": "stream",
     "text": [
      "downloading long cadence data from MAST\n",
      "\n",
      "KOI-655\n",
      "downloading short cadence data from MAST\n",
      "downloading long cadence data from MAST\n",
      "\n",
      "KOI-657\n",
      "downloading short cadence data from MAST\n",
      "downloading long cadence data from MAST\n",
      "\n",
      "KOI-752\n",
      "downloading short cadence data from MAST\n"
     ]
    },
    {
     "name": "stderr",
     "output_type": "stream",
     "text": [
      "/Users/research/anaconda3/lib/python3.7/site-packages/lightkurve/search.py:284: LightkurveWarning: Cannot download from an empty search result.\n",
      "  LightkurveWarning)\n"
     ]
    },
    {
     "name": "stdout",
     "output_type": "stream",
     "text": [
      "downloading long cadence data from MAST\n",
      "\n",
      "KOI-790\n",
      "downloading short cadence data from MAST\n"
     ]
    },
    {
     "name": "stderr",
     "output_type": "stream",
     "text": [
      "/Users/research/anaconda3/lib/python3.7/site-packages/lightkurve/search.py:284: LightkurveWarning: Cannot download from an empty search result.\n",
      "  LightkurveWarning)\n"
     ]
    },
    {
     "name": "stdout",
     "output_type": "stream",
     "text": [
      "downloading long cadence data from MAST\n",
      "\n",
      "KOI-835\n",
      "downloading short cadence data from MAST\n",
      "downloading long cadence data from MAST\n",
      "\n",
      "KOI-881\n",
      "downloading short cadence data from MAST\n",
      "downloading long cadence data from MAST\n",
      "\n",
      "KOI-911\n",
      "downloading short cadence data from MAST\n"
     ]
    },
    {
     "name": "stderr",
     "output_type": "stream",
     "text": [
      "/Users/research/anaconda3/lib/python3.7/site-packages/lightkurve/search.py:284: LightkurveWarning: Cannot download from an empty search result.\n",
      "  LightkurveWarning)\n"
     ]
    },
    {
     "name": "stdout",
     "output_type": "stream",
     "text": [
      "downloading long cadence data from MAST\n",
      "\n",
      "KOI-986\n",
      "downloading short cadence data from MAST\n",
      "downloading long cadence data from MAST\n"
     ]
    }
   ],
   "source": [
    "%run download_from_MAST.py --mission='Kepler' --target='K00072' --primary_dir='/Users/research/projects/archeopteryx/'\n",
    "%run download_from_MAST.py --mission='Kepler' --target='K00123' --primary_dir='/Users/research/projects/archeopteryx/'\n",
    "%run download_from_MAST.py --mission='Kepler' --target='K00172' --primary_dir='/Users/research/projects/archeopteryx/'\n",
    "%run download_from_MAST.py --mission='Kepler' --target='K00179' --primary_dir='/Users/research/projects/archeopteryx/'\n",
    "%run download_from_MAST.py --mission='Kepler' --target='K00223' --primary_dir='/Users/research/projects/archeopteryx/'\n",
    "%run download_from_MAST.py --mission='Kepler' --target='K00275' --primary_dir='/Users/research/projects/archeopteryx/'\n",
    "%run download_from_MAST.py --mission='Kepler' --target='K00291' --primary_dir='/Users/research/projects/archeopteryx/'\n",
    "%run download_from_MAST.py --mission='Kepler' --target='K00327' --primary_dir='/Users/research/projects/archeopteryx/'\n",
    "%run download_from_MAST.py --mission='Kepler' --target='K00337' --primary_dir='/Users/research/projects/archeopteryx/'\n",
    "%run download_from_MAST.py --mission='Kepler' --target='K00581' --primary_dir='/Users/research/projects/archeopteryx/'\n",
    "%run download_from_MAST.py --mission='Kepler' --target='K00590' --primary_dir='/Users/research/projects/archeopteryx/'\n",
    "%run download_from_MAST.py --mission='Kepler' --target='K00598' --primary_dir='/Users/research/projects/archeopteryx/'\n",
    "%run download_from_MAST.py --mission='Kepler' --target='K00600' --primary_dir='/Users/research/projects/archeopteryx/'\n",
    "%run download_from_MAST.py --mission='Kepler' --target='K00655' --primary_dir='/Users/research/projects/archeopteryx/'\n",
    "%run download_from_MAST.py --mission='Kepler' --target='K00657' --primary_dir='/Users/research/projects/archeopteryx/'\n",
    "%run download_from_MAST.py --mission='Kepler' --target='K00752' --primary_dir='/Users/research/projects/archeopteryx/'\n",
    "%run download_from_MAST.py --mission='Kepler' --target='K00790' --primary_dir='/Users/research/projects/archeopteryx/'\n",
    "%run download_from_MAST.py --mission='Kepler' --target='K00835' --primary_dir='/Users/research/projects/archeopteryx/'\n",
    "%run download_from_MAST.py --mission='Kepler' --target='K00881' --primary_dir='/Users/research/projects/archeopteryx/'\n",
    "%run download_from_MAST.py --mission='Kepler' --target='K00911' --primary_dir='/Users/research/projects/archeopteryx/'\n",
    "%run download_from_MAST.py --mission='Kepler' --target='K00986' --primary_dir='/Users/research/projects/archeopteryx/'\n"
   ]
  },
  {
   "cell_type": "code",
   "execution_count": 2,
   "metadata": {},
   "outputs": [
    {
     "name": "stdout",
     "output_type": "stream",
     "text": [
      "\n",
      "KOI-1001\n",
      "downloading short cadence data from MAST\n",
      "downloading long cadence data from MAST\n",
      "\n",
      "KOI-1070\n",
      "downloading short cadence data from MAST\n",
      "downloading long cadence data from MAST\n",
      "\n",
      "KOI-1113\n",
      "downloading short cadence data from MAST\n",
      "downloading long cadence data from MAST\n",
      "\n",
      "KOI-1196\n",
      "downloading short cadence data from MAST\n"
     ]
    },
    {
     "name": "stderr",
     "output_type": "stream",
     "text": [
      "/Users/research/anaconda3/lib/python3.7/site-packages/lightkurve/search.py:284: LightkurveWarning: Cannot download from an empty search result.\n",
      "  LightkurveWarning)\n"
     ]
    },
    {
     "name": "stdout",
     "output_type": "stream",
     "text": [
      "downloading long cadence data from MAST\n",
      "\n",
      "KOI-1239\n",
      "downloading short cadence data from MAST\n",
      "downloading long cadence data from MAST\n",
      "\n",
      "KOI-1435\n",
      "downloading short cadence data from MAST\n"
     ]
    },
    {
     "name": "stderr",
     "output_type": "stream",
     "text": [
      "/Users/research/anaconda3/lib/python3.7/site-packages/lightkurve/search.py:284: LightkurveWarning: Cannot download from an empty search result.\n",
      "  LightkurveWarning)\n"
     ]
    },
    {
     "name": "stdout",
     "output_type": "stream",
     "text": [
      "downloading long cadence data from MAST\n",
      "\n",
      "KOI-1519\n",
      "downloading short cadence data from MAST\n"
     ]
    },
    {
     "name": "stderr",
     "output_type": "stream",
     "text": [
      "/Users/research/anaconda3/lib/python3.7/site-packages/lightkurve/search.py:284: LightkurveWarning: Cannot download from an empty search result.\n",
      "  LightkurveWarning)\n"
     ]
    },
    {
     "name": "stdout",
     "output_type": "stream",
     "text": [
      "downloading long cadence data from MAST\n",
      "\n",
      "KOI-1601\n",
      "downloading short cadence data from MAST\n",
      "downloading long cadence data from MAST\n",
      "\n",
      "KOI-1650\n",
      "downloading short cadence data from MAST\n"
     ]
    },
    {
     "name": "stderr",
     "output_type": "stream",
     "text": [
      "/Users/research/anaconda3/lib/python3.7/site-packages/lightkurve/search.py:284: LightkurveWarning: Cannot download from an empty search result.\n",
      "  LightkurveWarning)\n"
     ]
    },
    {
     "name": "stdout",
     "output_type": "stream",
     "text": [
      "downloading long cadence data from MAST\n",
      "\n",
      "KOI-1839\n",
      "downloading short cadence data from MAST\n"
     ]
    },
    {
     "name": "stderr",
     "output_type": "stream",
     "text": [
      "/Users/research/anaconda3/lib/python3.7/site-packages/lightkurve/search.py:284: LightkurveWarning: Cannot download from an empty search result.\n",
      "  LightkurveWarning)\n"
     ]
    },
    {
     "name": "stdout",
     "output_type": "stream",
     "text": [
      "downloading long cadence data from MAST\n",
      "\n",
      "KOI-1915\n",
      "downloading short cadence data from MAST\n"
     ]
    },
    {
     "name": "stderr",
     "output_type": "stream",
     "text": [
      "/Users/research/anaconda3/lib/python3.7/site-packages/lightkurve/search.py:284: LightkurveWarning: Cannot download from an empty search result.\n",
      "  LightkurveWarning)\n"
     ]
    },
    {
     "name": "stdout",
     "output_type": "stream",
     "text": [
      "downloading long cadence data from MAST\n",
      "\n",
      "KOI-1942\n",
      "downloading short cadence data from MAST\n"
     ]
    },
    {
     "name": "stderr",
     "output_type": "stream",
     "text": [
      "/Users/research/anaconda3/lib/python3.7/site-packages/lightkurve/search.py:284: LightkurveWarning: Cannot download from an empty search result.\n",
      "  LightkurveWarning)\n"
     ]
    },
    {
     "name": "stdout",
     "output_type": "stream",
     "text": [
      "downloading long cadence data from MAST\n",
      "\n",
      "KOI-1970\n",
      "downloading short cadence data from MAST\n"
     ]
    },
    {
     "name": "stderr",
     "output_type": "stream",
     "text": [
      "/Users/research/anaconda3/lib/python3.7/site-packages/lightkurve/search.py:284: LightkurveWarning: Cannot download from an empty search result.\n",
      "  LightkurveWarning)\n"
     ]
    },
    {
     "name": "stdout",
     "output_type": "stream",
     "text": [
      "downloading long cadence data from MAST\n"
     ]
    }
   ],
   "source": [
    "%run download_from_MAST.py --mission='Kepler' --target='K01001' --primary_dir='/Users/research/projects/archeopteryx/'\n",
    "%run download_from_MAST.py --mission='Kepler' --target='K01070' --primary_dir='/Users/research/projects/archeopteryx/'\n",
    "%run download_from_MAST.py --mission='Kepler' --target='K01113' --primary_dir='/Users/research/projects/archeopteryx/'\n",
    "%run download_from_MAST.py --mission='Kepler' --target='K01196' --primary_dir='/Users/research/projects/archeopteryx/'\n",
    "%run download_from_MAST.py --mission='Kepler' --target='K01239' --primary_dir='/Users/research/projects/archeopteryx/'\n",
    "%run download_from_MAST.py --mission='Kepler' --target='K01435' --primary_dir='/Users/research/projects/archeopteryx/'\n",
    "%run download_from_MAST.py --mission='Kepler' --target='K01519' --primary_dir='/Users/research/projects/archeopteryx/'\n",
    "%run download_from_MAST.py --mission='Kepler' --target='K01601' --primary_dir='/Users/research/projects/archeopteryx/'\n",
    "%run download_from_MAST.py --mission='Kepler' --target='K01650' --primary_dir='/Users/research/projects/archeopteryx/'\n",
    "%run download_from_MAST.py --mission='Kepler' --target='K01839' --primary_dir='/Users/research/projects/archeopteryx/'\n",
    "%run download_from_MAST.py --mission='Kepler' --target='K01915' --primary_dir='/Users/research/projects/archeopteryx/'\n",
    "%run download_from_MAST.py --mission='Kepler' --target='K01942' --primary_dir='/Users/research/projects/archeopteryx/'\n",
    "%run download_from_MAST.py --mission='Kepler' --target='K01970' --primary_dir='/Users/research/projects/archeopteryx/'\n"
   ]
  },
  {
   "cell_type": "code",
   "execution_count": 3,
   "metadata": {},
   "outputs": [
    {
     "name": "stdout",
     "output_type": "stream",
     "text": [
      "\n",
      "KOI-2012\n",
      "downloading short cadence data from MAST\n"
     ]
    },
    {
     "name": "stderr",
     "output_type": "stream",
     "text": [
      "/Users/research/anaconda3/lib/python3.7/site-packages/lightkurve/search.py:284: LightkurveWarning: Cannot download from an empty search result.\n",
      "  LightkurveWarning)\n"
     ]
    },
    {
     "name": "stdout",
     "output_type": "stream",
     "text": [
      "downloading long cadence data from MAST\n",
      "\n",
      "KOI-2053\n",
      "downloading short cadence data from MAST\n"
     ]
    },
    {
     "name": "stderr",
     "output_type": "stream",
     "text": [
      "/Users/research/anaconda3/lib/python3.7/site-packages/lightkurve/search.py:284: LightkurveWarning: Cannot download from an empty search result.\n",
      "  LightkurveWarning)\n"
     ]
    },
    {
     "name": "stdout",
     "output_type": "stream",
     "text": [
      "downloading long cadence data from MAST\n",
      "\n",
      "KOI-2094\n",
      "downloading short cadence data from MAST\n"
     ]
    },
    {
     "name": "stderr",
     "output_type": "stream",
     "text": [
      "/Users/research/anaconda3/lib/python3.7/site-packages/lightkurve/search.py:284: LightkurveWarning: Cannot download from an empty search result.\n",
      "  LightkurveWarning)\n"
     ]
    },
    {
     "name": "stdout",
     "output_type": "stream",
     "text": [
      "downloading long cadence data from MAST\n",
      "\n",
      "KOI-2147\n",
      "downloading short cadence data from MAST\n"
     ]
    },
    {
     "name": "stderr",
     "output_type": "stream",
     "text": [
      "/Users/research/anaconda3/lib/python3.7/site-packages/lightkurve/search.py:284: LightkurveWarning: Cannot download from an empty search result.\n",
      "  LightkurveWarning)\n"
     ]
    },
    {
     "name": "stdout",
     "output_type": "stream",
     "text": [
      "downloading long cadence data from MAST\n",
      "\n",
      "KOI-2168\n",
      "downloading short cadence data from MAST\n"
     ]
    },
    {
     "name": "stderr",
     "output_type": "stream",
     "text": [
      "/Users/research/anaconda3/lib/python3.7/site-packages/lightkurve/search.py:284: LightkurveWarning: Cannot download from an empty search result.\n",
      "  LightkurveWarning)\n"
     ]
    },
    {
     "name": "stdout",
     "output_type": "stream",
     "text": [
      "downloading long cadence data from MAST\n",
      "\n",
      "KOI-2172\n",
      "downloading short cadence data from MAST\n"
     ]
    },
    {
     "name": "stderr",
     "output_type": "stream",
     "text": [
      "/Users/research/anaconda3/lib/python3.7/site-packages/lightkurve/search.py:284: LightkurveWarning: Cannot download from an empty search result.\n",
      "  LightkurveWarning)\n"
     ]
    },
    {
     "name": "stdout",
     "output_type": "stream",
     "text": [
      "downloading long cadence data from MAST\n",
      "\n",
      "KOI-2183\n",
      "downloading short cadence data from MAST\n"
     ]
    },
    {
     "name": "stderr",
     "output_type": "stream",
     "text": [
      "/Users/research/anaconda3/lib/python3.7/site-packages/lightkurve/search.py:284: LightkurveWarning: Cannot download from an empty search result.\n",
      "  LightkurveWarning)\n"
     ]
    },
    {
     "name": "stdout",
     "output_type": "stream",
     "text": [
      "downloading long cadence data from MAST\n",
      "\n",
      "KOI-2218\n",
      "downloading short cadence data from MAST\n",
      "downloading long cadence data from MAST\n",
      "\n",
      "KOI-2289\n",
      "downloading short cadence data from MAST\n"
     ]
    },
    {
     "name": "stderr",
     "output_type": "stream",
     "text": [
      "/Users/research/anaconda3/lib/python3.7/site-packages/lightkurve/search.py:284: LightkurveWarning: Cannot download from an empty search result.\n",
      "  LightkurveWarning)\n"
     ]
    },
    {
     "name": "stdout",
     "output_type": "stream",
     "text": [
      "downloading long cadence data from MAST\n",
      "\n",
      "KOI-2327\n",
      "downloading short cadence data from MAST\n"
     ]
    },
    {
     "name": "stderr",
     "output_type": "stream",
     "text": [
      "/Users/research/anaconda3/lib/python3.7/site-packages/lightkurve/search.py:284: LightkurveWarning: Cannot download from an empty search result.\n",
      "  LightkurveWarning)\n"
     ]
    },
    {
     "name": "stdout",
     "output_type": "stream",
     "text": [
      "downloading long cadence data from MAST\n",
      "\n",
      "KOI-2365\n",
      "downloading short cadence data from MAST\n"
     ]
    },
    {
     "name": "stderr",
     "output_type": "stream",
     "text": [
      "/Users/research/anaconda3/lib/python3.7/site-packages/lightkurve/search.py:284: LightkurveWarning: Cannot download from an empty search result.\n",
      "  LightkurveWarning)\n"
     ]
    },
    {
     "name": "stdout",
     "output_type": "stream",
     "text": [
      "downloading long cadence data from MAST\n",
      "\n",
      "KOI-2393\n",
      "downloading short cadence data from MAST\n"
     ]
    },
    {
     "name": "stderr",
     "output_type": "stream",
     "text": [
      "/Users/research/anaconda3/lib/python3.7/site-packages/lightkurve/search.py:284: LightkurveWarning: Cannot download from an empty search result.\n",
      "  LightkurveWarning)\n"
     ]
    },
    {
     "name": "stdout",
     "output_type": "stream",
     "text": [
      "downloading long cadence data from MAST\n",
      "\n",
      "KOI-2473\n",
      "downloading short cadence data from MAST\n"
     ]
    },
    {
     "name": "stderr",
     "output_type": "stream",
     "text": [
      "/Users/research/anaconda3/lib/python3.7/site-packages/lightkurve/search.py:284: LightkurveWarning: Cannot download from an empty search result.\n",
      "  LightkurveWarning)\n"
     ]
    },
    {
     "name": "stdout",
     "output_type": "stream",
     "text": [
      "downloading long cadence data from MAST\n",
      "\n",
      "KOI-2498\n",
      "downloading short cadence data from MAST\n"
     ]
    },
    {
     "name": "stderr",
     "output_type": "stream",
     "text": [
      "/Users/research/anaconda3/lib/python3.7/site-packages/lightkurve/search.py:284: LightkurveWarning: Cannot download from an empty search result.\n",
      "  LightkurveWarning)\n"
     ]
    },
    {
     "name": "stdout",
     "output_type": "stream",
     "text": [
      "downloading long cadence data from MAST\n",
      "\n",
      "KOI-2521\n",
      "downloading short cadence data from MAST\n"
     ]
    },
    {
     "name": "stderr",
     "output_type": "stream",
     "text": [
      "/Users/research/anaconda3/lib/python3.7/site-packages/lightkurve/search.py:284: LightkurveWarning: Cannot download from an empty search result.\n",
      "  LightkurveWarning)\n"
     ]
    },
    {
     "name": "stdout",
     "output_type": "stream",
     "text": [
      "downloading long cadence data from MAST\n",
      "\n",
      "KOI-2523\n",
      "downloading short cadence data from MAST\n"
     ]
    },
    {
     "name": "stderr",
     "output_type": "stream",
     "text": [
      "/Users/research/anaconda3/lib/python3.7/site-packages/lightkurve/search.py:284: LightkurveWarning: Cannot download from an empty search result.\n",
      "  LightkurveWarning)\n"
     ]
    },
    {
     "name": "stdout",
     "output_type": "stream",
     "text": [
      "downloading long cadence data from MAST\n",
      "\n",
      "KOI-2612\n",
      "downloading short cadence data from MAST\n",
      "downloading long cadence data from MAST\n",
      "\n",
      "KOI-2694\n",
      "downloading short cadence data from MAST\n"
     ]
    },
    {
     "name": "stderr",
     "output_type": "stream",
     "text": [
      "/Users/research/anaconda3/lib/python3.7/site-packages/lightkurve/search.py:284: LightkurveWarning: Cannot download from an empty search result.\n",
      "  LightkurveWarning)\n"
     ]
    },
    {
     "name": "stdout",
     "output_type": "stream",
     "text": [
      "downloading long cadence data from MAST\n",
      "\n",
      "KOI-2716\n",
      "downloading short cadence data from MAST\n"
     ]
    },
    {
     "name": "stderr",
     "output_type": "stream",
     "text": [
      "/Users/research/anaconda3/lib/python3.7/site-packages/lightkurve/search.py:284: LightkurveWarning: Cannot download from an empty search result.\n",
      "  LightkurveWarning)\n"
     ]
    },
    {
     "name": "stdout",
     "output_type": "stream",
     "text": [
      "downloading long cadence data from MAST\n",
      "\n",
      "KOI-2719\n",
      "downloading short cadence data from MAST\n"
     ]
    },
    {
     "name": "stderr",
     "output_type": "stream",
     "text": [
      "/Users/research/anaconda3/lib/python3.7/site-packages/lightkurve/search.py:284: LightkurveWarning: Cannot download from an empty search result.\n",
      "  LightkurveWarning)\n"
     ]
    },
    {
     "name": "stdout",
     "output_type": "stream",
     "text": [
      "downloading long cadence data from MAST\n",
      "\n",
      "KOI-2756\n",
      "downloading short cadence data from MAST\n"
     ]
    },
    {
     "name": "stderr",
     "output_type": "stream",
     "text": [
      "/Users/research/anaconda3/lib/python3.7/site-packages/lightkurve/search.py:284: LightkurveWarning: Cannot download from an empty search result.\n",
      "  LightkurveWarning)\n"
     ]
    },
    {
     "name": "stdout",
     "output_type": "stream",
     "text": [
      "downloading long cadence data from MAST\n",
      "\n",
      "KOI-2857\n",
      "downloading short cadence data from MAST\n"
     ]
    },
    {
     "name": "stderr",
     "output_type": "stream",
     "text": [
      "/Users/research/anaconda3/lib/python3.7/site-packages/lightkurve/search.py:284: LightkurveWarning: Cannot download from an empty search result.\n",
      "  LightkurveWarning)\n"
     ]
    },
    {
     "name": "stdout",
     "output_type": "stream",
     "text": [
      "downloading long cadence data from MAST\n",
      "\n",
      "KOI-2949\n",
      "downloading short cadence data from MAST\n"
     ]
    },
    {
     "name": "stderr",
     "output_type": "stream",
     "text": [
      "/Users/research/anaconda3/lib/python3.7/site-packages/lightkurve/search.py:284: LightkurveWarning: Cannot download from an empty search result.\n",
      "  LightkurveWarning)\n"
     ]
    },
    {
     "name": "stdout",
     "output_type": "stream",
     "text": [
      "downloading long cadence data from MAST\n",
      "\n",
      "KOI-2963\n",
      "downloading short cadence data from MAST\n"
     ]
    },
    {
     "name": "stderr",
     "output_type": "stream",
     "text": [
      "/Users/research/anaconda3/lib/python3.7/site-packages/lightkurve/search.py:284: LightkurveWarning: Cannot download from an empty search result.\n",
      "  LightkurveWarning)\n"
     ]
    },
    {
     "name": "stdout",
     "output_type": "stream",
     "text": [
      "downloading long cadence data from MAST\n",
      "\n",
      "KOI-2971\n",
      "downloading short cadence data from MAST\n"
     ]
    },
    {
     "name": "stderr",
     "output_type": "stream",
     "text": [
      "/Users/research/anaconda3/lib/python3.7/site-packages/lightkurve/search.py:284: LightkurveWarning: Cannot download from an empty search result.\n",
      "  LightkurveWarning)\n"
     ]
    },
    {
     "name": "stdout",
     "output_type": "stream",
     "text": [
      "downloading long cadence data from MAST\n",
      "\n",
      "KOI-3043\n",
      "downloading short cadence data from MAST\n"
     ]
    },
    {
     "name": "stderr",
     "output_type": "stream",
     "text": [
      "/Users/research/anaconda3/lib/python3.7/site-packages/lightkurve/search.py:284: LightkurveWarning: Cannot download from an empty search result.\n",
      "  LightkurveWarning)\n"
     ]
    },
    {
     "name": "stdout",
     "output_type": "stream",
     "text": [
      "downloading long cadence data from MAST\n"
     ]
    }
   ],
   "source": [
    "%run download_from_MAST.py --mission='Kepler' --target='K02012' --primary_dir='/Users/research/projects/archeopteryx/'\n",
    "%run download_from_MAST.py --mission='Kepler' --target='K02053' --primary_dir='/Users/research/projects/archeopteryx/'\n",
    "%run download_from_MAST.py --mission='Kepler' --target='K02094' --primary_dir='/Users/research/projects/archeopteryx/'\n",
    "%run download_from_MAST.py --mission='Kepler' --target='K02147' --primary_dir='/Users/research/projects/archeopteryx/'\n",
    "%run download_from_MAST.py --mission='Kepler' --target='K02168' --primary_dir='/Users/research/projects/archeopteryx/'\n",
    "%run download_from_MAST.py --mission='Kepler' --target='K02172' --primary_dir='/Users/research/projects/archeopteryx/'\n",
    "%run download_from_MAST.py --mission='Kepler' --target='K02183' --primary_dir='/Users/research/projects/archeopteryx/'\n",
    "%run download_from_MAST.py --mission='Kepler' --target='K02218' --primary_dir='/Users/research/projects/archeopteryx/'\n",
    "%run download_from_MAST.py --mission='Kepler' --target='K02289' --primary_dir='/Users/research/projects/archeopteryx/'\n",
    "%run download_from_MAST.py --mission='Kepler' --target='K02327' --primary_dir='/Users/research/projects/archeopteryx/'\n",
    "%run download_from_MAST.py --mission='Kepler' --target='K02365' --primary_dir='/Users/research/projects/archeopteryx/'\n",
    "%run download_from_MAST.py --mission='Kepler' --target='K02393' --primary_dir='/Users/research/projects/archeopteryx/'\n",
    "%run download_from_MAST.py --mission='Kepler' --target='K02473' --primary_dir='/Users/research/projects/archeopteryx/'\n",
    "%run download_from_MAST.py --mission='Kepler' --target='K02498' --primary_dir='/Users/research/projects/archeopteryx/'\n",
    "%run download_from_MAST.py --mission='Kepler' --target='K02521' --primary_dir='/Users/research/projects/archeopteryx/'\n",
    "%run download_from_MAST.py --mission='Kepler' --target='K02523' --primary_dir='/Users/research/projects/archeopteryx/'\n",
    "%run download_from_MAST.py --mission='Kepler' --target='K02612' --primary_dir='/Users/research/projects/archeopteryx/'\n",
    "%run download_from_MAST.py --mission='Kepler' --target='K02694' --primary_dir='/Users/research/projects/archeopteryx/'\n",
    "%run download_from_MAST.py --mission='Kepler' --target='K02716' --primary_dir='/Users/research/projects/archeopteryx/'\n",
    "%run download_from_MAST.py --mission='Kepler' --target='K02719' --primary_dir='/Users/research/projects/archeopteryx/'\n",
    "%run download_from_MAST.py --mission='Kepler' --target='K02756' --primary_dir='/Users/research/projects/archeopteryx/'\n",
    "%run download_from_MAST.py --mission='Kepler' --target='K02857' --primary_dir='/Users/research/projects/archeopteryx/'\n",
    "%run download_from_MAST.py --mission='Kepler' --target='K02949' --primary_dir='/Users/research/projects/archeopteryx/'\n",
    "%run download_from_MAST.py --mission='Kepler' --target='K02963' --primary_dir='/Users/research/projects/archeopteryx/'\n",
    "%run download_from_MAST.py --mission='Kepler' --target='K02971' --primary_dir='/Users/research/projects/archeopteryx/'\n",
    "%run download_from_MAST.py --mission='Kepler' --target='K03043' --primary_dir='/Users/research/projects/archeopteryx/'\n"
   ]
  },
  {
   "cell_type": "code",
   "execution_count": 4,
   "metadata": {},
   "outputs": [
    {
     "name": "stdout",
     "output_type": "stream",
     "text": [
      "\n",
      "KOI-3088\n",
      "downloading short cadence data from MAST\n"
     ]
    },
    {
     "name": "stderr",
     "output_type": "stream",
     "text": [
      "/Users/research/anaconda3/lib/python3.7/site-packages/lightkurve/search.py:284: LightkurveWarning: Cannot download from an empty search result.\n",
      "  LightkurveWarning)\n"
     ]
    },
    {
     "name": "stdout",
     "output_type": "stream",
     "text": [
      "downloading long cadence data from MAST\n",
      "\n",
      "KOI-3184\n",
      "downloading short cadence data from MAST\n"
     ]
    },
    {
     "name": "stderr",
     "output_type": "stream",
     "text": [
      "/Users/research/anaconda3/lib/python3.7/site-packages/lightkurve/search.py:284: LightkurveWarning: Cannot download from an empty search result.\n",
      "  LightkurveWarning)\n"
     ]
    },
    {
     "name": "stdout",
     "output_type": "stream",
     "text": [
      "downloading long cadence data from MAST\n",
      "\n",
      "KOI-3283\n",
      "downloading short cadence data from MAST\n"
     ]
    },
    {
     "name": "stderr",
     "output_type": "stream",
     "text": [
      "/Users/research/anaconda3/lib/python3.7/site-packages/lightkurve/search.py:284: LightkurveWarning: Cannot download from an empty search result.\n",
      "  LightkurveWarning)\n"
     ]
    },
    {
     "name": "stdout",
     "output_type": "stream",
     "text": [
      "downloading long cadence data from MAST\n",
      "\n",
      "KOI-3371\n",
      "downloading short cadence data from MAST\n"
     ]
    },
    {
     "name": "stderr",
     "output_type": "stream",
     "text": [
      "/Users/research/anaconda3/lib/python3.7/site-packages/lightkurve/search.py:284: LightkurveWarning: Cannot download from an empty search result.\n",
      "  LightkurveWarning)\n"
     ]
    },
    {
     "name": "stdout",
     "output_type": "stream",
     "text": [
      "downloading long cadence data from MAST\n",
      "\n",
      "KOI-3374\n",
      "downloading short cadence data from MAST\n"
     ]
    },
    {
     "name": "stderr",
     "output_type": "stream",
     "text": [
      "/Users/research/anaconda3/lib/python3.7/site-packages/lightkurve/search.py:284: LightkurveWarning: Cannot download from an empty search result.\n",
      "  LightkurveWarning)\n"
     ]
    },
    {
     "name": "stdout",
     "output_type": "stream",
     "text": [
      "downloading long cadence data from MAST\n",
      "\n",
      "KOI-3401\n",
      "downloading short cadence data from MAST\n"
     ]
    },
    {
     "name": "stderr",
     "output_type": "stream",
     "text": [
      "/Users/research/anaconda3/lib/python3.7/site-packages/lightkurve/search.py:284: LightkurveWarning: Cannot download from an empty search result.\n",
      "  LightkurveWarning)\n"
     ]
    },
    {
     "name": "stdout",
     "output_type": "stream",
     "text": [
      "downloading long cadence data from MAST\n",
      "\n",
      "KOI-3410\n",
      "downloading short cadence data from MAST\n"
     ]
    },
    {
     "name": "stderr",
     "output_type": "stream",
     "text": [
      "/Users/research/anaconda3/lib/python3.7/site-packages/lightkurve/search.py:284: LightkurveWarning: Cannot download from an empty search result.\n",
      "  LightkurveWarning)\n"
     ]
    },
    {
     "name": "stdout",
     "output_type": "stream",
     "text": [
      "downloading long cadence data from MAST\n",
      "\n",
      "KOI-3456\n",
      "downloading short cadence data from MAST\n"
     ]
    },
    {
     "name": "stderr",
     "output_type": "stream",
     "text": [
      "/Users/research/anaconda3/lib/python3.7/site-packages/lightkurve/search.py:284: LightkurveWarning: Cannot download from an empty search result.\n",
      "  LightkurveWarning)\n"
     ]
    },
    {
     "name": "stdout",
     "output_type": "stream",
     "text": [
      "downloading long cadence data from MAST\n",
      "\n",
      "KOI-3495\n",
      "downloading short cadence data from MAST\n"
     ]
    },
    {
     "name": "stderr",
     "output_type": "stream",
     "text": [
      "/Users/research/anaconda3/lib/python3.7/site-packages/lightkurve/search.py:284: LightkurveWarning: Cannot download from an empty search result.\n",
      "  LightkurveWarning)\n"
     ]
    },
    {
     "name": "stdout",
     "output_type": "stream",
     "text": [
      "downloading long cadence data from MAST\n",
      "\n",
      "KOI-4383\n",
      "downloading short cadence data from MAST\n"
     ]
    },
    {
     "name": "stderr",
     "output_type": "stream",
     "text": [
      "/Users/research/anaconda3/lib/python3.7/site-packages/lightkurve/search.py:284: LightkurveWarning: Cannot download from an empty search result.\n",
      "  LightkurveWarning)\n"
     ]
    },
    {
     "name": "stdout",
     "output_type": "stream",
     "text": [
      "downloading long cadence data from MAST\n",
      "\n",
      "KOI-4700\n",
      "downloading short cadence data from MAST\n"
     ]
    },
    {
     "name": "stderr",
     "output_type": "stream",
     "text": [
      "/Users/research/anaconda3/lib/python3.7/site-packages/lightkurve/search.py:284: LightkurveWarning: Cannot download from an empty search result.\n",
      "  LightkurveWarning)\n"
     ]
    },
    {
     "name": "stdout",
     "output_type": "stream",
     "text": [
      "downloading long cadence data from MAST\n",
      "\n",
      "KOI-4772\n",
      "downloading short cadence data from MAST\n"
     ]
    },
    {
     "name": "stderr",
     "output_type": "stream",
     "text": [
      "/Users/research/anaconda3/lib/python3.7/site-packages/lightkurve/search.py:284: LightkurveWarning: Cannot download from an empty search result.\n",
      "  LightkurveWarning)\n"
     ]
    },
    {
     "name": "stdout",
     "output_type": "stream",
     "text": [
      "downloading long cadence data from MAST\n",
      "\n",
      "KOI-4896\n",
      "downloading short cadence data from MAST\n"
     ]
    },
    {
     "name": "stderr",
     "output_type": "stream",
     "text": [
      "/Users/research/anaconda3/lib/python3.7/site-packages/lightkurve/search.py:284: LightkurveWarning: Cannot download from an empty search result.\n",
      "  LightkurveWarning)\n"
     ]
    },
    {
     "name": "stdout",
     "output_type": "stream",
     "text": [
      "downloading long cadence data from MAST\n",
      "\n",
      "KOI-5007\n",
      "downloading short cadence data from MAST\n"
     ]
    },
    {
     "name": "stderr",
     "output_type": "stream",
     "text": [
      "/Users/research/anaconda3/lib/python3.7/site-packages/lightkurve/search.py:284: LightkurveWarning: Cannot download from an empty search result.\n",
      "  LightkurveWarning)\n"
     ]
    },
    {
     "name": "stdout",
     "output_type": "stream",
     "text": [
      "downloading long cadence data from MAST\n",
      "\n",
      "KOI-6178\n",
      "downloading short cadence data from MAST\n"
     ]
    },
    {
     "name": "stderr",
     "output_type": "stream",
     "text": [
      "/Users/research/anaconda3/lib/python3.7/site-packages/lightkurve/search.py:284: LightkurveWarning: Cannot download from an empty search result.\n",
      "  LightkurveWarning)\n"
     ]
    },
    {
     "name": "stdout",
     "output_type": "stream",
     "text": [
      "downloading long cadence data from MAST\n",
      "\n",
      "KOI-7117\n",
      "downloading short cadence data from MAST\n"
     ]
    },
    {
     "name": "stderr",
     "output_type": "stream",
     "text": [
      "/Users/research/anaconda3/lib/python3.7/site-packages/lightkurve/search.py:284: LightkurveWarning: Cannot download from an empty search result.\n",
      "  LightkurveWarning)\n"
     ]
    },
    {
     "name": "stdout",
     "output_type": "stream",
     "text": [
      "downloading long cadence data from MAST\n"
     ]
    }
   ],
   "source": [
    "%run download_from_MAST.py --mission='Kepler' --target='K03088' --primary_dir='/Users/research/projects/archeopteryx/'\n",
    "%run download_from_MAST.py --mission='Kepler' --target='K03184' --primary_dir='/Users/research/projects/archeopteryx/'\n",
    "%run download_from_MAST.py --mission='Kepler' --target='K03283' --primary_dir='/Users/research/projects/archeopteryx/'\n",
    "%run download_from_MAST.py --mission='Kepler' --target='K03371' --primary_dir='/Users/research/projects/archeopteryx/'\n",
    "%run download_from_MAST.py --mission='Kepler' --target='K03374' --primary_dir='/Users/research/projects/archeopteryx/'\n",
    "%run download_from_MAST.py --mission='Kepler' --target='K03401' --primary_dir='/Users/research/projects/archeopteryx/'\n",
    "%run download_from_MAST.py --mission='Kepler' --target='K03410' --primary_dir='/Users/research/projects/archeopteryx/'\n",
    "%run download_from_MAST.py --mission='Kepler' --target='K03456' --primary_dir='/Users/research/projects/archeopteryx/'\n",
    "%run download_from_MAST.py --mission='Kepler' --target='K03495' --primary_dir='/Users/research/projects/archeopteryx/'\n",
    "%run download_from_MAST.py --mission='Kepler' --target='K04383' --primary_dir='/Users/research/projects/archeopteryx/'\n",
    "%run download_from_MAST.py --mission='Kepler' --target='K04700' --primary_dir='/Users/research/projects/archeopteryx/'\n",
    "%run download_from_MAST.py --mission='Kepler' --target='K04772' --primary_dir='/Users/research/projects/archeopteryx/'\n",
    "%run download_from_MAST.py --mission='Kepler' --target='K04896' --primary_dir='/Users/research/projects/archeopteryx/'\n",
    "%run download_from_MAST.py --mission='Kepler' --target='K05007' --primary_dir='/Users/research/projects/archeopteryx/'\n",
    "%run download_from_MAST.py --mission='Kepler' --target='K06178' --primary_dir='/Users/research/projects/archeopteryx/'\n",
    "%run download_from_MAST.py --mission='Kepler' --target='K07117' --primary_dir='/Users/research/projects/archeopteryx/'"
   ]
  },
  {
   "cell_type": "code",
   "execution_count": null,
   "metadata": {},
   "outputs": [],
   "source": []
  }
 ],
 "metadata": {
  "kernelspec": {
   "display_name": "Python 3",
   "language": "python",
   "name": "python3"
  },
  "language_info": {
   "codemirror_mode": {
    "name": "ipython",
    "version": 3
   },
   "file_extension": ".py",
   "mimetype": "text/x-python",
   "name": "python",
   "nbconvert_exporter": "python",
   "pygments_lexer": "ipython3",
   "version": "3.7.3"
  }
 },
 "nbformat": 4,
 "nbformat_minor": 2
}
