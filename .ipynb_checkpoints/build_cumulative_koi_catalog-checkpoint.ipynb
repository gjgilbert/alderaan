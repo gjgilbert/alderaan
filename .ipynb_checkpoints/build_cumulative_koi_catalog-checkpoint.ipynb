{
 "cells": [
  {
   "cell_type": "code",
   "execution_count": 1,
   "metadata": {},
   "outputs": [],
   "source": [
    "# IMPORT STATEMENTS AND PRELIMINARIES\n",
    "\n",
    "import numpy as np\n",
    "import csv\n",
    "import matplotlib.pyplot as plt\n",
    "from   scipy import stats\n",
    "from   alderaan.constants import *\n",
    "import alderaan.io as io\n"
   ]
  },
  {
   "cell_type": "code",
   "execution_count": 2,
   "metadata": {},
   "outputs": [],
   "source": [
    "MAINPATH = '/Users/research/projects/alderaan/'\n",
    "CSV_FILE = MAINPATH + 'Catalogs/cumulative_20210416.csv'"
   ]
  },
  {
   "cell_type": "markdown",
   "metadata": {},
   "source": [
    "# Read in exoplanet archive cumulative KOI data"
   ]
  },
  {
   "cell_type": "code",
   "execution_count": 3,
   "metadata": {},
   "outputs": [
    {
     "name": "stdout",
     "output_type": "stream",
     "text": [
      "Loaded 9564 real KOIs\n"
     ]
    }
   ],
   "source": [
    "keys, vals = io.read_csv_file(CSV_FILE, k_index=75, v_index=76)\n",
    "\n",
    "# put these csv data into a dictionary\n",
    "arc = {}\n",
    "for k in keys: \n",
    "    arc[k] = io.get_csv_data(k, keys, vals)\n",
    "    arc[k] = np.asarray(arc[k])\n",
    "\n",
    "    if (arc[k].dtype == \"<U1\") or (arc[k].dtype == \"<U2\"):\n",
    "        arc[k] = np.asarray(arc[k], dtype=\"<U3\")\n",
    "        \n",
    "k0 = \"kepid\"\n",
    "    \n",
    "print(\"Loaded {0} real KOIs\".format(len(arc[k0])))"
   ]
  },
  {
   "cell_type": "code",
   "execution_count": 4,
   "metadata": {},
   "outputs": [],
   "source": [
    "# replace missing data with NaN\n",
    "for k in arc.keys():\n",
    "    arc[k][arc[k] == \"\"] = \"nan\""
   ]
  },
  {
   "cell_type": "code",
   "execution_count": 5,
   "metadata": {},
   "outputs": [],
   "source": [
    "# convert numerical arrays to floats\n",
    "for k in arc.keys():\n",
    "    try:\n",
    "        arc[k] = np.asarray(arc[k], dtype=\"float\")\n",
    "    except:\n",
    "        pass"
   ]
  },
  {
   "cell_type": "markdown",
   "metadata": {},
   "source": [
    "# Read in Gaia DR2"
   ]
  },
  {
   "cell_type": "code",
   "execution_count": 6,
   "metadata": {},
   "outputs": [],
   "source": [
    "gaiapath = MAINPATH + \"Catalogs/berger_2020_gaia_kepler_tab2_output.txt\"\n",
    "\n",
    "# read in the stellar output parameters\n",
    "with open(gaiapath, \"r\") as infile:\n",
    "    raw_gaia_data = []\n",
    "    \n",
    "    for i, line in enumerate(infile):\n",
    "        raw_gaia_data.append(line.split(\"&\"))\n",
    "            \n",
    "raw_gaia_data = np.array(raw_gaia_data)\n",
    "\n",
    "\n",
    "# strip off trailing \\newline commands\n",
    "for i in range(len(raw_gaia_data)):\n",
    "    raw_gaia_data[i,-1] = raw_gaia_data[i,-1].strip(\"\\n\").strip(\"\\ \")"
   ]
  },
  {
   "cell_type": "code",
   "execution_count": 7,
   "metadata": {},
   "outputs": [],
   "source": [
    "raw_gaia_dict = {}\n",
    "\n",
    "for i, k in enumerate(raw_gaia_data[0]):\n",
    "    raw_gaia_dict[k] = raw_gaia_data[1:,i]"
   ]
  },
  {
   "cell_type": "code",
   "execution_count": 8,
   "metadata": {},
   "outputs": [],
   "source": [
    "gaia = {}\n",
    "\n",
    "gaia['kic']          = raw_gaia_dict['KIC']\n",
    "\n",
    "gaia['Mstar']        = raw_gaia_dict['iso_mass']\n",
    "gaia['Mstar_err1']   = raw_gaia_dict['iso_mass_err1']\n",
    "gaia['Mstar_err2']   = raw_gaia_dict['iso_mass_err2']\n",
    "\n",
    "gaia['Rstar']        = raw_gaia_dict['iso_rad']\n",
    "gaia['Rstar_err1']   = raw_gaia_dict['iso_rad_err1']\n",
    "gaia['Rstar_err2']   = raw_gaia_dict['iso_rad_err2']\n",
    "\n",
    "gaia['logrho']      = raw_gaia_dict['iso_rho']\n",
    "gaia['logrho_err1'] = raw_gaia_dict['iso_rho_err1']\n",
    "gaia['logrho_err2'] = raw_gaia_dict['iso_rho_err2']\n",
    "\n",
    "gaia['Teff']         = raw_gaia_dict['iso_teff']\n",
    "gaia['Teff_err1']    = raw_gaia_dict['iso_teff_err1']\n",
    "gaia['Teff_err2']    = raw_gaia_dict['iso_teff_err2']\n",
    "\n",
    "gaia['FeH']          = raw_gaia_dict['iso_feh']\n",
    "gaia['FeH_err1']     = raw_gaia_dict['iso_feh_err1']\n",
    "gaia['FeH_err2']     = raw_gaia_dict['iso_feh_err2']\n",
    "\n",
    "gaia['logg']          = raw_gaia_dict['iso_logg']\n",
    "gaia['logg_err1']     = raw_gaia_dict['iso_logg_err1']\n",
    "gaia['logg_err2']     = raw_gaia_dict['iso_logg_err2']"
   ]
  },
  {
   "cell_type": "markdown",
   "metadata": {},
   "source": [
    "# Remove false-positives, low SNR objects, and monotransits"
   ]
  },
  {
   "cell_type": "code",
   "execution_count": 9,
   "metadata": {},
   "outputs": [
    {
     "name": "stdout",
     "output_type": "stream",
     "text": [
      "after removing false positives, cumulative archive KOIs = 4724\n"
     ]
    }
   ],
   "source": [
    "# remove false positives from DR25\n",
    "fp = arc['koi_disposition'] == 'FALSE POSITIVE'\n",
    "fp += (arc['koi_disposition'] != 'CONFIRMED')*(arc['koi_pdisposition'] == 'FALSE POSITIVE')\n",
    "\n",
    "for k in arc.keys():\n",
    "    arc[k] = arc[k][~fp]\n",
    "\n",
    "print('after removing false positives, cumulative archive KOIs =', len(arc[k]))"
   ]
  },
  {
   "cell_type": "code",
   "execution_count": 10,
   "metadata": {},
   "outputs": [
    {
     "name": "stdout",
     "output_type": "stream",
     "text": [
      "after removing unconfirmed objects with SNR < 7.1, KOIs = 4584\n"
     ]
    }
   ],
   "source": [
    "# cut non-confirmed low signal-to-noise objects (SNR < 7.1)\n",
    "arc_snr = arc['koi_model_snr']\n",
    "#arc_snr[arc_snr == ''] = 0\n",
    "arc_snr = np.array(arc_snr, dtype='float')\n",
    "\n",
    "disposition = arc['koi_disposition']\n",
    "npl = np.array(arc['koi_count'], dtype=\"int\")\n",
    "\n",
    "for k in arc.keys():\n",
    "    bad = (arc_snr < 7.1)*(disposition != 'CONFIRMED')*(npl < 2)\n",
    "    \n",
    "    arc[k] = arc[k][~bad]\n",
    "    \n",
    "print('after removing unconfirmed objects with SNR < 7.1, KOIs =', len(arc[k]))"
   ]
  },
  {
   "cell_type": "code",
   "execution_count": 11,
   "metadata": {
    "scrolled": false
   },
   "outputs": [
    {
     "name": "stdout",
     "output_type": "stream",
     "text": [
      "after removing objects with P > 730 days, KOIs = 4577\n"
     ]
    }
   ],
   "source": [
    "# cut very long period transits (period > 730)\n",
    "arc_per = arc['koi_period']\n",
    "#arc_per[arc_per == ''] = 1e6\n",
    "arc_per = np.array(arc_per, dtype='float')\n",
    "\n",
    "npl = np.array(arc['koi_count'], dtype=\"int\")\n",
    "\n",
    "bad = (arc_per > 730)*(npl < 2)\n",
    "\n",
    "for k in arc.keys():\n",
    "    arc[k] = arc[k][~bad]\n",
    "    \n",
    "    \n",
    "print('after removing objects with P > 730 days, KOIs =', len(arc[k]))"
   ]
  },
  {
   "cell_type": "code",
   "execution_count": 12,
   "metadata": {},
   "outputs": [
    {
     "name": "stdout",
     "output_type": "stream",
     "text": [
      "after removing objects with fewer than three transits, KOIs = 4297\n"
     ]
    }
   ],
   "source": [
    "# remove objects with fewer than three transits\n",
    "arc_num_transits = arc[\"koi_num_transits\"]\n",
    "#arc_num_transits[arc_num_transits == ''] = 0\n",
    "arc_num_transits = np.array(arc_num_transits, dtype='int')\n",
    "\n",
    "npl = np.array(arc['koi_count'], dtype=\"int\")\n",
    "\n",
    "bad = (arc_num_transits < 3)*(npl < 2)\n",
    "\n",
    "for k in arc.keys():\n",
    "    arc[k] = arc[k][~bad]\n",
    "\n",
    "print('after removing objects with fewer than three transits, KOIs =', len(arc[k]))"
   ]
  },
  {
   "cell_type": "markdown",
   "metadata": {},
   "source": [
    "# Initialize my catalog"
   ]
  },
  {
   "cell_type": "code",
   "execution_count": 13,
   "metadata": {},
   "outputs": [],
   "source": [
    "Nobj = len(arc['kepid'])"
   ]
  },
  {
   "cell_type": "code",
   "execution_count": 14,
   "metadata": {},
   "outputs": [],
   "source": [
    "my_catalog = {}\n",
    "\n",
    "my_catalog['planet_name'] = arc['kepoi_name']\n",
    "my_catalog['disposition'] = arc['koi_disposition']\n",
    "\n",
    "my_catalog['koi_id']  = np.array(['K00000']*Nobj)\n",
    "my_catalog['kic_id']  = np.array(arc['kepid'], dtype=\"int\")\n",
    "\n",
    "my_catalog['npl'] = np.array(arc['koi_count'], dtype=\"int\")\n",
    "my_catalog['kep_mag'] = np.array(arc['koi_kepmag'], dtype='float').round(3)\n",
    "\n",
    "my_catalog['mstar'] = arc['koi_smass']\n",
    "my_catalog['mstar_err1'] = arc['koi_smass_err1']\n",
    "my_catalog['mstar_err2'] = arc['koi_smass_err2']\n",
    "\n",
    "my_catalog['rstar'] = arc['koi_srad']\n",
    "my_catalog['rstar_err1'] = arc['koi_srad_err1']\n",
    "my_catalog['rstar_err2'] = arc['koi_srad_err2']\n",
    "\n",
    "my_catalog['logrho'] = np.zeros_like(arc['koi_srad'])\n",
    "my_catalog['logrho_err1'] = np.zeros_like(arc['koi_srad'])\n",
    "my_catalog['logrho_err2'] = np.zeros_like(arc['koi_srad'])\n",
    "\n",
    "my_catalog['Teff'] = arc['koi_steff']\n",
    "my_catalog['Teff_err1'] = arc['koi_steff_err1']\n",
    "my_catalog['Teff_err2'] = arc['koi_steff_err2']\n",
    "\n",
    "my_catalog['FeH'] = arc['koi_smet']\n",
    "my_catalog['FeH_err1'] = arc['koi_smet_err1']\n",
    "my_catalog['FeH_err2'] = arc['koi_smet_err2']\n",
    "\n",
    "my_catalog['logg'] = arc['koi_slogg']\n",
    "my_catalog['logg_err1'] = arc['koi_slogg_err1']\n",
    "my_catalog['logg_err2'] = arc['koi_slogg_err2']\n",
    "\n",
    "my_catalog['limbdark_1'] = arc['koi_ldm_coeff1']\n",
    "my_catalog['limbdark_2'] = arc['koi_ldm_coeff2']\n",
    "\n",
    "my_catalog['period'] = arc['koi_period']\n",
    "my_catalog['period_err1'] = arc['koi_period_err1']\n",
    "my_catalog['period_err2'] = arc['koi_period_err2']\n",
    "\n",
    "my_catalog['epoch'] = arc['koi_time0bk']\n",
    "my_catalog['epoch_err1'] = arc['koi_time0bk_err1']\n",
    "my_catalog['epoch_err2'] = arc['koi_time0bk_err2']\n",
    "\n",
    "my_catalog['prad'] = arc['koi_prad']\n",
    "my_catalog['prad_err1'] = arc['koi_prad_err1']\n",
    "my_catalog['prad_err2'] = arc['koi_prad_err2']\n",
    "\n",
    "my_catalog['impact'] = arc['koi_impact']\n",
    "my_catalog['impact_err1'] = arc['koi_impact_err1']\n",
    "my_catalog['impact_err2'] = arc['koi_impact_err2']\n",
    "\n",
    "my_catalog['depth'] = arc['koi_depth']\n",
    "my_catalog['depth_err1'] = arc['koi_depth_err1']\n",
    "my_catalog['depth_err2'] = arc['koi_depth_err2']\n",
    "\n",
    "my_catalog['duration'] = arc['koi_duration']\n",
    "my_catalog['duration_err1'] = arc['koi_duration_err1']\n",
    "my_catalog['duration_err2'] = arc['koi_duration_err2']\n",
    "\n",
    "my_catalog['ror'] = arc['koi_ror']\n",
    "my_catalog['ror_err1'] = arc['koi_ror_err1']\n",
    "my_catalog['ror_err2'] = arc['koi_ror_err2']\n",
    "\n",
    "my_catalog['dor'] = arc['koi_dor']\n",
    "my_catalog['dor_err1'] = arc['koi_dor_err1']\n",
    "my_catalog['dor_err2'] = arc['koi_dor_err2']\n",
    "\n",
    "my_catalog['snr'] = arc['koi_model_snr']\n",
    "my_catalog['num_transits'] = arc['koi_num_transits']"
   ]
  },
  {
   "cell_type": "code",
   "execution_count": 15,
   "metadata": {},
   "outputs": [],
   "source": [
    "# make KOI name for star\n",
    "for i, pname in enumerate(my_catalog['planet_name']):\n",
    "    my_catalog['koi_id'][i] = pname[:-3]"
   ]
  },
  {
   "cell_type": "markdown",
   "metadata": {},
   "source": [
    "# Enforce stellar parameter consistency"
   ]
  },
  {
   "cell_type": "code",
   "execution_count": 16,
   "metadata": {},
   "outputs": [
    {
     "name": "stderr",
     "output_type": "stream",
     "text": [
      "/Users/research/anaconda3/lib/python3.7/site-packages/ipykernel_launcher.py:9: RuntimeWarning: Mean of empty slice\n",
      "  if __name__ == '__main__':\n",
      "/Users/research/anaconda3/lib/python3.7/site-packages/ipykernel_launcher.py:12: RuntimeWarning: Mean of empty slice\n",
      "  if sys.path[0] == '':\n",
      "/Users/research/anaconda3/lib/python3.7/site-packages/ipykernel_launcher.py:13: RuntimeWarning: Mean of empty slice\n",
      "  del sys.path[0]\n"
     ]
    }
   ],
   "source": [
    "star_keys = [\"kep_mag\", \"mstar\", \"rstar\", \"logrho\", \"limbdark_1\", \"limbdark_2\"]\n",
    "\n",
    "\n",
    "for sk in star_keys:\n",
    "    for i, koi in enumerate(np.unique(my_catalog[\"koi_id\"])):\n",
    "        use = my_catalog[\"koi_id\"] == koi\n",
    "\n",
    "        if ~np.all(my_catalog[sk][use] == my_catalog[sk][use][0]):\n",
    "            my_catalog[sk][use] = np.nanmean(my_catalog[sk][use])\n",
    "            \n",
    "            try:\n",
    "                my_catalog[sk + \"_err1\"][use] = np.sqrt(np.nanmean(my_catalog[sk + \"_err1\"][use]**2))\n",
    "                my_catalog[sk + \"_err2\"][use] = -np.sqrt(np.nanmean(my_catalog[sk + \"_err2\"][use]**2))\n",
    "                \n",
    "            except:\n",
    "                pass"
   ]
  },
  {
   "cell_type": "code",
   "execution_count": 17,
   "metadata": {},
   "outputs": [
    {
     "name": "stderr",
     "output_type": "stream",
     "text": [
      "/Users/research/anaconda3/lib/python3.7/site-packages/ipykernel_launcher.py:16: RuntimeWarning: invalid value encountered in log10\n",
      "  app.launch_new_instance()\n"
     ]
    }
   ],
   "source": [
    "# compute stellar densities\n",
    "M = my_catalog[\"mstar\"]\n",
    "R = my_catalog[\"rstar\"]\n",
    "D = M/R**3*RHOSUN_GCM3\n",
    "\n",
    "M_err1 = my_catalog[\"mstar_err1\"]\n",
    "R_err1 = my_catalog[\"rstar_err1\"]\n",
    "D_err1 = np.sqrt(((R**-3)*(M_err1))**2 + ((-3*M*R**-4)*(R_err1))**2)\n",
    "\n",
    "M_err2 = my_catalog[\"mstar_err2\"]\n",
    "R_err2 = my_catalog[\"rstar_err2\"]\n",
    "D_err2 = -np.sqrt(((R**-3)*(M_err2))**2 + ((-3*M*R**-4)*(R_err2))**2)\n",
    "\n",
    "my_catalog[\"logrho\"] = np.log10(D)\n",
    "my_catalog[\"logrho_err1\"] = np.log10(D+D_err1) - my_catalog[\"logrho\"]\n",
    "my_catalog[\"logrho_err2\"] = np.log10(D+D_err2) - my_catalog[\"logrho\"]"
   ]
  },
  {
   "cell_type": "markdown",
   "metadata": {},
   "source": [
    "# Cross-match Kepler vs. Gaia and combine\n",
    "\n",
    "#### This section uses Berger+ 2018 which only includes stellar radii; the catalog from Berger+ 2020 will soon be available and that will also include stellar masses"
   ]
  },
  {
   "cell_type": "code",
   "execution_count": 18,
   "metadata": {},
   "outputs": [
    {
     "data": {
      "text/plain": [
       "(4297, 186301)"
      ]
     },
     "execution_count": 18,
     "metadata": {},
     "output_type": "execute_result"
    }
   ],
   "source": [
    "arc_kic = np.array(arc['kepid'], dtype='int')\n",
    "gaia_kic = np.array(gaia['kic'], dtype='int')\n",
    "\n",
    "len(arc_kic), len(gaia_kic)"
   ]
  },
  {
   "cell_type": "code",
   "execution_count": 19,
   "metadata": {},
   "outputs": [],
   "source": [
    "# update Kepler stellar properties to Gaia values where available\n",
    "use = np.isin(arc_kic, gaia_kic)\n",
    "\n",
    "for i, kic in enumerate(arc_kic):\n",
    "    if use[i]:\n",
    "        my_catalog['mstar'][i] = np.squeeze(gaia['Mstar'][gaia_kic == kic])\n",
    "        my_catalog['mstar_err1'][i] = np.squeeze(gaia['Mstar_err1'][gaia_kic == kic])\n",
    "        my_catalog['mstar_err2'][i] = np.squeeze(gaia['Mstar_err2'][gaia_kic == kic])\n",
    "\n",
    "        my_catalog['rstar'][i] = np.squeeze(gaia['Rstar'][gaia_kic == kic])\n",
    "        my_catalog['rstar_err1'][i] = np.squeeze(gaia['Rstar_err1'][gaia_kic == kic])\n",
    "        my_catalog['rstar_err2'][i] = np.squeeze(gaia['Rstar_err2'][gaia_kic == kic])\n",
    "                \n",
    "        my_catalog['logg'][i] = np.squeeze(gaia['logg'][gaia_kic == kic])\n",
    "        my_catalog['logg_err1'][i] = np.squeeze(gaia['logg_err1'][gaia_kic == kic])\n",
    "        my_catalog['logg_err2'][i] = np.squeeze(gaia['logg_err2'][gaia_kic == kic])\n",
    "\n",
    "        my_catalog['FeH'][i] = np.squeeze(gaia['FeH'][gaia_kic == kic])\n",
    "        my_catalog['FeH_err1'][i] = np.squeeze(gaia['FeH_err1'][gaia_kic == kic])\n",
    "        my_catalog['FeH_err2'][i] = np.squeeze(gaia['FeH_err2'][gaia_kic == kic])\n",
    "        \n",
    "        my_catalog['Teff'][i] = np.squeeze(gaia['Teff'][gaia_kic == kic])\n",
    "        my_catalog['Teff_err1'][i] = np.squeeze(gaia['Teff_err1'][gaia_kic == kic])\n",
    "        my_catalog['Teff_err2'][i] = np.squeeze(gaia['Teff_err2'][gaia_kic == kic])\n",
    "        \n",
    "        \n",
    "        # density is a bit more complicated - Berger uses different notation convention than I do\n",
    "        D = 10**float(np.squeeze(gaia['logrho'][gaia_kic == kic]))\n",
    "        D_err1 = 10**float(np.squeeze(gaia['logrho_err1'][gaia_kic == kic]))\n",
    "        D_err2 = -10**float(np.squeeze(gaia['logrho_err2'][gaia_kic == kic]))\n",
    "        \n",
    "        my_catalog[\"logrho\"][i] = np.log10(D)\n",
    "        my_catalog[\"logrho_err1\"][i] = np.log10(D+D_err1) - my_catalog[\"logrho\"][i]\n",
    "        my_catalog[\"logrho_err2\"][i] = np.log10(D+D_err2) - my_catalog[\"logrho\"][i]"
   ]
  },
  {
   "cell_type": "code",
   "execution_count": 20,
   "metadata": {},
   "outputs": [],
   "source": [
    "# enforce limb darkening consistency via averaging (some come from different places)\n",
    "for i, koi in enumerate(my_catalog[\"koi_id\"]):\n",
    "    use = my_catalog[\"koi_id\"] == koi\n",
    "    \n",
    "    my_catalog[\"limbdark_1\"][use] = np.mean(my_catalog[\"limbdark_1\"][use])\n",
    "    my_catalog[\"limbdark_2\"][use] = np.mean(my_catalog[\"limbdark_2\"][use])"
   ]
  },
  {
   "cell_type": "markdown",
   "metadata": {},
   "source": [
    "# Re-check stellar parameter consistency"
   ]
  },
  {
   "cell_type": "code",
   "execution_count": 21,
   "metadata": {},
   "outputs": [
    {
     "name": "stderr",
     "output_type": "stream",
     "text": [
      "/Users/research/anaconda3/lib/python3.7/site-packages/ipykernel_launcher.py:8: RuntimeWarning: Mean of empty slice\n",
      "  \n",
      "/Users/research/anaconda3/lib/python3.7/site-packages/ipykernel_launcher.py:9: RuntimeWarning: Mean of empty slice\n",
      "  if __name__ == '__main__':\n",
      "/Users/research/anaconda3/lib/python3.7/site-packages/ipykernel_launcher.py:10: RuntimeWarning: Mean of empty slice\n",
      "  # Remove the CWD from sys.path while we load stuff.\n"
     ]
    }
   ],
   "source": [
    "star_keys = [\"mstar\", \"rstar\", \"logrho\"]\n",
    "\n",
    "for sk in star_keys:\n",
    "    for i, koi in enumerate(np.unique(my_catalog[\"koi_id\"])):\n",
    "        use = my_catalog[\"koi_id\"] == koi\n",
    "\n",
    "        if ~np.all(my_catalog[sk][use] == my_catalog[sk][use][0]):            \n",
    "            my_catalog[sk][use] = np.nanmean(my_catalog[sk][use])\n",
    "            my_catalog[sk + \"_err1\"][use] = np.sqrt(np.nanmean(my_catalog[sk + \"_err1\"][use]**2))\n",
    "            my_catalog[sk + \"_err2\"][use] = -np.sqrt(np.nanmean(my_catalog[sk + \"_err2\"][use]**2))"
   ]
  },
  {
   "cell_type": "markdown",
   "metadata": {},
   "source": [
    "# Adjust number of planets in each system"
   ]
  },
  {
   "cell_type": "code",
   "execution_count": 22,
   "metadata": {},
   "outputs": [],
   "source": [
    "# adjust number of planets in each system to reflect removals \n",
    "unique_systems = np.unique(my_catalog['koi_id'])\n",
    "\n",
    "my_catalog['npl'] = np.zeros(len(my_catalog['koi_id']), dtype='int')\n",
    "\n",
    "for us in unique_systems:\n",
    "    new_npl = np.sum(my_catalog['koi_id'] == us)\n",
    "    my_catalog['npl'][my_catalog['koi_id'] == us] = new_npl"
   ]
  },
  {
   "cell_type": "code",
   "execution_count": 23,
   "metadata": {},
   "outputs": [
    {
     "data": {
      "text/plain": [
       "(array([2442.,  978.,  498.,  244.,  110.,   18.,    7.,    0.]),\n",
       " array([1, 2, 3, 4, 5, 6, 7, 8, 9]),\n",
       " <a list of 8 Patch objects>)"
      ]
     },
     "execution_count": 23,
     "metadata": {},
     "output_type": "execute_result"
    },
    {
     "data": {
      "image/png": "[encoded data removed]",
      "text/plain": [
       "<Figure size 432x288 with 1 Axes>"
      ]
     },
     "metadata": {
      "needs_background": "light"
     },
     "output_type": "display_data"
    }
   ],
   "source": [
    "plt.hist(np.array(my_catalog['npl'], dtype='float'), bins=np.arange(1,10), color='cornflowerblue', edgecolor='k')"
   ]
  },
  {
   "cell_type": "markdown",
   "metadata": {},
   "source": [
    "# Fix troublesome NaN values"
   ]
  },
  {
   "cell_type": "code",
   "execution_count": 60,
   "metadata": {},
   "outputs": [
    {
     "name": "stdout",
     "output_type": "stream",
     "text": [
      "['K00806' 'K00835' 'K00939' 'K00971' 'K01192' 'K01198' 'K01070' 'K00142'\n",
      " 'K01316' 'K01445' 'K01445' 'K01423' 'K01639' 'K01576' 'K01576' 'K01665'\n",
      " 'K01677' 'K01831' 'K02042' 'K01904' 'K01839' 'K01845' 'K01845' 'K01914'\n",
      " 'K01988' 'K01922' 'K02001' 'K01858' 'K01862' 'K01803' 'K01877' 'K01940'\n",
      " 'K01945' 'K01815' 'K02339' 'K02175' 'K02261' 'K02181' 'K02188' 'K02369'\n",
      " 'K02364' 'K02222' 'K02224' 'K02225' 'K02311' 'K02311' 'K02081' 'K02160'\n",
      " 'K02324' 'K02167' 'K02248' 'K02335' 'K02639' 'K02671' 'K00245' 'K00245'\n",
      " 'K02610' 'K02768' 'K02768' 'K02743' 'K02758' 'K00377' 'K00377' 'K00331'\n",
      " 'K03071' 'K00299' 'K00356' 'K00435' 'K00496' 'K01815' 'K00505' 'K00080'\n",
      " 'K00099' 'K04388' 'K00672' 'K02220' 'K02193' 'K04098' 'K04109' 'K04215'\n",
      " 'K03043' 'K04382' 'K04390' 'K04255' 'K04269' 'K04269' 'K03184' 'K04725'\n",
      " 'K04647' 'K04713' 'K04676' 'K04839' 'K04772' 'K03311' 'K01101' 'K03206'\n",
      " 'K04782' 'K04823' 'K03473' 'K03412' 'K02055' 'K03777' 'K03722' 'K03728'\n",
      " 'K03891' 'K02879' 'K02061' 'K03478' 'K05801' 'K05563' 'K05566' 'K05831'\n",
      " 'K05568' 'K05600' 'K05485' 'K05375' 'K05388' 'K05900' 'K05928' 'K06178'\n",
      " 'K06180' 'K06180' 'K06182' 'K00492' 'K03456' 'K03504' 'K04568' 'K04647'\n",
      " 'K04895' 'K06097' 'K06097' 'K06097' 'K04030' 'K00600' 'K06097' 'K06100'\n",
      " 'K01616' 'K07865' 'K04435' 'K01839' 'K06118' 'K06118' 'K01250' 'K06214'\n",
      " 'K03283' 'K04396' 'K06120' 'K06216' 'K06216' 'K06224' 'K01319' 'K02533'\n",
      " 'K06142' 'K06142' 'K06142' 'K06237' 'K06239' 'K06239' 'K06242' 'K06242'\n",
      " 'K06242' 'K06245' 'K06245' 'K02086' 'K00337' 'K02281' 'K00365' 'K06168'\n",
      " 'K06168' 'K02610' 'K02869' 'K00423' 'K06176' 'K06176' 'K03028' 'K03088'\n",
      " 'K03401' 'K00129' 'K07878' 'K06759' 'K04716' 'K07430' 'K06516' 'K07180'\n",
      " 'K06263' 'K06409' 'K06542' 'K06934' 'K06949' 'K06697' 'K06698' 'K06835'\n",
      " 'K07094' 'K07226' 'K00126' 'K07111' 'K07368' 'K07255' 'K06341' 'K06598'\n",
      " 'K06605' 'K06353' 'K06489' 'K06610' 'K06884' 'K07607' 'K07562' 'K07596'\n",
      " 'K08011' 'K07928' 'K07938' 'K08054' 'K08157' 'K07973']\n"
     ]
    }
   ],
   "source": [
    "bad = np.zeros(len(my_catalog[\"koi_id\"]))\n",
    "\n",
    "for k in my_catalog.keys():\n",
    "    try:\n",
    "        bad += np.isnan(my_catalog[k])\n",
    "        \n",
    "    except:\n",
    "        pass\n",
    "\n",
    "\n",
    "bad = bad > 0\n",
    "print(my_catalog[\"koi_id\"][bad])"
   ]
  },
  {
   "cell_type": "code",
   "execution_count": null,
   "metadata": {},
   "outputs": [],
   "source": []
  },
  {
   "cell_type": "code",
   "execution_count": null,
   "metadata": {},
   "outputs": [],
   "source": []
  },
  {
   "cell_type": "code",
   "execution_count": null,
   "metadata": {},
   "outputs": [],
   "source": []
  },
  {
   "cell_type": "code",
   "execution_count": null,
   "metadata": {},
   "outputs": [],
   "source": []
  },
  {
   "cell_type": "code",
   "execution_count": null,
   "metadata": {},
   "outputs": [],
   "source": []
  },
  {
   "cell_type": "code",
   "execution_count": null,
   "metadata": {},
   "outputs": [],
   "source": []
  },
  {
   "cell_type": "code",
   "execution_count": null,
   "metadata": {},
   "outputs": [],
   "source": []
  },
  {
   "cell_type": "code",
   "execution_count": null,
   "metadata": {},
   "outputs": [],
   "source": []
  },
  {
   "cell_type": "markdown",
   "metadata": {},
   "source": [
    "# Read out catalogue"
   ]
  },
  {
   "cell_type": "code",
   "execution_count": null,
   "metadata": {},
   "outputs": [],
   "source": [
    "WRITENEW = True\n",
    "if WRITENEW:\n",
    "    filepath = MAINPATH + 'Catalogs/cumulative_koi_catalog.csv'\n",
    "\n",
    "    with open(filepath, \"w\") as outfile:\n",
    "        writer = csv.writer(outfile)\n",
    "        writer.writerow(my_catalog.keys())\n",
    "        writer.writerows(zip(*my_catalog.values()))"
   ]
  },
  {
   "cell_type": "markdown",
   "metadata": {},
   "source": [
    "# Make condensed stellar parameter catalog"
   ]
  },
  {
   "cell_type": "code",
   "execution_count": null,
   "metadata": {},
   "outputs": [],
   "source": [
    "stars = {}\n",
    "\n",
    "stars[\"koi_id\"] = []\n",
    "stars[\"Teff\"] = []\n",
    "stars[\"Teff_err1\"] = []\n",
    "stars[\"Teff_err2\"] = []\n",
    "stars[\"logg\"] = []\n",
    "stars[\"logg_err1\"] = []\n",
    "stars[\"logg_err2\"] = []\n",
    "stars[\"FeH\"] = []\n",
    "stars[\"FeH_err1\"] = []\n",
    "stars[\"FeH_err2\"] = []\n",
    "\n",
    "for i, koi in enumerate(np.unique(my_catalog[\"koi_id\"])):\n",
    "    use = my_catalog[\"koi_id\"] == koi\n",
    "    \n",
    "    stars[\"koi_id\"].append(koi)\n",
    "    \n",
    "    for k in stars.keys():\n",
    "        if k != \"koi_id\":\n",
    "            stars[k].append(my_catalog[k][use][0])"
   ]
  },
  {
   "cell_type": "code",
   "execution_count": null,
   "metadata": {},
   "outputs": [],
   "source": [
    "WRITENEW = True\n",
    "if WRITENEW:\n",
    "    filepath = MAINPATH + 'Catalogs/cumulative_koi_stellar.csv'\n",
    "\n",
    "    with open(filepath, \"w\") as outfile:\n",
    "        writer = csv.writer(outfile)\n",
    "        writer.writerow(stars.keys())\n",
    "        writer.writerows(zip(*stars.values()))"
   ]
  },
  {
   "cell_type": "code",
   "execution_count": null,
   "metadata": {},
   "outputs": [],
   "source": []
  }
 ],
 "metadata": {
  "kernelspec": {
   "display_name": "Python 3",
   "language": "python",
   "name": "python3"
  },
  "language_info": {
   "codemirror_mode": {
    "name": "ipython",
    "version": 3
   },
   "file_extension": ".py",
   "mimetype": "text/x-python",
   "name": "python",
   "nbconvert_exporter": "python",
   "pygments_lexer": "ipython3",
   "version": "3.7.3"
  }
 },
 "nbformat": 4,
 "nbformat_minor": 2
}
