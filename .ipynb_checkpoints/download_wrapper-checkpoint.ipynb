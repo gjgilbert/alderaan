{
 "cells": [
  {
   "cell_type": "code",
   "execution_count": 1,
   "metadata": {},
   "outputs": [
    {
     "name": "stdout",
     "output_type": "stream",
     "text": [
      "\n",
      "KOI-2115\n",
      "downloading short cadence data from MAST\n"
     ]
    },
    {
     "name": "stderr",
     "output_type": "stream",
     "text": [
      "/Users/research/anaconda3/lib/python3.7/site-packages/lightkurve/search.py:284: LightkurveWarning: Cannot download from an empty search result.\n",
      "  LightkurveWarning)\n"
     ]
    },
    {
     "name": "stdout",
     "output_type": "stream",
     "text": [
      "downloading long cadence data from MAST\n",
      "\n",
      "KOI-426\n",
      "downloading short cadence data from MAST\n"
     ]
    },
    {
     "name": "stderr",
     "output_type": "stream",
     "text": [
      "/Users/research/anaconda3/lib/python3.7/site-packages/lightkurve/search.py:284: LightkurveWarning: Cannot download from an empty search result.\n",
      "  LightkurveWarning)\n"
     ]
    },
    {
     "name": "stdout",
     "output_type": "stream",
     "text": [
      "downloading long cadence data from MAST\n",
      "\n",
      "KOI-3267\n",
      "downloading short cadence data from MAST\n"
     ]
    },
    {
     "name": "stderr",
     "output_type": "stream",
     "text": [
      "/Users/research/anaconda3/lib/python3.7/site-packages/lightkurve/search.py:284: LightkurveWarning: Cannot download from an empty search result.\n",
      "  LightkurveWarning)\n"
     ]
    },
    {
     "name": "stdout",
     "output_type": "stream",
     "text": [
      "downloading long cadence data from MAST\n",
      "\n",
      "KOI-4037\n",
      "downloading short cadence data from MAST\n"
     ]
    },
    {
     "name": "stderr",
     "output_type": "stream",
     "text": [
      "/Users/research/anaconda3/lib/python3.7/site-packages/lightkurve/search.py:284: LightkurveWarning: Cannot download from an empty search result.\n",
      "  LightkurveWarning)\n"
     ]
    },
    {
     "name": "stdout",
     "output_type": "stream",
     "text": [
      "downloading long cadence data from MAST\n",
      "\n",
      "KOI-4343\n",
      "downloading short cadence data from MAST\n"
     ]
    },
    {
     "name": "stderr",
     "output_type": "stream",
     "text": [
      "/Users/research/anaconda3/lib/python3.7/site-packages/lightkurve/search.py:284: LightkurveWarning: Cannot download from an empty search result.\n",
      "  LightkurveWarning)\n"
     ]
    },
    {
     "name": "stdout",
     "output_type": "stream",
     "text": [
      "downloading long cadence data from MAST\n",
      "\n",
      "KOI-4580\n",
      "downloading short cadence data from MAST\n"
     ]
    },
    {
     "name": "stderr",
     "output_type": "stream",
     "text": [
      "/Users/research/anaconda3/lib/python3.7/site-packages/lightkurve/search.py:284: LightkurveWarning: Cannot download from an empty search result.\n",
      "  LightkurveWarning)\n"
     ]
    },
    {
     "name": "stdout",
     "output_type": "stream",
     "text": [
      "downloading long cadence data from MAST\n",
      "\n",
      "KOI-5410\n",
      "downloading short cadence data from MAST\n"
     ]
    },
    {
     "name": "stderr",
     "output_type": "stream",
     "text": [
      "/Users/research/anaconda3/lib/python3.7/site-packages/lightkurve/search.py:284: LightkurveWarning: Cannot download from an empty search result.\n",
      "  LightkurveWarning)\n"
     ]
    },
    {
     "name": "stdout",
     "output_type": "stream",
     "text": [
      "downloading long cadence data from MAST\n",
      "\n",
      "KOI-3394\n",
      "downloading short cadence data from MAST\n"
     ]
    },
    {
     "name": "stderr",
     "output_type": "stream",
     "text": [
      "/Users/research/anaconda3/lib/python3.7/site-packages/lightkurve/search.py:284: LightkurveWarning: Cannot download from an empty search result.\n",
      "  LightkurveWarning)\n"
     ]
    },
    {
     "name": "stdout",
     "output_type": "stream",
     "text": [
      "downloading long cadence data from MAST\n",
      "\n",
      "KOI-804\n",
      "downloading short cadence data from MAST\n"
     ]
    },
    {
     "name": "stderr",
     "output_type": "stream",
     "text": [
      "/Users/research/anaconda3/lib/python3.7/site-packages/lightkurve/search.py:284: LightkurveWarning: Cannot download from an empty search result.\n",
      "  LightkurveWarning)\n"
     ]
    },
    {
     "name": "stdout",
     "output_type": "stream",
     "text": [
      "downloading long cadence data from MAST\n",
      "\n",
      "KOI-1683\n",
      "downloading short cadence data from MAST\n"
     ]
    },
    {
     "name": "stderr",
     "output_type": "stream",
     "text": [
      "/Users/research/anaconda3/lib/python3.7/site-packages/lightkurve/search.py:284: LightkurveWarning: Cannot download from an empty search result.\n",
      "  LightkurveWarning)\n"
     ]
    },
    {
     "name": "stdout",
     "output_type": "stream",
     "text": [
      "downloading long cadence data from MAST\n"
     ]
    }
   ],
   "source": [
    "%run download_from_MAST.py --mission='Kepler' --target='K02115' --primary_dir='/Users/research/projects/alderaan/'\n",
    "%run download_from_MAST.py --mission='Kepler' --target='K00426' --primary_dir='/Users/research/projects/alderaan/'\n",
    "%run download_from_MAST.py --mission='Kepler' --target='K03267' --primary_dir='/Users/research/projects/alderaan/'\n",
    "%run download_from_MAST.py --mission='Kepler' --target='K04037' --primary_dir='/Users/research/projects/alderaan/'\n",
    "%run download_from_MAST.py --mission='Kepler' --target='K04343' --primary_dir='/Users/research/projects/alderaan/'\n",
    "%run download_from_MAST.py --mission='Kepler' --target='K04580' --primary_dir='/Users/research/projects/alderaan/'\n",
    "%run download_from_MAST.py --mission='Kepler' --target='K05410' --primary_dir='/Users/research/projects/alderaan/'\n",
    "%run download_from_MAST.py --mission='Kepler' --target='K03394' --primary_dir='/Users/research/projects/alderaan/'\n",
    "%run download_from_MAST.py --mission='Kepler' --target='K00804' --primary_dir='/Users/research/projects/alderaan/'\n",
    "%run download_from_MAST.py --mission='Kepler' --target='K01683' --primary_dir='/Users/research/projects/alderaan/'"
   ]
  },
  {
   "cell_type": "code",
   "execution_count": 2,
   "metadata": {},
   "outputs": [
    {
     "name": "stdout",
     "output_type": "stream",
     "text": [
      "\n",
      "KOI-2468\n",
      "downloading short cadence data from MAST\n"
     ]
    },
    {
     "name": "stderr",
     "output_type": "stream",
     "text": [
      "/Users/research/anaconda3/lib/python3.7/site-packages/lightkurve/search.py:284: LightkurveWarning: Cannot download from an empty search result.\n",
      "  LightkurveWarning)\n"
     ]
    },
    {
     "name": "stdout",
     "output_type": "stream",
     "text": [
      "downloading long cadence data from MAST\n",
      "\n",
      "KOI-2555\n",
      "downloading short cadence data from MAST\n"
     ]
    },
    {
     "name": "stderr",
     "output_type": "stream",
     "text": [
      "/Users/research/anaconda3/lib/python3.7/site-packages/lightkurve/search.py:284: LightkurveWarning: Cannot download from an empty search result.\n",
      "  LightkurveWarning)\n"
     ]
    },
    {
     "name": "stdout",
     "output_type": "stream",
     "text": [
      "downloading long cadence data from MAST\n",
      "\n",
      "KOI-1072\n",
      "downloading short cadence data from MAST\n"
     ]
    },
    {
     "name": "stderr",
     "output_type": "stream",
     "text": [
      "/Users/research/anaconda3/lib/python3.7/site-packages/lightkurve/search.py:284: LightkurveWarning: Cannot download from an empty search result.\n",
      "  LightkurveWarning)\n"
     ]
    },
    {
     "name": "stdout",
     "output_type": "stream",
     "text": [
      "downloading long cadence data from MAST\n",
      "\n",
      "KOI-373\n",
      "downloading short cadence data from MAST\n",
      "downloading long cadence data from MAST\n",
      "\n",
      "KOI-3455\n",
      "downloading short cadence data from MAST\n"
     ]
    },
    {
     "name": "stderr",
     "output_type": "stream",
     "text": [
      "/Users/research/anaconda3/lib/python3.7/site-packages/lightkurve/search.py:284: LightkurveWarning: Cannot download from an empty search result.\n",
      "  LightkurveWarning)\n"
     ]
    },
    {
     "name": "stdout",
     "output_type": "stream",
     "text": [
      "downloading long cadence data from MAST\n",
      "\n",
      "KOI-1861\n",
      "downloading short cadence data from MAST\n"
     ]
    },
    {
     "name": "stderr",
     "output_type": "stream",
     "text": [
      "/Users/research/anaconda3/lib/python3.7/site-packages/lightkurve/search.py:284: LightkurveWarning: Cannot download from an empty search result.\n",
      "  LightkurveWarning)\n"
     ]
    },
    {
     "name": "stdout",
     "output_type": "stream",
     "text": [
      "downloading long cadence data from MAST\n",
      "\n",
      "KOI-1801\n",
      "downloading short cadence data from MAST\n"
     ]
    },
    {
     "name": "stderr",
     "output_type": "stream",
     "text": [
      "/Users/research/anaconda3/lib/python3.7/site-packages/lightkurve/search.py:284: LightkurveWarning: Cannot download from an empty search result.\n",
      "  LightkurveWarning)\n"
     ]
    },
    {
     "name": "stdout",
     "output_type": "stream",
     "text": [
      "downloading long cadence data from MAST\n",
      "\n",
      "KOI-5741\n",
      "downloading short cadence data from MAST\n"
     ]
    },
    {
     "name": "stderr",
     "output_type": "stream",
     "text": [
      "/Users/research/anaconda3/lib/python3.7/site-packages/lightkurve/search.py:284: LightkurveWarning: Cannot download from an empty search result.\n",
      "  LightkurveWarning)\n"
     ]
    },
    {
     "name": "stdout",
     "output_type": "stream",
     "text": [
      "downloading long cadence data from MAST\n",
      "\n",
      "KOI-3034\n",
      "downloading short cadence data from MAST\n"
     ]
    },
    {
     "name": "stderr",
     "output_type": "stream",
     "text": [
      "/Users/research/anaconda3/lib/python3.7/site-packages/lightkurve/search.py:284: LightkurveWarning: Cannot download from an empty search result.\n",
      "  LightkurveWarning)\n"
     ]
    },
    {
     "name": "stdout",
     "output_type": "stream",
     "text": [
      "downloading long cadence data from MAST\n",
      "\n",
      "KOI-273\n",
      "downloading short cadence data from MAST\n",
      "downloading long cadence data from MAST\n"
     ]
    }
   ],
   "source": [
    "%run download_from_MAST.py --mission='Kepler' --target='K02468' --primary_dir='/Users/research/projects/alderaan/'\n",
    "%run download_from_MAST.py --mission='Kepler' --target='K02555' --primary_dir='/Users/research/projects/alderaan/'\n",
    "%run download_from_MAST.py --mission='Kepler' --target='K01072' --primary_dir='/Users/research/projects/alderaan/'\n",
    "%run download_from_MAST.py --mission='Kepler' --target='K00373' --primary_dir='/Users/research/projects/alderaan/'\n",
    "%run download_from_MAST.py --mission='Kepler' --target='K03455' --primary_dir='/Users/research/projects/alderaan/'\n",
    "%run download_from_MAST.py --mission='Kepler' --target='K01861' --primary_dir='/Users/research/projects/alderaan/'\n",
    "%run download_from_MAST.py --mission='Kepler' --target='K01801' --primary_dir='/Users/research/projects/alderaan/'\n",
    "%run download_from_MAST.py --mission='Kepler' --target='K05741' --primary_dir='/Users/research/projects/alderaan/'\n",
    "%run download_from_MAST.py --mission='Kepler' --target='K03034' --primary_dir='/Users/research/projects/alderaan/'\n",
    "%run download_from_MAST.py --mission='Kepler' --target='K00273' --primary_dir='/Users/research/projects/alderaan/'"
   ]
  },
  {
   "cell_type": "code",
   "execution_count": 3,
   "metadata": {},
   "outputs": [
    {
     "name": "stdout",
     "output_type": "stream",
     "text": [
      "\n",
      "KOI-7319\n",
      "downloading short cadence data from MAST\n"
     ]
    },
    {
     "name": "stderr",
     "output_type": "stream",
     "text": [
      "/Users/research/anaconda3/lib/python3.7/site-packages/lightkurve/search.py:284: LightkurveWarning: Cannot download from an empty search result.\n",
      "  LightkurveWarning)\n"
     ]
    },
    {
     "name": "stdout",
     "output_type": "stream",
     "text": [
      "downloading long cadence data from MAST\n",
      "\n",
      "KOI-5321\n",
      "downloading short cadence data from MAST\n"
     ]
    },
    {
     "name": "stderr",
     "output_type": "stream",
     "text": [
      "/Users/research/anaconda3/lib/python3.7/site-packages/lightkurve/search.py:284: LightkurveWarning: Cannot download from an empty search result.\n",
      "  LightkurveWarning)\n"
     ]
    },
    {
     "name": "stdout",
     "output_type": "stream",
     "text": [
      "downloading long cadence data from MAST\n",
      "\n",
      "KOI-1570\n",
      "downloading short cadence data from MAST\n"
     ]
    },
    {
     "name": "stderr",
     "output_type": "stream",
     "text": [
      "/Users/research/anaconda3/lib/python3.7/site-packages/lightkurve/search.py:284: LightkurveWarning: Cannot download from an empty search result.\n",
      "  LightkurveWarning)\n"
     ]
    },
    {
     "name": "stdout",
     "output_type": "stream",
     "text": [
      "downloading long cadence data from MAST\n",
      "\n",
      "KOI-2835\n",
      "downloading short cadence data from MAST\n"
     ]
    },
    {
     "name": "stderr",
     "output_type": "stream",
     "text": [
      "/Users/research/anaconda3/lib/python3.7/site-packages/lightkurve/search.py:284: LightkurveWarning: Cannot download from an empty search result.\n",
      "  LightkurveWarning)\n"
     ]
    },
    {
     "name": "stdout",
     "output_type": "stream",
     "text": [
      "downloading long cadence data from MAST\n",
      "\n",
      "KOI-4978\n",
      "downloading short cadence data from MAST\n"
     ]
    },
    {
     "name": "stderr",
     "output_type": "stream",
     "text": [
      "/Users/research/anaconda3/lib/python3.7/site-packages/lightkurve/search.py:284: LightkurveWarning: Cannot download from an empty search result.\n",
      "  LightkurveWarning)\n"
     ]
    },
    {
     "name": "stdout",
     "output_type": "stream",
     "text": [
      "downloading long cadence data from MAST\n",
      "\n",
      "KOI-2992\n",
      "downloading short cadence data from MAST\n"
     ]
    },
    {
     "name": "stderr",
     "output_type": "stream",
     "text": [
      "/Users/research/anaconda3/lib/python3.7/site-packages/lightkurve/search.py:284: LightkurveWarning: Cannot download from an empty search result.\n",
      "  LightkurveWarning)\n"
     ]
    },
    {
     "name": "stdout",
     "output_type": "stream",
     "text": [
      "downloading long cadence data from MAST\n",
      "\n",
      "KOI-587\n",
      "downloading short cadence data from MAST\n"
     ]
    },
    {
     "name": "stderr",
     "output_type": "stream",
     "text": [
      "/Users/research/anaconda3/lib/python3.7/site-packages/lightkurve/search.py:284: LightkurveWarning: Cannot download from an empty search result.\n",
      "  LightkurveWarning)\n"
     ]
    },
    {
     "name": "stdout",
     "output_type": "stream",
     "text": [
      "downloading long cadence data from MAST\n",
      "\n",
      "KOI-3478\n",
      "downloading short cadence data from MAST\n"
     ]
    },
    {
     "name": "stderr",
     "output_type": "stream",
     "text": [
      "/Users/research/anaconda3/lib/python3.7/site-packages/lightkurve/search.py:284: LightkurveWarning: Cannot download from an empty search result.\n",
      "  LightkurveWarning)\n"
     ]
    },
    {
     "name": "stdout",
     "output_type": "stream",
     "text": [
      "downloading long cadence data from MAST\n",
      "\n",
      "KOI-4617\n",
      "downloading short cadence data from MAST\n"
     ]
    },
    {
     "name": "stderr",
     "output_type": "stream",
     "text": [
      "/Users/research/anaconda3/lib/python3.7/site-packages/lightkurve/search.py:284: LightkurveWarning: Cannot download from an empty search result.\n",
      "  LightkurveWarning)\n"
     ]
    },
    {
     "name": "stdout",
     "output_type": "stream",
     "text": [
      "downloading long cadence data from MAST\n",
      "\n",
      "KOI-7327\n",
      "downloading short cadence data from MAST\n"
     ]
    },
    {
     "name": "stderr",
     "output_type": "stream",
     "text": [
      "/Users/research/anaconda3/lib/python3.7/site-packages/lightkurve/search.py:284: LightkurveWarning: Cannot download from an empty search result.\n",
      "  LightkurveWarning)\n"
     ]
    },
    {
     "name": "stdout",
     "output_type": "stream",
     "text": [
      "downloading long cadence data from MAST\n"
     ]
    }
   ],
   "source": [
    "%run download_from_MAST.py --mission='Kepler' --target='K07319' --primary_dir='/Users/research/projects/alderaan/'\n",
    "%run download_from_MAST.py --mission='Kepler' --target='K05321' --primary_dir='/Users/research/projects/alderaan/'\n",
    "%run download_from_MAST.py --mission='Kepler' --target='K01570' --primary_dir='/Users/research/projects/alderaan/'\n",
    "%run download_from_MAST.py --mission='Kepler' --target='K02835' --primary_dir='/Users/research/projects/alderaan/'\n",
    "%run download_from_MAST.py --mission='Kepler' --target='K04978' --primary_dir='/Users/research/projects/alderaan/'\n",
    "%run download_from_MAST.py --mission='Kepler' --target='K02992' --primary_dir='/Users/research/projects/alderaan/'\n",
    "%run download_from_MAST.py --mission='Kepler' --target='K00587' --primary_dir='/Users/research/projects/alderaan/'\n",
    "%run download_from_MAST.py --mission='Kepler' --target='K03478' --primary_dir='/Users/research/projects/alderaan/'\n",
    "%run download_from_MAST.py --mission='Kepler' --target='K04617' --primary_dir='/Users/research/projects/alderaan/'\n",
    "%run download_from_MAST.py --mission='Kepler' --target='K07327' --primary_dir='/Users/research/projects/alderaan/'"
   ]
  },
  {
   "cell_type": "code",
   "execution_count": 4,
   "metadata": {},
   "outputs": [
    {
     "name": "stdout",
     "output_type": "stream",
     "text": [
      "\n",
      "KOI-7510\n",
      "downloading short cadence data from MAST\n"
     ]
    },
    {
     "name": "stderr",
     "output_type": "stream",
     "text": [
      "/Users/research/anaconda3/lib/python3.7/site-packages/lightkurve/search.py:284: LightkurveWarning: Cannot download from an empty search result.\n",
      "  LightkurveWarning)\n"
     ]
    },
    {
     "name": "stdout",
     "output_type": "stream",
     "text": [
      "downloading long cadence data from MAST\n",
      "\n",
      "KOI-1508\n",
      "downloading short cadence data from MAST\n"
     ]
    },
    {
     "name": "stderr",
     "output_type": "stream",
     "text": [
      "/Users/research/anaconda3/lib/python3.7/site-packages/lightkurve/search.py:284: LightkurveWarning: Cannot download from an empty search result.\n",
      "  LightkurveWarning)\n"
     ]
    },
    {
     "name": "stdout",
     "output_type": "stream",
     "text": [
      "downloading long cadence data from MAST\n",
      "\n",
      "KOI-5098\n",
      "downloading short cadence data from MAST\n"
     ]
    },
    {
     "name": "stderr",
     "output_type": "stream",
     "text": [
      "/Users/research/anaconda3/lib/python3.7/site-packages/lightkurve/search.py:284: LightkurveWarning: Cannot download from an empty search result.\n",
      "  LightkurveWarning)\n"
     ]
    },
    {
     "name": "stdout",
     "output_type": "stream",
     "text": [
      "downloading long cadence data from MAST\n",
      "\n",
      "KOI-1852\n",
      "downloading short cadence data from MAST\n"
     ]
    },
    {
     "name": "stderr",
     "output_type": "stream",
     "text": [
      "/Users/research/anaconda3/lib/python3.7/site-packages/lightkurve/search.py:284: LightkurveWarning: Cannot download from an empty search result.\n",
      "  LightkurveWarning)\n"
     ]
    },
    {
     "name": "stdout",
     "output_type": "stream",
     "text": [
      "downloading long cadence data from MAST\n",
      "\n",
      "KOI-2407\n",
      "downloading short cadence data from MAST\n"
     ]
    },
    {
     "name": "stderr",
     "output_type": "stream",
     "text": [
      "/Users/research/anaconda3/lib/python3.7/site-packages/lightkurve/search.py:284: LightkurveWarning: Cannot download from an empty search result.\n",
      "  LightkurveWarning)\n"
     ]
    },
    {
     "name": "stdout",
     "output_type": "stream",
     "text": [
      "downloading long cadence data from MAST\n",
      "\n",
      "KOI-1842\n",
      "downloading short cadence data from MAST\n"
     ]
    },
    {
     "name": "stderr",
     "output_type": "stream",
     "text": [
      "/Users/research/anaconda3/lib/python3.7/site-packages/lightkurve/search.py:284: LightkurveWarning: Cannot download from an empty search result.\n",
      "  LightkurveWarning)\n"
     ]
    },
    {
     "name": "stdout",
     "output_type": "stream",
     "text": [
      "downloading long cadence data from MAST\n",
      "\n",
      "KOI-5817\n",
      "downloading short cadence data from MAST\n"
     ]
    },
    {
     "name": "stderr",
     "output_type": "stream",
     "text": [
      "/Users/research/anaconda3/lib/python3.7/site-packages/lightkurve/search.py:284: LightkurveWarning: Cannot download from an empty search result.\n",
      "  LightkurveWarning)\n"
     ]
    },
    {
     "name": "stdout",
     "output_type": "stream",
     "text": [
      "downloading long cadence data from MAST\n",
      "\n",
      "KOI-854\n",
      "downloading short cadence data from MAST\n",
      "downloading long cadence data from MAST\n",
      "\n",
      "KOI-5964\n",
      "downloading short cadence data from MAST\n"
     ]
    },
    {
     "name": "stderr",
     "output_type": "stream",
     "text": [
      "/Users/research/anaconda3/lib/python3.7/site-packages/lightkurve/search.py:284: LightkurveWarning: Cannot download from an empty search result.\n",
      "  LightkurveWarning)\n"
     ]
    },
    {
     "name": "stdout",
     "output_type": "stream",
     "text": [
      "downloading long cadence data from MAST\n",
      "\n",
      "KOI-1245\n",
      "downloading short cadence data from MAST\n"
     ]
    },
    {
     "name": "stderr",
     "output_type": "stream",
     "text": [
      "/Users/research/anaconda3/lib/python3.7/site-packages/lightkurve/search.py:284: LightkurveWarning: Cannot download from an empty search result.\n",
      "  LightkurveWarning)\n"
     ]
    },
    {
     "name": "stdout",
     "output_type": "stream",
     "text": [
      "downloading long cadence data from MAST\n"
     ]
    }
   ],
   "source": [
    "%run download_from_MAST.py --mission='Kepler' --target='K07510' --primary_dir='/Users/research/projects/alderaan/'\n",
    "%run download_from_MAST.py --mission='Kepler' --target='K01508' --primary_dir='/Users/research/projects/alderaan/'\n",
    "%run download_from_MAST.py --mission='Kepler' --target='K05098' --primary_dir='/Users/research/projects/alderaan/'\n",
    "%run download_from_MAST.py --mission='Kepler' --target='K01852' --primary_dir='/Users/research/projects/alderaan/'\n",
    "%run download_from_MAST.py --mission='Kepler' --target='K02407' --primary_dir='/Users/research/projects/alderaan/'\n",
    "%run download_from_MAST.py --mission='Kepler' --target='K01842' --primary_dir='/Users/research/projects/alderaan/'\n",
    "%run download_from_MAST.py --mission='Kepler' --target='K05817' --primary_dir='/Users/research/projects/alderaan/'\n",
    "%run download_from_MAST.py --mission='Kepler' --target='K00854' --primary_dir='/Users/research/projects/alderaan/'\n",
    "%run download_from_MAST.py --mission='Kepler' --target='K05964' --primary_dir='/Users/research/projects/alderaan/'\n",
    "%run download_from_MAST.py --mission='Kepler' --target='K01245' --primary_dir='/Users/research/projects/alderaan/'"
   ]
  },
  {
   "cell_type": "code",
   "execution_count": null,
   "metadata": {},
   "outputs": [],
   "source": []
  }
 ],
 "metadata": {
  "kernelspec": {
   "display_name": "Python 3",
   "language": "python",
   "name": "python3"
  },
  "language_info": {
   "codemirror_mode": {
    "name": "ipython",
    "version": 3
   },
   "file_extension": ".py",
   "mimetype": "text/x-python",
   "name": "python",
   "nbconvert_exporter": "python",
   "pygments_lexer": "ipython3",
   "version": "3.7.3"
  }
 },
 "nbformat": 4,
 "nbformat_minor": 2
}
