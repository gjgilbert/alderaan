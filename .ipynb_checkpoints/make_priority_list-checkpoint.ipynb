{
 "cells": [
  {
   "cell_type": "markdown",
   "metadata": {},
   "source": [
    "# Make priority list\n",
    "#### This script queries MAST to count how many short/long cadence quarters exist for each target\n",
    "#### Estimates fitting runtime based on volume of photometric data, number of planets, and number of transits"
   ]
  },
  {
   "cell_type": "code",
   "execution_count": null,
   "metadata": {},
   "outputs": [],
   "source": [
    "import numpy as np\n",
    "import csv\n",
    "import matplotlib.pyplot as plt\n",
    "import lightkurve as lk\n",
    "import alderaan.io as io"
   ]
  },
  {
   "cell_type": "code",
   "execution_count": null,
   "metadata": {},
   "outputs": [],
   "source": [
    "MAINPATH = '/Users/research/projects/alderaan/'\n",
    "CSV_FILE = MAINPATH + 'Catalogs/cumulative_koi_catalog.csv'"
   ]
  },
  {
   "cell_type": "markdown",
   "metadata": {},
   "source": [
    "# Read in Catalog data"
   ]
  },
  {
   "cell_type": "code",
   "execution_count": null,
   "metadata": {},
   "outputs": [],
   "source": [
    "# Read in the data from csv file\n",
    "print('Reading in data from csv file')\n",
    "\n",
    "# read in a csv file containing info on targets\n",
    "csv_keys, csv_values = io.read_csv_file(CSV_FILE)\n",
    "\n",
    "# put these csv data into a dictionary\n",
    "target_dict = {}\n",
    "for k in csv_keys: \n",
    "    target_dict[k] = io.get_csv_data(k, csv_keys, csv_values)\n",
    "    \n",
    "    \n",
    "for k in target_dict.keys():\n",
    "    target_dict[k] = np.array(target_dict[k])"
   ]
  },
  {
   "cell_type": "markdown",
   "metadata": {},
   "source": [
    "# Count SC/LC quarters for each KOI"
   ]
  },
  {
   "cell_type": "code",
   "execution_count": null,
   "metadata": {},
   "outputs": [],
   "source": [
    "MAST_targets = []\n",
    "\n",
    "for i, koi in enumerate(np.unique(target_dict[\"koi_id\"])):\n",
    "    MAST_targets.append(\"KOI-\" + str(int(koi[1:])))"
   ]
  },
  {
   "cell_type": "code",
   "execution_count": null,
   "metadata": {},
   "outputs": [],
   "source": [
    "lcq_count = []\n",
    "scq_count = []\n",
    "\n",
    "for i, target in enumerate(MAST_targets):\n",
    "    print(i, target)\n",
    "\n",
    "    # long cadence\n",
    "    lc_search = lk.search_lightcurvefile(target, cadence='long', mission=\"Kepler\")\n",
    "    lc_data = lc_search.table.as_array(names=[\"description\"]).data\n",
    "\n",
    "    lc_quarters = []\n",
    "    for i, lcd in enumerate(lc_data):\n",
    "        lc_quarters.append(int(lcd[0][33:]))\n",
    "\n",
    "    lc_quarters = np.unique(lc_quarters)\n",
    "\n",
    "\n",
    "    # short cadence\n",
    "    sc_search = lk.search_lightcurvefile(target, cadence='short', mission=\"Kepler\")\n",
    "    sc_data = sc_search.table.as_array(names=[\"description\"]).data\n",
    "\n",
    "    sc_quarters = []\n",
    "    for i, scd in enumerate(sc_data):\n",
    "        sc_quarters.append(int(scd[0][34:]))\n",
    "\n",
    "    sc_quarters = np.unique(sc_quarters)\n",
    "\n",
    "\n",
    "    # make sure not to double count\n",
    "    lc_quarters = lc_quarters[~np.isin(lc_quarters, sc_quarters)]\n",
    "    \n",
    "    \n",
    "    # store number of SC/LC quarters found\n",
    "    lcq_count.append(len(lc_quarters))\n",
    "    scq_count.append(len(sc_quarters))\n",
    "    \n",
    "    \n",
    "lcq_count = np.array(lcq_count, dtype=\"int\")\n",
    "scq_count = np.array(scq_count, dtype=\"int\")"
   ]
  },
  {
   "cell_type": "code",
   "execution_count": null,
   "metadata": {},
   "outputs": [],
   "source": [
    "num_planets = []\n",
    "runtime_score = []\n",
    "\n",
    "for i, koi in enumerate(np.unique(target_dict[\"koi_id\"])):\n",
    "    nq = lcq_count[i] + scq_count[i]\n",
    "    \n",
    "    use = target_dict[\"koi_id\"] == koi\n",
    "    periods = np.array(target_dict[\"period\"][use], dtype=\"float\")\n",
    "    \n",
    "    \n",
    "    approx_transit_count = 0\n",
    "    for npl, per in enumerate(periods):\n",
    "        approx_transit_count += int(1600/per * nq/18)\n",
    "        \n",
    "        \n",
    "    if nq > 0:\n",
    "        runtime_score.append(int(approx_transit_count*((lcq_count[i]/nq) + 30*(scq_count[i]/nq))))\n",
    "    else:\n",
    "        runtime_score.append(0)\n",
    "        \n",
    "    num_planets.append(len(periods))"
   ]
  },
  {
   "cell_type": "code",
   "execution_count": null,
   "metadata": {},
   "outputs": [],
   "source": [
    "priority = {}\n",
    "\n",
    "priority[\"koi_id\"] = np.unique(target_dict[\"koi_id\"])\n",
    "priority[\"npl\"]    = np.array(num_planets, dtype=\"int\")\n",
    "priority[\"lcq_count\"] = np.array(lcq_count, dtype=\"int\")\n",
    "priority[\"scq_count\"] = np.array(scq_count, dtype=\"int\")\n",
    "priority[\"runtime_score\"] = np.array(runtime_score, dtype=\"int\")\n",
    "priority[\"bad_download\"] = np.array(priority[\"runtime_score\"] == 0, dtype=\"int\")"
   ]
  },
  {
   "cell_type": "code",
   "execution_count": null,
   "metadata": {},
   "outputs": [],
   "source": [
    "WRITENEW = True\n",
    "if WRITENEW:\n",
    "    filepath = MAINPATH + 'Catalogs/priority_list.csv'\n",
    "\n",
    "    with open(filepath, \"w\") as outfile:\n",
    "        writer = csv.writer(outfile)\n",
    "        writer.writerow(priority.keys())\n",
    "        writer.writerows(zip(*priority.values()))"
   ]
  },
  {
   "cell_type": "code",
   "execution_count": null,
   "metadata": {},
   "outputs": [],
   "source": []
  },
  {
   "cell_type": "code",
   "execution_count": null,
   "metadata": {},
   "outputs": [],
   "source": []
  },
  {
   "cell_type": "code",
   "execution_count": null,
   "metadata": {},
   "outputs": [],
   "source": []
  }
 ],
 "metadata": {
  "kernelspec": {
   "display_name": "Python 3",
   "language": "python",
   "name": "python3"
  },
  "language_info": {
   "codemirror_mode": {
    "name": "ipython",
    "version": 3
   },
   "file_extension": ".py",
   "mimetype": "text/x-python",
   "name": "python",
   "nbconvert_exporter": "python",
   "pygments_lexer": "ipython3",
   "version": "3.7.3"
  }
 },
 "nbformat": 4,
 "nbformat_minor": 2
}
