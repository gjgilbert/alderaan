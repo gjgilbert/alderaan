{
 "cells": [
  {
   "cell_type": "markdown",
   "metadata": {},
   "source": [
    "This script downloads lightcurves for a single target from the MAST archive using Lightkurve. To use, specify the KOI identifier (e.g. 'K00137') and a directory (PRIMARY_DIR) to place the downloaded fits files into. Lightkurve creates a file structure based on each object's KIC identifier. These files can then be read back in for detrending and modeling in other scripts. This two-step procedure is necessary because the University of Chicago Midway-RCC server does not allow connections to the internet on compute nodes."
   ]
  },
  {
   "cell_type": "code",
   "execution_count": null,
   "metadata": {},
   "outputs": [],
   "source": [
    "import numpy as np\n",
    "import lightkurve as lk\n",
    "import argparse\n",
    "import warnings"
   ]
  },
  {
   "cell_type": "markdown",
   "metadata": {},
   "source": [
    "# Manually set I/O parameters"
   ]
  },
  {
   "cell_type": "code",
   "execution_count": null,
   "metadata": {},
   "outputs": [],
   "source": [
    "# select mission, target, and paths\n",
    "MISSION = \"Kepler\"\n",
    "TARGET  = \"K01681\"\n",
    "PRIMARY_DIR = '/Users/research/projects/alderaan/'"
   ]
  },
  {
   "cell_type": "code",
   "execution_count": null,
   "metadata": {},
   "outputs": [],
   "source": [
    "# here's where we parse the inputs\n",
    "try:\n",
    "    parser = argparse.ArgumentParser(description=\"Inputs for ALDERAAN transit fiting pipeline\")\n",
    "    parser.add_argument(\"--mission\", default=None, type=str, required=True, \\\n",
    "                        help=\"Mission name\")\n",
    "    parser.add_argument(\"--target\", default=None, type=str, required=True, \\\n",
    "                        help=\"Target name; see ALDERAAN documentation for acceptable formats\")\n",
    "    parser.add_argument(\"--primary_dir\", default=None, type=str, required=True, \\\n",
    "                        help=\"Primary directory path for accessing lightcurve data and saving outputs\")\n",
    "\n",
    "    args = parser.parse_args()\n",
    "    MISSION     = args.mission\n",
    "    TARGET      = args.target\n",
    "    PRIMARY_DIR = args.primary_dir\n",
    "    \n",
    "except:\n",
    "    pass"
   ]
  },
  {
   "cell_type": "code",
   "execution_count": null,
   "metadata": {},
   "outputs": [],
   "source": [
    "# directory in which to place MAST downloads\n",
    "DOWNLOAD_DIR = PRIMARY_DIR + 'MAST_downloads/'\n",
    "\n",
    "# make a target name lightkurve and MAST can understand\n",
    "MAST_TARGET = 'KOI-'+ str(int(TARGET[1:]))\n",
    "\n",
    "\n",
    "print(\"\")\n",
    "print(MAST_TARGET)"
   ]
  },
  {
   "cell_type": "markdown",
   "metadata": {},
   "source": [
    "# Download the data from MAST"
   ]
  },
  {
   "cell_type": "code",
   "execution_count": null,
   "metadata": {},
   "outputs": [],
   "source": [
    "# download the SHORT CADENCE data -- this creates a LightCurveCollection of KeplerLightCurves\n",
    "print('downloading short cadence data from MAST')\n",
    "\n",
    "sc_searchresult = lk.search_lightcurve(MAST_TARGET, cadence=\"short\", mission=\"Kepler\")\n",
    "\n",
    "if len(sc_searchresult) > 0:\n",
    "    sc_rawdata = sc_searchresult.download_all(download_dir=DOWNLOAD_DIR)\n",
    "else:\n",
    "    print(\"...no short cadence data found\")\n",
    "    sc_rawdata = []"
   ]
  },
  {
   "cell_type": "code",
   "execution_count": null,
   "metadata": {},
   "outputs": [],
   "source": [
    "kic_ids = []\n",
    "sc_quarters = []\n",
    "\n",
    "for i, scrd in enumerate(sc_rawdata):\n",
    "    kic_ids.append(scrd.meta[\"KEPLERID\"])\n",
    "    sc_quarters.append(scrd.meta[\"QUARTER\"])\n",
    "    \n",
    "    \n",
    "# check that all lightcurves are from the same object\n",
    "if len(kic_ids) > 0:\n",
    "    if np.sum(np.array(kic_ids) != kic_ids[0]):\n",
    "        raise ValueError(\"Search results returned data from multiple objects\")\n",
    "        \n",
    "\n",
    "# here's the list of quarters w/ short cadence data\n",
    "sc_quarters = np.sort(np.unique(sc_quarters))\n",
    "\n",
    "\n",
    "# make a list of quarters where short cadence flux is unavailable\n",
    "qlist = np.arange(18, dtype=\"int\")\n",
    "keep  = ~np.isin(qlist, np.unique(sc_quarters))\n",
    "lc_quarters = list(qlist[keep])"
   ]
  },
  {
   "cell_type": "code",
   "execution_count": null,
   "metadata": {},
   "outputs": [],
   "source": [
    "# download the LONG CADENCE data -- this creates a LightCurveCollection of KeplerLightCurves\n",
    "print('downloading long cadence data from MAST')\n",
    "\n",
    "lc_searchresult = lk.search_lightcurve(MAST_TARGET, cadence=\"long\", mission=\"Kepler\", quarter=lc_quarters)\n",
    "\n",
    "if len(lc_searchresult) > 0:\n",
    "    lc_rawdata = lc_searchresult.download_all(download_dir=DOWNLOAD_DIR)\n",
    "else:\n",
    "    print(\"...no long cadence data found\")\n",
    "    lc_rawdata = [] "
   ]
  },
  {
   "cell_type": "code",
   "execution_count": null,
   "metadata": {},
   "outputs": [],
   "source": [
    "kic_ids = []\n",
    "\n",
    "for i, lcrd in enumerate(lc_rawdata):\n",
    "    kic_ids.append(lcrd.meta[\"KEPLERID\"])\n",
    "    \n",
    "    \n",
    "# check that all lightcurves are from the same object\n",
    "if len(kic_ids) > 0:\n",
    "    if np.sum(np.array(kic_ids) != kic_ids[0]):\n",
    "        raise ValueError(\"Search results returned data from multiple objects\")"
   ]
  },
  {
   "cell_type": "code",
   "execution_count": null,
   "metadata": {},
   "outputs": [],
   "source": []
  }
 ],
 "metadata": {
  "kernelspec": {
   "display_name": "Python 3",
   "language": "python",
   "name": "python3"
  },
  "language_info": {
   "codemirror_mode": {
    "name": "ipython",
    "version": 3
   },
   "file_extension": ".py",
   "mimetype": "text/x-python",
   "name": "python",
   "nbconvert_exporter": "python",
   "pygments_lexer": "ipython3",
   "version": "3.7.3"
  }
 },
 "nbformat": 4,
 "nbformat_minor": 2
}
