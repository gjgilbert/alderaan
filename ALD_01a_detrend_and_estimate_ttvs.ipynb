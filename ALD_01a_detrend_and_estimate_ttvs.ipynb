{
 "cells": [
  {
   "cell_type": "markdown",
   "metadata": {},
   "source": [
    "# Detrend and estimate TTVs"
   ]
  },
  {
   "cell_type": "code",
   "execution_count": 1,
   "metadata": {
    "scrolled": true
   },
   "outputs": [],
   "source": [
    "import numpy as np\n",
    "import matplotlib.pyplot as plt\n",
    "\n",
    "import numpy.polynomial.polynomial as poly\n",
    "import scipy.optimize as op\n",
    "import scipy.signal as sig\n",
    "from   scipy import stats\n",
    "from   scipy import fftpack\n",
    "from   scipy import ndimage\n",
    "from   scipy.interpolate import UnivariateSpline\n",
    "from   scipy.interpolate import interp1d\n",
    "import astropy\n",
    "from   astropy.io import fits as pyfits\n",
    "from   astropy.timeseries import LombScargle\n",
    "from   sklearn.cluster import KMeans\n",
    "\n",
    "import csv\n",
    "import sys\n",
    "import os\n",
    "import glob\n",
    "import warnings\n",
    "import argparse\n",
    "import json\n",
    "import importlib as imp\n",
    "from   copy import deepcopy\n",
    "from   timeit import default_timer as timer\n",
    "\n",
    "import lightkurve as lk\n",
    "import pymc3 as pm\n",
    "import pymc3_ext as pmx\n",
    "import exoplanet as exo\n",
    "import aesara_theano_fallback.tensor as T\n",
    "from   aesara_theano_fallback import aesara as theano\n",
    "from   celerite2.theano import GaussianProcess\n",
    "from   celerite2.theano import terms as GPterms\n",
    "\n",
    "from alderaan.constants import *\n",
    "from alderaan.utils import *\n",
    "from alderaan.Planet import *\n",
    "from alderaan.LiteCurve import *\n",
    "import alderaan.io as io\n",
    "import alderaan.detrend as detrend\n",
    "import alderaan.noise as noise\n",
    "\n",
    "\n",
    "# flush buffer to avoid mixed outputs from progressbar\n",
    "sys.stdout.flush()\n",
    "\n",
    "# turn off FutureWarnings\n",
    "warnings.filterwarnings('ignore', category=FutureWarning)\n",
    "\n",
    "# start program timer\n",
    "global_start_time = timer()"
   ]
  },
  {
   "cell_type": "markdown",
   "metadata": {},
   "source": [
    "# Manually set I/O parameters\n",
    "#### User should manually set MISSION, TARGET, PRIMARY_DIR,  and CSV_FILE\n",
    "#### Note that if using DR25, you will need to manually correct epochs from BJD to BJKD with an offset of 2454833.0 days; the cumulative exoplanet archive catalog has already converted epochs to BJKD"
   ]
  },
  {
   "cell_type": "code",
   "execution_count": 2,
   "metadata": {},
   "outputs": [],
   "source": [
    "# select mission, target, and paths\n",
    "MISSION = \"Kepler\"\n",
    "TARGET  = \"K00148\"\n",
    "PRIMARY_DIR  = '/Users/research/projects/alderaan/'\n",
    "\n",
    "if MISSION == \"Kepler\":\n",
    "    CSV_FILE = PRIMARY_DIR + \"Catalogs/cumulative_koi_catalog.csv\"\n",
    "    \n",
    "if MISSION == \"Simulated\":\n",
    "    CSV_FILE = PRIMARY_DIR + \"Catalogs/simulated_catalog_eccentric.csv\""
   ]
  },
  {
   "cell_type": "code",
   "execution_count": 3,
   "metadata": {
    "scrolled": true
   },
   "outputs": [
    {
     "name": "stderr",
     "output_type": "stream",
     "text": [
      "usage: ipykernel_launcher.py [-h] --mission MISSION --target TARGET\n",
      "                             --primary_dir PRIMARY_DIR --csv_file CSV_FILE\n",
      "ipykernel_launcher.py: error: the following arguments are required: --mission, --target, --primary_dir, --csv_file\n"
     ]
    }
   ],
   "source": [
    "# here's where we parse the inputs\n",
    "try:\n",
    "    parser = argparse.ArgumentParser(description=\"Inputs for ALDERAAN transit fiting pipeline\")\n",
    "    parser.add_argument(\"--mission\", default=None, type=str, required=True, \\\n",
    "                        help=\"Mission name\")\n",
    "    parser.add_argument(\"--target\", default=None, type=str, required=True, \\\n",
    "                        help=\"Target name; see ALDERAAN documentation for acceptable formats\")\n",
    "    parser.add_argument(\"--primary_dir\", default=None, type=str, required=True, \\\n",
    "                        help=\"Primary directory path for accessing lightcurve data and saving outputs\")\n",
    "    parser.add_argument(\"--csv_file\", default=None, type=str, required=True, \\\n",
    "                        help=\"Path to .csv file containing input planetary parameters\")\n",
    "\n",
    "\n",
    "    args = parser.parse_args()\n",
    "    MISSION      = args.mission\n",
    "    TARGET       = args.target\n",
    "    PRIMARY_DIR  = args.primary_dir\n",
    "    CSV_FILE     = args.csv_file    \n",
    "    \n",
    "except:\n",
    "    pass"
   ]
  },
  {
   "cell_type": "markdown",
   "metadata": {},
   "source": [
    "# Make sure the necessary paths exist"
   ]
  },
  {
   "cell_type": "code",
   "execution_count": 4,
   "metadata": {
    "scrolled": true
   },
   "outputs": [],
   "source": [
    "# directory in which to find lightcurve data\n",
    "if MISSION == 'Kepler': DOWNLOAD_DIR = PRIMARY_DIR + 'MAST_downloads/'\n",
    "if MISSION == 'Simulated': DOWNLOAD_DIR = PRIMARY_DIR + 'Simulations/'\n",
    "\n",
    "# directories in which to place pipeline outputs\n",
    "FIGURE_DIR    = PRIMARY_DIR + 'Figures/' + TARGET + '/'\n",
    "TRACE_DIR     = PRIMARY_DIR + 'Traces/' + TARGET + '/'\n",
    "QUICK_TTV_DIR = PRIMARY_DIR + 'QuickTTVs/' + TARGET + '/'\n",
    "DLC_DIR       = PRIMARY_DIR + 'Detrended_lightcurves/' + TARGET + '/'\n",
    "NOISE_DIR     = PRIMARY_DIR + 'Noise_models/' + TARGET + '/'\n",
    "\n",
    "\n",
    "# check if all the paths exist and create them if not\n",
    "if os.path.exists(FIGURE_DIR) == False:\n",
    "    os.mkdir(FIGURE_DIR)\n",
    "    \n",
    "if os.path.exists(TRACE_DIR) == False:\n",
    "    os.mkdir(TRACE_DIR)\n",
    "    \n",
    "if os.path.exists(QUICK_TTV_DIR) == False:\n",
    "    os.mkdir(QUICK_TTV_DIR)\n",
    "    \n",
    "if os.path.exists(DLC_DIR) == False:\n",
    "    os.mkdir(DLC_DIR)\n",
    "    \n",
    "if os.path.exists(NOISE_DIR) == False:\n",
    "    os.mkdir(NOISE_DIR)"
   ]
  },
  {
   "cell_type": "markdown",
   "metadata": {},
   "source": [
    "# Read in planet and stellar parameters"
   ]
  },
  {
   "cell_type": "code",
   "execution_count": 5,
   "metadata": {
    "scrolled": true
   },
   "outputs": [
    {
     "name": "stdout",
     "output_type": "stream",
     "text": [
      "Reading in data from csv file\n"
     ]
    }
   ],
   "source": [
    "# Read in the data from csv file\n",
    "print('Reading in data from csv file')\n",
    "\n",
    "# read in a csv file containing info on targets\n",
    "csv_keys, csv_values = io.read_csv_file(CSV_FILE)\n",
    "\n",
    "# put these csv data into a dictionary\n",
    "target_dict = {}\n",
    "for k in csv_keys: \n",
    "    target_dict[k] = io.get_csv_data(k, csv_keys, csv_values)\n",
    "\n",
    "    \n",
    "if MISSION == 'Kepler':\n",
    "    KOI_ID = TARGET\n",
    "    \n",
    "elif MISSION == 'Simulated':\n",
    "    KOI_ID = \"K\" + TARGET[1:]\n",
    "\n",
    "else:\n",
    "    raise ValueError(\"MISSION must be 'Kepler' or 'Simulated'\")\n",
    "    \n",
    "    \n",
    "# pull relevant quantities and establish GLOBAL variables\n",
    "use = np.array(target_dict['koi_id']) == KOI_ID\n",
    "\n",
    "KIC = np.array(target_dict['kic_id'], dtype='int')[use]\n",
    "NPL = np.array(target_dict['npl'], dtype='int')[use]\n",
    "\n",
    "U1 = np.array(target_dict['limbdark_1'], dtype='float')[use]\n",
    "U2 = np.array(target_dict['limbdark_2'], dtype='float')[use]\n",
    "\n",
    "PERIODS = np.array(target_dict['period'], dtype='float')[use]\n",
    "EPOCHS  = np.array(target_dict['epoch'],  dtype='float')[use]\n",
    "DEPTHS  = np.array(target_dict['depth'], dtype='float')[use]*1e-6          # [ppm] --> []\n",
    "DURS    = np.array(target_dict['duration'], dtype='float')[use]/24         # [hrs] --> [days]\n",
    "IMPACTS = np.array(target_dict['impact'], dtype='float')[use]"
   ]
  },
  {
   "cell_type": "code",
   "execution_count": 6,
   "metadata": {
    "scrolled": true
   },
   "outputs": [],
   "source": [
    "# do some consistency checks\n",
    "if all(k == KIC[0] for k in KIC): KIC = KIC[0]\n",
    "else: raise ValueError('There are inconsistencies with KIC in the csv input file')\n",
    "\n",
    "if all(n == NPL[0] for n in NPL): NPL = NPL[0]\n",
    "else: raise ValueError('There are inconsistencies with NPL in the csv input file')\n",
    "\n",
    "if all(u == U1[0] for u in U1): U1 = U1[0]\n",
    "else: raise ValueError('There are inconsistencies with U1 in the csv input file')\n",
    "\n",
    "if all(u == U2[0] for u in U2): U2 = U2[0]\n",
    "else: raise ValueError('There are inconsistencies with U2 in the csv input file')"
   ]
  },
  {
   "cell_type": "markdown",
   "metadata": {},
   "source": [
    "# Read in pre-downloaded lightcurve data\n",
    "#### Kepler data can be retrieved by running the script \"download_from_MAST.py\"\n",
    "#### Simulated data can be produced by running the script \"simulate_lightcurve.py\""
   ]
  },
  {
   "cell_type": "code",
   "execution_count": 7,
   "metadata": {},
   "outputs": [],
   "source": [
    "# short cadence\n",
    "try:\n",
    "    if MISSION == 'Kepler':\n",
    "        sc_path  = glob.glob(DOWNLOAD_DIR + 'mastDownload/Kepler/kplr' + '{0:09d}'.format(KIC) + '*_sc*/')[0]\n",
    "        sc_files = glob.glob(sc_path + '*')\n",
    "\n",
    "        sc_rawdata_list = []\n",
    "        for i, scf in enumerate(sc_files):\n",
    "            sc_rawdata_list.append(lk.read(sc_files[i]))\n",
    "\n",
    "        sc_raw_collection = lk.LightCurveCollection(sc_rawdata_list)\n",
    "        sc_data = detrend.cleanup_lkfc(sc_raw_collection, KIC)\n",
    "\n",
    "\n",
    "    elif MISSION == 'Simulated':\n",
    "        sc_path = DOWNLOAD_DIR + 'Lightcurves/Kepler/simkplr' + '{0:09d}'.format(KIC) + '_sc/'\n",
    "        sc_files = glob.glob(sc_path + '*')\n",
    "\n",
    "        sc_rawdata_list = []\n",
    "        for i, scf in enumerate(sc_files):\n",
    "            sc_rawdata_list.append(io.load_sim_fits(scf))\n",
    "\n",
    "        quarters = []\n",
    "        for i, scrd in enumerate(sc_rawdata_list):\n",
    "            quarters.append(scrd.quarter)\n",
    "\n",
    "        order = np.argsort(quarters)\n",
    "        sc_rawdata_list = [sc_rawdata_list[j] for j in order]\n",
    "\n",
    "        sc_raw_collection = lk.LightCurveCollection(sc_rawdata_list)\n",
    "        sc_data = detrend.cleanup_lkfc(sc_raw_collection)\n",
    "\n",
    "\n",
    "except:\n",
    "    sc_data = lk.LightCurveCollection([])\n",
    "\n",
    "    \n",
    "sc_quarters = []\n",
    "for i, scd in enumerate(sc_data):\n",
    "    sc_quarters.append(scd.quarter)"
   ]
  },
  {
   "cell_type": "code",
   "execution_count": 8,
   "metadata": {
    "scrolled": true
   },
   "outputs": [],
   "source": [
    "# long cadence\n",
    "try:\n",
    "    if MISSION == 'Kepler':\n",
    "        lc_path  = glob.glob(DOWNLOAD_DIR + 'mastDownload/Kepler/kplr' + '{0:09d}'.format(KIC) + '*_lc*/')[0]\n",
    "        lc_files = glob.glob(lc_path + '*')\n",
    "\n",
    "        lc_rawdata_list = []\n",
    "        for i, lcf in enumerate(lc_files):\n",
    "            lkread = lk.read(lc_files[i])\n",
    "\n",
    "            if ~np.isin(lkread.quarter, sc_quarters):\n",
    "                lc_rawdata_list.append(lkread)\n",
    "\n",
    "        lc_raw_collection = lk.LightCurveCollection(lc_rawdata_list)\n",
    "        lc_data = detrend.cleanup_lkfc(lc_raw_collection, KIC)\n",
    "\n",
    "\n",
    "    elif MISSION == 'Simulated':\n",
    "        lc_path = DOWNLOAD_DIR + 'Lightcurves/Kepler/simkplr' + '{0:09d}'.format(KIC) + '_lc/'\n",
    "        lc_files = glob.glob(lc_path + '*')\n",
    "\n",
    "        lc_rawdata_list = []\n",
    "        for i, lcf in enumerate(lc_files):\n",
    "            lc_rawdata_list.append(io.load_sim_fits(lcf))\n",
    "\n",
    "\n",
    "        quarters = []\n",
    "        for i, lcrd in enumerate(lc_rawdata_list):\n",
    "            quarters.append(lcrd.quarter)\n",
    "\n",
    "        order = np.argsort(quarters)\n",
    "        lc_rawdata_list = [lc_rawdata_list[j] for j in order]\n",
    "\n",
    "        lc_raw_collection = lk.LightCurveCollection(lc_rawdata_list)\n",
    "        lc_data = detrend.cleanup_lkfc(lc_raw_collection, KIC)\n",
    "\n",
    "\n",
    "except:\n",
    "    lc_data = lk.LightCurveCollection([])\n",
    "\n",
    "    \n",
    "lc_quarters = []\n",
    "for i, lcd in enumerate(lc_data):\n",
    "    lc_quarters.append(lcd.quarter)"
   ]
  },
  {
   "cell_type": "markdown",
   "metadata": {},
   "source": [
    "# Convert lk.LightCurve to LiteCurve"
   ]
  },
  {
   "cell_type": "code",
   "execution_count": 9,
   "metadata": {},
   "outputs": [],
   "source": [
    "def LightKurve_to_LiteCurve(lklc):\n",
    "    return LiteCurve(time  = np.array(lklc.time.value, dtype=\"float\"),\n",
    "                     flux  = np.array(lklc.flux.value, dtype=\"float\"),\n",
    "                     error = np.array(lklc.flux_err.value, dtype=\"float\"),\n",
    "                     cadno = np.array(lklc.cadenceno.value, dtype=\"int\"),\n",
    "                     quarter = lklc.quarter*np.ones(len(lklc.time), dtype=\"int\"),\n",
    "                     season  = (lklc.quarter%4)*np.ones(len(lklc.time), dtype=\"int\"),\n",
    "                     channel = lklc.channel*np.ones(len(lklc.time), dtype=\"int\"),\n",
    "                     quality = lklc.quality.value\n",
    "                    )"
   ]
  },
  {
   "cell_type": "code",
   "execution_count": 10,
   "metadata": {},
   "outputs": [],
   "source": [
    "sc_lite = []\n",
    "lc_lite = []\n",
    "\n",
    "for i, scd in enumerate(sc_data):\n",
    "    sc_lite.append(LightKurve_to_LiteCurve(scd))\n",
    "    \n",
    "for i, lcd in enumerate(lc_data):\n",
    "    lc_lite.append(LightKurve_to_LiteCurve(lcd))\n",
    "    \n",
    "    \n",
    "# renaming here is an artifact of updates to my pipeline and dependencies\n",
    "# this is easier than going through and fixing all variable names\n",
    "sc_data = sc_lite\n",
    "lc_data = lc_lite"
   ]
  },
  {
   "cell_type": "markdown",
   "metadata": {},
   "source": [
    "# Determine time baseline"
   ]
  },
  {
   "cell_type": "code",
   "execution_count": 11,
   "metadata": {
    "scrolled": true
   },
   "outputs": [],
   "source": [
    "time_min = []\n",
    "time_max = []\n",
    "\n",
    "for i, scd in enumerate(sc_data):\n",
    "    time_min.append(scd.time.min())\n",
    "    time_max.append(scd.time.max())\n",
    "\n",
    "for i, lcd in enumerate(lc_data):\n",
    "    time_min.append(lcd.time.min())\n",
    "    time_max.append(lcd.time.max())\n",
    "\n",
    "TIME_START = np.min(time_min)\n",
    "TIME_END   = np.max(time_max)\n",
    "\n",
    "if TIME_START < 0:\n",
    "    raise ValueError(\"START TIME [BKJD] is negative...this will cause problems\")\n",
    "\n",
    "\n",
    "# put epochs in range (TIME_START, TIME_START + PERIOD)\n",
    "for npl in range(NPL):\n",
    "    if EPOCHS[npl] < TIME_START:\n",
    "        adj = 1 + (TIME_START - EPOCHS[npl])//PERIODS[npl]\n",
    "        EPOCHS[npl] += adj*PERIODS[npl]        \n",
    "        \n",
    "    if EPOCHS[npl] > (TIME_START + PERIODS[npl]):\n",
    "        adj = (EPOCHS[npl] - TIME_START)//PERIODS[npl]\n",
    "        EPOCHS[npl] -= adj*PERIODS[npl]"
   ]
  },
  {
   "cell_type": "markdown",
   "metadata": {},
   "source": [
    "# Initialize Planet objects"
   ]
  },
  {
   "cell_type": "code",
   "execution_count": 12,
   "metadata": {},
   "outputs": [
    {
     "name": "stdout",
     "output_type": "stream",
     "text": [
      "Initializing 3 Planet objects\n"
     ]
    }
   ],
   "source": [
    "print('Initializing %d Planet objects' %NPL)"
   ]
  },
  {
   "cell_type": "code",
   "execution_count": 13,
   "metadata": {
    "scrolled": true
   },
   "outputs": [],
   "source": [
    "planets = []\n",
    "for npl in range(NPL):\n",
    "    p = Planet()\n",
    "    \n",
    "    # put in some basic transit parameters\n",
    "    p.epoch    = EPOCHS[npl]\n",
    "    p.period   = PERIODS[npl]\n",
    "    p.depth    = DEPTHS[npl]\n",
    "    p.duration = DURS[npl]\n",
    "    p.impact   = IMPACTS[npl]\n",
    "    \n",
    "    if p.impact > 1 - np.sqrt(p.depth):\n",
    "        p.impact = (1 - np.sqrt(p.depth))**2\n",
    "        \n",
    "    # estimate transit times from linear ephemeris\n",
    "    p.tts = np.arange(p.epoch, TIME_END, p.period)\n",
    "\n",
    "    # make transit indexes\n",
    "    p.index = np.array(np.round((p.tts-p.epoch)/p.period),dtype='int')\n",
    "    \n",
    "    # add to list\n",
    "    planets.append(p)\n",
    "\n",
    "\n",
    "# put planets in order by period\n",
    "order = np.argsort(PERIODS)\n",
    "\n",
    "sorted_planets = []\n",
    "for npl in range(NPL):\n",
    "    sorted_planets.append(planets[order[npl]])\n",
    "\n",
    "planets = np.copy(sorted_planets)"
   ]
  },
  {
   "cell_type": "markdown",
   "metadata": {},
   "source": [
    "# Read in Holczer+ 2016 TTVs"
   ]
  },
  {
   "cell_type": "code",
   "execution_count": 14,
   "metadata": {},
   "outputs": [
    {
     "name": "stdout",
     "output_type": "stream",
     "text": [
      "Building initial TTV model\n"
     ]
    }
   ],
   "source": [
    "print(\"Building initial TTV model\")"
   ]
  },
  {
   "cell_type": "code",
   "execution_count": 15,
   "metadata": {
    "scrolled": true
   },
   "outputs": [],
   "source": [
    "HOLCZER_FILE = PRIMARY_DIR + \"Catalogs/holczer_2016_kepler_ttvs.txt\"\n",
    "\n",
    "if MISSION == \"Kepler\":\n",
    "    holczer_data = np.loadtxt(HOLCZER_FILE, usecols=[0,1,2,3])\n",
    "\n",
    "    holczer_inds = []\n",
    "    holczer_tts  = []\n",
    "    holczer_pers = []\n",
    "\n",
    "    for npl in range(NPL):\n",
    "        koi = int(TARGET[1:]) + 0.01*(1+npl)\n",
    "        use = np.isclose(holczer_data[:,0], koi, rtol=1e-10, atol=1e-10)\n",
    "        \n",
    "        # Holczer uses BJD -24548900; BJKD = BJD - 2454833\n",
    "        if np.sum(use) > 0:\n",
    "            holczer_inds.append(np.array(holczer_data[use,1], dtype=\"int\"))\n",
    "            holczer_tts.append(holczer_data[use,2] + holczer_data[use,3]/24/60 + 67)\n",
    "            holczer_pers.append(np.median(holczer_tts[npl][1:] - holczer_tts[npl][:-1]))\n",
    "            \n",
    "        else:\n",
    "            holczer_inds.append(None)\n",
    "            holczer_tts.append(None)\n",
    "            holczer_pers.append(np.nan)\n",
    "            \n",
    "    holczer_pers = np.asarray(holczer_pers)"
   ]
  },
  {
   "cell_type": "markdown",
   "metadata": {},
   "source": [
    "# For simulated data, initilize with true TTVs + noise\n",
    "#### Synthetic \"Holczer\" TTVs are approximated as ground truth + Student-t2 noise"
   ]
  },
  {
   "cell_type": "code",
   "execution_count": 16,
   "metadata": {},
   "outputs": [],
   "source": [
    "if MISSION == \"Simulated\":\n",
    "    holczer_inds = []\n",
    "    holczer_tts  = []\n",
    "    holczer_pers = []\n",
    "    \n",
    "    for npl, p in enumerate(planets):\n",
    "        # read in the \"ground truth\" TTVs\n",
    "        fname_in = DOWNLOAD_DIR + \"TTVs/\" + TARGET + \"_0{0}_sim_ttvs.txt\".format(npl)\n",
    "        data_in  = np.loadtxt(fname_in).swapaxes(0,1)\n",
    "    \n",
    "        inds = np.array(data_in[0], dtype=\"int\")\n",
    "        tts_true  = np.array(data_in[1], dtype=\"float\")\n",
    "        \n",
    "        # add some noise and reject transits without photometry cover\n",
    "        if len(tts_true) > 20:\n",
    "            tts_noisy = tts_true + stats.t.rvs(df=2, size=len(tts_true))*p.duration/3\n",
    "        else:\n",
    "            tts_noisy = tts_true + np.random.normal(size=len(tts_true))*p.duration/3\n",
    "        \n",
    "        keep = np.zeros(len(tts_noisy), dtype=\"bool\")\n",
    "        \n",
    "        for i, t0 in enumerate(tts_noisy):\n",
    "            for j, scd in enumerate(sc_data):\n",
    "                if np.min(np.abs(scd.time - t0)) < p.duration:\n",
    "                    keep[i] = True\n",
    "            for j, lcd in enumerate(lc_data):\n",
    "                if np.min(np.abs(lcd.time - t0)) < p.duration:\n",
    "                    keep[i] = True\n",
    "        \n",
    "        holczer_inds.append(inds[keep])\n",
    "        holczer_tts.append(tts_noisy[keep])\n",
    "        holczer_pers.append(p.period)\n",
    "        \n",
    "        \n",
    "    holczer_pers = np.array(holczer_pers)"
   ]
  },
  {
   "cell_type": "markdown",
   "metadata": {},
   "source": [
    "# Smooth and interpolate Holczer TTVs where they exist"
   ]
  },
  {
   "cell_type": "code",
   "execution_count": 17,
   "metadata": {
    "scrolled": false
   },
   "outputs": [
    {
     "name": "stderr",
     "output_type": "stream",
     "text": [
      "optimizing logp for variables: [logjit, mean, log_rho_off, log_sigma]\n"
     ]
    },
    {
     "data": {
      "text/html": [
       "\n",
       "    <div>\n",
       "        <style>\n",
       "            /* Turns off some styling */\n",
       "            progress {\n",
       "                /* gets rid of default border in Firefox and Opera. */\n",
       "                border: none;\n",
       "                /* Needs to be in here for Safari polyfill so background images work as expected. */\n",
       "                background-size: auto;\n",
       "            }\n",
       "            .progress-bar-interrupted, .progress-bar-interrupted::-webkit-progress-bar {\n",
       "                background: #F44336;\n",
       "            }\n",
       "        </style>\n",
       "      <progress value='113' class='' max='113' style='width:300px; height:20px; vertical-align: middle;'></progress>\n",
       "      100.00% [113/113 00:00<00:00 logp = 9.245e+02]\n",
       "    </div>\n",
       "    "
      ],
      "text/plain": [
       "<IPython.core.display.HTML object>"
      ]
     },
     "metadata": {},
     "output_type": "display_data"
    },
    {
     "name": "stdout",
     "output_type": "stream",
     "text": [
      "\n"
     ]
    },
    {
     "name": "stderr",
     "output_type": "stream",
     "text": [
      "message: Optimization terminated successfully.\n",
      "logp: -239.42900080602442 -> 924.4881746317251\n"
     ]
    },
    {
     "data": {
      "image/png": "[encoded data removed]",
      "text/plain": [
       "<Figure size 864x288 with 1 Axes>"
      ]
     },
     "metadata": {
      "needs_background": "light"
     },
     "output_type": "display_data"
    },
    {
     "name": "stderr",
     "output_type": "stream",
     "text": [
      "optimizing logp for variables: [logjit, mean, log_rho_off, log_sigma]\n"
     ]
    },
    {
     "data": {
      "text/html": [
       "\n",
       "    <div>\n",
       "        <style>\n",
       "            /* Turns off some styling */\n",
       "            progress {\n",
       "                /* gets rid of default border in Firefox and Opera. */\n",
       "                border: none;\n",
       "                /* Needs to be in here for Safari polyfill so background images work as expected. */\n",
       "                background-size: auto;\n",
       "            }\n",
       "            .progress-bar-interrupted, .progress-bar-interrupted::-webkit-progress-bar {\n",
       "                background: #F44336;\n",
       "            }\n",
       "        </style>\n",
       "      <progress value='30' class='' max='30' style='width:300px; height:20px; vertical-align: middle;'></progress>\n",
       "      100.00% [30/30 00:00<00:00 logp = 5.493e+02]\n",
       "    </div>\n",
       "    "
      ],
      "text/plain": [
       "<IPython.core.display.HTML object>"
      ]
     },
     "metadata": {},
     "output_type": "display_data"
    },
    {
     "name": "stdout",
     "output_type": "stream",
     "text": [
      "\n"
     ]
    },
    {
     "name": "stderr",
     "output_type": "stream",
     "text": [
      "message: Optimization terminated successfully.\n",
      "logp: -123.55431316315776 -> 549.3291807678322\n"
     ]
    },
    {
     "data": {
      "image/png": "[encoded data removed]",
      "text/plain": [
       "<Figure size 864x288 with 1 Axes>"
      ]
     },
     "metadata": {
      "needs_background": "light"
     },
     "output_type": "display_data"
    },
    {
     "name": "stderr",
     "output_type": "stream",
     "text": [
      "optimizing logp for variables: [logjit, mean, log_rho_off, log_sigma]\n"
     ]
    },
    {
     "data": {
      "text/html": [
       "\n",
       "    <div>\n",
       "        <style>\n",
       "            /* Turns off some styling */\n",
       "            progress {\n",
       "                /* gets rid of default border in Firefox and Opera. */\n",
       "                border: none;\n",
       "                /* Needs to be in here for Safari polyfill so background images work as expected. */\n",
       "                background-size: auto;\n",
       "            }\n",
       "            .progress-bar-interrupted, .progress-bar-interrupted::-webkit-progress-bar {\n",
       "                background: #F44336;\n",
       "            }\n",
       "        </style>\n",
       "      <progress value='26' class='' max='26' style='width:300px; height:20px; vertical-align: middle;'></progress>\n",
       "      100.00% [26/26 00:00<00:00 logp = 9.936e+01]\n",
       "    </div>\n",
       "    "
      ],
      "text/plain": [
       "<IPython.core.display.HTML object>"
      ]
     },
     "metadata": {},
     "output_type": "display_data"
    },
    {
     "name": "stdout",
     "output_type": "stream",
     "text": [
      "\n"
     ]
    },
    {
     "name": "stderr",
     "output_type": "stream",
     "text": [
      "message: Optimization terminated successfully.\n",
      "logp: -32.934166639532876 -> 99.3552323107728\n"
     ]
    },
    {
     "data": {
      "image/png": "[encoded data removed]",
      "text/plain": [
       "<Figure size 864x288 with 1 Axes>"
      ]
     },
     "metadata": {
      "needs_background": "light"
     },
     "output_type": "display_data"
    }
   ],
   "source": [
    "for npl in range(NPL):\n",
    "    if np.isfinite(holczer_pers[npl]):\n",
    "        # fit a linear ephemeris \n",
    "        pfit  = poly.polyfit(holczer_inds[npl], holczer_tts[npl], 1)\n",
    "        ephem = poly.polyval(holczer_inds[npl], pfit)\n",
    "        \n",
    "        \n",
    "        # put fitted epoch in range (TIME_START, TIME_START + PERIOD)\n",
    "        hepoch, hper = pfit\n",
    "\n",
    "        if hepoch < TIME_START:\n",
    "            adj = 1 + (TIME_START - hepoch)//hper\n",
    "            hepoch += adj*hper       \n",
    "\n",
    "        if hepoch > (TIME_START + hper):\n",
    "            adj = (hepoch - TIME_START)//hper\n",
    "            hepoch -= adj*hper      \n",
    "\n",
    "        hephem = np.arange(hepoch, TIME_END, hper)        \n",
    "        hinds  = np.array(np.round((hephem-hepoch)/hper),dtype='int')\n",
    "        \n",
    "        \n",
    "        # calculate OMC and flag outliers\n",
    "        xtime = np.copy(holczer_tts[npl])\n",
    "        yomc  = (holczer_tts[npl] - ephem)\n",
    "\n",
    "        ymed = ndimage.median_filter(yomc, size=5, mode=\"mirror\")\n",
    "        out  = np.abs(yomc-ymed)/astropy.stats.mad_std(yomc-ymed) > 3.0\n",
    "                \n",
    "        # set up a GP using a Matern-3/2 kernel\n",
    "        with pm.Model() as holczer_model:\n",
    "\n",
    "            dx = np.mean(np.diff(xtime))\n",
    "            \n",
    "            # build the kernel\n",
    "            log_sigma = pm.Normal(\"log_sigma\", mu=np.log(np.std(yomc)), sd=5)\n",
    "            log_rho_off = pm.Normal(\"log_rho_off\", mu=np.log(4*dx), sd=5)\n",
    "            rho = pm.Deterministic(\"rho\", 4*dx + T.exp(log_rho_off))\n",
    "            \n",
    "            kernel = GPterms.Matern32Term(sigma=T.exp(log_sigma), rho=rho)\n",
    "\n",
    "            # here's the GP likelihood\n",
    "            mean = pm.Normal(\"mean\", mu=np.mean(yomc), sd=np.std(yomc))\n",
    "            logjit = pm.Normal(\"logjit\", mu=np.var(yomc), sd=5)\n",
    "            \n",
    "            gp = GaussianProcess(kernel, t=xtime[~out], diag=T.exp(logjit)*T.ones(np.sum(~out)), mean=mean)\n",
    "\n",
    "            gp.marginal(\"gp\", observed=yomc[~out])\n",
    "\n",
    "            # track GP prediction\n",
    "            pred = pm.Deterministic(\"pred\", gp.predict(yomc[~out], hephem))\n",
    "                                    \n",
    "\n",
    "        # find the MAP solution\n",
    "        with holczer_model:\n",
    "            holczer_map = pmx.optimize()\n",
    "            \n",
    "        htts = hephem + holczer_map[\"pred\"]\n",
    "\n",
    "        holczer_inds[npl] = np.copy(hinds)\n",
    "        holczer_tts[npl] = np.copy(htts)\n",
    "            \n",
    "            \n",
    "        # plot the results\n",
    "        plt.figure(figsize=(12,4))\n",
    "        plt.plot(xtime[~out], yomc[~out]*24*60, 'o', c=\"grey\", label=\"Holczer\")\n",
    "        plt.plot(xtime[out], yomc[out]*24*60, \"rx\")\n",
    "        plt.plot(hephem, (htts-hephem)*24*60, \"k+\", label=\"Interpolation\")\n",
    "        plt.xlabel(\"Time [BJKD]\", fontsize=20)\n",
    "        plt.ylabel(\"O-C [min]\", fontsize=20)\n",
    "        plt.legend(fontsize=12)\n",
    "        plt.show()"
   ]
  },
  {
   "cell_type": "code",
   "execution_count": 18,
   "metadata": {},
   "outputs": [],
   "source": [
    "# check if Holczer TTVs exist, and if so, replace the linear ephemeris\n",
    "holczer_transit_times = []\n",
    "\n",
    "for npl, p in enumerate(planets):\n",
    "    match = np.isclose(holczer_pers, p.period, rtol=0.1, atol=DURS.max())\n",
    "    \n",
    "    if np.sum(match) > 1:\n",
    "        raise ValueError(\"Something has gone wrong matching periods between DR25 and Holczer+ 2016\")\n",
    "        \n",
    "    if np.sum(match) == 1:\n",
    "        loc = np.squeeze(np.where(match))\n",
    "    \n",
    "        hinds = holczer_inds[loc]\n",
    "        htts  = holczer_tts[loc]\n",
    "        \n",
    "        for i, t0 in enumerate(p.tts):\n",
    "            for j, tH in enumerate(htts):\n",
    "                if np.abs(t0-tH)/p.period < 0.25:\n",
    "                    p.tts[i] = tH\n",
    "                    \n",
    "        holczer_transit_times.append(np.copy(p.tts))\n",
    "        \n",
    "        \n",
    "    else:\n",
    "        holczer_transit_times.append(None)"
   ]
  },
  {
   "cell_type": "code",
   "execution_count": 19,
   "metadata": {
    "scrolled": false
   },
   "outputs": [
    {
     "data": {
      "image/png": "[encoded data removed]",
      "text/plain": [
       "<Figure size 864x648 with 3 Axes>"
      ]
     },
     "metadata": {
      "needs_background": "light"
     },
     "output_type": "display_data"
    }
   ],
   "source": [
    "# plot the OMC TTVs\n",
    "fig, axes = plt.subplots(NPL, figsize=(12,3*NPL))\n",
    "if NPL == 1: axes = [axes]\n",
    "\n",
    "for npl, p in enumerate(planets):\n",
    "    xtime = poly.polyval(p.index, poly.polyfit(p.index, p.tts, 1))\n",
    "    yomc  = (p.tts - xtime)*24*60\n",
    "    \n",
    "    axes[npl].plot(xtime, yomc, '.', c='C{0}'.format(npl))\n",
    "    axes[npl].set_ylabel('O-C [min]', fontsize=20)\n",
    "axes[NPL-1].set_xlabel('Time [BJKD]', fontsize=20)\n",
    "axes[0].set_title(TARGET, fontsize=20)\n",
    "plt.savefig(FIGURE_DIR + TARGET + '_ttvs_initial.png', bbox_inches='tight')\n",
    "plt.show()"
   ]
  },
  {
   "cell_type": "code",
   "execution_count": 20,
   "metadata": {
    "scrolled": true
   },
   "outputs": [],
   "source": [
    "FULL_FIXED_EPHEMERIS = []\n",
    "FULL_FIXED_INDS = []\n",
    "\n",
    "for npl, p in enumerate(planets):\n",
    "    FULL_FIXED_EPHEMERIS.append(poly.polyval(p.index, poly.polyfit(p.index, p.tts, 1)))\n",
    "    FULL_FIXED_INDS.append(np.copy(p.index - p.index.min()))"
   ]
  },
  {
   "cell_type": "markdown",
   "metadata": {},
   "source": [
    "# Detrend the lightcurves"
   ]
  },
  {
   "cell_type": "code",
   "execution_count": null,
   "metadata": {},
   "outputs": [],
   "source": [
    "# set break tolerance and nominal minimum oscillation period\n",
    "break_tolerance = np.max([int(DURS.min()/(LCIT/60/24)*5/2), 13])\n",
    "min_period = 1.0\n",
    "\n",
    "\n",
    "for i, lcd in enumerate(lc_data):\n",
    "    print(\"QUARTER {}\".format(lcd.quarter[0]))\n",
    "    \n",
    "    qmask = lk.KeplerQualityFlags.create_quality_mask(lcd.quality, bitmask=\"default\")\n",
    "    lcd.remove_flagged_cadences(qmask)\n",
    "    \n",
    "    # make transit mask\n",
    "    lcd.mask = np.zeros(len(lcd.time), dtype=\"bool\")\n",
    "    for npl, p in enumerate(planets):\n",
    "        lcd.mask += detrend.make_transitmask(lcd.time, p.tts, np.max([1/24,1.5*p.duration]))\n",
    "    \n",
    "    lcd.clip_outliers(kernel_size=13, sigma_upper=5, sigma_lower=5, mask=lcd.mask)\n",
    "    lcd.clip_outliers(kernel_size=13, sigma_upper=5, sigma_lower=1000, mask=None)\n",
    "    \n",
    "    try:\n",
    "        lcd = detrend.flatten_with_gp(lcd, break_tolerance, min_period)\n",
    "    except:\n",
    "        warnings.warn(\"Initial detrending model failed...attempting to refit without exponential ramp component\")\n",
    "        try:\n",
    "            lcd = detrend.flatten_with_gp(lcd, break_tolerance, min_period, correct_ramp=False)\n",
    "        except:\n",
    "            warnings.warn(\"Detrending with RotationTerm failed...attempting to detrend with SHOTerm\")\n",
    "            lcd = detrend.flatten_with_gp(lcd, break_tolerance, min_period, kterm=\"SHOTerm\", correct_ramp=False)"
   ]
  },
  {
   "cell_type": "code",
   "execution_count": null,
   "metadata": {},
   "outputs": [],
   "source": [
    "if len(lc_data) > 0:\n",
    "    lc = detrend.stitch(lc_data)\n",
    "else:\n",
    "    lc = None"
   ]
  },
  {
   "cell_type": "code",
   "execution_count": null,
   "metadata": {},
   "outputs": [],
   "source": [
    "# set break tolerance and nominal minimum oscillation period\n",
    "break_tolerance = np.max([int(DURS.min()/(SCIT/3600/24)*5/2), 91])\n",
    "min_period = 1.0\n",
    "\n",
    "\n",
    "for i, scd in enumerate(sc_data):\n",
    "    print(\"QUARTER {}\".format(scd.quarter[0]))\n",
    "    \n",
    "    qmask = lk.KeplerQualityFlags.create_quality_mask(scd.quality, bitmask=\"default\")\n",
    "    scd.remove_flagged_cadences(qmask)\n",
    "    \n",
    "    # make transit mask\n",
    "    scd.mask = np.zeros(len(scd.time), dtype=\"bool\")\n",
    "    for npl, p in enumerate(planets):\n",
    "        scd.mask += detrend.make_transitmask(scd.time, p.tts, np.max([1/24,1.5*p.duration]))\n",
    "    \n",
    "    scd.clip_outliers(kernel_size=13, sigma_upper=5, sigma_lower=5, mask=scd.mask)\n",
    "    scd.clip_outliers(kernel_size=13, sigma_upper=5, sigma_lower=1000, mask=None)\n",
    "    \n",
    "    try:\n",
    "        scd = detrend.flatten_with_gp(scd, break_tolerance, min_period)\n",
    "    except:\n",
    "        warnings.warn(\"Initial detrending model failed...attempting to refit without exponential ramp component\")\n",
    "        try:\n",
    "            scd = detrend.flatten_with_gp(scd, break_tolerance, min_period, correct_ramp=False)\n",
    "        except:\n",
    "            warnings.warn(\"Detrending with RotationTerm failed...attempting to detrend with SHOTerm\")\n",
    "            scd = detrend.flatten_with_gp(scd, break_tolerance, min_period, kterm=\"SHOTerm\", correct_ramp=False)"
   ]
  },
  {
   "cell_type": "code",
   "execution_count": null,
   "metadata": {},
   "outputs": [],
   "source": [
    "if len(sc_data) > 0:\n",
    "    sc = detrend.stitch(sc_data)\n",
    "else:\n",
    "    sc = None"
   ]
  },
  {
   "cell_type": "markdown",
   "metadata": {},
   "source": [
    "# Make wide masks that track each planet individually\n",
    "### These masks have width 2.5 transit durations, which is probably wider than the masks used for detrending"
   ]
  },
  {
   "cell_type": "code",
   "execution_count": null,
   "metadata": {
    "scrolled": true
   },
   "outputs": [],
   "source": [
    "if sc is not None:\n",
    "    sc_mask = np.zeros((NPL,len(sc.time)),dtype='bool')\n",
    "    for npl, p in enumerate(planets):\n",
    "        sc_mask[npl] = detrend.make_transitmask(sc.time, p.tts, np.max([2/24,2.5*p.duration]))\n",
    "        \n",
    "    sc.mask = sc_mask.sum(axis=0) > 0\n",
    "\n",
    "else:\n",
    "    sc_mask = None\n",
    "\n",
    "    \n",
    "if lc is not None:\n",
    "    lc_mask = np.zeros((NPL,len(lc.time)),dtype='bool')\n",
    "    for npl, p in enumerate(planets):\n",
    "        lc_mask[npl] = detrend.make_transitmask(lc.time, p.tts, np.max([2/24,2.5*p.duration]))\n",
    "        \n",
    "    lc.mask = lc_mask.sum(axis=0) > 0\n",
    "\n",
    "else:\n",
    "    lc_mask = None"
   ]
  },
  {
   "cell_type": "markdown",
   "metadata": {},
   "source": [
    "# Flag high quality transits (quality = 1)\n",
    "\n",
    "### Good transits must have  at least 50% photometry coverage in/near transit"
   ]
  },
  {
   "cell_type": "code",
   "execution_count": null,
   "metadata": {},
   "outputs": [],
   "source": [
    "for npl, p in enumerate(planets):\n",
    "    count_expect_lc = int(np.ceil(p.duration/lcit))\n",
    "    count_expect_sc = int(np.ceil(p.duration/scit))\n",
    "        \n",
    "    quality = np.zeros(len(p.tts), dtype=\"bool\")\n",
    "    \n",
    "    for i, t0 in enumerate(p.tts):\n",
    "        \n",
    "        if sc is not None:\n",
    "            in_sc = np.abs(sc.time - t0)/p.duration < 0.5\n",
    "            near_sc = np.abs(sc.time - t0)/p.duration < 1.5\n",
    "            \n",
    "            qual_in = np.sum(in_sc) > 0.5*count_expect_sc\n",
    "            qual_near = np.sum(near_sc) > 1.5*count_expect_sc\n",
    "            \n",
    "            quality[i] += qual_in*qual_near\n",
    "        \n",
    "        \n",
    "        if lc is not None:\n",
    "            in_lc = np.abs(lc.time - t0)/p.duration < 0.5\n",
    "            near_lc = np.abs(lc.time - t0)/p.duration < 1.5\n",
    "            \n",
    "            qual_in = np.sum(in_lc) > 0.5*count_expect_lc\n",
    "            qual_near = np.sum(near_lc) > 1.5*count_expect_lc\n",
    "            \n",
    "            quality[i] += qual_in*qual_near\n",
    "            \n",
    "    \n",
    "    p.quality = np.copy(quality)"
   ]
  },
  {
   "cell_type": "markdown",
   "metadata": {},
   "source": [
    "# Flag which transits overlap (overlap = 1)"
   ]
  },
  {
   "cell_type": "code",
   "execution_count": null,
   "metadata": {
    "scrolled": true
   },
   "outputs": [],
   "source": [
    "# identify overlapping transits\n",
    "dur_max = np.max(DURS)\n",
    "overlap = []\n",
    "\n",
    "for i in range(NPL):\n",
    "    overlap.append(np.zeros(len(planets[i].tts), dtype='bool'))\n",
    "    \n",
    "    for j in range(NPL):\n",
    "        if i != j:\n",
    "            for ttj in planets[j].tts:\n",
    "                overlap[i] += np.abs(planets[i].tts - ttj)/dur_max < 1.5\n",
    "                \n",
    "    planets[i].overlap = np.copy(overlap[i])"
   ]
  },
  {
   "cell_type": "markdown",
   "metadata": {},
   "source": [
    "# Count up transits and calculate initial fixed transit times"
   ]
  },
  {
   "cell_type": "code",
   "execution_count": null,
   "metadata": {
    "scrolled": true
   },
   "outputs": [],
   "source": [
    "num_transits = np.zeros(NPL)\n",
    "transit_inds = []\n",
    "fixed_tts = []\n",
    "\n",
    "for npl, p in enumerate(planets):\n",
    "    transit_inds.append(np.array((p.index - p.index.min())[p.quality], dtype=\"int\"))\n",
    "    fixed_tts.append(np.copy(p.tts)[p.quality])\n",
    "    \n",
    "    num_transits[npl] = len(transit_inds[npl])\n",
    "    transit_inds[npl] -= transit_inds[npl].min()"
   ]
  },
  {
   "cell_type": "markdown",
   "metadata": {},
   "source": [
    "# Grab the relevant data"
   ]
  },
  {
   "cell_type": "code",
   "execution_count": null,
   "metadata": {},
   "outputs": [],
   "source": [
    "# grab data near transits for each quarter\n",
    "all_time = [None]*18\n",
    "all_flux = [None]*18\n",
    "all_error = [None]*18\n",
    "all_dtype = [\"none\"]*18\n",
    "\n",
    "lc_flux = []\n",
    "sc_flux = []\n",
    "\n",
    "\n",
    "for q in range(18):\n",
    "    if sc is not None:\n",
    "        if np.isin(q, sc.quarter):\n",
    "            use = (sc.mask)*(sc.quarter == q)\n",
    "\n",
    "            if np.sum(use) > 45:\n",
    "                all_time[q] = sc.time[use]\n",
    "                all_flux[q] = sc.flux[use]\n",
    "                all_error[q] = sc.error[use]\n",
    "                all_dtype[q] = \"short\"\n",
    "\n",
    "                sc_flux.append(sc.flux[use])\n",
    "                \n",
    "            else:\n",
    "                all_dtype[q] = \"short_no_transits\"\n",
    "\n",
    "    \n",
    "    if lc is not None:\n",
    "        if np.isin(q, lc.quarter):\n",
    "            use = (lc.mask)*(lc.quarter == q)\n",
    "\n",
    "            if np.sum(use) > 5:\n",
    "                all_time[q] = lc.time[use]\n",
    "                all_flux[q] = lc.flux[use]\n",
    "                all_error[q] = lc.error[use]\n",
    "                all_dtype[q] = \"long\"\n",
    "\n",
    "                lc_flux.append(lc.flux[use])\n",
    "                \n",
    "            else:\n",
    "                all_dtype[q] = \"long_no_transits\""
   ]
  },
  {
   "cell_type": "code",
   "execution_count": null,
   "metadata": {},
   "outputs": [],
   "source": [
    "# check which quarters have data and transits\n",
    "good = (np.array(all_dtype) == \"short\") + (np.array(all_dtype) == \"long\")\n",
    "quarters = np.arange(18)[good]\n",
    "nq = len(quarters)\n",
    "\n",
    "\n",
    "# make some linear flux arrays (for convenience use laster)\n",
    "try: sc_flux_lin = np.hstack(sc_flux)\n",
    "except: sc_flux_lin = np.array([])\n",
    "    \n",
    "try: lc_flux_lin = np.hstack(lc_flux)\n",
    "except: lc_flux_lin = np.array([])\n",
    "    \n",
    "try:\n",
    "    good_flux = np.hstack([sc_flux_lin, lc_flux_lin])\n",
    "except:\n",
    "    try:\n",
    "        good_flux = np.hstack(sc_flux)\n",
    "    except:\n",
    "        good_flux = np.hstack(lc_flux)"
   ]
  },
  {
   "cell_type": "code",
   "execution_count": null,
   "metadata": {},
   "outputs": [],
   "source": [
    "# set oversampling factors and expoure times\n",
    "oversample = np.zeros(18, dtype=\"int\")\n",
    "texp = np.zeros(18)\n",
    "\n",
    "oversample[np.array(all_dtype)==\"short\"] = 1\n",
    "oversample[np.array(all_dtype)==\"long\"] = 15\n",
    "\n",
    "texp[np.array(all_dtype)==\"short\"] = scit\n",
    "texp[np.array(all_dtype)==\"long\"] = lcit"
   ]
  },
  {
   "cell_type": "markdown",
   "metadata": {},
   "source": [
    "# Pull basic transit parameters"
   ]
  },
  {
   "cell_type": "code",
   "execution_count": null,
   "metadata": {
    "scrolled": true
   },
   "outputs": [],
   "source": [
    "periods = np.zeros(NPL)\n",
    "epochs  = np.zeros(NPL)\n",
    "depths  = np.zeros(NPL)\n",
    "durs    = np.zeros(NPL)\n",
    "impacts = np.zeros(NPL)\n",
    "\n",
    "for npl, p in enumerate(planets):\n",
    "    periods[npl] = p.period\n",
    "    epochs[npl]  = p.epoch\n",
    "    depths[npl]  = p.depth\n",
    "    durs[npl]    = p.duration\n",
    "    impacts[npl] = p.impact"
   ]
  },
  {
   "cell_type": "code",
   "execution_count": null,
   "metadata": {
    "scrolled": true
   },
   "outputs": [],
   "source": [
    "print('')\n",
    "print('cumulative runtime = ', int(timer() - global_start_time), 's')\n",
    "print('')"
   ]
  },
  {
   "cell_type": "markdown",
   "metadata": {},
   "source": [
    "# (1) Fit transit SHAPE model"
   ]
  },
  {
   "cell_type": "code",
   "execution_count": null,
   "metadata": {
    "scrolled": true
   },
   "outputs": [],
   "source": [
    "print('\\n(1) Fitting transit SHAPE model')"
   ]
  },
  {
   "cell_type": "code",
   "execution_count": null,
   "metadata": {
    "scrolled": true
   },
   "outputs": [],
   "source": [
    "# use Legendre polynomials for better orthogonality; \"x\" is in the range (-1,1)\n",
    "Leg0 = []\n",
    "Leg1 = []\n",
    "Leg2 = []\n",
    "Leg3 = []\n",
    "t = []\n",
    "\n",
    "# this assumes a baseline in the range (TIME_START,TIME_END)\n",
    "for npl, p in enumerate(planets):    \n",
    "    t.append(p.epoch + transit_inds[npl]*p.period)\n",
    "    x = 2*(t[npl]-TIME_START)/(TIME_END-TIME_START) - 1\n",
    "\n",
    "    Leg0.append(np.ones_like(x))\n",
    "    Leg1.append(x.copy())\n",
    "    Leg2.append(0.5*(3*x**2 - 1))\n",
    "    Leg3.append(0.5*(5*x**3 - 3*x))"
   ]
  },
  {
   "cell_type": "code",
   "execution_count": null,
   "metadata": {
    "scrolled": true
   },
   "outputs": [],
   "source": [
    "with pm.Model() as shape_model:\n",
    "    # planetary parameters\n",
    "    log_r = pm.Uniform(\"log_r\", lower=np.log(1e-5), upper=np.log(0.99), shape=NPL, testval=np.log(np.sqrt(depths)))\n",
    "    r = pm.Deterministic(\"r\", T.exp(log_r))    \n",
    "    b = pm.Uniform(\"b\", lower=0., upper=1., shape=NPL)\n",
    "    \n",
    "    log_dur = pm.Normal(\"log_dur\", mu=np.log(durs), sd=5.0, shape=NPL)\n",
    "    dur = pm.Deterministic(\"dur\", T.exp(log_dur))\n",
    "    \n",
    "    # polynomial TTV parameters    \n",
    "    C0 = pm.Normal('C0', mu=0.0, sd=durs/2, shape=NPL)\n",
    "    C1 = pm.Normal('C1', mu=0.0, sd=durs/2, shape=NPL)\n",
    "    \n",
    "    transit_times = []\n",
    "    for npl in range(NPL):\n",
    "        transit_times.append(pm.Deterministic('tts_{0}'.format(npl), \n",
    "                                              fixed_tts[npl] + C0[npl]*Leg0[npl] + C1[npl]*Leg1[npl]))\n",
    "    \n",
    "    \n",
    "    # set up stellar model and planetary orbit\n",
    "    starrystar = exo.LimbDarkLightCurve([U1,U2])\n",
    "    orbit = exo.orbits.TTVOrbit(transit_times=transit_times, transit_inds=transit_inds, \n",
    "                                b=b, ror=r, duration=dur)\n",
    "    \n",
    "    # track period and epoch\n",
    "    T0 = pm.Deterministic('T0', orbit.t0)\n",
    "    P  = pm.Deterministic('P', orbit.period)\n",
    "    \n",
    "    \n",
    "    # nuissance parameters\n",
    "    flux0 = pm.Normal('flux0', mu=np.mean(good_flux), sd=np.std(good_flux), shape=len(quarters))\n",
    "    logjit = pm.Normal('logjit', mu=np.var(good_flux), sd=10, shape=len(quarters))\n",
    "\n",
    "    \n",
    "    # now evaluate the model for each quarter\n",
    "    light_curves = [None]*nq\n",
    "    model_flux = [None]*nq\n",
    "    obs = [None]*nq\n",
    "    \n",
    "    for j, q in enumerate(quarters):\n",
    "        # calculate light curves\n",
    "        light_curves[j] = starrystar.get_light_curve(orbit=orbit, r=r, t=all_time[q], \n",
    "                                                     oversample=oversample[j], texp=texp[j])\n",
    "        \n",
    "        model_flux[j] = pm.math.sum(light_curves[j], axis=-1) + flux0[j]*T.ones(len(all_time[q]))\n",
    "        pm.Deterministic('model_flux_{0}'.format(j), model_flux[j])\n",
    "        \n",
    "        obs[j] = pm.Normal(\"obs_{0}\".format(j), \n",
    "                           mu=model_flux[j], \n",
    "                           sd=T.sqrt(T.exp(logjit[j])), \n",
    "                           observed=all_flux[q])"
   ]
  },
  {
   "cell_type": "code",
   "execution_count": null,
   "metadata": {
    "scrolled": true
   },
   "outputs": [],
   "source": [
    "with shape_model:\n",
    "    shape_map = shape_model.test_point\n",
    "    shape_map = pmx.optimize(start=shape_map, vars=[flux0, logjit])\n",
    "    shape_map = pmx.optimize(start=shape_map, vars=[b, r, dur])\n",
    "    shape_map = pmx.optimize(start=shape_map, vars=[C0, C1])\n",
    "    shape_map = pmx.optimize(start=shape_map)"
   ]
  },
  {
   "cell_type": "code",
   "execution_count": null,
   "metadata": {
    "scrolled": false
   },
   "outputs": [],
   "source": [
    "# grab transit times and ephemeris\n",
    "shape_transit_times = []\n",
    "shape_ephemeris = []\n",
    "\n",
    "for npl, p in enumerate(planets):\n",
    "    shape_transit_times.append(shape_map['tts_{0}'.format(npl)])\n",
    "    shape_ephemeris.append(shape_map['P'][npl]*transit_inds[npl] + shape_map['T0'][npl])\n",
    "\n",
    "    \n",
    "# plot the OMC TTVs\n",
    "fig, axes = plt.subplots(NPL, figsize=(12,3*NPL))\n",
    "if NPL == 1: axes = [axes]\n",
    "\n",
    "for npl, p in enumerate(planets):\n",
    "    xtime = shape_transit_times[npl]\n",
    "    yomc  = (shape_transit_times[npl] - shape_ephemeris[npl])*24*60\n",
    "    \n",
    "    axes[npl].plot(xtime, yomc, '.', c='C{0}'.format(npl))\n",
    "    axes[npl].set_ylabel('O-C [min]', fontsize=20)\n",
    "axes[NPL-1].set_xlabel('Time [BJKD]', fontsize=20)\n",
    "axes[0].set_title(TARGET, fontsize=20)\n",
    "plt.show()"
   ]
  },
  {
   "cell_type": "code",
   "execution_count": null,
   "metadata": {},
   "outputs": [],
   "source": [
    "# update parameter values\n",
    "periods = np.atleast_1d(shape_map['P'])\n",
    "epochs  = np.atleast_1d(shape_map['T0'])\n",
    "depths  = np.atleast_1d(get_transit_depth(shape_map['r'], shape_map['b']))\n",
    "durs    = np.atleast_1d(shape_map['dur'])\n",
    "impacts = np.atleast_1d(shape_map['b'])\n",
    "rors    = np.atleast_1d(shape_map['r'])\n",
    "\n",
    "for npl, p in enumerate(planets):\n",
    "    p.period   = periods[npl]\n",
    "    p.epoch    = epochs[npl]\n",
    "    p.depth    = depths[npl]\n",
    "    p.duration = durs[npl]\n",
    "    p.impact   = impacts[npl]"
   ]
  },
  {
   "cell_type": "code",
   "execution_count": null,
   "metadata": {
    "scrolled": true
   },
   "outputs": [],
   "source": [
    "print('')\n",
    "print('cumulative runtime = ', int(timer() - global_start_time), 's')\n",
    "print('')"
   ]
  },
  {
   "cell_type": "markdown",
   "metadata": {},
   "source": [
    "# (2) Fit slide TTVs"
   ]
  },
  {
   "cell_type": "code",
   "execution_count": null,
   "metadata": {
    "scrolled": true
   },
   "outputs": [],
   "source": [
    "print('\\n(2) Fitting SLIDE TTVs')"
   ]
  },
  {
   "cell_type": "code",
   "execution_count": null,
   "metadata": {},
   "outputs": [],
   "source": [
    "slide_transit_times = []\n",
    "slide_error = []\n",
    "\n",
    "t_all = np.array(np.hstack(all_time), dtype=\"float\")\n",
    "f_all = np.array(np.hstack(all_flux), dtype=\"float\")\n",
    "\n",
    "for npl, p in enumerate(planets):\n",
    "    print(\"\\nPLANET\", npl)\n",
    "    \n",
    "    slide_transit_times.append([])\n",
    "    slide_error.append([])\n",
    "    \n",
    "    # create template transit\n",
    "    starrystar = exo.LimbDarkLightCurve([U1,U2])\n",
    "    orbit  = exo.orbits.KeplerianOrbit(t0=0, period=p.period, b=p.impact, ror=rors[npl], duration=p.duration)\n",
    "\n",
    "    gridstep     = scit/2\n",
    "    slide_offset = 1.0\n",
    "    delta_chisq  = 2.0\n",
    "\n",
    "    template_time = np.arange(-(0.02+p.duration)*(slide_offset+1.6), (0.02+p.duration)*(slide_offset+1.6), gridstep)\n",
    "    template_flux = 1.0 + starrystar.get_light_curve(orbit=orbit, r=rors[npl], t=template_time).sum(axis=-1).eval()\n",
    "    \n",
    "    # empty lists to hold new transit time and uncertainties\n",
    "    tts = -99*np.ones_like(shape_transit_times[npl])\n",
    "    err = -99*np.ones_like(shape_transit_times[npl])\n",
    "    \n",
    "    for i, t0 in enumerate(shape_transit_times[npl]):\n",
    "        #print(i, np.round(t0,2))\n",
    "        if ~p.overlap[p.quality][i]:\n",
    "        \n",
    "            # grab flux near each non-overlapping transit\n",
    "            use = np.abs(t_all - t0)/p.duration < 2.5\n",
    "            mask = np.abs(t_all - t0)/p.duration < 1.0\n",
    "\n",
    "            t_ = t_all[use]\n",
    "            f_ = f_all[use]\n",
    "            m_ = mask[use]\n",
    "            \n",
    "            # remove any residual out-of-transit trend\n",
    "            try:\n",
    "                trend = poly.polyval(t_, poly.polyfit(t_[~m_], f_[~m_], 1))\n",
    "            \n",
    "                f_ /= trend\n",
    "                e_ = np.ones_like(f_)*np.std(f_[~m_])\n",
    "                \n",
    "            except:\n",
    "                e_ = np.ones_like(f_)*np.std(f_)\n",
    "            \n",
    "            # slide along transit time vector and calculate chisq\n",
    "            tc_vector = t0 + np.arange(-p.duration*slide_offset, p.duration*slide_offset, gridstep)\n",
    "            chisq_vector = np.zeros_like(tc_vector)\n",
    "\n",
    "            for j, tc in enumerate(tc_vector):\n",
    "                y_ = np.interp(t_-tc, template_time, template_flux)\n",
    "                chisq_vector[j] = np.sum((f_ - y_)**2/e_**2)\n",
    "\n",
    "            chisq_vector = boxcar_smooth(chisq_vector, winsize=7)\n",
    "\n",
    "            # grab points near minimum chisq\n",
    "            delta_chisq = 1\n",
    "            \n",
    "            loop = True\n",
    "            while loop:\n",
    "                # incrememnt delta_chisq and find minimum\n",
    "                delta_chisq += 1\n",
    "                min_chisq = chisq_vector.min()\n",
    "                \n",
    "                # grab the points near minimum\n",
    "                tcfit = tc_vector[chisq_vector < min_chisq+delta_chisq]\n",
    "                x2fit = chisq_vector[chisq_vector < min_chisq+delta_chisq]\n",
    "\n",
    "                # eliminate points far from the local minimum\n",
    "                spacing = np.median(tcfit[1:]-tcfit[:-1])\n",
    "                faraway = np.abs(tcfit-np.median(tcfit))/spacing > 1 + len(tcfit)/2\n",
    "                \n",
    "                tcfit = tcfit[~faraway]\n",
    "                x2fit = x2fit[~faraway]\n",
    "                \n",
    "                # check for stopping conditions\n",
    "                if len(x2fit) >= 3:\n",
    "                    loop = False\n",
    "                    \n",
    "                if delta_chisq >= 9:\n",
    "                    loop = False\n",
    "                    \n",
    "            # fit a parabola around the minimum (need at least 3 pts)\n",
    "            if len(tcfit) < 3:\n",
    "                #print(\"TOO FEW POINTS\")\n",
    "                tts[i] = np.nan\n",
    "                err[i] = np.nan\n",
    "\n",
    "            else:\n",
    "                quad_coeffs = np.polyfit(tcfit, x2fit, 2)\n",
    "                quadfit = np.polyval(quad_coeffs, tcfit)\n",
    "                qtc_min = -quad_coeffs[1]/(2*quad_coeffs[0])\n",
    "                qx2_min = np.polyval(quad_coeffs, qtc_min)\n",
    "                qtc_err = np.sqrt(1/quad_coeffs[0])\n",
    "\n",
    "                # here's the fitted transit time\n",
    "                tts[i] = np.mean([qtc_min,np.median(tcfit)])\n",
    "                err[i] = qtc_err*1.0\n",
    "\n",
    "                # check that the fit is well-conditioned (ie. a negative t**2 coefficient)\n",
    "                if quad_coeffs[0] <= 0.0:\n",
    "                    #print(\"INVERTED PARABOLA\")\n",
    "                    tts[i] = np.nan\n",
    "                    err[i] = np.nan\n",
    "\n",
    "                # check that the recovered transit time is within the expected range\n",
    "                if (tts[i] < tcfit.min()) or (tts[i] > tcfit.max()):\n",
    "                    #print(\"T0 OUT OF BOUNDS\")\n",
    "                    tts[i] = np.nan\n",
    "                    err[i] = np.nan\n",
    "\n",
    "            # show plots\n",
    "            if ~np.isnan(tts[i]):\n",
    "                do_plots = False\n",
    "                    \n",
    "                if do_plots:\n",
    "                    fig, ax = plt.subplots(1,2, figsize=(10,3))\n",
    "\n",
    "                    ax[0].plot(t_-tts[i], f_, \"ko\")\n",
    "                    ax[0].plot((t_-tts[i])[m_], f_[m_], \"o\", c=\"C{0}\".format(npl))\n",
    "                    ax[0].plot(template_time, template_flux, c=\"C{0}\".format(npl), lw=2)\n",
    "\n",
    "                    ax[1].plot(tcfit, x2fit, \"ko\")\n",
    "                    ax[1].plot(tcfit, quadfit, c=\"C{0}\".format(npl), lw=3)\n",
    "                    ax[1].axvline(tts[i], color=\"k\", ls=\"--\", lw=2)\n",
    "\n",
    "                    plt.show()\n",
    "\n",
    "        else:\n",
    "            #print(\"OVERLAPPING TRANSITS\")\n",
    "            tts[i] = np.nan\n",
    "            err[i] = np.nan\n",
    "        \n",
    "    slide_transit_times[npl] = np.copy(tts)\n",
    "    slide_error[npl] = np.copy(err)"
   ]
  },
  {
   "cell_type": "code",
   "execution_count": null,
   "metadata": {
    "scrolled": true
   },
   "outputs": [],
   "source": [
    "# flag transits for which the slide method failed\n",
    "for npl, p in enumerate(planets):\n",
    "    bad = np.isnan(slide_transit_times[npl]) + np.isnan(slide_error[npl])\n",
    "    bad += slide_error[npl] > 8*np.nanmedian(slide_error[npl])\n",
    "    \n",
    "    slide_transit_times[npl][bad] = shape_transit_times[npl][bad]\n",
    "    slide_error[npl][bad] = np.nan\n",
    "    \n",
    "    \n",
    "refit = []\n",
    "\n",
    "for npl in range(NPL):\n",
    "    refit.append(np.isnan(slide_error[npl]))\n",
    "    \n",
    "    # if every slide fit worked, randomly select a pair of transits for refitting\n",
    "    # this is easier than tracking the edge cases -- we'll use the slide ttvs in the final vector anyway\n",
    "    if np.all(~refit[npl]):\n",
    "        refit[npl][np.random.randint(len(refit[npl]), size=2)] = True"
   ]
  },
  {
   "cell_type": "code",
   "execution_count": null,
   "metadata": {},
   "outputs": [],
   "source": [
    "# grab transit times and ephemeris\n",
    "# plot the OMC TTVs\n",
    "fig, axes = plt.subplots(NPL, figsize=(12,3*NPL))\n",
    "if NPL == 1: axes = [axes]\n",
    "\n",
    "for npl, p in enumerate(planets):\n",
    "    ephem = poly.polyval(transit_inds[npl], poly.polyfit(transit_inds[npl], slide_transit_times[npl], 1))\n",
    "    \n",
    "    xtime = slide_transit_times[npl]\n",
    "    yomc  = (slide_transit_times[npl] - ephem)*24*60\n",
    "    yerr  = slide_error[npl]*24*60\n",
    "    \n",
    "    good = ~np.isnan(slide_error[npl])\n",
    "    \n",
    "    axes[npl].plot(xtime[~good], yomc[~good], \"d\", color=\"lightgrey\")\n",
    "    axes[npl].errorbar(xtime[good], yomc[good], yerr=yerr[good], fmt='.', color='C{0}'.format(npl))\n",
    "    axes[npl].set_ylabel('O-C [min]', fontsize=20)\n",
    "axes[NPL-1].set_xlabel('Time [BJKD]', fontsize=20)\n",
    "axes[0].set_title(TARGET, fontsize=20)\n",
    "plt.savefig(FIGURE_DIR + TARGET + '_ttvs_slide.png', bbox_inches='tight')\n",
    "plt.show()"
   ]
  },
  {
   "cell_type": "markdown",
   "metadata": {},
   "source": [
    "# (3) Fit MAP independent TTVs\n",
    "\n",
    "### Only refit transit times for which the slide method failed"
   ]
  },
  {
   "cell_type": "code",
   "execution_count": null,
   "metadata": {
    "scrolled": true
   },
   "outputs": [],
   "source": [
    "print('\\n(3) Fitting INDEPENDENT TTVs')"
   ]
  },
  {
   "cell_type": "code",
   "execution_count": null,
   "metadata": {},
   "outputs": [],
   "source": [
    "if sc is not None:\n",
    "    sc_map_mask = np.zeros((NPL,len(sc.time)),dtype='bool')\n",
    "    for npl, p in enumerate(planets):\n",
    "        tts = slide_transit_times[npl][refit[npl]]\n",
    "        sc_map_mask[npl] = detrend.make_transitmask(sc.time, tts, np.max([2/24,2.5*p.duration]))\n",
    "        \n",
    "    sc_map_mask = sc_map_mask.sum(axis=0) > 0\n",
    "\n",
    "else:\n",
    "    sc_map_mask = None\n",
    "\n",
    "    \n",
    "if lc is not None:\n",
    "    lc_map_mask = np.zeros((NPL,len(lc.time)),dtype='bool')\n",
    "    for npl, p in enumerate(planets):\n",
    "        tts = slide_transit_times[npl][refit[npl]]\n",
    "        lc_map_mask[npl] = detrend.make_transitmask(lc.time, tts, np.max([2/24,2.5*p.duration]))\n",
    "        \n",
    "    lc_map_mask = lc_map_mask.sum(axis=0) > 0\n",
    "\n",
    "else:\n",
    "    lc_map_mask = None"
   ]
  },
  {
   "cell_type": "code",
   "execution_count": null,
   "metadata": {},
   "outputs": [],
   "source": [
    "# grab data near transits for each quarter\n",
    "map_time = [None]*18\n",
    "map_flux = [None]*18\n",
    "map_dtype = [\"none\"]*18\n",
    "\n",
    "\n",
    "for q in range(18):\n",
    "    if sc is not None:\n",
    "        if np.isin(q, sc.quarter):\n",
    "            use = (sc_map_mask)*(sc.quarter == q)\n",
    "\n",
    "            if np.sum(use) > 45:\n",
    "                map_time[q] = sc.time[use]\n",
    "                map_flux[q] = sc.flux[use]\n",
    "                map_dtype[q] = \"short\"\n",
    "                \n",
    "            else:\n",
    "                map_dtype[q] = \"short_no_transits\"\n",
    "\n",
    "    \n",
    "    if lc is not None:\n",
    "        if np.isin(q, lc.quarter):\n",
    "            use = (lc_map_mask)*(lc.quarter == q)\n",
    "\n",
    "            if np.sum(use) > 5:\n",
    "                map_time[q] = lc.time[use]\n",
    "                map_flux[q] = lc.flux[use]\n",
    "                map_dtype[q] = \"long\"\n",
    "                \n",
    "            else:\n",
    "                map_dtype[q] = \"long_no_transits\"\n",
    "                \n",
    "map_quarters = np.arange(18)[(np.array(map_dtype) == \"short\") + (np.array(map_dtype) == \"long\")]"
   ]
  },
  {
   "cell_type": "code",
   "execution_count": null,
   "metadata": {},
   "outputs": [],
   "source": [
    "with pm.Model() as indep_model:\n",
    "    # transit times\n",
    "    tt_offset = []\n",
    "    map_tts  = []\n",
    "    map_inds = []\n",
    "    \n",
    "    for npl in range(NPL):\n",
    "        use = np.copy(refit[npl])\n",
    "        \n",
    "        tt_offset.append(pm.Normal(\"tt_offset_{0}\".format(npl), mu=0, sd=1, shape=np.sum(use)))\n",
    "\n",
    "        map_tts.append(pm.Deterministic(\"tts_{0}\".format(npl),\n",
    "                                        shape_transit_times[npl][use] + tt_offset[npl]*durs[npl]/3))\n",
    "        \n",
    "        map_inds.append(transit_inds[npl][use])\n",
    "        \n",
    "    # set up stellar model and planetary orbit\n",
    "    starrystar = exo.LimbDarkLightCurve([U1,U2])\n",
    "    orbit  = exo.orbits.TTVOrbit(transit_times=map_tts, transit_inds=map_inds, \n",
    "                                 period=periods, b=impacts, ror=rors, duration=durs)\n",
    "    \n",
    "    # nuissance parameters\n",
    "    flux0 = pm.Normal('flux0', mu=np.mean(good_flux), sd=np.std(good_flux), shape=len(map_quarters))\n",
    "    logjit = pm.Normal('logjit', mu=np.var(good_flux), sd=10, shape=len(map_quarters))\n",
    "        \n",
    "    # now evaluate the model for each quarter\n",
    "    light_curves = [None]*len(map_quarters)\n",
    "    model_flux = [None]*len(map_quarters)\n",
    "    obs = [None]*len(map_quarters)\n",
    "    \n",
    "    for j, q in enumerate(map_quarters):\n",
    "        # calculate light curves\n",
    "        light_curves[j] = starrystar.get_light_curve(orbit=orbit, r=rors, t=map_time[q], \n",
    "                                                     oversample=oversample[j], texp=texp[j])\n",
    "        \n",
    "        model_flux[j] = pm.math.sum(light_curves[j], axis=-1) + flux0[j]*T.ones(len(map_time[q]))\n",
    "        pm.Deterministic('model_flux_{0}'.format(j), model_flux[j])\n",
    "        \n",
    "        obs[j] = pm.Normal(\"obs_{0}\".format(j), \n",
    "                           mu=model_flux[j], \n",
    "                           sd=T.sqrt(T.exp(logjit[j])), \n",
    "                           observed=map_flux[q])"
   ]
  },
  {
   "cell_type": "code",
   "execution_count": null,
   "metadata": {},
   "outputs": [],
   "source": [
    "with indep_model:\n",
    "    indep_map = indep_model.test_point\n",
    "    indep_map = pmx.optimize(start=indep_map, vars=[flux0, logjit])\n",
    "    \n",
    "    for npl in range(NPL):\n",
    "        indep_map = pmx.optimize(start=indep_map, vars=[tt_offset[npl]])\n",
    "        \n",
    "    indep_map = pmx.optimize(start=indep_map)"
   ]
  },
  {
   "cell_type": "code",
   "execution_count": null,
   "metadata": {},
   "outputs": [],
   "source": [
    "indep_transit_times = []\n",
    "indep_error = []\n",
    "indep_ephemeris = []\n",
    "full_indep_ephemeris = []\n",
    "\n",
    "for npl, p in enumerate(planets):\n",
    "    indep_transit_times.append(np.copy(slide_transit_times[npl]))\n",
    "    indep_error.append(np.copy(slide_error[npl]))\n",
    "    \n",
    "    replace = np.isnan(slide_error[npl])\n",
    "    \n",
    "    if np.any(replace):\n",
    "        indep_transit_times[npl][replace] = indep_map[\"tts_{0}\".format(npl)]\n",
    "\n",
    "    pfit = poly.polyfit(transit_inds[npl], indep_transit_times[npl], 1)\n",
    "\n",
    "    indep_ephemeris.append(poly.polyval(transit_inds[npl], pfit))\n",
    "    full_indep_ephemeris.append(poly.polyval(p.index, pfit))\n",
    "\n",
    "    if np.any(replace):\n",
    "        indep_error[npl][replace] = np.std(indep_transit_times[npl] - indep_ephemeris[npl])\n",
    "\n",
    "    \n",
    "fig, axes = plt.subplots(NPL, figsize=(12,3*NPL))\n",
    "if NPL == 1: axes = [axes]\n",
    "\n",
    "for npl, p in enumerate(planets):\n",
    "    xtime = indep_transit_times[npl]\n",
    "    yomc  = (indep_transit_times[npl] - indep_ephemeris[npl])*24*60\n",
    "    yerr  = (indep_error[npl])*24*60\n",
    "    \n",
    "    axes[npl].errorbar(xtime, yomc, yerr=yerr, fmt='.', c='C{0}'.format(npl))\n",
    "    axes[npl].set_ylabel('O-C [min]', fontsize=20)\n",
    "axes[NPL-1].set_xlabel('Time [BJKD]', fontsize=20)\n",
    "axes[0].set_title(TARGET, fontsize=20)\n",
    "plt.savefig(FIGURE_DIR + TARGET + '_ttvs_indep.png', bbox_inches='tight')\n",
    "plt.show()"
   ]
  },
  {
   "cell_type": "code",
   "execution_count": null,
   "metadata": {},
   "outputs": [],
   "source": [
    "print('')\n",
    "print('cumulative runtime = ', int(timer() - global_start_time), 's')\n",
    "print('')"
   ]
  },
  {
   "cell_type": "markdown",
   "metadata": {},
   "source": [
    "# Search for periodic signals in the OMC curves"
   ]
  },
  {
   "cell_type": "code",
   "execution_count": null,
   "metadata": {},
   "outputs": [],
   "source": [
    "print(\"Searching for periodic signals\")"
   ]
  },
  {
   "cell_type": "code",
   "execution_count": null,
   "metadata": {},
   "outputs": [],
   "source": [
    "indep_freqs = []\n",
    "indep_faps = []\n",
    "\n",
    "for npl, p in enumerate(planets):\n",
    "    # grab data\n",
    "    xtime = indep_ephemeris[npl]\n",
    "    yomc  = indep_transit_times[npl] - indep_ephemeris[npl]\n",
    "\n",
    "    ymed = boxcar_smooth(ndimage.median_filter(yomc, size=5, mode=\"mirror\"), winsize=5)\n",
    "    out  = np.abs(yomc-ymed)/astropy.stats.mad_std(yomc-ymed) > 5.0\n",
    "    \n",
    "    \n",
    "    # search for a periodic component\n",
    "    peakfreq = np.nan\n",
    "    peakfap = 1.0\n",
    "    \n",
    "    if NPL == 1: fap = 0.1\n",
    "    elif NPL > 1: fap = 0.99\n",
    "    \n",
    "    if np.sum(~out) > 8:\n",
    "        try:\n",
    "            xf, yf, freqs, faps = LS_estimator(xtime[~out], yomc[~out], fap=fap)\n",
    "\n",
    "            if len(freqs) > 0:\n",
    "                if freqs[0] > xf.min():\n",
    "                    peakfreq = freqs[0]\n",
    "                    peakfap = faps[0]\n",
    "        except:\n",
    "            pass\n",
    "    \n",
    "    indep_freqs.append(peakfreq)\n",
    "    indep_faps.append(peakfap)"
   ]
  },
  {
   "cell_type": "code",
   "execution_count": null,
   "metadata": {},
   "outputs": [],
   "source": [
    "omc_freqs = []\n",
    "omc_faps = []\n",
    "\n",
    "# for single planet systems, use the direct LS output\n",
    "if NPL == 1:\n",
    "    if np.isnan(indep_freqs[0]):\n",
    "        omc_freqs.append(None)\n",
    "        omc_faps.append(None)\n",
    "    else:\n",
    "        omc_freqs.append(indep_freqs[0])\n",
    "        omc_faps.append(indep_faps[0])\n",
    "    \n",
    "\n",
    "# for multiplanet systems, check if any statistically marginal frequencies match between planets\n",
    "elif NPL > 1:\n",
    "    \n",
    "    for i in range(NPL):\n",
    "        # save any low FAP frequencies\n",
    "        if indep_faps[i] < 0.1:\n",
    "            omc_freqs.append(indep_freqs[i])\n",
    "            omc_faps.append(indep_faps[i])\n",
    "            \n",
    "        # check if the LS frequency is close to that of any other planet\n",
    "        else:\n",
    "            close = False\n",
    "            \n",
    "            df_min = 1/(indep_ephemeris[i].max() - indep_ephemeris[i].min())\n",
    "            \n",
    "            for j in range(i+1, NPL):\n",
    "                # delta-freq (LS) between two planets\n",
    "                df_ij = np.abs(indep_freqs[i]-indep_freqs[j])\n",
    "                \n",
    "                if df_ij < df_min:\n",
    "                    close = True\n",
    "                    \n",
    "            if close:\n",
    "                omc_freqs.append(indep_freqs[i])\n",
    "                omc_faps.append(indep_faps[i])\n",
    "                \n",
    "            else:\n",
    "                omc_freqs.append(None)\n",
    "                omc_faps.append(None)"
   ]
  },
  {
   "cell_type": "code",
   "execution_count": null,
   "metadata": {},
   "outputs": [],
   "source": [
    "omc_pers = []\n",
    "\n",
    "for npl in range(NPL):\n",
    "    print(\"\\nPLANET\", npl)\n",
    "    \n",
    "    # roughly model OMC based on single frequency sinusoid (if found)\n",
    "    if omc_freqs[npl] is not None:\n",
    "        print(\"periodic component found at P =\", int(1/omc_freqs[npl]), \"d\")\n",
    "        \n",
    "        # store frequency\n",
    "        omc_pers.append(1/omc_freqs[npl])\n",
    "        \n",
    "        # grab data and plot\n",
    "        xtime = indep_ephemeris[npl]\n",
    "        yomc  = indep_transit_times[npl] - indep_ephemeris[npl]\n",
    "        LS = LombScargle(xtime, yomc)\n",
    "        \n",
    "        plt.figure(figsize=(12,3))\n",
    "        plt.plot(xtime, yomc*24*60, \"o\", c=\"grey\")\n",
    "        plt.plot(xtime, LS.model(xtime, omc_freqs[npl])*24*60, c=\"C{0}\".format(npl))\n",
    "        plt.show()\n",
    "    \n",
    "    else:\n",
    "        omc_pers.append(None)"
   ]
  },
  {
   "cell_type": "markdown",
   "metadata": {},
   "source": [
    "# Determine best OMC model"
   ]
  },
  {
   "cell_type": "code",
   "execution_count": null,
   "metadata": {},
   "outputs": [],
   "source": [
    "print(\"Determining best OMC model\")"
   ]
  },
  {
   "cell_type": "code",
   "execution_count": null,
   "metadata": {},
   "outputs": [],
   "source": [
    "def build_omc_model(xtime, yomc, polyorder=1, period=None, use_gp=False, xt_predict=None):\n",
    "    \"\"\"\n",
    "    Build a PyMC3 model to fit TTV observed-minus-calculated data\n",
    "    Assumes a functional from with a polynomial (up to cubic) plus a (optional) single-frequency sinusoid\n",
    "    \n",
    "    Parameters\n",
    "    ----------\n",
    "        xtime : ndarray\n",
    "            time values (e.g. linear ephemeris)\n",
    "        yomc : ndarray\n",
    "            observed-minus-caculated TTVs\n",
    "        polyorder : int\n",
    "            polynomial order (default=1)\n",
    "        period : float (optional)\n",
    "            if provided, the model will include a sinusoid component with tight priors on this period\n",
    "        use_gp : bool\n",
    "            True to include a Matern-3/2 covariance GP in addition to the parametric polynomial + sinusoid\n",
    "        xt_predict : ndarray\n",
    "            time values to predict OMC model; if not provided xtime will be used\n",
    "            \n",
    "    Returns\n",
    "    -------\n",
    "        model : pm.Model()\n",
    "    \"\"\"    \n",
    "    with pm.Model() as model:\n",
    "        # periodic component\n",
    "        if period is None:\n",
    "            f  = 1/(xtime.max()-xtime.min())\n",
    "            Ah = 0.0\n",
    "            Bk = 0.0\n",
    "            \n",
    "        else:\n",
    "            df = 1/(xtime.max()-xtime.min())\n",
    "            f  = pm.Normal(\"f\", mu=1/period, sd=df)\n",
    "            Ah = pm.Normal(\"Ah\", mu=0, sd=5*np.std(yomc))\n",
    "            Bk = pm.Normal(\"Bk\", mu=0, sd=5*np.std(yomc))\n",
    "            \n",
    "            \n",
    "        def sin_fxn(A, B, f, xt):\n",
    "            return A*T.sin(2*pi*f*xt) + B*T.cos(2*pi*f*xt)\n",
    "            \n",
    "        sin_trend = pm.Deterministic(\"sin_trend\", sin_fxn(Ah, Bk, f, xtime))\n",
    "        \n",
    "        \n",
    "        # polynomical component\n",
    "        C0 = pm.Normal(\"C0\", mu=0, sd=10)\n",
    "        C1 = 0.0\n",
    "        C2 = 0.0\n",
    "        C3 = 0.0\n",
    "\n",
    "        if polyorder >= 1: C1 = pm.Normal(\"C1\", mu=0, sd=10)\n",
    "        if polyorder >= 2: C2 = pm.Normal(\"C2\", mu=0, sd=10)\n",
    "        if polyorder >= 3: C3 = pm.Normal(\"C3\", mu=0, sd=10)\n",
    "        if polyorder >= 4: raise ValueError(\"only configured for 3rd order polynomials\")\n",
    "        \n",
    "        def poly_fxn(c0, c1, c2, c3, xt):\n",
    "            return c0 + c1*xt + c2*xt**2 + c3*xt**3\n",
    "        \n",
    "        poly_trend = pm.Deterministic(\"poly_trend\", poly_fxn(C0, C1, C2, C3, xtime))\n",
    "        \n",
    "        \n",
    "        # mean and jitter\n",
    "        mean = pm.Deterministic(\"mean\", sin_trend + poly_trend)\n",
    "        logjit = pm.Normal(\"logjit\", mu=np.log(np.var(yomc-sig.medfilt(yomc,kernel_size=5))), sd=10)\n",
    "        \n",
    "        \n",
    "        # times where trend will be predicted\n",
    "        if xt_predict is None:\n",
    "            xt_predict = xtime\n",
    "\n",
    "        \n",
    "        if use_gp:\n",
    "            # build the kernel and gp\n",
    "            dx = np.mean(np.diff(xtime))\n",
    "            \n",
    "            log_sigma = pm.Normal(\"log_sigma\", mu=np.log(np.std(yomc)), sd=5)\n",
    "            log_rho_off = pm.Normal(\"log_rho_off\", mu=np.log(4*dx), sd=5)\n",
    "            rho = pm.Deterministic(\"rho\", 4*dx + T.exp(log_rho_off))\n",
    "            \n",
    "            kernel = GPterms.Matern32Term(sigma=T.exp(log_sigma), rho=rho)\n",
    "\n",
    "            gp = GaussianProcess(kernel, t=xtime, diag=T.exp(logjit)*T.ones(len(xtime)), mean=mean)\n",
    "\n",
    "            gp.marginal(\"gp\", observed=yomc)\n",
    "\n",
    "\n",
    "        else:\n",
    "            # here's the likelihood\n",
    "            pm.Normal(\"obs\", mu=mean, sd=T.sqrt(T.exp(logjit)*T.ones(len(xtime))), observed=yomc)\n",
    "            \n",
    "        \n",
    "        # track GP prediction and trend\n",
    "        full_mean_pred = pm.Deterministic(\"full_mean_pred\", \n",
    "                                          sin_fxn(Ah,Bk,f,xt_predict) + \n",
    "                                          poly_fxn(C0,C1,C2,C3,xt_predict))\n",
    "            \n",
    "    return model"
   ]
  },
  {
   "cell_type": "code",
   "execution_count": null,
   "metadata": {},
   "outputs": [],
   "source": [
    "def build_mix_model(x):\n",
    "    \"\"\"\n",
    "    Build a 1D PyMC3 mixture model\n",
    "    The model is composed of two Normal distributions with the same mean but different variances\n",
    "    \n",
    "    Parameters\n",
    "    ----------\n",
    "        x : ndarray\n",
    "            vector of data values\n",
    "            \n",
    "    Returns\n",
    "    -------\n",
    "        model : pm.Model()    \n",
    "    \"\"\"\n",
    "    \n",
    "    xnorm = x / np.std(x)\n",
    "    xnorm -= np.mean(xnorm)\n",
    "    \n",
    "    with pm.Model() as model:\n",
    "        \n",
    "        # mixture parameters\n",
    "        w = pm.Dirichlet(\"w\", np.array([1.,1.]))\n",
    "        mu = pm.Normal(\"mu\", mu=0.0, sd=1.0, shape=1)\n",
    "        tau = pm.Gamma(\"tau\", 1.0, 1.0, shape=2)\n",
    "        \n",
    "        # here's the potential\n",
    "        obs = pm.NormalMixture(\"obs\", w, mu=mu*T.ones(2), tau=tau, observed=xnorm)\n",
    "        \n",
    "    return model"
   ]
  },
  {
   "cell_type": "code",
   "execution_count": null,
   "metadata": {},
   "outputs": [],
   "source": [
    "def flag_res_outliers(res, loc, scales):\n",
    "    \"\"\"\n",
    "    Flag outliers in a residuals vector using a mixture model\n",
    "    Assigns residuals to either a narrow foreground distribution or a wide background distribution\n",
    "    \n",
    "    \n",
    "    Parameters\n",
    "    ----------\n",
    "        res : ndarray (N)\n",
    "            vector of residuals\n",
    "        loc : float\n",
    "            normal mean inferred from build_mix_model()\n",
    "        scales : tuple\n",
    "            normal standard deviations inferred from build_mix_model()\n",
    "            \n",
    "    Returns\n",
    "    -------\n",
    "        fg_prob : ndarray (N)\n",
    "            probability the each item in res belongs to the foreground distribution\n",
    "        bad : bool (N)\n",
    "            binary classification of each item in res into foreground/background distribution\n",
    "    \"\"\"\n",
    "    \n",
    "    resnorm = residuals/np.std(residuals)\n",
    "    resnorm -= np.mean(resnorm)\n",
    "    \n",
    "    order = np.argsort(scales)\n",
    "    scales = scales[order]\n",
    "    \n",
    "    z_fg = stats.norm(loc=loc, scale=scales[0]).pdf(resnorm)\n",
    "    z_bg = stats.norm(loc=loc, scale=scales[1]).pdf(resnorm)\n",
    "\n",
    "    fg_prob = z_fg/(z_fg+z_bg)\n",
    "    fg_prob = (fg_prob - fg_prob.min())/(fg_prob.max()-fg_prob.min())\n",
    "\n",
    "\n",
    "    # use KMeans clustering to assign each point to the foreground or background\n",
    "    km = KMeans(n_clusters=2)\n",
    "    group = km.fit_predict(fg_prob.reshape(-1,1))\n",
    "    centroids = np.array([np.mean(fg_prob[group==0]), np.mean(fg_prob[group==1])])\n",
    "\n",
    "    bad = group == np.argmin(centroids)\n",
    "        \n",
    "    return fg_prob, bad"
   ]
  },
  {
   "cell_type": "code",
   "execution_count": null,
   "metadata": {
    "scrolled": false
   },
   "outputs": [],
   "source": [
    "matern_ephemeris = []\n",
    "matern_transit_times = []\n",
    "\n",
    "outlier_prob = []\n",
    "outlier_class = []\n",
    "\n",
    "for npl, p in enumerate(planets):\n",
    "    print(\"\\nPLANET\", npl)\n",
    "    \n",
    "    # grab data\n",
    "    xtime = indep_ephemeris[npl]\n",
    "    yomc  = indep_transit_times[npl] - indep_ephemeris[npl]\n",
    "\n",
    "    ymed = boxcar_smooth(ndimage.median_filter(yomc, size=5, mode=\"mirror\"), winsize=5)\n",
    "    out  = np.abs(yomc-ymed)/astropy.stats.mad_std(yomc-ymed) > 5.0\n",
    "    \n",
    "    \n",
    "    # compare various models\n",
    "    aiclist = []\n",
    "    biclist = []\n",
    "    outlist = []\n",
    "    fgplist = []\n",
    "    \n",
    "    if np.sum(~out) >= 16: max_polyorder = 3\n",
    "    elif np.sum(~out) >= 8: max_polyorder = 2\n",
    "    else: max_polyorder = 1\n",
    "    \n",
    "    for polyorder in range(1, max_polyorder+1):\n",
    "        \n",
    "        # build the OMC model\n",
    "        omc_model = build_omc_model(xtime[~out], yomc[~out], polyorder=polyorder, \n",
    "                                    period=omc_pers[npl], use_gp=False, xt_predict=xtime)\n",
    "\n",
    "        with omc_model:\n",
    "            omc_map = omc_model.test_point\n",
    "            \n",
    "            if omc_pers[npl] is not None:\n",
    "                omc_map = pmx.optimize(start=omc_map, vars=[omc_model.f, omc_model.Ah, omc_model.Bk])\n",
    "            if polyorder >= 1:\n",
    "                omc_map = pmx.optimize(start=omc_map, vars=[omc_model.C0, omc_model.C1])\n",
    "            if polyorder >= 2:\n",
    "                omc_map = pmx.optimize(start=omc_map, vars=[omc_model.C0, omc_model.C1, omc_model.C2])\n",
    "            if polyorder >= 3:\n",
    "                omc_map = pmx.optimize(start=omc_map, vars=[omc_model.C0, omc_model.C1, omc_model.C2, omc_model.C3])\n",
    "                \n",
    "            omc_map = pmx.optimize(start=omc_map)\n",
    "            omc_trace = pmx.sample(tune=5000, draws=1000, start=omc_map, chains=2, target_accept=0.9)\n",
    "\n",
    "        \n",
    "        # flag outliers via mixture model of the residuals\n",
    "        omc_trend = np.nanmedian(omc_trace[\"full_mean_pred\"], 0)\n",
    "        residuals = yomc - omc_trend\n",
    "        \n",
    "        \n",
    "        plt.figure(figsize=(12,3))\n",
    "        plt.plot(xtime, yomc, \"k.\")\n",
    "        plt.plot(xtime, omc_trend, \"r\", lw=2)\n",
    "        plt.show()\n",
    "        \n",
    "        mix_model = build_mix_model(residuals)\n",
    "        \n",
    "        with mix_model:\n",
    "            mix_trace = pmx.sample(tune=3000, draws=1000, chains=1, target_accept=0.9)\n",
    "\n",
    "        loc = np.nanmedian(mix_trace[\"mu\"], axis=0)\n",
    "        scales = np.nanmedian(1/np.sqrt(mix_trace[\"tau\"]), axis=0)\n",
    "\n",
    "        fg_prob, bad = flag_res_outliers(residuals, loc, scales)\n",
    "        \n",
    "        outlist.append(bad)\n",
    "        fgplist.append(fg_prob)\n",
    "        \n",
    "        print(\"polyorder:\", polyorder)\n",
    "        print(\"loc:\", np.round(loc,3))\n",
    "        print(\"scale:\", np.round(scales,3))\n",
    "        print(\"{0} outliers found out of {1} transit times ({2}%)\".format(np.sum(bad), len(bad), \n",
    "                                                                          np.round(100.*np.sum(bad)/len(bad),1)))\n",
    "        \n",
    "        # calculate AIC & BIC\n",
    "        n = len(yomc)\n",
    "        k = polyorder + 3\n",
    "        \n",
    "        AIC = n*np.log(np.sum(residuals[~bad]**2)/np.sum(~bad)) + 2*k\n",
    "        BIC = n*np.log(np.sum(residuals[~bad]**2)/np.sum(~bad)) + k*np.log(n)\n",
    "        \n",
    "        aiclist.append(AIC)\n",
    "        biclist.append(BIC)\n",
    "        \n",
    "        print(\"AIC:\", np.round(AIC,1))\n",
    "        print(\"BIC:\", np.round(BIC,1))\n",
    "      \n",
    "    \n",
    "    # choose the best model and recompute\n",
    "    bad = outlist[np.argmin(aiclist)]\n",
    "    polyorder = 1 + np.argmin(aiclist)\n",
    "    \n",
    "    \n",
    "    omc_model = build_omc_model(xtime[~bad], yomc[~bad], polyorder=polyorder, period=omc_pers[npl], \n",
    "                                use_gp=False, xt_predict = full_indep_ephemeris[npl])\n",
    "\n",
    "    with omc_model:\n",
    "        omc_map = omc_model.test_point\n",
    "        if omc_pers[npl] is not None:\n",
    "            omc_map = pmx.optimize(start=omc_map, vars=[omc_model.f, omc_model.Ah, omc_model.Bk])\n",
    "        omc_map = pmx.optimize(start=omc_map)\n",
    "        omc_trace = pmx.sample(tune=10000, draws=1000, start=omc_map, chains=2, target_accept=0.95)\n",
    "    \n",
    "\n",
    "    omc_trend = np.nanmean(omc_trace[\"full_mean_pred\"], 0)\n",
    "    fg_prob = fgplist[np.argmin(aiclist)]\n",
    "\n",
    "    # save the final results\n",
    "    mtts = full_indep_ephemeris[npl] + omc_trend\n",
    "    mephem = poly.polyval(p.index, poly.polyfit(p.index, mtts, 1))\n",
    "                                                                          \n",
    "    matern_transit_times.append(mtts)\n",
    "    matern_ephemeris.append(mephem) \n",
    "    \n",
    "    outlier_prob.append(1-fg_prob)\n",
    "    outlier_class.append(bad)\n",
    "    \n",
    "    # plot the final trend and outliers\n",
    "    plt.figure(figsize=(12,4))\n",
    "    plt.scatter(xtime, yomc*24*60, c=1-fg_prob, cmap=\"viridis\", label=\"MAP TTVs\")\n",
    "    plt.plot(xtime[bad], yomc[bad]*24*60, \"rx\")\n",
    "    plt.plot(full_indep_ephemeris[npl], omc_trend*24*60, \"k\", label=\"Quick model\")\n",
    "    plt.xlabel(\"Time [BJKD]\", fontsize=20)\n",
    "    plt.ylabel(\"O-C [min]\", fontsize=20)\n",
    "    plt.xticks(fontsize=14)\n",
    "    plt.yticks(fontsize=14)\n",
    "    plt.legend(fontsize=14, loc=\"upper right\")\n",
    "    plt.title(TARGET, fontsize=20)\n",
    "    plt.savefig(FIGURE_DIR + TARGET + '_omc_model_{0}.png'.format(npl), bbox_inches='tight')\n",
    "    plt.show()"
   ]
  },
  {
   "cell_type": "code",
   "execution_count": null,
   "metadata": {},
   "outputs": [],
   "source": [
    "fig, axes = plt.subplots(NPL, figsize=(12,3*NPL))\n",
    "if NPL == 1: axes = [axes]\n",
    "\n",
    "for npl, p in enumerate(planets):\n",
    "    xtime = matern_transit_times[npl]\n",
    "    yomc  = (matern_transit_times[npl] - matern_ephemeris[npl])*24*60\n",
    "    \n",
    "    axes[npl].plot(xtime, yomc, '.', c='C{0}'.format(npl))\n",
    "    axes[npl].set_ylabel('O-C [min]', fontsize=20)\n",
    "axes[NPL-1].set_xlabel('Time [BJKD]', fontsize=20)\n",
    "axes[0].set_title(TARGET, fontsize=20)\n",
    "plt.savefig(FIGURE_DIR + TARGET + '_ttvs_quick.png', bbox_inches='tight')\n",
    "plt.show()"
   ]
  },
  {
   "cell_type": "markdown",
   "metadata": {},
   "source": [
    "# Estimate TTV amplitudes"
   ]
  },
  {
   "cell_type": "code",
   "execution_count": null,
   "metadata": {},
   "outputs": [],
   "source": [
    "# get estimate of ttv amplitude and a reasonable buffer\n",
    "ttv_amps   = np.zeros(NPL)\n",
    "ttv_buffer = np.zeros(NPL)\n",
    "\n",
    "for npl in range(NPL):\n",
    "    # estimate TTV amplitude\n",
    "    ttv_amps[npl] = astropy.stats.mad_std(indep_transit_times[npl] - indep_ephemeris[npl])\n",
    "\n",
    "    # based on scatter in independent times, set threshold so not even one outlier is expected\n",
    "    N   = len(transit_inds[npl])\n",
    "    eta = np.max([3., stats.norm.interval((N-1)/N)[1]])\n",
    "\n",
    "    ttv_buffer[npl] = eta*ttv_amps[npl] + lcit"
   ]
  },
  {
   "cell_type": "markdown",
   "metadata": {},
   "source": [
    "# Update and save TTVs"
   ]
  },
  {
   "cell_type": "code",
   "execution_count": null,
   "metadata": {
    "scrolled": true
   },
   "outputs": [],
   "source": [
    "quick_transit_times = []\n",
    "\n",
    "for npl in range(NPL):\n",
    "    p.tts = np.copy(matern_transit_times[npl])\n",
    "    quick_transit_times.append(p.tts[transit_inds[npl]])\n",
    "    \n",
    "\n",
    "for npl in range(NPL):\n",
    "    # update transit times in planet objects\n",
    "    p.tts = np.copy(matern_transit_times[npl])\n",
    "    \n",
    "    # save everything all together\n",
    "    data_out  = np.vstack([transit_inds[npl],\n",
    "                           indep_transit_times[npl],\n",
    "                           quick_transit_times[npl],\n",
    "                           outlier_prob[npl], \n",
    "                           outlier_class[npl]]).swapaxes(0,1)\n",
    "    fname_out = QUICK_TTV_DIR + TARGET + '_{:02d}'.format(npl) + '_quick.ttvs'\n",
    "    \n",
    "    np.savetxt(fname_out, data_out, fmt=('%1d', '%.8f', '%.8f', '%.8f', '%1d'), delimiter='\\t')\n"
   ]
  },
  {
   "cell_type": "markdown",
   "metadata": {},
   "source": [
    "# Flag outliers based on transit model\n",
    "#### Cadences must be flagged as outliers from BOTH the Matern model and the Independent model to be rejected"
   ]
  },
  {
   "cell_type": "code",
   "execution_count": null,
   "metadata": {},
   "outputs": [],
   "source": [
    "print(\"Flagging remaining outliers\\n\")"
   ]
  },
  {
   "cell_type": "code",
   "execution_count": null,
   "metadata": {},
   "outputs": [],
   "source": [
    "res_i = []\n",
    "res_m = []\n",
    "\n",
    "for j, q in enumerate(quarters):\n",
    "    print(\"QUARTER\", q)\n",
    "    \n",
    "    # grab time and flux data\n",
    "    if all_dtype[q] == \"long\":\n",
    "        use = lc.quarter == q\n",
    "        t_ = lc.time[use]\n",
    "        f_ = lc.flux[use]\n",
    "        \n",
    "    elif all_dtype[q] == \"short\":\n",
    "        use = sc.quarter == q\n",
    "        t_ = sc.time[use]\n",
    "        f_ = sc.flux[use]\n",
    "        \n",
    "    \n",
    "    # grab transit times for each planet\n",
    "    wp_i = []\n",
    "    tts_i = []\n",
    "    inds_i = []\n",
    "    \n",
    "    wp_m = []\n",
    "    tts_m = []\n",
    "    inds_m = []\n",
    "    \n",
    "    for npl in range(NPL):\n",
    "        itt = indep_transit_times[npl]\n",
    "        mtt = matern_transit_times[npl][transit_inds[npl]]\n",
    "        \n",
    "        use_i = (itt > t_.min())*(itt < t_.max())\n",
    "        use_m = (mtt > t_.min())*(mtt < t_.max())\n",
    "        \n",
    "        if np.sum(use_i) > 0:\n",
    "            wp_i.append(npl)\n",
    "            tts_i.append(itt[use_i])\n",
    "            inds_i.append(transit_inds[npl][use_i] - transit_inds[npl][use_i][0])\n",
    "            \n",
    "        if np.sum(use_m) > 0:\n",
    "            wp_m.append(npl)\n",
    "            tts_m.append(itt[use_m])\n",
    "            inds_m.append(transit_inds[npl][use_m] - transit_inds[npl][use_m][0])\n",
    "            \n",
    "\n",
    "    \n",
    "    # first check independent transit times\n",
    "    if len(tts) > 0:\n",
    "        # set up model\n",
    "        starrystar = exo.LimbDarkLightCurve([U1,U2])\n",
    "        orbit  = exo.orbits.TTVOrbit(transit_times=tts_i, transit_inds=inds_i, period=list(periods[wp_i]), \n",
    "                                     b=impacts[wp_i], ror=rors[wp_i], duration=durs[wp_i])\n",
    "\n",
    "        # set oversampling factor\n",
    "        if all_dtype[q] == 'short':\n",
    "            oversample = 1\n",
    "            texp = scit\n",
    "        elif all_dtype[q] == 'long':\n",
    "            oversample = 15\n",
    "            texp = lcit\n",
    "\n",
    "        # calculate light curves\n",
    "        light_curves = starrystar.get_light_curve(orbit=orbit, r=rors[wp_i], t=t_, oversample=oversample, texp=texp)\n",
    "        model_flux = 1.0 + pm.math.sum(light_curves, axis=-1).eval()\n",
    "\n",
    "    else:\n",
    "        model_flux = np.ones_like(f_)*np.mean(f_)\n",
    "    \n",
    "    # calculate residuals\n",
    "    res_i.append(f_ - model_flux)\n",
    "    \n",
    "    \n",
    "    \n",
    "    # then check matern transit times\n",
    "    if len(tts) > 0:\n",
    "        # set up model\n",
    "        starrystar = exo.LimbDarkLightCurve([U1,U2])\n",
    "        orbit  = exo.orbits.TTVOrbit(transit_times=tts_m, transit_inds=inds_m, period=list(periods[wp_m]), \n",
    "                                     b=impacts[wp_m], ror=rors[wp_m], duration=durs[wp_m])\n",
    "\n",
    "        # set oversampling factor\n",
    "        if all_dtype[q] == 'short':\n",
    "            oversample = 1\n",
    "            texp = scit*1.0\n",
    "        elif all_dtype[q] == 'long':\n",
    "            oversample = 15\n",
    "            texp = lcit*1.0\n",
    "\n",
    "        # calculate light curves\n",
    "        light_curves = starrystar.get_light_curve(orbit=orbit, r=rors[wp_m], t=t_, oversample=oversample, texp=texp)\n",
    "        model_flux = 1.0 + pm.math.sum(light_curves, axis=-1).eval()\n",
    "\n",
    "    else:\n",
    "        model_flux = np.ones_like(f_)*np.mean(f_)\n",
    "    \n",
    "    # calculate residuals\n",
    "    res_m.append(f_ - model_flux)"
   ]
  },
  {
   "cell_type": "code",
   "execution_count": null,
   "metadata": {
    "scrolled": false
   },
   "outputs": [],
   "source": [
    "for j, q in enumerate(quarters):\n",
    "    print(\"\\nQUARTER\", q)\n",
    "    res = 0.5*(res_i[j] + res_m[j])\n",
    "    x_ = np.arange(len(res))\n",
    "    \n",
    "    bad_i = np.abs(res_i[j] - np.mean(res_i[j]))/astropy.stats.mad_std(res_i[j]) > 5.0\n",
    "    bad_m = np.abs(res_m[j] - np.mean(res_m[j]))/astropy.stats.mad_std(res_m[j]) > 5.0\n",
    "    \n",
    "    bad = bad_i * bad_m\n",
    "    \n",
    "    print(\"   outliers rejected:\", np.sum(bad))\n",
    "    print(\"   marginal outliers:\", np.sum(bad_i*~bad_m)+np.sum(~bad_i*bad_m))\n",
    "    \n",
    "    plt.figure(figsize=(20,3))\n",
    "    plt.plot(x_, res, \"k\", lw=0.5)\n",
    "    plt.plot(x_[bad], res[bad], \"rx\")\n",
    "    plt.xlim(x_.min(), x_.max())\n",
    "    plt.show()"
   ]
  },
  {
   "cell_type": "code",
   "execution_count": null,
   "metadata": {},
   "outputs": [],
   "source": [
    "bad_lc = []\n",
    "bad_sc = []\n",
    "\n",
    "for q in range(18):\n",
    "    if all_dtype[q] == \"long_no_transits\":\n",
    "        bad = np.ones(np.sum(lc.quarter == q), dtype=\"bool\")\n",
    "        bad_lc = np.hstack([bad_lc, bad])\n",
    "        \n",
    "        \n",
    "    if all_dtype[q] == \"short_no_transits\":\n",
    "        bad = np.ones(np.sum(sc.quarter == q), dtype=\"bool\")\n",
    "        bad_sc = np.hstack([bad_sc, bad])    \n",
    "    \n",
    "    \n",
    "    if (all_dtype[q] == \"short\") + (all_dtype[q] == \"long\"):\n",
    "        j = np.where(quarters == q)[0][0]\n",
    "\n",
    "        res = 0.5*(res_i[j] + res_m[j])\n",
    "        x_ = np.arange(len(res))\n",
    "\n",
    "        bad_i = np.abs(res_i[j] - np.mean(res_i[j]))/astropy.stats.mad_std(res_i[j]) > 5.0\n",
    "        bad_m = np.abs(res_m[j] - np.mean(res_m[j]))/astropy.stats.mad_std(res_m[j]) > 5.0\n",
    "\n",
    "        bad = bad_i * bad_m\n",
    "\n",
    "        if all_dtype[q] == \"short\":\n",
    "            bad_sc = np.hstack([bad_sc, bad])\n",
    "\n",
    "        if all_dtype[q] == \"long\":\n",
    "            bad_lc = np.hstack([bad_lc, bad])\n",
    "        \n",
    "        \n",
    "bad_lc = np.array(bad_lc, dtype=\"bool\")\n",
    "bad_sc = np.array(bad_sc, dtype=\"bool\")\n",
    "\n",
    "\n",
    "if sc is not None:\n",
    "    good_cadno_sc = sc.cadno[~bad_sc]\n",
    "    \n",
    "if lc is not None:\n",
    "    good_cadno_lc = lc.cadno[~bad_lc]"
   ]
  },
  {
   "cell_type": "markdown",
   "metadata": {},
   "source": [
    "# Detrend again with better estimates of transit timing"
   ]
  },
  {
   "cell_type": "code",
   "execution_count": null,
   "metadata": {},
   "outputs": [],
   "source": [
    "# reset LONG CADENCE to raw MAST downloads\n",
    "if lc is not None:\n",
    "    lc_data = detrend.cleanup_lkfc(lc_raw_collection, KIC)\n",
    "    \n",
    "# make sure there is at least one transit in the long cadence data\n",
    "# this shouldn't be an issue for real KOIs, but can happen for simulated data\n",
    "if np.sum(np.array(all_dtype) == \"long\") == 0:\n",
    "    lc_data = []\n",
    "    \n",
    "    \n",
    "lc_quarters = []\n",
    "for i, lcd in enumerate(lc_data):\n",
    "    lc_quarters.append(lcd.quarter)"
   ]
  },
  {
   "cell_type": "code",
   "execution_count": null,
   "metadata": {},
   "outputs": [],
   "source": [
    "# reset SHORT CADENCE to raw MAST downloads\n",
    "if sc is not None:\n",
    "    sc_data = detrend.cleanup_lkfc(sc_raw_collection, KIC)\n",
    "\n",
    "# make sure there is at least one transit in the short cadence data\n",
    "# this shouldn't be an issue for real KOIs, but can happen for simulated data\n",
    "if np.sum(np.array(all_dtype) == \"short\") == 0:\n",
    "    sc_data = []\n",
    "    \n",
    "    \n",
    "sc_quarters = []\n",
    "for i, scd in enumerate(sc_data):\n",
    "    sc_quarters.append(scd.quarter)"
   ]
  },
  {
   "cell_type": "code",
   "execution_count": null,
   "metadata": {},
   "outputs": [],
   "source": [
    "# convert LightKurves to LiteCurves\n",
    "sc_lite = []\n",
    "lc_lite = []\n",
    "\n",
    "for i, scd in enumerate(sc_data):\n",
    "    sc_lite.append(LightKurve_to_LiteCurve(scd))\n",
    "    \n",
    "for i, lcd in enumerate(lc_data):\n",
    "    lc_lite.append(LightKurve_to_LiteCurve(lcd))\n",
    "    \n",
    "    \n",
    "# renaming here is an artifact of updates to my pipeline and dependencies\n",
    "# this is easier than going through and fixing all variable names\n",
    "sc_data = sc_lite\n",
    "lc_data = lc_lite"
   ]
  },
  {
   "cell_type": "code",
   "execution_count": null,
   "metadata": {},
   "outputs": [],
   "source": [
    "sc_data = []\n",
    "for i, scl in enumerate(sc_lite):\n",
    "    print(\"QUARTER {}\".format(scl.quarter[0]))\n",
    "    \n",
    "    qmask = np.isin(scl.cadno, good_cadno_sc)\n",
    "    \n",
    "    if np.sum(qmask)/len(qmask) > 0.1:\n",
    "        sc_data.append(scl.remove_flagged_cadences(qmask))\n",
    "\n",
    "        \n",
    "lc_data = []\n",
    "for i, lcl in enumerate(lc_lite):\n",
    "    print(\"QUARTER {}\".format(lcl.quarter[0]))\n",
    "    \n",
    "    qmask = np.isin(lcl.cadno, good_cadno_lc)\n",
    "    \n",
    "    if np.sum(qmask)/len(qmask) > 0.1:\n",
    "        lc_data.append(lcl.remove_flagged_cadences(qmask))"
   ]
  },
  {
   "cell_type": "code",
   "execution_count": null,
   "metadata": {},
   "outputs": [],
   "source": [
    "# set break tolerance and nominal minimum oscillation period\n",
    "break_tolerance = np.max([int(DURS.min()/(LCIT/60/24)*5/2), 13])\n",
    "min_period = 1.0\n",
    "\n",
    "\n",
    "for i, lcd in enumerate(lc_data):\n",
    "    print(\"QUARTER {}\".format(lcd.quarter[0]))\n",
    "    \n",
    "    # make transit mask\n",
    "    lcd.mask = np.zeros(len(lcd.time), dtype=\"bool\")\n",
    "    for npl, p in enumerate(planets):\n",
    "        masksize = np.max([1/24, 0.5*p.duration + ttv_buffer[npl]])\n",
    "        lcd.mask += detrend.make_transitmask(lcd.time, p.tts, masksize)\n",
    "    \n",
    "    try:\n",
    "        lcd = detrend.flatten_with_gp(lcd, break_tolerance, min_period)\n",
    "    except:\n",
    "        warnings.warn(\"Initial detrending model failed...attempting to refit without exponential ramp component\")\n",
    "        try:\n",
    "            lcd = detrend.flatten_with_gp(lcd, break_tolerance, min_period, correct_ramp=False)\n",
    "        except:\n",
    "            warnings.warn(\"Detrending with RotationTerm failed...attempting to detrend with SHOTerm\")\n",
    "            lcd = detrend.flatten_with_gp(lcd, break_tolerance, min_period, kterm=\"SHOTerm\", correct_ramp=False)        "
   ]
  },
  {
   "cell_type": "code",
   "execution_count": null,
   "metadata": {},
   "outputs": [],
   "source": [
    "if len(lc_data) > 0:\n",
    "    lc = detrend.stitch(lc_data)\n",
    "else:\n",
    "    lc = None"
   ]
  },
  {
   "cell_type": "code",
   "execution_count": null,
   "metadata": {},
   "outputs": [],
   "source": [
    "# set break tolerance and nominal minimum oscillation period\n",
    "break_tolerance = np.max([int(DURS.min()/(SCIT/3600/24)*5/2), 91])\n",
    "min_period = 1.0\n",
    "\n",
    "\n",
    "for i, scd in enumerate(sc_data):\n",
    "    print(\"QUARTER {}\".format(scd.quarter[0]))\n",
    "    \n",
    "    # make transit mask\n",
    "    scd.mask = np.zeros(len(scd.time), dtype=\"bool\")\n",
    "    for npl, p in enumerate(planets):\n",
    "        masksize = np.max([1/24, 0.5*p.duration + ttv_buffer[npl]])\n",
    "        scd.mask += detrend.make_transitmask(scd.time, p.tts, masksize)\n",
    "    \n",
    "    try:\n",
    "        scd = detrend.flatten_with_gp(scd, break_tolerance, min_period)\n",
    "    except:\n",
    "        warnings.warn(\"Initial detrending model failed...attempting to refit without exponential ramp component\")\n",
    "        try:\n",
    "            scd = detrend.flatten_with_gp(scd, break_tolerance, min_period, correct_ramp=False)\n",
    "        except:\n",
    "            warnings.warn(\"Detrending with RotationTerm failed...attempting to detrend with SHOTerm\")\n",
    "            scd = detrend.flatten_with_gp(scd, break_tolerance, min_period, kterm=\"SHOTerm\", correct_ramp=False)"
   ]
  },
  {
   "cell_type": "code",
   "execution_count": null,
   "metadata": {},
   "outputs": [],
   "source": [
    "if len(sc_data) > 0:\n",
    "    sc = detrend.stitch(sc_data)\n",
    "else:\n",
    "    sc = None"
   ]
  },
  {
   "cell_type": "markdown",
   "metadata": {},
   "source": [
    "# Make individual mask for where each planet transits\n",
    "### These masks have width 1.5 transit durations, which may be wider than the masks used for detrending"
   ]
  },
  {
   "cell_type": "code",
   "execution_count": null,
   "metadata": {
    "scrolled": true
   },
   "outputs": [],
   "source": [
    "if sc is not None:\n",
    "    sc_mask = np.zeros((NPL,len(sc.time)),dtype='bool')\n",
    "    for npl, p in enumerate(planets):\n",
    "        sc_mask[npl] = detrend.make_transitmask(sc.time, p.tts, np.max([3/24,1.5*p.duration]))\n",
    "        \n",
    "    sc.mask = sc_mask.sum(axis=0) > 0\n",
    "\n",
    "else:\n",
    "    sc_mask = None\n",
    "\n",
    "    \n",
    "if lc is not None:\n",
    "    lc_mask = np.zeros((NPL,len(lc.time)),dtype='bool')\n",
    "    for npl, p in enumerate(planets):\n",
    "        lc_mask[npl] = detrend.make_transitmask(lc.time, p.tts, np.max([3/24,1.5*p.duration]))\n",
    "        \n",
    "    lc.mask = lc_mask.sum(axis=0) > 0\n",
    "\n",
    "else:\n",
    "    lc_mask = None"
   ]
  },
  {
   "cell_type": "markdown",
   "metadata": {},
   "source": [
    "# Flag high quality transits (quality = 1)\n",
    "\n",
    "### Good transits must have  at least 50% photometry coverage in/near transit"
   ]
  },
  {
   "cell_type": "code",
   "execution_count": null,
   "metadata": {},
   "outputs": [],
   "source": [
    "for npl, p in enumerate(planets):\n",
    "    count_expect_lc = int(np.ceil(p.duration/lcit))\n",
    "    count_expect_sc = int(np.ceil(p.duration/scit))\n",
    "        \n",
    "    quality = np.zeros(len(p.tts), dtype=\"bool\")\n",
    "    \n",
    "    for i, t0 in enumerate(p.tts):\n",
    "        \n",
    "        if sc is not None:\n",
    "            in_sc = np.abs(sc.time - t0)/p.duration < 0.5\n",
    "            near_sc = np.abs(sc.time - t0)/p.duration < 1.5\n",
    "            \n",
    "            qual_in = np.sum(in_sc) > 0.5*count_expect_sc\n",
    "            qual_near = np.sum(near_sc) > 1.5*count_expect_sc\n",
    "            \n",
    "            quality[i] += qual_in*qual_near\n",
    "        \n",
    "        \n",
    "        if lc is not None:\n",
    "            in_lc = np.abs(lc.time - t0)/p.duration < 0.5\n",
    "            near_lc = np.abs(lc.time - t0)/p.duration < 1.5\n",
    "            \n",
    "            qual_in = np.sum(in_lc) > 0.5*count_expect_lc\n",
    "            qual_near = np.sum(near_lc) > 1.5*count_expect_lc\n",
    "            \n",
    "            quality[i] += qual_in*qual_near\n",
    "            \n",
    "    \n",
    "    p.quality = np.copy(quality)"
   ]
  },
  {
   "cell_type": "markdown",
   "metadata": {},
   "source": [
    "# Flag which transits overlap (overlap = 1)"
   ]
  },
  {
   "cell_type": "code",
   "execution_count": null,
   "metadata": {
    "scrolled": true
   },
   "outputs": [],
   "source": [
    "# identify overlapping transits\n",
    "overlap = []\n",
    "\n",
    "for i in range(NPL):\n",
    "    overlap.append(np.zeros(len(planets[i].tts), dtype='bool'))\n",
    "    \n",
    "    for j in range(NPL):\n",
    "        if i != j:\n",
    "            for ttj in planets[j].tts:\n",
    "                overlap[i] += np.abs(planets[i].tts - ttj)/durs.max() < 1.5\n",
    "                \n",
    "    planets[i].overlap = np.copy(overlap[i])"
   ]
  },
  {
   "cell_type": "code",
   "execution_count": null,
   "metadata": {
    "scrolled": true
   },
   "outputs": [],
   "source": [
    "print('')\n",
    "print('cumulative runtime = ', int(timer() - global_start_time), 's')\n",
    "print('')"
   ]
  },
  {
   "cell_type": "markdown",
   "metadata": {},
   "source": [
    "# Make phase-folded transit plots"
   ]
  },
  {
   "cell_type": "code",
   "execution_count": null,
   "metadata": {
    "scrolled": false
   },
   "outputs": [],
   "source": [
    "for npl, p in enumerate(planets):\n",
    "    tts = p.tts[p.quality*~p.overlap]\n",
    "    \n",
    "    if len(tts) == 0:\n",
    "        print(\"No non-overlapping high quality transits found for planet {0} (P = {1} d)\".format(npl, p.period))\n",
    "    \n",
    "    else:\n",
    "        t_folded = []\n",
    "        f_folded = []\n",
    "\n",
    "        # grab the data\n",
    "        for t0 in tts:\n",
    "            if sc is not None:\n",
    "                use = np.abs(sc.time-t0)/p.duration < 1.5\n",
    "                \n",
    "                if np.sum(use) > 0:\n",
    "                    t_folded.append(sc.time[use]-t0)\n",
    "                    f_folded.append(sc.flux[use])\n",
    "                    \n",
    "            if lc is not None:\n",
    "                use = np.abs(lc.time-t0)/p.duration < 1.5\n",
    "                \n",
    "                if np.sum(use) > 0:\n",
    "                    t_folded.append(lc.time[use]-t0)\n",
    "                    f_folded.append(lc.flux[use])\n",
    "        \n",
    "        # sort the data\n",
    "        t_folded = np.hstack(t_folded)\n",
    "        f_folded = np.hstack(f_folded)\n",
    "\n",
    "        order = np.argsort(t_folded)\n",
    "        t_folded = t_folded[order]\n",
    "        f_folded = f_folded[order]\n",
    "        \n",
    "        # bin the data\n",
    "        t_binned, f_binned = bin_data(t_folded, f_folded, p.duration/11)\n",
    "        \n",
    "        # set undersampling factor and plotting limits\n",
    "        inds = np.arange(len(t_folded), dtype=\"int\")\n",
    "        inds = np.random.choice(inds, size=np.min([3000,len(inds)]), replace=False)\n",
    "        \n",
    "        ymin = 1 - 3*np.std(f_folded) - p.depth\n",
    "        ymax = 1 + 3*np.std(f_folded)\n",
    "        \n",
    "        # plot the data\n",
    "        plt.figure(figsize=(12,4))\n",
    "        plt.plot(t_folded[inds]*24, f_folded[inds], \".\", c=\"lightgrey\")\n",
    "        plt.plot(t_binned*24, f_binned, \"o\", ms=8, color=\"C{0}\".format(npl), label=\"{0}-{1}\".format(TARGET, npl))\n",
    "        plt.xlim(t_folded.min()*24, t_folded.max()*24)\n",
    "        plt.ylim(ymin, ymax)\n",
    "        plt.xticks(fontsize=14)\n",
    "        plt.yticks(fontsize=14)\n",
    "        plt.xlabel(\"Time from mid-transit [hrs]\", fontsize=20)\n",
    "        plt.ylabel(\"Flux\", fontsize=20)\n",
    "        plt.savefig(FIGURE_DIR + TARGET + '_{0:02d}_folded_transit_.png'.format(npl), bbox_inches='tight')\n",
    "        plt.legend(fontsize=20, loc=\"upper right\", framealpha=1)\n",
    "        plt.show()"
   ]
  },
  {
   "cell_type": "markdown",
   "metadata": {},
   "source": [
    "# Save detrended lightcurves"
   ]
  },
  {
   "cell_type": "code",
   "execution_count": null,
   "metadata": {
    "scrolled": true
   },
   "outputs": [],
   "source": [
    "# Save detrended lightcurves as .fits files\n",
    "try:\n",
    "    lc.to_fits(TARGET, DLC_DIR + TARGET + \"_lc_detrended.fits\")\n",
    "except:\n",
    "    print(\"No long cadence data\")\n",
    "\n",
    "try:\n",
    "    sc.to_fits(TARGET, DLC_DIR + TARGET + \"_sc_detrended.fits\")\n",
    "except:\n",
    "    print(\"No short cadence data\")"
   ]
  },
  {
   "cell_type": "code",
   "execution_count": null,
   "metadata": {
    "scrolled": true
   },
   "outputs": [],
   "source": [
    "print(\"TOTAL RUNTIME = %.2f min\" %((timer()-global_start_time)/60))"
   ]
  },
  {
   "cell_type": "code",
   "execution_count": null,
   "metadata": {},
   "outputs": [],
   "source": []
  }
 ],
 "metadata": {
  "kernelspec": {
   "display_name": "Python 3",
   "language": "python",
   "name": "python3"
  },
  "language_info": {
   "codemirror_mode": {
    "name": "ipython",
    "version": 3
   },
   "file_extension": ".py",
   "mimetype": "text/x-python",
   "name": "python",
   "nbconvert_exporter": "python",
   "pygments_lexer": "ipython3",
   "version": "3.7.3"
  }
 },
 "nbformat": 4,
 "nbformat_minor": 2
}
