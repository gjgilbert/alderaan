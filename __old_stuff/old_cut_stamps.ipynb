{
 "cells": [
  {
   "cell_type": "code",
   "execution_count": 1,
   "metadata": {},
   "outputs": [
    {
     "name": "stdout",
     "output_type": "stream",
     "text": [
      "cutting stamps\n"
     ]
    },
    {
     "ename": "NameError",
     "evalue": "name 'planets' is not defined",
     "output_type": "error",
     "traceback": [
      "\u001b[0;31m---------------------------------------------------------------------------\u001b[0m",
      "\u001b[0;31mNameError\u001b[0m                                 Traceback (most recent call last)",
      "\u001b[0;32m<ipython-input-1-bbf41d596c4a>\u001b[0m in \u001b[0;36m<module>\u001b[0;34m\u001b[0m\n\u001b[1;32m      2\u001b[0m \u001b[0mprint\u001b[0m\u001b[0;34m(\u001b[0m\u001b[0;34m'cutting stamps'\u001b[0m\u001b[0;34m)\u001b[0m\u001b[0;34m\u001b[0m\u001b[0;34m\u001b[0m\u001b[0m\n\u001b[1;32m      3\u001b[0m \u001b[0;34m\u001b[0m\u001b[0m\n\u001b[0;32m----> 4\u001b[0;31m \u001b[0;32mfor\u001b[0m \u001b[0mnpl\u001b[0m\u001b[0;34m,\u001b[0m \u001b[0mp\u001b[0m \u001b[0;32min\u001b[0m \u001b[0menumerate\u001b[0m\u001b[0;34m(\u001b[0m\u001b[0mplanets\u001b[0m\u001b[0;34m)\u001b[0m\u001b[0;34m:\u001b[0m\u001b[0;34m\u001b[0m\u001b[0;34m\u001b[0m\u001b[0m\n\u001b[0m\u001b[1;32m      5\u001b[0m     \u001b[0mprint\u001b[0m\u001b[0;34m(\u001b[0m\u001b[0;34m'\\nPLANET %d, P = %.2f'\u001b[0m \u001b[0;34m%\u001b[0m\u001b[0;34m(\u001b[0m\u001b[0mnpl\u001b[0m\u001b[0;34m+\u001b[0m\u001b[0;36m1\u001b[0m\u001b[0;34m,\u001b[0m\u001b[0mp\u001b[0m\u001b[0;34m.\u001b[0m\u001b[0mperiod\u001b[0m\u001b[0;34m)\u001b[0m\u001b[0;34m)\u001b[0m\u001b[0;34m\u001b[0m\u001b[0;34m\u001b[0m\u001b[0m\n\u001b[1;32m      6\u001b[0m     \u001b[0;31m# make some masks\u001b[0m\u001b[0;34m\u001b[0m\u001b[0;34m\u001b[0m\u001b[0;34m\u001b[0m\u001b[0m\n",
      "\u001b[0;31mNameError\u001b[0m: name 'planets' is not defined"
     ]
    }
   ],
   "source": [
    "# cut stamps\n",
    "print('cutting stamps')\n",
    "\n",
    "for npl, p in enumerate(planets):\n",
    "    print('\\nPLANET %d, P = %.2f' %(npl+1,p.period))\n",
    "    # make some masks\n",
    "    thisplanet  = np.arange(NPL) == npl\n",
    "    otherplanet = np.arange(NPL) != npl\n",
    "    \n",
    "    lc_selfmask = np.squeeze(lc_mask[thisplanet])\n",
    "    sc_selfmask = np.squeeze(sc_mask[thisplanet])\n",
    "    \n",
    "    lc_siblingmask = np.sum(lc_mask[otherplanet],axis=0,dtype='bool')\n",
    "    sc_siblingmask = np.sum(sc_mask[otherplanet],axis=0,dtype='bool')\n",
    "        \n",
    "    # cut long cadence stamps\n",
    "    lc_time_stamps  = detrend.cut_stamps(lc_time, lc_time, p.tts, p.duration, dtype='float64')\n",
    "    lc_flux_stamps  = detrend.cut_stamps(lc_time, lc_flux, p.tts, p.duration, dtype='float64')\n",
    "    lc_error_stamps = detrend.cut_stamps(lc_time, lc_error, p.tts, p.duration, dtype='float64')\n",
    "    lc_mask_stamps  = detrend.cut_stamps(lc_time, lc_siblingmask, p.tts, p.duration, dtype='bool')\n",
    "    lc_cadno_stamps = detrend.cut_stamps(lc_time, lc_cadno, p.tts, p.duration, dtype='int64')\n",
    "    \n",
    "    # cut short cadence stamps\n",
    "    sc_time_stamps  = detrend.cut_stamps(sc_time, sc_time, p.tts, p.duration, dtype='float64')\n",
    "    sc_flux_stamps  = detrend.cut_stamps(sc_time, sc_flux, p.tts, p.duration, dtype='float64')\n",
    "    sc_error_stamps = detrend.cut_stamps(sc_time, sc_error, p.tts, p.duration, dtype='float64')\n",
    "    sc_mask_stamps  = detrend.cut_stamps(sc_time, sc_siblingmask, p.tts, p.duration, dtype='bool')\n",
    "    sc_cadno_stamps = detrend.cut_stamps(sc_time, sc_cadno, p.tts, p.duration, dtype='int64')\n",
    "    \n",
    "    # combine SC and LC stamps\n",
    "    p.time_stamps,  t_cadence = detrend.combine_stamps(sc_time_stamps,  lc_time_stamps)\n",
    "    p.flux_stamps,  f_cadence = detrend.combine_stamps(sc_flux_stamps,  lc_flux_stamps)\n",
    "    p.error_stamps, e_cadence = detrend.combine_stamps(sc_error_stamps, lc_error_stamps)\n",
    "    p.mask_stamps,  m_cadence = detrend.combine_stamps(sc_mask_stamps,  lc_mask_stamps)\n",
    "    p.cadno_stamps, c_cadence = detrend.combine_stamps(sc_cadno_stamps, lc_cadno_stamps)\n",
    "    \n",
    "    checkf = np.array_equal(t_cadence, f_cadence)\n",
    "    checke = np.array_equal(t_cadence, e_cadence)\n",
    "    checkm = np.array_equal(t_cadence, m_cadence)\n",
    "    checkc = np.array_equal(t_cadence, c_cadence)\n",
    "    \n",
    "    if (checkf+checke+checkm+checkc) == False:\n",
    "        raise ValueError('recovered stamp cadences do not all match')\n",
    "    else:\n",
    "        p.stamp_cadence = t_cadence\n",
    "\n",
    "    # clean up the stamps\n",
    "    p.mask_overlapping_transits()\n",
    "    p.clip_outlier_cadences()\n",
    "    p.flatten_stamps()\n",
    "    p.calculate_stamp_coverage()    \n",
    "    p.identify_good_transits(cover_fraction=0.7, chisq_sigma=20.0)"
   ]
  },
  {
   "cell_type": "code",
   "execution_count": null,
   "metadata": {},
   "outputs": [],
   "source": [
    "# display a few long cadence stamps\n",
    "print('LONG CADENCE TRANSITS')\n",
    "fig, axes = plt.subplots(1, NPL, figsize=(16,8))\n",
    "\n",
    "for npl, p in enumerate(planets):\n",
    "    lcts = p.grab_stamps('time', 'long')\n",
    "    lcfs = p.grab_stamps('flux', 'long')\n",
    "    \n",
    "    tts = p.tts[p.quality*(p.stamp_cadence=='long')]\n",
    "    \n",
    "    ax = axes[npl]\n",
    "    for i in range(np.min([9,len(lcts)])):\n",
    "        ax.plot(lcts[i]-tts[i], lcfs[i]-p.depth*2*i, 'o')\n",
    "    \n",
    "plt.show()"
   ]
  },
  {
   "cell_type": "code",
   "execution_count": null,
   "metadata": {},
   "outputs": [],
   "source": [
    "# display a few short cadence stamps\n",
    "print('SHORT CADENCE TRANSITS')\n",
    "fig, axes = plt.subplots(1, NPL, figsize=(16,16))\n",
    "\n",
    "for npl, p in enumerate(planets):\n",
    "    scts = p.grab_stamps('time', 'short')\n",
    "    scfs = p.grab_stamps('flux', 'short')\n",
    "    \n",
    "    tts = p.tts[p.quality*(p.stamp_cadence=='short')]\n",
    "    \n",
    "    ax = axes[npl]\n",
    "    for i in range(np.min([10,len(scts)])):\n",
    "        ax.plot(scts[i]-tts[i], scfs[i]-p.depth*5*i, '.')\n",
    "    \n",
    "plt.show()"
   ]
  }
 ],
 "metadata": {
  "kernelspec": {
   "display_name": "Python 3",
   "language": "python",
   "name": "python3"
  },
  "language_info": {
   "codemirror_mode": {
    "name": "ipython",
    "version": 3
   },
   "file_extension": ".py",
   "mimetype": "text/x-python",
   "name": "python",
   "nbconvert_exporter": "python",
   "pygments_lexer": "ipython3",
   "version": "3.7.3"
  }
 },
 "nbformat": 4,
 "nbformat_minor": 2
}
