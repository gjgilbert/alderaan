{
 "cells": [
  {
   "cell_type": "markdown",
   "metadata": {},
   "source": [
    "# Fit independent TTVs"
   ]
  },
  {
   "cell_type": "code",
   "execution_count": 1,
   "metadata": {},
   "outputs": [],
   "source": [
    "import numpy as np\n",
    "import matplotlib.pyplot as plt\n",
    "\n",
    "import scipy.optimize as op\n",
    "import scipy.signal as sig\n",
    "from   scipy import stats\n",
    "from   scipy import fftpack\n",
    "from   scipy import ndimage\n",
    "import astropy\n",
    "from   astropy.io import fits as pyfits\n",
    "\n",
    "import csv\n",
    "import sys\n",
    "import os\n",
    "import importlib as imp\n",
    "import glob\n",
    "from   timeit import default_timer as timer\n",
    "import warnings\n",
    "import progressbar\n",
    "import argparse\n",
    "import json\n",
    "\n",
    "import lightkurve as lk\n",
    "import exoplanet as exo\n",
    "import theano.tensor as T\n",
    "import pymc3 as pm\n",
    "import corner\n",
    "\n",
    "from alderaan.constants import *\n",
    "from alderaan.utils import *\n",
    "from alderaan.Planet import *\n",
    "from alderaan.LiteCurve import *\n",
    "import alderaan.io as io\n",
    "import alderaan.detrend as detrend\n",
    "import alderaan.noise as noise\n",
    "from alderaan.omc import omc_model\n",
    "from alderaan.omc import choose_omc_model\n",
    "\n",
    "\n",
    "# flush buffer to avoid mixed outputs from progressbar\n",
    "sys.stdout.flush()\n",
    "\n",
    "# turn off FutureWarnings\n",
    "warnings.filterwarnings('ignore', category=FutureWarning)\n",
    "\n",
    "# start program timer\n",
    "global_start_time = timer()"
   ]
  },
  {
   "cell_type": "markdown",
   "metadata": {},
   "source": [
    "# Manually set I/O parameters\n",
    "#### User should manually set MISSION, TARGET, PRIMARY_DIR,  and CSV_FILE"
   ]
  },
  {
   "cell_type": "code",
   "execution_count": 2,
   "metadata": {},
   "outputs": [],
   "source": [
    "# select mission, target, and paths\n",
    "MISSION = \"Kepler\"\n",
    "TARGET  = \"K02086\"\n",
    "PRIMARY_DIR = '/Users/research/projects/alderaan/'\n",
    "CSV_FILE    = '/Users/research/projects/alderaan/Catalogs/clean_kepler_catalog.csv'"
   ]
  },
  {
   "cell_type": "code",
   "execution_count": 3,
   "metadata": {},
   "outputs": [
    {
     "name": "stderr",
     "output_type": "stream",
     "text": [
      "usage: ipykernel_launcher.py [-h] --mission MISSION --target TARGET\n",
      "                             --primary_dir PRIMARY_DIR --csv_file CSV_FILE\n",
      "ipykernel_launcher.py: error: the following arguments are required: --mission, --target, --primary_dir, --csv_file\n"
     ]
    }
   ],
   "source": [
    "# here's where we parse the inputs\n",
    "try:\n",
    "    parser = argparse.ArgumentParser(description=\"Inputs for ALDERAAN transit fiting pipeline\")\n",
    "    parser.add_argument(\"--mission\", default=None, type=str, required=True, \\\n",
    "                        help=\"Mission name\")\n",
    "    parser.add_argument(\"--target\", default=None, type=str, required=True, \\\n",
    "                        help=\"Target name; see ALDERAAN documentation for acceptable formats\")\n",
    "    parser.add_argument(\"--primary_dir\", default=None, type=str, required=True, \\\n",
    "                        help=\"Primary directory path for accessing lightcurve data and saving outputs\")\n",
    "    parser.add_argument(\"--csv_file\", default=None, type=str, required=True, \\\n",
    "                        help=\"Path to .csv file containing input planetary parameters\")\n",
    "\n",
    "\n",
    "    args = parser.parse_args()\n",
    "    MISSION     = args.mission\n",
    "    TARGET      = args.target\n",
    "    PRIMARY_DIR = args.primary_dir\n",
    "    CSV_FILE    = args.csv_file\n",
    "    \n",
    "except:\n",
    "    pass"
   ]
  },
  {
   "cell_type": "markdown",
   "metadata": {},
   "source": [
    "# Make sure the necessary paths exist"
   ]
  },
  {
   "cell_type": "code",
   "execution_count": 4,
   "metadata": {},
   "outputs": [],
   "source": [
    "# directory in which to find lightcurve data\n",
    "if MISSION == 'Kepler': DOWNLOAD_DIR = PRIMARY_DIR + 'MAST_downloads/'\n",
    "if MISSION == 'Simulated': DOWNLOAD_DIR = PRIMARY_DIR + 'Simulations/'\n",
    "\n",
    "# directories in which to place pipeline outputs\n",
    "FIGURE_DIR    = PRIMARY_DIR + 'Figures/' + TARGET + '/'\n",
    "TRACE_DIR     = PRIMARY_DIR + 'Traces/' + TARGET + '/'\n",
    "QUICK_TTV_DIR = PRIMARY_DIR + 'QuickTTVs/' + TARGET + '/'\n",
    "DLC_DIR       = PRIMARY_DIR + 'Detrended_lightcurves/' + TARGET + '/'\n",
    "NOISE_DIR     = PRIMARY_DIR + 'Noise_models/' + TARGET + '/'\n",
    "\n",
    "\n",
    "# check if all the paths exist and create them if not\n",
    "if os.path.exists(FIGURE_DIR) == False:\n",
    "    os.mkdir(FIGURE_DIR)\n",
    "    \n",
    "if os.path.exists(TRACE_DIR) == False:\n",
    "    os.mkdir(TRACE_DIR)\n",
    "    \n",
    "if os.path.exists(QUICK_TTV_DIR) == False:\n",
    "    os.mkdir(QUICK_TTV_DIR)\n",
    "    \n",
    "if os.path.exists(DLC_DIR) == False:\n",
    "    os.mkdir(DLC_DIR)\n",
    "    \n",
    "if os.path.exists(NOISE_DIR) == False:\n",
    "    os.mkdir(NOISE_DIR)"
   ]
  },
  {
   "cell_type": "markdown",
   "metadata": {},
   "source": [
    "# Read in planet and stellar parameters from Kepler DR25 & Gaia DR2"
   ]
  },
  {
   "cell_type": "code",
   "execution_count": 5,
   "metadata": {},
   "outputs": [
    {
     "name": "stdout",
     "output_type": "stream",
     "text": [
      "Reading in data from csv file\n"
     ]
    }
   ],
   "source": [
    "# Read in the data from csv file\n",
    "print('Reading in data from csv file')\n",
    "\n",
    "# read in a csv file containing info on targets\n",
    "csv_keys, csv_values = io.read_csv_file(CSV_FILE)\n",
    "\n",
    "# put these csv data into a dictionary\n",
    "target_dict = {}\n",
    "for k in csv_keys: \n",
    "    target_dict[k] = io.get_csv_data(k, csv_keys, csv_values)\n",
    "\n",
    "    \n",
    "if MISSION == 'Kepler':\n",
    "    # pull relevant quantities and establish GLOBAL variables\n",
    "    use = np.array(target_dict['koi_id']) == TARGET\n",
    "\n",
    "    KIC = np.array(target_dict['kic_id'], dtype='int')[use]\n",
    "    NPL = np.array(target_dict['npl'], dtype='int')[use]\n",
    "    \n",
    "    RSTAR = np.array(target_dict['rstar'],  dtype='float')[use]\n",
    "    RSTAR_ERR1 = np.array(target_dict['rstar_err1'],  dtype='float')[use]\n",
    "    RSTAR_ERR2 = np.array(target_dict['rstar_err2'],  dtype='float')[use]\n",
    "    \n",
    "    MSTAR  = np.array(target_dict['mstar'], dtype='float')[use]\n",
    "    MSTAR_ERR1 = np.array(target_dict['mstar_err1'],  dtype='float')[use]\n",
    "    MSTAR_ERR2 = np.array(target_dict['mstar_err2'],  dtype='float')[use]\n",
    "\n",
    "    DEPTHS = np.array(target_dict['depth'], dtype='float')[use]*1e-6    # [ppm] --> []\n",
    "    DURS   = np.array(target_dict['duration'], dtype='float')[use]/24         # [hrs] --> [days]\n",
    "\n",
    "    \n",
    "elif MISSION == 'Simulated':\n",
    "    # pull relevant quantities and establish GLOBAL variables\n",
    "    use = np.array(target_dict['id_sim']) == TARGET\n",
    "\n",
    "    KIC    = np.array(target_dict['kic'], dtype='int')[use]\n",
    "    NPL    = np.array(target_dict['npl'], dtype='int')[use]\n",
    "    RSTAR  = np.array(target_dict['rstar'],  dtype='float')[use]\n",
    "    MSTAR  = np.array(target_dict['mstar'], dtype='float')[use]\n",
    "\n",
    "    DEPTHS = np.array(target_dict['depth'], dtype='float')[use]*1e-6     # [ppm] --> []\n",
    "    DURS   = np.array(target_dict['duration'], dtype='float')[use]/24         # [hrs] --> [days]\n",
    "        \n",
    "    \n",
    "else:\n",
    "    raise ValueError(\"MISSION must be 'Kepler' or 'Simulated'\")"
   ]
  },
  {
   "cell_type": "code",
   "execution_count": 6,
   "metadata": {},
   "outputs": [],
   "source": [
    "# do some consistency checks\n",
    "if all(k == KIC[0] for k in KIC): KIC = KIC[0]\n",
    "else: raise ValueError('There are inconsistencies with KIC in the csv input file')\n",
    "\n",
    "if all(n == NPL[0] for n in NPL): NPL = NPL[0]\n",
    "else: raise ValueError('There are inconsistencies with NPL in the csv input file')\n",
    "\n",
    "if all(r == RSTAR[0] for r in RSTAR): RSTAR = RSTAR[0]\n",
    "else: raise ValueError('There are inconsistencies with RSTAR in the csv input file')\n",
    "\n",
    "if all(r == RSTAR_ERR1[0] for r in RSTAR_ERR1): RSTAR_ERR1 = RSTAR_ERR1[0]\n",
    "else: raise ValueError('There are inconsistencies with RSTAR_ERR1 in the csv input file')\n",
    "    \n",
    "if all(r == RSTAR_ERR2[0] for r in RSTAR_ERR2): RSTAR_ERR2 = RSTAR_ERR2[0]\n",
    "else: raise ValueError('There are inconsistencies with RSTAR_ERR2 in the csv input file')  \n",
    "    \n",
    "if all(m == MSTAR[0] for m in MSTAR): MSTAR = MSTAR[0]\n",
    "else: raise ValueError('There are inconsistencies with MSTAR in the csv input file')\n",
    "\n",
    "if all(m == MSTAR_ERR1[0] for m in MSTAR_ERR1): MSTAR_ERR1 = MSTAR_ERR1[0]\n",
    "else: raise ValueError('There are inconsistencies with MSTAR_ERR1 in the csv input file')\n",
    "    \n",
    "if all(m == MSTAR_ERR2[0] for m in MSTAR_ERR2): MSTAR_ERR2 = MSTAR_ERR2[0]\n",
    "else: raise ValueError('There are inconsistencies with MSTAR_ERR2 in the csv input file')  "
   ]
  },
  {
   "cell_type": "code",
   "execution_count": 7,
   "metadata": {},
   "outputs": [],
   "source": [
    "# combline stellar radius/mass uncertainties\n",
    "MSTAR_ERR = np.sqrt(MSTAR_ERR1**2 + MSTAR_ERR2**2)/np.sqrt(2)\n",
    "RSTAR_ERR = np.sqrt(RSTAR_ERR1**2 + RSTAR_ERR2**2)/np.sqrt(2)\n",
    "\n",
    "#initialize with solar limb darkening coefficients from EXOFAST\n",
    "U1 = 0.39940842\n",
    "U2 = 0.26477268\n",
    "UCOEFFS = [U1, U2]\n",
    "\n",
    "# initialize impact parameter and radius arrays\n",
    "RADII = np.sqrt(DEPTHS)*RSTAR\n",
    "IMPACTS = 0.67*np.ones(NPL)"
   ]
  },
  {
   "cell_type": "markdown",
   "metadata": {},
   "source": [
    "# Read in detrended lightcurves and initial transit time estimates\n",
    "#### The data can be generated by running the script \"detrend_and_estimate_noise.py\""
   ]
  },
  {
   "cell_type": "code",
   "execution_count": 8,
   "metadata": {},
   "outputs": [],
   "source": [
    "# Load detrended lightcurves\n",
    "try:\n",
    "    lc = io.load_detrended_lightcurve(DLC_DIR + TARGET + '_lc_detrended.fits')\n",
    "except:\n",
    "    lc = None\n",
    "    \n",
    "try:\n",
    "    sc = io.load_detrended_lightcurve(DLC_DIR + TARGET + '_sc_detrended.fits')\n",
    "except:\n",
    "    sc = None"
   ]
  },
  {
   "cell_type": "code",
   "execution_count": 9,
   "metadata": {},
   "outputs": [],
   "source": [
    "# Read in QuickTTV estimates and calculate linear ephemeris for each planet\n",
    "EPOCHS  = np.zeros(NPL)\n",
    "PERIODS = np.zeros(NPL)\n",
    "\n",
    "transit_inds = []\n",
    "quick_transit_times = []\n",
    "quick_ephemeris = []\n",
    "\n",
    "for npl in range(NPL):\n",
    "    # read in predetermined transit times\n",
    "    fname_in = QUICK_TTV_DIR + TARGET + '_{:02d}'.format(npl) + '_map_indep_ttvs.txt'\n",
    "    data_in  = np.genfromtxt(fname_in)\n",
    "    \n",
    "    transit_inds.append(data_in[:,0])\n",
    "    quick_transit_times.append(data_in[:,1])\n",
    "    \n",
    "    fname_in = QUICK_TTV_DIR + TARGET + '_{:02d}'.format(npl) + '_fixed_ephemeris.txt'\n",
    "    data_in  = np.genfromtxt(fname_in)  \n",
    "\n",
    "    # do a quick fit to get a linear ephemeris\n",
    "    pfit = np.polyfit(transit_inds[npl], quick_transit_times[npl], 1)\n",
    "    \n",
    "    quick_ephemeris.append(np.polyval(pfit, transit_inds[npl]))\n",
    "    \n",
    "    EPOCHS[npl] = pfit[1]\n",
    "    PERIODS[npl] = pfit[0]"
   ]
  },
  {
   "cell_type": "markdown",
   "metadata": {},
   "source": [
    "# Fit a smooth OMC model with a Matern-3/2 kernel"
   ]
  },
  {
   "cell_type": "code",
   "execution_count": 10,
   "metadata": {},
   "outputs": [
    {
     "name": "stdout",
     "output_type": "stream",
     "text": [
      "PLANET 0\n"
     ]
    },
    {
     "name": "stderr",
     "output_type": "stream",
     "text": [
      "optimizing logp for variables: [logvar, mean, log_rho, log_sigma]\n",
      "92it [00:01, 86.89it/s, logp=4.610325e+02] \n",
      "message: Desired error not necessarily achieved due to precision loss.\n",
      "logp: 389.3492982196917 -> 461.0324585089813\n"
     ]
    },
    {
     "data": {
      "image/png": "[encoded data removed]",
      "text/plain": [
       "<Figure size 864x288 with 1 Axes>"
      ]
     },
     "metadata": {
      "needs_background": "light"
     },
     "output_type": "display_data"
    },
    {
     "name": "stdout",
     "output_type": "stream",
     "text": [
      "PLANET 1\n"
     ]
    },
    {
     "name": "stderr",
     "output_type": "stream",
     "text": [
      "optimizing logp for variables: [logvar, mean, log_rho, log_sigma]\n",
      "124it [00:00, 160.18it/s, logp=3.901939e+02]\n",
      "message: Desired error not necessarily achieved due to precision loss.\n",
      "logp: 345.8599816949012 -> 390.1939138914171\n"
     ]
    },
    {
     "data": {
      "image/png": "[encoded data removed]",
      "text/plain": [
       "<Figure size 864x288 with 1 Axes>"
      ]
     },
     "metadata": {
      "needs_background": "light"
     },
     "output_type": "display_data"
    },
    {
     "name": "stdout",
     "output_type": "stream",
     "text": [
      "PLANET 2\n"
     ]
    },
    {
     "name": "stderr",
     "output_type": "stream",
     "text": [
      "optimizing logp for variables: [logvar, mean, log_rho, log_sigma]\n",
      "30it [00:00, 76.25it/s, logp=2.788330e+02] \n",
      "message: Optimization terminated successfully.\n",
      "logp: 199.06793746166568 -> 278.8329845216072\n"
     ]
    },
    {
     "data": {
      "image/png": "[encoded data removed]",
      "text/plain": [
       "<Figure size 864x288 with 1 Axes>"
      ]
     },
     "metadata": {
      "needs_background": "light"
     },
     "output_type": "display_data"
    }
   ],
   "source": [
    "matern_transit_times = []\n",
    "matern_ephemeris = []\n",
    "\n",
    "for npl in range(NPL):\n",
    "    print(\"PLANET\", npl)\n",
    "    \n",
    "    # calculate OMC\n",
    "    xtime = np.copy(quick_ephemeris[npl])\n",
    "    yomc = quick_transit_times[npl] - quick_ephemeris[npl]\n",
    "\n",
    "    \n",
    "    # set up a GP using a Matern-3/2 kernel\n",
    "    with pm.Model() as matern_model:\n",
    "\n",
    "        # build the kernel \n",
    "        log_sigma = pm.Normal(\"log_sigma\", mu=np.log(np.std(yomc)), sd=10)\n",
    "        log_rho = pm.Normal(\"log_rho\", mu=np.log(xtime[1]-xtime[0]), sd=10)\n",
    "\n",
    "        kernel = exo.gp.terms.Matern32Term(log_sigma=log_sigma, log_rho=log_rho)\n",
    "\n",
    "        # nusiance parameters\n",
    "        mean = pm.Normal(\"mean\", mu=np.mean(yomc), sd=10)\n",
    "        logvar = pm.Normal(\"logvar\", mu=np.log(np.var(yomc)), sd=10)\n",
    "\n",
    "        # here's the GP\n",
    "        gp = exo.gp.GP(kernel, xtime, T.exp(logvar)*T.ones(len(xtime)))\n",
    "\n",
    "        # add custom potential (log-prob fxn) with the GP likelihood\n",
    "        pm.Potential(\"obs\", gp.log_likelihood(yomc - mean))\n",
    "\n",
    "        # track GP prediction\n",
    "        gp_pred = pm.Deterministic(\"gp_pred\", gp.predict(xtime))\n",
    "        \n",
    "        \n",
    "    # find the MAP solution\n",
    "    with matern_model:\n",
    "        matern_map = exo.optimize(start=matern_model.test_point)\n",
    "\n",
    "    matern_transit_times.append(xtime + matern_map[\"mean\"] + matern_map[\"gp_pred\"])\n",
    "    pfit = np.polyfit(transit_inds[npl], matern_transit_times[npl], 1)\n",
    "    matern_ephemeris.append(np.polyval(pfit, transit_inds[npl]))\n",
    "    \n",
    "    \n",
    "    \n",
    "    # plot the results\n",
    "    plt.figure(figsize=(12,4))\n",
    "    plt.plot(xtime, yomc*24*60, 'o', c=\"grey\", label=\"Quick TTVs\")\n",
    "    plt.plot(matern_ephemeris[npl], (matern_transit_times[npl]-matern_ephemeris[npl])*24*60, \"k+\", label=\"Matern-3/2\")\n",
    "    plt.xlabel(\"Time [BJKD]\", fontsize=20)\n",
    "    plt.ylabel(\"O-C [min]\", fontsize=20)\n",
    "    plt.legend(fontsize=12)\n",
    "    plt.show()"
   ]
  },
  {
   "cell_type": "markdown",
   "metadata": {},
   "source": [
    "# Determine TTV initialization settings"
   ]
  },
  {
   "cell_type": "code",
   "execution_count": 11,
   "metadata": {},
   "outputs": [],
   "source": [
    "# get estimate of ttv amplitdue and a reasonable buffer\n",
    "ttv_amps   = np.zeros(NPL)\n",
    "ttv_buffer = np.zeros(NPL)\n",
    "\n",
    "for npl in range(NPL):\n",
    "    # estimate TTV amplitude\n",
    "    ttv_amps[npl] = astropy.stats.mad_std(quick_transit_times[npl] - quick_ephemeris[npl])\n",
    "\n",
    "    # based on scatter in independent times, set threshold so not even one outlier is expected\n",
    "    N   = len(transit_inds[npl])\n",
    "    eta = np.max([3., stats.norm.interval((N-1)/N)[1]])\n",
    "\n",
    "    ttv_buffer[npl] = eta*ttv_amps[npl]"
   ]
  },
  {
   "cell_type": "code",
   "execution_count": 12,
   "metadata": {},
   "outputs": [],
   "source": [
    "# determine the time baseline\n",
    "time_min = []\n",
    "time_max = []\n",
    "\n",
    "try:\n",
    "    time_min.append(sc.time.min())\n",
    "    time_max.append(sc.time.max()) \n",
    "except:\n",
    "    pass\n",
    "\n",
    "\n",
    "try:\n",
    "    time_min.append(lc.time.min())\n",
    "    time_max.append(lc.time.max())     \n",
    "except:\n",
    "    pass\n",
    "    \n",
    "    \n",
    "TIME_START = np.min(time_min) - 0.5*PERIODS.max()\n",
    "TIME_END   = np.max(time_max) + 0.5*PERIODS.max()\n",
    "\n",
    "\n",
    "# put epochs in range (TIME_START, TIME_START + PERIOD)\n",
    "for npl in range(NPL):\n",
    "    if EPOCHS[npl] < TIME_START:\n",
    "        adj = 1 + (TIME_START - EPOCHS[npl])//PERIODS[npl]\n",
    "        EPOCHS[npl] += adj*PERIODS[npl]        \n",
    "        \n",
    "    if EPOCHS[npl] > (TIME_START + PERIODS[npl]):\n",
    "        adj = (EPOCHS[npl] - TIME_START)//PERIODS[npl]\n",
    "        EPOCHS[npl] -= adj*PERIODS[npl]"
   ]
  },
  {
   "cell_type": "markdown",
   "metadata": {},
   "source": [
    "# Set up GP"
   ]
  },
  {
   "cell_type": "code",
   "execution_count": 13,
   "metadata": {},
   "outputs": [],
   "source": [
    "# Read in noise model GP priors\n",
    "gp_percs = []\n",
    "\n",
    "for z in range(4):\n",
    "    try:\n",
    "        fname_in = NOISE_DIR + TARGET + '_shoterm_gp_priors_{0}.txt'.format(z)\n",
    "\n",
    "        with open(fname_in) as infile:\n",
    "            gp_percs.append(json.load(infile))\n",
    "\n",
    "    except:\n",
    "        gp_percs.append(None)\n",
    "\n",
    "# Read in quarter-by-quarter variances\n",
    "var_by_quarter = np.genfromtxt(NOISE_DIR + TARGET + '_var_by_quarter.txt')[:,1]"
   ]
  },
  {
   "cell_type": "code",
   "execution_count": 14,
   "metadata": {},
   "outputs": [],
   "source": [
    "all_logSw4 = []\n",
    "for z in range(4):\n",
    "    try:\n",
    "        perc = np.array(gp_percs[z][\"percentiles\"])\n",
    "        \n",
    "        all_logSw4.append(np.array(gp_percs[z][\"logSw4\"])[perc == 50.0][0])\n",
    "        \n",
    "    except:\n",
    "        pass"
   ]
  },
  {
   "cell_type": "code",
   "execution_count": 15,
   "metadata": {},
   "outputs": [],
   "source": [
    "gp_priors = []\n",
    "\n",
    "for z in range(4):\n",
    "    if gp_percs[z] is not None:\n",
    "        # set GP priors baed on outputs of alderaan.detrend_and_estimate_noise\n",
    "        # expected for any season with short cadence data\n",
    "        gpi = {}\n",
    "\n",
    "        for k in gp_percs[z].keys():\n",
    "            if k != \"percentiles\":\n",
    "                perc = np.array(gp_percs[z]['percentiles'])\n",
    "\n",
    "                med = np.array(gp_percs[z][k])[perc == 50.0][0]\n",
    "                err1 = np.array(gp_percs[z][k])[perc == 84.1][0]\n",
    "                err2 = np.array(gp_percs[z][k])[perc == 15.9][0]\n",
    "\n",
    "                dev = np.sqrt((err1-med)**2/2 + (err2-med)**2/2)\n",
    "\n",
    "                gpi[k] = (med, dev)\n",
    "\n",
    "        gp_priors.append(gpi)\n",
    "        \n",
    "    else:\n",
    "        # these are dummy values that effectively create a zero-amplitude kernel\n",
    "        # expected for any season with only long cadence data\n",
    "        gpi = {}\n",
    "        gpi['logw0'] = [np.log(2*pi/(5*DURS.max()))]\n",
    "        gpi['logSw4'] = [-40.]\n",
    "        gpi['logQ'] = [1/np.sqrt(2)]\n",
    "        \n",
    "        gp_priors.append(gpi)"
   ]
  },
  {
   "cell_type": "markdown",
   "metadata": {},
   "source": [
    "# Grab the relevant data and starting transit parameters"
   ]
  },
  {
   "cell_type": "code",
   "execution_count": 16,
   "metadata": {},
   "outputs": [],
   "source": [
    "# grab data near transits for each quarter\n",
    "all_time = []\n",
    "all_flux = []\n",
    "all_mask = []\n",
    "all_dtype = []\n",
    "\n",
    "\n",
    "if sc is not None:\n",
    "    for q in range(18):\n",
    "        if np.isin(q, sc.quarter)*np.isin(q, lc.quarter):\n",
    "            raise ValueError(\"Double counting data in both short and long cadence\")\n",
    "\n",
    "\n",
    "        elif np.isin(q, sc.quarter):\n",
    "            use = (sc.mask.sum(axis=0) > 0)*(sc.quarter == q)\n",
    "\n",
    "            if np.sum(use) > 45:\n",
    "                all_time.append(sc.time[use])\n",
    "                all_flux.append(sc.flux[use])\n",
    "                all_mask.append(sc.mask[:,use])\n",
    "                all_dtype.append('short')\n",
    "                \n",
    "            else:\n",
    "                all_time.append(None)\n",
    "                all_flux.append(None)\n",
    "                all_mask.append(None)\n",
    "                all_dtype.append('none')\n",
    "\n",
    "\n",
    "        elif np.isin(q, lc.quarter):\n",
    "            use = (lc.mask.sum(axis=0) > 0)*(lc.quarter == q)\n",
    "            \n",
    "            if np.sum(use) > 3:\n",
    "                all_time.append(lc.time[use])\n",
    "                all_flux.append(lc.flux[use])\n",
    "                all_mask.append(lc.mask[:,use])\n",
    "                all_dtype.append('long')\n",
    "                \n",
    "            else:\n",
    "                all_time.append(None)\n",
    "                all_flux.append(None)\n",
    "                all_mask.append(None)\n",
    "                all_dtype.append('none')\n",
    "\n",
    "\n",
    "        else:\n",
    "            all_time.append(None)\n",
    "            all_flux.append(None)\n",
    "            all_mask.append(None)\n",
    "            all_dtype.append('none')\n",
    "            \n",
    "else:\n",
    "    for q in range(18):\n",
    "        if np.isin(q, lc.quarter):\n",
    "            use = (lc.mask.sum(axis=0) > 0)*(lc.quarter == q)\n",
    "\n",
    "            if np.sum(use) > 3:\n",
    "                all_time.append(lc.time[use])\n",
    "                all_flux.append(lc.flux[use])\n",
    "                all_mask.append(lc.mask[:,use])\n",
    "                all_dtype.append('long')\n",
    "                \n",
    "            else:\n",
    "                all_time.append(None)\n",
    "                all_flux.append(None)\n",
    "                all_maskappend(None)\n",
    "                all_dtype.append('none')\n",
    "\n",
    "\n",
    "        else:\n",
    "            all_time.append(None)\n",
    "            all_flux.append(None)\n",
    "            all_mask.append(None)\n",
    "            all_dtype.append('none')\n",
    "\n",
    "\n",
    "\n",
    "# check which quarters have data\n",
    "good = (np.array(all_dtype) == 'short') + (np.array(all_dtype) == 'long')\n",
    "quarters = np.arange(18)[good]\n",
    "nq = len(quarters)\n",
    "\n",
    "lc_quarters = np.arange(18)[np.array(all_dtype) == 'long']\n",
    "sc_quarters = np.arange(18)[np.array(all_dtype) == 'short']\n",
    "\n",
    "\n",
    "# expand var_by_quarter to have None for missing quarters\n",
    "vbq_all = [None]*18\n",
    "\n",
    "for j, q in enumerate(quarters):\n",
    "    vbq_all[q] = var_by_quarter[j]\n",
    "    \n",
    "vbq_all = np.asarray(vbq_all, dtype=\"float\")"
   ]
  },
  {
   "cell_type": "code",
   "execution_count": 17,
   "metadata": {},
   "outputs": [
    {
     "name": "stdout",
     "output_type": "stream",
     "text": [
      "\n",
      "cumulative runtime =  23 s\n",
      "\n"
     ]
    }
   ],
   "source": [
    "print('')\n",
    "print('cumulative runtime = ', int(timer() - global_start_time), 's')\n",
    "print('')"
   ]
  },
  {
   "cell_type": "markdown",
   "metadata": {},
   "source": [
    "# (3) Fit a transit model with fixed transit times"
   ]
  },
  {
   "cell_type": "code",
   "execution_count": 18,
   "metadata": {},
   "outputs": [
    {
     "name": "stdout",
     "output_type": "stream",
     "text": [
      "\n",
      "(3) Fitting FIXED TTV model\n"
     ]
    }
   ],
   "source": [
    "print('\\n(3) Fitting FIXED TTV model')"
   ]
  },
  {
   "cell_type": "code",
   "execution_count": 19,
   "metadata": {},
   "outputs": [],
   "source": [
    "with pm.Model() as fixed_model:\n",
    "    # stellar parameters (limb darkening using Kipping 2013)\n",
    "    u = exo.distributions.QuadLimbDark('u', testval=np.array([U1,U2]))\n",
    "\n",
    "    Rstar = pm.Bound(pm.Normal, lower=RSTAR-3*RSTAR_ERR, upper=RSTAR+3*RSTAR_ERR)('Rstar', mu=RSTAR, sd=RSTAR_ERR)\n",
    "    Mstar = pm.Bound(pm.Normal, lower=MSTAR-3*MSTAR_ERR, upper=MSTAR+3*MSTAR_ERR)('Mstar', mu=MSTAR, sd=MSTAR_ERR)\n",
    "    \n",
    "    # planetary parameters (impact parameter using Espinoza 2018)\n",
    "    logr = pm.Uniform('logr', lower=np.log(0.0003), upper=np.log(0.3), testval=np.log(RADII), shape=NPL)\n",
    "    rp   = pm.Deterministic('rp', T.exp(logr))\n",
    "    b    = exo.distributions.ImpactParameter('b', ror=rp/Rstar, testval=IMPACTS, shape=NPL)\n",
    "\n",
    "\n",
    "    # set up stellar model and planetary orbit\n",
    "    exoSLC = exo.StarryLightCurve(u)\n",
    "    orbit  = exo.orbits.TTVOrbit(transit_times=matern_transit_times, transit_inds=transit_inds, \\\n",
    "                                 b=b, r_star=Rstar, m_star=Mstar)\n",
    "\n",
    "    \n",
    "    # track period and epoch\n",
    "    T0 = pm.Deterministic('T0', orbit.t0)\n",
    "    P  = pm.Deterministic('P', orbit.period)\n",
    "    \n",
    "    \n",
    "    # build the GP kernel using a different noise model for each season\n",
    "    logSw4 = [None]*4\n",
    "    logw0  = [None]*4\n",
    "    logQ   = [None]*4\n",
    "    kernel = [None]*4\n",
    "    \n",
    "    for i in range(4):\n",
    "        gpi = gp_priors[i]\n",
    "\n",
    "        # here's the single low-frequency term\n",
    "        logSw4[i] = gpi['logSw4'][0]\n",
    "        logw0[i] = gpi['logw0'][0]\n",
    "        logQ[i] = gpi['logQ'][0]\n",
    "\n",
    "        kernel[i] = exo.gp.terms.SHOTerm(log_Sw4=logSw4[i], log_w0=logw0[i], log_Q=logQ[i])\n",
    "    \n",
    "    \n",
    "    # nuissance parameters (one mean flux; variance by quarter)\n",
    "    flux0 = pm.Normal('flux0', mu=np.ones(nq), sd=np.sqrt(var_by_quarter)/4, shape=nq)\n",
    "    logvar = pm.Normal('logvar', mu=np.log(var_by_quarter), sd=np.log(4)*np.ones(nq), shape=nq)\n",
    "   \n",
    "\n",
    "    # now evaluate the model for each quarter\n",
    "    light_curves       = [None]*nq\n",
    "    summed_light_curve = [None]*nq\n",
    "    model_flux         = [None]*nq\n",
    "    \n",
    "    gp      = [None]*nq\n",
    "    gp_pred = [None]*nq\n",
    "    \n",
    "    \n",
    "    for j, q in enumerate(quarters):\n",
    "        # set oversampling factor\n",
    "        if all_dtype[q] == 'short':\n",
    "            oversample = 1\n",
    "        elif all_dtype[q] == 'long':\n",
    "            oversample = 15\n",
    "            \n",
    "        # calculate light curves\n",
    "        light_curves[j] = exoSLC.get_light_curve(orbit=orbit, r=rp, t=all_time[q], oversample=oversample)\n",
    "        summed_light_curve[j] = pm.math.sum(light_curves[j], axis=-1) + flux0[j]*T.ones(len(all_time[q]))\n",
    "        model_flux[j] = pm.Deterministic('model_flux_{0}'.format(j), summed_light_curve[j])\n",
    "        \n",
    "        # here's the GP (w/ kernel by season)\n",
    "        gp[j] = exo.gp.GP(kernel[q%4], all_time[q], T.exp(logvar[j])*T.ones(len(all_time[q])))\n",
    "\n",
    "\n",
    "        # add custom potential (log-prob fxn) with the GP likelihood\n",
    "        pm.Potential('obs_{0}'.format(j), gp[j].log_likelihood(all_flux[q] - model_flux[j]))\n",
    "\n",
    "\n",
    "        # track GP prediction\n",
    "        #gp_pred[j] = pm.Deterministic('gp_pred_{0}'.format(j), gp[j].predict())"
   ]
  },
  {
   "cell_type": "code",
   "execution_count": 20,
   "metadata": {},
   "outputs": [
    {
     "name": "stderr",
     "output_type": "stream",
     "text": [
      "optimizing logp for variables: [logvar, flux0]\n",
      "155it [00:12, 12.61it/s, logp=6.181708e+05]\n",
      "message: Desired error not necessarily achieved due to precision loss.\n",
      "logp: 618131.0557968316 -> 618170.8443592438\n",
      "optimizing logp for variables: [b, logr, Rstar]\n",
      "168it [00:11, 14.10it/s, logp=6.183158e+05]\n",
      "message: Desired error not necessarily achieved due to precision loss.\n",
      "logp: 618170.8443592438 -> 618315.7626979206\n",
      "optimizing logp for variables: [Mstar, u]\n",
      "12it [00:00, 14.60it/s, logp=6.183166e+05]\n",
      "message: Optimization terminated successfully.\n",
      "logp: 618315.7626979206 -> 618316.6178144445\n",
      "optimizing logp for variables: [logvar, flux0, b, logr, Mstar, Rstar, u]\n",
      "185it [00:17, 10.64it/s, logp=6.183197e+05]\n",
      "message: Desired error not necessarily achieved due to precision loss.\n",
      "logp: 618316.6178144445 -> 618319.7378175468\n"
     ]
    }
   ],
   "source": [
    "with fixed_model:\n",
    "    fixed_map = exo.optimize(start=fixed_model.test_point, vars=[flux0, logvar])   \n",
    "    fixed_map = exo.optimize(start=fixed_map, vars=[b])\n",
    "    fixed_map = exo.optimize(start=fixed_map, vars=[u, Mstar])\n",
    "    fixed_map = exo.optimize(start=fixed_map)"
   ]
  },
  {
   "cell_type": "markdown",
   "metadata": {},
   "source": [
    "# Set fixed values for star and planet parameters"
   ]
  },
  {
   "cell_type": "code",
   "execution_count": 21,
   "metadata": {},
   "outputs": [],
   "source": [
    "# grab star and planet parameters for that sample\n",
    "u = fixed_map[\"u\"]\n",
    "\n",
    "Rstar = fixed_map[\"Rstar\"]\n",
    "Mstar = fixed_map[\"Mstar\"]\n",
    "\n",
    "rp = np.exp(fixed_map[\"logr\"])\n",
    "b  = fixed_map[\"b\"]\n",
    "\n",
    "periods = fixed_map[\"P\"]\n",
    "epochs = fixed_map[\"T0\"]\n",
    "\n",
    "sma = get_sma(periods, Mstar)\n",
    "durs = get_dur_tot(periods, rp, Rstar, b, sma)"
   ]
  },
  {
   "cell_type": "markdown",
   "metadata": {},
   "source": [
    "# Identify overlapping transits"
   ]
  },
  {
   "cell_type": "code",
   "execution_count": 22,
   "metadata": {},
   "outputs": [],
   "source": [
    "dur_max = np.max(durs)\n",
    "overlap = []\n",
    "\n",
    "for i in range(NPL):\n",
    "    overlap.append(np.zeros(len(quick_transit_times[i]), dtype='bool'))\n",
    "    \n",
    "    for j in range(NPL):\n",
    "        if i != j:\n",
    "            for tt in quick_transit_times[j]:\n",
    "                overlap[i] += np.abs(quick_transit_times[i] - tt) < dur_max"
   ]
  },
  {
   "cell_type": "code",
   "execution_count": 23,
   "metadata": {},
   "outputs": [],
   "source": [
    "thresh = np.zeros(len(quarters)+1)\n",
    "thresh[0] = np.min(np.hstack([lc.time, sc.time]))\n",
    "\n",
    "for j, q in enumerate(quarters):\n",
    "    thresh[j+1] = np.max(np.hstack([lc.time[lc.quarter==q],sc.time[sc.quarter==q]]))\n",
    "    \n",
    "thresh[0] -= 1.0\n",
    "thresh[-1] += 1.0\n",
    "\n",
    "transit_quarter = [None]*NPL\n",
    "\n",
    "for npl in range(NPL):\n",
    "    qtt = quick_transit_times[npl]\n",
    "    transit_quarter[npl] = np.zeros(len(qtt), dtype='int')\n",
    "\n",
    "    for j, q in enumerate(quarters):\n",
    "        transit_quarter[npl][(qtt >= thresh[j])*(qtt<thresh[j+1])] = q"
   ]
  },
  {
   "cell_type": "code",
   "execution_count": 28,
   "metadata": {},
   "outputs": [
    {
     "data": {
      "text/plain": [
       "array([ 1,  2,  3,  4,  5,  6,  7,  8,  9, 10, 11])"
      ]
     },
     "execution_count": 28,
     "metadata": {},
     "output_type": "execute_result"
    }
   ],
   "source": [
    "lc_quarters"
   ]
  },
  {
   "cell_type": "code",
   "execution_count": 27,
   "metadata": {},
   "outputs": [
    {
     "data": {
      "text/plain": [
       "array([12, 13, 14, 15, 16, 17])"
      ]
     },
     "execution_count": 27,
     "metadata": {},
     "output_type": "execute_result"
    }
   ],
   "source": [
    "sc_quarters"
   ]
  },
  {
   "cell_type": "code",
   "execution_count": null,
   "metadata": {},
   "outputs": [],
   "source": []
  },
  {
   "cell_type": "markdown",
   "metadata": {},
   "source": [
    "# Count up transits and break into subgroups if $N_{trans} > 16$ "
   ]
  },
  {
   "cell_type": "code",
   "execution_count": null,
   "metadata": {},
   "outputs": [],
   "source": [
    "# fit at most MAX_GROUP_SIZE transits at a time\n",
    "MAX_GROUP_SIZE = 20\n",
    "\n",
    "ngroups = []\n",
    "tts_group = []\n",
    "\n",
    "for npl in range(NPL):\n",
    "    num_trans_total = len(overlap[npl])\n",
    "    num_trans_nonoverlap = (np.sum(~overlap[npl]))\n",
    "    \n",
    "    ngroups.append(int(np.ceil(num_trans_nonoverlap/MAX_GROUP_SIZE)))\n",
    "    \n",
    "    groupsize = int(np.ceil(num_trans_nonoverlap/ngroups[npl]))\n",
    "    r = np.repeat(np.arange(1,ngroups[npl]+1), groupsize)\n",
    "    \n",
    "    tg = np.zeros(num_trans_total, dtype=\"int\")\n",
    "    tg[~overlap[npl]] = np.random.choice(r, size=num_trans_nonoverlap, replace=False)\n",
    "    \n",
    "    tts_group.append(tg)"
   ]
  },
  {
   "cell_type": "code",
   "execution_count": null,
   "metadata": {},
   "outputs": [],
   "source": [
    "group_mask = [None]*18\n",
    "\n",
    "for q in range(18):\n",
    "    if all_mask[q] is not None:        \n",
    "        t_ = all_time[q]\n",
    "        m_ = np.array(all_mask[q].copy(), dtype=\"int\")\n",
    "    \n",
    "        for npl in range(NPL):\n",
    "            for i, t0 in enumerate(quick_transit_times[npl]):\n",
    "                m_[npl][np.abs(t_-t0)/durs[npl] < 3.0] = tts_group[npl][i]\n",
    "\n",
    "        group_mask[q] = np.copy(m_)\n",
    "\n",
    "        \n",
    "for npl in range(NPL):\n",
    "    plt.figure(figsize=(20,3))\n",
    "    \n",
    "    for j, q in enumerate(quarters):        \n",
    "        t_ = all_time[q]\n",
    "        f_ = all_flux[q]\n",
    "        m_ = group_mask[q][npl]\n",
    "        \n",
    "        for ng in range(1,ngroups[npl]+1):\n",
    "            plt.plot(t_[m_==ng], f_[m_==ng], \".\", c=\"C{0}\".format(ng-1))\n",
    "        \n",
    "    plt.show()"
   ]
  },
  {
   "cell_type": "markdown",
   "metadata": {},
   "source": [
    "# (4) Fit independent transit times"
   ]
  },
  {
   "cell_type": "code",
   "execution_count": 26,
   "metadata": {},
   "outputs": [
    {
     "name": "stdout",
     "output_type": "stream",
     "text": [
      "\n",
      "PLANET 0, GROUP 1\n",
      "14 transits\n",
      "quarters: [ 2  5  6  7 10 11 13 16]\n"
     ]
    },
    {
     "name": "stderr",
     "output_type": "stream",
     "text": [
      "optimizing logp for variables: [logvar, flux0, tt_offset]\n",
      "210it [00:03, 53.70it/s, logp=1.556784e+04] \n",
      "message: Desired error not necessarily achieved due to precision loss.\n",
      "logp: 15562.692324234893 -> 15567.838573098295\n"
     ]
    },
    {
     "name": "stdout",
     "output_type": "stream",
     "text": [
      "\n",
      "PLANET 0, GROUP 2\n",
      "16 transits\n",
      "quarters: [ 1  3  5  6  7 11 12 13 14 15 16]\n"
     ]
    },
    {
     "name": "stderr",
     "output_type": "stream",
     "text": [
      "optimizing logp for variables: [logvar, flux0, tt_offset]\n",
      "88it [00:05, 15.27it/s, logp=3.774882e+04] \n",
      "message: Desired error not necessarily achieved due to precision loss.\n",
      "logp: 37718.13814751551 -> 37748.82128000279\n"
     ]
    },
    {
     "name": "stdout",
     "output_type": "stream",
     "text": [
      "\n",
      "PLANET 0, GROUP 3\n",
      "15 transits\n",
      "quarters: [ 2  3  4  5  6  8  9 10 11 13 14 15 17]\n"
     ]
    },
    {
     "name": "stderr",
     "output_type": "stream",
     "text": [
      "optimizing logp for variables: [logvar, flux0, tt_offset]\n",
      "251it [00:07, 34.90it/s, logp=2.457645e+04] \n",
      "message: Desired error not necessarily achieved due to precision loss.\n",
      "logp: 24560.65101525584 -> 24576.449234078053\n"
     ]
    },
    {
     "name": "stdout",
     "output_type": "stream",
     "text": [
      "\n",
      "PLANET 0, GROUP 4\n",
      "16 transits\n",
      "quarters: [ 1  5  6  8 10 12 14 15 16 17]\n"
     ]
    },
    {
     "ename": "ValueError",
     "evalue": "Got unexpected empty data array",
     "output_type": "error",
     "traceback": [
      "\u001b[0;31m---------------------------------------------------------------------------\u001b[0m",
      "\u001b[0;31mValueError\u001b[0m                                Traceback (most recent call last)",
      "\u001b[0;32m<ipython-input-26-d15fc7327f64>\u001b[0m in \u001b[0;36m<module>\u001b[0;34m\u001b[0m\n\u001b[1;32m     74\u001b[0m \u001b[0;34m\u001b[0m\u001b[0m\n\u001b[1;32m     75\u001b[0m                 \u001b[0;32mif\u001b[0m \u001b[0mnp\u001b[0m\u001b[0;34m.\u001b[0m\u001b[0msum\u001b[0m\u001b[0;34m(\u001b[0m\u001b[0mm_\u001b[0m\u001b[0;34m)\u001b[0m \u001b[0;34m==\u001b[0m \u001b[0;36m0\u001b[0m\u001b[0;34m:\u001b[0m\u001b[0;34m\u001b[0m\u001b[0;34m\u001b[0m\u001b[0m\n\u001b[0;32m---> 76\u001b[0;31m                     \u001b[0;32mraise\u001b[0m \u001b[0mValueError\u001b[0m\u001b[0;34m(\u001b[0m\u001b[0;34m\"Got unexpected empty data array\"\u001b[0m\u001b[0;34m)\u001b[0m\u001b[0;34m\u001b[0m\u001b[0;34m\u001b[0m\u001b[0m\n\u001b[0m\u001b[1;32m     77\u001b[0m \u001b[0;34m\u001b[0m\u001b[0m\n\u001b[1;32m     78\u001b[0m                 \u001b[0;31m# set oversampling factor\u001b[0m\u001b[0;34m\u001b[0m\u001b[0;34m\u001b[0m\u001b[0;34m\u001b[0m\u001b[0m\n",
      "\u001b[0;31mValueError\u001b[0m: Got unexpected empty data array"
     ]
    }
   ],
   "source": [
    "tts_chains = []\n",
    "offset_chains = []\n",
    "\n",
    "for npl in range(NPL):\n",
    "    for g in range(1,ngroups[npl]+1):\n",
    "        print(\"\\nPLANET {0}, GROUP {1}\".format(npl,g))\n",
    "        \n",
    "        # identify which quarters and which_seasons have data\n",
    "        use = tts_group[npl] == g\n",
    "        \n",
    "        wq = np.unique(transit_quarter[npl][use])\n",
    "        ws = np.unique(wq % 4)\n",
    "                        \n",
    "        # grab transit times\n",
    "        fixed_tts = np.copy(shape_transit_times[npl][use])\n",
    "        fixed_inds = np.copy(transit_inds[npl][use])\n",
    "        \n",
    "        print(np.sum(use), \"transits\")\n",
    "        print(\"quarters:\", wq)\n",
    "\n",
    "        # now build the model\n",
    "        with pm.Model() as indep_model:\n",
    "            # transit times\n",
    "            tt_offset = pm.StudentT('tt_offset', nu=2, shape=len(fixed_tts), testval=np.zeros(len(fixed_tts)))\n",
    "            transit_times = pm.Deterministic('tts', fixed_tts + tt_offset*ttv_amps[npl])\n",
    "            \n",
    "            # set up stellar model and planetary orbit\n",
    "            exoSLC = exo.StarryLightCurve(u)\n",
    "            orbit  = exo.orbits.TTVOrbit(transit_times=[transit_times], transit_inds=[fixed_inds], \n",
    "                                         b=b[npl], r_star=Rstar, m_star=Mstar)\n",
    "\n",
    "            # track period and epoch\n",
    "            T0 = pm.Deterministic('T0', orbit.t0)\n",
    "            P  = pm.Deterministic('P', orbit.period)\n",
    "            \n",
    "            # nuissance parameters (one mean flux; variance by quarter)\n",
    "            flux0 = pm.Normal('flux0', mu=np.ones(len(wq)), sd=np.sqrt(vbq_all[wq])/4, shape=len(wq))\n",
    "            logvar = pm.Normal('logvar', mu=np.log(vbq_all[wq]), sd=np.log(4)*np.ones(len(wq)), shape=len(wq))\n",
    "\n",
    "            \n",
    "            # build the GP kernel using a different noise model for each season\n",
    "            logSw4 = [None]*4\n",
    "            logw0  = [None]*4\n",
    "            logQ   = [None]*4\n",
    "            kernel = [None]*4\n",
    "\n",
    "            for i in range(4):\n",
    "                if np.isin(i, ws):\n",
    "                    gpi = gp_priors[i]              \n",
    "\n",
    "                    logSw4[i] = gpi['logSw4'][0]\n",
    "                    logw0[i] = gpi['logw0'][0]\n",
    "                    logQ[i] = gpi['logQ'][0]\n",
    "\n",
    "                    kernel[i] = exo.gp.terms.SHOTerm(log_Sw4=logSw4[i], log_w0=logw0[i], log_Q=logQ[i])\n",
    "                \n",
    "                else:\n",
    "                    kernel[i] = None\n",
    "            \n",
    "            \n",
    "            # now evaluate the model for each quarter\n",
    "            light_curves       = [None]*len(wq)\n",
    "            summed_light_curve = [None]*len(wq)\n",
    "            model_flux         = [None]*len(wq)\n",
    "            \n",
    "            gp = [None]*len(wq)\n",
    "            \n",
    "\n",
    "            for j, q in enumerate(wq):\n",
    "                # here's the data\n",
    "                t_ = all_time[q]\n",
    "                f_ = all_flux[q]\n",
    "                m_ = group_mask[q][npl] == g\n",
    "                \n",
    "                if np.sum(m_) == 0:\n",
    "                    raise ValueError(\"Got unexpected empty data array\")\n",
    "\n",
    "                # set oversampling factor\n",
    "                if all_dtype[q] == 'short':\n",
    "                    oversample = 1\n",
    "                elif all_dtype[q] == 'long':\n",
    "                    oversample = 15\n",
    "\n",
    "                # calculate light curves\n",
    "                light_curves[j] = exoSLC.get_light_curve(orbit=orbit, r=rp[npl], t=t_[m_], oversample=oversample)\n",
    "                summed_light_curve[j] = pm.math.sum(light_curves[j], axis=-1) + flux0[j]*T.ones(len(t_[m_]))\n",
    "                model_flux[j] = pm.Deterministic('model_flux_{0}'.format(j), summed_light_curve[j])\n",
    "                \n",
    "                # here's the GP (w/ kernel by season)\n",
    "                gp[j] = exo.gp.GP(kernel[q%4], t_[m_], T.exp(logvar[j])*T.ones(len(t_[m_])))\n",
    "                \n",
    "                \n",
    "                # add custom potential (log-prob fxn) with the GP likelihood\n",
    "                pm.Potential('obs_{0}'.format(j), gp[j].log_likelihood(f_[m_] - model_flux[j]))\n",
    "                \n",
    "                \n",
    "        with indep_model:\n",
    "            indep_map = exo.optimize(start=indep_model.test_point)\n",
    "            \n",
    "            \n",
    "        tts_chains.append(np.copy(np.array(indep_map['tts'])))\n",
    "        offset_chains.append(np.copy(np.array(indep_map['tt_offset'])))\n",
    "\n",
    "                \n",
    "        # sample from the posterior\n",
    "        #with indep_model:\n",
    "        #    indep_trace = pm.sample(tune=5, draws=3, start=indep_model.test_point, chains=2,\n",
    "        #                            step=exo.get_dense_nuts_step(target_accept=0.9))\n",
    "\n",
    "        #tts_chains.append(np.copy(np.array(indep_trace['tts'])))\n",
    "        #offset_chains.append(np.copy(np.array(indep_trace['tt_offset'])))"
   ]
  },
  {
   "cell_type": "code",
   "execution_count": null,
   "metadata": {},
   "outputs": [],
   "source": []
  },
  {
   "cell_type": "code",
   "execution_count": null,
   "metadata": {},
   "outputs": [],
   "source": []
  },
  {
   "cell_type": "code",
   "execution_count": null,
   "metadata": {},
   "outputs": [],
   "source": []
  },
  {
   "cell_type": "code",
   "execution_count": null,
   "metadata": {},
   "outputs": [],
   "source": [
    "# make primary HDU\n",
    "primary_hdu = pyfits.PrimaryHDU()\n",
    "header = primary_hdu.header\n",
    "header['TARGET'] = TARGET\n",
    "primary_hdu.header = header\n",
    "    \n",
    "# add it to HDU list\n",
    "indep_hdulist = []\n",
    "indep_hdulist.append(primary_hdu)\n",
    "\n",
    "\n",
    "# grab all samples from trace\n",
    "i = 0\n",
    "\n",
    "for npl in range(NPL):\n",
    "    combo_tts = []\n",
    "    combo_offset = []\n",
    "    combo_groupno = []\n",
    "\n",
    "    for j in range(ngroups[npl]):\n",
    "        combo_tts.append(tts_chains[i])\n",
    "        combo_offset.append(offset_chains[i])\n",
    "        combo_groupno.append((j+1)*np.ones(tts_chains[i].shape[1], dtype=\"int\"))\n",
    "        \n",
    "        i += 1\n",
    "        \n",
    "    combo_tts = np.hstack(combo_tts)\n",
    "    combo_offset = np.hstack(combo_offset)\n",
    "    combo_groupno = np.hstack(combo_groupno)\n",
    "\n",
    "    order = np.argsort(np.median(combo_tts,0))\n",
    "\n",
    "    combo_tts = combo_tts[:,order]\n",
    "    combo_offset = combo_offset[:,order]\n",
    "    combo_groupno = combo_groupno[order]\n",
    "    \n",
    "    \n",
    "    # add to HDUList\n",
    "    indep_hdulist.append(pyfits.ImageHDU(combo_tts, name='TTS_{0}'.format(npl)))\n",
    "    indep_hdulist.append(pyfits.ImageHDU(combo_offset, name='OFFSET_{0}'.format(npl)))\n",
    "    indep_hdulist.append(pyfits.ImageHDU(combo_groupno, name='GROUP_{0}'.format(npl)))\n",
    "\n",
    "    \n",
    "indep_hdulist = pyfits.HDUList(indep_hdulist)\n",
    "indep_hdulist.writeto(TRACE_DIR + TARGET + '_indep_ttvs.fits', overwrite=True)\n",
    "\n",
    "print('TOTAL RUNTIME = %.2f min' %((timer()-global_start_time)/60))"
   ]
  },
  {
   "cell_type": "code",
   "execution_count": null,
   "metadata": {},
   "outputs": [],
   "source": []
  },
  {
   "cell_type": "code",
   "execution_count": null,
   "metadata": {},
   "outputs": [],
   "source": []
  },
  {
   "cell_type": "code",
   "execution_count": null,
   "metadata": {},
   "outputs": [],
   "source": []
  },
  {
   "cell_type": "code",
   "execution_count": null,
   "metadata": {},
   "outputs": [],
   "source": []
  },
  {
   "cell_type": "code",
   "execution_count": null,
   "metadata": {},
   "outputs": [],
   "source": []
  },
  {
   "cell_type": "markdown",
   "metadata": {},
   "source": [
    "# Fit INDEPENDENT TTVs on a quarter-by-quarter basis"
   ]
  },
  {
   "cell_type": "code",
   "execution_count": null,
   "metadata": {},
   "outputs": [],
   "source": [
    "tts_chains = []\n",
    "offset_chains = []\n",
    "\n",
    "for npl in range(NPL):\n",
    "    tts_chains.append([])\n",
    "    offset_chains.append([])"
   ]
  },
  {
   "cell_type": "code",
   "execution_count": null,
   "metadata": {},
   "outputs": [],
   "source": [
    "tts_chains = []\n",
    "offset_chains = []\n",
    "\n",
    "for npl in range(NPL):\n",
    "    tts_chains.append([])\n",
    "    offset_chains.append([])\n",
    "\n",
    "for j, q in enumerate(quarters):\n",
    "    #print(\"\\nQUARTER {0}\".format(q))\n",
    "\n",
    "    fixed_tts = []\n",
    "    fixed_inds = []\n",
    "    \n",
    "    for npl in range(NPL):\n",
    "        use = transit_quarter[npl] == q\n",
    "        \n",
    "        fixed_tts.append(matern_transit_times[npl][use])\n",
    "        fixed_inds.append(transit_inds[npl][use])\n",
    "        \n",
    "        \n",
    "    # build the model\n",
    "    with pm.Model() as indep_model:\n",
    "        \n",
    "        # determine the transit times\n",
    "        tt_offset = []\n",
    "        transit_times = []\n",
    "        \n",
    "        for npl in range(NPL):\n",
    "            tt_offset.append(pm.StudentT('tt_offset_{0}'.format(npl), nu=2, shape=len(fixed_tts[npl])))\n",
    "            transit_times.append(pm.Deterministic('tts_{0}'.format(npl), fixed_tts[npl] + tt_offset[npl]*ttv_amps[npl]))\n",
    "            \n",
    "            \n",
    "        # set up stellar model and planetary orbit\n",
    "        exoSLC = exo.StarryLightCurve(u)\n",
    "        orbit  = exo.orbits.TTVOrbit(transit_times=[transit_times], transit_inds=[fixed_inds], \n",
    "                                     b=b[npl], r_star=Rstar, m_star=Mstar)\n",
    "\n",
    "        # track period and epoch\n",
    "        T0 = pm.Deterministic('T0', orbit.t0)\n",
    "        P  = pm.Deterministic('P', orbit.period)\n",
    "        \n",
    "        # nuissance parameters\n",
    "        flux0 = pm.Normal('flux0', mu=0, sd = np.sqrt(vbq_all[q])/4)\n",
    "        logvar = pm.Normal('logvar', mu=np.log(vbq_all[q]), sd=np.log(4))\n",
    "        \n",
    "        # build the GP kernel\n",
    "        logSw4 = gpi['logSw4'][q%4]\n",
    "        logw0 = gpi['logw0'][q%4]\n",
    "        logQ = gpi['logQ'][q%4]\n",
    "        \n",
    "        kernel = exo.gp.terms.SHOTerm(log_Sw4=logSw4, log_w0=logw0, log_Q=logQ)\n",
    "        \n",
    "        # grab the data\n",
    "        t_ = all_time[q]\n",
    "        f_ = all_flux[q]\n",
    "        m_ = group_mask[q]\n",
    "        \n",
    "        \n",
    "        # set oversampling factor\n",
    "        if all_dtype[q] == 'short':\n",
    "            oversample = 1\n",
    "        elif all_dtype[q] == 'long':\n",
    "            oversample = 15\n",
    "            \n",
    "            \n",
    "        # calculate light curves\n",
    "        light_curves = exoSLC.get_light_curve(orbit=orbit, r=rp, t=t_[m_], oversample=oversample)\n",
    "        summed_light_curve = pm.math.sum(light_curves, axis=-1) + flux0*T.ones(len(t_[m_]))\n",
    "        model_flux = pm.Deterministic('model_flux'.format(j), summed_light_curve)\n",
    "        \n",
    "        \n",
    "        # here's the GP (w/ kernel by season)\n",
    "        gp = exo.gp.GP(kernel, t_[m_], T.exp(logvar)*T.ones(len(t_[m_])))\n",
    "\n",
    "\n",
    "        # add custom potential (log-prob fxn) with the GP likelihood\n",
    "        pm.Potential('obs', gp.log_likelihood(f_[m_] - model_flux))"
   ]
  },
  {
   "cell_type": "code",
   "execution_count": null,
   "metadata": {},
   "outputs": [],
   "source": [
    "fixed_tts"
   ]
  },
  {
   "cell_type": "code",
   "execution_count": null,
   "metadata": {},
   "outputs": [],
   "source": [
    "tt_offset[0]"
   ]
  },
  {
   "cell_type": "code",
   "execution_count": null,
   "metadata": {},
   "outputs": [],
   "source": []
  },
  {
   "cell_type": "code",
   "execution_count": null,
   "metadata": {},
   "outputs": [],
   "source": []
  },
  {
   "cell_type": "code",
   "execution_count": null,
   "metadata": {},
   "outputs": [],
   "source": []
  },
  {
   "cell_type": "code",
   "execution_count": null,
   "metadata": {},
   "outputs": [],
   "source": []
  }
 ],
 "metadata": {
  "kernelspec": {
   "display_name": "Python 3",
   "language": "python",
   "name": "python3"
  },
  "language_info": {
   "codemirror_mode": {
    "name": "ipython",
    "version": 3
   },
   "file_extension": ".py",
   "mimetype": "text/x-python",
   "name": "python",
   "nbconvert_exporter": "python",
   "pygments_lexer": "ipython3",
   "version": "3.7.3"
  }
 },
 "nbformat": 4,
 "nbformat_minor": 2
}
