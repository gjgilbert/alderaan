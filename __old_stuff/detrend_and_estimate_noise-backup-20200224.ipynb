{
 "cells": [
  {
   "cell_type": "markdown",
   "metadata": {},
   "source": [
    "# Detrend and Estimate Noise"
   ]
  },
  {
   "cell_type": "code",
   "execution_count": 1,
   "metadata": {},
   "outputs": [],
   "source": [
    "import numpy as np\n",
    "import matplotlib.pyplot as plt\n",
    "\n",
    "import scipy.optimize as op\n",
    "import scipy.signal as sig\n",
    "from   scipy import stats\n",
    "from   scipy import fftpack\n",
    "from   scipy import ndimage\n",
    "from   scipy.interpolate import UnivariateSpline\n",
    "import astropy\n",
    "from   astropy.io import fits as pyfits\n",
    "from   sklearn.cluster import KMeans\n",
    "\n",
    "import csv\n",
    "import sys\n",
    "import os\n",
    "import importlib as imp\n",
    "import glob\n",
    "from   timeit import default_timer as timer\n",
    "import warnings\n",
    "import progressbar\n",
    "import argparse\n",
    "import json\n",
    "from   copy import deepcopy\n",
    "\n",
    "import lightkurve as lk\n",
    "import exoplanet as exo\n",
    "import theano.tensor as T\n",
    "import pymc3 as pm\n",
    "import corner\n",
    "\n",
    "from alderaan.constants import *\n",
    "from alderaan.utils import *\n",
    "from alderaan.Planet import *\n",
    "from alderaan.LiteCurve import *\n",
    "import alderaan.io as io\n",
    "import alderaan.detrend as detrend\n",
    "import alderaan.noise as noise\n",
    "from alderaan.omc import omc_model\n",
    "from alderaan.omc import choose_omc_model\n",
    "\n",
    "\n",
    "# flush buffer to avoid mixed outputs from progressbar\n",
    "sys.stdout.flush()\n",
    "\n",
    "# turn off FutureWarnings\n",
    "warnings.filterwarnings('ignore', category=FutureWarning)\n",
    "\n",
    "# start program timer\n",
    "global_start_time = timer()\n",
    "\n",
    "# LCIT and SCIT in [1/days]\n",
    "lcit = LCIT/60/24\n",
    "scit = SCIT/3600/24"
   ]
  },
  {
   "cell_type": "markdown",
   "metadata": {},
   "source": [
    "# Manually set I/O parameters\n",
    "#### User should manually set MISSION, TARGET, PRIMARY_DIR,  and CSV_FILE\n",
    "#### Note that if using DR25, you will need to manually correct epochs from BJD to BJKD with an offset of 2454833.0 days; the cumulative exoplanet archive catalog has already converted epochs to BJKD"
   ]
  },
  {
   "cell_type": "code",
   "execution_count": 2,
   "metadata": {},
   "outputs": [],
   "source": [
    "# select mission, target, and paths\n",
    "MISSION = \"Kepler\"\n",
    "TARGET  = \"K02086\"\n",
    "\n",
    "PRIMARY_DIR  = '/Users/research/projects/alderaan/'\n",
    "\n",
    "CSV_FILE = PRIMARY_DIR + \"Catalogs/cumulative_koi_catalog.csv\"\n",
    "BKJD_CORRECTION = 0.0\n",
    "\n",
    "#CSV_FILE = PRIMARY_DIR + \"Catalogs/clean_kepler_catalog.csv\"\n",
    "#BKJD_CORRECTION = 2454833.0\n"
   ]
  },
  {
   "cell_type": "code",
   "execution_count": 3,
   "metadata": {},
   "outputs": [
    {
     "name": "stderr",
     "output_type": "stream",
     "text": [
      "usage: ipykernel_launcher.py [-h] --mission MISSION --target TARGET\n",
      "                             --primary_dir PRIMARY_DIR --csv_file CSV_FILE\n",
      "ipykernel_launcher.py: error: the following arguments are required: --mission, --target, --primary_dir, --csv_file\n"
     ]
    }
   ],
   "source": [
    "# here's where we parse the inputs\n",
    "try:\n",
    "    parser = argparse.ArgumentParser(description=\"Inputs for ALDERAAN transit fiting pipeline\")\n",
    "    parser.add_argument(\"--mission\", default=None, type=str, required=True, \\\n",
    "                        help=\"Mission name\")\n",
    "    parser.add_argument(\"--target\", default=None, type=str, required=True, \\\n",
    "                        help=\"Target name; see ALDERAAN documentation for acceptable formats\")\n",
    "    parser.add_argument(\"--primary_dir\", default=None, type=str, required=True, \\\n",
    "                        help=\"Primary directory path for accessing lightcurve data and saving outputs\")\n",
    "    parser.add_argument(\"--csv_file\", default=None, type=str, required=True, \\\n",
    "                        help=\"Path to .csv file containing input planetary parameters\")\n",
    "\n",
    "\n",
    "    args = parser.parse_args()\n",
    "    MISSION      = args.mission\n",
    "    TARGET       = args.target\n",
    "    PRIMARY_DIR  = args.primary_dir\n",
    "    CSV_FILE     = args.csv_file    \n",
    "    \n",
    "except:\n",
    "    pass"
   ]
  },
  {
   "cell_type": "code",
   "execution_count": 4,
   "metadata": {},
   "outputs": [],
   "source": [
    "HOLCZER_FILE = PRIMARY_DIR + \"Catalogs/holczer_2016_kepler_ttvs.txt\""
   ]
  },
  {
   "cell_type": "markdown",
   "metadata": {},
   "source": [
    "# Make sure the necessary paths exist"
   ]
  },
  {
   "cell_type": "code",
   "execution_count": 5,
   "metadata": {},
   "outputs": [],
   "source": [
    "# directory in which to find lightcurve data\n",
    "if MISSION == 'Kepler': DOWNLOAD_DIR = PRIMARY_DIR + 'MAST_downloads/'\n",
    "if MISSION == 'Simulated': DOWNLOAD_DIR = PRIMARY_DIR + 'Simulations/'\n",
    "\n",
    "# directories in which to place pipeline outputs\n",
    "FIGURE_DIR    = PRIMARY_DIR + 'Figures/' + TARGET + '/'\n",
    "TRACE_DIR     = PRIMARY_DIR + 'Traces/' + TARGET + '/'\n",
    "QUICK_TTV_DIR = PRIMARY_DIR + 'QuickTTVs/' + TARGET + '/'\n",
    "DLC_DIR       = PRIMARY_DIR + 'Detrended_lightcurves/' + TARGET + '/'\n",
    "NOISE_DIR     = PRIMARY_DIR + 'Noise_models/' + TARGET + '/'\n",
    "\n",
    "\n",
    "# check if all the paths exist and create them if not\n",
    "if os.path.exists(FIGURE_DIR) == False:\n",
    "    os.mkdir(FIGURE_DIR)\n",
    "    \n",
    "if os.path.exists(TRACE_DIR) == False:\n",
    "    os.mkdir(TRACE_DIR)\n",
    "    \n",
    "if os.path.exists(QUICK_TTV_DIR) == False:\n",
    "    os.mkdir(QUICK_TTV_DIR)\n",
    "    \n",
    "if os.path.exists(DLC_DIR) == False:\n",
    "    os.mkdir(DLC_DIR)\n",
    "    \n",
    "if os.path.exists(NOISE_DIR) == False:\n",
    "    os.mkdir(NOISE_DIR)"
   ]
  },
  {
   "cell_type": "markdown",
   "metadata": {},
   "source": [
    "# Read in planet and stellar parameters from Kepler DR25 & Gaia DR2"
   ]
  },
  {
   "cell_type": "code",
   "execution_count": 6,
   "metadata": {},
   "outputs": [
    {
     "name": "stdout",
     "output_type": "stream",
     "text": [
      "Reading in data from csv file\n"
     ]
    }
   ],
   "source": [
    "# Read in the data from csv file\n",
    "print('Reading in data from csv file')\n",
    "\n",
    "# read in a csv file containing info on targets\n",
    "csv_keys, csv_values = io.read_csv_file(CSV_FILE)\n",
    "\n",
    "# put these csv data into a dictionary\n",
    "target_dict = {}\n",
    "for k in csv_keys: \n",
    "    target_dict[k] = io.get_csv_data(k, csv_keys, csv_values)\n",
    "\n",
    "    \n",
    "if MISSION == 'Kepler':\n",
    "    # pull relevant quantities and establish GLOBAL variables\n",
    "    use = np.array(target_dict['koi_id']) == TARGET\n",
    "\n",
    "    KIC = np.array(target_dict['kic_id'], dtype='int')[use]\n",
    "    NPL = np.array(target_dict['npl'], dtype='int')[use]\n",
    "    \n",
    "    RSTAR = np.array(target_dict['rstar'],  dtype='float')[use]\n",
    "    RSTAR_ERR1 = np.array(target_dict['rstar_err1'],  dtype='float')[use]\n",
    "    RSTAR_ERR2 = np.array(target_dict['rstar_err2'],  dtype='float')[use]\n",
    "    \n",
    "    MSTAR  = np.array(target_dict['mstar'], dtype='float')[use]\n",
    "    MSTAR_ERR1 = np.array(target_dict['mstar_err1'],  dtype='float')[use]\n",
    "    MSTAR_ERR2 = np.array(target_dict['mstar_err2'],  dtype='float')[use]\n",
    "\n",
    "    PERIODS = np.array(target_dict['period'], dtype='float')[use]\n",
    "    EPOCHS  = np.array(target_dict['epoch'],  dtype='float')[use] - BKJD_CORRECTION\n",
    "    DEPTHS  = np.array(target_dict['depth'], dtype='float')[use]*1e-6          # [ppm] --> []\n",
    "    DURS    = np.array(target_dict['duration'], dtype='float')[use]/24         # [hrs] --> [days]\n",
    "\n",
    "    \n",
    "elif MISSION == 'Simulated':\n",
    "    # pull relevant quantities and establish GLOBAL variables\n",
    "    use = np.array(target_dict['id_sim']) == TARGET\n",
    "\n",
    "    KIC    = np.array(target_dict['kic'], dtype='int')[use]\n",
    "    NPL    = np.array(target_dict['npl'], dtype='int')[use]\n",
    "    RSTAR  = np.array(target_dict['rstar'],  dtype='float')[use]\n",
    "    MSTAR  = np.array(target_dict['mstar'], dtype='float')[use]\n",
    "\n",
    "    PERIODS = np.array(target_dict['period'], dtype='float')[use]\n",
    "    EPOCHS  = np.array(target_dict['epoch'],  dtype='float')[use]\n",
    "    DEPTHS  = np.array(target_dict['depth'], dtype='float')[use]*1e-6     # [ppm] --> []\n",
    "    DURS    = np.array(target_dict['dur'], dtype='float')[use]/24         # [hrs] --> [days]\n",
    "        \n",
    "    \n",
    "else:\n",
    "    raise ValueError(\"MISSION must be 'Kepler' or 'Simulated'\")"
   ]
  },
  {
   "cell_type": "code",
   "execution_count": 7,
   "metadata": {},
   "outputs": [],
   "source": [
    "# do some consistency checks\n",
    "if all(k == KIC[0] for k in KIC): KIC = KIC[0]\n",
    "else: raise ValueError('There are inconsistencies with KIC in the csv input file')\n",
    "\n",
    "if all(n == NPL[0] for n in NPL): NPL = NPL[0]\n",
    "else: raise ValueError('There are inconsistencies with NPL in the csv input file')\n",
    "\n",
    "if all(r == RSTAR[0] for r in RSTAR): RSTAR = RSTAR[0]\n",
    "else: raise ValueError('There are inconsistencies with RSTAR in the csv input file')\n",
    "\n",
    "if all(r == RSTAR_ERR1[0] for r in RSTAR_ERR1): RSTAR_ERR1 = RSTAR_ERR1[0]\n",
    "else: raise ValueError('There are inconsistencies with RSTAR_ERR1 in the csv input file')\n",
    "    \n",
    "if all(r == RSTAR_ERR2[0] for r in RSTAR_ERR2): RSTAR_ERR2 = RSTAR_ERR2[0]\n",
    "else: raise ValueError('There are inconsistencies with RSTAR_ERR2 in the csv input file')  \n",
    "    \n",
    "if all(m == MSTAR[0] for m in MSTAR): MSTAR = MSTAR[0]\n",
    "else: raise ValueError('There are inconsistencies with MSTAR in the csv input file')\n",
    "\n",
    "if all(m == MSTAR_ERR1[0] for m in MSTAR_ERR1): MSTAR_ERR1 = MSTAR_ERR1[0]\n",
    "else: raise ValueError('There are inconsistencies with MSTAR_ERR1 in the csv input file')\n",
    "    \n",
    "if all(m == MSTAR_ERR2[0] for m in MSTAR_ERR2): MSTAR_ERR2 = MSTAR_ERR2[0]\n",
    "else: raise ValueError('There are inconsistencies with MSTAR_ERR2 in the csv input file')  "
   ]
  },
  {
   "cell_type": "code",
   "execution_count": 8,
   "metadata": {},
   "outputs": [],
   "source": [
    "# combline stellar radius/mass uncertainties\n",
    "MSTAR_ERR = np.sqrt(MSTAR_ERR1**2 + MSTAR_ERR2**2)/np.sqrt(2)\n",
    "RSTAR_ERR = np.sqrt(RSTAR_ERR1**2 + RSTAR_ERR2**2)/np.sqrt(2)\n",
    "\n",
    "#initialize with solar limb darkening coefficients from EXOFAST\n",
    "U1 = 0.39940842\n",
    "U2 = 0.26477268\n",
    "UCOEFFS = [U1, U2]"
   ]
  },
  {
   "cell_type": "code",
   "execution_count": null,
   "metadata": {},
   "outputs": [],
   "source": []
  },
  {
   "cell_type": "code",
   "execution_count": 9,
   "metadata": {},
   "outputs": [],
   "source": [
    "bad = PERIODS > 100\n",
    "\n",
    "PERIODS = PERIODS[~bad]\n",
    "EPOCHS = EPOCHS[~bad]\n",
    "DEPTHS = DEPTHS[~bad]\n",
    "DURS = DURS[~bad]\n",
    "\n",
    "NPL = len(PERIODS)"
   ]
  },
  {
   "cell_type": "markdown",
   "metadata": {},
   "source": [
    "# Read in Holczer+ 2016 TTVs"
   ]
  },
  {
   "cell_type": "code",
   "execution_count": 10,
   "metadata": {},
   "outputs": [],
   "source": [
    "if MISSION == \"Kepler\":\n",
    "    holczer_data = np.loadtxt(HOLCZER_FILE, usecols=[0,1,2,3])\n",
    "\n",
    "    holczer_inds = []\n",
    "    holczer_tts  = []\n",
    "    holczer_pers = []\n",
    "\n",
    "    for npl in range(NPL):\n",
    "        koi = int(TARGET[1:]) + 0.01*(1+npl)\n",
    "        use = np.isclose(holczer_data[:,0], koi, rtol=1e-10, atol=1e-10)\n",
    "        \n",
    "        # Holczer uses BJD -24548900; BJKD = BJD - 2454833\n",
    "        if np.sum(use) > 0:\n",
    "            holczer_inds.append(np.array(holczer_data[use,1], dtype=\"int\"))\n",
    "            holczer_tts.append(holczer_data[use,2] + holczer_data[use,3]/24/60 + 67)\n",
    "            holczer_pers.append(np.median(holczer_tts[npl][1:] - holczer_tts[npl][:-1]))\n",
    "            \n",
    "        else:\n",
    "            holczer_inds.append(None)\n",
    "            holczer_tts.append(None)\n",
    "            holczer_pers.append(np.nan)\n",
    "            \n",
    "    holczer_pers = np.asarray(holczer_pers)"
   ]
  },
  {
   "cell_type": "markdown",
   "metadata": {},
   "source": [
    "# Read in pre-downloaded lightcurve data\n",
    "#### Kepler data can be retrieved by running the script \"download_from_MAST.py\"\n",
    "#### Simulated data can be produced by running the script \"simulate_lightcurve.py\""
   ]
  },
  {
   "cell_type": "code",
   "execution_count": 11,
   "metadata": {},
   "outputs": [],
   "source": [
    "if MISSION == 'Kepler':\n",
    "    # short cadence\n",
    "    try:\n",
    "        sc_path  = glob.glob(DOWNLOAD_DIR + 'mastDownload/Kepler/kplr' + '{0:09d}'.format(KIC) + '*_sc*/')[0]\n",
    "        sc_files = glob.glob(sc_path + '*')\n",
    "\n",
    "        sc_rawdata_list = []\n",
    "        for i, scf in enumerate(sc_files):\n",
    "            oscfi = lk.search.open(sc_files[i])\n",
    "            sc_rawdata_list.append(oscfi)\n",
    "\n",
    "        sc_rawdata = lk.LightCurveFileCollection(sc_rawdata_list)\n",
    "        sc_data = detrend.cleanup_lkfc(sc_rawdata, KIC)\n",
    "\n",
    "        sc_quarters = []\n",
    "        for i, scd in enumerate(sc_data):\n",
    "            sc_quarters.append(scd.quarter)\n",
    "    \n",
    "    except:\n",
    "        sc_data = []\n",
    "        sc_quarters = []\n",
    "        \n",
    "\n",
    "    # long cadence data\n",
    "    lc_path  = glob.glob(DOWNLOAD_DIR + 'mastDownload/Kepler/kplr' + '{0:09d}'.format(KIC) + '*_lc*/')[0]\n",
    "    lc_files = glob.glob(lc_path + '*')\n",
    "\n",
    "    lc_rawdata_list = []\n",
    "    for i, lcf in enumerate(lc_files):\n",
    "        olcfi = lk.search.open(lc_files[i])\n",
    "        \n",
    "        if ~np.isin(olcfi.quarter, sc_quarters):\n",
    "            lc_rawdata_list.append(olcfi)\n",
    "\n",
    "    lc_rawdata = lk.LightCurveFileCollection(lc_rawdata_list)\n",
    "    lc_data = detrend.cleanup_lkfc(lc_rawdata, KIC)\n",
    "        \n",
    "    lc_quarters = []\n",
    "    for i, lcd in enumerate(lc_data):\n",
    "        lc_quarters.append(lcd.quarter)\n",
    "        \n",
    "        \n",
    "elif MISSION == 'Simulated':\n",
    "    sc_files = glob.glob(DOWNLOAD_DIR + TARGET + '/*_sc.fits')\n",
    "    lc_files = glob.glob(DOWNLOAD_DIR + TARGET + '/*_lc.fits')\n",
    "    \n",
    "    sc_rawdata_list = []\n",
    "    for i, scf in enumerate(sc_files):\n",
    "        sc_rawdata_list.append(io.read_sim_fits(scf))\n",
    "    \n",
    "    sc_rawdata = lk.LightCurveCollection(sc_rawdata_list)\n",
    "    \n",
    "    sc_quarters = []\n",
    "    for i, scrd in enumerate(sc_rawdata):\n",
    "        sc_quarters.append(scrd.quarter)\n",
    "        \n",
    "    order = np.argsort(sc_quarters)    \n",
    "    sc_data = lk.LightCurveCollection([sc_rawdata_list[o] for o in order])\n",
    "            \n",
    "    \n",
    "    lc_rawdata_list = []\n",
    "    for i, lcf in enumerate(lc_files):      \n",
    "        lc_rawdata_list.append(io.read_sim_fits(lcf))\n",
    "    \n",
    "    lc_rawdata = lk.LightCurveCollection(lc_rawdata_list)\n",
    "    \n",
    "    lc_quarters = []\n",
    "    for i, lcrd in enumerate(lc_rawdata):\n",
    "        lc_quarters.append(lcrd.quarter)\n",
    "        \n",
    "    order = np.argsort(lc_quarters)    \n",
    "    lc_data = lk.LightCurveCollection([lc_rawdata_list[o] for o in order])"
   ]
  },
  {
   "cell_type": "code",
   "execution_count": 12,
   "metadata": {},
   "outputs": [],
   "source": [
    "# determine the time baseline\n",
    "time_min = []\n",
    "time_max = []\n",
    "\n",
    "try:\n",
    "    for i, scd in enumerate(sc_data):\n",
    "        time_min.append(scd.time.min())\n",
    "        time_max.append(scd.time.max())\n",
    "        \n",
    "except:\n",
    "    pass\n",
    "\n",
    "\n",
    "try:\n",
    "    for i, lcd in enumerate(lc_data):\n",
    "        time_min.append(lcd.time.min())\n",
    "        time_max.append(lcd.time.max())\n",
    "        \n",
    "except:\n",
    "    pass\n",
    "    \n",
    "    \n",
    "TIME_START = np.min(time_min)\n",
    "TIME_END   = np.max(time_max)\n",
    "\n",
    "if TIME_START < 0:\n",
    "    raise ValueError(\"START TIME [BKJD] is negative...this will cause problems\")\n",
    "\n",
    "\n",
    "# put epochs in range (TIME_START, TIME_START + PERIOD)\n",
    "for npl in range(NPL):\n",
    "    if EPOCHS[npl] < TIME_START:\n",
    "        adj = 1 + (TIME_START - EPOCHS[npl])//PERIODS[npl]\n",
    "        EPOCHS[npl] += adj*PERIODS[npl]        \n",
    "        \n",
    "    if EPOCHS[npl] > (TIME_START + PERIODS[npl]):\n",
    "        adj = (EPOCHS[npl] - TIME_START)//PERIODS[npl]\n",
    "        EPOCHS[npl] -= adj*PERIODS[npl]"
   ]
  },
  {
   "cell_type": "markdown",
   "metadata": {},
   "source": [
    "# Initialize Planet objects"
   ]
  },
  {
   "cell_type": "code",
   "execution_count": 13,
   "metadata": {},
   "outputs": [
    {
     "name": "stdout",
     "output_type": "stream",
     "text": [
      "Initializing 3 Planet objects\n"
     ]
    }
   ],
   "source": [
    "# initialize Planet objects\n",
    "print('Initializing %d Planet objects' %NPL)\n",
    "\n",
    "planets = []\n",
    "for npl in range(NPL):\n",
    "    p = Planet()\n",
    "    \n",
    "    # put in some basic transit parameters\n",
    "    p.epoch    = EPOCHS[npl]\n",
    "    p.period   = PERIODS[npl]\n",
    "    p.depth    = DEPTHS[npl]\n",
    "    p.duration = DURS[npl]\n",
    "    p.impact   = 0.25\n",
    "    p.esinw    = np.sqrt(0.0355)*np.random.randn()\n",
    "    p.ecosw    = np.sqrt(0.0355)*np.random.randn()\n",
    "    \n",
    "    # estimate transit times from linear ephemeris\n",
    "    p.tts = np.arange(p.epoch, TIME_END, p.period)\n",
    "\n",
    "    # make transit indexes\n",
    "    p.index = np.array(np.round((p.tts-p.epoch)/p.period),dtype='int')\n",
    "    \n",
    "    # add to list\n",
    "    planets.append(p)\n",
    "\n",
    "\n",
    "# put planets in order by period\n",
    "order = np.argsort(PERIODS)\n",
    "\n",
    "sorted_planets = []\n",
    "for npl in range(NPL):\n",
    "    sorted_planets.append(planets[order[npl]])\n",
    "\n",
    "planets = np.copy(sorted_planets)"
   ]
  },
  {
   "cell_type": "markdown",
   "metadata": {},
   "source": [
    "# Smooth and interpolate Holczer TTVs where they exist"
   ]
  },
  {
   "cell_type": "code",
   "execution_count": 14,
   "metadata": {},
   "outputs": [
    {
     "name": "stdout",
     "output_type": "stream",
     "text": [
      "\n",
      "PLANET 0\n",
      "\n",
      "PLANET 1\n"
     ]
    },
    {
     "name": "stderr",
     "output_type": "stream",
     "text": [
      "optimizing logp for variables: [logvar, mean, log_rho, log_sigma]\n",
      "40it [00:01, 30.66it/s, logp=2.850310e+02] \n",
      "message: Optimization terminated successfully.\n",
      "logp: 220.199544801424 -> 285.03098474247093\n"
     ]
    },
    {
     "data": {
      "image/png": "[encoded data removed]",
      "text/plain": [
       "<Figure size 864x288 with 1 Axes>"
      ]
     },
     "metadata": {
      "needs_background": "light"
     },
     "output_type": "display_data"
    },
    {
     "name": "stdout",
     "output_type": "stream",
     "text": [
      "\n",
      "PLANET 2\n"
     ]
    }
   ],
   "source": [
    "for npl in range(NPL):\n",
    "    print(\"\\nPLANET\", npl)\n",
    "    try:\n",
    "        # fit a linear ephemeris \n",
    "        pfit  = np.polyfit(holczer_inds[npl], holczer_tts[npl], 1)\n",
    "        ephem = np.polyval(pfit, holczer_inds[npl])\n",
    "        \n",
    "        \n",
    "        # put fitted epoch in range (TIME_START, TIME_START + PERIOD)\n",
    "        hper, hepoch = pfit\n",
    "\n",
    "        if hepoch < TIME_START:\n",
    "            adj = 1 + (TIME_START - hepoch)//hper\n",
    "            hepoch += adj*hper       \n",
    "\n",
    "        if hepoch > (TIME_START + hper):\n",
    "            adj = (hepoch - TIME_START)//hper\n",
    "            hepoch -= adj*hper      \n",
    "\n",
    "        hephem = np.arange(hepoch, TIME_END, hper)        \n",
    "        hinds  = np.array(np.round((hephem-hepoch)/hper),dtype='int')\n",
    "        \n",
    "        \n",
    "        # calculate OMC and flag outliers\n",
    "        xtime = np.copy(holczer_tts[npl])\n",
    "        yomc  = (holczer_tts[npl] - ephem)\n",
    "\n",
    "        ymed = ndimage.median_filter(yomc, size=5, mode=\"mirror\")\n",
    "        out  = np.abs(yomc-ymed)/astropy.stats.mad_std(yomc-ymed) > 3.0\n",
    "                \n",
    "        # set up a GP using a Matern-3/2 kernel\n",
    "        with pm.Model() as holczer_model:\n",
    "\n",
    "            # build the kernel \n",
    "            log_sigma = pm.Normal(\"log_sigma\", mu=np.log(np.std(yomc)), sd=10)\n",
    "            log_rho = pm.Normal(\"log_rho\", mu=np.log(xtime[1]-xtime[0]), sd=10)\n",
    "\n",
    "            kernel = exo.gp.terms.Matern32Term(log_sigma=log_sigma, log_rho=log_rho)\n",
    "\n",
    "            # nusiance parameters\n",
    "            mean = pm.Normal(\"mean\", mu=np.mean(yomc), sd=10)\n",
    "            logvar = pm.Normal(\"logvar\", mu=np.log(np.var(yomc)), sd=10)\n",
    "\n",
    "            # here's the GP\n",
    "            gp = exo.gp.GP(kernel, xtime[~out], T.exp(logvar)*T.ones(len(xtime[~out])))\n",
    "\n",
    "            # add custom potential (log-prob fxn) with the GP likelihood\n",
    "            pm.Potential(\"obs\", gp.log_likelihood(yomc[~out] - mean))\n",
    "\n",
    "            # track GP prediction\n",
    "            gp_pred = pm.Deterministic(\"gp_pred\", gp.predict(hephem))\n",
    "\n",
    "\n",
    "        # find the MAP solution\n",
    "        with holczer_model:\n",
    "            holczer_map = exo.optimize(start=holczer_model.test_point)\n",
    "            \n",
    "        htts = hephem + holczer_map[\"mean\"] + holczer_map[\"gp_pred\"]\n",
    "\n",
    "        holczer_inds[npl] = np.copy(hinds)\n",
    "        holczer_tts[npl] = np.copy(htts)\n",
    "            \n",
    "            \n",
    "        # plot the results\n",
    "        plt.figure(figsize=(12,4))\n",
    "        plt.plot(xtime[~out], yomc[~out]*24*60, 'o', c=\"grey\", label=\"Holczer\")\n",
    "        plt.plot(xtime[out], yomc[out]*24*60, \"rx\")\n",
    "        plt.plot(hephem, (htts-hephem)*24*60, \"k+\", label=\"Interpolation\")\n",
    "        plt.xlabel(\"Time [BJKD]\", fontsize=20)\n",
    "        plt.ylabel(\"O-C [min]\", fontsize=20)\n",
    "        plt.legend(fontsize=12)\n",
    "        plt.savefig(FIGURE_DIR + TARGET + \"_holczer_ttvs_\" + str(npl) + \".pdf\")\n",
    "        plt.show()\n",
    "            \n",
    "            \n",
    "    except:\n",
    "        pass"
   ]
  },
  {
   "cell_type": "code",
   "execution_count": 15,
   "metadata": {
    "scrolled": false
   },
   "outputs": [],
   "source": [
    "# check if Holczer TTVs exist, and if so, replace the linear ephemeris\n",
    "for npl, p in enumerate(planets):\n",
    "    match = np.isclose(holczer_pers, p.period, rtol=0.1, atol=DURS.max())\n",
    "    \n",
    "    if np.sum(match) == 1:\n",
    "        loc = np.squeeze(np.where(match))\n",
    "    \n",
    "        hinds = holczer_inds[loc]\n",
    "        htts  = holczer_tts[loc]\n",
    "        \n",
    "        tt_delta = htts.min() - p.tts.min()\n",
    "        ind_delta = int(np.floor((tt_delta + 0.5*p.period)/p.period))\n",
    "        \n",
    "        p.tts[hinds + ind_delta] = np.copy(htts)\n",
    "        \n",
    "    if np.sum(match) > 1:\n",
    "        raise ValueError(\"Something has gone wrong matching periods between DR25 and Holczer+ 2016\")    "
   ]
  },
  {
   "cell_type": "code",
   "execution_count": 16,
   "metadata": {},
   "outputs": [
    {
     "data": {
      "image/png": "[encoded data removed]",
      "text/plain": [
       "<Figure size 864x576 with 3 Axes>"
      ]
     },
     "metadata": {
      "needs_background": "light"
     },
     "output_type": "display_data"
    }
   ],
   "source": [
    "# plot the OMC TTVs\n",
    "fig, axes = plt.subplots(NPL, figsize=(12,8))\n",
    "\n",
    "for npl, p in enumerate(planets):\n",
    "    xtime = np.polyval(np.polyfit(p.index, p.tts, 1), p.index)\n",
    "    yomc  = (p.tts - xtime)*24*60\n",
    "    \n",
    "    axes[npl].plot(xtime, yomc, '.', c='C{0}'.format(npl))\n",
    "    axes[npl].set_ylabel('O-C [min]', fontsize=20)\n",
    "axes[NPL-1].set_xlabel('Time [BJKD]', fontsize=20)\n",
    "plt.savefig(FIGURE_DIR + TARGET + '_ttvs_initial.pdf', bbox_inches='tight')\n",
    "plt.show()"
   ]
  },
  {
   "cell_type": "code",
   "execution_count": 17,
   "metadata": {},
   "outputs": [],
   "source": [
    "FULL_FIXED_EPHEMERIS = []\n",
    "FULL_FIXED_INDS = []\n",
    "\n",
    "for npl, p in enumerate(planets):\n",
    "    FULL_FIXED_EPHEMERIS.append(np.polyval(np.polyfit(p.index, p.tts, 1), p.index))\n",
    "    FULL_FIXED_INDS.append(np.copy(p.index - p.index.min()))    "
   ]
  },
  {
   "cell_type": "markdown",
   "metadata": {},
   "source": [
    "# Detrend the lightcurves"
   ]
  },
  {
   "cell_type": "code",
   "execution_count": 18,
   "metadata": {},
   "outputs": [],
   "source": [
    "# reset to raw data\n",
    "\n",
    "if MISSION == 'Kepler':\n",
    "    try:\n",
    "        sc_data = detrend.cleanup_lkfc(sc_rawdata, KIC)\n",
    "\n",
    "        sc_quarters = []\n",
    "        for i, scd in enumerate(sc_data):\n",
    "            sc_quarters.append(scd.quarter)    \n",
    "    \n",
    "    except:\n",
    "        pass\n",
    "    \n",
    "    \n",
    "    try:\n",
    "        lc_data = detrend.cleanup_lkfc(lc_rawdata, KIC)\n",
    "\n",
    "        lc_quarters = []\n",
    "        for i, lcd in enumerate(lc_data):\n",
    "            lc_quarters.append(lcd.quarter)\n",
    "            \n",
    "    except:\n",
    "        pass\n",
    "        \n",
    "\n",
    "        \n",
    "elif MISSION == 'Simulated':\n",
    "    sc_quarters = []\n",
    "    for i, scrd in enumerate(sc_rawdata):\n",
    "        sc_quarters.append(scrd.quarter)\n",
    "        \n",
    "    order = np.argsort(sc_quarters)    \n",
    "    sc_data = lk.LightCurveCollection([sc_rawdata_list[o] for o in order])\n",
    "            \n",
    "\n",
    "    lc_quarters = []\n",
    "    for i, lcrd in enumerate(lc_rawdata):\n",
    "        lc_quarters.append(lcrd.quarter)\n",
    "        \n",
    "    order = np.argsort(lc_quarters)    \n",
    "    lc_data = lk.LightCurveCollection([lc_rawdata_list[o] for o in order])"
   ]
  },
  {
   "cell_type": "code",
   "execution_count": 19,
   "metadata": {},
   "outputs": [
    {
     "data": {
      "image/png": "[encoded data removed]",
      "text/plain": [
       "<Figure size 1440x288 with 1 Axes>"
      ]
     },
     "metadata": {
      "needs_background": "light"
     },
     "output_type": "display_data"
    }
   ],
   "source": [
    "# clean up the LONG CADENCE data\n",
    "for i, lcq in enumerate(lc_data):\n",
    "    lcq = detrend.remove_flagged_cadences(lcq)\n",
    "    lcq = detrend.clip_outliers(lcq, kernel_size=13, sigma_upper=5.0, sigma_lower=5.0)\n",
    "    lc_data[i] = lcq\n",
    "\n",
    "# broadcast quarter and channel integers into arrays (for convenient use after stitching)\n",
    "for i, lcq in enumerate(lc_data):\n",
    "    lcq.quarter = lcq.quarter*np.ones(len(lcq.time))\n",
    "    lcq.channel = lcq.channel*np.ones(len(lcq.time))\n",
    "\n",
    "    \n",
    "if len(lc_data) > 0:\n",
    "    # combine quarters into a single LiteCurve\n",
    "    lc = detrend.stitch_lkc(lc_data)\n",
    "    \n",
    "    # make a mask where planets transit\n",
    "    lc_mask = np.zeros((NPL,len(lc.time)),dtype='bool')\n",
    "    for npl, p in enumerate(planets):\n",
    "        lc_mask[npl] = detrend.make_transitmask(lc.time, p.tts, p.duration, masksize=1.5)\n",
    "\n",
    "    lc.mask = deepcopy(lc_mask)\n",
    "    \n",
    "    # plot the non-detrended data\n",
    "    plt.figure(figsize=(20,4))\n",
    "    plt.plot(lc.time, lc.flux, c=\"k\", lw=0.5)\n",
    "    plt.xlim(lc.time.min(), lc.time.max())\n",
    "    plt.xlabel('Time [BKJD]', fontsize=20)\n",
    "    plt.ylabel('Relative Flux', fontsize=20)\n",
    "    plt.show()\n",
    "    \n",
    "else:\n",
    "    lc = None"
   ]
  },
  {
   "cell_type": "code",
   "execution_count": 20,
   "metadata": {},
   "outputs": [
    {
     "name": "stderr",
     "output_type": "stream",
     "text": [
      "optimizing logp for variables: [logvar, flux0, exp_amp, logtau, mix, log_deltaQ, log_Q0_off, log_per_off, log_amp]\n",
      "277it [00:03, 80.35it/s, logp=5.905996e+04]\n",
      "message: Desired error not necessarily achieved due to precision loss.\n",
      "logp: 58028.15737729669 -> 59059.964748581966\n",
      "optimizing logp for variables: [logvar, flux0, exp_amp, logtau, mix, log_deltaQ, log_Q0_off, log_per_off, log_amp]\n",
      "314it [00:05, 56.36it/s, logp=7.857089e+04]\n",
      "message: Desired error not necessarily achieved due to precision loss.\n",
      "logp: 76906.0750741734 -> 78570.89045687966\n",
      "optimizing logp for variables: [logvar, flux0, exp_amp, logtau, mix, log_deltaQ, log_Q0_off, log_per_off, log_amp]\n",
      "290it [00:04, 68.06it/s, logp=6.625656e+04]\n",
      "message: Desired error not necessarily achieved due to precision loss.\n",
      "logp: 65031.53891574889 -> 66256.56190338187\n",
      "optimizing logp for variables: [logvar, flux0, exp_amp, logtau, mix, log_deltaQ, log_Q0_off, log_per_off, log_amp]\n",
      "290it [00:03, 73.17it/s, logp=5.907575e+04]\n",
      "message: Desired error not necessarily achieved due to precision loss.\n",
      "logp: 57988.0982544589 -> 59075.74609922731\n"
     ]
    },
    {
     "data": {
      "image/png": "[encoded data removed]",
      "text/plain": [
       "<Figure size 1152x288 with 1 Axes>"
      ]
     },
     "metadata": {
      "needs_background": "light"
     },
     "output_type": "display_data"
    }
   ],
   "source": [
    "if lc is not None:    \n",
    "    # detrend\n",
    "    break_tolerance = int(DURS.max()/(LCIT/60/24)*5/2)\n",
    "    min_period = 5*DURS.max()\n",
    "    \n",
    "    lc = detrend.flatten_with_gp(lc, break_tolerance=break_tolerance, min_period=min_period)\n",
    "\n",
    "    # determine seasons\n",
    "    lc.season = lc.quarter % 4\n",
    "\n",
    "    # plot detrended data\n",
    "    plt.figure(figsize=(16,4))\n",
    "    plt.plot(lc.time, lc.flux, c='k', lw=0.5)\n",
    "    plt.xlim(lc.time.min(), lc.time.max())\n",
    "    plt.xlabel('Time [BKJD]', fontsize=20)\n",
    "    plt.ylabel('Relative Flux', fontsize=20)\n",
    "    plt.savefig(FIGURE_DIR + TARGET + '_long_cadence_flux.pdf', bbox_inches='tight')\n",
    "    plt.show()"
   ]
  },
  {
   "cell_type": "code",
   "execution_count": 21,
   "metadata": {},
   "outputs": [
    {
     "data": {
      "image/png": "[encoded data removed]",
      "text/plain": [
       "<Figure size 1440x288 with 1 Axes>"
      ]
     },
     "metadata": {
      "needs_background": "light"
     },
     "output_type": "display_data"
    }
   ],
   "source": [
    "# clean up the SHORT CADENCE data\n",
    "for i, scq in enumerate(sc_data):\n",
    "    scq = detrend.remove_flagged_cadences(scq)\n",
    "    scq = detrend.clip_outliers(scq, kernel_size=13, sigma_upper=5.0, sigma_lower=5.0)\n",
    "    sc_data[i] = scq\n",
    "\n",
    "# broadcast quarter and channel integers into arrays (for convenient use after stitching)\n",
    "for i, scq in enumerate(sc_data):\n",
    "    scq.quarter = scq.quarter*np.ones(len(scq.time))\n",
    "    scq.channel = scq.channel*np.ones(len(scq.time))\n",
    "\n",
    "    \n",
    "if len(sc_data) > 0:\n",
    "    # combine quarters into a single LiteCurve\n",
    "    sc = detrend.stitch_lkc(sc_data)\n",
    "    \n",
    "    # make a mask where planets transit\n",
    "    sc_mask = np.zeros((NPL,len(sc.time)),dtype='bool')\n",
    "    for npl, p in enumerate(planets):\n",
    "        sc_mask[npl] = detrend.make_transitmask(sc.time, p.tts, p.duration, masksize=1.5)\n",
    "\n",
    "    sc.mask = deepcopy(sc_mask)\n",
    "    \n",
    "    # plot the non-detrended data\n",
    "    plt.figure(figsize=(20,4))\n",
    "    plt.plot(sc.time, sc.flux, c=\"k\", lw=0.5)\n",
    "    plt.xlim(sc.time.min(), sc.time.max())\n",
    "    plt.show()\n",
    "    \n",
    "else:\n",
    "    sc = None"
   ]
  },
  {
   "cell_type": "code",
   "execution_count": 22,
   "metadata": {},
   "outputs": [
    {
     "name": "stderr",
     "output_type": "stream",
     "text": [
      "optimizing logp for variables: [logvar, flux0, exp_amp, logtau, mix, log_deltaQ, log_Q0_off, log_per_off, log_amp]\n",
      "317it [00:46,  6.67it/s, logp=9.114474e+05]\n",
      "message: Desired error not necessarily achieved due to precision loss.\n",
      "logp: 909843.5984736894 -> 911447.3847035697\n",
      "optimizing logp for variables: [logvar, flux0, exp_amp, logtau, mix, log_deltaQ, log_Q0_off, log_per_off, log_amp]\n",
      "226it [00:38,  5.77it/s, logp=1.041183e+06]\n",
      "message: Desired error not necessarily achieved due to precision loss.\n",
      "logp: 1039379.1494952182 -> 1041183.4749428041\n",
      "optimizing logp for variables: [logvar, flux0, exp_amp, logtau, mix, log_deltaQ, log_Q0_off, log_per_off, log_amp]\n",
      "295it [00:50,  5.65it/s, logp=1.045166e+06]\n",
      "message: Desired error not necessarily achieved due to precision loss.\n",
      "logp: 1043344.3813093508 -> 1045165.5604836423\n"
     ]
    },
    {
     "data": {
      "image/png": "[encoded data removed]",
      "text/plain": [
       "<Figure size 1152x288 with 1 Axes>"
      ]
     },
     "metadata": {
      "needs_background": "light"
     },
     "output_type": "display_data"
    }
   ],
   "source": [
    "if sc is not None:    \n",
    "    # detrend\n",
    "    break_tolerance = int(DURS.max()/(SCIT/3600/24)*5/2)\n",
    "    min_period = 5*DURS.max()\n",
    "    \n",
    "    sc = detrend.flatten_with_gp(sc, break_tolerance=break_tolerance, min_period=min_period)\n",
    "\n",
    "    # determine seasons\n",
    "    sc.season = sc.quarter % 4\n",
    "\n",
    "    # plot detrended data\n",
    "    plt.figure(figsize=(16,4))\n",
    "    plt.plot(sc.time, sc.flux, c='k', lw=0.5)\n",
    "    plt.xlim(sc.time.min(), sc.time.max())\n",
    "    plt.xlabel('Time [BKJD]', fontsize=20)\n",
    "    plt.ylabel('Relative Flux', fontsize=20)\n",
    "    plt.savefig(FIGURE_DIR + TARGET + '_short_cadence_flux.pdf', bbox_inches='tight')\n",
    "    plt.show()"
   ]
  },
  {
   "cell_type": "markdown",
   "metadata": {},
   "source": [
    "# Make individual mask for where each planet transits\n",
    "### These masks have width 1.5 transit durations, which may be wider than the masks used for detrending"
   ]
  },
  {
   "cell_type": "code",
   "execution_count": 23,
   "metadata": {},
   "outputs": [
    {
     "name": "stdout",
     "output_type": "stream",
     "text": [
      "Making transit masks\n"
     ]
    }
   ],
   "source": [
    "print('Making transit masks')\n",
    "try:\n",
    "    sc_mask = np.zeros((NPL,len(sc.time)),dtype='bool')\n",
    "    for npl, p in enumerate(planets):\n",
    "        sc_mask[npl] = detrend.make_transitmask(sc.time, p.tts, p.duration, masksize=1.5)\n",
    "\n",
    "    sc.mask = sc_mask\n",
    "\n",
    "except:\n",
    "    sc_mask = None\n",
    "\n",
    "    \n",
    "try:\n",
    "    lc_mask = np.zeros((NPL,len(lc.time)),dtype='bool')\n",
    "    for npl, p in enumerate(planets):\n",
    "        lc_mask[npl] = detrend.make_transitmask(lc.time, p.tts, p.duration, masksize=1.5)\n",
    "    \n",
    "    lc.mask = lc_mask\n",
    "\n",
    "except:\n",
    "    lc_mask = None"
   ]
  },
  {
   "cell_type": "markdown",
   "metadata": {},
   "source": [
    "# Flag which transits have photometry coverage (quality = 1)"
   ]
  },
  {
   "cell_type": "code",
   "execution_count": 24,
   "metadata": {},
   "outputs": [],
   "source": [
    "for npl, p in enumerate(planets):\n",
    "\n",
    "    quality = []\n",
    "\n",
    "    # cut out the stamps\n",
    "    for i, t0 in enumerate(p.tts):\n",
    "        try:\n",
    "            neartransit_sc = np.abs(sc.time - t0)/p.duration < 1.5\n",
    "            neartransit_lc = np.abs(lc.time - t0)/p.duration < 1.5\n",
    "        \n",
    "            quality.append((np.sum(neartransit_sc) + np.sum(neartransit_lc)) > 0)\n",
    "                        \n",
    "        except:\n",
    "            neartransit = np.abs(lc.time - t0)/p.duration < 1.5\n",
    "            quality.append(np.sum(neartransit) > 0)\n",
    "        \n",
    "    p.quality = np.copy(quality)"
   ]
  },
  {
   "cell_type": "markdown",
   "metadata": {},
   "source": [
    "# Flag which transits overlap (overlap = 1)"
   ]
  },
  {
   "cell_type": "code",
   "execution_count": 25,
   "metadata": {},
   "outputs": [],
   "source": [
    "# identify overlapping transits\n",
    "dur_max = np.max(DURS)\n",
    "overlap = []\n",
    "\n",
    "for i in range(NPL):\n",
    "    overlap.append(np.zeros(len(planets[i].tts), dtype='bool'))\n",
    "    \n",
    "    for j in range(NPL):\n",
    "        if i != j:\n",
    "            for ttj in planets[j].tts:\n",
    "                overlap[i] += np.abs(planets[i].tts - ttj) < dur_max\n",
    "                \n",
    "    planets[i].overlap = np.copy(overlap[i])"
   ]
  },
  {
   "cell_type": "markdown",
   "metadata": {},
   "source": [
    "# Count up transits and calculate initial fixed transit times"
   ]
  },
  {
   "cell_type": "code",
   "execution_count": 26,
   "metadata": {},
   "outputs": [],
   "source": [
    "num_transits  = np.zeros(NPL)\n",
    "transit_inds  = []\n",
    "fixed_tts = []\n",
    "\n",
    "for npl, p in enumerate(planets):\n",
    "    transit_inds.append((p.index - p.index.min())[p.quality])\n",
    "    fixed_tts.append(np.copy(p.tts)[p.quality])\n",
    "    \n",
    "    num_transits[npl] = len(transit_inds[npl])"
   ]
  },
  {
   "cell_type": "markdown",
   "metadata": {},
   "source": [
    "# Grab the relevant data and starting transit parameters"
   ]
  },
  {
   "cell_type": "code",
   "execution_count": 27,
   "metadata": {},
   "outputs": [],
   "source": [
    "# grab data near transits for each quarter\n",
    "all_time = []\n",
    "all_flux = []\n",
    "all_error = []\n",
    "all_dtype = []\n",
    "\n",
    "lc_flux = []\n",
    "sc_flux = []\n",
    "\n",
    "if sc is not None:\n",
    "    for q in range(18):\n",
    "        if np.isin(q, sc.quarter)*np.isin(q, lc.quarter):\n",
    "            raise ValueError(\"Double counting data in both short and long cadence\")\n",
    "\n",
    "\n",
    "        elif np.isin(q, sc.quarter):\n",
    "            use = (sc.mask.sum(axis=0) > 0)*(sc.quarter == q)\n",
    "\n",
    "            if np.sum(use) > 45:\n",
    "                all_time.append(sc.time[use])\n",
    "                all_flux.append(sc.flux[use])\n",
    "                all_error.append(sc.error[use])\n",
    "                all_dtype.append('short')\n",
    "\n",
    "                sc_flux.append(sc.flux[use])\n",
    "                \n",
    "            else:\n",
    "                all_time.append(None)\n",
    "                all_flux.append(None)\n",
    "                all_error.append(None)\n",
    "                all_dtype.append('none')\n",
    "\n",
    "\n",
    "        elif np.isin(q, lc.quarter):\n",
    "            use = (lc.mask.sum(axis=0) > 0)*(lc.quarter == q)\n",
    "            \n",
    "            if np.sum(use) > 3:\n",
    "                all_time.append(lc.time[use])\n",
    "                all_flux.append(lc.flux[use])\n",
    "                all_error.append(lc.error[use])\n",
    "                all_dtype.append('long')\n",
    "\n",
    "                lc_flux.append(lc.flux[use])\n",
    "                \n",
    "            else:\n",
    "                all_time.append(None)\n",
    "                all_flux.append(None)\n",
    "                all_error.append(None)\n",
    "                all_dtype.append('none')\n",
    "\n",
    "\n",
    "        else:\n",
    "            all_time.append(None)\n",
    "            all_flux.append(None)\n",
    "            all_error.append(None)\n",
    "            all_dtype.append('none')\n",
    "            \n",
    "else:\n",
    "    for q in range(18):\n",
    "        if np.isin(q, lc.quarter):\n",
    "            use = (lc.mask.sum(axis=0) > 0)*(lc.quarter == q)\n",
    "\n",
    "            if np.sum(use) > 3:\n",
    "                all_time.append(lc.time[use])\n",
    "                all_flux.append(lc.flux[use])\n",
    "                all_error.append(lc.error[use])\n",
    "                all_dtype.append('long')\n",
    "\n",
    "                lc_flux.append(lc.flux[use])\n",
    "                \n",
    "            else:\n",
    "                all_time.append(None)\n",
    "                all_flux.append(None)\n",
    "                all_error.append(None)\n",
    "                all_dtype.append('none')\n",
    "\n",
    "\n",
    "        else:\n",
    "            all_time.append(None)\n",
    "            all_flux.append(None)\n",
    "            all_error.append(None)\n",
    "            all_dtype.append('none')\n",
    "\n",
    "\n",
    "\n",
    "# check which quarters have data\n",
    "good = (np.array(all_dtype) == 'short') + (np.array(all_dtype) == 'long')\n",
    "quarters = np.arange(18)[good]\n",
    "nq = len(quarters)\n",
    "\n",
    "\n",
    "# make some linear flux arrays (for convenience use laster)\n",
    "try: sc_flux_lin = np.hstack(sc_flux)\n",
    "except: sc_flux_lin = np.array([])\n",
    "    \n",
    "try: lc_flux_lin = np.hstack(lc_flux)\n",
    "except: lc_flux_lin = np.array([])\n",
    "    \n",
    "try:\n",
    "    good_flux = np.hstack([sc_flux_lin, lc_flux_lin])\n",
    "except:\n",
    "    try:\n",
    "        good_flux = np.hstack(sc_flux)\n",
    "    except:\n",
    "        good_flux = np.hstack(lc_flux)"
   ]
  },
  {
   "cell_type": "code",
   "execution_count": 28,
   "metadata": {},
   "outputs": [],
   "source": [
    "# pull basic transit parameters\n",
    "epochs    = np.zeros(NPL)\n",
    "periods   = np.zeros(NPL)\n",
    "depths    = np.zeros(NPL)\n",
    "durations = np.zeros(NPL)\n",
    "impacts   = np.zeros(NPL)\n",
    "\n",
    "for npl, p in enumerate(planets):\n",
    "    epochs[npl]    = p.epoch\n",
    "    periods[npl]   = p.period\n",
    "    depths[npl]    = p.depth\n",
    "    durations[npl] = p.duration\n",
    "    impacts[npl]   = p.impact\n",
    "\n",
    "radii = np.sqrt(depths)*RSTAR"
   ]
  },
  {
   "cell_type": "code",
   "execution_count": 29,
   "metadata": {},
   "outputs": [
    {
     "name": "stdout",
     "output_type": "stream",
     "text": [
      "\n",
      "cumulative runtime =  314 s\n",
      "\n"
     ]
    }
   ],
   "source": [
    "print('')\n",
    "print('cumulative runtime = ', int(timer() - global_start_time), 's')\n",
    "print('')"
   ]
  },
  {
   "cell_type": "markdown",
   "metadata": {},
   "source": [
    "# (1) Fit transit SHAPE model"
   ]
  },
  {
   "cell_type": "markdown",
   "metadata": {},
   "source": [
    "The TTV model when determining transit shape is built as perturbations from fixed (i.e. invariant) transit times. These transit times (\"FIXED_TTS\") are not varied during model fitting. If TTVs are available from Holczer+ 2016, these are used; if not, the fixed transit times determined from a linear ephemeris using Kepler pipeline epoch and period.\n",
    "\n",
    "Long-term, secular TTVs are parameterized as Legendre polynomials as functions of dimensionless variable (\"x\") in the range (-1,1)\n",
    "\n",
    "Unlike the transit time and index values attached to each Planet object, there may be gaps in the FIXED_TTS vector where there is no available photometric data."
   ]
  },
  {
   "cell_type": "code",
   "execution_count": 30,
   "metadata": {},
   "outputs": [
    {
     "name": "stdout",
     "output_type": "stream",
     "text": [
      "\n",
      "(1) Fitting transit SHAPE model\n"
     ]
    }
   ],
   "source": [
    "print('\\n(1) Fitting transit SHAPE model')"
   ]
  },
  {
   "cell_type": "code",
   "execution_count": 31,
   "metadata": {},
   "outputs": [],
   "source": [
    "# use Legendre polynomials for better orthogonality; \"x\" is in the range (-1,1)\n",
    "Leg0 = []\n",
    "Leg1 = []\n",
    "Leg2 = []\n",
    "Leg3 = []\n",
    "t = []\n",
    "\n",
    "# this assumes a baseline in the range (TIME_START,TIME_END)\n",
    "for npl, p in enumerate(planets):    \n",
    "    t.append(p.epoch + transit_inds[npl]*p.period)\n",
    "    x = 2*(t[npl]-TIME_START)/(TIME_END-TIME_START) - 1\n",
    "\n",
    "    Leg0.append(np.ones_like(x))\n",
    "    Leg1.append(x.copy())\n",
    "    Leg2.append(0.5*(3*x**2 - 1))\n",
    "    Leg3.append(0.5*(5*x**3 - 3*x))"
   ]
  },
  {
   "cell_type": "code",
   "execution_count": 32,
   "metadata": {},
   "outputs": [],
   "source": [
    "with pm.Model() as shape_model:\n",
    "    # stellar parameters (limb darkening using Kipping 2013)\n",
    "    u = exo.distributions.QuadLimbDark('u', testval=np.array([U1,U2]))\n",
    "\n",
    "    Rstar = pm.Bound(pm.Normal, lower=RSTAR-3*RSTAR_ERR, upper=RSTAR+3*RSTAR_ERR)('Rstar', mu=RSTAR, sd=RSTAR_ERR)\n",
    "    Mstar = pm.Bound(pm.Normal, lower=MSTAR-3*MSTAR_ERR, upper=MSTAR+3*MSTAR_ERR)('Mstar', mu=MSTAR, sd=MSTAR_ERR)\n",
    "\n",
    "    \n",
    "    # planetary parameters (impact parameter using Espinoza 2018)\n",
    "    logr = pm.Uniform('logr', lower=np.log(0.0003), upper=np.log(0.3), testval=np.log(radii), shape=NPL)\n",
    "    rp   = pm.Deterministic('rp', T.exp(logr))\n",
    "    \n",
    "    b  = exo.distributions.ImpactParameter('b', ror=rp/Rstar, testval=impacts, shape=NPL)\n",
    "    \n",
    "    \n",
    "    # polynomial TTV parameters    \n",
    "    C0 = pm.Normal('C0', mu=0.0, sd=durations/2, shape=NPL)\n",
    "    C1 = pm.Normal('C1', mu=0.0, sd=durations/2, shape=NPL)\n",
    "    \n",
    "    transit_times = []\n",
    "    for npl in range(NPL):\n",
    "        transit_times.append(pm.Deterministic('tts_{0}'.format(npl), \\\n",
    "                                              fixed_tts[npl] + C0[npl]*Leg0[npl] + C1[npl]*Leg1[npl]))\n",
    "    \n",
    "    \n",
    "    # set up stellar model and planetary orbit\n",
    "    exoSLC = exo.StarryLightCurve(u)\n",
    "    orbit  = exo.orbits.TTVOrbit(transit_times=transit_times, transit_inds=transit_inds, \\\n",
    "                                 b=b, r_star=Rstar, m_star=Mstar)\n",
    "    \n",
    "    # track period and epoch\n",
    "    T0 = pm.Deterministic('T0', orbit.t0)\n",
    "    P  = pm.Deterministic('P', orbit.period)\n",
    "    \n",
    "    \n",
    "    # nuissance parameters\n",
    "    flux0 = pm.Normal('flux0', mu=1.0, sd=np.std(good_flux))\n",
    "\n",
    "    if len(sc_flux_lin) > 1:\n",
    "        logvar = pm.Normal('logvar', mu=np.log(np.var(sc_flux_lin)), sd=np.log(4))\n",
    "    else:\n",
    "        logvar = pm.Normal('logvar', mu=np.log(np.var(lc_flux_lin)*30), sd=np.log(4))\n",
    "    \n",
    "    \n",
    "    # now evaluate the model for each quarter\n",
    "    light_curves       = [None]*nq\n",
    "    summed_light_curve = [None]*nq\n",
    "    model_flux         = [None]*nq\n",
    "    \n",
    "    obs = [None]*nq\n",
    "    \n",
    "    \n",
    "    for j, q in enumerate(quarters):\n",
    "        # set oversampling factor\n",
    "        if all_dtype[q] == 'short':\n",
    "            oversample = 1\n",
    "        elif all_dtype[q] == 'long':\n",
    "            oversample = 15\n",
    "            \n",
    "        # calculate light curves\n",
    "        light_curves[j] = exoSLC.get_light_curve(orbit=orbit, r=rp, t=all_time[q], oversample=oversample)\n",
    "        summed_light_curve[j] = pm.math.sum(light_curves[j], axis=-1) + flux0*T.ones(len(all_time[q]))\n",
    "        model_flux[j] = pm.Deterministic('model_flux_{0}'.format(j), summed_light_curve[j])\n",
    "        \n",
    "\n",
    "        if all_dtype[q] == 'short':\n",
    "            obs[j] = pm.Normal(\"obs_{0}\".format(j), \n",
    "                               mu=model_flux[j], \n",
    "                               sd=T.sqrt(T.exp(logvar)),\n",
    "                               observed=all_flux[q])\n",
    "        \n",
    "        elif all_dtype[q] == 'long':\n",
    "            obs[j] = pm.Normal(\"obs_{0}\".format(j), \n",
    "                               mu=model_flux[j], \n",
    "                               sd=T.sqrt(T.exp(logvar)/30),\n",
    "                               observed=all_flux[q])\n",
    "            \n",
    "        else:\n",
    "            raise ValueError(\"Cadence data type must be 'short' or 'long'\")\n"
   ]
  },
  {
   "cell_type": "code",
   "execution_count": 33,
   "metadata": {},
   "outputs": [
    {
     "name": "stderr",
     "output_type": "stream",
     "text": [
      "optimizing logp for variables: [logvar, flux0]\n",
      "73it [00:07,  9.25it/s, logp=6.146648e+05]\n",
      "message: Desired error not necessarily achieved due to precision loss.\n",
      "logp: 614563.0630025659 -> 614664.7920747915\n",
      "optimizing logp for variables: [b, logr, Rstar]\n",
      "102it [00:06, 17.19it/s, logp=6.148677e+05]\n",
      "message: Desired error not necessarily achieved due to precision loss.\n",
      "logp: 614664.7920747915 -> 614867.6683798326\n",
      "optimizing logp for variables: [Mstar, u]\n",
      "22it [00:01, 16.12it/s, logp=6.148734e+05]\n",
      "message: Optimization terminated successfully.\n",
      "logp: 614867.6683798326 -> 614873.3635164484\n",
      "optimizing logp for variables: [C1, C0]\n",
      "160it [00:11, 13.91it/s, logp=6.148763e+05]\n",
      "message: Desired error not necessarily achieved due to precision loss.\n",
      "logp: 614873.3635164484 -> 614876.2536354013\n",
      "optimizing logp for variables: [logvar, flux0, C1, C0, b, logr, Mstar, Rstar, u]\n",
      "120it [00:09, 12.99it/s, logp=6.149449e+05]\n",
      "message: Desired error not necessarily achieved due to precision loss.\n",
      "logp: 614876.2536354013 -> 614944.9049476804\n"
     ]
    }
   ],
   "source": [
    "with shape_model:\n",
    "    shape_map = exo.optimize(start=shape_model.test_point, vars=[flux0, logvar])\n",
    "    shape_map = exo.optimize(start=shape_map, vars=[b])\n",
    "    shape_map = exo.optimize(start=shape_map, vars=[u, Mstar])\n",
    "    shape_map = exo.optimize(start=shape_map, vars=[C0, C1])\n",
    "    shape_map = exo.optimize(start=shape_map)"
   ]
  },
  {
   "cell_type": "code",
   "execution_count": 34,
   "metadata": {
    "scrolled": false
   },
   "outputs": [
    {
     "data": {
      "image/png": "[encoded data removed]",
      "text/plain": [
       "<Figure size 864x576 with 3 Axes>"
      ]
     },
     "metadata": {
      "needs_background": "light"
     },
     "output_type": "display_data"
    }
   ],
   "source": [
    "# grab transit times and ephemeris\n",
    "shape_transit_times = []\n",
    "shape_ephemeris = []\n",
    "\n",
    "for npl, p in enumerate(planets):\n",
    "    shape_transit_times.append(shape_map['tts_{0}'.format(npl)])\n",
    "    shape_ephemeris.append(shape_map['P'][npl]*transit_inds[npl] + shape_map['T0'][npl])\n",
    "\n",
    "    \n",
    "# plot the OMC TTVs\n",
    "fig, axes = plt.subplots(NPL, figsize=(12,8))\n",
    "\n",
    "for npl, p in enumerate(planets):\n",
    "    xtime = shape_transit_times[npl]\n",
    "    yomc  = (shape_transit_times[npl] - shape_ephemeris[npl])*24*60\n",
    "    \n",
    "    axes[npl].plot(xtime, yomc, '.', c='C{0}'.format(npl))\n",
    "    axes[npl].set_ylabel('O-C [min]', fontsize=20)\n",
    "axes[NPL-1].set_xlabel('Time [BJKD]', fontsize=20)\n",
    "plt.show()"
   ]
  },
  {
   "cell_type": "code",
   "execution_count": 35,
   "metadata": {},
   "outputs": [
    {
     "name": "stdout",
     "output_type": "stream",
     "text": [
      "\n",
      "cumulative runtime =  474 s\n",
      "\n"
     ]
    }
   ],
   "source": [
    "print('')\n",
    "print('cumulative runtime = ', int(timer() - global_start_time), 's')\n",
    "print('')"
   ]
  },
  {
   "cell_type": "markdown",
   "metadata": {},
   "source": [
    "# (2) Fit independent TTVs"
   ]
  },
  {
   "cell_type": "code",
   "execution_count": null,
   "metadata": {},
   "outputs": [],
   "source": [
    "print('\\n(2) Fitting INDEPENDENT TTV model')"
   ]
  },
  {
   "cell_type": "code",
   "execution_count": null,
   "metadata": {},
   "outputs": [],
   "source": [
    "rp = shape_map['rp']\n",
    "b  = shape_map['b']\n",
    "\n",
    "Rstar = shape_map['Rstar']\n",
    "Mstar = shape_map['Mstar']\n",
    "u = shape_map['u']"
   ]
  },
  {
   "cell_type": "code",
   "execution_count": null,
   "metadata": {},
   "outputs": [],
   "source": [
    "with pm.Model() as indep_model:\n",
    "    # transit times\n",
    "    tt_offset = []\n",
    "    transit_times = []\n",
    "    \n",
    "    for npl in range(NPL):\n",
    "        tt_offset.append(pm.Normal('tt_offset_{0}'.format(npl), mu=0, sd=1, shape=len(shape_transit_times[npl])))\n",
    "        \n",
    "        transit_times.append(pm.Deterministic('tts_{0}'.format(npl), \\\n",
    "                                              shape_transit_times[npl] + tt_offset[npl]*durations[npl]/3))\n",
    "    \n",
    "    # set up stellar model and planetary orbit\n",
    "    exoSLC = exo.StarryLightCurve(u)\n",
    "    orbit  = exo.orbits.TTVOrbit(transit_times=transit_times, transit_inds=transit_inds, \\\n",
    "                                 b=b, r_star=Rstar, m_star=Mstar)\n",
    "    \n",
    "    # track period and epoch\n",
    "    T0 = pm.Deterministic('T0', orbit.t0)\n",
    "    P  = pm.Deterministic('P', orbit.period)\n",
    "    \n",
    "        \n",
    "    # nuissance parameters\n",
    "    flux0 = pm.Normal('flux0', mu=1.0, sd=np.std(good_flux))\n",
    "\n",
    "    if len(sc_flux_lin) > 1:\n",
    "        logvar = pm.Normal('logvar', mu=np.log(np.var(sc_flux_lin)), sd=np.log(4))\n",
    "    else:\n",
    "        logvar = pm.Normal('logvar', mu=np.log(np.var(lc_flux_lin)*30), sd=np.log(4))\n",
    "    \n",
    "    \n",
    "    # now evaluate the model for each quarter\n",
    "    light_curves       = [None]*nq\n",
    "    summed_light_curve = [None]*nq\n",
    "    model_flux         = [None]*nq\n",
    "    \n",
    "    obs = [None]*nq\n",
    "    \n",
    "    for j, q in enumerate(quarters):\n",
    "        # set oversampling factor\n",
    "        if all_dtype[q] == 'short':\n",
    "            oversample = 1\n",
    "        elif all_dtype[q] == 'long':\n",
    "            oversample = 15\n",
    "            \n",
    "        # calculate light curves\n",
    "        light_curves[j] = exoSLC.get_light_curve(orbit=orbit, r=rp, t=all_time[q], oversample=oversample)\n",
    "        summed_light_curve[j] = pm.math.sum(light_curves[j], axis=-1) + flux0*T.ones(len(all_time[q]))\n",
    "        model_flux[j] = pm.Deterministic('model_flux_{0}'.format(j), summed_light_curve[j])\n",
    "        \n",
    "        \n",
    "        if all_dtype[q] == 'short':\n",
    "            obs[j] = pm.Normal(\"obs_{0}\".format(j), \n",
    "                               mu=model_flux[j], \n",
    "                               sd=T.sqrt(T.exp(logvar)),\n",
    "                               observed=all_flux[q])\n",
    "        \n",
    "        elif all_dtype[q] == 'long':\n",
    "            obs[j] = pm.Normal(\"obs_{0}\".format(j), \n",
    "                               mu=model_flux[j], \n",
    "                               sd=T.sqrt(T.exp(logvar)/30),\n",
    "                               observed=all_flux[q])\n",
    "            \n",
    "        else:\n",
    "            raise ValueError(\"Cadence data type must be 'short' or 'long'\")\n"
   ]
  },
  {
   "cell_type": "code",
   "execution_count": null,
   "metadata": {
    "scrolled": true
   },
   "outputs": [],
   "source": [
    "with indep_model:\n",
    "    indep_map = exo.optimize(start=indep_model.test_point, vars=[flux0, logvar])\n",
    "    \n",
    "    for npl in range(NPL):\n",
    "        indep_map = exo.optimize(start=indep_map, vars=[tt_offset[npl]])\n",
    "        \n",
    "    indep_map = exo.optimize(start=indep_map)"
   ]
  },
  {
   "cell_type": "code",
   "execution_count": null,
   "metadata": {},
   "outputs": [],
   "source": [
    "indep_transit_times = []\n",
    "indep_ephemeris = []\n",
    "full_indep_ephemeris = []\n",
    "\n",
    "for npl, p in enumerate(planets):\n",
    "    indep_transit_times.append(indep_map['tts_{0}'.format(npl)])\n",
    "    indep_ephemeris.append(indep_map['P'][npl]*transit_inds[npl] + indep_map['T0'][npl])\n",
    "    full_indep_ephemeris.append(indep_map['P'][npl]*p.index + indep_map['T0'][npl])\n",
    "    \n",
    "    \n",
    "fig, axes = plt.subplots(NPL, figsize=(12,8))\n",
    "\n",
    "for npl, p in enumerate(planets):\n",
    "    xtime = indep_transit_times[npl]\n",
    "    yomc  = (indep_transit_times[npl] - indep_ephemeris[npl])*24*60\n",
    "    \n",
    "    axes[npl].plot(xtime, yomc, '.', c='C{0}'.format(npl))\n",
    "    axes[npl].set_ylabel('O-C [min]', fontsize=20)\n",
    "axes[NPL-1].set_xlabel('Time [BJKD]', fontsize=20)\n",
    "plt.savefig(FIGURE_DIR + TARGET + '_ttvs_quick.pdf', bbox_inches='tight')\n",
    "plt.show()"
   ]
  },
  {
   "cell_type": "code",
   "execution_count": null,
   "metadata": {},
   "outputs": [],
   "source": [
    "# get estimate of ttv amplitude and a reasonable buffer\n",
    "ttv_amps   = np.zeros(NPL)\n",
    "ttv_buffer = np.zeros(NPL)\n",
    "\n",
    "for npl in range(NPL):\n",
    "    # estimate TTV amplitude\n",
    "    ttv_amps[npl] = astropy.stats.mad_std(indep_transit_times[npl] - indep_ephemeris[npl])\n",
    "\n",
    "    # based on scatter in independent times, set threshold so not even one outlier is expected\n",
    "    N   = len(transit_inds[npl])\n",
    "    eta = np.max([3., stats.norm.interval((N-1)/N)[1]])\n",
    "\n",
    "    ttv_buffer[npl] = eta*ttv_amps[npl]"
   ]
  },
  {
   "cell_type": "code",
   "execution_count": null,
   "metadata": {},
   "outputs": [],
   "source": [
    "# Save fixed ephemeris and independent TTV measurements to a text file\n",
    "for npl in range(NPL):\n",
    "    data_out = np.vstack([transit_inds[npl], indep_ephemeris[npl]]).swapaxes(0,1)\n",
    "    fname_out = QUICK_TTV_DIR + TARGET + \"_{:02d}\".format(npl) + \"_fixed_ephemeris.txt\"\n",
    "    \n",
    "    np.savetxt(fname_out, data_out, fmt=('%1d', '%.8f'), delimiter='\\t')\n",
    "    \n",
    "    \n",
    "    data_out  = np.vstack([transit_inds[npl], indep_transit_times[npl]]).swapaxes(0,1)\n",
    "    fname_out = QUICK_TTV_DIR + TARGET + '_{:02d}'.format(npl) + '_map_indep_ttvs.txt'\n",
    "    \n",
    "    np.savetxt(fname_out, data_out, fmt=('%1d', '%.8f'), delimiter='\\t')"
   ]
  },
  {
   "cell_type": "code",
   "execution_count": null,
   "metadata": {},
   "outputs": [],
   "source": [
    "print('')\n",
    "print('cumulative runtime = ', int(timer() - global_start_time), 's')\n",
    "print('')"
   ]
  },
  {
   "cell_type": "code",
   "execution_count": null,
   "metadata": {},
   "outputs": [],
   "source": []
  },
  {
   "cell_type": "code",
   "execution_count": null,
   "metadata": {},
   "outputs": [],
   "source": []
  },
  {
   "cell_type": "code",
   "execution_count": null,
   "metadata": {},
   "outputs": [],
   "source": []
  },
  {
   "cell_type": "code",
   "execution_count": null,
   "metadata": {},
   "outputs": [],
   "source": []
  },
  {
   "cell_type": "markdown",
   "metadata": {},
   "source": [
    "# Fit transits one-by-one"
   ]
  },
  {
   "cell_type": "code",
   "execution_count": 36,
   "metadata": {
    "scrolled": true
   },
   "outputs": [
    {
     "name": "stdout",
     "output_type": "stream",
     "text": [
      "(3) Fitting transits ONE-BY-ONE\n"
     ]
    }
   ],
   "source": [
    "print(\"(3) Fitting transits ONE-BY-ONE\")"
   ]
  },
  {
   "cell_type": "code",
   "execution_count": 37,
   "metadata": {},
   "outputs": [],
   "source": [
    "rp = shape_map['rp']\n",
    "b  = shape_map['b']\n",
    "\n",
    "Rstar = shape_map['Rstar']\n",
    "Mstar = shape_map['Mstar']\n",
    "u = shape_map['u']"
   ]
  },
  {
   "cell_type": "code",
   "execution_count": 38,
   "metadata": {
    "scrolled": false
   },
   "outputs": [
    {
     "name": "stdout",
     "output_type": "stream",
     "text": [
      "\n",
      "PLANET 0\n",
      "0 135.99\n"
     ]
    },
    {
     "name": "stderr",
     "output_type": "stream",
     "text": [
      "Multiprocess sampling (2 chains in 4 jobs)\n",
      "NUTS: [logvar, flux0, T0]\n",
      "Sampling 2 chains: 100%|██████████| 3000/3000 [00:06<00:00, 463.70draws/s] \n"
     ]
    },
    {
     "name": "stdout",
     "output_type": "stream",
     "text": [
      "1 143.13\n"
     ]
    },
    {
     "name": "stderr",
     "output_type": "stream",
     "text": [
      "Multiprocess sampling (2 chains in 4 jobs)\n",
      "NUTS: [logvar, flux0, T0]\n",
      "Sampling 2 chains: 100%|██████████| 3000/3000 [00:07<00:00, 400.60draws/s]\n",
      "The estimated number of effective samples is smaller than 200 for some parameters.\n"
     ]
    },
    {
     "name": "stdout",
     "output_type": "stream",
     "text": [
      "2 150.26\n"
     ]
    },
    {
     "name": "stderr",
     "output_type": "stream",
     "text": [
      "Multiprocess sampling (2 chains in 4 jobs)\n",
      "NUTS: [logvar, flux0, T0]\n",
      "Sampling 2 chains: 100%|██████████| 3000/3000 [00:07<00:00, 410.48draws/s]\n"
     ]
    },
    {
     "name": "stdout",
     "output_type": "stream",
     "text": [
      "3 157.39\n"
     ]
    },
    {
     "name": "stderr",
     "output_type": "stream",
     "text": [
      "Multiprocess sampling (2 chains in 4 jobs)\n",
      "NUTS: [logvar, flux0, T0]\n",
      "Sampling 2 chains: 100%|██████████| 3000/3000 [00:08<00:00, 372.75draws/s]\n",
      "The number of effective samples is smaller than 25% for some parameters.\n"
     ]
    },
    {
     "name": "stdout",
     "output_type": "stream",
     "text": [
      "4 164.52\n"
     ]
    },
    {
     "name": "stderr",
     "output_type": "stream",
     "text": [
      "Multiprocess sampling (2 chains in 4 jobs)\n",
      "NUTS: [logvar, flux0, T0]\n",
      "Sampling 2 chains: 100%|██████████| 3000/3000 [00:07<00:00, 401.08draws/s]\n"
     ]
    },
    {
     "name": "stdout",
     "output_type": "stream",
     "text": [
      "5 171.66\n"
     ]
    },
    {
     "name": "stderr",
     "output_type": "stream",
     "text": [
      "Multiprocess sampling (2 chains in 4 jobs)\n",
      "NUTS: [logvar, flux0, T0]\n",
      "Sampling 2 chains: 100%|██████████| 3000/3000 [00:06<00:00, 494.75draws/s] \n"
     ]
    },
    {
     "name": "stdout",
     "output_type": "stream",
     "text": [
      "6 178.79\n"
     ]
    },
    {
     "name": "stderr",
     "output_type": "stream",
     "text": [
      "Multiprocess sampling (2 chains in 4 jobs)\n",
      "NUTS: [logvar, flux0, T0]\n",
      "Sampling 2 chains: 100%|██████████| 3000/3000 [00:06<00:00, 493.52draws/s] \n"
     ]
    },
    {
     "name": "stdout",
     "output_type": "stream",
     "text": [
      "7 185.92\n"
     ]
    },
    {
     "name": "stderr",
     "output_type": "stream",
     "text": [
      "Multiprocess sampling (2 chains in 4 jobs)\n",
      "NUTS: [logvar, flux0, T0]\n",
      "Sampling 2 chains: 100%|██████████| 3000/3000 [00:06<00:00, 464.15draws/s] \n",
      "The number of effective samples is smaller than 25% for some parameters.\n"
     ]
    },
    {
     "name": "stdout",
     "output_type": "stream",
     "text": [
      "8 193.06\n"
     ]
    },
    {
     "name": "stderr",
     "output_type": "stream",
     "text": [
      "Multiprocess sampling (2 chains in 4 jobs)\n",
      "NUTS: [logvar, flux0, T0]\n",
      "Sampling 2 chains: 100%|██████████| 3000/3000 [00:06<00:00, 466.21draws/s] \n"
     ]
    },
    {
     "name": "stdout",
     "output_type": "stream",
     "text": [
      "9 200.19\n"
     ]
    },
    {
     "name": "stderr",
     "output_type": "stream",
     "text": [
      "Multiprocess sampling (2 chains in 4 jobs)\n",
      "NUTS: [logvar, flux0, T0]\n",
      "Sampling 2 chains: 100%|██████████| 3000/3000 [00:10<00:00, 274.65draws/s]\n",
      "The estimated number of effective samples is smaller than 200 for some parameters.\n"
     ]
    },
    {
     "name": "stdout",
     "output_type": "stream",
     "text": [
      "10 207.32\n"
     ]
    },
    {
     "name": "stderr",
     "output_type": "stream",
     "text": [
      "Multiprocess sampling (2 chains in 4 jobs)\n",
      "NUTS: [logvar, flux0, T0]\n",
      "Sampling 2 chains: 100%|██████████| 3000/3000 [00:08<00:00, 347.22draws/s]\n",
      "The estimated number of effective samples is smaller than 200 for some parameters.\n"
     ]
    },
    {
     "name": "stdout",
     "output_type": "stream",
     "text": [
      "11 214.46\n"
     ]
    },
    {
     "name": "stderr",
     "output_type": "stream",
     "text": [
      "Multiprocess sampling (2 chains in 4 jobs)\n",
      "NUTS: [logvar, flux0, T0]\n",
      "Sampling 2 chains: 100%|██████████| 3000/3000 [00:06<00:00, 438.20draws/s]\n"
     ]
    },
    {
     "name": "stdout",
     "output_type": "stream",
     "text": [
      "12 221.59\n"
     ]
    },
    {
     "name": "stderr",
     "output_type": "stream",
     "text": [
      "Multiprocess sampling (2 chains in 4 jobs)\n",
      "NUTS: [logvar, flux0, T0]\n",
      "Sampling 2 chains: 100%|██████████| 3000/3000 [00:07<00:00, 428.25draws/s]\n"
     ]
    },
    {
     "name": "stdout",
     "output_type": "stream",
     "text": [
      "13 228.72\n"
     ]
    },
    {
     "name": "stderr",
     "output_type": "stream",
     "text": [
      "Multiprocess sampling (2 chains in 4 jobs)\n",
      "NUTS: [logvar, flux0, T0]\n",
      "Sampling 2 chains: 100%|██████████| 3000/3000 [00:09<00:00, 304.01draws/s]\n",
      "The estimated number of effective samples is smaller than 200 for some parameters.\n"
     ]
    },
    {
     "name": "stdout",
     "output_type": "stream",
     "text": [
      "14 235.85\n"
     ]
    },
    {
     "name": "stderr",
     "output_type": "stream",
     "text": [
      "Multiprocess sampling (2 chains in 4 jobs)\n",
      "NUTS: [logvar, flux0, T0]\n",
      "Sampling 2 chains: 100%|██████████| 3000/3000 [00:07<00:00, 393.23draws/s]\n",
      "The estimated number of effective samples is smaller than 200 for some parameters.\n"
     ]
    },
    {
     "name": "stdout",
     "output_type": "stream",
     "text": [
      "15 242.99\n"
     ]
    },
    {
     "name": "stderr",
     "output_type": "stream",
     "text": [
      "Multiprocess sampling (2 chains in 4 jobs)\n",
      "NUTS: [logvar, flux0, T0]\n",
      "Sampling 2 chains: 100%|██████████| 3000/3000 [00:06<00:00, 488.46draws/s] \n"
     ]
    },
    {
     "name": "stdout",
     "output_type": "stream",
     "text": [
      "16 250.12\n"
     ]
    },
    {
     "name": "stderr",
     "output_type": "stream",
     "text": [
      "Multiprocess sampling (2 chains in 4 jobs)\n",
      "NUTS: [logvar, flux0, T0]\n",
      "Sampling 2 chains: 100%|██████████| 3000/3000 [00:06<00:00, 463.60draws/s] \n"
     ]
    },
    {
     "name": "stdout",
     "output_type": "stream",
     "text": [
      "17 257.25\n"
     ]
    },
    {
     "name": "stderr",
     "output_type": "stream",
     "text": [
      "Multiprocess sampling (2 chains in 4 jobs)\n",
      "NUTS: [logvar, flux0, T0]\n",
      "Sampling 2 chains: 100%|██████████| 3000/3000 [00:06<00:00, 447.70draws/s] \n",
      "The number of effective samples is smaller than 25% for some parameters.\n"
     ]
    },
    {
     "name": "stdout",
     "output_type": "stream",
     "text": [
      "18 271.52\n"
     ]
    },
    {
     "name": "stderr",
     "output_type": "stream",
     "text": [
      "Multiprocess sampling (2 chains in 4 jobs)\n",
      "NUTS: [logvar, flux0, T0]\n",
      "Sampling 2 chains: 100%|██████████| 3000/3000 [00:06<00:00, 496.75draws/s] \n"
     ]
    },
    {
     "name": "stdout",
     "output_type": "stream",
     "text": [
      "19 278.65\n"
     ]
    },
    {
     "name": "stderr",
     "output_type": "stream",
     "text": [
      "Multiprocess sampling (2 chains in 4 jobs)\n",
      "NUTS: [logvar, flux0, T0]\n",
      "Sampling 2 chains: 100%|██████████| 3000/3000 [00:07<00:00, 391.92draws/s]\n"
     ]
    },
    {
     "name": "stdout",
     "output_type": "stream",
     "text": [
      "20 285.78\n"
     ]
    },
    {
     "name": "stderr",
     "output_type": "stream",
     "text": [
      "Multiprocess sampling (2 chains in 4 jobs)\n",
      "NUTS: [logvar, flux0, T0]\n",
      "Sampling 2 chains: 100%|██████████| 3000/3000 [00:06<00:00, 486.74draws/s] \n"
     ]
    },
    {
     "name": "stdout",
     "output_type": "stream",
     "text": [
      "21 292.92\n"
     ]
    },
    {
     "name": "stderr",
     "output_type": "stream",
     "text": [
      "Multiprocess sampling (2 chains in 4 jobs)\n",
      "NUTS: [logvar, flux0, T0]\n",
      "Sampling 2 chains: 100%|██████████| 3000/3000 [00:05<00:00, 535.31draws/s] \n"
     ]
    },
    {
     "name": "stdout",
     "output_type": "stream",
     "text": [
      "22 307.18\n"
     ]
    },
    {
     "name": "stderr",
     "output_type": "stream",
     "text": [
      "Multiprocess sampling (2 chains in 4 jobs)\n",
      "NUTS: [logvar, flux0, T0]\n",
      "Sampling 2 chains: 100%|██████████| 3000/3000 [00:05<00:00, 505.68draws/s] \n"
     ]
    },
    {
     "name": "stdout",
     "output_type": "stream",
     "text": [
      "23 314.32\n"
     ]
    },
    {
     "name": "stderr",
     "output_type": "stream",
     "text": [
      "Multiprocess sampling (2 chains in 4 jobs)\n",
      "NUTS: [logvar, flux0, T0]\n",
      "Sampling 2 chains: 100%|██████████| 3000/3000 [00:07<00:00, 427.73draws/s]\n",
      "The estimated number of effective samples is smaller than 200 for some parameters.\n"
     ]
    },
    {
     "name": "stdout",
     "output_type": "stream",
     "text": [
      "24 321.45\n"
     ]
    },
    {
     "name": "stderr",
     "output_type": "stream",
     "text": [
      "Multiprocess sampling (2 chains in 4 jobs)\n",
      "NUTS: [logvar, flux0, T0]\n",
      "Sampling 2 chains: 100%|██████████| 3000/3000 [00:06<00:00, 441.63draws/s] \n",
      "The number of effective samples is smaller than 25% for some parameters.\n"
     ]
    },
    {
     "name": "stdout",
     "output_type": "stream",
     "text": [
      "25 328.58\n"
     ]
    },
    {
     "name": "stderr",
     "output_type": "stream",
     "text": [
      "Multiprocess sampling (2 chains in 4 jobs)\n",
      "NUTS: [logvar, flux0, T0]\n",
      "Sampling 2 chains: 100%|██████████| 3000/3000 [00:06<00:00, 485.75draws/s] \n"
     ]
    },
    {
     "name": "stdout",
     "output_type": "stream",
     "text": [
      "26 342.85\n"
     ]
    },
    {
     "name": "stderr",
     "output_type": "stream",
     "text": [
      "Multiprocess sampling (2 chains in 4 jobs)\n",
      "NUTS: [logvar, flux0, T0]\n",
      "Sampling 2 chains: 100%|██████████| 3000/3000 [00:06<00:00, 440.87draws/s] \n"
     ]
    },
    {
     "name": "stdout",
     "output_type": "stream",
     "text": [
      "27 357.11\n"
     ]
    },
    {
     "name": "stderr",
     "output_type": "stream",
     "text": [
      "Multiprocess sampling (2 chains in 4 jobs)\n",
      "NUTS: [logvar, flux0, T0]\n",
      "Sampling 2 chains: 100%|██████████| 3000/3000 [00:06<00:00, 469.71draws/s] \n"
     ]
    },
    {
     "name": "stdout",
     "output_type": "stream",
     "text": [
      "28 364.25\n"
     ]
    },
    {
     "name": "stderr",
     "output_type": "stream",
     "text": [
      "Multiprocess sampling (2 chains in 4 jobs)\n",
      "NUTS: [logvar, flux0, T0]\n",
      "Sampling 2 chains: 100%|██████████| 3000/3000 [00:05<00:00, 507.66draws/s] \n"
     ]
    },
    {
     "name": "stdout",
     "output_type": "stream",
     "text": [
      "29 378.51\n"
     ]
    },
    {
     "name": "stderr",
     "output_type": "stream",
     "text": [
      "Multiprocess sampling (2 chains in 4 jobs)\n",
      "NUTS: [logvar, flux0, T0]\n",
      "Sampling 2 chains: 100%|██████████| 3000/3000 [00:05<00:00, 505.38draws/s] \n"
     ]
    },
    {
     "name": "stdout",
     "output_type": "stream",
     "text": [
      "30 385.65\n"
     ]
    },
    {
     "name": "stderr",
     "output_type": "stream",
     "text": [
      "Multiprocess sampling (2 chains in 4 jobs)\n",
      "NUTS: [logvar, flux0, T0]\n",
      "Sampling 2 chains: 100%|██████████| 3000/3000 [00:06<00:00, 440.24draws/s]\n"
     ]
    },
    {
     "name": "stdout",
     "output_type": "stream",
     "text": [
      "31 392.78\n"
     ]
    },
    {
     "name": "stderr",
     "output_type": "stream",
     "text": [
      "Multiprocess sampling (2 chains in 4 jobs)\n",
      "NUTS: [logvar, flux0, T0]\n",
      "Sampling 2 chains: 100%|██████████| 3000/3000 [00:06<00:00, 461.05draws/s] \n"
     ]
    },
    {
     "name": "stdout",
     "output_type": "stream",
     "text": [
      "32 414.18\n"
     ]
    },
    {
     "name": "stderr",
     "output_type": "stream",
     "text": [
      "Multiprocess sampling (2 chains in 4 jobs)\n",
      "NUTS: [logvar, flux0, T0]\n",
      "Sampling 2 chains: 100%|██████████| 3000/3000 [00:06<00:00, 460.67draws/s] \n"
     ]
    },
    {
     "name": "stdout",
     "output_type": "stream",
     "text": [
      "33 421.31\n"
     ]
    },
    {
     "name": "stderr",
     "output_type": "stream",
     "text": [
      "Multiprocess sampling (2 chains in 4 jobs)\n",
      "NUTS: [logvar, flux0, T0]\n",
      "Sampling 2 chains: 100%|██████████| 3000/3000 [00:06<00:00, 451.48draws/s] \n"
     ]
    },
    {
     "name": "stdout",
     "output_type": "stream",
     "text": [
      "34 428.44\n"
     ]
    },
    {
     "name": "stderr",
     "output_type": "stream",
     "text": [
      "Multiprocess sampling (2 chains in 4 jobs)\n",
      "NUTS: [logvar, flux0, T0]\n",
      "Sampling 2 chains: 100%|██████████| 3000/3000 [00:06<00:00, 433.69draws/s] \n"
     ]
    },
    {
     "name": "stdout",
     "output_type": "stream",
     "text": [
      "35 435.58\n"
     ]
    },
    {
     "name": "stderr",
     "output_type": "stream",
     "text": [
      "Multiprocess sampling (2 chains in 4 jobs)\n",
      "NUTS: [logvar, flux0, T0]\n",
      "Sampling 2 chains: 100%|██████████| 3000/3000 [00:06<00:00, 497.29draws/s] \n"
     ]
    },
    {
     "name": "stdout",
     "output_type": "stream",
     "text": [
      "36 449.84\n"
     ]
    },
    {
     "name": "stderr",
     "output_type": "stream",
     "text": [
      "Multiprocess sampling (2 chains in 4 jobs)\n",
      "NUTS: [logvar, flux0, T0]\n",
      "Sampling 2 chains: 100%|██████████| 3000/3000 [00:07<00:00, 382.30draws/s]\n",
      "The number of effective samples is smaller than 25% for some parameters.\n"
     ]
    },
    {
     "name": "stdout",
     "output_type": "stream",
     "text": [
      "37 456.98\n"
     ]
    },
    {
     "name": "stderr",
     "output_type": "stream",
     "text": [
      "Multiprocess sampling (2 chains in 4 jobs)\n",
      "NUTS: [logvar, flux0, T0]\n",
      "Sampling 2 chains: 100%|██████████| 3000/3000 [00:05<00:00, 529.72draws/s] \n"
     ]
    },
    {
     "name": "stdout",
     "output_type": "stream",
     "text": [
      "38 464.11\n"
     ]
    },
    {
     "name": "stderr",
     "output_type": "stream",
     "text": [
      "Multiprocess sampling (2 chains in 4 jobs)\n",
      "NUTS: [logvar, flux0, T0]\n",
      "Sampling 2 chains: 100%|██████████| 3000/3000 [00:05<00:00, 500.84draws/s] \n"
     ]
    },
    {
     "name": "stdout",
     "output_type": "stream",
     "text": [
      "39 471.24\n"
     ]
    },
    {
     "name": "stderr",
     "output_type": "stream",
     "text": [
      "Multiprocess sampling (2 chains in 4 jobs)\n",
      "NUTS: [logvar, flux0, T0]\n",
      "Sampling 2 chains: 100%|██████████| 3000/3000 [00:05<00:00, 542.61draws/s] \n"
     ]
    },
    {
     "name": "stdout",
     "output_type": "stream",
     "text": [
      "40 485.51\n"
     ]
    },
    {
     "name": "stderr",
     "output_type": "stream",
     "text": [
      "Multiprocess sampling (2 chains in 4 jobs)\n",
      "NUTS: [logvar, flux0, T0]\n",
      "Sampling 2 chains: 100%|██████████| 3000/3000 [00:08<00:00, 360.73draws/s]\n",
      "The number of effective samples is smaller than 25% for some parameters.\n"
     ]
    },
    {
     "name": "stdout",
     "output_type": "stream",
     "text": [
      "41 492.64\n"
     ]
    },
    {
     "name": "stderr",
     "output_type": "stream",
     "text": [
      "Multiprocess sampling (2 chains in 4 jobs)\n",
      "NUTS: [logvar, flux0, T0]\n",
      "Sampling 2 chains: 100%|██████████| 3000/3000 [00:05<00:00, 531.40draws/s] \n"
     ]
    },
    {
     "name": "stdout",
     "output_type": "stream",
     "text": [
      "42 499.77\n"
     ]
    },
    {
     "name": "stderr",
     "output_type": "stream",
     "text": [
      "Multiprocess sampling (2 chains in 4 jobs)\n",
      "NUTS: [logvar, flux0, T0]\n",
      "Sampling 2 chains: 100%|██████████| 3000/3000 [00:07<00:00, 416.16draws/s]\n",
      "The estimated number of effective samples is smaller than 200 for some parameters.\n"
     ]
    },
    {
     "name": "stdout",
     "output_type": "stream",
     "text": [
      "43 506.91\n"
     ]
    },
    {
     "name": "stderr",
     "output_type": "stream",
     "text": [
      "Multiprocess sampling (2 chains in 4 jobs)\n",
      "NUTS: [logvar, flux0, T0]\n",
      "Sampling 2 chains: 100%|██████████| 3000/3000 [00:06<00:00, 495.95draws/s] \n"
     ]
    },
    {
     "name": "stdout",
     "output_type": "stream",
     "text": [
      "44 521.17\n"
     ]
    },
    {
     "name": "stderr",
     "output_type": "stream",
     "text": [
      "Multiprocess sampling (2 chains in 4 jobs)\n",
      "NUTS: [logvar, flux0, T0]\n",
      "Sampling 2 chains: 100%|██████████| 3000/3000 [00:07<00:00, 388.68draws/s]\n",
      "The number of effective samples is smaller than 25% for some parameters.\n"
     ]
    },
    {
     "name": "stdout",
     "output_type": "stream",
     "text": [
      "45 528.3\n"
     ]
    },
    {
     "name": "stderr",
     "output_type": "stream",
     "text": [
      "Multiprocess sampling (2 chains in 4 jobs)\n",
      "NUTS: [logvar, flux0, T0]\n",
      "Sampling 2 chains: 100%|██████████| 3000/3000 [00:07<00:00, 421.91draws/s]\n"
     ]
    },
    {
     "name": "stdout",
     "output_type": "stream",
     "text": [
      "46 535.44\n"
     ]
    },
    {
     "name": "stderr",
     "output_type": "stream",
     "text": [
      "Multiprocess sampling (2 chains in 4 jobs)\n",
      "NUTS: [logvar, flux0, T0]\n",
      "Sampling 2 chains: 100%|██████████| 3000/3000 [00:08<00:00, 354.07draws/s]\n"
     ]
    },
    {
     "name": "stdout",
     "output_type": "stream",
     "text": [
      "47 542.57\n"
     ]
    },
    {
     "name": "stderr",
     "output_type": "stream",
     "text": [
      "Multiprocess sampling (2 chains in 4 jobs)\n",
      "NUTS: [logvar, flux0, T0]\n",
      "Sampling 2 chains: 100%|██████████| 3000/3000 [00:07<00:00, 415.42draws/s]\n"
     ]
    },
    {
     "name": "stdout",
     "output_type": "stream",
     "text": [
      "48 556.84\n"
     ]
    },
    {
     "name": "stderr",
     "output_type": "stream",
     "text": [
      "Multiprocess sampling (2 chains in 4 jobs)\n",
      "NUTS: [logvar, flux0, T0]\n",
      "Sampling 2 chains: 100%|██████████| 3000/3000 [00:06<00:00, 435.74draws/s] \n"
     ]
    },
    {
     "name": "stdout",
     "output_type": "stream",
     "text": [
      "49 563.97\n"
     ]
    },
    {
     "name": "stderr",
     "output_type": "stream",
     "text": [
      "Multiprocess sampling (2 chains in 4 jobs)\n",
      "NUTS: [logvar, flux0, T0]\n",
      "Sampling 2 chains: 100%|██████████| 3000/3000 [00:07<00:00, 382.03draws/s]\n",
      "The number of effective samples is smaller than 25% for some parameters.\n"
     ]
    },
    {
     "name": "stdout",
     "output_type": "stream",
     "text": [
      "50 571.1\n"
     ]
    },
    {
     "name": "stderr",
     "output_type": "stream",
     "text": [
      "Multiprocess sampling (2 chains in 4 jobs)\n",
      "NUTS: [logvar, flux0, T0]\n",
      "Sampling 2 chains: 100%|██████████| 3000/3000 [00:06<00:00, 491.03draws/s] \n"
     ]
    },
    {
     "name": "stdout",
     "output_type": "stream",
     "text": [
      "51 578.24\n"
     ]
    },
    {
     "name": "stderr",
     "output_type": "stream",
     "text": [
      "Multiprocess sampling (2 chains in 4 jobs)\n",
      "NUTS: [logvar, flux0, T0]\n",
      "Sampling 2 chains: 100%|██████████| 3000/3000 [00:10<00:00, 288.68draws/s]\n"
     ]
    },
    {
     "name": "stdout",
     "output_type": "stream",
     "text": [
      "52 592.5\n"
     ]
    },
    {
     "name": "stderr",
     "output_type": "stream",
     "text": [
      "Multiprocess sampling (2 chains in 4 jobs)\n",
      "NUTS: [logvar, flux0, T0]\n",
      "Sampling 2 chains: 100%|██████████| 3000/3000 [00:10<00:00, 282.14draws/s]\n"
     ]
    },
    {
     "name": "stdout",
     "output_type": "stream",
     "text": [
      "53 599.63\n"
     ]
    },
    {
     "name": "stderr",
     "output_type": "stream",
     "text": [
      "Multiprocess sampling (2 chains in 4 jobs)\n",
      "NUTS: [logvar, flux0, T0]\n",
      "Sampling 2 chains: 100%|██████████| 3000/3000 [00:12<00:00, 235.84draws/s]\n",
      "The estimated number of effective samples is smaller than 200 for some parameters.\n"
     ]
    },
    {
     "name": "stdout",
     "output_type": "stream",
     "text": [
      "54 606.77\n"
     ]
    },
    {
     "name": "stderr",
     "output_type": "stream",
     "text": [
      "Multiprocess sampling (2 chains in 4 jobs)\n",
      "NUTS: [logvar, flux0, T0]\n",
      "Sampling 2 chains: 100%|██████████| 3000/3000 [00:16<00:00, 181.65draws/s]\n",
      "The acceptance probability does not match the target. It is 0.5297089152257686, but should be close to 0.65. Try to increase the number of tuning steps.\n",
      "The gelman-rubin statistic is larger than 1.05 for some parameters. This indicates slight problems during sampling.\n",
      "The estimated number of effective samples is smaller than 200 for some parameters.\n"
     ]
    },
    {
     "name": "stdout",
     "output_type": "stream",
     "text": [
      "55 613.9\n"
     ]
    },
    {
     "name": "stderr",
     "output_type": "stream",
     "text": [
      "Multiprocess sampling (2 chains in 4 jobs)\n",
      "NUTS: [logvar, flux0, T0]\n",
      "Sampling 2 chains: 100%|██████████| 3000/3000 [00:06<00:00, 463.52draws/s] \n"
     ]
    },
    {
     "name": "stdout",
     "output_type": "stream",
     "text": [
      "56 628.17\n"
     ]
    },
    {
     "name": "stderr",
     "output_type": "stream",
     "text": [
      "Multiprocess sampling (2 chains in 4 jobs)\n",
      "NUTS: [logvar, flux0, T0]\n",
      "Sampling 2 chains: 100%|██████████| 3000/3000 [00:07<00:00, 426.31draws/s]\n"
     ]
    },
    {
     "name": "stdout",
     "output_type": "stream",
     "text": [
      "57 635.3\n"
     ]
    },
    {
     "name": "stderr",
     "output_type": "stream",
     "text": [
      "Multiprocess sampling (2 chains in 4 jobs)\n",
      "NUTS: [logvar, flux0, T0]\n",
      "Sampling 2 chains: 100%|██████████| 3000/3000 [00:10<00:00, 299.62draws/s]\n",
      "The estimated number of effective samples is smaller than 200 for some parameters.\n"
     ]
    },
    {
     "name": "stdout",
     "output_type": "stream",
     "text": [
      "58 642.43\n"
     ]
    },
    {
     "name": "stderr",
     "output_type": "stream",
     "text": [
      "Multiprocess sampling (2 chains in 4 jobs)\n",
      "NUTS: [logvar, flux0, T0]\n",
      "Sampling 2 chains: 100%|██████████| 3000/3000 [00:06<00:00, 436.38draws/s] \n"
     ]
    },
    {
     "name": "stdout",
     "output_type": "stream",
     "text": [
      "59 649.56\n"
     ]
    },
    {
     "name": "stderr",
     "output_type": "stream",
     "text": [
      "Multiprocess sampling (2 chains in 4 jobs)\n",
      "NUTS: [logvar, flux0, T0]\n",
      "Sampling 2 chains: 100%|██████████| 3000/3000 [00:06<00:00, 471.41draws/s] \n"
     ]
    },
    {
     "name": "stdout",
     "output_type": "stream",
     "text": [
      "60 656.7\n"
     ]
    },
    {
     "name": "stderr",
     "output_type": "stream",
     "text": [
      "Multiprocess sampling (2 chains in 4 jobs)\n",
      "NUTS: [logvar, flux0, T0]\n",
      "Sampling 2 chains: 100%|██████████| 3000/3000 [00:08<00:00, 355.97draws/s]\n",
      "The estimated number of effective samples is smaller than 200 for some parameters.\n"
     ]
    },
    {
     "name": "stdout",
     "output_type": "stream",
     "text": [
      "61 663.83\n"
     ]
    },
    {
     "name": "stderr",
     "output_type": "stream",
     "text": [
      "Multiprocess sampling (2 chains in 4 jobs)\n",
      "NUTS: [logvar, flux0, T0]\n",
      "Sampling 2 chains: 100%|██████████| 3000/3000 [00:12<00:00, 240.50draws/s]\n",
      "The estimated number of effective samples is smaller than 200 for some parameters.\n"
     ]
    },
    {
     "name": "stdout",
     "output_type": "stream",
     "text": [
      "62 670.96\n"
     ]
    },
    {
     "name": "stderr",
     "output_type": "stream",
     "text": [
      "Multiprocess sampling (2 chains in 4 jobs)\n",
      "NUTS: [logvar, flux0, T0]\n",
      "Sampling 2 chains: 100%|██████████| 3000/3000 [00:06<00:00, 461.61draws/s] \n"
     ]
    },
    {
     "name": "stdout",
     "output_type": "stream",
     "text": [
      "63 678.1\n"
     ]
    },
    {
     "name": "stderr",
     "output_type": "stream",
     "text": [
      "Multiprocess sampling (2 chains in 4 jobs)\n",
      "NUTS: [logvar, flux0, T0]\n",
      "Sampling 2 chains: 100%|██████████| 3000/3000 [00:07<00:00, 405.81draws/s] \n"
     ]
    },
    {
     "name": "stdout",
     "output_type": "stream",
     "text": [
      "64 685.23\n"
     ]
    },
    {
     "name": "stderr",
     "output_type": "stream",
     "text": [
      "Multiprocess sampling (2 chains in 4 jobs)\n",
      "NUTS: [logvar, flux0, T0]\n",
      "Sampling 2 chains: 100%|██████████| 3000/3000 [00:08<00:00, 358.59draws/s]\n",
      "The estimated number of effective samples is smaller than 200 for some parameters.\n"
     ]
    },
    {
     "name": "stdout",
     "output_type": "stream",
     "text": [
      "65 692.36\n"
     ]
    },
    {
     "name": "stderr",
     "output_type": "stream",
     "text": [
      "Multiprocess sampling (2 chains in 4 jobs)\n",
      "NUTS: [logvar, flux0, T0]\n",
      "Sampling 2 chains: 100%|██████████| 3000/3000 [00:06<00:00, 450.62draws/s] \n"
     ]
    },
    {
     "name": "stdout",
     "output_type": "stream",
     "text": [
      "66 699.5\n"
     ]
    },
    {
     "name": "stderr",
     "output_type": "stream",
     "text": [
      "Multiprocess sampling (2 chains in 4 jobs)\n",
      "NUTS: [logvar, flux0, T0]\n",
      "Sampling 2 chains: 100%|██████████| 3000/3000 [00:06<00:00, 448.57draws/s] \n"
     ]
    },
    {
     "name": "stdout",
     "output_type": "stream",
     "text": [
      "67 706.63\n"
     ]
    },
    {
     "name": "stderr",
     "output_type": "stream",
     "text": [
      "Multiprocess sampling (2 chains in 4 jobs)\n",
      "NUTS: [logvar, flux0, T0]\n",
      "Sampling 2 chains: 100%|██████████| 3000/3000 [00:07<00:00, 426.70draws/s]\n"
     ]
    },
    {
     "name": "stdout",
     "output_type": "stream",
     "text": [
      "68 713.76\n"
     ]
    },
    {
     "name": "stderr",
     "output_type": "stream",
     "text": [
      "Multiprocess sampling (2 chains in 4 jobs)\n",
      "NUTS: [logvar, flux0, T0]\n",
      "Sampling 2 chains: 100%|██████████| 3000/3000 [00:06<00:00, 446.97draws/s] \n",
      "The number of effective samples is smaller than 25% for some parameters.\n"
     ]
    },
    {
     "name": "stdout",
     "output_type": "stream",
     "text": [
      "69 735.16\n"
     ]
    },
    {
     "name": "stderr",
     "output_type": "stream",
     "text": [
      "Multiprocess sampling (2 chains in 4 jobs)\n",
      "NUTS: [logvar, flux0, T0]\n",
      "Sampling 2 chains: 100%|██████████| 3000/3000 [00:07<00:00, 428.09draws/s] \n"
     ]
    },
    {
     "name": "stdout",
     "output_type": "stream",
     "text": [
      "70 742.29\n"
     ]
    },
    {
     "name": "stderr",
     "output_type": "stream",
     "text": [
      "Multiprocess sampling (2 chains in 4 jobs)\n",
      "NUTS: [logvar, flux0, T0]\n",
      "Sampling 2 chains: 100%|██████████| 3000/3000 [00:12<00:00, 129.38draws/s]\n",
      "The acceptance probability does not match the target. It is 0.5126581182853687, but should be close to 0.65. Try to increase the number of tuning steps.\n",
      "The estimated number of effective samples is smaller than 200 for some parameters.\n"
     ]
    },
    {
     "name": "stdout",
     "output_type": "stream",
     "text": [
      "71 749.43\n"
     ]
    },
    {
     "name": "stderr",
     "output_type": "stream",
     "text": [
      "Multiprocess sampling (2 chains in 4 jobs)\n",
      "NUTS: [logvar, flux0, T0]\n",
      "Sampling 2 chains: 100%|██████████| 3000/3000 [00:08<00:00, 361.29draws/s]\n",
      "The number of effective samples is smaller than 25% for some parameters.\n"
     ]
    },
    {
     "name": "stdout",
     "output_type": "stream",
     "text": [
      "72 756.56\n"
     ]
    },
    {
     "name": "stderr",
     "output_type": "stream",
     "text": [
      "Multiprocess sampling (2 chains in 4 jobs)\n",
      "NUTS: [logvar, flux0, T0]\n",
      "Sampling 2 chains: 100%|██████████| 3000/3000 [00:09<00:00, 308.68draws/s]\n",
      "The estimated number of effective samples is smaller than 200 for some parameters.\n"
     ]
    },
    {
     "name": "stdout",
     "output_type": "stream",
     "text": [
      "73 763.69\n"
     ]
    },
    {
     "name": "stderr",
     "output_type": "stream",
     "text": [
      "Multiprocess sampling (2 chains in 4 jobs)\n",
      "NUTS: [logvar, flux0, T0]\n",
      "Sampling 2 chains: 100%|██████████| 3000/3000 [00:05<00:00, 518.62draws/s] \n"
     ]
    },
    {
     "name": "stdout",
     "output_type": "stream",
     "text": [
      "74 770.82\n"
     ]
    },
    {
     "name": "stderr",
     "output_type": "stream",
     "text": [
      "Multiprocess sampling (2 chains in 4 jobs)\n",
      "NUTS: [logvar, flux0, T0]\n",
      "Sampling 2 chains: 100%|██████████| 3000/3000 [00:13<00:00, 219.78draws/s]\n",
      "The estimated number of effective samples is smaller than 200 for some parameters.\n"
     ]
    },
    {
     "name": "stdout",
     "output_type": "stream",
     "text": [
      "75 777.96\n"
     ]
    },
    {
     "name": "stderr",
     "output_type": "stream",
     "text": [
      "Multiprocess sampling (2 chains in 4 jobs)\n",
      "NUTS: [logvar, flux0, T0]\n",
      "Sampling 2 chains: 100%|██████████| 3000/3000 [00:08<00:00, 339.59draws/s]\n",
      "The number of effective samples is smaller than 25% for some parameters.\n"
     ]
    },
    {
     "name": "stdout",
     "output_type": "stream",
     "text": [
      "76 785.09\n"
     ]
    },
    {
     "name": "stderr",
     "output_type": "stream",
     "text": [
      "Multiprocess sampling (2 chains in 4 jobs)\n",
      "NUTS: [logvar, flux0, T0]\n",
      "Sampling 2 chains: 100%|██████████| 3000/3000 [00:07<00:00, 382.90draws/s]\n",
      "The number of effective samples is smaller than 25% for some parameters.\n"
     ]
    },
    {
     "name": "stdout",
     "output_type": "stream",
     "text": [
      "77 792.22\n"
     ]
    },
    {
     "name": "stderr",
     "output_type": "stream",
     "text": [
      "Multiprocess sampling (2 chains in 4 jobs)\n",
      "NUTS: [logvar, flux0, T0]\n",
      "Sampling 2 chains: 100%|██████████| 3000/3000 [00:07<00:00, 381.38draws/s]\n",
      "The estimated number of effective samples is smaller than 200 for some parameters.\n"
     ]
    },
    {
     "name": "stdout",
     "output_type": "stream",
     "text": [
      "78 799.36\n"
     ]
    },
    {
     "name": "stderr",
     "output_type": "stream",
     "text": [
      "Multiprocess sampling (2 chains in 4 jobs)\n",
      "NUTS: [logvar, flux0, T0]\n",
      "Sampling 2 chains: 100%|██████████| 3000/3000 [00:06<00:00, 459.43draws/s] \n"
     ]
    },
    {
     "name": "stdout",
     "output_type": "stream",
     "text": [
      "79 813.62\n"
     ]
    },
    {
     "name": "stderr",
     "output_type": "stream",
     "text": [
      "Multiprocess sampling (2 chains in 4 jobs)\n",
      "NUTS: [logvar, flux0, T0]\n",
      "Sampling 2 chains: 100%|██████████| 3000/3000 [00:06<00:00, 460.72draws/s] \n"
     ]
    },
    {
     "name": "stdout",
     "output_type": "stream",
     "text": [
      "80 820.76\n"
     ]
    },
    {
     "name": "stderr",
     "output_type": "stream",
     "text": [
      "Multiprocess sampling (2 chains in 4 jobs)\n",
      "NUTS: [logvar, flux0, T0]\n",
      "Sampling 2 chains: 100%|██████████| 3000/3000 [00:07<00:00, 424.56draws/s]\n",
      "The estimated number of effective samples is smaller than 200 for some parameters.\n"
     ]
    },
    {
     "name": "stdout",
     "output_type": "stream",
     "text": [
      "81 827.89\n"
     ]
    },
    {
     "name": "stderr",
     "output_type": "stream",
     "text": [
      "Multiprocess sampling (2 chains in 4 jobs)\n",
      "NUTS: [logvar, flux0, T0]\n",
      "Sampling 2 chains: 100%|██████████| 3000/3000 [00:06<00:00, 462.55draws/s] \n"
     ]
    },
    {
     "name": "stdout",
     "output_type": "stream",
     "text": [
      "82 835.02\n"
     ]
    },
    {
     "name": "stderr",
     "output_type": "stream",
     "text": [
      "Multiprocess sampling (2 chains in 4 jobs)\n",
      "NUTS: [logvar, flux0, T0]\n",
      "Sampling 2 chains: 100%|██████████| 3000/3000 [00:07<00:00, 427.16draws/s]\n"
     ]
    },
    {
     "name": "stdout",
     "output_type": "stream",
     "text": [
      "83 842.15\n"
     ]
    },
    {
     "name": "stderr",
     "output_type": "stream",
     "text": [
      "Multiprocess sampling (2 chains in 4 jobs)\n",
      "NUTS: [logvar, flux0, T0]\n",
      "Sampling 2 chains: 100%|██████████| 3000/3000 [00:06<00:00, 452.13draws/s] \n"
     ]
    },
    {
     "name": "stdout",
     "output_type": "stream",
     "text": [
      "84 849.29\n"
     ]
    },
    {
     "name": "stderr",
     "output_type": "stream",
     "text": [
      "Multiprocess sampling (2 chains in 4 jobs)\n",
      "NUTS: [logvar, flux0, T0]\n",
      "Sampling 2 chains: 100%|██████████| 3000/3000 [00:06<00:00, 458.26draws/s] \n"
     ]
    },
    {
     "name": "stdout",
     "output_type": "stream",
     "text": [
      "85 856.42\n"
     ]
    },
    {
     "name": "stderr",
     "output_type": "stream",
     "text": [
      "Multiprocess sampling (2 chains in 4 jobs)\n",
      "NUTS: [logvar, flux0, T0]\n",
      "Sampling 2 chains: 100%|██████████| 3000/3000 [00:06<00:00, 460.13draws/s] \n"
     ]
    },
    {
     "name": "stdout",
     "output_type": "stream",
     "text": [
      "86 863.55\n"
     ]
    },
    {
     "name": "stderr",
     "output_type": "stream",
     "text": [
      "Multiprocess sampling (2 chains in 4 jobs)\n",
      "NUTS: [logvar, flux0, T0]\n",
      "Sampling 2 chains: 100%|██████████| 3000/3000 [00:07<00:00, 428.09draws/s]\n",
      "The number of effective samples is smaller than 25% for some parameters.\n"
     ]
    },
    {
     "name": "stdout",
     "output_type": "stream",
     "text": [
      "87 870.69\n"
     ]
    },
    {
     "name": "stderr",
     "output_type": "stream",
     "text": [
      "Multiprocess sampling (2 chains in 4 jobs)\n",
      "NUTS: [logvar, flux0, T0]\n",
      "Sampling 2 chains: 100%|██████████| 3000/3000 [00:07<00:00, 384.18draws/s]\n",
      "The estimated number of effective samples is smaller than 200 for some parameters.\n"
     ]
    },
    {
     "name": "stdout",
     "output_type": "stream",
     "text": [
      "88 877.82\n"
     ]
    },
    {
     "name": "stderr",
     "output_type": "stream",
     "text": [
      "Multiprocess sampling (2 chains in 4 jobs)\n",
      "NUTS: [logvar, flux0, T0]\n",
      "Sampling 2 chains: 100%|██████████| 3000/3000 [00:07<00:00, 423.44draws/s]\n",
      "The number of effective samples is smaller than 25% for some parameters.\n"
     ]
    },
    {
     "name": "stdout",
     "output_type": "stream",
     "text": [
      "89 884.95\n"
     ]
    },
    {
     "name": "stderr",
     "output_type": "stream",
     "text": [
      "Multiprocess sampling (2 chains in 4 jobs)\n",
      "NUTS: [logvar, flux0, T0]\n",
      "Sampling 2 chains: 100%|██████████| 3000/3000 [00:06<00:00, 456.63draws/s] \n"
     ]
    },
    {
     "name": "stdout",
     "output_type": "stream",
     "text": [
      "90 892.08\n"
     ]
    },
    {
     "name": "stderr",
     "output_type": "stream",
     "text": [
      "Multiprocess sampling (2 chains in 4 jobs)\n",
      "NUTS: [logvar, flux0, T0]\n",
      "Sampling 2 chains: 100%|██████████| 3000/3000 [00:07<00:00, 426.31draws/s]\n"
     ]
    },
    {
     "name": "stdout",
     "output_type": "stream",
     "text": [
      "91 899.22\n"
     ]
    },
    {
     "name": "stderr",
     "output_type": "stream",
     "text": [
      "Multiprocess sampling (2 chains in 4 jobs)\n",
      "NUTS: [logvar, flux0, T0]\n",
      "Sampling 2 chains: 100%|██████████| 3000/3000 [00:06<00:00, 477.08draws/s] \n"
     ]
    },
    {
     "name": "stdout",
     "output_type": "stream",
     "text": [
      "92 913.48\n"
     ]
    },
    {
     "name": "stderr",
     "output_type": "stream",
     "text": [
      "Multiprocess sampling (2 chains in 4 jobs)\n",
      "NUTS: [logvar, flux0, T0]\n",
      "Sampling 2 chains: 100%|██████████| 3000/3000 [00:05<00:00, 519.38draws/s] \n"
     ]
    },
    {
     "name": "stdout",
     "output_type": "stream",
     "text": [
      "93 920.62\n"
     ]
    },
    {
     "name": "stderr",
     "output_type": "stream",
     "text": [
      "Multiprocess sampling (2 chains in 4 jobs)\n",
      "NUTS: [logvar, flux0, T0]\n",
      "Sampling 2 chains: 100%|██████████| 3000/3000 [00:06<00:00, 453.88draws/s] \n",
      "The number of effective samples is smaller than 25% for some parameters.\n"
     ]
    },
    {
     "name": "stdout",
     "output_type": "stream",
     "text": [
      "94 927.75\n"
     ]
    },
    {
     "name": "stderr",
     "output_type": "stream",
     "text": [
      "Multiprocess sampling (2 chains in 4 jobs)\n",
      "NUTS: [logvar, flux0, T0]\n",
      "Sampling 2 chains: 100%|██████████| 3000/3000 [00:07<00:00, 414.90draws/s]\n"
     ]
    },
    {
     "name": "stdout",
     "output_type": "stream",
     "text": [
      "95 934.88\n"
     ]
    },
    {
     "name": "stderr",
     "output_type": "stream",
     "text": [
      "Multiprocess sampling (2 chains in 4 jobs)\n",
      "NUTS: [logvar, flux0, T0]\n",
      "Sampling 2 chains: 100%|██████████| 3000/3000 [00:07<00:00, 406.00draws/s]\n"
     ]
    },
    {
     "name": "stdout",
     "output_type": "stream",
     "text": [
      "96 942.02\n"
     ]
    },
    {
     "name": "stderr",
     "output_type": "stream",
     "text": [
      "Multiprocess sampling (2 chains in 4 jobs)\n",
      "NUTS: [logvar, flux0, T0]\n",
      "Sampling 2 chains: 100%|██████████| 3000/3000 [00:06<00:00, 461.31draws/s] \n",
      "The number of effective samples is smaller than 25% for some parameters.\n"
     ]
    },
    {
     "name": "stdout",
     "output_type": "stream",
     "text": [
      "97 949.15\n"
     ]
    },
    {
     "name": "stderr",
     "output_type": "stream",
     "text": [
      "Multiprocess sampling (2 chains in 4 jobs)\n",
      "NUTS: [logvar, flux0, T0]\n",
      "Sampling 2 chains: 100%|██████████| 3000/3000 [00:07<00:00, 416.81draws/s]\n"
     ]
    },
    {
     "name": "stdout",
     "output_type": "stream",
     "text": [
      "98 956.28\n"
     ]
    },
    {
     "name": "stderr",
     "output_type": "stream",
     "text": [
      "Multiprocess sampling (2 chains in 4 jobs)\n",
      "NUTS: [logvar, flux0, T0]\n",
      "Sampling 2 chains: 100%|██████████| 3000/3000 [00:07<00:00, 383.62draws/s]\n",
      "The estimated number of effective samples is smaller than 200 for some parameters.\n"
     ]
    },
    {
     "name": "stdout",
     "output_type": "stream",
     "text": [
      "99 963.41\n"
     ]
    },
    {
     "name": "stderr",
     "output_type": "stream",
     "text": [
      "Multiprocess sampling (2 chains in 4 jobs)\n",
      "NUTS: [logvar, flux0, T0]\n",
      "Sampling 2 chains: 100%|██████████| 3000/3000 [00:06<00:00, 453.00draws/s] \n"
     ]
    },
    {
     "name": "stdout",
     "output_type": "stream",
     "text": [
      "100 970.55\n"
     ]
    },
    {
     "name": "stderr",
     "output_type": "stream",
     "text": [
      "Multiprocess sampling (2 chains in 4 jobs)\n",
      "NUTS: [logvar, flux0, T0]\n",
      "Sampling 2 chains: 100%|██████████| 3000/3000 [00:07<00:00, 412.89draws/s]\n",
      "The number of effective samples is smaller than 25% for some parameters.\n"
     ]
    },
    {
     "name": "stdout",
     "output_type": "stream",
     "text": [
      "101 977.68\n"
     ]
    },
    {
     "name": "stderr",
     "output_type": "stream",
     "text": [
      "Multiprocess sampling (2 chains in 4 jobs)\n",
      "NUTS: [logvar, flux0, T0]\n",
      "Sampling 2 chains: 100%|██████████| 3000/3000 [00:07<00:00, 421.67draws/s]\n",
      "The number of effective samples is smaller than 25% for some parameters.\n"
     ]
    },
    {
     "name": "stdout",
     "output_type": "stream",
     "text": [
      "102 984.81\n"
     ]
    },
    {
     "name": "stderr",
     "output_type": "stream",
     "text": [
      "Multiprocess sampling (2 chains in 4 jobs)\n",
      "NUTS: [logvar, flux0, T0]\n",
      "Sampling 2 chains: 100%|██████████| 3000/3000 [00:06<00:00, 461.33draws/s] \n"
     ]
    },
    {
     "name": "stdout",
     "output_type": "stream",
     "text": [
      "103 991.95\n"
     ]
    },
    {
     "name": "stderr",
     "output_type": "stream",
     "text": [
      "Multiprocess sampling (2 chains in 4 jobs)\n",
      "NUTS: [logvar, flux0, T0]\n",
      "Sampling 2 chains: 100%|██████████| 3000/3000 [00:09<00:00, 329.75draws/s]\n",
      "The estimated number of effective samples is smaller than 200 for some parameters.\n"
     ]
    },
    {
     "name": "stdout",
     "output_type": "stream",
     "text": [
      "104 999.08\n"
     ]
    },
    {
     "name": "stderr",
     "output_type": "stream",
     "text": [
      "Multiprocess sampling (2 chains in 4 jobs)\n",
      "NUTS: [logvar, flux0, T0]\n",
      "Sampling 2 chains: 100%|██████████| 3000/3000 [00:06<00:00, 480.42draws/s] \n"
     ]
    },
    {
     "name": "stdout",
     "output_type": "stream",
     "text": [
      "105 1006.21\n"
     ]
    },
    {
     "name": "stderr",
     "output_type": "stream",
     "text": [
      "Multiprocess sampling (2 chains in 4 jobs)\n",
      "NUTS: [logvar, flux0, T0]\n",
      "Sampling 2 chains: 100%|██████████| 3000/3000 [00:06<00:00, 462.46draws/s] \n"
     ]
    },
    {
     "name": "stdout",
     "output_type": "stream",
     "text": [
      "106 1013.35\n"
     ]
    },
    {
     "name": "stderr",
     "output_type": "stream",
     "text": [
      "Multiprocess sampling (2 chains in 4 jobs)\n",
      "NUTS: [logvar, flux0, T0]\n",
      "Sampling 2 chains: 100%|██████████| 3000/3000 [00:09<00:00, 304.17draws/s]\n",
      "The estimated number of effective samples is smaller than 200 for some parameters.\n"
     ]
    },
    {
     "name": "stdout",
     "output_type": "stream",
     "text": [
      "107 1020.48\n"
     ]
    },
    {
     "name": "stderr",
     "output_type": "stream",
     "text": [
      "Multiprocess sampling (2 chains in 4 jobs)\n",
      "NUTS: [logvar, flux0, T0]\n",
      "Sampling 2 chains: 100%|██████████| 3000/3000 [00:06<00:00, 442.17draws/s] \n"
     ]
    },
    {
     "name": "stdout",
     "output_type": "stream",
     "text": [
      "108 1027.61\n"
     ]
    },
    {
     "name": "stderr",
     "output_type": "stream",
     "text": [
      "Multiprocess sampling (2 chains in 4 jobs)\n",
      "NUTS: [logvar, flux0, T0]\n",
      "Sampling 2 chains: 100%|██████████| 3000/3000 [00:06<00:00, 458.48draws/s] \n",
      "The number of effective samples is smaller than 25% for some parameters.\n"
     ]
    },
    {
     "name": "stdout",
     "output_type": "stream",
     "text": [
      "109 1034.74\n"
     ]
    },
    {
     "name": "stderr",
     "output_type": "stream",
     "text": [
      "Multiprocess sampling (2 chains in 4 jobs)\n",
      "NUTS: [logvar, flux0, T0]\n",
      "Sampling 2 chains: 100%|██████████| 3000/3000 [00:09<00:00, 322.46draws/s]\n",
      "The estimated number of effective samples is smaller than 200 for some parameters.\n"
     ]
    },
    {
     "name": "stdout",
     "output_type": "stream",
     "text": [
      "110 1041.88\n"
     ]
    },
    {
     "name": "stderr",
     "output_type": "stream",
     "text": [
      "Multiprocess sampling (2 chains in 4 jobs)\n",
      "NUTS: [logvar, flux0, T0]\n",
      "Sampling 2 chains: 100%|██████████| 3000/3000 [00:09<00:00, 313.59draws/s]\n",
      "The number of effective samples is smaller than 25% for some parameters.\n"
     ]
    },
    {
     "name": "stdout",
     "output_type": "stream",
     "text": [
      "111 1049.01\n"
     ]
    },
    {
     "name": "stderr",
     "output_type": "stream",
     "text": [
      "Multiprocess sampling (2 chains in 4 jobs)\n",
      "NUTS: [logvar, flux0, T0]\n",
      "Sampling 2 chains: 100%|██████████| 3000/3000 [00:06<00:00, 491.70draws/s] \n"
     ]
    },
    {
     "name": "stdout",
     "output_type": "stream",
     "text": [
      "112 1056.14\n"
     ]
    },
    {
     "name": "stderr",
     "output_type": "stream",
     "text": [
      "Multiprocess sampling (2 chains in 4 jobs)\n",
      "NUTS: [logvar, flux0, T0]\n",
      "Sampling 2 chains: 100%|██████████| 3000/3000 [00:06<00:00, 439.42draws/s] \n"
     ]
    },
    {
     "name": "stdout",
     "output_type": "stream",
     "text": [
      "113 1063.28\n"
     ]
    },
    {
     "name": "stderr",
     "output_type": "stream",
     "text": [
      "Multiprocess sampling (2 chains in 4 jobs)\n",
      "NUTS: [logvar, flux0, T0]\n",
      "Sampling 2 chains: 100%|██████████| 3000/3000 [00:06<00:00, 466.73draws/s] \n",
      "The estimated number of effective samples is smaller than 200 for some parameters.\n"
     ]
    },
    {
     "name": "stdout",
     "output_type": "stream",
     "text": [
      "114 1077.54\n"
     ]
    },
    {
     "name": "stderr",
     "output_type": "stream",
     "text": [
      "Multiprocess sampling (2 chains in 4 jobs)\n",
      "NUTS: [logvar, flux0, T0]\n",
      "Sampling 2 chains: 100%|██████████| 3000/3000 [00:05<00:00, 509.15draws/s] \n"
     ]
    },
    {
     "name": "stdout",
     "output_type": "stream",
     "text": [
      "115 1084.67\n"
     ]
    },
    {
     "name": "stderr",
     "output_type": "stream",
     "text": [
      "Multiprocess sampling (2 chains in 4 jobs)\n",
      "NUTS: [logvar, flux0, T0]\n",
      "Sampling 2 chains: 100%|██████████| 3000/3000 [00:08<00:00, 368.55draws/s]\n",
      "The number of effective samples is smaller than 25% for some parameters.\n"
     ]
    },
    {
     "name": "stdout",
     "output_type": "stream",
     "text": [
      "116 1091.81\n"
     ]
    },
    {
     "name": "stderr",
     "output_type": "stream",
     "text": [
      "Multiprocess sampling (2 chains in 4 jobs)\n",
      "NUTS: [logvar, flux0, T0]\n",
      "Sampling 2 chains: 100%|██████████| 3000/3000 [00:06<00:00, 481.75draws/s] \n"
     ]
    },
    {
     "name": "stdout",
     "output_type": "stream",
     "text": [
      "117 1106.07\n"
     ]
    },
    {
     "name": "stderr",
     "output_type": "stream",
     "text": [
      "Multiprocess sampling (2 chains in 4 jobs)\n",
      "NUTS: [logvar, flux0, T0]\n",
      "Sampling 2 chains: 100%|██████████| 3000/3000 [00:09<00:00, 316.55draws/s]\n",
      "The estimated number of effective samples is smaller than 200 for some parameters.\n"
     ]
    },
    {
     "name": "stdout",
     "output_type": "stream",
     "text": [
      "118 1113.21\n"
     ]
    },
    {
     "name": "stderr",
     "output_type": "stream",
     "text": [
      "Multiprocess sampling (2 chains in 4 jobs)\n",
      "NUTS: [logvar, flux0, T0]\n",
      "Sampling 2 chains: 100%|██████████| 3000/3000 [00:08<00:00, 355.75draws/s]\n"
     ]
    },
    {
     "name": "stdout",
     "output_type": "stream",
     "text": [
      "119 1120.34\n"
     ]
    },
    {
     "name": "stderr",
     "output_type": "stream",
     "text": [
      "Multiprocess sampling (2 chains in 4 jobs)\n",
      "NUTS: [logvar, flux0, T0]\n",
      "Sampling 2 chains: 100%|██████████| 3000/3000 [00:09<00:00, 330.45draws/s]\n"
     ]
    },
    {
     "name": "stdout",
     "output_type": "stream",
     "text": [
      "120 1127.47\n"
     ]
    },
    {
     "name": "stderr",
     "output_type": "stream",
     "text": [
      "Multiprocess sampling (2 chains in 4 jobs)\n",
      "NUTS: [logvar, flux0, T0]\n",
      "Sampling 2 chains: 100%|██████████| 3000/3000 [00:09<00:00, 316.20draws/s]\n"
     ]
    },
    {
     "name": "stdout",
     "output_type": "stream",
     "text": [
      "121 1134.61\n"
     ]
    },
    {
     "name": "stderr",
     "output_type": "stream",
     "text": [
      "Multiprocess sampling (2 chains in 4 jobs)\n",
      "NUTS: [logvar, flux0, T0]\n",
      "Sampling 2 chains: 100%|██████████| 3000/3000 [00:08<00:00, 345.64draws/s]\n"
     ]
    },
    {
     "name": "stdout",
     "output_type": "stream",
     "text": [
      "122 1141.74\n"
     ]
    },
    {
     "name": "stderr",
     "output_type": "stream",
     "text": [
      "Multiprocess sampling (2 chains in 4 jobs)\n",
      "NUTS: [logvar, flux0, T0]\n",
      "Sampling 2 chains: 100%|██████████| 3000/3000 [00:08<00:00, 340.72draws/s]\n"
     ]
    },
    {
     "name": "stdout",
     "output_type": "stream",
     "text": [
      "123 1148.87\n"
     ]
    },
    {
     "name": "stderr",
     "output_type": "stream",
     "text": [
      "Multiprocess sampling (2 chains in 4 jobs)\n",
      "NUTS: [logvar, flux0, T0]\n",
      "Sampling 2 chains: 100%|██████████| 3000/3000 [00:09<00:00, 318.47draws/s]\n"
     ]
    },
    {
     "name": "stdout",
     "output_type": "stream",
     "text": [
      "124 1156.0\n"
     ]
    },
    {
     "name": "stderr",
     "output_type": "stream",
     "text": [
      "Multiprocess sampling (2 chains in 4 jobs)\n",
      "NUTS: [logvar, flux0, T0]\n",
      "Sampling 2 chains: 100%|██████████| 3000/3000 [00:08<00:00, 339.22draws/s]\n"
     ]
    },
    {
     "name": "stdout",
     "output_type": "stream",
     "text": [
      "125 1170.27\n"
     ]
    },
    {
     "name": "stderr",
     "output_type": "stream",
     "text": [
      "Multiprocess sampling (2 chains in 4 jobs)\n",
      "NUTS: [logvar, flux0, T0]\n",
      "Sampling 2 chains: 100%|██████████| 3000/3000 [00:08<00:00, 343.77draws/s]\n"
     ]
    },
    {
     "name": "stdout",
     "output_type": "stream",
     "text": [
      "126 1177.4\n"
     ]
    },
    {
     "name": "stderr",
     "output_type": "stream",
     "text": [
      "Multiprocess sampling (2 chains in 4 jobs)\n",
      "NUTS: [logvar, flux0, T0]\n",
      "Sampling 2 chains: 100%|██████████| 3000/3000 [00:12<00:00, 241.42draws/s]\n",
      "The estimated number of effective samples is smaller than 200 for some parameters.\n"
     ]
    },
    {
     "name": "stdout",
     "output_type": "stream",
     "text": [
      "127 1184.54\n"
     ]
    },
    {
     "name": "stderr",
     "output_type": "stream",
     "text": [
      "Multiprocess sampling (2 chains in 4 jobs)\n",
      "NUTS: [logvar, flux0, T0]\n",
      "Sampling 2 chains: 100%|██████████| 3000/3000 [00:10<00:00, 275.46draws/s]\n"
     ]
    },
    {
     "name": "stdout",
     "output_type": "stream",
     "text": [
      "128 1191.67\n"
     ]
    },
    {
     "name": "stderr",
     "output_type": "stream",
     "text": [
      "Multiprocess sampling (2 chains in 4 jobs)\n",
      "NUTS: [logvar, flux0, T0]\n",
      "Sampling 2 chains: 100%|██████████| 3000/3000 [00:13<00:00, 222.51draws/s]\n",
      "The estimated number of effective samples is smaller than 200 for some parameters.\n"
     ]
    },
    {
     "name": "stdout",
     "output_type": "stream",
     "text": [
      "129 1198.8\n"
     ]
    },
    {
     "name": "stderr",
     "output_type": "stream",
     "text": [
      "Multiprocess sampling (2 chains in 4 jobs)\n",
      "NUTS: [logvar, flux0, T0]\n",
      "Sampling 2 chains: 100%|██████████| 3000/3000 [00:11<00:00, 263.36draws/s]\n"
     ]
    },
    {
     "name": "stdout",
     "output_type": "stream",
     "text": [
      "130 1205.93\n"
     ]
    },
    {
     "name": "stderr",
     "output_type": "stream",
     "text": [
      "Multiprocess sampling (2 chains in 4 jobs)\n",
      "NUTS: [logvar, flux0, T0]\n",
      "Sampling 2 chains: 100%|██████████| 3000/3000 [00:10<00:00, 289.34draws/s]\n"
     ]
    },
    {
     "name": "stdout",
     "output_type": "stream",
     "text": [
      "131 1213.07\n"
     ]
    },
    {
     "name": "stderr",
     "output_type": "stream",
     "text": [
      "Multiprocess sampling (2 chains in 4 jobs)\n",
      "NUTS: [logvar, flux0, T0]\n",
      "Sampling 2 chains: 100%|██████████| 3000/3000 [00:09<00:00, 325.29draws/s]\n"
     ]
    },
    {
     "name": "stdout",
     "output_type": "stream",
     "text": [
      "132 1220.2\n"
     ]
    },
    {
     "name": "stderr",
     "output_type": "stream",
     "text": [
      "Multiprocess sampling (2 chains in 4 jobs)\n",
      "NUTS: [logvar, flux0, T0]\n",
      "Sampling 2 chains: 100%|██████████| 3000/3000 [00:09<00:00, 316.64draws/s]\n"
     ]
    },
    {
     "name": "stdout",
     "output_type": "stream",
     "text": [
      "133 1227.33\n"
     ]
    },
    {
     "name": "stderr",
     "output_type": "stream",
     "text": [
      "Multiprocess sampling (2 chains in 4 jobs)\n",
      "NUTS: [logvar, flux0, T0]\n",
      "Sampling 2 chains: 100%|██████████| 3000/3000 [00:09<00:00, 314.95draws/s]\n"
     ]
    },
    {
     "name": "stdout",
     "output_type": "stream",
     "text": [
      "134 1234.47\n"
     ]
    },
    {
     "name": "stderr",
     "output_type": "stream",
     "text": [
      "Multiprocess sampling (2 chains in 4 jobs)\n",
      "NUTS: [logvar, flux0, T0]\n",
      "Sampling 2 chains: 100%|██████████| 3000/3000 [00:10<00:00, 295.93draws/s]\n",
      "The estimated number of effective samples is smaller than 200 for some parameters.\n"
     ]
    },
    {
     "name": "stdout",
     "output_type": "stream",
     "text": [
      "135 1241.6\n"
     ]
    },
    {
     "name": "stderr",
     "output_type": "stream",
     "text": [
      "Multiprocess sampling (2 chains in 4 jobs)\n",
      "NUTS: [logvar, flux0, T0]\n",
      "Sampling 2 chains: 100%|██████████| 3000/3000 [00:11<00:00, 258.30draws/s]\n",
      "The estimated number of effective samples is smaller than 200 for some parameters.\n"
     ]
    },
    {
     "name": "stdout",
     "output_type": "stream",
     "text": [
      "136 1248.73\n"
     ]
    },
    {
     "name": "stderr",
     "output_type": "stream",
     "text": [
      "Multiprocess sampling (2 chains in 4 jobs)\n",
      "NUTS: [logvar, flux0, T0]\n",
      "Sampling 2 chains: 100%|██████████| 3000/3000 [00:10<00:00, 275.80draws/s]\n"
     ]
    },
    {
     "name": "stdout",
     "output_type": "stream",
     "text": [
      "137 1255.87\n"
     ]
    },
    {
     "name": "stderr",
     "output_type": "stream",
     "text": [
      "Multiprocess sampling (2 chains in 4 jobs)\n",
      "NUTS: [logvar, flux0, T0]\n",
      "Sampling 2 chains: 100%|██████████| 3000/3000 [00:09<00:00, 318.53draws/s]\n"
     ]
    },
    {
     "name": "stdout",
     "output_type": "stream",
     "text": [
      "138 1263.0\n"
     ]
    },
    {
     "name": "stderr",
     "output_type": "stream",
     "text": [
      "Multiprocess sampling (2 chains in 4 jobs)\n",
      "NUTS: [logvar, flux0, T0]\n",
      "Sampling 2 chains: 100%|██████████| 3000/3000 [00:10<00:00, 282.55draws/s]\n"
     ]
    },
    {
     "name": "stdout",
     "output_type": "stream",
     "text": [
      "139 1270.13\n"
     ]
    },
    {
     "name": "stderr",
     "output_type": "stream",
     "text": [
      "Multiprocess sampling (2 chains in 4 jobs)\n",
      "NUTS: [logvar, flux0, T0]\n",
      "Sampling 2 chains: 100%|██████████| 3000/3000 [00:09<00:00, 327.01draws/s]\n"
     ]
    },
    {
     "name": "stdout",
     "output_type": "stream",
     "text": [
      "140 1277.26\n"
     ]
    },
    {
     "name": "stderr",
     "output_type": "stream",
     "text": [
      "Multiprocess sampling (2 chains in 4 jobs)\n",
      "NUTS: [logvar, flux0, T0]\n",
      "Sampling 2 chains: 100%|██████████| 3000/3000 [00:15<00:00, 191.72draws/s]\n",
      "The estimated number of effective samples is smaller than 200 for some parameters.\n"
     ]
    },
    {
     "name": "stdout",
     "output_type": "stream",
     "text": [
      "141 1284.4\n"
     ]
    },
    {
     "name": "stderr",
     "output_type": "stream",
     "text": [
      "Multiprocess sampling (2 chains in 4 jobs)\n",
      "NUTS: [logvar, flux0, T0]\n",
      "Sampling 2 chains: 100%|██████████| 3000/3000 [00:21<00:00, 139.09draws/s]\n",
      "The estimated number of effective samples is smaller than 200 for some parameters.\n"
     ]
    },
    {
     "name": "stdout",
     "output_type": "stream",
     "text": [
      "142 1298.66\n"
     ]
    },
    {
     "name": "stderr",
     "output_type": "stream",
     "text": [
      "Multiprocess sampling (2 chains in 4 jobs)\n",
      "NUTS: [logvar, flux0, T0]\n",
      "Sampling 2 chains: 100%|██████████| 3000/3000 [00:14<00:00, 207.84draws/s]\n",
      "The estimated number of effective samples is smaller than 200 for some parameters.\n"
     ]
    },
    {
     "name": "stdout",
     "output_type": "stream",
     "text": [
      "143 1312.93\n"
     ]
    },
    {
     "name": "stderr",
     "output_type": "stream",
     "text": [
      "Multiprocess sampling (2 chains in 4 jobs)\n",
      "NUTS: [logvar, flux0, T0]\n",
      "Sampling 2 chains: 100%|██████████| 3000/3000 [00:15<00:00, 195.33draws/s]\n",
      "The estimated number of effective samples is smaller than 200 for some parameters.\n"
     ]
    },
    {
     "name": "stdout",
     "output_type": "stream",
     "text": [
      "144 1320.06\n"
     ]
    },
    {
     "name": "stderr",
     "output_type": "stream",
     "text": [
      "Multiprocess sampling (2 chains in 4 jobs)\n",
      "NUTS: [logvar, flux0, T0]\n",
      "Sampling 2 chains: 100%|██████████| 3000/3000 [00:12<00:00, 237.95draws/s]\n"
     ]
    },
    {
     "name": "stdout",
     "output_type": "stream",
     "text": [
      "145 1327.19\n"
     ]
    },
    {
     "name": "stderr",
     "output_type": "stream",
     "text": [
      "Multiprocess sampling (2 chains in 4 jobs)\n",
      "NUTS: [logvar, flux0, T0]\n",
      "Sampling 2 chains: 100%|██████████| 3000/3000 [00:14<00:00, 211.84draws/s]\n"
     ]
    },
    {
     "name": "stdout",
     "output_type": "stream",
     "text": [
      "146 1334.33\n"
     ]
    },
    {
     "name": "stderr",
     "output_type": "stream",
     "text": [
      "Multiprocess sampling (2 chains in 4 jobs)\n",
      "NUTS: [logvar, flux0, T0]\n",
      "Sampling 2 chains: 100%|██████████| 3000/3000 [00:12<00:00, 236.87draws/s]\n",
      "The estimated number of effective samples is smaller than 200 for some parameters.\n"
     ]
    },
    {
     "name": "stdout",
     "output_type": "stream",
     "text": [
      "147 1341.46\n"
     ]
    },
    {
     "name": "stderr",
     "output_type": "stream",
     "text": [
      "Multiprocess sampling (2 chains in 4 jobs)\n",
      "NUTS: [logvar, flux0, T0]\n",
      "Sampling 2 chains: 100%|██████████| 3000/3000 [00:10<00:00, 292.82draws/s]\n"
     ]
    },
    {
     "name": "stdout",
     "output_type": "stream",
     "text": [
      "148 1348.59\n"
     ]
    },
    {
     "name": "stderr",
     "output_type": "stream",
     "text": [
      "Multiprocess sampling (2 chains in 4 jobs)\n",
      "NUTS: [logvar, flux0, T0]\n",
      "Sampling 2 chains: 100%|██████████| 3000/3000 [00:11<00:00, 265.09draws/s]\n"
     ]
    },
    {
     "name": "stdout",
     "output_type": "stream",
     "text": [
      "149 1355.73\n"
     ]
    },
    {
     "name": "stderr",
     "output_type": "stream",
     "text": [
      "Multiprocess sampling (2 chains in 4 jobs)\n",
      "NUTS: [logvar, flux0, T0]\n",
      "Sampling 2 chains: 100%|██████████| 3000/3000 [00:22<00:00, 166.07draws/s]\n",
      "The estimated number of effective samples is smaller than 200 for some parameters.\n"
     ]
    },
    {
     "name": "stdout",
     "output_type": "stream",
     "text": [
      "150 1362.86\n"
     ]
    },
    {
     "name": "stderr",
     "output_type": "stream",
     "text": [
      "Multiprocess sampling (2 chains in 4 jobs)\n",
      "NUTS: [logvar, flux0, T0]\n",
      "Sampling 2 chains: 100%|██████████| 3000/3000 [00:10<00:00, 297.44draws/s]\n"
     ]
    },
    {
     "name": "stdout",
     "output_type": "stream",
     "text": [
      "151 1369.99\n"
     ]
    },
    {
     "name": "stderr",
     "output_type": "stream",
     "text": [
      "Multiprocess sampling (2 chains in 4 jobs)\n",
      "NUTS: [logvar, flux0, T0]\n",
      "Sampling 2 chains: 100%|██████████| 3000/3000 [00:10<00:00, 293.88draws/s]\n"
     ]
    },
    {
     "name": "stdout",
     "output_type": "stream",
     "text": [
      "152 1377.13\n"
     ]
    },
    {
     "name": "stderr",
     "output_type": "stream",
     "text": [
      "Multiprocess sampling (2 chains in 4 jobs)\n",
      "NUTS: [logvar, flux0, T0]\n",
      "Sampling 2 chains: 100%|██████████| 3000/3000 [00:15<00:00, 197.57draws/s]\n",
      "The estimated number of effective samples is smaller than 200 for some parameters.\n"
     ]
    },
    {
     "name": "stdout",
     "output_type": "stream",
     "text": [
      "153 1384.26\n"
     ]
    },
    {
     "name": "stderr",
     "output_type": "stream",
     "text": [
      "Multiprocess sampling (2 chains in 4 jobs)\n",
      "NUTS: [logvar, flux0, T0]\n",
      "Sampling 2 chains: 100%|██████████| 3000/3000 [00:11<00:00, 261.38draws/s]\n"
     ]
    },
    {
     "name": "stdout",
     "output_type": "stream",
     "text": [
      "154 1391.39\n"
     ]
    },
    {
     "name": "stderr",
     "output_type": "stream",
     "text": [
      "Multiprocess sampling (2 chains in 4 jobs)\n",
      "NUTS: [logvar, flux0, T0]\n",
      "Sampling 2 chains: 100%|██████████| 3000/3000 [00:11<00:00, 255.67draws/s]\n"
     ]
    },
    {
     "name": "stdout",
     "output_type": "stream",
     "text": [
      "155 1398.52\n"
     ]
    },
    {
     "name": "stderr",
     "output_type": "stream",
     "text": [
      "Multiprocess sampling (2 chains in 4 jobs)\n",
      "NUTS: [logvar, flux0, T0]\n",
      "Sampling 2 chains: 100%|██████████| 3000/3000 [00:14<00:00, 201.07draws/s]\n",
      "The number of effective samples is smaller than 25% for some parameters.\n"
     ]
    },
    {
     "name": "stdout",
     "output_type": "stream",
     "text": [
      "156 1405.66\n"
     ]
    },
    {
     "name": "stderr",
     "output_type": "stream",
     "text": [
      "Multiprocess sampling (2 chains in 4 jobs)\n",
      "NUTS: [logvar, flux0, T0]\n",
      "Sampling 2 chains: 100%|██████████| 3000/3000 [00:11<00:00, 267.94draws/s]\n"
     ]
    },
    {
     "name": "stdout",
     "output_type": "stream",
     "text": [
      "157 1412.79\n"
     ]
    },
    {
     "name": "stderr",
     "output_type": "stream",
     "text": [
      "Multiprocess sampling (2 chains in 4 jobs)\n",
      "NUTS: [logvar, flux0, T0]\n",
      "Sampling 2 chains: 100%|██████████| 3000/3000 [00:10<00:00, 282.20draws/s]\n",
      "The estimated number of effective samples is smaller than 200 for some parameters.\n"
     ]
    },
    {
     "name": "stdout",
     "output_type": "stream",
     "text": [
      "158 1419.92\n"
     ]
    },
    {
     "name": "stderr",
     "output_type": "stream",
     "text": [
      "Multiprocess sampling (2 chains in 4 jobs)\n",
      "NUTS: [logvar, flux0, T0]\n",
      "Sampling 2 chains: 100%|██████████| 3000/3000 [00:12<00:00, 244.51draws/s]\n"
     ]
    },
    {
     "name": "stdout",
     "output_type": "stream",
     "text": [
      "159 1427.06\n"
     ]
    },
    {
     "name": "stderr",
     "output_type": "stream",
     "text": [
      "Multiprocess sampling (2 chains in 4 jobs)\n",
      "NUTS: [logvar, flux0, T0]\n",
      "Sampling 2 chains: 100%|██████████| 3000/3000 [00:10<00:00, 299.01draws/s]\n"
     ]
    },
    {
     "name": "stdout",
     "output_type": "stream",
     "text": [
      "160 1434.19\n"
     ]
    },
    {
     "name": "stderr",
     "output_type": "stream",
     "text": [
      "Multiprocess sampling (2 chains in 4 jobs)\n",
      "NUTS: [logvar, flux0, T0]\n",
      "Sampling 2 chains: 100%|██████████| 3000/3000 [00:17<00:00, 175.28draws/s]\n",
      "The estimated number of effective samples is smaller than 200 for some parameters.\n"
     ]
    },
    {
     "name": "stdout",
     "output_type": "stream",
     "text": [
      "161 1441.32\n"
     ]
    },
    {
     "name": "stderr",
     "output_type": "stream",
     "text": [
      "Multiprocess sampling (2 chains in 4 jobs)\n",
      "NUTS: [logvar, flux0, T0]\n",
      "Sampling 2 chains: 100%|██████████| 3000/3000 [00:16<00:00, 186.01draws/s]\n",
      "The estimated number of effective samples is smaller than 200 for some parameters.\n"
     ]
    },
    {
     "name": "stdout",
     "output_type": "stream",
     "text": [
      "162 1448.45\n"
     ]
    },
    {
     "name": "stderr",
     "output_type": "stream",
     "text": [
      "Multiprocess sampling (2 chains in 4 jobs)\n",
      "NUTS: [logvar, flux0, T0]\n",
      "Sampling 2 chains: 100%|██████████| 3000/3000 [00:18<00:00, 166.34draws/s]\n",
      "The estimated number of effective samples is smaller than 200 for some parameters.\n"
     ]
    },
    {
     "name": "stdout",
     "output_type": "stream",
     "text": [
      "163 1455.59\n"
     ]
    },
    {
     "name": "stderr",
     "output_type": "stream",
     "text": [
      "Multiprocess sampling (2 chains in 4 jobs)\n",
      "NUTS: [logvar, flux0, T0]\n",
      "Sampling 2 chains: 100%|██████████| 3000/3000 [00:13<00:00, 220.00draws/s]\n"
     ]
    },
    {
     "name": "stdout",
     "output_type": "stream",
     "text": [
      "164 1462.72\n"
     ]
    },
    {
     "name": "stderr",
     "output_type": "stream",
     "text": [
      "Multiprocess sampling (2 chains in 4 jobs)\n",
      "NUTS: [logvar, flux0, T0]\n",
      "Sampling 2 chains: 100%|██████████| 3000/3000 [00:13<00:00, 222.55draws/s]\n"
     ]
    },
    {
     "name": "stdout",
     "output_type": "stream",
     "text": [
      "165 1469.85\n"
     ]
    },
    {
     "name": "stderr",
     "output_type": "stream",
     "text": [
      "Multiprocess sampling (2 chains in 4 jobs)\n",
      "NUTS: [logvar, flux0, T0]\n",
      "Sampling 2 chains: 100%|██████████| 3000/3000 [00:08<00:00, 335.15draws/s]\n"
     ]
    },
    {
     "name": "stdout",
     "output_type": "stream",
     "text": [
      "166 1476.99\n"
     ]
    },
    {
     "name": "stderr",
     "output_type": "stream",
     "text": [
      "Multiprocess sampling (2 chains in 4 jobs)\n",
      "NUTS: [logvar, flux0, T0]\n",
      "Sampling 2 chains: 100%|██████████| 3000/3000 [00:14<00:00, 202.82draws/s]\n",
      "The estimated number of effective samples is smaller than 200 for some parameters.\n"
     ]
    },
    {
     "name": "stdout",
     "output_type": "stream",
     "text": [
      "167 1491.25\n"
     ]
    },
    {
     "name": "stderr",
     "output_type": "stream",
     "text": [
      "Multiprocess sampling (2 chains in 4 jobs)\n",
      "NUTS: [logvar, flux0, T0]\n",
      "Sampling 2 chains: 100%|██████████| 3000/3000 [00:09<00:00, 315.53draws/s]\n"
     ]
    },
    {
     "name": "stdout",
     "output_type": "stream",
     "text": [
      "168 1498.39\n"
     ]
    },
    {
     "name": "stderr",
     "output_type": "stream",
     "text": [
      "Multiprocess sampling (2 chains in 4 jobs)\n",
      "NUTS: [logvar, flux0, T0]\n",
      "Sampling 2 chains: 100%|██████████| 3000/3000 [00:10<00:00, 292.39draws/s]\n",
      "The number of effective samples is smaller than 25% for some parameters.\n"
     ]
    },
    {
     "name": "stdout",
     "output_type": "stream",
     "text": [
      "169 1505.52\n"
     ]
    },
    {
     "name": "stderr",
     "output_type": "stream",
     "text": [
      "Multiprocess sampling (2 chains in 4 jobs)\n",
      "NUTS: [logvar, flux0, T0]\n",
      "Sampling 2 chains: 100%|██████████| 3000/3000 [00:13<00:00, 221.91draws/s]\n",
      "The estimated number of effective samples is smaller than 200 for some parameters.\n"
     ]
    },
    {
     "name": "stdout",
     "output_type": "stream",
     "text": [
      "170 1512.65\n"
     ]
    },
    {
     "name": "stderr",
     "output_type": "stream",
     "text": [
      "Multiprocess sampling (2 chains in 4 jobs)\n",
      "NUTS: [logvar, flux0, T0]\n",
      "Sampling 2 chains: 100%|██████████| 3000/3000 [00:19<00:00, 153.35draws/s]\n",
      "The estimated number of effective samples is smaller than 200 for some parameters.\n"
     ]
    },
    {
     "name": "stdout",
     "output_type": "stream",
     "text": [
      "171 1519.78\n"
     ]
    },
    {
     "name": "stderr",
     "output_type": "stream",
     "text": [
      "Multiprocess sampling (2 chains in 4 jobs)\n",
      "NUTS: [logvar, flux0, T0]\n",
      "Sampling 2 chains: 100%|██████████| 3000/3000 [00:10<00:00, 272.78draws/s]\n"
     ]
    },
    {
     "name": "stdout",
     "output_type": "stream",
     "text": [
      "172 1526.92\n"
     ]
    },
    {
     "name": "stderr",
     "output_type": "stream",
     "text": [
      "Multiprocess sampling (2 chains in 4 jobs)\n",
      "NUTS: [logvar, flux0, T0]\n",
      "Sampling 2 chains: 100%|██████████| 3000/3000 [00:10<00:00, 295.31draws/s]\n"
     ]
    },
    {
     "name": "stdout",
     "output_type": "stream",
     "text": [
      "173 1534.05\n"
     ]
    },
    {
     "name": "stderr",
     "output_type": "stream",
     "text": [
      "Multiprocess sampling (2 chains in 4 jobs)\n",
      "NUTS: [logvar, flux0, T0]\n",
      "Sampling 2 chains: 100%|██████████| 3000/3000 [00:09<00:00, 310.47draws/s]\n"
     ]
    },
    {
     "name": "stdout",
     "output_type": "stream",
     "text": [
      "174 1541.18\n"
     ]
    },
    {
     "name": "stderr",
     "output_type": "stream",
     "text": [
      "Multiprocess sampling (2 chains in 4 jobs)\n",
      "NUTS: [logvar, flux0, T0]\n",
      "Sampling 2 chains: 100%|██████████| 3000/3000 [00:14<00:00, 201.88draws/s]\n",
      "The estimated number of effective samples is smaller than 200 for some parameters.\n"
     ]
    },
    {
     "name": "stdout",
     "output_type": "stream",
     "text": [
      "175 1548.32\n"
     ]
    },
    {
     "name": "stderr",
     "output_type": "stream",
     "text": [
      "Multiprocess sampling (2 chains in 4 jobs)\n",
      "NUTS: [logvar, flux0, T0]\n",
      "Sampling 2 chains: 100%|██████████| 3000/3000 [00:08<00:00, 348.80draws/s]\n"
     ]
    },
    {
     "name": "stdout",
     "output_type": "stream",
     "text": [
      "176 1555.45\n"
     ]
    },
    {
     "name": "stderr",
     "output_type": "stream",
     "text": [
      "Multiprocess sampling (2 chains in 4 jobs)\n",
      "NUTS: [logvar, flux0, T0]\n",
      "Sampling 2 chains: 100%|██████████| 3000/3000 [00:09<00:00, 303.64draws/s]\n"
     ]
    },
    {
     "name": "stdout",
     "output_type": "stream",
     "text": [
      "177 1562.58\n"
     ]
    },
    {
     "name": "stderr",
     "output_type": "stream",
     "text": [
      "Multiprocess sampling (2 chains in 4 jobs)\n",
      "NUTS: [logvar, flux0, T0]\n",
      "Sampling 2 chains: 100%|██████████| 3000/3000 [00:10<00:00, 295.36draws/s]\n",
      "The number of effective samples is smaller than 25% for some parameters.\n"
     ]
    },
    {
     "name": "stdout",
     "output_type": "stream",
     "text": [
      "178 1569.71\n"
     ]
    },
    {
     "name": "stderr",
     "output_type": "stream",
     "text": [
      "Multiprocess sampling (2 chains in 4 jobs)\n",
      "NUTS: [logvar, flux0, T0]\n",
      "Sampling 2 chains: 100%|██████████| 3000/3000 [00:13<00:00, 216.66draws/s]\n",
      "The estimated number of effective samples is smaller than 200 for some parameters.\n"
     ]
    },
    {
     "name": "stdout",
     "output_type": "stream",
     "text": [
      "179 1576.85\n"
     ]
    },
    {
     "name": "stderr",
     "output_type": "stream",
     "text": [
      "Multiprocess sampling (2 chains in 4 jobs)\n",
      "NUTS: [logvar, flux0, T0]\n",
      "Sampling 2 chains: 100%|██████████| 3000/3000 [00:09<00:00, 328.53draws/s]\n"
     ]
    },
    {
     "name": "stdout",
     "output_type": "stream",
     "text": [
      "\n",
      "PLANET 1\n",
      "0 140.08\n"
     ]
    },
    {
     "name": "stderr",
     "output_type": "stream",
     "text": [
      "Multiprocess sampling (2 chains in 4 jobs)\n",
      "NUTS: [logvar, flux0, T0]\n",
      "Sampling 2 chains: 100%|██████████| 3000/3000 [00:06<00:00, 459.45draws/s] \n"
     ]
    },
    {
     "name": "stdout",
     "output_type": "stream",
     "text": [
      "1 148.99\n"
     ]
    },
    {
     "name": "stderr",
     "output_type": "stream",
     "text": [
      "Multiprocess sampling (2 chains in 4 jobs)\n",
      "NUTS: [logvar, flux0, T0]\n",
      "Sampling 2 chains: 100%|██████████| 3000/3000 [00:06<00:00, 437.57draws/s] \n"
     ]
    },
    {
     "name": "stdout",
     "output_type": "stream",
     "text": [
      "2 157.91\n"
     ]
    },
    {
     "name": "stderr",
     "output_type": "stream",
     "text": [
      "Multiprocess sampling (2 chains in 4 jobs)\n",
      "NUTS: [logvar, flux0, T0]\n",
      "Sampling 2 chains: 100%|██████████| 3000/3000 [00:06<00:00, 460.73draws/s] \n"
     ]
    },
    {
     "name": "stdout",
     "output_type": "stream",
     "text": [
      "3 175.75\n"
     ]
    },
    {
     "name": "stderr",
     "output_type": "stream",
     "text": [
      "Multiprocess sampling (2 chains in 4 jobs)\n",
      "NUTS: [logvar, flux0, T0]\n",
      "Sampling 2 chains: 100%|██████████| 3000/3000 [00:07<00:00, 418.74draws/s]\n",
      "The estimated number of effective samples is smaller than 200 for some parameters.\n"
     ]
    },
    {
     "name": "stdout",
     "output_type": "stream",
     "text": [
      "4 184.67\n"
     ]
    },
    {
     "name": "stderr",
     "output_type": "stream",
     "text": [
      "Multiprocess sampling (2 chains in 4 jobs)\n",
      "NUTS: [logvar, flux0, T0]\n",
      "Sampling 2 chains: 100%|██████████| 3000/3000 [00:07<00:00, 406.95draws/s]\n"
     ]
    },
    {
     "name": "stdout",
     "output_type": "stream",
     "text": [
      "5 193.58\n"
     ]
    },
    {
     "name": "stderr",
     "output_type": "stream",
     "text": [
      "Multiprocess sampling (2 chains in 4 jobs)\n",
      "NUTS: [logvar, flux0, T0]\n",
      "Sampling 2 chains: 100%|██████████| 3000/3000 [00:06<00:00, 470.83draws/s] \n"
     ]
    },
    {
     "name": "stdout",
     "output_type": "stream",
     "text": [
      "6 202.5\n"
     ]
    },
    {
     "name": "stderr",
     "output_type": "stream",
     "text": [
      "Multiprocess sampling (2 chains in 4 jobs)\n",
      "NUTS: [logvar, flux0, T0]\n",
      "Sampling 2 chains: 100%|██████████| 3000/3000 [00:06<00:00, 485.74draws/s] \n"
     ]
    },
    {
     "name": "stdout",
     "output_type": "stream",
     "text": [
      "7 211.42\n"
     ]
    },
    {
     "name": "stderr",
     "output_type": "stream",
     "text": [
      "Multiprocess sampling (2 chains in 4 jobs)\n",
      "NUTS: [logvar, flux0, T0]\n",
      "Sampling 2 chains: 100%|██████████| 3000/3000 [00:08<00:00, 360.46draws/s]\n",
      "The estimated number of effective samples is smaller than 200 for some parameters.\n"
     ]
    },
    {
     "name": "stdout",
     "output_type": "stream",
     "text": [
      "8 220.34\n"
     ]
    },
    {
     "name": "stderr",
     "output_type": "stream",
     "text": [
      "Multiprocess sampling (2 chains in 4 jobs)\n",
      "NUTS: [logvar, flux0, T0]\n",
      "Sampling 2 chains: 100%|██████████| 3000/3000 [00:06<00:00, 469.20draws/s] \n"
     ]
    },
    {
     "name": "stdout",
     "output_type": "stream",
     "text": [
      "9 229.26\n"
     ]
    },
    {
     "name": "stderr",
     "output_type": "stream",
     "text": [
      "Multiprocess sampling (2 chains in 4 jobs)\n",
      "NUTS: [logvar, flux0, T0]\n",
      "Sampling 2 chains: 100%|██████████| 3000/3000 [00:06<00:00, 433.24draws/s]\n"
     ]
    },
    {
     "name": "stdout",
     "output_type": "stream",
     "text": [
      "10 238.18\n"
     ]
    },
    {
     "name": "stderr",
     "output_type": "stream",
     "text": [
      "Multiprocess sampling (2 chains in 4 jobs)\n",
      "NUTS: [logvar, flux0, T0]\n",
      "Sampling 2 chains: 100%|██████████| 3000/3000 [00:07<00:00, 387.44draws/s]\n",
      "The number of effective samples is smaller than 25% for some parameters.\n"
     ]
    },
    {
     "name": "stdout",
     "output_type": "stream",
     "text": [
      "11 247.09\n"
     ]
    },
    {
     "name": "stderr",
     "output_type": "stream",
     "text": [
      "Multiprocess sampling (2 chains in 4 jobs)\n",
      "NUTS: [logvar, flux0, T0]\n",
      "Sampling 2 chains: 100%|██████████| 3000/3000 [00:07<00:00, 428.21draws/s] \n"
     ]
    },
    {
     "name": "stdout",
     "output_type": "stream",
     "text": [
      "12 264.93\n"
     ]
    },
    {
     "name": "stderr",
     "output_type": "stream",
     "text": [
      "Multiprocess sampling (2 chains in 4 jobs)\n",
      "NUTS: [logvar, flux0, T0]\n",
      "Sampling 2 chains: 100%|██████████| 3000/3000 [00:06<00:00, 477.26draws/s] \n"
     ]
    },
    {
     "name": "stdout",
     "output_type": "stream",
     "text": [
      "13 273.85\n"
     ]
    },
    {
     "name": "stderr",
     "output_type": "stream",
     "text": [
      "Multiprocess sampling (2 chains in 4 jobs)\n",
      "NUTS: [logvar, flux0, T0]\n",
      "Sampling 2 chains: 100%|██████████| 3000/3000 [00:12<00:00, 242.69draws/s]\n",
      "The estimated number of effective samples is smaller than 200 for some parameters.\n"
     ]
    },
    {
     "name": "stdout",
     "output_type": "stream",
     "text": [
      "14 282.77\n"
     ]
    },
    {
     "name": "stderr",
     "output_type": "stream",
     "text": [
      "Multiprocess sampling (2 chains in 4 jobs)\n",
      "NUTS: [logvar, flux0, T0]\n",
      "Sampling 2 chains: 100%|██████████| 3000/3000 [00:08<00:00, 369.61draws/s]\n",
      "The estimated number of effective samples is smaller than 200 for some parameters.\n"
     ]
    },
    {
     "name": "stdout",
     "output_type": "stream",
     "text": [
      "15 291.69\n"
     ]
    },
    {
     "name": "stderr",
     "output_type": "stream",
     "text": [
      "Multiprocess sampling (2 chains in 4 jobs)\n",
      "NUTS: [logvar, flux0, T0]\n",
      "Sampling 2 chains: 100%|██████████| 3000/3000 [00:06<00:00, 476.31draws/s] \n",
      "The number of effective samples is smaller than 25% for some parameters.\n"
     ]
    },
    {
     "name": "stdout",
     "output_type": "stream",
     "text": [
      "16 300.61\n"
     ]
    },
    {
     "name": "stderr",
     "output_type": "stream",
     "text": [
      "Multiprocess sampling (2 chains in 4 jobs)\n",
      "NUTS: [logvar, flux0, T0]\n",
      "Sampling 2 chains: 100%|██████████| 3000/3000 [00:06<00:00, 498.78draws/s] \n"
     ]
    },
    {
     "name": "stdout",
     "output_type": "stream",
     "text": [
      "17 309.53\n"
     ]
    },
    {
     "name": "stderr",
     "output_type": "stream",
     "text": [
      "Multiprocess sampling (2 chains in 4 jobs)\n",
      "NUTS: [logvar, flux0, T0]\n",
      "Sampling 2 chains: 100%|██████████| 3000/3000 [00:06<00:00, 433.39draws/s]\n",
      "The estimated number of effective samples is smaller than 200 for some parameters.\n"
     ]
    },
    {
     "name": "stdout",
     "output_type": "stream",
     "text": [
      "18 318.45\n"
     ]
    },
    {
     "name": "stderr",
     "output_type": "stream",
     "text": [
      "Multiprocess sampling (2 chains in 4 jobs)\n",
      "NUTS: [logvar, flux0, T0]\n",
      "Sampling 2 chains: 100%|██████████| 3000/3000 [00:07<00:00, 407.81draws/s]\n",
      "The estimated number of effective samples is smaller than 200 for some parameters.\n"
     ]
    },
    {
     "name": "stdout",
     "output_type": "stream",
     "text": [
      "19 327.37\n"
     ]
    },
    {
     "name": "stderr",
     "output_type": "stream",
     "text": [
      "Multiprocess sampling (2 chains in 4 jobs)\n",
      "NUTS: [logvar, flux0, T0]\n",
      "Sampling 2 chains: 100%|██████████| 3000/3000 [00:07<00:00, 423.24draws/s]\n"
     ]
    },
    {
     "name": "stdout",
     "output_type": "stream",
     "text": [
      "20 336.29\n"
     ]
    },
    {
     "name": "stderr",
     "output_type": "stream",
     "text": [
      "Multiprocess sampling (2 chains in 4 jobs)\n",
      "NUTS: [logvar, flux0, T0]\n",
      "Sampling 2 chains: 100%|██████████| 3000/3000 [00:06<00:00, 483.01draws/s] \n"
     ]
    },
    {
     "name": "stdout",
     "output_type": "stream",
     "text": [
      "21 345.21\n"
     ]
    },
    {
     "name": "stderr",
     "output_type": "stream",
     "text": [
      "Multiprocess sampling (2 chains in 4 jobs)\n",
      "NUTS: [logvar, flux0, T0]\n",
      "Sampling 2 chains: 100%|██████████| 3000/3000 [00:06<00:00, 456.10draws/s] \n"
     ]
    },
    {
     "name": "stdout",
     "output_type": "stream",
     "text": [
      "22 354.13\n"
     ]
    },
    {
     "name": "stderr",
     "output_type": "stream",
     "text": [
      "Multiprocess sampling (2 chains in 4 jobs)\n",
      "NUTS: [logvar, flux0, T0]\n",
      "Sampling 2 chains: 100%|██████████| 3000/3000 [00:06<00:00, 479.75draws/s] \n"
     ]
    },
    {
     "name": "stdout",
     "output_type": "stream",
     "text": [
      "23 363.05\n"
     ]
    },
    {
     "name": "stderr",
     "output_type": "stream",
     "text": [
      "Multiprocess sampling (2 chains in 4 jobs)\n",
      "NUTS: [logvar, flux0, T0]\n",
      "Sampling 2 chains: 100%|██████████| 3000/3000 [00:07<00:00, 376.90draws/s]\n",
      "The number of effective samples is smaller than 25% for some parameters.\n"
     ]
    },
    {
     "name": "stdout",
     "output_type": "stream",
     "text": [
      "24 371.97\n"
     ]
    },
    {
     "name": "stderr",
     "output_type": "stream",
     "text": [
      "Multiprocess sampling (2 chains in 4 jobs)\n",
      "NUTS: [logvar, flux0, T0]\n",
      "Sampling 2 chains: 100%|██████████| 3000/3000 [00:06<00:00, 465.46draws/s] \n"
     ]
    },
    {
     "name": "stdout",
     "output_type": "stream",
     "text": [
      "25 380.89\n"
     ]
    },
    {
     "name": "stderr",
     "output_type": "stream",
     "text": [
      "Multiprocess sampling (2 chains in 4 jobs)\n",
      "NUTS: [logvar, flux0, T0]\n",
      "Sampling 2 chains: 100%|██████████| 3000/3000 [00:06<00:00, 492.15draws/s] \n"
     ]
    },
    {
     "name": "stdout",
     "output_type": "stream",
     "text": [
      "26 389.81\n"
     ]
    },
    {
     "name": "stderr",
     "output_type": "stream",
     "text": [
      "Multiprocess sampling (2 chains in 4 jobs)\n",
      "NUTS: [logvar, flux0, T0]\n",
      "Sampling 2 chains: 100%|██████████| 3000/3000 [00:06<00:00, 458.81draws/s] \n"
     ]
    },
    {
     "name": "stdout",
     "output_type": "stream",
     "text": [
      "27 407.65\n"
     ]
    },
    {
     "name": "stderr",
     "output_type": "stream",
     "text": [
      "Multiprocess sampling (2 chains in 4 jobs)\n",
      "NUTS: [logvar, flux0, T0]\n",
      "Sampling 2 chains: 100%|██████████| 3000/3000 [00:07<00:00, 380.96draws/s]\n",
      "The estimated number of effective samples is smaller than 200 for some parameters.\n"
     ]
    },
    {
     "name": "stdout",
     "output_type": "stream",
     "text": [
      "28 416.57\n"
     ]
    },
    {
     "name": "stderr",
     "output_type": "stream",
     "text": [
      "Multiprocess sampling (2 chains in 4 jobs)\n",
      "NUTS: [logvar, flux0, T0]\n",
      "Sampling 2 chains: 100%|██████████| 3000/3000 [00:06<00:00, 463.44draws/s] \n"
     ]
    },
    {
     "name": "stdout",
     "output_type": "stream",
     "text": [
      "29 425.49\n"
     ]
    },
    {
     "name": "stderr",
     "output_type": "stream",
     "text": [
      "Multiprocess sampling (2 chains in 4 jobs)\n",
      "NUTS: [logvar, flux0, T0]\n",
      "Sampling 2 chains: 100%|██████████| 3000/3000 [00:08<00:00, 372.54draws/s]\n",
      "The estimated number of effective samples is smaller than 200 for some parameters.\n"
     ]
    },
    {
     "name": "stdout",
     "output_type": "stream",
     "text": [
      "30 434.41\n"
     ]
    },
    {
     "name": "stderr",
     "output_type": "stream",
     "text": [
      "Multiprocess sampling (2 chains in 4 jobs)\n",
      "NUTS: [logvar, flux0, T0]\n",
      "Sampling 2 chains: 100%|██████████| 3000/3000 [00:06<00:00, 429.80draws/s]\n"
     ]
    },
    {
     "name": "stdout",
     "output_type": "stream",
     "text": [
      "31 443.33\n"
     ]
    },
    {
     "name": "stderr",
     "output_type": "stream",
     "text": [
      "Multiprocess sampling (2 chains in 4 jobs)\n",
      "NUTS: [logvar, flux0, T0]\n",
      "Sampling 2 chains: 100%|██████████| 3000/3000 [00:06<00:00, 487.06draws/s] \n",
      "The number of effective samples is smaller than 25% for some parameters.\n"
     ]
    },
    {
     "name": "stdout",
     "output_type": "stream",
     "text": [
      "32 452.25\n"
     ]
    },
    {
     "name": "stderr",
     "output_type": "stream",
     "text": [
      "Multiprocess sampling (2 chains in 4 jobs)\n",
      "NUTS: [logvar, flux0, T0]\n",
      "Sampling 2 chains: 100%|██████████| 3000/3000 [00:06<00:00, 471.34draws/s] \n"
     ]
    },
    {
     "name": "stdout",
     "output_type": "stream",
     "text": [
      "33 461.17\n"
     ]
    },
    {
     "name": "stderr",
     "output_type": "stream",
     "text": [
      "Multiprocess sampling (2 chains in 4 jobs)\n",
      "NUTS: [logvar, flux0, T0]\n",
      "Sampling 2 chains: 100%|██████████| 3000/3000 [00:05<00:00, 521.86draws/s] \n"
     ]
    },
    {
     "name": "stdout",
     "output_type": "stream",
     "text": [
      "34 470.09\n"
     ]
    },
    {
     "name": "stderr",
     "output_type": "stream",
     "text": [
      "Multiprocess sampling (2 chains in 4 jobs)\n",
      "NUTS: [logvar, flux0, T0]\n",
      "Sampling 2 chains: 100%|██████████| 3000/3000 [00:05<00:00, 532.34draws/s] \n",
      "The estimated number of effective samples is smaller than 200 for some parameters.\n"
     ]
    },
    {
     "name": "stdout",
     "output_type": "stream",
     "text": [
      "35 479.01\n"
     ]
    },
    {
     "name": "stderr",
     "output_type": "stream",
     "text": [
      "Multiprocess sampling (2 chains in 4 jobs)\n",
      "NUTS: [logvar, flux0, T0]\n",
      "Sampling 2 chains: 100%|██████████| 3000/3000 [00:05<00:00, 509.23draws/s] \n"
     ]
    },
    {
     "name": "stdout",
     "output_type": "stream",
     "text": [
      "36 487.93\n"
     ]
    },
    {
     "name": "stderr",
     "output_type": "stream",
     "text": [
      "Multiprocess sampling (2 chains in 4 jobs)\n",
      "NUTS: [logvar, flux0, T0]\n",
      "Sampling 2 chains: 100%|██████████| 3000/3000 [00:11<00:00, 268.81draws/s]\n",
      "The number of effective samples is smaller than 25% for some parameters.\n"
     ]
    },
    {
     "name": "stdout",
     "output_type": "stream",
     "text": [
      "37 496.85\n"
     ]
    },
    {
     "name": "stderr",
     "output_type": "stream",
     "text": [
      "Multiprocess sampling (2 chains in 4 jobs)\n",
      "NUTS: [logvar, flux0, T0]\n",
      "Sampling 2 chains: 100%|██████████| 3000/3000 [00:06<00:00, 472.63draws/s] \n"
     ]
    },
    {
     "name": "stdout",
     "output_type": "stream",
     "text": [
      "38 505.77\n"
     ]
    },
    {
     "name": "stderr",
     "output_type": "stream",
     "text": [
      "Multiprocess sampling (2 chains in 4 jobs)\n",
      "NUTS: [logvar, flux0, T0]\n",
      "Sampling 2 chains: 100%|██████████| 3000/3000 [00:06<00:00, 470.80draws/s] \n"
     ]
    },
    {
     "name": "stdout",
     "output_type": "stream",
     "text": [
      "39 514.69\n"
     ]
    },
    {
     "name": "stderr",
     "output_type": "stream",
     "text": [
      "Multiprocess sampling (2 chains in 4 jobs)\n",
      "NUTS: [logvar, flux0, T0]\n",
      "Sampling 2 chains: 100%|██████████| 3000/3000 [00:07<00:00, 395.77draws/s]\n"
     ]
    },
    {
     "name": "stdout",
     "output_type": "stream",
     "text": [
      "40 523.61\n"
     ]
    },
    {
     "name": "stderr",
     "output_type": "stream",
     "text": [
      "Multiprocess sampling (2 chains in 4 jobs)\n",
      "NUTS: [logvar, flux0, T0]\n",
      "Sampling 2 chains: 100%|██████████| 3000/3000 [00:06<00:00, 474.87draws/s] \n"
     ]
    },
    {
     "name": "stdout",
     "output_type": "stream",
     "text": [
      "41 532.53\n"
     ]
    },
    {
     "name": "stderr",
     "output_type": "stream",
     "text": [
      "Multiprocess sampling (2 chains in 4 jobs)\n",
      "NUTS: [logvar, flux0, T0]\n",
      "Sampling 2 chains: 100%|██████████| 3000/3000 [00:07<00:00, 381.35draws/s]\n",
      "The estimated number of effective samples is smaller than 200 for some parameters.\n"
     ]
    },
    {
     "name": "stdout",
     "output_type": "stream",
     "text": [
      "42 541.45\n"
     ]
    },
    {
     "name": "stderr",
     "output_type": "stream",
     "text": [
      "Multiprocess sampling (2 chains in 4 jobs)\n",
      "NUTS: [logvar, flux0, T0]\n",
      "Sampling 2 chains: 100%|██████████| 3000/3000 [00:07<00:00, 420.60draws/s]\n"
     ]
    },
    {
     "name": "stdout",
     "output_type": "stream",
     "text": [
      "43 550.37\n"
     ]
    },
    {
     "name": "stderr",
     "output_type": "stream",
     "text": [
      "Multiprocess sampling (2 chains in 4 jobs)\n",
      "NUTS: [logvar, flux0, T0]\n",
      "Sampling 2 chains: 100%|██████████| 3000/3000 [00:06<00:00, 466.23draws/s] \n"
     ]
    },
    {
     "name": "stdout",
     "output_type": "stream",
     "text": [
      "44 559.29\n"
     ]
    },
    {
     "name": "stderr",
     "output_type": "stream",
     "text": [
      "Multiprocess sampling (2 chains in 4 jobs)\n",
      "NUTS: [logvar, flux0, T0]\n",
      "Sampling 2 chains: 100%|██████████| 3000/3000 [00:07<00:00, 406.36draws/s]\n"
     ]
    },
    {
     "name": "stdout",
     "output_type": "stream",
     "text": [
      "45 568.21\n"
     ]
    },
    {
     "name": "stderr",
     "output_type": "stream",
     "text": [
      "Multiprocess sampling (2 chains in 4 jobs)\n",
      "NUTS: [logvar, flux0, T0]\n",
      "Sampling 2 chains: 100%|██████████| 3000/3000 [00:06<00:00, 473.41draws/s] \n"
     ]
    },
    {
     "name": "stdout",
     "output_type": "stream",
     "text": [
      "46 577.13\n"
     ]
    },
    {
     "name": "stderr",
     "output_type": "stream",
     "text": [
      "Multiprocess sampling (2 chains in 4 jobs)\n",
      "NUTS: [logvar, flux0, T0]\n",
      "Sampling 2 chains: 100%|██████████| 3000/3000 [00:06<00:00, 449.72draws/s] \n"
     ]
    },
    {
     "name": "stdout",
     "output_type": "stream",
     "text": [
      "47 586.04\n"
     ]
    },
    {
     "name": "stderr",
     "output_type": "stream",
     "text": [
      "Multiprocess sampling (2 chains in 4 jobs)\n",
      "NUTS: [logvar, flux0, T0]\n",
      "Sampling 2 chains: 100%|██████████| 3000/3000 [00:06<00:00, 496.79draws/s] \n"
     ]
    },
    {
     "name": "stdout",
     "output_type": "stream",
     "text": [
      "48 594.96\n"
     ]
    },
    {
     "name": "stderr",
     "output_type": "stream",
     "text": [
      "Multiprocess sampling (2 chains in 4 jobs)\n",
      "NUTS: [logvar, flux0, T0]\n",
      "Sampling 2 chains: 100%|██████████| 3000/3000 [00:06<00:00, 463.66draws/s] \n"
     ]
    },
    {
     "name": "stdout",
     "output_type": "stream",
     "text": [
      "49 603.88\n"
     ]
    },
    {
     "name": "stderr",
     "output_type": "stream",
     "text": [
      "Multiprocess sampling (2 chains in 4 jobs)\n",
      "NUTS: [logvar, flux0, T0]\n",
      "Sampling 2 chains: 100%|██████████| 3000/3000 [00:08<00:00, 364.05draws/s]\n",
      "The number of effective samples is smaller than 25% for some parameters.\n"
     ]
    },
    {
     "name": "stdout",
     "output_type": "stream",
     "text": [
      "50 612.8\n"
     ]
    },
    {
     "name": "stderr",
     "output_type": "stream",
     "text": [
      "Multiprocess sampling (2 chains in 4 jobs)\n",
      "NUTS: [logvar, flux0, T0]\n",
      "Sampling 2 chains: 100%|██████████| 3000/3000 [00:06<00:00, 478.59draws/s] \n"
     ]
    },
    {
     "name": "stdout",
     "output_type": "stream",
     "text": [
      "51 621.72\n"
     ]
    },
    {
     "name": "stderr",
     "output_type": "stream",
     "text": [
      "Multiprocess sampling (2 chains in 4 jobs)\n",
      "NUTS: [logvar, flux0, T0]\n",
      "Sampling 2 chains: 100%|██████████| 3000/3000 [00:06<00:00, 432.12draws/s]\n"
     ]
    },
    {
     "name": "stdout",
     "output_type": "stream",
     "text": [
      "52 630.64\n"
     ]
    },
    {
     "name": "stderr",
     "output_type": "stream",
     "text": [
      "Multiprocess sampling (2 chains in 4 jobs)\n",
      "NUTS: [logvar, flux0, T0]\n",
      "Sampling 2 chains: 100%|██████████| 3000/3000 [00:06<00:00, 448.75draws/s] \n"
     ]
    },
    {
     "name": "stdout",
     "output_type": "stream",
     "text": [
      "53 639.55\n"
     ]
    },
    {
     "name": "stderr",
     "output_type": "stream",
     "text": [
      "Multiprocess sampling (2 chains in 4 jobs)\n",
      "NUTS: [logvar, flux0, T0]\n",
      "Sampling 2 chains: 100%|██████████| 3000/3000 [00:08<00:00, 657.45draws/s]\n",
      "The estimated number of effective samples is smaller than 200 for some parameters.\n"
     ]
    },
    {
     "name": "stdout",
     "output_type": "stream",
     "text": [
      "54 648.47\n"
     ]
    },
    {
     "name": "stderr",
     "output_type": "stream",
     "text": [
      "Multiprocess sampling (2 chains in 4 jobs)\n",
      "NUTS: [logvar, flux0, T0]\n",
      "Sampling 2 chains: 100%|██████████| 3000/3000 [00:07<00:00, 400.09draws/s]\n"
     ]
    },
    {
     "name": "stdout",
     "output_type": "stream",
     "text": [
      "55 657.39\n"
     ]
    },
    {
     "name": "stderr",
     "output_type": "stream",
     "text": [
      "Multiprocess sampling (2 chains in 4 jobs)\n",
      "NUTS: [logvar, flux0, T0]\n",
      "Sampling 2 chains: 100%|██████████| 3000/3000 [00:07<00:00, 391.90draws/s]\n"
     ]
    },
    {
     "name": "stdout",
     "output_type": "stream",
     "text": [
      "56 666.31\n"
     ]
    },
    {
     "name": "stderr",
     "output_type": "stream",
     "text": [
      "Multiprocess sampling (2 chains in 4 jobs)\n",
      "NUTS: [logvar, flux0, T0]\n",
      "Sampling 2 chains: 100%|██████████| 3000/3000 [00:06<00:00, 441.42draws/s]\n"
     ]
    },
    {
     "name": "stdout",
     "output_type": "stream",
     "text": [
      "57 675.23\n"
     ]
    },
    {
     "name": "stderr",
     "output_type": "stream",
     "text": [
      "Multiprocess sampling (2 chains in 4 jobs)\n",
      "NUTS: [logvar, flux0, T0]\n",
      "Sampling 2 chains: 100%|██████████| 3000/3000 [00:07<00:00, 421.56draws/s]\n"
     ]
    },
    {
     "name": "stdout",
     "output_type": "stream",
     "text": [
      "58 684.14\n"
     ]
    },
    {
     "name": "stderr",
     "output_type": "stream",
     "text": [
      "Multiprocess sampling (2 chains in 4 jobs)\n",
      "NUTS: [logvar, flux0, T0]\n",
      "Sampling 2 chains: 100%|██████████| 3000/3000 [00:07<00:00, 375.18draws/s]\n"
     ]
    },
    {
     "name": "stdout",
     "output_type": "stream",
     "text": [
      "59 693.06\n"
     ]
    },
    {
     "name": "stderr",
     "output_type": "stream",
     "text": [
      "Multiprocess sampling (2 chains in 4 jobs)\n",
      "NUTS: [logvar, flux0, T0]\n",
      "Sampling 2 chains: 100%|██████████| 3000/3000 [00:06<00:00, 437.33draws/s] \n"
     ]
    },
    {
     "name": "stdout",
     "output_type": "stream",
     "text": [
      "60 701.98\n"
     ]
    },
    {
     "name": "stderr",
     "output_type": "stream",
     "text": [
      "Multiprocess sampling (2 chains in 4 jobs)\n",
      "NUTS: [logvar, flux0, T0]\n",
      "Sampling 2 chains: 100%|██████████| 3000/3000 [00:06<00:00, 460.45draws/s] \n"
     ]
    },
    {
     "name": "stdout",
     "output_type": "stream",
     "text": [
      "61 710.9\n"
     ]
    },
    {
     "name": "stderr",
     "output_type": "stream",
     "text": [
      "Multiprocess sampling (2 chains in 4 jobs)\n",
      "NUTS: [logvar, flux0, T0]\n",
      "Sampling 2 chains: 100%|██████████| 3000/3000 [00:08<00:00, 361.42draws/s]\n",
      "The estimated number of effective samples is smaller than 200 for some parameters.\n"
     ]
    },
    {
     "name": "stdout",
     "output_type": "stream",
     "text": [
      "62 737.65\n"
     ]
    },
    {
     "name": "stderr",
     "output_type": "stream",
     "text": [
      "Multiprocess sampling (2 chains in 4 jobs)\n",
      "NUTS: [logvar, flux0, T0]\n",
      "Sampling 2 chains: 100%|██████████| 3000/3000 [00:06<00:00, 436.24draws/s] \n"
     ]
    },
    {
     "name": "stdout",
     "output_type": "stream",
     "text": [
      "63 746.57\n"
     ]
    },
    {
     "name": "stderr",
     "output_type": "stream",
     "text": [
      "Multiprocess sampling (2 chains in 4 jobs)\n",
      "NUTS: [logvar, flux0, T0]\n",
      "Sampling 2 chains: 100%|██████████| 3000/3000 [00:06<00:00, 455.35draws/s] \n"
     ]
    },
    {
     "name": "stdout",
     "output_type": "stream",
     "text": [
      "64 755.49\n"
     ]
    },
    {
     "name": "stderr",
     "output_type": "stream",
     "text": [
      "Multiprocess sampling (2 chains in 4 jobs)\n",
      "NUTS: [logvar, flux0, T0]\n",
      "Sampling 2 chains: 100%|██████████| 3000/3000 [00:05<00:00, 501.01draws/s] \n"
     ]
    },
    {
     "name": "stdout",
     "output_type": "stream",
     "text": [
      "65 764.4\n"
     ]
    },
    {
     "name": "stderr",
     "output_type": "stream",
     "text": [
      "Multiprocess sampling (2 chains in 4 jobs)\n",
      "NUTS: [logvar, flux0, T0]\n",
      "Sampling 2 chains: 100%|██████████| 3000/3000 [00:07<00:00, 415.40draws/s]\n"
     ]
    },
    {
     "name": "stdout",
     "output_type": "stream",
     "text": [
      "66 773.32\n"
     ]
    },
    {
     "name": "stderr",
     "output_type": "stream",
     "text": [
      "Multiprocess sampling (2 chains in 4 jobs)\n",
      "NUTS: [logvar, flux0, T0]\n",
      "Sampling 2 chains: 100%|██████████| 3000/3000 [00:07<00:00, 396.05draws/s]\n",
      "The estimated number of effective samples is smaller than 200 for some parameters.\n"
     ]
    },
    {
     "name": "stdout",
     "output_type": "stream",
     "text": [
      "67 782.24\n"
     ]
    },
    {
     "name": "stderr",
     "output_type": "stream",
     "text": [
      "Multiprocess sampling (2 chains in 4 jobs)\n",
      "NUTS: [logvar, flux0, T0]\n",
      "Sampling 2 chains: 100%|██████████| 3000/3000 [00:08<00:00, 364.99draws/s]\n",
      "The estimated number of effective samples is smaller than 200 for some parameters.\n"
     ]
    },
    {
     "name": "stdout",
     "output_type": "stream",
     "text": [
      "68 791.16\n"
     ]
    },
    {
     "name": "stderr",
     "output_type": "stream",
     "text": [
      "Multiprocess sampling (2 chains in 4 jobs)\n",
      "NUTS: [logvar, flux0, T0]\n",
      "Sampling 2 chains: 100%|██████████| 3000/3000 [00:06<00:00, 459.99draws/s] \n"
     ]
    },
    {
     "name": "stdout",
     "output_type": "stream",
     "text": [
      "69 800.07\n"
     ]
    },
    {
     "name": "stderr",
     "output_type": "stream",
     "text": [
      "Multiprocess sampling (2 chains in 4 jobs)\n",
      "NUTS: [logvar, flux0, T0]\n",
      "Sampling 2 chains: 100%|██████████| 3000/3000 [00:05<00:00, 525.67draws/s] \n"
     ]
    },
    {
     "name": "stdout",
     "output_type": "stream",
     "text": [
      "70 808.99\n"
     ]
    },
    {
     "name": "stderr",
     "output_type": "stream",
     "text": [
      "Multiprocess sampling (2 chains in 4 jobs)\n",
      "NUTS: [logvar, flux0, T0]\n",
      "Sampling 2 chains: 100%|██████████| 3000/3000 [00:10<00:00, 275.82draws/s]\n",
      "The estimated number of effective samples is smaller than 200 for some parameters.\n"
     ]
    },
    {
     "name": "stdout",
     "output_type": "stream",
     "text": [
      "71 817.91\n"
     ]
    },
    {
     "name": "stderr",
     "output_type": "stream",
     "text": [
      "Multiprocess sampling (2 chains in 4 jobs)\n",
      "NUTS: [logvar, flux0, T0]\n",
      "Sampling 2 chains: 100%|██████████| 3000/3000 [00:05<00:00, 511.98draws/s] \n"
     ]
    },
    {
     "name": "stdout",
     "output_type": "stream",
     "text": [
      "72 826.83\n"
     ]
    },
    {
     "name": "stderr",
     "output_type": "stream",
     "text": [
      "Multiprocess sampling (2 chains in 4 jobs)\n",
      "NUTS: [logvar, flux0, T0]\n",
      "Sampling 2 chains: 100%|██████████| 3000/3000 [00:06<00:00, 457.70draws/s] \n"
     ]
    },
    {
     "name": "stdout",
     "output_type": "stream",
     "text": [
      "73 835.74\n"
     ]
    },
    {
     "name": "stderr",
     "output_type": "stream",
     "text": [
      "Multiprocess sampling (2 chains in 4 jobs)\n",
      "NUTS: [logvar, flux0, T0]\n",
      "Sampling 2 chains: 100%|██████████| 3000/3000 [00:06<00:00, 463.61draws/s] \n"
     ]
    },
    {
     "name": "stdout",
     "output_type": "stream",
     "text": [
      "74 844.66\n"
     ]
    },
    {
     "name": "stderr",
     "output_type": "stream",
     "text": [
      "Multiprocess sampling (2 chains in 4 jobs)\n",
      "NUTS: [logvar, flux0, T0]\n",
      "Sampling 2 chains: 100%|██████████| 3000/3000 [00:06<00:00, 467.84draws/s] \n"
     ]
    },
    {
     "name": "stdout",
     "output_type": "stream",
     "text": [
      "75 853.58\n"
     ]
    },
    {
     "name": "stderr",
     "output_type": "stream",
     "text": [
      "Multiprocess sampling (2 chains in 4 jobs)\n",
      "NUTS: [logvar, flux0, T0]\n",
      "Sampling 2 chains: 100%|██████████| 3000/3000 [00:06<00:00, 485.42draws/s] \n",
      "The acceptance probability does not match the target. It is 0.5401098489431375, but should be close to 0.65. Try to increase the number of tuning steps.\n",
      "The estimated number of effective samples is smaller than 200 for some parameters.\n"
     ]
    },
    {
     "name": "stdout",
     "output_type": "stream",
     "text": [
      "76 862.5\n"
     ]
    },
    {
     "name": "stderr",
     "output_type": "stream",
     "text": [
      "Multiprocess sampling (2 chains in 4 jobs)\n",
      "NUTS: [logvar, flux0, T0]\n",
      "Sampling 2 chains: 100%|██████████| 3000/3000 [00:06<00:00, 466.93draws/s] \n",
      "The estimated number of effective samples is smaller than 200 for some parameters.\n"
     ]
    },
    {
     "name": "stdout",
     "output_type": "stream",
     "text": [
      "77 871.42\n"
     ]
    },
    {
     "name": "stderr",
     "output_type": "stream",
     "text": [
      "Multiprocess sampling (2 chains in 4 jobs)\n",
      "NUTS: [logvar, flux0, T0]\n",
      "Sampling 2 chains: 100%|██████████| 3000/3000 [00:06<00:00, 443.19draws/s] \n"
     ]
    },
    {
     "name": "stdout",
     "output_type": "stream",
     "text": [
      "78 880.33\n"
     ]
    },
    {
     "name": "stderr",
     "output_type": "stream",
     "text": [
      "Multiprocess sampling (2 chains in 4 jobs)\n",
      "NUTS: [logvar, flux0, T0]\n",
      "Sampling 2 chains: 100%|██████████| 3000/3000 [00:06<00:00, 429.30draws/s] \n",
      "The number of effective samples is smaller than 25% for some parameters.\n"
     ]
    },
    {
     "name": "stdout",
     "output_type": "stream",
     "text": [
      "79 889.25\n"
     ]
    },
    {
     "name": "stderr",
     "output_type": "stream",
     "text": [
      "Multiprocess sampling (2 chains in 4 jobs)\n",
      "NUTS: [logvar, flux0, T0]\n",
      "Sampling 2 chains: 100%|██████████| 3000/3000 [00:06<00:00, 472.67draws/s] \n"
     ]
    },
    {
     "name": "stdout",
     "output_type": "stream",
     "text": [
      "80 898.17\n"
     ]
    },
    {
     "name": "stderr",
     "output_type": "stream",
     "text": [
      "Multiprocess sampling (2 chains in 4 jobs)\n",
      "NUTS: [logvar, flux0, T0]\n",
      "Sampling 2 chains: 100%|██████████| 3000/3000 [00:07<00:00, 428.00draws/s]\n"
     ]
    },
    {
     "name": "stdout",
     "output_type": "stream",
     "text": [
      "81 907.09\n"
     ]
    },
    {
     "name": "stderr",
     "output_type": "stream",
     "text": [
      "Multiprocess sampling (2 chains in 4 jobs)\n",
      "NUTS: [logvar, flux0, T0]\n",
      "Sampling 2 chains: 100%|██████████| 3000/3000 [00:06<00:00, 474.57draws/s] \n"
     ]
    },
    {
     "name": "stdout",
     "output_type": "stream",
     "text": [
      "82 916.01\n"
     ]
    },
    {
     "name": "stderr",
     "output_type": "stream",
     "text": [
      "Multiprocess sampling (2 chains in 4 jobs)\n",
      "NUTS: [logvar, flux0, T0]\n",
      "Sampling 2 chains: 100%|██████████| 3000/3000 [00:06<00:00, 474.01draws/s] \n"
     ]
    },
    {
     "name": "stdout",
     "output_type": "stream",
     "text": [
      "83 924.93\n"
     ]
    },
    {
     "name": "stderr",
     "output_type": "stream",
     "text": [
      "Multiprocess sampling (2 chains in 4 jobs)\n",
      "NUTS: [logvar, flux0, T0]\n",
      "Sampling 2 chains: 100%|██████████| 3000/3000 [00:06<00:00, 491.28draws/s] \n"
     ]
    },
    {
     "name": "stdout",
     "output_type": "stream",
     "text": [
      "84 933.85\n"
     ]
    },
    {
     "name": "stderr",
     "output_type": "stream",
     "text": [
      "Multiprocess sampling (2 chains in 4 jobs)\n",
      "NUTS: [logvar, flux0, T0]\n",
      "Sampling 2 chains: 100%|██████████| 3000/3000 [00:04<00:00, 605.93draws/s] \n"
     ]
    },
    {
     "name": "stdout",
     "output_type": "stream",
     "text": [
      "85 942.77\n"
     ]
    },
    {
     "name": "stderr",
     "output_type": "stream",
     "text": [
      "Multiprocess sampling (2 chains in 4 jobs)\n",
      "NUTS: [logvar, flux0, T0]\n",
      "Sampling 2 chains: 100%|██████████| 3000/3000 [00:05<00:00, 502.59draws/s] \n"
     ]
    },
    {
     "name": "stdout",
     "output_type": "stream",
     "text": [
      "86 951.69\n"
     ]
    },
    {
     "name": "stderr",
     "output_type": "stream",
     "text": [
      "Multiprocess sampling (2 chains in 4 jobs)\n",
      "NUTS: [logvar, flux0, T0]\n",
      "Sampling 2 chains: 100%|██████████| 3000/3000 [00:06<00:00, 434.32draws/s]\n",
      "The number of effective samples is smaller than 25% for some parameters.\n"
     ]
    },
    {
     "name": "stdout",
     "output_type": "stream",
     "text": [
      "87 960.6\n"
     ]
    },
    {
     "name": "stderr",
     "output_type": "stream",
     "text": [
      "Multiprocess sampling (2 chains in 4 jobs)\n",
      "NUTS: [logvar, flux0, T0]\n",
      "Sampling 2 chains: 100%|██████████| 3000/3000 [00:05<00:00, 503.91draws/s] \n"
     ]
    },
    {
     "name": "stdout",
     "output_type": "stream",
     "text": [
      "88 978.44\n"
     ]
    },
    {
     "name": "stderr",
     "output_type": "stream",
     "text": [
      "Multiprocess sampling (2 chains in 4 jobs)\n",
      "NUTS: [logvar, flux0, T0]\n",
      "Sampling 2 chains: 100%|██████████| 3000/3000 [00:05<00:00, 533.42draws/s] \n"
     ]
    },
    {
     "name": "stdout",
     "output_type": "stream",
     "text": [
      "89 987.36\n"
     ]
    },
    {
     "name": "stderr",
     "output_type": "stream",
     "text": [
      "Multiprocess sampling (2 chains in 4 jobs)\n",
      "NUTS: [logvar, flux0, T0]\n",
      "Sampling 2 chains: 100%|██████████| 3000/3000 [00:06<00:00, 499.01draws/s] \n"
     ]
    },
    {
     "name": "stdout",
     "output_type": "stream",
     "text": [
      "90 996.28\n"
     ]
    },
    {
     "name": "stderr",
     "output_type": "stream",
     "text": [
      "Multiprocess sampling (2 chains in 4 jobs)\n",
      "NUTS: [logvar, flux0, T0]\n",
      "Sampling 2 chains: 100%|██████████| 3000/3000 [00:06<00:00, 444.44draws/s]\n"
     ]
    },
    {
     "name": "stdout",
     "output_type": "stream",
     "text": [
      "91 1005.2\n"
     ]
    },
    {
     "name": "stderr",
     "output_type": "stream",
     "text": [
      "Multiprocess sampling (2 chains in 4 jobs)\n",
      "NUTS: [logvar, flux0, T0]\n",
      "Sampling 2 chains: 100%|██████████| 3000/3000 [00:06<00:00, 457.21draws/s]\n",
      "The estimated number of effective samples is smaller than 200 for some parameters.\n"
     ]
    },
    {
     "name": "stdout",
     "output_type": "stream",
     "text": [
      "92 1014.12\n"
     ]
    },
    {
     "name": "stderr",
     "output_type": "stream",
     "text": [
      "Multiprocess sampling (2 chains in 4 jobs)\n",
      "NUTS: [logvar, flux0, T0]\n",
      "Sampling 2 chains: 100%|██████████| 3000/3000 [00:06<00:00, 471.73draws/s]\n"
     ]
    },
    {
     "name": "stdout",
     "output_type": "stream",
     "text": [
      "93 1023.04\n"
     ]
    },
    {
     "name": "stderr",
     "output_type": "stream",
     "text": [
      "Multiprocess sampling (2 chains in 4 jobs)\n",
      "NUTS: [logvar, flux0, T0]\n",
      "Sampling 2 chains: 100%|██████████| 3000/3000 [00:06<00:00, 435.96draws/s]\n"
     ]
    },
    {
     "name": "stdout",
     "output_type": "stream",
     "text": [
      "94 1031.96\n"
     ]
    },
    {
     "name": "stderr",
     "output_type": "stream",
     "text": [
      "Multiprocess sampling (2 chains in 4 jobs)\n",
      "NUTS: [logvar, flux0, T0]\n",
      "Sampling 2 chains: 100%|██████████| 3000/3000 [00:06<00:00, 448.47draws/s]\n",
      "The estimated number of effective samples is smaller than 200 for some parameters.\n"
     ]
    },
    {
     "name": "stdout",
     "output_type": "stream",
     "text": [
      "95 1040.88\n"
     ]
    },
    {
     "name": "stderr",
     "output_type": "stream",
     "text": [
      "Multiprocess sampling (2 chains in 4 jobs)\n",
      "NUTS: [logvar, flux0, T0]\n",
      "Sampling 2 chains: 100%|██████████| 3000/3000 [00:06<00:00, 486.88draws/s] \n"
     ]
    },
    {
     "name": "stdout",
     "output_type": "stream",
     "text": [
      "96 1049.8\n"
     ]
    },
    {
     "name": "stderr",
     "output_type": "stream",
     "text": [
      "Multiprocess sampling (2 chains in 4 jobs)\n",
      "NUTS: [logvar, flux0, T0]\n",
      "Sampling 2 chains: 100%|██████████| 3000/3000 [00:06<00:00, 497.09draws/s] \n"
     ]
    },
    {
     "name": "stdout",
     "output_type": "stream",
     "text": [
      "97 1058.73\n"
     ]
    },
    {
     "name": "stderr",
     "output_type": "stream",
     "text": [
      "Multiprocess sampling (2 chains in 4 jobs)\n",
      "NUTS: [logvar, flux0, T0]\n",
      "Sampling 2 chains: 100%|██████████| 3000/3000 [00:06<00:00, 443.16draws/s] \n"
     ]
    },
    {
     "name": "stdout",
     "output_type": "stream",
     "text": [
      "98 1067.65\n"
     ]
    },
    {
     "name": "stderr",
     "output_type": "stream",
     "text": [
      "Multiprocess sampling (2 chains in 4 jobs)\n",
      "NUTS: [logvar, flux0, T0]\n",
      "Sampling 2 chains: 100%|██████████| 3000/3000 [00:08<00:00, 369.44draws/s]\n"
     ]
    },
    {
     "name": "stdout",
     "output_type": "stream",
     "text": [
      "99 1076.57\n"
     ]
    },
    {
     "name": "stderr",
     "output_type": "stream",
     "text": [
      "Multiprocess sampling (2 chains in 4 jobs)\n",
      "NUTS: [logvar, flux0, T0]\n",
      "Sampling 2 chains: 100%|██████████| 3000/3000 [00:07<00:00, 385.92draws/s]\n",
      "The number of effective samples is smaller than 25% for some parameters.\n"
     ]
    },
    {
     "name": "stdout",
     "output_type": "stream",
     "text": [
      "100 1085.49\n"
     ]
    },
    {
     "name": "stderr",
     "output_type": "stream",
     "text": [
      "Multiprocess sampling (2 chains in 4 jobs)\n",
      "NUTS: [logvar, flux0, T0]\n",
      "Sampling 2 chains: 100%|██████████| 3000/3000 [00:10<00:00, 285.73draws/s]\n",
      "The number of effective samples is smaller than 25% for some parameters.\n"
     ]
    },
    {
     "name": "stdout",
     "output_type": "stream",
     "text": [
      "101 1094.41\n"
     ]
    },
    {
     "name": "stderr",
     "output_type": "stream",
     "text": [
      "Multiprocess sampling (2 chains in 4 jobs)\n",
      "NUTS: [logvar, flux0, T0]\n",
      "Sampling 2 chains: 100%|██████████| 3000/3000 [00:07<00:00, 381.76draws/s] \n",
      "The number of effective samples is smaller than 25% for some parameters.\n"
     ]
    },
    {
     "name": "stdout",
     "output_type": "stream",
     "text": [
      "102 1103.33\n"
     ]
    },
    {
     "name": "stderr",
     "output_type": "stream",
     "text": [
      "Multiprocess sampling (2 chains in 4 jobs)\n",
      "NUTS: [logvar, flux0, T0]\n",
      "Sampling 2 chains: 100%|██████████| 3000/3000 [00:08<00:00, 349.43draws/s]\n"
     ]
    },
    {
     "name": "stdout",
     "output_type": "stream",
     "text": [
      "103 1112.25\n"
     ]
    },
    {
     "name": "stderr",
     "output_type": "stream",
     "text": [
      "Multiprocess sampling (2 chains in 4 jobs)\n",
      "NUTS: [logvar, flux0, T0]\n",
      "Sampling 2 chains: 100%|██████████| 3000/3000 [00:09<00:00, 322.68draws/s] \n"
     ]
    },
    {
     "name": "stdout",
     "output_type": "stream",
     "text": [
      "104 1121.17\n"
     ]
    },
    {
     "name": "stderr",
     "output_type": "stream",
     "text": [
      "Multiprocess sampling (2 chains in 4 jobs)\n",
      "NUTS: [logvar, flux0, T0]\n",
      "Sampling 2 chains: 100%|██████████| 3000/3000 [00:12<00:00, 241.33draws/s]\n",
      "The acceptance probability does not match the target. It is 0.5432198958867067, but should be close to 0.65. Try to increase the number of tuning steps.\n",
      "The estimated number of effective samples is smaller than 200 for some parameters.\n"
     ]
    },
    {
     "name": "stdout",
     "output_type": "stream",
     "text": [
      "105 1130.09\n"
     ]
    },
    {
     "name": "stderr",
     "output_type": "stream",
     "text": [
      "Multiprocess sampling (2 chains in 4 jobs)\n",
      "NUTS: [logvar, flux0, T0]\n",
      "Sampling 2 chains: 100%|██████████| 3000/3000 [00:09<00:00, 328.10draws/s]\n"
     ]
    },
    {
     "name": "stdout",
     "output_type": "stream",
     "text": [
      "106 1139.01\n"
     ]
    },
    {
     "name": "stderr",
     "output_type": "stream",
     "text": [
      "Multiprocess sampling (2 chains in 4 jobs)\n",
      "NUTS: [logvar, flux0, T0]\n",
      "Sampling 2 chains: 100%|██████████| 3000/3000 [00:15<00:00, 199.33draws/s]\n",
      "The estimated number of effective samples is smaller than 200 for some parameters.\n"
     ]
    },
    {
     "name": "stdout",
     "output_type": "stream",
     "text": [
      "107 1147.93\n"
     ]
    },
    {
     "name": "stderr",
     "output_type": "stream",
     "text": [
      "Multiprocess sampling (2 chains in 4 jobs)\n",
      "NUTS: [logvar, flux0, T0]\n",
      "Sampling 2 chains: 100%|██████████| 3000/3000 [00:09<00:00, 314.53draws/s]\n"
     ]
    },
    {
     "name": "stdout",
     "output_type": "stream",
     "text": [
      "108 1156.85\n"
     ]
    },
    {
     "name": "stderr",
     "output_type": "stream",
     "text": [
      "Multiprocess sampling (2 chains in 4 jobs)\n",
      "NUTS: [logvar, flux0, T0]\n",
      "Sampling 2 chains: 100%|██████████| 3000/3000 [00:10<00:00, 276.54draws/s]\n",
      "The number of effective samples is smaller than 25% for some parameters.\n"
     ]
    },
    {
     "name": "stdout",
     "output_type": "stream",
     "text": [
      "109 1165.77\n"
     ]
    },
    {
     "name": "stderr",
     "output_type": "stream",
     "text": [
      "Multiprocess sampling (2 chains in 4 jobs)\n",
      "NUTS: [logvar, flux0, T0]\n",
      "Sampling 2 chains: 100%|██████████| 3000/3000 [00:11<00:00, 269.91draws/s]\n"
     ]
    },
    {
     "name": "stdout",
     "output_type": "stream",
     "text": [
      "110 1174.69\n"
     ]
    },
    {
     "name": "stderr",
     "output_type": "stream",
     "text": [
      "Multiprocess sampling (2 chains in 4 jobs)\n",
      "NUTS: [logvar, flux0, T0]\n",
      "Sampling 2 chains: 100%|██████████| 3000/3000 [00:12<00:00, 240.01draws/s]\n",
      "The estimated number of effective samples is smaller than 200 for some parameters.\n"
     ]
    },
    {
     "name": "stdout",
     "output_type": "stream",
     "text": [
      "111 1183.61\n"
     ]
    },
    {
     "name": "stderr",
     "output_type": "stream",
     "text": [
      "Multiprocess sampling (2 chains in 4 jobs)\n",
      "NUTS: [logvar, flux0, T0]\n",
      "Sampling 2 chains: 100%|██████████| 3000/3000 [00:12<00:00, 240.83draws/s]\n"
     ]
    },
    {
     "name": "stdout",
     "output_type": "stream",
     "text": [
      "112 1192.53\n"
     ]
    },
    {
     "name": "stderr",
     "output_type": "stream",
     "text": [
      "Multiprocess sampling (2 chains in 4 jobs)\n",
      "NUTS: [logvar, flux0, T0]\n",
      "Sampling 2 chains: 100%|██████████| 3000/3000 [00:10<00:00, 298.82draws/s]\n",
      "The estimated number of effective samples is smaller than 200 for some parameters.\n"
     ]
    },
    {
     "name": "stdout",
     "output_type": "stream",
     "text": [
      "113 1201.45\n"
     ]
    },
    {
     "name": "stderr",
     "output_type": "stream",
     "text": [
      "Multiprocess sampling (2 chains in 4 jobs)\n",
      "NUTS: [logvar, flux0, T0]\n",
      "Sampling 2 chains: 100%|██████████| 3000/3000 [00:11<00:00, 254.37draws/s]\n"
     ]
    },
    {
     "name": "stdout",
     "output_type": "stream",
     "text": [
      "114 1210.37\n"
     ]
    },
    {
     "name": "stderr",
     "output_type": "stream",
     "text": [
      "Multiprocess sampling (2 chains in 4 jobs)\n",
      "NUTS: [logvar, flux0, T0]\n",
      "Sampling 2 chains: 100%|██████████| 3000/3000 [00:12<00:00, 242.08draws/s]\n",
      "The number of effective samples is smaller than 25% for some parameters.\n"
     ]
    },
    {
     "name": "stdout",
     "output_type": "stream",
     "text": [
      "115 1219.29\n"
     ]
    },
    {
     "name": "stderr",
     "output_type": "stream",
     "text": [
      "Multiprocess sampling (2 chains in 4 jobs)\n",
      "NUTS: [logvar, flux0, T0]\n",
      "Sampling 2 chains: 100%|██████████| 3000/3000 [00:09<00:00, 319.28draws/s]\n"
     ]
    },
    {
     "name": "stdout",
     "output_type": "stream",
     "text": [
      "116 1228.21\n"
     ]
    },
    {
     "name": "stderr",
     "output_type": "stream",
     "text": [
      "Multiprocess sampling (2 chains in 4 jobs)\n",
      "NUTS: [logvar, flux0, T0]\n",
      "Sampling 2 chains: 100%|██████████| 3000/3000 [00:12<00:00, 339.05draws/s]\n"
     ]
    },
    {
     "name": "stdout",
     "output_type": "stream",
     "text": [
      "117 1237.13\n"
     ]
    },
    {
     "name": "stderr",
     "output_type": "stream",
     "text": [
      "Multiprocess sampling (2 chains in 4 jobs)\n",
      "NUTS: [logvar, flux0, T0]\n",
      "Sampling 2 chains: 100%|██████████| 3000/3000 [00:11<00:00, 254.44draws/s]\n"
     ]
    },
    {
     "name": "stdout",
     "output_type": "stream",
     "text": [
      "118 1246.05\n"
     ]
    },
    {
     "name": "stderr",
     "output_type": "stream",
     "text": [
      "Multiprocess sampling (2 chains in 4 jobs)\n",
      "NUTS: [logvar, flux0, T0]\n",
      "Sampling 2 chains: 100%|██████████| 3000/3000 [00:13<00:00, 217.08draws/s]\n",
      "The number of effective samples is smaller than 25% for some parameters.\n"
     ]
    },
    {
     "name": "stdout",
     "output_type": "stream",
     "text": [
      "119 1254.97\n"
     ]
    },
    {
     "name": "stderr",
     "output_type": "stream",
     "text": [
      "Multiprocess sampling (2 chains in 4 jobs)\n",
      "NUTS: [logvar, flux0, T0]\n",
      "Sampling 2 chains: 100%|██████████| 3000/3000 [00:11<00:00, 256.42draws/s]\n",
      "The number of effective samples is smaller than 25% for some parameters.\n"
     ]
    },
    {
     "name": "stdout",
     "output_type": "stream",
     "text": [
      "120 1263.89\n"
     ]
    },
    {
     "name": "stderr",
     "output_type": "stream",
     "text": [
      "Multiprocess sampling (2 chains in 4 jobs)\n",
      "NUTS: [logvar, flux0, T0]\n",
      "Sampling 2 chains: 100%|██████████| 3000/3000 [00:13<00:00, 214.98draws/s]\n",
      "The number of effective samples is smaller than 25% for some parameters.\n"
     ]
    },
    {
     "name": "stdout",
     "output_type": "stream",
     "text": [
      "121 1272.81\n"
     ]
    },
    {
     "name": "stderr",
     "output_type": "stream",
     "text": [
      "Multiprocess sampling (2 chains in 4 jobs)\n",
      "NUTS: [logvar, flux0, T0]\n",
      "Sampling 2 chains: 100%|██████████| 3000/3000 [00:11<00:00, 269.31draws/s]\n"
     ]
    },
    {
     "name": "stdout",
     "output_type": "stream",
     "text": [
      "122 1281.73\n"
     ]
    },
    {
     "name": "stderr",
     "output_type": "stream",
     "text": [
      "Multiprocess sampling (2 chains in 4 jobs)\n",
      "NUTS: [logvar, flux0, T0]\n",
      "Sampling 2 chains: 100%|██████████| 3000/3000 [00:11<00:00, 259.78draws/s]\n",
      "The estimated number of effective samples is smaller than 200 for some parameters.\n"
     ]
    },
    {
     "name": "stdout",
     "output_type": "stream",
     "text": [
      "123 1308.48\n"
     ]
    },
    {
     "name": "stderr",
     "output_type": "stream",
     "text": [
      "Multiprocess sampling (2 chains in 4 jobs)\n",
      "NUTS: [logvar, flux0, T0]\n",
      "Sampling 2 chains: 100%|██████████| 3000/3000 [00:09<00:00, 303.68draws/s]\n"
     ]
    },
    {
     "name": "stdout",
     "output_type": "stream",
     "text": [
      "124 1317.4\n"
     ]
    },
    {
     "name": "stderr",
     "output_type": "stream",
     "text": [
      "Multiprocess sampling (2 chains in 4 jobs)\n",
      "NUTS: [logvar, flux0, T0]\n",
      "Sampling 2 chains: 100%|██████████| 3000/3000 [00:09<00:00, 322.82draws/s]\n"
     ]
    },
    {
     "name": "stdout",
     "output_type": "stream",
     "text": [
      "125 1326.32\n"
     ]
    },
    {
     "name": "stderr",
     "output_type": "stream",
     "text": [
      "Multiprocess sampling (2 chains in 4 jobs)\n",
      "NUTS: [logvar, flux0, T0]\n",
      "Sampling 2 chains: 100%|██████████| 3000/3000 [00:10<00:00, 274.77draws/s]\n"
     ]
    },
    {
     "name": "stdout",
     "output_type": "stream",
     "text": [
      "126 1344.16\n"
     ]
    },
    {
     "name": "stderr",
     "output_type": "stream",
     "text": [
      "Multiprocess sampling (2 chains in 4 jobs)\n",
      "NUTS: [logvar, flux0, T0]\n",
      "Sampling 2 chains: 100%|██████████| 3000/3000 [00:10<00:00, 479.41draws/s]\n",
      "The estimated number of effective samples is smaller than 200 for some parameters.\n"
     ]
    },
    {
     "name": "stdout",
     "output_type": "stream",
     "text": [
      "127 1353.07\n"
     ]
    },
    {
     "name": "stderr",
     "output_type": "stream",
     "text": [
      "Multiprocess sampling (2 chains in 4 jobs)\n",
      "NUTS: [logvar, flux0, T0]\n",
      "Sampling 2 chains: 100%|██████████| 3000/3000 [00:10<00:00, 275.78draws/s]\n",
      "The number of effective samples is smaller than 25% for some parameters.\n"
     ]
    },
    {
     "name": "stdout",
     "output_type": "stream",
     "text": [
      "128 1361.99\n"
     ]
    },
    {
     "name": "stderr",
     "output_type": "stream",
     "text": [
      "Multiprocess sampling (2 chains in 4 jobs)\n",
      "NUTS: [logvar, flux0, T0]\n",
      "Sampling 2 chains: 100%|██████████| 3000/3000 [00:12<00:00, 247.89draws/s]\n"
     ]
    },
    {
     "name": "stdout",
     "output_type": "stream",
     "text": [
      "129 1379.83\n"
     ]
    },
    {
     "name": "stderr",
     "output_type": "stream",
     "text": [
      "Multiprocess sampling (2 chains in 4 jobs)\n",
      "NUTS: [logvar, flux0, T0]\n",
      "Sampling 2 chains: 100%|██████████| 3000/3000 [00:15<00:00, 279.09draws/s]\n",
      "The estimated number of effective samples is smaller than 200 for some parameters.\n"
     ]
    },
    {
     "name": "stdout",
     "output_type": "stream",
     "text": [
      "130 1388.74\n"
     ]
    },
    {
     "name": "stderr",
     "output_type": "stream",
     "text": [
      "Multiprocess sampling (2 chains in 4 jobs)\n",
      "NUTS: [logvar, flux0, T0]\n",
      "Sampling 2 chains: 100%|██████████| 3000/3000 [00:10<00:00, 287.52draws/s]\n",
      "The number of effective samples is smaller than 25% for some parameters.\n"
     ]
    },
    {
     "name": "stdout",
     "output_type": "stream",
     "text": [
      "131 1397.66\n"
     ]
    },
    {
     "name": "stderr",
     "output_type": "stream",
     "text": [
      "Multiprocess sampling (2 chains in 4 jobs)\n",
      "NUTS: [logvar, flux0, T0]\n",
      "Sampling 2 chains: 100%|██████████| 3000/3000 [00:09<00:00, 328.51draws/s]\n"
     ]
    },
    {
     "name": "stdout",
     "output_type": "stream",
     "text": [
      "132 1424.41\n"
     ]
    },
    {
     "name": "stderr",
     "output_type": "stream",
     "text": [
      "Multiprocess sampling (2 chains in 4 jobs)\n",
      "NUTS: [logvar, flux0, T0]\n",
      "Sampling 2 chains: 100%|██████████| 3000/3000 [00:10<00:00, 294.28draws/s]\n"
     ]
    },
    {
     "name": "stdout",
     "output_type": "stream",
     "text": [
      "133 1433.33\n"
     ]
    },
    {
     "name": "stderr",
     "output_type": "stream",
     "text": [
      "Multiprocess sampling (2 chains in 4 jobs)\n",
      "NUTS: [logvar, flux0, T0]\n",
      "Sampling 2 chains: 100%|██████████| 3000/3000 [00:09<00:00, 316.68draws/s]\n"
     ]
    },
    {
     "name": "stdout",
     "output_type": "stream",
     "text": [
      "134 1451.16\n"
     ]
    },
    {
     "name": "stderr",
     "output_type": "stream",
     "text": [
      "Multiprocess sampling (2 chains in 4 jobs)\n",
      "NUTS: [logvar, flux0, T0]\n",
      "Sampling 2 chains: 100%|██████████| 3000/3000 [00:11<00:00, 250.65draws/s]\n",
      "The number of effective samples is smaller than 25% for some parameters.\n"
     ]
    },
    {
     "name": "stdout",
     "output_type": "stream",
     "text": [
      "135 1460.08\n"
     ]
    },
    {
     "name": "stderr",
     "output_type": "stream",
     "text": [
      "Multiprocess sampling (2 chains in 4 jobs)\n",
      "NUTS: [logvar, flux0, T0]\n",
      "Sampling 2 chains: 100%|██████████| 3000/3000 [00:10<00:00, 280.20draws/s]\n"
     ]
    },
    {
     "name": "stdout",
     "output_type": "stream",
     "text": [
      "136 1469.0\n"
     ]
    },
    {
     "name": "stderr",
     "output_type": "stream",
     "text": [
      "Multiprocess sampling (2 chains in 4 jobs)\n",
      "NUTS: [logvar, flux0, T0]\n",
      "Sampling 2 chains: 100%|██████████| 3000/3000 [00:09<00:00, 327.43draws/s]\n"
     ]
    },
    {
     "name": "stdout",
     "output_type": "stream",
     "text": [
      "137 1495.75\n"
     ]
    },
    {
     "name": "stderr",
     "output_type": "stream",
     "text": [
      "Multiprocess sampling (2 chains in 4 jobs)\n",
      "NUTS: [logvar, flux0, T0]\n",
      "Sampling 2 chains: 100%|██████████| 3000/3000 [00:09<00:00, 306.10draws/s]\n"
     ]
    },
    {
     "name": "stdout",
     "output_type": "stream",
     "text": [
      "138 1504.67\n"
     ]
    },
    {
     "name": "stderr",
     "output_type": "stream",
     "text": [
      "Multiprocess sampling (2 chains in 4 jobs)\n",
      "NUTS: [logvar, flux0, T0]\n",
      "Sampling 2 chains: 100%|██████████| 3000/3000 [00:09<00:00, 327.07draws/s]\n"
     ]
    },
    {
     "name": "stdout",
     "output_type": "stream",
     "text": [
      "139 1522.5\n"
     ]
    },
    {
     "name": "stderr",
     "output_type": "stream",
     "text": [
      "Multiprocess sampling (2 chains in 4 jobs)\n",
      "NUTS: [logvar, flux0, T0]\n",
      "Sampling 2 chains: 100%|██████████| 3000/3000 [00:10<00:00, 285.06draws/s]\n"
     ]
    },
    {
     "name": "stdout",
     "output_type": "stream",
     "text": [
      "140 1531.42\n"
     ]
    },
    {
     "name": "stderr",
     "output_type": "stream",
     "text": [
      "Multiprocess sampling (2 chains in 4 jobs)\n",
      "NUTS: [logvar, flux0, T0]\n",
      "Sampling 2 chains: 100%|██████████| 3000/3000 [00:09<00:00, 313.69draws/s]\n",
      "The number of effective samples is smaller than 25% for some parameters.\n"
     ]
    },
    {
     "name": "stdout",
     "output_type": "stream",
     "text": [
      "141 1540.34\n"
     ]
    },
    {
     "name": "stderr",
     "output_type": "stream",
     "text": [
      "Multiprocess sampling (2 chains in 4 jobs)\n",
      "NUTS: [logvar, flux0, T0]\n",
      "Sampling 2 chains: 100%|██████████| 3000/3000 [00:09<00:00, 310.82draws/s]\n"
     ]
    },
    {
     "name": "stdout",
     "output_type": "stream",
     "text": [
      "142 1558.17\n"
     ]
    },
    {
     "name": "stderr",
     "output_type": "stream",
     "text": [
      "Multiprocess sampling (2 chains in 4 jobs)\n",
      "NUTS: [logvar, flux0, T0]\n",
      "Sampling 2 chains: 100%|██████████| 3000/3000 [00:06<00:00, 497.95draws/s] \n",
      "The acceptance probability does not match the target. It is 0.7521355800170947, but should be close to 0.65. Try to increase the number of tuning steps.\n"
     ]
    },
    {
     "name": "stdout",
     "output_type": "stream",
     "text": [
      "143 1567.09\n"
     ]
    },
    {
     "name": "stderr",
     "output_type": "stream",
     "text": [
      "Multiprocess sampling (2 chains in 4 jobs)\n",
      "NUTS: [logvar, flux0, T0]\n",
      "Sampling 2 chains: 100%|██████████| 3000/3000 [00:09<00:00, 310.50draws/s]\n"
     ]
    },
    {
     "name": "stdout",
     "output_type": "stream",
     "text": [
      "144 1576.01\n"
     ]
    },
    {
     "name": "stderr",
     "output_type": "stream",
     "text": [
      "Multiprocess sampling (2 chains in 4 jobs)\n",
      "NUTS: [logvar, flux0, T0]\n",
      "Sampling 2 chains: 100%|██████████| 3000/3000 [00:11<00:00, 254.49draws/s]\n",
      "The number of effective samples is smaller than 25% for some parameters.\n"
     ]
    },
    {
     "name": "stdout",
     "output_type": "stream",
     "text": [
      "\n",
      "PLANET 2\n",
      "0 133.35\n"
     ]
    },
    {
     "name": "stderr",
     "output_type": "stream",
     "text": [
      "Multiprocess sampling (2 chains in 4 jobs)\n",
      "NUTS: [logvar, flux0, T0]\n",
      "Sampling 2 chains: 100%|██████████| 3000/3000 [00:09<00:00, 335.67draws/s]\n",
      "The estimated number of effective samples is smaller than 200 for some parameters.\n"
     ]
    },
    {
     "name": "stdout",
     "output_type": "stream",
     "text": [
      "1 145.25\n"
     ]
    },
    {
     "name": "stderr",
     "output_type": "stream",
     "text": [
      "Multiprocess sampling (2 chains in 4 jobs)\n",
      "NUTS: [logvar, flux0, T0]\n",
      "Sampling 2 chains: 100%|██████████| 3000/3000 [00:06<00:00, 442.27draws/s] \n"
     ]
    },
    {
     "name": "stdout",
     "output_type": "stream",
     "text": [
      "2 157.14\n"
     ]
    },
    {
     "name": "stderr",
     "output_type": "stream",
     "text": [
      "Multiprocess sampling (2 chains in 4 jobs)\n",
      "NUTS: [logvar, flux0, T0]\n",
      "Sampling 2 chains: 100%|██████████| 3000/3000 [00:07<00:00, 413.58draws/s]\n",
      "The number of effective samples is smaller than 25% for some parameters.\n"
     ]
    },
    {
     "name": "stdout",
     "output_type": "stream",
     "text": [
      "3 180.94\n"
     ]
    },
    {
     "name": "stderr",
     "output_type": "stream",
     "text": [
      "Multiprocess sampling (2 chains in 4 jobs)\n",
      "NUTS: [logvar, flux0, T0]\n",
      "Sampling 2 chains: 100%|██████████| 3000/3000 [00:09<00:00, 317.83draws/s]\n",
      "The number of effective samples is smaller than 25% for some parameters.\n"
     ]
    },
    {
     "name": "stdout",
     "output_type": "stream",
     "text": [
      "4 192.84\n"
     ]
    },
    {
     "name": "stderr",
     "output_type": "stream",
     "text": [
      "Multiprocess sampling (2 chains in 4 jobs)\n",
      "NUTS: [logvar, flux0, T0]\n",
      "Sampling 2 chains: 100%|██████████| 3000/3000 [00:08<00:00, 365.92draws/s] \n"
     ]
    },
    {
     "name": "stdout",
     "output_type": "stream",
     "text": [
      "5 204.74\n"
     ]
    },
    {
     "name": "stderr",
     "output_type": "stream",
     "text": [
      "Multiprocess sampling (2 chains in 4 jobs)\n",
      "NUTS: [logvar, flux0, T0]\n",
      "Sampling 2 chains: 100%|██████████| 3000/3000 [00:06<00:00, 453.22draws/s] \n"
     ]
    },
    {
     "name": "stdout",
     "output_type": "stream",
     "text": [
      "6 216.64\n"
     ]
    },
    {
     "name": "stderr",
     "output_type": "stream",
     "text": [
      "Multiprocess sampling (2 chains in 4 jobs)\n",
      "NUTS: [logvar, flux0, T0]\n",
      "Sampling 2 chains: 100%|██████████| 3000/3000 [00:08<00:00, 360.13draws/s]\n"
     ]
    },
    {
     "name": "stdout",
     "output_type": "stream",
     "text": [
      "7 228.53\n"
     ]
    },
    {
     "name": "stderr",
     "output_type": "stream",
     "text": [
      "Multiprocess sampling (2 chains in 4 jobs)\n",
      "NUTS: [logvar, flux0, T0]\n",
      "Sampling 2 chains: 100%|██████████| 3000/3000 [00:06<00:00, 443.79draws/s] \n"
     ]
    },
    {
     "name": "stdout",
     "output_type": "stream",
     "text": [
      "8 240.43\n"
     ]
    },
    {
     "name": "stderr",
     "output_type": "stream",
     "text": [
      "Multiprocess sampling (2 chains in 4 jobs)\n",
      "NUTS: [logvar, flux0, T0]\n",
      "Sampling 2 chains: 100%|██████████| 3000/3000 [00:06<00:00, 468.87draws/s] \n"
     ]
    },
    {
     "name": "stdout",
     "output_type": "stream",
     "text": [
      "9 252.33\n"
     ]
    },
    {
     "name": "stderr",
     "output_type": "stream",
     "text": [
      "Multiprocess sampling (2 chains in 4 jobs)\n",
      "NUTS: [logvar, flux0, T0]\n",
      "Sampling 2 chains: 100%|██████████| 3000/3000 [00:07<00:00, 396.82draws/s]\n"
     ]
    },
    {
     "name": "stdout",
     "output_type": "stream",
     "text": [
      "10 276.13\n"
     ]
    },
    {
     "name": "stderr",
     "output_type": "stream",
     "text": [
      "Multiprocess sampling (2 chains in 4 jobs)\n",
      "NUTS: [logvar, flux0, T0]\n",
      "Sampling 2 chains: 100%|██████████| 3000/3000 [00:08<00:00, 353.64draws/s]\n"
     ]
    },
    {
     "name": "stdout",
     "output_type": "stream",
     "text": [
      "11 288.03\n"
     ]
    },
    {
     "name": "stderr",
     "output_type": "stream",
     "text": [
      "Multiprocess sampling (2 chains in 4 jobs)\n",
      "NUTS: [logvar, flux0, T0]\n",
      "Sampling 2 chains: 100%|██████████| 3000/3000 [00:08<00:00, 356.42draws/s]\n"
     ]
    },
    {
     "name": "stdout",
     "output_type": "stream",
     "text": [
      "12 311.82\n"
     ]
    },
    {
     "name": "stderr",
     "output_type": "stream",
     "text": [
      "Multiprocess sampling (2 chains in 4 jobs)\n",
      "NUTS: [logvar, flux0, T0]\n",
      "Sampling 2 chains: 100%|██████████| 3000/3000 [00:07<00:00, 415.31draws/s] \n"
     ]
    },
    {
     "name": "stdout",
     "output_type": "stream",
     "text": [
      "13 323.72\n"
     ]
    },
    {
     "name": "stderr",
     "output_type": "stream",
     "text": [
      "Multiprocess sampling (2 chains in 4 jobs)\n",
      "NUTS: [logvar, flux0, T0]\n",
      "Sampling 2 chains: 100%|██████████| 3000/3000 [00:06<00:00, 432.13draws/s] \n"
     ]
    },
    {
     "name": "stdout",
     "output_type": "stream",
     "text": [
      "14 347.52\n"
     ]
    },
    {
     "name": "stderr",
     "output_type": "stream",
     "text": [
      "Multiprocess sampling (2 chains in 4 jobs)\n",
      "NUTS: [logvar, flux0, T0]\n",
      "Sampling 2 chains: 100%|██████████| 3000/3000 [00:09<00:00, 329.45draws/s]\n"
     ]
    },
    {
     "name": "stdout",
     "output_type": "stream",
     "text": [
      "15 359.42\n"
     ]
    },
    {
     "name": "stderr",
     "output_type": "stream",
     "text": [
      "Multiprocess sampling (2 chains in 4 jobs)\n",
      "NUTS: [logvar, flux0, T0]\n",
      "Sampling 2 chains: 100%|██████████| 3000/3000 [00:07<00:00, 402.02draws/s] \n"
     ]
    },
    {
     "name": "stdout",
     "output_type": "stream",
     "text": [
      "16 383.22\n"
     ]
    },
    {
     "name": "stderr",
     "output_type": "stream",
     "text": [
      "Multiprocess sampling (2 chains in 4 jobs)\n",
      "NUTS: [logvar, flux0, T0]\n",
      "Sampling 2 chains: 100%|██████████| 3000/3000 [00:09<00:00, 325.25draws/s]\n"
     ]
    },
    {
     "name": "stdout",
     "output_type": "stream",
     "text": [
      "17 395.11\n"
     ]
    },
    {
     "name": "stderr",
     "output_type": "stream",
     "text": [
      "Multiprocess sampling (2 chains in 4 jobs)\n",
      "NUTS: [logvar, flux0, T0]\n",
      "Sampling 2 chains: 100%|██████████| 3000/3000 [00:08<00:00, 356.40draws/s]\n"
     ]
    },
    {
     "name": "stdout",
     "output_type": "stream",
     "text": [
      "18 418.91\n"
     ]
    },
    {
     "name": "stderr",
     "output_type": "stream",
     "text": [
      "Multiprocess sampling (2 chains in 4 jobs)\n",
      "NUTS: [logvar, flux0, T0]\n",
      "Sampling 2 chains: 100%|██████████| 3000/3000 [00:08<00:00, 369.66draws/s]\n"
     ]
    },
    {
     "name": "stdout",
     "output_type": "stream",
     "text": [
      "19 430.81\n"
     ]
    },
    {
     "name": "stderr",
     "output_type": "stream",
     "text": [
      "Multiprocess sampling (2 chains in 4 jobs)\n",
      "NUTS: [logvar, flux0, T0]\n",
      "Sampling 2 chains: 100%|██████████| 3000/3000 [00:06<00:00, 455.94draws/s] \n"
     ]
    },
    {
     "name": "stdout",
     "output_type": "stream",
     "text": [
      "20 454.61\n"
     ]
    },
    {
     "name": "stderr",
     "output_type": "stream",
     "text": [
      "Multiprocess sampling (2 chains in 4 jobs)\n",
      "NUTS: [logvar, flux0, T0]\n",
      "Sampling 2 chains: 100%|██████████| 3000/3000 [00:06<00:00, 458.60draws/s] \n"
     ]
    },
    {
     "name": "stdout",
     "output_type": "stream",
     "text": [
      "21 466.5\n"
     ]
    },
    {
     "name": "stderr",
     "output_type": "stream",
     "text": [
      "Multiprocess sampling (2 chains in 4 jobs)\n",
      "NUTS: [logvar, flux0, T0]\n",
      "Sampling 2 chains: 100%|██████████| 3000/3000 [00:08<00:00, 367.64draws/s] \n"
     ]
    },
    {
     "name": "stdout",
     "output_type": "stream",
     "text": [
      "22 490.3\n"
     ]
    },
    {
     "name": "stderr",
     "output_type": "stream",
     "text": [
      "Multiprocess sampling (2 chains in 4 jobs)\n",
      "NUTS: [logvar, flux0, T0]\n",
      "Sampling 2 chains: 100%|██████████| 3000/3000 [00:07<00:00, 393.69draws/s]\n",
      "The number of effective samples is smaller than 25% for some parameters.\n"
     ]
    },
    {
     "name": "stdout",
     "output_type": "stream",
     "text": [
      "23 502.2\n"
     ]
    },
    {
     "name": "stderr",
     "output_type": "stream",
     "text": [
      "Multiprocess sampling (2 chains in 4 jobs)\n",
      "NUTS: [logvar, flux0, T0]\n",
      "Sampling 2 chains: 100%|██████████| 3000/3000 [00:06<00:00, 454.56draws/s] \n"
     ]
    },
    {
     "name": "stdout",
     "output_type": "stream",
     "text": [
      "24 526.0\n"
     ]
    },
    {
     "name": "stderr",
     "output_type": "stream",
     "text": [
      "Multiprocess sampling (2 chains in 4 jobs)\n",
      "NUTS: [logvar, flux0, T0]\n",
      "Sampling 2 chains: 100%|██████████| 3000/3000 [00:06<00:00, 462.82draws/s] \n"
     ]
    },
    {
     "name": "stdout",
     "output_type": "stream",
     "text": [
      "25 537.9\n"
     ]
    },
    {
     "name": "stderr",
     "output_type": "stream",
     "text": [
      "Multiprocess sampling (2 chains in 4 jobs)\n",
      "NUTS: [logvar, flux0, T0]\n",
      "Sampling 2 chains: 100%|██████████| 3000/3000 [00:07<00:00, 402.02draws/s]\n"
     ]
    },
    {
     "name": "stdout",
     "output_type": "stream",
     "text": [
      "26 561.69\n"
     ]
    },
    {
     "name": "stderr",
     "output_type": "stream",
     "text": [
      "Multiprocess sampling (2 chains in 4 jobs)\n",
      "NUTS: [logvar, flux0, T0]\n",
      "Sampling 2 chains: 100%|██████████| 3000/3000 [00:06<00:00, 473.98draws/s] \n"
     ]
    },
    {
     "name": "stdout",
     "output_type": "stream",
     "text": [
      "27 573.59\n"
     ]
    },
    {
     "name": "stderr",
     "output_type": "stream",
     "text": [
      "Multiprocess sampling (2 chains in 4 jobs)\n",
      "NUTS: [logvar, flux0, T0]\n",
      "Sampling 2 chains: 100%|██████████| 3000/3000 [00:06<00:00, 457.61draws/s] \n"
     ]
    },
    {
     "name": "stdout",
     "output_type": "stream",
     "text": [
      "28 597.39\n"
     ]
    },
    {
     "name": "stderr",
     "output_type": "stream",
     "text": [
      "Multiprocess sampling (2 chains in 4 jobs)\n",
      "NUTS: [logvar, flux0, T0]\n",
      "Sampling 2 chains: 100%|██████████| 3000/3000 [00:06<00:00, 469.33draws/s] \n"
     ]
    },
    {
     "name": "stdout",
     "output_type": "stream",
     "text": [
      "29 609.29\n"
     ]
    },
    {
     "name": "stderr",
     "output_type": "stream",
     "text": [
      "Multiprocess sampling (2 chains in 4 jobs)\n",
      "NUTS: [logvar, flux0, T0]\n",
      "Sampling 2 chains: 100%|██████████| 3000/3000 [00:06<00:00, 434.58draws/s] \n"
     ]
    },
    {
     "name": "stdout",
     "output_type": "stream",
     "text": [
      "30 633.08\n"
     ]
    },
    {
     "name": "stderr",
     "output_type": "stream",
     "text": [
      "Multiprocess sampling (2 chains in 4 jobs)\n",
      "NUTS: [logvar, flux0, T0]\n",
      "Sampling 2 chains: 100%|██████████| 3000/3000 [00:07<00:00, 417.82draws/s]\n",
      "The number of effective samples is smaller than 25% for some parameters.\n"
     ]
    },
    {
     "name": "stdout",
     "output_type": "stream",
     "text": [
      "31 644.98\n"
     ]
    },
    {
     "name": "stderr",
     "output_type": "stream",
     "text": [
      "Multiprocess sampling (2 chains in 4 jobs)\n",
      "NUTS: [logvar, flux0, T0]\n",
      "Sampling 2 chains: 100%|██████████| 3000/3000 [00:06<00:00, 443.26draws/s] \n"
     ]
    },
    {
     "name": "stdout",
     "output_type": "stream",
     "text": [
      "32 656.88\n"
     ]
    },
    {
     "name": "stderr",
     "output_type": "stream",
     "text": [
      "Multiprocess sampling (2 chains in 4 jobs)\n",
      "NUTS: [logvar, flux0, T0]\n",
      "Sampling 2 chains: 100%|██████████| 3000/3000 [00:06<00:00, 452.07draws/s] \n"
     ]
    },
    {
     "name": "stdout",
     "output_type": "stream",
     "text": [
      "33 668.78\n"
     ]
    },
    {
     "name": "stderr",
     "output_type": "stream",
     "text": [
      "Multiprocess sampling (2 chains in 4 jobs)\n",
      "NUTS: [logvar, flux0, T0]\n",
      "Sampling 2 chains: 100%|██████████| 3000/3000 [00:06<00:00, 458.53draws/s] \n"
     ]
    },
    {
     "name": "stdout",
     "output_type": "stream",
     "text": [
      "34 680.68\n"
     ]
    },
    {
     "name": "stderr",
     "output_type": "stream",
     "text": [
      "Multiprocess sampling (2 chains in 4 jobs)\n",
      "NUTS: [logvar, flux0, T0]\n",
      "Sampling 2 chains: 100%|██████████| 3000/3000 [00:06<00:00, 838.69draws/s] \n"
     ]
    },
    {
     "name": "stdout",
     "output_type": "stream",
     "text": [
      "35 692.58\n"
     ]
    },
    {
     "name": "stderr",
     "output_type": "stream",
     "text": [
      "Multiprocess sampling (2 chains in 4 jobs)\n",
      "NUTS: [logvar, flux0, T0]\n",
      "Sampling 2 chains: 100%|██████████| 3000/3000 [00:06<00:00, 493.07draws/s] \n"
     ]
    },
    {
     "name": "stdout",
     "output_type": "stream",
     "text": [
      "36 704.47\n"
     ]
    },
    {
     "name": "stderr",
     "output_type": "stream",
     "text": [
      "Multiprocess sampling (2 chains in 4 jobs)\n",
      "NUTS: [logvar, flux0, T0]\n",
      "Sampling 2 chains: 100%|██████████| 3000/3000 [00:06<00:00, 478.19draws/s] \n"
     ]
    },
    {
     "name": "stdout",
     "output_type": "stream",
     "text": [
      "37 716.37\n"
     ]
    },
    {
     "name": "stderr",
     "output_type": "stream",
     "text": [
      "Multiprocess sampling (2 chains in 4 jobs)\n",
      "NUTS: [logvar, flux0, T0]\n",
      "Sampling 2 chains: 100%|██████████| 3000/3000 [00:07<00:00, 411.81draws/s]\n"
     ]
    },
    {
     "name": "stdout",
     "output_type": "stream",
     "text": [
      "38 740.17\n"
     ]
    },
    {
     "name": "stderr",
     "output_type": "stream",
     "text": [
      "Multiprocess sampling (2 chains in 4 jobs)\n",
      "NUTS: [logvar, flux0, T0]\n",
      "Sampling 2 chains: 100%|██████████| 3000/3000 [00:06<00:00, 446.80draws/s] \n"
     ]
    },
    {
     "name": "stdout",
     "output_type": "stream",
     "text": [
      "39 752.07\n"
     ]
    },
    {
     "name": "stderr",
     "output_type": "stream",
     "text": [
      "Multiprocess sampling (2 chains in 4 jobs)\n",
      "NUTS: [logvar, flux0, T0]\n",
      "Sampling 2 chains: 100%|██████████| 3000/3000 [00:06<00:00, 429.22draws/s]\n"
     ]
    },
    {
     "name": "stdout",
     "output_type": "stream",
     "text": [
      "40 763.97\n"
     ]
    },
    {
     "name": "stderr",
     "output_type": "stream",
     "text": [
      "Multiprocess sampling (2 chains in 4 jobs)\n",
      "NUTS: [logvar, flux0, T0]\n",
      "Sampling 2 chains: 100%|██████████| 3000/3000 [00:06<00:00, 466.47draws/s] \n"
     ]
    },
    {
     "name": "stdout",
     "output_type": "stream",
     "text": [
      "41 775.87\n"
     ]
    },
    {
     "name": "stderr",
     "output_type": "stream",
     "text": [
      "Multiprocess sampling (2 chains in 4 jobs)\n",
      "NUTS: [logvar, flux0, T0]\n",
      "Sampling 2 chains: 100%|██████████| 3000/3000 [00:07<00:00, 427.77draws/s] \n"
     ]
    },
    {
     "name": "stdout",
     "output_type": "stream",
     "text": [
      "42 787.76\n"
     ]
    },
    {
     "name": "stderr",
     "output_type": "stream",
     "text": [
      "Multiprocess sampling (2 chains in 4 jobs)\n",
      "NUTS: [logvar, flux0, T0]\n",
      "Sampling 2 chains: 100%|██████████| 3000/3000 [00:06<00:00, 457.14draws/s] \n"
     ]
    },
    {
     "name": "stdout",
     "output_type": "stream",
     "text": [
      "43 799.66\n"
     ]
    },
    {
     "name": "stderr",
     "output_type": "stream",
     "text": [
      "Multiprocess sampling (2 chains in 4 jobs)\n",
      "NUTS: [logvar, flux0, T0]\n",
      "Sampling 2 chains: 100%|██████████| 3000/3000 [00:06<00:00, 461.72draws/s] \n"
     ]
    },
    {
     "name": "stdout",
     "output_type": "stream",
     "text": [
      "44 811.56\n"
     ]
    },
    {
     "name": "stderr",
     "output_type": "stream",
     "text": [
      "Multiprocess sampling (2 chains in 4 jobs)\n",
      "NUTS: [logvar, flux0, T0]\n",
      "Sampling 2 chains: 100%|██████████| 3000/3000 [00:06<00:00, 446.91draws/s] \n"
     ]
    },
    {
     "name": "stdout",
     "output_type": "stream",
     "text": [
      "45 823.46\n"
     ]
    },
    {
     "name": "stderr",
     "output_type": "stream",
     "text": [
      "Multiprocess sampling (2 chains in 4 jobs)\n",
      "NUTS: [logvar, flux0, T0]\n",
      "Sampling 2 chains: 100%|██████████| 3000/3000 [00:06<00:00, 463.94draws/s] \n"
     ]
    },
    {
     "name": "stdout",
     "output_type": "stream",
     "text": [
      "46 835.36\n"
     ]
    },
    {
     "name": "stderr",
     "output_type": "stream",
     "text": [
      "Multiprocess sampling (2 chains in 4 jobs)\n",
      "NUTS: [logvar, flux0, T0]\n",
      "Sampling 2 chains: 100%|██████████| 3000/3000 [00:06<00:00, 449.51draws/s] \n"
     ]
    },
    {
     "name": "stdout",
     "output_type": "stream",
     "text": [
      "47 847.26\n"
     ]
    },
    {
     "name": "stderr",
     "output_type": "stream",
     "text": [
      "Multiprocess sampling (2 chains in 4 jobs)\n",
      "NUTS: [logvar, flux0, T0]\n",
      "Sampling 2 chains: 100%|██████████| 3000/3000 [00:06<00:00, 452.77draws/s] \n"
     ]
    },
    {
     "name": "stdout",
     "output_type": "stream",
     "text": [
      "48 859.16\n"
     ]
    },
    {
     "name": "stderr",
     "output_type": "stream",
     "text": [
      "Multiprocess sampling (2 chains in 4 jobs)\n",
      "NUTS: [logvar, flux0, T0]\n",
      "Sampling 2 chains: 100%|██████████| 3000/3000 [00:06<00:00, 452.40draws/s] \n"
     ]
    },
    {
     "name": "stdout",
     "output_type": "stream",
     "text": [
      "49 871.05\n"
     ]
    },
    {
     "name": "stderr",
     "output_type": "stream",
     "text": [
      "Multiprocess sampling (2 chains in 4 jobs)\n",
      "NUTS: [logvar, flux0, T0]\n",
      "Sampling 2 chains: 100%|██████████| 3000/3000 [00:06<00:00, 469.99draws/s] \n"
     ]
    },
    {
     "name": "stdout",
     "output_type": "stream",
     "text": [
      "50 882.95\n"
     ]
    },
    {
     "name": "stderr",
     "output_type": "stream",
     "text": [
      "Multiprocess sampling (2 chains in 4 jobs)\n",
      "NUTS: [logvar, flux0, T0]\n",
      "Sampling 2 chains: 100%|██████████| 3000/3000 [00:07<00:00, 403.69draws/s]\n",
      "The number of effective samples is smaller than 25% for some parameters.\n"
     ]
    },
    {
     "name": "stdout",
     "output_type": "stream",
     "text": [
      "51 894.85\n"
     ]
    },
    {
     "name": "stderr",
     "output_type": "stream",
     "text": [
      "Multiprocess sampling (2 chains in 4 jobs)\n",
      "NUTS: [logvar, flux0, T0]\n",
      "Sampling 2 chains: 100%|██████████| 3000/3000 [00:06<00:00, 487.17draws/s] \n"
     ]
    },
    {
     "name": "stdout",
     "output_type": "stream",
     "text": [
      "52 906.75\n"
     ]
    },
    {
     "name": "stderr",
     "output_type": "stream",
     "text": [
      "Multiprocess sampling (2 chains in 4 jobs)\n",
      "NUTS: [logvar, flux0, T0]\n",
      "Sampling 2 chains: 100%|██████████| 3000/3000 [00:06<00:00, 496.19draws/s] \n"
     ]
    },
    {
     "name": "stdout",
     "output_type": "stream",
     "text": [
      "53 918.65\n"
     ]
    },
    {
     "name": "stderr",
     "output_type": "stream",
     "text": [
      "Multiprocess sampling (2 chains in 4 jobs)\n",
      "NUTS: [logvar, flux0, T0]\n",
      "Sampling 2 chains: 100%|██████████| 3000/3000 [00:06<00:00, 462.74draws/s] \n"
     ]
    },
    {
     "name": "stdout",
     "output_type": "stream",
     "text": [
      "54 930.55\n"
     ]
    },
    {
     "name": "stderr",
     "output_type": "stream",
     "text": [
      "Multiprocess sampling (2 chains in 4 jobs)\n",
      "NUTS: [logvar, flux0, T0]\n",
      "Sampling 2 chains: 100%|██████████| 3000/3000 [00:06<00:00, 478.46draws/s] \n"
     ]
    },
    {
     "name": "stdout",
     "output_type": "stream",
     "text": [
      "55 942.44\n"
     ]
    },
    {
     "name": "stderr",
     "output_type": "stream",
     "text": [
      "Multiprocess sampling (2 chains in 4 jobs)\n",
      "NUTS: [logvar, flux0, T0]\n",
      "Sampling 2 chains: 100%|██████████| 3000/3000 [00:06<00:00, 433.82draws/s] \n"
     ]
    },
    {
     "name": "stdout",
     "output_type": "stream",
     "text": [
      "56 954.34\n"
     ]
    },
    {
     "name": "stderr",
     "output_type": "stream",
     "text": [
      "Multiprocess sampling (2 chains in 4 jobs)\n",
      "NUTS: [logvar, flux0, T0]\n",
      "Sampling 2 chains: 100%|██████████| 3000/3000 [00:07<00:00, 404.98draws/s] \n"
     ]
    },
    {
     "name": "stdout",
     "output_type": "stream",
     "text": [
      "57 966.24\n"
     ]
    },
    {
     "name": "stderr",
     "output_type": "stream",
     "text": [
      "Multiprocess sampling (2 chains in 4 jobs)\n",
      "NUTS: [logvar, flux0, T0]\n",
      "Sampling 2 chains: 100%|██████████| 3000/3000 [00:07<00:00, 405.44draws/s]\n"
     ]
    },
    {
     "name": "stdout",
     "output_type": "stream",
     "text": [
      "58 978.14\n"
     ]
    },
    {
     "name": "stderr",
     "output_type": "stream",
     "text": [
      "Multiprocess sampling (2 chains in 4 jobs)\n",
      "NUTS: [logvar, flux0, T0]\n",
      "Sampling 2 chains: 100%|██████████| 3000/3000 [00:07<00:00, 393.92draws/s]\n"
     ]
    },
    {
     "name": "stdout",
     "output_type": "stream",
     "text": [
      "59 990.04\n"
     ]
    },
    {
     "name": "stderr",
     "output_type": "stream",
     "text": [
      "Multiprocess sampling (2 chains in 4 jobs)\n",
      "NUTS: [logvar, flux0, T0]\n",
      "Sampling 2 chains: 100%|██████████| 3000/3000 [00:07<00:00, 427.74draws/s] \n"
     ]
    },
    {
     "name": "stdout",
     "output_type": "stream",
     "text": [
      "60 1001.94\n"
     ]
    },
    {
     "name": "stderr",
     "output_type": "stream",
     "text": [
      "Multiprocess sampling (2 chains in 4 jobs)\n",
      "NUTS: [logvar, flux0, T0]\n",
      "Sampling 2 chains: 100%|██████████| 3000/3000 [00:07<00:00, 421.07draws/s] \n"
     ]
    },
    {
     "name": "stdout",
     "output_type": "stream",
     "text": [
      "61 1013.84\n"
     ]
    },
    {
     "name": "stderr",
     "output_type": "stream",
     "text": [
      "Multiprocess sampling (2 chains in 4 jobs)\n",
      "NUTS: [logvar, flux0, T0]\n",
      "Sampling 2 chains: 100%|██████████| 3000/3000 [00:08<00:00, 350.14draws/s]\n"
     ]
    },
    {
     "name": "stdout",
     "output_type": "stream",
     "text": [
      "62 1025.73\n"
     ]
    },
    {
     "name": "stderr",
     "output_type": "stream",
     "text": [
      "Multiprocess sampling (2 chains in 4 jobs)\n",
      "NUTS: [logvar, flux0, T0]\n",
      "Sampling 2 chains: 100%|██████████| 3000/3000 [00:05<00:00, 538.23draws/s] \n"
     ]
    },
    {
     "name": "stdout",
     "output_type": "stream",
     "text": [
      "63 1037.63\n"
     ]
    },
    {
     "name": "stderr",
     "output_type": "stream",
     "text": [
      "Multiprocess sampling (2 chains in 4 jobs)\n",
      "NUTS: [logvar, flux0, T0]\n",
      "Sampling 2 chains: 100%|██████████| 3000/3000 [00:06<00:00, 447.10draws/s] \n",
      "The number of effective samples is smaller than 25% for some parameters.\n"
     ]
    },
    {
     "name": "stdout",
     "output_type": "stream",
     "text": [
      "64 1049.53\n"
     ]
    },
    {
     "name": "stderr",
     "output_type": "stream",
     "text": [
      "Multiprocess sampling (2 chains in 4 jobs)\n",
      "NUTS: [logvar, flux0, T0]\n",
      "Sampling 2 chains: 100%|██████████| 3000/3000 [00:06<00:00, 480.80draws/s] \n"
     ]
    },
    {
     "name": "stdout",
     "output_type": "stream",
     "text": [
      "65 1061.43\n"
     ]
    },
    {
     "name": "stderr",
     "output_type": "stream",
     "text": [
      "Multiprocess sampling (2 chains in 4 jobs)\n",
      "NUTS: [logvar, flux0, T0]\n",
      "Sampling 2 chains: 100%|██████████| 3000/3000 [00:06<00:00, 474.90draws/s] \n"
     ]
    },
    {
     "name": "stdout",
     "output_type": "stream",
     "text": [
      "66 1073.33\n"
     ]
    },
    {
     "name": "stderr",
     "output_type": "stream",
     "text": [
      "Multiprocess sampling (2 chains in 4 jobs)\n",
      "NUTS: [logvar, flux0, T0]\n",
      "Sampling 2 chains: 100%|██████████| 3000/3000 [00:07<00:00, 413.27draws/s] \n"
     ]
    },
    {
     "name": "stdout",
     "output_type": "stream",
     "text": [
      "67 1085.23\n"
     ]
    },
    {
     "name": "stderr",
     "output_type": "stream",
     "text": [
      "Multiprocess sampling (2 chains in 4 jobs)\n",
      "NUTS: [logvar, flux0, T0]\n",
      "Sampling 2 chains: 100%|██████████| 3000/3000 [00:06<00:00, 445.74draws/s] \n"
     ]
    },
    {
     "name": "stdout",
     "output_type": "stream",
     "text": [
      "68 1097.12\n"
     ]
    },
    {
     "name": "stderr",
     "output_type": "stream",
     "text": [
      "Multiprocess sampling (2 chains in 4 jobs)\n",
      "NUTS: [logvar, flux0, T0]\n",
      "Sampling 2 chains: 100%|██████████| 3000/3000 [00:06<00:00, 491.17draws/s] \n"
     ]
    },
    {
     "name": "stdout",
     "output_type": "stream",
     "text": [
      "69 1109.02\n"
     ]
    },
    {
     "name": "stderr",
     "output_type": "stream",
     "text": [
      "Multiprocess sampling (2 chains in 4 jobs)\n",
      "NUTS: [logvar, flux0, T0]\n",
      "Sampling 2 chains: 100%|██████████| 3000/3000 [00:08<00:00, 345.07draws/s]\n"
     ]
    },
    {
     "name": "stdout",
     "output_type": "stream",
     "text": [
      "70 1120.92\n"
     ]
    },
    {
     "name": "stderr",
     "output_type": "stream",
     "text": [
      "Multiprocess sampling (2 chains in 4 jobs)\n",
      "NUTS: [logvar, flux0, T0]\n",
      "Sampling 2 chains: 100%|██████████| 3000/3000 [00:09<00:00, 300.12draws/s]\n"
     ]
    },
    {
     "name": "stdout",
     "output_type": "stream",
     "text": [
      "71 1132.82\n"
     ]
    },
    {
     "name": "stderr",
     "output_type": "stream",
     "text": [
      "Multiprocess sampling (2 chains in 4 jobs)\n",
      "NUTS: [logvar, flux0, T0]\n",
      "Sampling 2 chains: 100%|██████████| 3000/3000 [00:08<00:00, 348.92draws/s]\n"
     ]
    },
    {
     "name": "stdout",
     "output_type": "stream",
     "text": [
      "72 1144.72\n"
     ]
    },
    {
     "name": "stderr",
     "output_type": "stream",
     "text": [
      "Multiprocess sampling (2 chains in 4 jobs)\n",
      "NUTS: [logvar, flux0, T0]\n",
      "Sampling 2 chains: 100%|██████████| 3000/3000 [00:08<00:00, 366.25draws/s]\n"
     ]
    },
    {
     "name": "stdout",
     "output_type": "stream",
     "text": [
      "73 1156.62\n"
     ]
    },
    {
     "name": "stderr",
     "output_type": "stream",
     "text": [
      "Multiprocess sampling (2 chains in 4 jobs)\n",
      "NUTS: [logvar, flux0, T0]\n",
      "Sampling 2 chains: 100%|██████████| 3000/3000 [00:10<00:00, 284.95draws/s]\n"
     ]
    },
    {
     "name": "stdout",
     "output_type": "stream",
     "text": [
      "74 1168.52\n"
     ]
    },
    {
     "name": "stderr",
     "output_type": "stream",
     "text": [
      "Multiprocess sampling (2 chains in 4 jobs)\n",
      "NUTS: [logvar, flux0, T0]\n",
      "Sampling 2 chains: 100%|██████████| 3000/3000 [00:09<00:00, 314.98draws/s]\n"
     ]
    },
    {
     "name": "stdout",
     "output_type": "stream",
     "text": [
      "75 1180.41\n"
     ]
    },
    {
     "name": "stderr",
     "output_type": "stream",
     "text": [
      "Multiprocess sampling (2 chains in 4 jobs)\n",
      "NUTS: [logvar, flux0, T0]\n",
      "Sampling 2 chains: 100%|██████████| 3000/3000 [00:08<00:00, 357.95draws/s] \n"
     ]
    },
    {
     "name": "stdout",
     "output_type": "stream",
     "text": [
      "76 1192.31\n"
     ]
    },
    {
     "name": "stderr",
     "output_type": "stream",
     "text": [
      "Multiprocess sampling (2 chains in 4 jobs)\n",
      "NUTS: [logvar, flux0, T0]\n",
      "Sampling 2 chains: 100%|██████████| 3000/3000 [00:07<00:00, 392.63draws/s] \n"
     ]
    },
    {
     "name": "stdout",
     "output_type": "stream",
     "text": [
      "77 1204.21\n"
     ]
    },
    {
     "name": "stderr",
     "output_type": "stream",
     "text": [
      "Multiprocess sampling (2 chains in 4 jobs)\n",
      "NUTS: [logvar, flux0, T0]\n",
      "Sampling 2 chains: 100%|██████████| 3000/3000 [00:07<00:00, 384.06draws/s]\n"
     ]
    },
    {
     "name": "stdout",
     "output_type": "stream",
     "text": [
      "78 1216.11\n"
     ]
    },
    {
     "name": "stderr",
     "output_type": "stream",
     "text": [
      "Multiprocess sampling (2 chains in 4 jobs)\n",
      "NUTS: [logvar, flux0, T0]\n",
      "Sampling 2 chains: 100%|██████████| 3000/3000 [00:07<00:00, 375.82draws/s]\n"
     ]
    },
    {
     "name": "stdout",
     "output_type": "stream",
     "text": [
      "79 1228.01\n"
     ]
    },
    {
     "name": "stderr",
     "output_type": "stream",
     "text": [
      "Multiprocess sampling (2 chains in 4 jobs)\n",
      "NUTS: [logvar, flux0, T0]\n",
      "Sampling 2 chains: 100%|██████████| 3000/3000 [00:08<00:00, 341.47draws/s]\n"
     ]
    },
    {
     "name": "stdout",
     "output_type": "stream",
     "text": [
      "80 1239.91\n"
     ]
    },
    {
     "name": "stderr",
     "output_type": "stream",
     "text": [
      "Multiprocess sampling (2 chains in 4 jobs)\n",
      "NUTS: [logvar, flux0, T0]\n",
      "Sampling 2 chains: 100%|██████████| 3000/3000 [00:07<00:00, 383.70draws/s]\n"
     ]
    },
    {
     "name": "stdout",
     "output_type": "stream",
     "text": [
      "81 1251.81\n"
     ]
    },
    {
     "name": "stderr",
     "output_type": "stream",
     "text": [
      "Multiprocess sampling (2 chains in 4 jobs)\n",
      "NUTS: [logvar, flux0, T0]\n",
      "Sampling 2 chains: 100%|██████████| 3000/3000 [00:07<00:00, 380.37draws/s] \n"
     ]
    },
    {
     "name": "stdout",
     "output_type": "stream",
     "text": [
      "82 1263.7\n"
     ]
    },
    {
     "name": "stderr",
     "output_type": "stream",
     "text": [
      "Multiprocess sampling (2 chains in 4 jobs)\n",
      "NUTS: [logvar, flux0, T0]\n",
      "Sampling 2 chains: 100%|██████████| 3000/3000 [00:10<00:00, 273.37draws/s]\n",
      "The estimated number of effective samples is smaller than 200 for some parameters.\n"
     ]
    },
    {
     "name": "stdout",
     "output_type": "stream",
     "text": [
      "83 1275.6\n"
     ]
    },
    {
     "name": "stderr",
     "output_type": "stream",
     "text": [
      "Multiprocess sampling (2 chains in 4 jobs)\n",
      "NUTS: [logvar, flux0, T0]\n",
      "Sampling 2 chains: 100%|██████████| 3000/3000 [00:08<00:00, 336.87draws/s] \n"
     ]
    },
    {
     "name": "stdout",
     "output_type": "stream",
     "text": [
      "84 1287.5\n"
     ]
    },
    {
     "name": "stderr",
     "output_type": "stream",
     "text": [
      "Multiprocess sampling (2 chains in 4 jobs)\n",
      "NUTS: [logvar, flux0, T0]\n",
      "Sampling 2 chains: 100%|██████████| 3000/3000 [00:08<00:00, 339.72draws/s]\n"
     ]
    },
    {
     "name": "stdout",
     "output_type": "stream",
     "text": [
      "85 1311.3\n"
     ]
    },
    {
     "name": "stderr",
     "output_type": "stream",
     "text": [
      "Multiprocess sampling (2 chains in 4 jobs)\n",
      "NUTS: [logvar, flux0, T0]\n",
      "Sampling 2 chains: 100%|██████████| 3000/3000 [00:08<00:00, 351.76draws/s]\n"
     ]
    },
    {
     "name": "stdout",
     "output_type": "stream",
     "text": [
      "86 1323.2\n"
     ]
    },
    {
     "name": "stderr",
     "output_type": "stream",
     "text": [
      "Multiprocess sampling (2 chains in 4 jobs)\n",
      "NUTS: [logvar, flux0, T0]\n",
      "Sampling 2 chains: 100%|██████████| 3000/3000 [00:09<00:00, 322.56draws/s]\n"
     ]
    },
    {
     "name": "stdout",
     "output_type": "stream",
     "text": [
      "87 1346.99\n"
     ]
    },
    {
     "name": "stderr",
     "output_type": "stream",
     "text": [
      "Multiprocess sampling (2 chains in 4 jobs)\n",
      "NUTS: [logvar, flux0, T0]\n",
      "Sampling 2 chains: 100%|██████████| 3000/3000 [00:11<00:00, 272.63draws/s]\n",
      "The estimated number of effective samples is smaller than 200 for some parameters.\n"
     ]
    },
    {
     "name": "stdout",
     "output_type": "stream",
     "text": [
      "88 1358.89\n"
     ]
    },
    {
     "name": "stderr",
     "output_type": "stream",
     "text": [
      "Multiprocess sampling (2 chains in 4 jobs)\n",
      "NUTS: [logvar, flux0, T0]\n",
      "Sampling 2 chains: 100%|██████████| 3000/3000 [00:10<00:00, 298.59draws/s]\n"
     ]
    },
    {
     "name": "stdout",
     "output_type": "stream",
     "text": [
      "89 1382.69\n"
     ]
    },
    {
     "name": "stderr",
     "output_type": "stream",
     "text": [
      "Multiprocess sampling (2 chains in 4 jobs)\n",
      "NUTS: [logvar, flux0, T0]\n",
      "Sampling 2 chains: 100%|██████████| 3000/3000 [00:09<00:00, 331.41draws/s]\n"
     ]
    },
    {
     "name": "stdout",
     "output_type": "stream",
     "text": [
      "90 1394.59\n"
     ]
    },
    {
     "name": "stderr",
     "output_type": "stream",
     "text": [
      "Multiprocess sampling (2 chains in 4 jobs)\n",
      "NUTS: [logvar, flux0, T0]\n",
      "Sampling 2 chains: 100%|██████████| 3000/3000 [00:09<00:00, 316.95draws/s]\n"
     ]
    },
    {
     "name": "stdout",
     "output_type": "stream",
     "text": [
      "91 1418.38\n"
     ]
    },
    {
     "name": "stderr",
     "output_type": "stream",
     "text": [
      "Multiprocess sampling (2 chains in 4 jobs)\n",
      "NUTS: [logvar, flux0, T0]\n",
      "Sampling 2 chains: 100%|██████████| 3000/3000 [00:06<00:00, 442.62draws/s] \n"
     ]
    },
    {
     "name": "stdout",
     "output_type": "stream",
     "text": [
      "92 1430.28\n"
     ]
    },
    {
     "name": "stderr",
     "output_type": "stream",
     "text": [
      "Multiprocess sampling (2 chains in 4 jobs)\n",
      "NUTS: [logvar, flux0, T0]\n",
      "Sampling 2 chains: 100%|██████████| 3000/3000 [00:08<00:00, 335.95draws/s]\n"
     ]
    },
    {
     "name": "stdout",
     "output_type": "stream",
     "text": [
      "93 1454.08\n"
     ]
    },
    {
     "name": "stderr",
     "output_type": "stream",
     "text": [
      "Multiprocess sampling (2 chains in 4 jobs)\n",
      "NUTS: [logvar, flux0, T0]\n",
      "Sampling 2 chains: 100%|██████████| 3000/3000 [00:08<00:00, 343.67draws/s]\n"
     ]
    },
    {
     "name": "stdout",
     "output_type": "stream",
     "text": [
      "94 1465.98\n"
     ]
    },
    {
     "name": "stderr",
     "output_type": "stream",
     "text": [
      "Multiprocess sampling (2 chains in 4 jobs)\n",
      "NUTS: [logvar, flux0, T0]\n",
      "Sampling 2 chains: 100%|██████████| 3000/3000 [00:09<00:00, 305.03draws/s]\n"
     ]
    },
    {
     "name": "stdout",
     "output_type": "stream",
     "text": [
      "95 1489.78\n"
     ]
    },
    {
     "name": "stderr",
     "output_type": "stream",
     "text": [
      "Multiprocess sampling (2 chains in 4 jobs)\n",
      "NUTS: [logvar, flux0, T0]\n",
      "Sampling 2 chains: 100%|██████████| 3000/3000 [00:08<00:00, 347.71draws/s]\n"
     ]
    },
    {
     "name": "stdout",
     "output_type": "stream",
     "text": [
      "96 1501.67\n"
     ]
    },
    {
     "name": "stderr",
     "output_type": "stream",
     "text": [
      "Multiprocess sampling (2 chains in 4 jobs)\n",
      "NUTS: [logvar, flux0, T0]\n",
      "Sampling 2 chains: 100%|██████████| 3000/3000 [00:09<00:00, 332.96draws/s]\n"
     ]
    },
    {
     "name": "stdout",
     "output_type": "stream",
     "text": [
      "97 1537.37\n"
     ]
    },
    {
     "name": "stderr",
     "output_type": "stream",
     "text": [
      "Multiprocess sampling (2 chains in 4 jobs)\n",
      "NUTS: [logvar, flux0, T0]\n",
      "Sampling 2 chains: 100%|██████████| 3000/3000 [00:09<00:00, 320.70draws/s]\n"
     ]
    },
    {
     "name": "stdout",
     "output_type": "stream",
     "text": [
      "98 1561.17\n"
     ]
    },
    {
     "name": "stderr",
     "output_type": "stream",
     "text": [
      "Multiprocess sampling (2 chains in 4 jobs)\n",
      "NUTS: [logvar, flux0, T0]\n",
      "Sampling 2 chains: 100%|██████████| 3000/3000 [00:08<00:00, 336.68draws/s]\n"
     ]
    },
    {
     "name": "stdout",
     "output_type": "stream",
     "text": [
      "99 1573.06\n"
     ]
    },
    {
     "name": "stderr",
     "output_type": "stream",
     "text": [
      "Multiprocess sampling (2 chains in 4 jobs)\n",
      "NUTS: [logvar, flux0, T0]\n",
      "Sampling 2 chains: 100%|██████████| 3000/3000 [00:08<00:00, 370.37draws/s] \n"
     ]
    }
   ],
   "source": [
    "single_tts  = []\n",
    "\n",
    "for npl, p in enumerate(planets):\n",
    "    print(\"\\nPLANET\", npl)\n",
    "    \n",
    "    single_tts.append([])\n",
    "    \n",
    "    for i, t0 in enumerate(p.tts[p.quality*~p.overlap]):\n",
    "        \n",
    "        print(i, np.round(t0,2))\n",
    "\n",
    "        # first grab the photometry data\n",
    "        if sc is not None:\n",
    "            use_sc = np.abs(sc.time - t0) < 1.5*p.duration\n",
    "\n",
    "        if lc is not None:\n",
    "            use_lc = np.abs(lc.time - t0) < 1.5*p.duration\n",
    "\n",
    "\n",
    "        if (np.sum(use_sc) > 0)*(np.sum(use_lc) > 0):\n",
    "            raise ValueError(\"Double counting data in both short and long cadence\")\n",
    "\n",
    "        elif np.sum(use_sc) > 0:\n",
    "            xtime = sc.time[use_sc]\n",
    "            yflux = sc.flux[use_sc]\n",
    "            dtype = \"short\"\n",
    "\n",
    "        elif np.sum(use_lc) > 0:\n",
    "            xtime = lc.time[use_lc]\n",
    "            yflux = lc.flux[use_lc]\n",
    "            dtype = \"long\"\n",
    "\n",
    "        else:\n",
    "            raise ValueError(\"Expected either short or long cadence data\")\n",
    "\n",
    "\n",
    "        # next set up the model\n",
    "        with pm.Model() as single_model:\n",
    "            # single phyisical parameter (epoch)\n",
    "            T0 = pm.Normal(\"T0\", mu=t0, sd=p.duration/3)\n",
    "\n",
    "            # nuissance parameters\n",
    "            flux0 = pm.Normal(\"flux0\", mu=1.0, sd=np.std(yflux))\n",
    "            logvar = pm.Normal(\"logvar\", mu=np.log(np.var(yflux)), sd=np.log(4))\n",
    "\n",
    "\n",
    "            # set up stellar model and planetary orbit\n",
    "            exoSLC = exo.StarryLightCurve(u)\n",
    "            orbit  = exo.orbits.KeplerianOrbit(period=periods[npl], t0=T0, b=b[npl], \n",
    "                                               r_star=Rstar, m_star=Mstar)\n",
    "\n",
    "            # set oversampling factor\n",
    "            if dtype == 'short':\n",
    "                oversample = 1\n",
    "            elif dtype == 'long':\n",
    "                oversample = 15\n",
    "\n",
    "            # calculate light curves\n",
    "            light_curves = exoSLC.get_light_curve(orbit=orbit, r=radii[npl], t=xtime, oversample=oversample)\n",
    "            summed_light_curve = pm.math.sum(light_curves, axis=-1) + flux0*T.ones(len(xtime))\n",
    "            model_flux = pm.Deterministic('model_flux', summed_light_curve)\n",
    "\n",
    "\n",
    "            # here's the likelihood\n",
    "            obs = pm.Normal(\"obs\", mu=model_flux, sd=T.sqrt(T.exp(logvar)), observed=yflux)\n",
    "\n",
    "\n",
    "        with single_model:\n",
    "            single_trace = pm.sample(tune=1000, draws=500, start=single_model.test_point, chains=2, \n",
    "                                     step=exo.get_dense_nuts_step(target_accept=0.65))\n",
    "\n",
    "\n",
    "        single_tts[npl].append((np.median(single_trace[\"T0\"]), np.std(single_trace[\"T0\"])))"
   ]
  },
  {
   "cell_type": "code",
   "execution_count": 41,
   "metadata": {},
   "outputs": [],
   "source": [
    "single_inds = []\n",
    "\n",
    "for npl, p in enumerate(planets):\n",
    "    single_inds.append([])\n",
    "    for i, ind in enumerate(p.index[p.quality*~p.overlap]):\n",
    "        single_inds[npl].append(ind)\n",
    "        \n",
    "        \n",
    "for npl in range(NPL):\n",
    "    single_tts[npl] = np.asarray(single_tts[npl])"
   ]
  },
  {
   "cell_type": "code",
   "execution_count": 49,
   "metadata": {},
   "outputs": [
    {
     "data": {
      "image/png": "[encoded data removed]",
      "text/plain": [
       "<Figure size 864x576 with 3 Axes>"
      ]
     },
     "metadata": {
      "needs_background": "light"
     },
     "output_type": "display_data"
    }
   ],
   "source": [
    "indep_transit_times = []\n",
    "indep_ephemeris = []\n",
    "full_indep_ephemeris = []\n",
    "\n",
    "fig, axes = plt.subplots(NPL, figsize=(12,8))\n",
    "\n",
    "for npl, p in enumerate(planets):\n",
    "    inds  = single_inds[npl]\n",
    "    xtime = single_tts[npl][:,0]\n",
    "    xerr  = single_tts[npl][:,1]\n",
    "    ephem = np.polyval(np.polyfit(inds, xtime, 1, w=1/xerr), inds)\n",
    "    yomc  = (xtime - ephem)*24*60\n",
    "    \n",
    "    indep_transit_times.append(xtime)\n",
    "    indep_ephemeris.append(ephem)\n",
    "    full_indep_ephemeris.append(np.polyval(np.polyfit(inds, xtime, 1, w=1/xerr), p.index))\n",
    "    \n",
    "    \n",
    "    axes[npl].errorbar(xtime, yomc, yerr=xerr*24*60, fmt='.', color='C{0}'.format(npl))\n",
    "    axes[npl].set_ylabel('O-C [min]', fontsize=20)\n",
    "axes[NPL-1].set_xlabel('Time [BJKD]', fontsize=20)\n",
    "#plt.savefig(FIGURE_DIR + TARGET + '_ttvs_quick.pdf', bbox_inches='tight')\n",
    "plt.show()"
   ]
  },
  {
   "cell_type": "code",
   "execution_count": 51,
   "metadata": {},
   "outputs": [],
   "source": [
    "# get estimate of ttv amplitude and a reasonable buffer\n",
    "ttv_amps   = np.zeros(NPL)\n",
    "ttv_buffer = np.zeros(NPL)\n",
    "\n",
    "for npl in range(NPL):\n",
    "    # estimate TTV amplitude\n",
    "    ttv_amps[npl] = astropy.stats.mad_std(indep_transit_times[npl] - indep_ephemeris[npl])\n",
    "\n",
    "    # based on scatter in independent times, set threshold so not even one outlier is expected\n",
    "    N   = len(transit_inds[npl])\n",
    "    eta = np.max([3., stats.norm.interval((N-1)/N)[1]])\n",
    "\n",
    "    ttv_buffer[npl] = eta*ttv_amps[npl]"
   ]
  },
  {
   "cell_type": "code",
   "execution_count": 55,
   "metadata": {},
   "outputs": [],
   "source": [
    "# Save fixed ephemeris and independent TTV measurements to a text file\n",
    "for npl in range(NPL):\n",
    "    data_out  = np.vstack([single_inds[npl], single_tts[npl][:,0], single_tts[npl][:,1]]).swapaxes(0,1)\n",
    "    fname_out = QUICK_TTV_DIR + TARGET + '_{:02d}'.format(npl) + '_quick_ttvs.txt'\n",
    "    \n",
    "    np.savetxt(fname_out, data_out, fmt=('%1d', '%.8f', '%.8f'), delimiter='\\t')"
   ]
  },
  {
   "cell_type": "code",
   "execution_count": 53,
   "metadata": {},
   "outputs": [
    {
     "name": "stdout",
     "output_type": "stream",
     "text": [
      "\n",
      "cumulative runtime =  9716 s\n",
      "\n"
     ]
    }
   ],
   "source": [
    "print('')\n",
    "print('cumulative runtime = ', int(timer() - global_start_time), 's')\n",
    "print('')"
   ]
  },
  {
   "cell_type": "markdown",
   "metadata": {},
   "source": [
    "# Fit a Matern-3/2 kernel GP directly to the independent TTVs"
   ]
  },
  {
   "cell_type": "code",
   "execution_count": 50,
   "metadata": {
    "scrolled": false
   },
   "outputs": [
    {
     "name": "stdout",
     "output_type": "stream",
     "text": [
      "\n",
      "PLANET 0\n",
      "\n",
      "iteration 1\n"
     ]
    },
    {
     "name": "stderr",
     "output_type": "stream",
     "text": [
      "Multiprocess sampling (2 chains in 4 jobs)\n",
      "NUTS: [logvar, mean, log_rho_off, log_sigma]\n",
      "Sampling 2 chains: 100%|██████████| 14000/14000 [00:19<00:00, 719.11draws/s]\n",
      "Sequential sampling (1 chains in 1 job)\n",
      "NUTS: [tau, mu, w]\n",
      "100%|██████████| 4000/4000 [00:16<00:00, 240.27it/s]\n",
      "Only one chain was sampled, this makes it impossible to run some convergence checks\n"
     ]
    },
    {
     "name": "stdout",
     "output_type": "stream",
     "text": [
      "loc [-0.00605136]\n",
      "scale [0.96046346 1.05027287]\n",
      "7 outliers found out of 180 transit times (4.0%)\n",
      "\n",
      "iteration 2\n"
     ]
    },
    {
     "name": "stderr",
     "output_type": "stream",
     "text": [
      "Multiprocess sampling (2 chains in 4 jobs)\n",
      "NUTS: [logvar, mean, log_rho_off, log_sigma]\n",
      "Sampling 2 chains: 100%|██████████| 14000/14000 [00:19<00:00, 700.55draws/s]\n"
     ]
    },
    {
     "name": "stdout",
     "output_type": "stream",
     "text": [
      "BAD FRACTION = 0.0\n"
     ]
    },
    {
     "data": {
      "image/png": "[encoded data removed]",
      "text/plain": [
       "<Figure size 864x288 with 1 Axes>"
      ]
     },
     "metadata": {
      "needs_background": "light"
     },
     "output_type": "display_data"
    },
    {
     "name": "stdout",
     "output_type": "stream",
     "text": [
      "\n",
      "PLANET 1\n",
      "\n",
      "iteration 1\n"
     ]
    },
    {
     "name": "stderr",
     "output_type": "stream",
     "text": [
      "Multiprocess sampling (2 chains in 4 jobs)\n",
      "NUTS: [logvar, mean, log_rho_off, log_sigma]\n",
      "Sampling 2 chains: 100%|██████████| 14000/14000 [00:20<00:00, 682.30draws/s] \n",
      "Sequential sampling (1 chains in 1 job)\n",
      "NUTS: [tau, mu, w]\n",
      "100%|██████████| 4000/4000 [00:09<00:00, 413.26it/s]\n",
      "Only one chain was sampled, this makes it impossible to run some convergence checks\n"
     ]
    },
    {
     "name": "stdout",
     "output_type": "stream",
     "text": [
      "loc [0.02436689]\n",
      "scale [1.93640115 0.69061126]\n",
      "22 outliers found out of 145 transit times (15.0%)\n",
      "\n",
      "iteration 2\n"
     ]
    },
    {
     "name": "stderr",
     "output_type": "stream",
     "text": [
      "Multiprocess sampling (2 chains in 4 jobs)\n",
      "NUTS: [logvar, mean, log_rho_off, log_sigma]\n",
      "Sampling 2 chains: 100%|██████████| 14000/14000 [00:20<00:00, 676.22draws/s]\n"
     ]
    },
    {
     "name": "stdout",
     "output_type": "stream",
     "text": [
      "BAD FRACTION = 0.0\n"
     ]
    },
    {
     "data": {
      "image/png": "[encoded data removed]",
      "text/plain": [
       "<Figure size 864x288 with 1 Axes>"
      ]
     },
     "metadata": {
      "needs_background": "light"
     },
     "output_type": "display_data"
    },
    {
     "name": "stdout",
     "output_type": "stream",
     "text": [
      "\n",
      "PLANET 2\n",
      "\n",
      "iteration 1\n"
     ]
    },
    {
     "name": "stderr",
     "output_type": "stream",
     "text": [
      "Multiprocess sampling (2 chains in 4 jobs)\n",
      "NUTS: [logvar, mean, log_rho_off, log_sigma]\n",
      "Sampling 2 chains: 100%|██████████| 14000/14000 [00:20<00:00, 671.20draws/s]\n",
      "Sequential sampling (1 chains in 1 job)\n",
      "NUTS: [tau, mu, w]\n",
      "100%|██████████| 4000/4000 [00:15<00:00, 253.87it/s]\n",
      "Only one chain was sampled, this makes it impossible to run some convergence checks\n"
     ]
    },
    {
     "name": "stdout",
     "output_type": "stream",
     "text": [
      "loc [-0.00168918]\n",
      "scale [1.11372717 0.89335911]\n",
      "5 outliers found out of 100 transit times (5.0%)\n",
      "\n",
      "iteration 2\n"
     ]
    },
    {
     "name": "stderr",
     "output_type": "stream",
     "text": [
      "Multiprocess sampling (2 chains in 4 jobs)\n",
      "NUTS: [logvar, mean, log_rho_off, log_sigma]\n",
      "Sampling 2 chains: 100%|██████████| 14000/14000 [00:16<00:00, 829.07draws/s] \n"
     ]
    },
    {
     "name": "stdout",
     "output_type": "stream",
     "text": [
      "BAD FRACTION = 0.0\n"
     ]
    },
    {
     "data": {
      "image/png": "[encoded data removed]",
      "text/plain": [
       "<Figure size 864x288 with 1 Axes>"
      ]
     },
     "metadata": {
      "needs_background": "light"
     },
     "output_type": "display_data"
    }
   ],
   "source": [
    "matern_ephemeris = []\n",
    "matern_transit_times = []\n",
    "\n",
    "matern_log_sigma = np.zeros((NPL,2))\n",
    "matern_log_rho = np.zeros((NPL,2))\n",
    "\n",
    "\n",
    "for npl, p in enumerate(planets):\n",
    "    print(\"\\nPLANET\", npl)\n",
    "    xtime = indep_ephemeris[npl]\n",
    "    yomc  = indep_transit_times[npl] - indep_ephemeris[npl]\n",
    "\n",
    "    ymed = ndimage.median_filter(yomc, size=5, mode=\"mirror\")\n",
    "    out  = np.abs(yomc-ymed)/astropy.stats.mad_std(yomc-ymed) > 5.0\n",
    " \n",
    "\n",
    "    loop = True\n",
    "    iteration = 0\n",
    "    while loop:\n",
    "        iteration += 1\n",
    "        print(\"\\niteration\", iteration)\n",
    "\n",
    "        # fit a GP with a Matern-3/2 kernel\n",
    "        with pm.Model() as matern_model:\n",
    "            # build the kernel \n",
    "            log_sigma = pm.Normal(\"log_sigma\", mu=np.log(np.std(yomc)), sd=10)\n",
    "            \n",
    "            log_rho_off = pm.Normal(\"log_rho_off\", mu=np.log(2*periods[npl]), sd=5)\n",
    "            rho = pm.Deterministic(\"rho\", 4*periods[npl] + T.exp(log_rho_off))\n",
    "            log_rho = pm.Deterministic(\"log_rho\", T.log(rho))\n",
    "\n",
    "            kernel = exo.gp.terms.Matern32Term(log_sigma=log_sigma, log_rho=log_rho)\n",
    "\n",
    "            # nusiance parameters\n",
    "            mean = pm.Normal(\"mean\", mu=np.mean(yomc), sd=10)\n",
    "            logvar = pm.Normal(\"logvar\", mu=np.log(np.var(yomc)), sd=10)\n",
    "\n",
    "            # here's the GP\n",
    "            gp = exo.gp.GP(kernel, xtime[~out], T.exp(logvar)*T.ones(len(xtime[~out])))\n",
    "\n",
    "            # add custom potential (log-prob fxn) with the GP likelihood\n",
    "            pm.Potential(\"obs\", gp.log_likelihood(yomc[~out] - mean))\n",
    "\n",
    "            # track GP prediction\n",
    "            gp_pred = pm.Deterministic(\"gp_pred\", gp.predict(indep_ephemeris[npl]))\n",
    "            \n",
    "            full_trend = pm.Deterministic(\"full_trend\", mean + gp.predict(full_indep_ephemeris[npl]))\n",
    "            part_trend = pm.Deterministic(\"part_trend\", mean + gp.predict(indep_ephemeris[npl]))\n",
    "\n",
    "\n",
    "        with matern_model:\n",
    "            matern_trace = pm.sample(tune=5000, draws=2000, start=matern_model.test_point, chains=2, \n",
    "                                     step=exo.get_dense_nuts_step(target_accept=0.9))\n",
    "\n",
    "        nbroadcast = len(xtime)\n",
    "        broadcasted_mean = np.tile(matern_trace[\"mean\"], nbroadcast).reshape(nbroadcast, -1).swapaxes(0,1)\n",
    "        trend = np.nanmedian(matern_trace[\"gp_pred\"] + broadcasted_mean, 0)\n",
    "\n",
    "        \n",
    "        # stop looping if the maximum number of iterations has been reached\n",
    "        if iteration >= 2:\n",
    "            loop = False\n",
    "        \n",
    "        else:\n",
    "            # fit a mixture model to the residuals\n",
    "            res = yomc - trend\n",
    "            resnorm = res / np.std(res)\n",
    "            resnorm -= np.mean(resnorm)\n",
    "\n",
    "            with pm.Model() as mix_model:\n",
    "                w = pm.Dirichlet(\"w\", np.array([1.,1.]))\n",
    "                mu = pm.Normal(\"mu\", mu=0.0, sd=5.0, shape=1)\n",
    "                tau = pm.Gamma(\"tau\", 1.0, 1.0, shape=2)\n",
    "                obs = pm.NormalMixture(\"obs\", w, mu=mu*T.ones(2), tau=tau, observed=resnorm)\n",
    "\n",
    "            with mix_model:\n",
    "                mix_trace = pm.sample(tune=3000, draws=1000, start=mix_model.test_point, chains=1, \n",
    "                                      step=exo.get_dense_nuts_step(target_accept=0.9))\n",
    "\n",
    "\n",
    "            # calculate foreground/background probabilities\n",
    "            loc = np.nanmedian(mix_trace[\"mu\"], axis=0)\n",
    "            scale = np.nanmedian(1/np.sqrt(mix_trace[\"tau\"]), axis=0)\n",
    "\n",
    "            print(\"loc\", loc)\n",
    "            print(\"scale\", scale)\n",
    "\n",
    "\n",
    "            order = np.argsort(scale)\n",
    "            scale = scale[order]\n",
    "\n",
    "            z_fg = stats.norm(loc=loc, scale=scale[0]).pdf(resnorm)\n",
    "            z_bg = stats.norm(loc=loc, scale=scale[1]).pdf(resnorm)\n",
    "\n",
    "            fg_prob = z_fg/(z_fg+z_bg)\n",
    "\n",
    "\n",
    "            # use KMeans clustering to assign each point to the foreground or background\n",
    "            km = KMeans(n_clusters=2)\n",
    "            group = km.fit_predict(fg_prob.reshape(-1,1))\n",
    "            centroids = np.array([np.mean(fg_prob[group==0]), np.mean(fg_prob[group==1])])\n",
    "\n",
    "            bad = group == np.argmin(centroids)\n",
    "            print(\"{0} outliers found out of {1} transit times ({2}%)\".format(np.sum(bad), len(bad), \n",
    "                                                                              np.round(100.*np.sum(bad)/len(bad),1)))\n",
    "\n",
    "            # check for convergence and update outlier flagss\n",
    "            if np.alltrue(bad == out):\n",
    "                loop = False\n",
    "\n",
    "            out = np.copy(bad)\n",
    "        \n",
    "\n",
    "    # save the final results\n",
    "    mtts = full_indep_ephemeris[npl] + np.nanmedian(matern_trace[\"full_trend\"], 0)\n",
    "    mephem = np.polyval(np.polyfit(p.index, mtts, 1), p.index)\n",
    "                                                                          \n",
    "    matern_transit_times.append(mtts)\n",
    "    matern_ephemeris.append(mephem)   \n",
    "       \n",
    "    matern_log_sigma[npl] = np.nanmedian(matern_trace[\"log_sigma\"]), np.std(matern_trace[\"log_sigma\"])\n",
    "    matern_log_rho[npl] = np.nanmedian(matern_trace[\"log_rho\"]), np.std(matern_trace[\"log_rho\"])\n",
    "\n",
    "    \n",
    "\n",
    "    print(\"BAD FRACTION =\", np.sum(np.isnan(matern_trace[\"gp_pred\"]))/np.size(matern_trace[\"gp_pred\"]))\n",
    "    \n",
    "    \n",
    "    # plot the final trend and outliers\n",
    "    plt.figure(figsize=(12,4))\n",
    "    plt.scatter(xtime, yomc*24*60, c=1-fg_prob, cmap=\"viridis\", label=\"Quick TTVs\")\n",
    "    plt.plot(xtime[bad], yomc[bad]*24*60, \"rx\")\n",
    "    plt.plot(xtime, np.nanmedian(matern_trace[\"part_trend\"],0)*24*60, \"k\", label=\"Matern-3/2 fit\")\n",
    "    plt.xlabel(\"Time [BJKD]\", fontsize=20)\n",
    "    plt.ylabel(\"O-C [min]\", fontsize=20)\n",
    "    plt.legend(fontsize=12)\n",
    "    plt.show()    "
   ]
  },
  {
   "cell_type": "code",
   "execution_count": null,
   "metadata": {},
   "outputs": [],
   "source": [
    "for npl, p in enumerate(planets):\n",
    "    p.tts = np.copy(matern_transit_times[npl])"
   ]
  },
  {
   "cell_type": "markdown",
   "metadata": {},
   "source": [
    "# Detrend again with better estimates of transit timing"
   ]
  },
  {
   "cell_type": "code",
   "execution_count": null,
   "metadata": {},
   "outputs": [],
   "source": [
    "# reset to raw data\n",
    "\n",
    "if MISSION == 'Kepler':\n",
    "    try:\n",
    "        sc_data = detrend.cleanup_lkfc(sc_rawdata, KIC)\n",
    "\n",
    "        sc_quarters = []\n",
    "        for i, scd in enumerate(sc_data):\n",
    "            sc_quarters.append(scd.quarter)    \n",
    "    \n",
    "    except:\n",
    "        pass\n",
    "    \n",
    "    \n",
    "    try:\n",
    "        lc_data = detrend.cleanup_lkfc(lc_rawdata, KIC)\n",
    "\n",
    "        lc_quarters = []\n",
    "        for i, lcd in enumerate(lc_data):\n",
    "            lc_quarters.append(lcd.quarter)\n",
    "            \n",
    "    except:\n",
    "        pass\n",
    "        \n",
    "\n",
    "        \n",
    "elif MISSION == 'Simulated':\n",
    "    sc_quarters = []\n",
    "    for i, scrd in enumerate(sc_rawdata):\n",
    "        sc_quarters.append(scrd.quarter)\n",
    "        \n",
    "    order = np.argsort(sc_quarters)    \n",
    "    sc_data = lk.LightCurveCollection([sc_rawdata_list[o] for o in order])\n",
    "            \n",
    "\n",
    "    lc_quarters = []\n",
    "    for i, lcrd in enumerate(lc_rawdata):\n",
    "        lc_quarters.append(lcrd.quarter)\n",
    "        \n",
    "    order = np.argsort(lc_quarters)    \n",
    "    lc_data = lk.LightCurveCollection([lc_rawdata_list[o] for o in order])"
   ]
  },
  {
   "cell_type": "code",
   "execution_count": null,
   "metadata": {},
   "outputs": [],
   "source": [
    "# clean up the LONG CADENCE data\n",
    "for i, lcq in enumerate(lc_data):\n",
    "    lcq = detrend.remove_flagged_cadences(lcq)\n",
    "    lcq = detrend.clip_outliers(lcq, kernel_size=13, sigma_upper=5.0, sigma_lower=5.0)\n",
    "    lc_data[i] = lcq\n",
    "\n",
    "# broadcast quarter and channel integers into arrays (for convenient use after stitching)\n",
    "for i, lcq in enumerate(lc_data):\n",
    "    lcq.quarter = lcq.quarter*np.ones(len(lcq.time))\n",
    "    lcq.channel = lcq.channel*np.ones(len(lcq.time))\n",
    "\n",
    "    \n",
    "if len(lc_data) > 0:\n",
    "    # combine quarters into a single LiteCurve\n",
    "    lc = detrend.stitch_lkc(lc_data)\n",
    "    \n",
    "    # make a mask where planets transit\n",
    "    lc_mask = np.zeros((NPL,len(lc.time)),dtype='bool')\n",
    "    for npl, p in enumerate(planets):\n",
    "        masksize = (p.duration + 2*ttv_buffer[npl] + 1/24) / p.duration / 2\n",
    "        masksize = np.max([masksize, 2/3])\n",
    "    \n",
    "        lc_mask[npl] = detrend.make_transitmask(lc.time, p.tts, p.duration, masksize=masksize)\n",
    "\n",
    "    lc.mask = deepcopy(lc_mask)\n",
    "    \n",
    "    # plot the non-detrended data\n",
    "    plt.figure(figsize=(20,4))\n",
    "    plt.plot(lc.time, lc.flux, c=\"k\", lw=0.5)\n",
    "    plt.xlim(lc.time.min(), lc.time.max())\n",
    "    plt.show()\n",
    "    \n",
    "else:\n",
    "    lc = None"
   ]
  },
  {
   "cell_type": "code",
   "execution_count": null,
   "metadata": {},
   "outputs": [],
   "source": [
    "if lc is not None:    \n",
    "    # detrend\n",
    "    break_tolerance = int(DURS.max()/(LCIT/60/24)*5/2)\n",
    "    min_period = 5*DURS.max()\n",
    "    \n",
    "    lc = detrend.flatten_with_gp(lc, break_tolerance=break_tolerance, min_period=min_period)\n",
    "\n",
    "    # determine seasons\n",
    "    lc.season = lc.quarter % 4\n",
    "\n",
    "    # plot detrended data\n",
    "    plt.figure(figsize=(16,4))\n",
    "    plt.plot(lc.time, lc.flux, c='k', lw=0.5)\n",
    "    plt.xlim(lc.time.min(), lc.time.max())\n",
    "    plt.xlabel('Time [BKJD]', fontsize=20)\n",
    "    plt.ylabel('Relative Flux', fontsize=20)\n",
    "    plt.savefig(FIGURE_DIR + TARGET + '_long_cadence_flux.pdf', bbox_inches='tight')\n",
    "    plt.show()"
   ]
  },
  {
   "cell_type": "code",
   "execution_count": null,
   "metadata": {},
   "outputs": [],
   "source": [
    "# clean up the SHORT CADENCE data\n",
    "for i, scq in enumerate(sc_data):\n",
    "    scq = detrend.remove_flagged_cadences(scq)\n",
    "    scq = detrend.clip_outliers(scq, kernel_size=13, sigma_upper=5.0, sigma_lower=5.0)\n",
    "    sc_data[i] = scq\n",
    "\n",
    "# broadcast quarter and channel integers into arrays (for convenient use after stitching)\n",
    "for i, scq in enumerate(sc_data):\n",
    "    scq.quarter = scq.quarter*np.ones(len(scq.time))\n",
    "    scq.channel = scq.channel*np.ones(len(scq.time))\n",
    "\n",
    "    \n",
    "if len(sc_data) > 0:\n",
    "    # combine quarters into a single LiteCurve\n",
    "    sc = detrend.stitch_lkc(sc_data)\n",
    "    \n",
    "    # make a mask where planets transit\n",
    "    sc_mask = np.zeros((NPL,len(sc.time)),dtype='bool')\n",
    "    for npl, p in enumerate(planets):\n",
    "        masksize = (p.duration + 2*ttv_buffer[npl] + 1/24) / p.duration / 2\n",
    "        masksize = np.max([masksize, 2/3])\n",
    "\n",
    "        sc_mask[npl] = detrend.make_transitmask(sc.time, p.tts, p.duration, masksize=masksize)\n",
    "\n",
    "    sc.mask = deepcopy(sc_mask)\n",
    "    \n",
    "    # plot the non-detrended data\n",
    "    plt.figure(figsize=(20,4))\n",
    "    plt.plot(sc.time, sc.flux, c=\"k\", lw=0.5)\n",
    "    plt.xlim(sc.time.min(), sc.time.max())\n",
    "    plt.show()\n",
    "    \n",
    "else:\n",
    "    sc = None"
   ]
  },
  {
   "cell_type": "code",
   "execution_count": null,
   "metadata": {},
   "outputs": [],
   "source": [
    "if sc is not None:    \n",
    "    # detrend\n",
    "    break_tolerance = int(DURS.max()/(SCIT/3600/24)*5/2)\n",
    "    min_period = 5*DURS.max()\n",
    "    \n",
    "    sc = detrend.flatten_with_gp(sc, break_tolerance=break_tolerance, min_period=min_period)\n",
    "\n",
    "    # determine seasons\n",
    "    sc.season = sc.quarter % 4\n",
    "\n",
    "    # plot detrended data\n",
    "    plt.figure(figsize=(16,4))\n",
    "    plt.plot(sc.time, sc.flux, c='k', lw=0.5)\n",
    "    plt.xlim(sc.time.min(), sc.time.max())\n",
    "    plt.xlabel('Time [BKJD]', fontsize=20)\n",
    "    plt.ylabel('Relative Flux', fontsize=20)\n",
    "    plt.savefig(FIGURE_DIR + TARGET + '_short_cadence_flux.pdf', bbox_inches='tight')\n",
    "    plt.show()"
   ]
  },
  {
   "cell_type": "code",
   "execution_count": null,
   "metadata": {},
   "outputs": [],
   "source": []
  },
  {
   "cell_type": "code",
   "execution_count": null,
   "metadata": {},
   "outputs": [],
   "source": []
  },
  {
   "cell_type": "code",
   "execution_count": null,
   "metadata": {},
   "outputs": [],
   "source": []
  },
  {
   "cell_type": "code",
   "execution_count": null,
   "metadata": {},
   "outputs": [],
   "source": []
  },
  {
   "cell_type": "markdown",
   "metadata": {},
   "source": [
    "# Make individual mask for where each planet transits\n",
    "### These masks have width 1.5 transit durations, which may be wider than the masks used for detrending"
   ]
  },
  {
   "cell_type": "code",
   "execution_count": null,
   "metadata": {},
   "outputs": [],
   "source": [
    "print('Making transit masks')\n",
    "try:\n",
    "    sc_mask = np.zeros((NPL,len(sc.time)),dtype='bool')\n",
    "    for npl, p in enumerate(planets):\n",
    "        sc_mask[npl] = detrend.make_transitmask(sc.time, p.tts, p.duration, masksize=1.5)\n",
    "\n",
    "    sc.mask = sc_mask\n",
    "\n",
    "except:\n",
    "    sc_mask = None\n",
    "\n",
    "    \n",
    "try:\n",
    "    lc_mask = np.zeros((NPL,len(lc.time)),dtype='bool')\n",
    "    for npl, p in enumerate(planets):\n",
    "        lc_mask[npl] = detrend.make_transitmask(lc.time, p.tts, p.duration, masksize=1.5)\n",
    "    \n",
    "    lc.mask = lc_mask\n",
    "\n",
    "except:\n",
    "    lc_mask = None"
   ]
  },
  {
   "cell_type": "markdown",
   "metadata": {},
   "source": [
    "# Flag which transits have photometry coverage (quality = 1)"
   ]
  },
  {
   "cell_type": "code",
   "execution_count": null,
   "metadata": {},
   "outputs": [],
   "source": [
    "for npl, p in enumerate(planets):\n",
    "\n",
    "    quality = []\n",
    "\n",
    "    # cut out the stamps\n",
    "    for i, t0 in enumerate(p.tts):\n",
    "        try:\n",
    "            neartransit_sc = np.abs(sc.time - t0)/p.duration < 1.5\n",
    "            neartransit_lc = np.abs(lc.time - t0)/p.duration < 1.5\n",
    "        \n",
    "            quality.append((np.sum(neartransit_sc) + np.sum(neartransit_lc)) > 0)\n",
    "                        \n",
    "        except:\n",
    "            neartransit = np.abs(lc.time - t0)/p.duration < 1.5\n",
    "            quality.append(np.sum(neartransit) > 0)\n",
    "        \n",
    "    p.quality = np.copy(quality)"
   ]
  },
  {
   "cell_type": "markdown",
   "metadata": {},
   "source": [
    "# Flag which transits overlap (overlap = 1)"
   ]
  },
  {
   "cell_type": "code",
   "execution_count": null,
   "metadata": {},
   "outputs": [],
   "source": [
    "# identify overlapping transits\n",
    "dur_max = np.max(DURS)\n",
    "overlap = []\n",
    "\n",
    "for i in range(NPL):\n",
    "    overlap.append(np.zeros(len(planets[i].tts), dtype='bool'))\n",
    "    \n",
    "    for j in range(NPL):\n",
    "        if i != j:\n",
    "            for ttj in planets[j].tts:\n",
    "                overlap[i] += np.abs(planets[i].tts - ttj) < dur_max\n",
    "                \n",
    "    planets[i].overlap = np.copy(overlap[i])"
   ]
  },
  {
   "cell_type": "markdown",
   "metadata": {},
   "source": [
    "# Count up transits and calculate initial fixed transit times"
   ]
  },
  {
   "cell_type": "code",
   "execution_count": null,
   "metadata": {},
   "outputs": [],
   "source": [
    "num_transits  = np.zeros(NPL)\n",
    "transit_inds  = []\n",
    "fixed_tts = []\n",
    "\n",
    "for npl, p in enumerate(planets):\n",
    "    transit_inds.append((p.index - p.index.min())[p.quality])\n",
    "    fixed_tts.append(np.copy(p.tts)[p.quality])\n",
    "    \n",
    "    num_transits[npl] = len(transit_inds[npl])"
   ]
  },
  {
   "cell_type": "markdown",
   "metadata": {},
   "source": [
    "# Grab the relevant data and starting transit parameters"
   ]
  },
  {
   "cell_type": "code",
   "execution_count": null,
   "metadata": {},
   "outputs": [],
   "source": [
    "# grab data near transits for each quarter\n",
    "all_time = []\n",
    "all_flux = []\n",
    "all_error = []\n",
    "all_dtype = []\n",
    "\n",
    "lc_flux = []\n",
    "sc_flux = []\n",
    "\n",
    "if sc is not None:\n",
    "    for q in range(18):\n",
    "        if np.isin(q, sc.quarter)*np.isin(q, lc.quarter):\n",
    "            raise ValueError(\"Double counting data in both short and long cadence\")\n",
    "\n",
    "\n",
    "        elif np.isin(q, sc.quarter):\n",
    "            use = (sc.mask.sum(axis=0) > 0)*(sc.quarter == q)\n",
    "\n",
    "            if np.sum(use) > 45:\n",
    "                all_time.append(sc.time[use])\n",
    "                all_flux.append(sc.flux[use])\n",
    "                all_error.append(sc.error[use])\n",
    "                all_dtype.append('short')\n",
    "\n",
    "                sc_flux.append(sc.flux[use])\n",
    "                \n",
    "            else:\n",
    "                all_time.append(None)\n",
    "                all_flux.append(None)\n",
    "                all_error.append(None)\n",
    "                all_dtype.append('none')\n",
    "\n",
    "\n",
    "        elif np.isin(q, lc.quarter):\n",
    "            use = (lc.mask.sum(axis=0) > 0)*(lc.quarter == q)\n",
    "            \n",
    "            if np.sum(use) > 3:\n",
    "                all_time.append(lc.time[use])\n",
    "                all_flux.append(lc.flux[use])\n",
    "                all_error.append(lc.error[use])\n",
    "                all_dtype.append('long')\n",
    "\n",
    "                lc_flux.append(lc.flux[use])\n",
    "                \n",
    "            else:\n",
    "                all_time.append(None)\n",
    "                all_flux.append(None)\n",
    "                all_error.append(None)\n",
    "                all_dtype.append('none')\n",
    "\n",
    "\n",
    "        else:\n",
    "            all_time.append(None)\n",
    "            all_flux.append(None)\n",
    "            all_error.append(None)\n",
    "            all_dtype.append('none')\n",
    "            \n",
    "else:\n",
    "    for q in range(18):\n",
    "        if np.isin(q, lc.quarter):\n",
    "            use = (lc.mask.sum(axis=0) > 0)*(lc.quarter == q)\n",
    "\n",
    "            if np.sum(use) > 3:\n",
    "                all_time.append(lc.time[use])\n",
    "                all_flux.append(lc.flux[use])\n",
    "                all_error.append(lc.error[use])\n",
    "                all_dtype.append('long')\n",
    "\n",
    "                lc_flux.append(lc.flux[use])\n",
    "                \n",
    "            else:\n",
    "                all_time.append(None)\n",
    "                all_flux.append(None)\n",
    "                all_error.append(None)\n",
    "                all_dtype.append('none')\n",
    "\n",
    "\n",
    "        else:\n",
    "            all_time.append(None)\n",
    "            all_flux.append(None)\n",
    "            all_error.append(None)\n",
    "            all_dtype.append('none')\n",
    "\n",
    "\n",
    "\n",
    "# check which quarters have data\n",
    "good = (np.array(all_dtype) == 'short') + (np.array(all_dtype) == 'long')\n",
    "quarters = np.arange(18)[good]\n",
    "nq = len(quarters)\n",
    "\n",
    "\n",
    "# make some linear flux arrays (for convenience use laster)\n",
    "try: sc_flux_lin = np.hstack(sc_flux)\n",
    "except: sc_flux_lin = np.array([])\n",
    "    \n",
    "try: lc_flux_lin = np.hstack(lc_flux)\n",
    "except: lc_flux_lin = np.array([])\n",
    "    \n",
    "try:\n",
    "    good_flux = np.hstack([sc_flux_lin, lc_flux_lin])\n",
    "except:\n",
    "    try:\n",
    "        good_flux = np.hstack(sc_flux)\n",
    "    except:\n",
    "        good_flux = np.hstack(lc_flux)"
   ]
  },
  {
   "cell_type": "code",
   "execution_count": null,
   "metadata": {},
   "outputs": [],
   "source": [
    "# pull basic transit parameters\n",
    "epochs    = np.zeros(NPL)\n",
    "periods   = np.zeros(NPL)\n",
    "depths    = np.zeros(NPL)\n",
    "durations = np.zeros(NPL)\n",
    "impacts   = np.zeros(NPL)\n",
    "\n",
    "for npl, p in enumerate(planets):\n",
    "    epochs[npl]    = p.epoch\n",
    "    periods[npl]   = p.period\n",
    "    depths[npl]    = p.depth\n",
    "    durations[npl] = p.duration\n",
    "    impacts[npl]   = p.impact\n",
    "\n",
    "radii = np.sqrt(depths)*RSTAR"
   ]
  },
  {
   "cell_type": "code",
   "execution_count": null,
   "metadata": {},
   "outputs": [],
   "source": [
    "print('')\n",
    "print('cumulative runtime = ', int(timer() - global_start_time), 's')\n",
    "print('')"
   ]
  },
  {
   "cell_type": "code",
   "execution_count": null,
   "metadata": {},
   "outputs": [],
   "source": []
  },
  {
   "cell_type": "code",
   "execution_count": null,
   "metadata": {},
   "outputs": [],
   "source": []
  },
  {
   "cell_type": "code",
   "execution_count": null,
   "metadata": {},
   "outputs": [],
   "source": []
  },
  {
   "cell_type": "code",
   "execution_count": null,
   "metadata": {},
   "outputs": [],
   "source": []
  },
  {
   "cell_type": "code",
   "execution_count": null,
   "metadata": {},
   "outputs": [],
   "source": []
  },
  {
   "cell_type": "code",
   "execution_count": null,
   "metadata": {},
   "outputs": [],
   "source": []
  },
  {
   "cell_type": "code",
   "execution_count": null,
   "metadata": {},
   "outputs": [],
   "source": []
  },
  {
   "cell_type": "code",
   "execution_count": null,
   "metadata": {},
   "outputs": [],
   "source": []
  },
  {
   "cell_type": "code",
   "execution_count": null,
   "metadata": {},
   "outputs": [],
   "source": []
  },
  {
   "cell_type": "code",
   "execution_count": null,
   "metadata": {},
   "outputs": [],
   "source": []
  },
  {
   "cell_type": "code",
   "execution_count": null,
   "metadata": {},
   "outputs": [],
   "source": []
  },
  {
   "cell_type": "code",
   "execution_count": null,
   "metadata": {},
   "outputs": [],
   "source": []
  },
  {
   "cell_type": "code",
   "execution_count": null,
   "metadata": {},
   "outputs": [],
   "source": []
  },
  {
   "cell_type": "code",
   "execution_count": null,
   "metadata": {},
   "outputs": [],
   "source": []
  },
  {
   "cell_type": "code",
   "execution_count": null,
   "metadata": {},
   "outputs": [],
   "source": []
  },
  {
   "cell_type": "markdown",
   "metadata": {},
   "source": [
    "# Make individual mask for where each planet transits\n",
    "### These masks have width 1.5 transit durations, which may be wider than the masks used for detrending"
   ]
  },
  {
   "cell_type": "code",
   "execution_count": null,
   "metadata": {},
   "outputs": [],
   "source": [
    "print('Making transit masks')\n",
    "try:\n",
    "    sc_mask = np.zeros((NPL,len(sc.time)),dtype='bool')\n",
    "    for npl, p in enumerate(planets):\n",
    "        sc_mask[npl] = detrend.make_transitmask(sc.time, p.tts, p.duration, masksize=1.5)\n",
    "\n",
    "    sc.mask = sc_mask\n",
    "\n",
    "except:\n",
    "    sc_mask = None\n",
    "\n",
    "    \n",
    "try:\n",
    "    lc_mask = np.zeros((NPL,len(lc.time)),dtype='bool')\n",
    "    for npl, p in enumerate(planets):\n",
    "        lc_mask[npl] = detrend.make_transitmask(lc.time, p.tts, p.duration, masksize=1.5)\n",
    "    \n",
    "    lc.mask = lc_mask\n",
    "\n",
    "except:\n",
    "    lc_mask = None"
   ]
  },
  {
   "cell_type": "markdown",
   "metadata": {},
   "source": [
    "# Flag where there is data near transit (quality = 1)"
   ]
  },
  {
   "cell_type": "code",
   "execution_count": null,
   "metadata": {},
   "outputs": [],
   "source": [
    "for npl, p in enumerate(planets):\n",
    "\n",
    "    quality = []\n",
    "\n",
    "    # cut out the stamps\n",
    "    for i, t0 in enumerate(p.tts):\n",
    "        try:\n",
    "            neartransit_sc = np.abs(sc.time - t0)/p.duration < 1.5\n",
    "            neartransit_lc = np.abs(lc.time - t0)/p.duration < 1.5\n",
    "        \n",
    "            quality.append((np.sum(neartransit_sc) + np.sum(neartransit_lc)) > 0)\n",
    "                        \n",
    "        except:\n",
    "            neartransit = np.abs(lc.time - t0)/p.duration < 1.5\n",
    "            quality.append(np.sum(neartransit) > 0)\n",
    "        \n",
    "    p.quality = np.copy(quality)"
   ]
  },
  {
   "cell_type": "code",
   "execution_count": null,
   "metadata": {},
   "outputs": [],
   "source": [
    "print('')\n",
    "print('cumulative runtime = ', int(timer() - global_start_time), 's')\n",
    "print('')"
   ]
  },
  {
   "cell_type": "markdown",
   "metadata": {},
   "source": [
    "# Make phase-folded transit plots"
   ]
  },
  {
   "cell_type": "code",
   "execution_count": null,
   "metadata": {
    "scrolled": false
   },
   "outputs": [],
   "source": [
    "for npl, p in enumerate(planets):\n",
    "    tts = p.tts[p.quality*~p.overlap]\n",
    "    \n",
    "    \n",
    "    if len(tts) == 0:\n",
    "        print(\"No non-overlapping high quality transits found for planet {0} (P = {1} d)\".format(npl, p.period))\n",
    "    \n",
    "    \n",
    "    else:\n",
    "        t_ = []\n",
    "        f_ = []\n",
    "\n",
    "\n",
    "        for t0 in tts:\n",
    "            try:\n",
    "                neartransit_sc = np.abs(sc.time - t0)/p.duration < 1.5\n",
    "            except:\n",
    "                neartransit_sc = None\n",
    "\n",
    "            try:\n",
    "                neartransit_lc = np.abs(lc.time - t0)/p.duration < 1.5\n",
    "            except:\n",
    "                neartransit_lc = None\n",
    "\n",
    "            if (neartransit_lc is not None) and (np.sum(neartransit_lc) > 0):\n",
    "                t_.append(lc.time[neartransit_lc] - t0)\n",
    "                f_.append(lc.flux[neartransit_lc])\n",
    "\n",
    "            if (neartransit_sc is not None) and (np.sum(neartransit_sc) > 0):\n",
    "                t_.append(sc.time[neartransit_sc] - t0)\n",
    "                f_.append(sc.flux[neartransit_sc])\n",
    "\n",
    "\n",
    "        t_ = np.hstack(t_)\n",
    "        f_ = np.hstack(f_)\n",
    "\n",
    "        order = np.argsort(t_)\n",
    "        t_ = t_[order]\n",
    "        f_ = f_[order]\n",
    "\n",
    "        f_bin = bin_data(t_, f_, LCIT/60/24/2)\n",
    "        t_bin = bin_data(t_, t_, LCIT/60/24/2)\n",
    "\n",
    "        plt.figure(figsize=(12,4))\n",
    "        plt.plot(t_*24, f_, \".\", c=\"lightgrey\")\n",
    "        plt.plot(t_bin*24, f_bin, \"o\", ms=5, color=\"C{0}\".format(npl))\n",
    "        plt.savefig(FIGURE_DIR + TARGET + '_{0:02d}_folded_transit_.pdf'.format(npl), bbox_inches='tight')\n",
    "        plt.show()"
   ]
  },
  {
   "cell_type": "code",
   "execution_count": null,
   "metadata": {},
   "outputs": [],
   "source": []
  },
  {
   "cell_type": "code",
   "execution_count": null,
   "metadata": {},
   "outputs": [],
   "source": []
  },
  {
   "cell_type": "code",
   "execution_count": null,
   "metadata": {},
   "outputs": [],
   "source": []
  },
  {
   "cell_type": "code",
   "execution_count": null,
   "metadata": {},
   "outputs": [],
   "source": []
  },
  {
   "cell_type": "code",
   "execution_count": null,
   "metadata": {},
   "outputs": [],
   "source": []
  },
  {
   "cell_type": "code",
   "execution_count": null,
   "metadata": {},
   "outputs": [],
   "source": []
  },
  {
   "cell_type": "code",
   "execution_count": null,
   "metadata": {},
   "outputs": [],
   "source": []
  },
  {
   "cell_type": "code",
   "execution_count": null,
   "metadata": {},
   "outputs": [],
   "source": []
  },
  {
   "cell_type": "code",
   "execution_count": null,
   "metadata": {},
   "outputs": [],
   "source": []
  },
  {
   "cell_type": "code",
   "execution_count": null,
   "metadata": {},
   "outputs": [],
   "source": []
  },
  {
   "cell_type": "code",
   "execution_count": null,
   "metadata": {},
   "outputs": [],
   "source": []
  },
  {
   "cell_type": "markdown",
   "metadata": {},
   "source": [
    "# Generate and model empirical autocorrelation function (ACF)"
   ]
  },
  {
   "cell_type": "code",
   "execution_count": null,
   "metadata": {},
   "outputs": [],
   "source": [
    "# generating figures inside imported modules creates issues with UChicago Midway RCC cluster\n",
    "# it's easier to just define the function here in the main script\n",
    "\n",
    "def plot_acf(xcor, acf_emp, acf_mod, xf, yf, freqs, target_name, season):\n",
    "    \"\"\"\n",
    "    Docstring\n",
    "    \"\"\"\n",
    "    fig = plt.figure(figsize=(20,5))\n",
    "\n",
    "    plt.tight_layout()\n",
    "    plt.subplots_adjust(wspace=0.8)\n",
    "\n",
    "    ax = plt.subplot2grid(shape=(5,10), loc=(0,0), rowspan=3, colspan=7)\n",
    "    ax.plot(xcor*24, acf_emp[0], color='lightgrey')\n",
    "    ax.plot(xcor*24, acf_mod[0], c='red')\n",
    "    ax.set_xlim(xcor.min()*24,xcor.max()*24)\n",
    "    ax.set_xticks(np.arange(0,xcor.max()*24,2))\n",
    "    ax.set_xticklabels([])\n",
    "    ax.set_ylim(acf_emp.min()*1.1, acf_emp.max()*1.1)\n",
    "    ax.set_ylabel('ACF', fontsize=20)\n",
    "    ax.text(xcor.max()*24-0.15, acf_emp.max(), '%s, SEASON %d' %(target_name, season), va='top', ha='right', fontsize=20)\n",
    "\n",
    "\n",
    "    ax = plt.subplot2grid(shape=(5,10), loc=(0,7), rowspan=5, colspan=3)\n",
    "    ax.plot(xf/24/3600*1e3, yf, color='k', lw=0.5)\n",
    "    for f in freqs:\n",
    "        ax.axvline(f/24/3600*1e3, color='red', zorder=0, lw=3, alpha=0.3) \n",
    "    ax.set_xlim(xf.min()/24/3600*1e3, xf.max()/24/3600*1e3)\n",
    "    ax.set_ylim(yf.min(),1.2*yf.max())\n",
    "    ax.set_ylabel('Power', fontsize=20)\n",
    "    ax.set_yticks([])\n",
    "    ax.set_xlabel('Frequency [mHz]', fontsize=20)\n",
    "\n",
    "    for i, sf in enumerate(np.sort(freqs)[::-1]):\n",
    "        ax.text(xf.min()/24/3600*1e3+0.1, yf.max()*(1.1-0.1*i), '%.2f min' %(24*60/sf), fontsize=16)\n",
    "\n",
    "\n",
    "    ax = plt.subplot2grid(shape=(5,10), loc=(3,0), rowspan=2, colspan=7)\n",
    "    ax.plot(xcor*24, acf_emp[1], c='lightgrey')\n",
    "    #ax.plot(xcor*24, acf_mod[1], c='red', lw=0.5)\n",
    "    ax.set_xlim(xcor.min()*24,xcor.max()*24)\n",
    "    ax.set_xticks(np.arange(0,xcor.max()*24,2))\n",
    "    ax.set_xlabel('Lag time [hours]', fontsize=20)\n",
    "    ax.set_ylabel('Residuals', fontsize=20)    \n",
    "    \n",
    "    return fig"
   ]
  },
  {
   "cell_type": "code",
   "execution_count": null,
   "metadata": {
    "scrolled": false
   },
   "outputs": [],
   "source": [
    "print('Generating autocorrelation function\\n')\n",
    "\n",
    "# set Npts from 5 x maximum transit duration\n",
    "durations = np.zeros(NPL)\n",
    "for npl, p in enumerate(planets):\n",
    "    durations[npl] = p.duration\n",
    "Npts = int(5*durations.max()*24*3600/SCIT)\n",
    "\n",
    "\n",
    "# set cutoff between low and high frequency signals\n",
    "fcut = 2/(LCIT/60/24)\n",
    "fmin = 2/(5*durations.max())\n",
    "\n",
    "# now estimate the ACF\n",
    "acf_lag = []\n",
    "acf_emp = []\n",
    "acf_mod = []\n",
    "acf_freqs = []\n",
    "\n",
    "\n",
    "if sc is not None:\n",
    "    for z in range(4):\n",
    "        # make a mask where any planet transits\n",
    "        scm = sc.mask.sum(axis=0) > 0\n",
    "\n",
    "        # pull out a particular season\n",
    "        use = sc.season == z\n",
    "        scm = scm[use]\n",
    "\n",
    "        if np.sum(use) > 0:\n",
    "            sc_time = sc.time[use][~scm]\n",
    "            sc_flux = sc.flux[use][~scm]\n",
    "            sc_error = sc.error[use][~scm]\n",
    "            sc_cadno = sc.cadno[use][~scm]\n",
    "\n",
    "            # generate the empirical acf\n",
    "            xcor, acor, wcor, acf_stats = noise.generate_acf(sc_time, sc_flux, sc_cadno, Npts)\n",
    "\n",
    "            # model the acf\n",
    "            acor_emp, acor_mod, xf, yf, freqs = noise.model_acf(xcor, acor, fcut, fmin=fmin, method='savgol')\n",
    "\n",
    "            # make some plots\n",
    "            fig = plot_acf(xcor, acor_emp, acor_mod, xf, yf, freqs, TARGET, z)\n",
    "            fig.savefig(FIGURE_DIR + TARGET + '_ACF_season_{0}.pdf'.format(z), bbox_inches='tight')\n",
    "\n",
    "\n",
    "            # filter out significant high-frequency components\n",
    "            fring = freqs[freqs > fcut]\n",
    "            bw = 1/(lcit-scit/np.sqrt(2))-1/(lcit+scit/np.sqrt(2))\n",
    "\n",
    "            if len(fring) > 0:\n",
    "                flux_filtered = detrend.filter_ringing(sc, break_tolerance, fring, bw)\n",
    "\n",
    "                sc.flux[use] = flux_filtered[use]\n",
    "                sc_flux = sc.flux[use][~scm]\n",
    "\n",
    "\n",
    "            # re-run the ACF modeling on the filtered lightcurve\n",
    "            xcor, acor, wcor, acf_stats = noise.generate_acf(sc_time, sc_flux, sc_cadno, Npts)\n",
    "            acor_emp, acor_mod, xf, yf, freqs = noise.model_acf(xcor, acor, fcut, fmin=fmin, method='savgol')\n",
    "\n",
    "            fig = plot_acf(xcor, acor_emp, acor_mod, xf, yf, freqs, TARGET, z)\n",
    "            fig.savefig(FIGURE_DIR + TARGET + '_ACF_season_{0}_filtered.pdf'.format(z), bbox_inches='tight')\n",
    "\n",
    "\n",
    "            # add to list\n",
    "            acf_lag.append(xcor)\n",
    "            acf_emp.append(acor_emp)\n",
    "            acf_mod.append(acor_mod)\n",
    "            acf_freqs.append(freqs)        \n",
    "\n",
    "\n",
    "        else:\n",
    "            acf_lag.append(None)\n",
    "            acf_emp.append(None)\n",
    "            acf_mod.append(None)\n",
    "            acf_freqs.append(None)"
   ]
  },
  {
   "cell_type": "markdown",
   "metadata": {},
   "source": [
    "# Generate synthetic noise"
   ]
  },
  {
   "cell_type": "code",
   "execution_count": null,
   "metadata": {
    "scrolled": false
   },
   "outputs": [],
   "source": [
    "print('Generating synthetic noise\\n')\n",
    "\n",
    "synth_time  = []\n",
    "synth_red   = []\n",
    "synth_white = []\n",
    "\n",
    "if sc is not None:\n",
    "    for z in range(4):\n",
    "        # make a mask where any planet transits\n",
    "        scm = sc.mask.sum(axis=0) > 0\n",
    "\n",
    "        # pull out a particular season\n",
    "        use = sc.season == z\n",
    "        scm = scm[use]\n",
    "\n",
    "        if np.sum(use) > 0:\n",
    "            sc_time = sc.time[use][~scm]\n",
    "            sc_flux = sc.flux[use][~scm]\n",
    "            sc_error = sc.error[use][~scm]\n",
    "            sc_cadno = sc.cadno[use][~scm]\n",
    "\n",
    "            # pull and split high/low frequencies\n",
    "            freqs = acf_freqs[z]\n",
    "\n",
    "            low_freqs  = freqs[freqs <= fcut]\n",
    "            high_freqs = freqs[freqs > fcut]\n",
    "\n",
    "            # generate some synthetic correlated noise\n",
    "            x, red_noise, white_noise = noise.generate_synthetic_noise(acf_lag[z], acf_mod[z][0]+acf_mod[z][1], \n",
    "                                                                       5*len(acf_lag[z]), np.median(sc_error))\n",
    "\n",
    "            # add to list\n",
    "            synth_time.append(x)\n",
    "            synth_red.append(red_noise)\n",
    "            synth_white.append(white_noise)\n",
    "\n",
    "            # plot the noise\n",
    "            plt.figure(figsize=(20,8))\n",
    "            plt.plot(x, white_noise + red_noise, '.', c='lightgrey')\n",
    "            plt.plot(x, red_noise, c='red', lw=4)\n",
    "            plt.axhline(0.0005, c='k', ls='--', lw=3)\n",
    "            plt.axhline(-0.0005, c='k', ls='--', lw=3)\n",
    "            plt.xlim(x.min(),x.max())\n",
    "            plt.xlabel('Time [days]', fontsize=30)\n",
    "            plt.ylabel('Flux', fontsize=30)\n",
    "            plt.text(x.max()-0.02, white_noise.max(), '%s, SEASON %d' %(TARGET, z), va='center', ha='right', fontsize=24)\n",
    "            plt.savefig(FIGURE_DIR + TARGET + '_synthetic_noise_season_{0}.pdf'.format(z), bbox_inches='tight')\n",
    "            plt.show()\n",
    "\n",
    "        else:\n",
    "            synth_time.append(None)\n",
    "            synth_red.append(None)\n",
    "            synth_white.append(None)"
   ]
  },
  {
   "cell_type": "markdown",
   "metadata": {},
   "source": [
    "# Fit a GP to the synthetic noise"
   ]
  },
  {
   "cell_type": "code",
   "execution_count": null,
   "metadata": {
    "scrolled": false
   },
   "outputs": [],
   "source": [
    "print('Fitting a GP to synthetic noise\\n')\n",
    "\n",
    "gp_model  = []\n",
    "gp_trace  = []\n",
    "gp_priors = []\n",
    "\n",
    "if sc is not None:\n",
    "    for z in range(4):\n",
    "        # make a mask where any planet transits\n",
    "        scm = sc.mask.sum(axis=0) > 0\n",
    "\n",
    "        # pull out a particular season\n",
    "        use = sc.season == z\n",
    "        scm = scm[use]\n",
    "\n",
    "        if np.sum(use) > 0:\n",
    "            sc_time = sc.time[use][~scm]\n",
    "            sc_flux = sc.flux[use][~scm]\n",
    "            sc_error = sc.error[use][~scm]\n",
    "            sc_cadno = sc.cadno[use][~scm]\n",
    "\n",
    "            # pull out and split high/low frequencies\n",
    "            freqs = acf_freqs[z]\n",
    "\n",
    "            low_freqs  = freqs[freqs <= fcut]\n",
    "            high_freqs = freqs[freqs > fcut]\n",
    "\n",
    "            if len(low_freqs) > 0:\n",
    "                lf = [low_freqs[0]]\n",
    "                extra_term = None\n",
    "            else:\n",
    "                lf = None\n",
    "                extra_term = 'free'\n",
    "\n",
    "            if len(high_freqs) > 0:\n",
    "                warnings.warn(\"there are remaining high-frequency noise components\")\n",
    "\n",
    "\n",
    "            # fit a GP model to the synthetic noise\n",
    "            gp_model.append(noise.build_sho_model(synth_time[z], synth_red[z], var_method='local', \\\n",
    "                                                  low_freqs=lf, high_freqs=None, extra_term=extra_term))\n",
    "\n",
    "        else:\n",
    "            gp_model.append(None)\n",
    "\n",
    "\n",
    "        if np.sum(use) > 0:\n",
    "            with gp_model[z] as model:\n",
    "                map_soln = exo.optimize(start=model.test_point, vars=[model.vars[0]])\n",
    "\n",
    "                for mv in model.vars[1:]:\n",
    "                    map_soln = exo.optimize(start=map_soln, vars=[mv])\n",
    "\n",
    "                map_soln = exo.optimize(start=map_soln)\n",
    "\n",
    "\n",
    "            with gp_model[z] as model:\n",
    "                trace = pm.sample(tune=2000, draws=500, start=map_soln, chains=2, \\\n",
    "                                  step=exo.get_dense_nuts_step(target_accept=0.9))\n",
    "\n",
    "            plt.figure(figsize=(20,4))\n",
    "            plt.plot(synth_time[z], synth_red[z], c='pink', lw=4)\n",
    "            plt.plot(synth_time[z], np.nanmedian(trace['gp_pred'], axis=0), c='red')\n",
    "            plt.xlim(synth_time[z].min(), synth_time[z].max())\n",
    "            plt.savefig(FIGURE_DIR + TARGET + '_GP_noise_model_{0}.pdf'.format(z), bbox_inches='tight')\n",
    "            plt.show()\n",
    "\n",
    "            # transfer trace posteriors to new prior dictionary\n",
    "            gp_trace.append(trace)\n",
    "            gp_priors.append(noise.make_gp_prior_dict(trace))\n",
    "\n",
    "\n",
    "        else:\n",
    "            gp_trace.append(None)\n",
    "            gp_priors.append(None)\n",
    "\n",
    "\n",
    "    # save the GP trace results\n",
    "    gp_var_names=['logw0', 'logSw4', 'logQ', 'logw0_x', 'logSw4_x', 'logQ_x', 'logS1', 'logS2', 'logQ1']\n",
    "\n",
    "    for i, gpt in enumerate(gp_trace):\n",
    "        if gpt is not None:\n",
    "            varnames = np.array(gpt.varnames)[np.isin(gpt.varnames, gp_var_names)]    \n",
    "\n",
    "            hdulist = io.trace_to_hdulist(gpt, varnames, TARGET)\n",
    "            hdulist.writeto(TRACE_DIR + TARGET + '_gp_{0}.fits'.format(i), overwrite=True)"
   ]
  },
  {
   "cell_type": "code",
   "execution_count": null,
   "metadata": {
    "scrolled": false
   },
   "outputs": [],
   "source": [
    "if sc is not None:\n",
    "    do_plots = False\n",
    "    if do_plots:\n",
    "        for z, gpt in enumerate(gp_trace):\n",
    "            print(z)\n",
    "            try:\n",
    "                varnames = np.array(gpt.varnames)[np.isin(gpt.varnames, gp_var_names)]\n",
    "\n",
    "                with gp_model[z]:\n",
    "                    pm.traceplot(gp_trace[z], var_names=varnames)\n",
    "\n",
    "            except:\n",
    "                pass"
   ]
  },
  {
   "cell_type": "code",
   "execution_count": null,
   "metadata": {},
   "outputs": [],
   "source": [
    "# list of all quarters with data\n",
    "quarters = np.sort(np.hstack([lc_quarters, sc_quarters]))\n",
    "\n",
    "# get variance of each quarter\n",
    "if lc is not None:\n",
    "    lcm = lc.mask.sum(axis=0) == 0\n",
    "if sc is not None:\n",
    "    scm = sc.mask.sum(axis=0) == 0\n",
    "\n",
    "var_by_quarter = []\n",
    "\n",
    "for i, q in enumerate(quarters):\n",
    "    if (sc is not None) and (np.sum(sc.quarter==q) > 0):\n",
    "        var_by_quarter.append(np.var(sc.flux[scm*(sc.quarter==q)]))\n",
    "    elif (lc is not None) and (np.sum(lc.quarter==q) > 0):\n",
    "        var_by_quarter.append(np.var(lc.flux[lcm*lc.quarter==q]))\n",
    "    else:\n",
    "        var_by_quarter.append(None)"
   ]
  },
  {
   "cell_type": "markdown",
   "metadata": {},
   "source": [
    "# Save detrended lightcurves and estimates of the noise properties"
   ]
  },
  {
   "cell_type": "code",
   "execution_count": null,
   "metadata": {},
   "outputs": [],
   "source": [
    "# Save detrended lightcurves as .fits files\n",
    "try:\n",
    "    lc.to_fits(TARGET, DLC_DIR + TARGET + '_lc_detrended.fits')\n",
    "except:\n",
    "    print(\"No long cadence data\")\n",
    "\n",
    "try:\n",
    "    sc.to_fits(TARGET, DLC_DIR + TARGET + '_sc_detrended.fits')\n",
    "except:\n",
    "    print(\"No short cadence data\")"
   ]
  },
  {
   "cell_type": "code",
   "execution_count": null,
   "metadata": {},
   "outputs": [],
   "source": [
    "# Save var_by_quarter\n",
    "data_out  = np.vstack([quarters, var_by_quarter]).swapaxes(0,1)\n",
    "fname_out = NOISE_DIR + TARGET + '_var_by_quarter.txt'\n",
    "    \n",
    "np.savetxt(fname_out, data_out, fmt=('%1d', '%.15f'), delimiter='\\t')\n",
    "\n",
    "\n",
    "# save gp_priors\n",
    "for z in range(4):\n",
    "    try:\n",
    "        for k in gp_priors[z].keys():\n",
    "            gp_priors[z][k] = list(gp_priors[z][k])\n",
    "\n",
    "        fname_out = NOISE_DIR + TARGET + '_shoterm_gp_priors_{0}.txt'.format(z)\n",
    "\n",
    "        with open(fname_out, 'w') as file:\n",
    "            json.dump(gp_priors[z], file)\n",
    "            \n",
    "    except:\n",
    "        pass"
   ]
  },
  {
   "cell_type": "code",
   "execution_count": null,
   "metadata": {},
   "outputs": [],
   "source": [
    "print('TOTAL RUNTIME = %.2f min' %((timer()-global_start_time)/60))"
   ]
  },
  {
   "cell_type": "code",
   "execution_count": null,
   "metadata": {},
   "outputs": [],
   "source": []
  }
 ],
 "metadata": {
  "kernelspec": {
   "display_name": "Python 3",
   "language": "python",
   "name": "python3"
  },
  "language_info": {
   "codemirror_mode": {
    "name": "ipython",
    "version": 3
   },
   "file_extension": ".py",
   "mimetype": "text/x-python",
   "name": "python",
   "nbconvert_exporter": "python",
   "pygments_lexer": "ipython3",
   "version": "3.7.3"
  }
 },
 "nbformat": 4,
 "nbformat_minor": 2
}
