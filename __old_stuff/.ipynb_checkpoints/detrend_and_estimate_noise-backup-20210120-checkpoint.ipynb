{
 "cells": [
  {
   "cell_type": "markdown",
   "metadata": {},
   "source": [
    "# Detrend and Estimate Noise"
   ]
  },
  {
   "cell_type": "code",
   "execution_count": 1,
   "metadata": {},
   "outputs": [],
   "source": [
    "import numpy as np\n",
    "import matplotlib.pyplot as plt\n",
    "\n",
    "import scipy.optimize as op\n",
    "import scipy.signal as sig\n",
    "from   scipy import stats\n",
    "from   scipy import fftpack\n",
    "from   scipy import ndimage\n",
    "from   scipy.interpolate import UnivariateSpline\n",
    "import astropy\n",
    "from   astropy.io import fits as pyfits\n",
    "\n",
    "import csv\n",
    "import sys\n",
    "import os\n",
    "import importlib as imp\n",
    "import glob\n",
    "from   timeit import default_timer as timer\n",
    "import warnings\n",
    "import progressbar\n",
    "import argparse\n",
    "import json\n",
    "from   copy import deepcopy\n",
    "\n",
    "import lightkurve as lk\n",
    "import exoplanet as exo\n",
    "import theano.tensor as T\n",
    "import pymc3 as pm\n",
    "import corner\n",
    "\n",
    "from alderaan.constants import *\n",
    "from alderaan.utils import *\n",
    "from alderaan.Planet import *\n",
    "from alderaan.LiteCurve import *\n",
    "import alderaan.io as io\n",
    "import alderaan.detrend as detrend\n",
    "import alderaan.noise as noise\n",
    "from alderaan.omc import omc_model\n",
    "from alderaan.omc import choose_omc_model\n",
    "\n",
    "\n",
    "# flush buffer to avoid mixed outputs from progressbar\n",
    "sys.stdout.flush()\n",
    "\n",
    "# turn off FutureWarnings\n",
    "warnings.filterwarnings('ignore', category=FutureWarning)\n",
    "\n",
    "# start program timer\n",
    "global_start_time = timer()\n",
    "\n",
    "# LCIT and SCIT in [1/days]\n",
    "lcit = LCIT/60/24\n",
    "scit = SCIT/3600/24"
   ]
  },
  {
   "cell_type": "markdown",
   "metadata": {},
   "source": [
    "# Manually set I/O parameters\n",
    "#### User should manually set MISSION, TARGET, PRIMARY_DIR,  and CSV_FILE"
   ]
  },
  {
   "cell_type": "code",
   "execution_count": 2,
   "metadata": {},
   "outputs": [],
   "source": [
    "# select mission, target, and paths\n",
    "MISSION = \"Kepler\"\n",
    "TARGET  = \"K02086\"\n",
    "\n",
    "PRIMARY_DIR  = '/Users/research/projects/alderaan/'\n",
    "CSV_FILE     = PRIMARY_DIR + \"Catalogs/clean_kepler_catalog.csv\""
   ]
  },
  {
   "cell_type": "code",
   "execution_count": 3,
   "metadata": {},
   "outputs": [
    {
     "name": "stderr",
     "output_type": "stream",
     "text": [
      "usage: ipykernel_launcher.py [-h] --mission MISSION --target TARGET\n",
      "                             --primary_dir PRIMARY_DIR --csv_file CSV_FILE\n",
      "ipykernel_launcher.py: error: the following arguments are required: --mission, --target, --primary_dir, --csv_file\n"
     ]
    }
   ],
   "source": [
    "# here's where we parse the inputs\n",
    "try:\n",
    "    parser = argparse.ArgumentParser(description=\"Inputs for ALDERAAN transit fiting pipeline\")\n",
    "    parser.add_argument(\"--mission\", default=None, type=str, required=True, \\\n",
    "                        help=\"Mission name\")\n",
    "    parser.add_argument(\"--target\", default=None, type=str, required=True, \\\n",
    "                        help=\"Target name; see ALDERAAN documentation for acceptable formats\")\n",
    "    parser.add_argument(\"--primary_dir\", default=None, type=str, required=True, \\\n",
    "                        help=\"Primary directory path for accessing lightcurve data and saving outputs\")\n",
    "    parser.add_argument(\"--csv_file\", default=None, type=str, required=True, \\\n",
    "                        help=\"Path to .csv file containing input planetary parameters\")\n",
    "\n",
    "\n",
    "    args = parser.parse_args()\n",
    "    MISSION      = args.mission\n",
    "    TARGET       = args.target\n",
    "    PRIMARY_DIR  = args.primary_dir\n",
    "    CSV_FILE     = args.csv_file    \n",
    "    \n",
    "except:\n",
    "    pass"
   ]
  },
  {
   "cell_type": "code",
   "execution_count": 4,
   "metadata": {},
   "outputs": [],
   "source": [
    "HOLCZER_FILE = PRIMARY_DIR + \"Catalogs/holczer_2016_kepler_ttvs.txt\""
   ]
  },
  {
   "cell_type": "markdown",
   "metadata": {},
   "source": [
    "# Make sure the necessary paths exist"
   ]
  },
  {
   "cell_type": "code",
   "execution_count": 5,
   "metadata": {},
   "outputs": [],
   "source": [
    "# directory in which to find lightcurve data\n",
    "if MISSION == 'Kepler': DOWNLOAD_DIR = PRIMARY_DIR + 'MAST_downloads/'\n",
    "if MISSION == 'Simulated': DOWNLOAD_DIR = PRIMARY_DIR + 'Simulations/'\n",
    "\n",
    "# directories in which to place pipeline outputs\n",
    "FIGURE_DIR    = PRIMARY_DIR + 'Figures/' + TARGET + '/'\n",
    "TRACE_DIR     = PRIMARY_DIR + 'Traces/' + TARGET + '/'\n",
    "QUICK_TTV_DIR = PRIMARY_DIR + 'QuickTTVs/' + TARGET + '/'\n",
    "DLC_DIR       = PRIMARY_DIR + 'Detrended_lightcurves/' + TARGET + '/'\n",
    "NOISE_DIR     = PRIMARY_DIR + 'Noise_models/' + TARGET + '/'\n",
    "\n",
    "\n",
    "# check if all the paths exist and create them if not\n",
    "if os.path.exists(FIGURE_DIR) == False:\n",
    "    os.mkdir(FIGURE_DIR)\n",
    "    \n",
    "if os.path.exists(TRACE_DIR) == False:\n",
    "    os.mkdir(TRACE_DIR)\n",
    "    \n",
    "if os.path.exists(QUICK_TTV_DIR) == False:\n",
    "    os.mkdir(QUICK_TTV_DIR)\n",
    "    \n",
    "if os.path.exists(DLC_DIR) == False:\n",
    "    os.mkdir(DLC_DIR)\n",
    "    \n",
    "if os.path.exists(NOISE_DIR) == False:\n",
    "    os.mkdir(NOISE_DIR)"
   ]
  },
  {
   "cell_type": "markdown",
   "metadata": {},
   "source": [
    "# Read in planet and stellar parameters from Kepler DR25 & Gaia DR2"
   ]
  },
  {
   "cell_type": "code",
   "execution_count": 6,
   "metadata": {},
   "outputs": [
    {
     "name": "stdout",
     "output_type": "stream",
     "text": [
      "Reading in data from csv file\n"
     ]
    }
   ],
   "source": [
    "# Read in the data from csv file\n",
    "print('Reading in data from csv file')\n",
    "\n",
    "# read in a csv file containing info on targets\n",
    "csv_keys, csv_values = io.read_csv_file(CSV_FILE)\n",
    "\n",
    "# put these csv data into a dictionary\n",
    "target_dict = {}\n",
    "for k in csv_keys: \n",
    "    target_dict[k] = io.get_csv_data(k, csv_keys, csv_values)\n",
    "\n",
    "    \n",
    "if MISSION == 'Kepler':\n",
    "    # pull relevant quantities and establish GLOBAL variables\n",
    "    use = np.array(target_dict['koi_id']) == TARGET\n",
    "\n",
    "    KIC = np.array(target_dict['kic_id'], dtype='int')[use]\n",
    "    NPL = np.array(target_dict['npl'], dtype='int')[use]\n",
    "    \n",
    "    RSTAR = np.array(target_dict['rstar'],  dtype='float')[use]\n",
    "    RSTAR_ERR1 = np.array(target_dict['rstar_err1'],  dtype='float')[use]\n",
    "    RSTAR_ERR2 = np.array(target_dict['rstar_err2'],  dtype='float')[use]\n",
    "    \n",
    "    MSTAR  = np.array(target_dict['mstar'], dtype='float')[use]\n",
    "    MSTAR_ERR1 = np.array(target_dict['mstar_err1'],  dtype='float')[use]\n",
    "    MSTAR_ERR2 = np.array(target_dict['mstar_err2'],  dtype='float')[use]\n",
    "\n",
    "    PERIODS = np.array(target_dict['period'], dtype='float')[use]\n",
    "    EPOCHS  = np.array(target_dict['epoch'],  dtype='float')[use] - 2454833.0  # BKJD = BJD - 2454833\n",
    "    DEPTHS  = np.array(target_dict['depth'], dtype='float')[use]*1e-6          # [ppm] --> []\n",
    "    DURS    = np.array(target_dict['duration'], dtype='float')[use]/24         # [hrs] --> [days]\n",
    "\n",
    "    \n",
    "elif MISSION == 'Simulated':\n",
    "    # pull relevant quantities and establish GLOBAL variables\n",
    "    use = np.array(target_dict['id_sim']) == TARGET\n",
    "\n",
    "    KIC    = np.array(target_dict['kic'], dtype='int')[use]\n",
    "    NPL    = np.array(target_dict['npl'], dtype='int')[use]\n",
    "    RSTAR  = np.array(target_dict['rstar'],  dtype='float')[use]\n",
    "    MSTAR  = np.array(target_dict['mstar'], dtype='float')[use]\n",
    "\n",
    "    PERIODS = np.array(target_dict['period'], dtype='float')[use]\n",
    "    EPOCHS  = np.array(target_dict['epoch'],  dtype='float')[use]\n",
    "    DEPTHS  = np.array(target_dict['depth'], dtype='float')[use]*1e-6     # [ppm] --> []\n",
    "    DURS    = np.array(target_dict['dur'], dtype='float')[use]/24         # [hrs] --> [days]\n",
    "        \n",
    "    \n",
    "else:\n",
    "    raise ValueError(\"MISSION must be 'Kepler' or 'Simulated'\")"
   ]
  },
  {
   "cell_type": "code",
   "execution_count": 7,
   "metadata": {},
   "outputs": [],
   "source": [
    "# do some consistency checks\n",
    "if all(k == KIC[0] for k in KIC): KIC = KIC[0]\n",
    "else: raise ValueError('There are inconsistencies with KIC in the csv input file')\n",
    "\n",
    "if all(n == NPL[0] for n in NPL): NPL = NPL[0]\n",
    "else: raise ValueError('There are inconsistencies with NPL in the csv input file')\n",
    "\n",
    "if all(r == RSTAR[0] for r in RSTAR): RSTAR = RSTAR[0]\n",
    "else: raise ValueError('There are inconsistencies with RSTAR in the csv input file')\n",
    "\n",
    "if all(r == RSTAR_ERR1[0] for r in RSTAR_ERR1): RSTAR_ERR1 = RSTAR_ERR1[0]\n",
    "else: raise ValueError('There are inconsistencies with RSTAR_ERR1 in the csv input file')\n",
    "    \n",
    "if all(r == RSTAR_ERR2[0] for r in RSTAR_ERR2): RSTAR_ERR2 = RSTAR_ERR2[0]\n",
    "else: raise ValueError('There are inconsistencies with RSTAR_ERR2 in the csv input file')  \n",
    "    \n",
    "if all(m == MSTAR[0] for m in MSTAR): MSTAR = MSTAR[0]\n",
    "else: raise ValueError('There are inconsistencies with MSTAR in the csv input file')\n",
    "\n",
    "if all(m == MSTAR_ERR1[0] for m in MSTAR_ERR1): MSTAR_ERR1 = MSTAR_ERR1[0]\n",
    "else: raise ValueError('There are inconsistencies with MSTAR_ERR1 in the csv input file')\n",
    "    \n",
    "if all(m == MSTAR_ERR2[0] for m in MSTAR_ERR2): MSTAR_ERR2 = MSTAR_ERR2[0]\n",
    "else: raise ValueError('There are inconsistencies with MSTAR_ERR2 in the csv input file')  "
   ]
  },
  {
   "cell_type": "code",
   "execution_count": 8,
   "metadata": {},
   "outputs": [],
   "source": [
    "# combline stellar radius/mass uncertainties\n",
    "MSTAR_ERR = np.sqrt(MSTAR_ERR1**2 + MSTAR_ERR2**2)/np.sqrt(2)\n",
    "RSTAR_ERR = np.sqrt(RSTAR_ERR1**2 + RSTAR_ERR2**2)/np.sqrt(2)\n",
    "\n",
    "#initialize with solar limb darkening coefficients from EXOFAST\n",
    "U1 = 0.39940842\n",
    "U2 = 0.26477268\n",
    "UCOEFFS = [U1, U2]"
   ]
  },
  {
   "cell_type": "markdown",
   "metadata": {},
   "source": [
    "# Read in Holczer+ 2016 TTVs"
   ]
  },
  {
   "cell_type": "code",
   "execution_count": 9,
   "metadata": {},
   "outputs": [],
   "source": [
    "if MISSION == \"Kepler\":\n",
    "    holczer_data = np.loadtxt(HOLCZER_FILE, usecols=[0,1,2,3])\n",
    "\n",
    "    holczer_inds = []\n",
    "    holczer_tts  = []\n",
    "    holczer_pers = []\n",
    "\n",
    "    for npl in range(NPL):\n",
    "        koi = int(TARGET[1:]) + 0.01*(1+npl)\n",
    "        use = np.isclose(holczer_data[:,0], koi, rtol=1e-10, atol=1e-10)\n",
    "        \n",
    "        # Holczer uses BJD -24548900; BJKD = BJD - 2454833\n",
    "        if np.sum(use) > 0:\n",
    "            holczer_inds.append(np.array(holczer_data[use,1], dtype=\"int\"))\n",
    "            holczer_tts.append(holczer_data[use,2] + holczer_data[use,3]/24/60 + 67)\n",
    "            holczer_pers.append(np.median(holczer_tts[npl][1:] - holczer_tts[npl][:-1]))\n",
    "            \n",
    "        else:\n",
    "            holczer_inds.append(None)\n",
    "            holczer_tts.append(None)\n",
    "            holczer_pers.append(np.nan)\n",
    "            \n",
    "    holczer_pers = np.asarray(holczer_pers)"
   ]
  },
  {
   "cell_type": "markdown",
   "metadata": {},
   "source": [
    "# Read in pre-downloaded lightcurve data\n",
    "#### Kepler data can be retrieved by running the script \"download_from_MAST.py\"\n",
    "#### Simulated data can be produced by running the script \"simulate_lightcurve.py\""
   ]
  },
  {
   "cell_type": "code",
   "execution_count": 10,
   "metadata": {},
   "outputs": [],
   "source": [
    "if MISSION == 'Kepler':\n",
    "    # short cadence\n",
    "    try:\n",
    "        sc_path  = glob.glob(DOWNLOAD_DIR + 'mastDownload/Kepler/kplr' + '{0:09d}'.format(KIC) + '*_sc*/')[0]\n",
    "        sc_files = glob.glob(sc_path + '*')\n",
    "\n",
    "        sc_rawdata_list = []\n",
    "        for i, scf in enumerate(sc_files):\n",
    "            oscfi = lk.search.open(sc_files[i])\n",
    "            sc_rawdata_list.append(oscfi)\n",
    "\n",
    "        sc_rawdata = lk.LightCurveFileCollection(sc_rawdata_list)\n",
    "        sc_data = detrend.cleanup_lkfc(sc_rawdata, KIC)\n",
    "\n",
    "        sc_quarters = []\n",
    "        for i, scd in enumerate(sc_data):\n",
    "            sc_quarters.append(scd.quarter)\n",
    "    \n",
    "    except:\n",
    "        sc_data = []\n",
    "        sc_quarters = []\n",
    "        \n",
    "\n",
    "    # long cadence data\n",
    "    lc_path  = glob.glob(DOWNLOAD_DIR + 'mastDownload/Kepler/kplr' + '{0:09d}'.format(KIC) + '*_lc*/')[0]\n",
    "    lc_files = glob.glob(lc_path + '*')\n",
    "\n",
    "    lc_rawdata_list = []\n",
    "    for i, lcf in enumerate(lc_files):\n",
    "        olcfi = lk.search.open(lc_files[i])\n",
    "        \n",
    "        if ~np.isin(olcfi.quarter, sc_quarters):\n",
    "            lc_rawdata_list.append(olcfi)\n",
    "\n",
    "    lc_rawdata = lk.LightCurveFileCollection(lc_rawdata_list)\n",
    "    lc_data = detrend.cleanup_lkfc(lc_rawdata, KIC)\n",
    "        \n",
    "    lc_quarters = []\n",
    "    for i, lcd in enumerate(lc_data):\n",
    "        lc_quarters.append(lcd.quarter)\n",
    "        \n",
    "        \n",
    "elif MISSION == 'Simulated':\n",
    "    sc_files = glob.glob(DOWNLOAD_DIR + TARGET + '/*_sc.fits')\n",
    "    lc_files = glob.glob(DOWNLOAD_DIR + TARGET + '/*_lc.fits')\n",
    "    \n",
    "    sc_rawdata_list = []\n",
    "    for i, scf in enumerate(sc_files):\n",
    "        sc_rawdata_list.append(io.read_sim_fits(scf))\n",
    "    \n",
    "    sc_rawdata = lk.LightCurveCollection(sc_rawdata_list)\n",
    "    \n",
    "    sc_quarters = []\n",
    "    for i, scrd in enumerate(sc_rawdata):\n",
    "        sc_quarters.append(scrd.quarter)\n",
    "        \n",
    "    order = np.argsort(sc_quarters)    \n",
    "    sc_data = lk.LightCurveCollection([sc_rawdata_list[o] for o in order])\n",
    "            \n",
    "    \n",
    "    lc_rawdata_list = []\n",
    "    for i, lcf in enumerate(lc_files):      \n",
    "        lc_rawdata_list.append(io.read_sim_fits(lcf))\n",
    "    \n",
    "    lc_rawdata = lk.LightCurveCollection(lc_rawdata_list)\n",
    "    \n",
    "    lc_quarters = []\n",
    "    for i, lcrd in enumerate(lc_rawdata):\n",
    "        lc_quarters.append(lcrd.quarter)\n",
    "        \n",
    "    order = np.argsort(lc_quarters)    \n",
    "    lc_data = lk.LightCurveCollection([lc_rawdata_list[o] for o in order])"
   ]
  },
  {
   "cell_type": "code",
   "execution_count": 11,
   "metadata": {},
   "outputs": [],
   "source": [
    "# determine the time baseline\n",
    "time_min = []\n",
    "time_max = []\n",
    "\n",
    "try:\n",
    "    for i, scd in enumerate(sc_data):\n",
    "        time_min.append(scd.time.min())\n",
    "        time_max.append(scd.time.max())\n",
    "        \n",
    "except:\n",
    "    pass\n",
    "\n",
    "\n",
    "try:\n",
    "    for i, lcd in enumerate(lc_data):\n",
    "        time_min.append(lcd.time.min())\n",
    "        time_max.append(lcd.time.max())\n",
    "        \n",
    "except:\n",
    "    pass\n",
    "    \n",
    "    \n",
    "TIME_START = np.min(time_min) - 0.5*PERIODS.max()\n",
    "TIME_END   = np.max(time_max) + 0.5*PERIODS.max()\n",
    "\n",
    "\n",
    "# put epochs in range (TIME_START, TIME_START + PERIOD)\n",
    "for npl in range(NPL):\n",
    "    if EPOCHS[npl] < TIME_START:\n",
    "        adj = 1 + (TIME_START - EPOCHS[npl])//PERIODS[npl]\n",
    "        EPOCHS[npl] += adj*PERIODS[npl]        \n",
    "        \n",
    "    if EPOCHS[npl] > (TIME_START + PERIODS[npl]):\n",
    "        adj = (EPOCHS[npl] - TIME_START)//PERIODS[npl]\n",
    "        EPOCHS[npl] -= adj*PERIODS[npl]"
   ]
  },
  {
   "cell_type": "markdown",
   "metadata": {},
   "source": [
    "# Initialize Planet objects"
   ]
  },
  {
   "cell_type": "code",
   "execution_count": 12,
   "metadata": {},
   "outputs": [
    {
     "name": "stdout",
     "output_type": "stream",
     "text": [
      "Initializing 3 Planet objects\n"
     ]
    }
   ],
   "source": [
    "# initialize Planet objects\n",
    "print('Initializing %d Planet objects' %NPL)\n",
    "\n",
    "planets = []\n",
    "for npl in range(NPL):\n",
    "    p = Planet()\n",
    "    \n",
    "    # put in some basic transit parameters\n",
    "    p.epoch    = EPOCHS[npl]\n",
    "    p.period   = PERIODS[npl]\n",
    "    p.depth    = DEPTHS[npl]\n",
    "    p.duration = DURS[npl]\n",
    "    p.impact   = 0.25\n",
    "    p.esinw    = np.sqrt(0.0355)*np.random.randn()\n",
    "    p.ecosw    = np.sqrt(0.0355)*np.random.randn()\n",
    "    \n",
    "    # estimate transit times from linear ephemeris\n",
    "    p.tts = np.arange(p.epoch, TIME_END, p.period)\n",
    "\n",
    "    # make transit indexes\n",
    "    p.index = np.array(np.round((p.tts-p.epoch)/p.period),dtype='int')\n",
    "    \n",
    "    # add to list\n",
    "    planets.append(p)\n",
    "\n",
    "\n",
    "# put planets in order by period\n",
    "order = np.argsort(PERIODS)\n",
    "\n",
    "sorted_planets = []\n",
    "for npl in range(NPL):\n",
    "    sorted_planets.append(planets[order[npl]])\n",
    "\n",
    "planets = np.copy(sorted_planets)"
   ]
  },
  {
   "cell_type": "markdown",
   "metadata": {},
   "source": [
    "# Smooth and interpolate Holczer TTVs where they exist"
   ]
  },
  {
   "cell_type": "code",
   "execution_count": 13,
   "metadata": {},
   "outputs": [
    {
     "name": "stderr",
     "output_type": "stream",
     "text": [
      "WARNING: AstropyDeprecationWarning: Importing LombScargle from astropy.stats has been deprecated and will no longer be supported in future. Please import this class from the astropy.timeseries module instead [astropy.stats.lombscargle]\n"
     ]
    },
    {
     "data": {
      "image/png": "[encoded data removed]",
      "text/plain": [
       "<Figure size 864x288 with 1 Axes>"
      ]
     },
     "metadata": {
      "needs_background": "light"
     },
     "output_type": "display_data"
    }
   ],
   "source": [
    "for npl in range(NPL):\n",
    "    try:\n",
    "        # fit a linear ephemeris \n",
    "        pfit  = np.polyfit(holczer_inds[npl], holczer_tts[npl], 1)\n",
    "        ephem = np.polyval(pfit, holczer_inds[npl])\n",
    "\n",
    "\n",
    "        # put fitted epoch in range (TIME_START, TIME_START + PERIOD)\n",
    "        hper, hepoch = pfit\n",
    "\n",
    "        if hepoch < TIME_START:\n",
    "            adj = 1 + (TIME_START - hepoch)//hper\n",
    "            hepoch += adj*hper       \n",
    "\n",
    "        if hepoch > (TIME_START + hper):\n",
    "            adj = (hepoch - TIME_START)//hper\n",
    "            hepoch -= adj*hper      \n",
    "\n",
    "        hephem = np.arange(hepoch, TIME_END, hper)        \n",
    "        hinds  = np.array(np.round((hephem-hepoch)/hper),dtype='int')\n",
    "\n",
    "\n",
    "        # calculate OMC and flag outliers\n",
    "        xtime = np.copy(holczer_tts[npl])\n",
    "        yomc  = (holczer_tts[npl] - ephem)\n",
    "\n",
    "        ymed = ndimage.median_filter(yomc, size=5, mode=\"mirror\")\n",
    "        out  = np.abs(yomc-ymed)/astropy.stats.mad_std(yomc-ymed) > 5.0\n",
    "\n",
    "\n",
    "        # determine best OMC model\n",
    "        best_omc = choose_omc_model(xtime, yomc)\n",
    "\n",
    "        N = int(best_omc[0])\n",
    "        K = int(best_omc[1])\n",
    "        theta = best_omc[2:]\n",
    "\n",
    "        htts = hephem + omc_model(theta, hephem, N, K)\n",
    "\n",
    "        holczer_inds[npl] = np.copy(hinds)\n",
    "        holczer_tts[npl] = np.copy(htts)\n",
    "\n",
    "        # plot the OMC\n",
    "        plt.figure(figsize=(12,4))\n",
    "        plt.plot(xtime[~out], yomc[~out]*24*60, 'o', c=\"grey\", label=\"Holczer\")\n",
    "        plt.plot(xtime[out], yomc[out]*24*60, \"rx\")\n",
    "        plt.plot(htts, (htts-hephem)*24*60, \"k+\", label=\"Interpolation\")\n",
    "        plt.xlabel(\"Time [BJKD]\", fontsize=20)\n",
    "        plt.ylabel(\"O-C [min]\", fontsize=20)\n",
    "        plt.legend(fontsize=12)\n",
    "        plt.savefig(FIGURE_DIR + TARGET + \"_holczer_ttvs_\" + str(npl) + \".pdf\")\n",
    "        plt.show()\n",
    "        \n",
    "    except:\n",
    "        pass"
   ]
  },
  {
   "cell_type": "code",
   "execution_count": 14,
   "metadata": {
    "scrolled": false
   },
   "outputs": [],
   "source": [
    "# check if Holczer TTVs exist, and if so, replace the linear ephemeris\n",
    "for npl, p in enumerate(planets):\n",
    "    match = np.isclose(holczer_pers, p.period, rtol=0.1, atol=DURS.max())\n",
    "    \n",
    "    if np.sum(match) == 1:\n",
    "        loc = np.squeeze(np.where(match))\n",
    "    \n",
    "        hinds = holczer_inds[loc]\n",
    "        htts  = holczer_tts[loc]\n",
    "        \n",
    "        tt_delta = htts.min() - p.tts.min()\n",
    "        ind_delta = int(np.floor((tt_delta + 0.5*p.period)/p.period))\n",
    "        \n",
    "        p.tts[hinds + ind_delta] = np.copy(htts)\n",
    "        \n",
    "    if np.sum(match) > 1:\n",
    "        raise ValueError(\"Something has gone wrong matching periods between DR25 and Holczer+ 2016\")    \n",
    "    \n",
    "    ephem = np.polyval(np.polyfit(p.index, p.tts, 1), p.index)"
   ]
  },
  {
   "cell_type": "markdown",
   "metadata": {},
   "source": [
    "# Detrend the lightcurves"
   ]
  },
  {
   "cell_type": "code",
   "execution_count": 17,
   "metadata": {},
   "outputs": [],
   "source": [
    "# reset to raw data\n",
    "\n",
    "if MISSION == 'Kepler':\n",
    "    try:\n",
    "        sc_data = detrend.cleanup_lkfc(sc_rawdata, KIC)\n",
    "\n",
    "        sc_quarters = []\n",
    "        for i, scd in enumerate(sc_data):\n",
    "            sc_quarters.append(scd.quarter)    \n",
    "    \n",
    "    except:\n",
    "        pass\n",
    "    \n",
    "    \n",
    "    try:\n",
    "        lc_data = detrend.cleanup_lkfc(lc_rawdata, KIC)\n",
    "\n",
    "        lc_quarters = []\n",
    "        for i, lcd in enumerate(lc_data):\n",
    "            lc_quarters.append(lcd.quarter)\n",
    "            \n",
    "    except:\n",
    "        pass\n",
    "        \n",
    "\n",
    "        \n",
    "elif MISSION == 'Simulated':\n",
    "    sc_quarters = []\n",
    "    for i, scrd in enumerate(sc_rawdata):\n",
    "        sc_quarters.append(scrd.quarter)\n",
    "        \n",
    "    order = np.argsort(sc_quarters)    \n",
    "    sc_data = lk.LightCurveCollection([sc_rawdata_list[o] for o in order])\n",
    "            \n",
    "\n",
    "    lc_quarters = []\n",
    "    for i, lcrd in enumerate(lc_rawdata):\n",
    "        lc_quarters.append(lcrd.quarter)\n",
    "        \n",
    "    order = np.argsort(lc_quarters)    \n",
    "    lc_data = lk.LightCurveCollection([lc_rawdata_list[o] for o in order])"
   ]
  },
  {
   "cell_type": "code",
   "execution_count": 18,
   "metadata": {},
   "outputs": [
    {
     "data": {
      "image/png": "[encoded data removed]",
      "text/plain": [
       "<Figure size 1440x288 with 1 Axes>"
      ]
     },
     "metadata": {
      "needs_background": "light"
     },
     "output_type": "display_data"
    }
   ],
   "source": [
    "# clean up the LONG CADENCE data\n",
    "for i, lcq in enumerate(lc_data):\n",
    "    lcq = detrend.remove_flagged_cadences(lcq)\n",
    "    lcq = detrend.clip_outliers(lcq, kernel_size=13, sigma_upper=5.0, sigma_lower=5.0)\n",
    "    lc_data[i] = lcq\n",
    "\n",
    "# broadcast quarter and channel integers into arrays (for convenient use after stitching)\n",
    "for i, lcq in enumerate(lc_data):\n",
    "    lcq.quarter = lcq.quarter*np.ones(len(lcq.time))\n",
    "    lcq.channel = lcq.channel*np.ones(len(lcq.time))\n",
    "\n",
    "    \n",
    "if len(lc_data) > 0:\n",
    "    # combine quarters into a single LiteCurve\n",
    "    lc = detrend.stitch_lkc(lc_data)\n",
    "    \n",
    "    # make a mask where planets transit\n",
    "    lc_mask = np.zeros((NPL,len(lc.time)),dtype='bool')\n",
    "    for npl, p in enumerate(planets):\n",
    "        lc_mask[npl] = detrend.make_transitmask(lc.time, p.tts, p.duration, masksize=1.5)\n",
    "\n",
    "    lc.mask = deepcopy(lc_mask)\n",
    "    \n",
    "    # plot the non-detrended data\n",
    "    plt.figure(figsize=(20,4))\n",
    "    plt.plot(lc.time, lc.flux, c=\"k\", lw=0.5)\n",
    "    plt.xlim(lc.time.min(), lc.time.max())\n",
    "    plt.xlabel('Time [BKJD]', fontsize=20)\n",
    "    plt.ylabel('Relative Flux', fontsize=20)\n",
    "    plt.show()\n",
    "    \n",
    "else:\n",
    "    lc = None"
   ]
  },
  {
   "cell_type": "code",
   "execution_count": 19,
   "metadata": {},
   "outputs": [
    {
     "name": "stderr",
     "output_type": "stream",
     "text": [
      "optimizing logp for variables: [logvar, flux0, exp_amp, logtau, mix, log_deltaQ, log_Q0_off, log_per_off, log_amp]\n",
      "296it [00:04, 59.21it/s, logp=5.905601e+04]\n",
      "message: Desired error not necessarily achieved due to precision loss.\n",
      "logp: 58021.410601324475 -> 59056.008135270764\n",
      "optimizing logp for variables: [logvar, flux0, exp_amp, logtau, mix, log_deltaQ, log_Q0_off, log_per_off, log_amp]\n",
      "335it [00:04, 69.61it/s, logp=7.850112e+04]\n",
      "message: Desired error not necessarily achieved due to precision loss.\n",
      "logp: 76835.3174998225 -> 78501.11827085887\n",
      "optimizing logp for variables: [logvar, flux0, exp_amp, logtau, mix, log_deltaQ, log_Q0_off, log_per_off, log_amp]\n",
      "267it [00:03, 74.42it/s, logp=6.622435e+04] \n",
      "message: Desired error not necessarily achieved due to precision loss.\n",
      "logp: 65000.41762471945 -> 66224.35330120844\n",
      "optimizing logp for variables: [logvar, flux0, exp_amp, logtau, mix, log_deltaQ, log_Q0_off, log_per_off, log_amp]\n",
      "324it [00:04, 80.37it/s, logp=5.908769e+04]\n",
      "message: Desired error not necessarily achieved due to precision loss.\n",
      "logp: 58001.154803649835 -> 59087.689099475465\n"
     ]
    },
    {
     "data": {
      "image/png": "[encoded data removed]",
      "text/plain": [
       "<Figure size 1152x288 with 1 Axes>"
      ]
     },
     "metadata": {
      "needs_background": "light"
     },
     "output_type": "display_data"
    }
   ],
   "source": [
    "if lc is not None:    \n",
    "    # detrend\n",
    "    break_tolerance = int(DURS.max()/(LCIT/60/24)*5/2)\n",
    "    min_period = 5*DURS.max()\n",
    "    \n",
    "    lc = detrend.flatten_with_gp(lc, break_tolerance=break_tolerance, min_period=min_period)\n",
    "\n",
    "    # determine seasons\n",
    "    lc.season = lc.quarter % 4\n",
    "\n",
    "    # plot detrended data\n",
    "    plt.figure(figsize=(16,4))\n",
    "    plt.plot(lc.time, lc.flux, c='k', lw=0.5)\n",
    "    plt.xlim(lc.time.min(), lc.time.max())\n",
    "    plt.xlabel('Time [BKJD]', fontsize=20)\n",
    "    plt.ylabel('Relative Flux', fontsize=20)\n",
    "    plt.savefig(FIGURE_DIR + TARGET + '_long_cadence_flux.pdf', bbox_inches='tight')\n",
    "    plt.show()"
   ]
  },
  {
   "cell_type": "code",
   "execution_count": 20,
   "metadata": {},
   "outputs": [
    {
     "data": {
      "image/png": "[encoded data removed]",
      "text/plain": [
       "<Figure size 1440x288 with 1 Axes>"
      ]
     },
     "metadata": {
      "needs_background": "light"
     },
     "output_type": "display_data"
    }
   ],
   "source": [
    "# clean up the SHORT CADENCE data\n",
    "for i, scq in enumerate(sc_data):\n",
    "    scq = detrend.remove_flagged_cadences(scq)\n",
    "    scq = detrend.clip_outliers(scq, kernel_size=13, sigma_upper=5.0, sigma_lower=5.0)\n",
    "    sc_data[i] = scq\n",
    "\n",
    "# broadcast quarter and channel integers into arrays (for convenient use after stitching)\n",
    "for i, scq in enumerate(sc_data):\n",
    "    scq.quarter = scq.quarter*np.ones(len(scq.time))\n",
    "    scq.channel = scq.channel*np.ones(len(scq.time))\n",
    "\n",
    "    \n",
    "if len(sc_data) > 0:\n",
    "    # combine quarters into a single LiteCurve\n",
    "    sc = detrend.stitch_lkc(sc_data)\n",
    "    \n",
    "    # make a mask where planets transit\n",
    "    sc_mask = np.zeros((NPL,len(sc.time)),dtype='bool')\n",
    "    for npl, p in enumerate(planets):\n",
    "        sc_mask[npl] = detrend.make_transitmask(sc.time, p.tts, p.duration, masksize=1.5)\n",
    "\n",
    "    sc.mask = deepcopy(sc_mask)\n",
    "    \n",
    "    # plot the non-detrended data\n",
    "    plt.figure(figsize=(20,4))\n",
    "    plt.plot(sc.time, sc.flux, c=\"k\", lw=0.5)\n",
    "    plt.xlim(sc.time.min(), sc.time.max())\n",
    "    plt.show()\n",
    "    \n",
    "else:\n",
    "    sc = None"
   ]
  },
  {
   "cell_type": "code",
   "execution_count": 21,
   "metadata": {},
   "outputs": [
    {
     "name": "stderr",
     "output_type": "stream",
     "text": [
      "optimizing logp for variables: [logvar, flux0, exp_amp, logtau, mix, log_deltaQ, log_Q0_off, log_per_off, log_amp]\n",
      "226it [00:34,  6.85it/s, logp=9.118931e+05]\n",
      "message: Desired error not necessarily achieved due to precision loss.\n",
      "logp: 910293.3638714227 -> 911893.0819009913\n",
      "optimizing logp for variables: [logvar, flux0, exp_amp, logtau, mix, log_deltaQ, log_Q0_off, log_per_off, log_amp]\n",
      "374it [01:03,  5.88it/s, logp=1.042078e+06]\n",
      "message: Optimization terminated successfully.\n",
      "logp: 1040262.738055495 -> 1042077.517817874\n",
      "optimizing logp for variables: [logvar, flux0, exp_amp, logtau, mix, log_deltaQ, log_Q0_off, log_per_off, log_amp]\n",
      "249it [00:42,  5.75it/s, logp=1.045321e+06]\n",
      "message: Desired error not necessarily achieved due to precision loss.\n",
      "logp: 1043501.4422361235 -> 1045320.6027081151\n"
     ]
    },
    {
     "data": {
      "image/png": "[encoded data removed]",
      "text/plain": [
       "<Figure size 1152x288 with 1 Axes>"
      ]
     },
     "metadata": {
      "needs_background": "light"
     },
     "output_type": "display_data"
    }
   ],
   "source": [
    "if sc is not None:    \n",
    "    # detrend\n",
    "    break_tolerance = int(DURS.max()/(SCIT/3600/24)*5/2)\n",
    "    min_period = 5*DURS.max()\n",
    "    \n",
    "    sc = detrend.flatten_with_gp(sc, break_tolerance=break_tolerance, min_period=min_period)\n",
    "\n",
    "    # determine seasons\n",
    "    sc.season = sc.quarter % 4\n",
    "\n",
    "    # plot detrended data\n",
    "    plt.figure(figsize=(16,4))\n",
    "    plt.plot(sc.time, sc.flux, c='k', lw=0.5)\n",
    "    plt.xlim(sc.time.min(), sc.time.max())\n",
    "    plt.xlabel('Time [BKJD]', fontsize=20)\n",
    "    plt.ylabel('Relative Flux', fontsize=20)\n",
    "    plt.savefig(FIGURE_DIR + TARGET + '_short_cadence_flux.pdf', bbox_inches='tight')\n",
    "    plt.show()"
   ]
  },
  {
   "cell_type": "markdown",
   "metadata": {},
   "source": [
    "# Make individual mask for where each planet transits\n",
    "### These masks have width 1.5 transit durations, which may be wider than the masks used for detrending"
   ]
  },
  {
   "cell_type": "code",
   "execution_count": 22,
   "metadata": {},
   "outputs": [
    {
     "name": "stdout",
     "output_type": "stream",
     "text": [
      "Making transit masks\n"
     ]
    }
   ],
   "source": [
    "print('Making transit masks')\n",
    "try:\n",
    "    sc_mask = np.zeros((NPL,len(sc.time)),dtype='bool')\n",
    "    for npl, p in enumerate(planets):\n",
    "        sc_mask[npl] = detrend.make_transitmask(sc.time, p.tts, p.duration, masksize=1.5)\n",
    "\n",
    "    sc.mask = sc_mask\n",
    "\n",
    "except:\n",
    "    sc_mask = None\n",
    "\n",
    "    \n",
    "try:\n",
    "    lc_mask = np.zeros((NPL,len(lc.time)),dtype='bool')\n",
    "    for npl, p in enumerate(planets):\n",
    "        lc_mask[npl] = detrend.make_transitmask(lc.time, p.tts, p.duration, masksize=1.5)\n",
    "    \n",
    "    lc.mask = lc_mask\n",
    "\n",
    "except:\n",
    "    lc_mask = None"
   ]
  },
  {
   "cell_type": "markdown",
   "metadata": {},
   "source": [
    "# Flag which transits have photometry coverage (quality = 1)"
   ]
  },
  {
   "cell_type": "code",
   "execution_count": 23,
   "metadata": {},
   "outputs": [],
   "source": [
    "for npl, p in enumerate(planets):\n",
    "\n",
    "    quality = []\n",
    "\n",
    "    # cut out the stamps\n",
    "    for i, t0 in enumerate(p.tts):\n",
    "        try:\n",
    "            neartransit_sc = np.abs(sc.time - t0)/p.duration < 1.5\n",
    "            neartransit_lc = np.abs(lc.time - t0)/p.duration < 1.5\n",
    "        \n",
    "            quality.append((np.sum(neartransit_sc) + np.sum(neartransit_lc)) > 0)\n",
    "                        \n",
    "        except:\n",
    "            neartransit = np.abs(lc.time - t0)/p.duration < 1.5\n",
    "            quality.append(np.sum(neartransit) > 0)\n",
    "        \n",
    "    p.quality = quality"
   ]
  },
  {
   "cell_type": "markdown",
   "metadata": {},
   "source": [
    "# Flag which transits overlap (overlap = 1)"
   ]
  },
  {
   "cell_type": "code",
   "execution_count": 24,
   "metadata": {},
   "outputs": [],
   "source": [
    "# identify overlapping transits\n",
    "dur_max = np.max(DURS)\n",
    "overlap = []\n",
    "\n",
    "for i in range(NPL):\n",
    "    overlap.append(np.zeros(len(planets[i].tts), dtype='bool'))\n",
    "    \n",
    "    for j in range(NPL):\n",
    "        if i != j:\n",
    "            for ttj in planets[j].tts:\n",
    "                overlap[i] += np.abs(planets[i].tts - ttj) < dur_max\n",
    "                \n",
    "    planets[i].overlap = overlap[i]"
   ]
  },
  {
   "cell_type": "markdown",
   "metadata": {},
   "source": [
    "# Set dummy values for GP priors"
   ]
  },
  {
   "cell_type": "code",
   "execution_count": 25,
   "metadata": {
    "scrolled": false
   },
   "outputs": [
    {
     "name": "stdout",
     "output_type": "stream",
     "text": [
      "Setting dummy values for GP priors\n",
      "\n"
     ]
    }
   ],
   "source": [
    "print('Setting dummy values for GP priors\\n')\n",
    "gp_priors = []\n",
    "\n",
    "for i in range(4):\n",
    "    # these are dummy values that effectively create a zero-amplitude kernel\n",
    "    gpi = {}\n",
    "    gpi['logw0'] = [np.log(2*pi/(5*DURS.max()))]\n",
    "    gpi['logSw4'] = [-40.]\n",
    "    gpi['logQ'] = [np.log(1/np.sqrt(2))]\n",
    "    gp_priors.append(gpi)"
   ]
  },
  {
   "cell_type": "markdown",
   "metadata": {},
   "source": [
    "# Grab the relevant data and starting transit parameters"
   ]
  },
  {
   "cell_type": "code",
   "execution_count": 26,
   "metadata": {},
   "outputs": [],
   "source": [
    "# grab data near transits for each quarter\n",
    "all_time = []\n",
    "all_flux = []\n",
    "all_error = []\n",
    "all_dtype = []\n",
    "\n",
    "lc_flux = []\n",
    "sc_flux = []\n",
    "\n",
    "if sc is not None:\n",
    "    for q in range(18):\n",
    "        if np.isin(q, sc.quarter)*np.isin(q, lc.quarter):\n",
    "            raise ValueError(\"Double counting data in both short and long cadence\")\n",
    "\n",
    "\n",
    "        elif np.isin(q, sc.quarter):\n",
    "            use = (sc.mask.sum(axis=0) > 0)*(sc.quarter == q)\n",
    "\n",
    "            if np.sum(use) > 45:\n",
    "                all_time.append(sc.time[use])\n",
    "                all_flux.append(sc.flux[use])\n",
    "                all_error.append(sc.error[use])\n",
    "                all_dtype.append('short')\n",
    "\n",
    "                sc_flux.append(sc.flux[use])\n",
    "                \n",
    "            else:\n",
    "                all_time.append(None)\n",
    "                all_flux.append(None)\n",
    "                all_error.append(None)\n",
    "                all_dtype.append('none')\n",
    "\n",
    "\n",
    "        elif np.isin(q, lc.quarter):\n",
    "            use = (lc.mask.sum(axis=0) > 0)*(lc.quarter == q)\n",
    "            \n",
    "            if np.sum(use) > 3:\n",
    "                all_time.append(lc.time[use])\n",
    "                all_flux.append(lc.flux[use])\n",
    "                all_error.append(lc.error[use])\n",
    "                all_dtype.append('long')\n",
    "\n",
    "                lc_flux.append(lc.flux[use])\n",
    "                \n",
    "            else:\n",
    "                all_time.append(None)\n",
    "                all_flux.append(None)\n",
    "                all_error.append(None)\n",
    "                all_dtype.append('none')\n",
    "\n",
    "\n",
    "        else:\n",
    "            all_time.append(None)\n",
    "            all_flux.append(None)\n",
    "            all_error.append(None)\n",
    "            all_dtype.append('none')\n",
    "            \n",
    "else:\n",
    "    for q in range(18):\n",
    "        if np.isin(q, lc.quarter):\n",
    "            use = (lc.mask.sum(axis=0) > 0)*(lc.quarter == q)\n",
    "\n",
    "            if np.sum(use) > 3:\n",
    "                all_time.append(lc.time[use])\n",
    "                all_flux.append(lc.flux[use])\n",
    "                all_error.append(lc.error[use])\n",
    "                all_dtype.append('long')\n",
    "\n",
    "                lc_flux.append(lc.flux[use])\n",
    "                \n",
    "            else:\n",
    "                all_time.append(None)\n",
    "                all_flux.append(None)\n",
    "                all_error.append(None)\n",
    "                all_dtype.append('none')\n",
    "\n",
    "\n",
    "        else:\n",
    "            all_time.append(None)\n",
    "            all_flux.append(None)\n",
    "            all_error.append(None)\n",
    "            all_dtype.append('none')\n",
    "\n",
    "\n",
    "\n",
    "# check which quarters have data\n",
    "good = (np.array(all_dtype) == 'short') + (np.array(all_dtype) == 'long')\n",
    "quarters = np.arange(18)[good]\n",
    "nq = len(quarters)\n",
    "\n",
    "\n",
    "# make some linear flux arrays (for convenience use laster)\n",
    "try: sc_flux_lin = np.hstack(sc_flux)\n",
    "except: sc_flux_lin = np.array([])\n",
    "    \n",
    "try: lc_flux_lin = np.hstack(lc_flux)\n",
    "except: lc_flux_lin = np.array([])\n",
    "    \n",
    "try:\n",
    "    good_flux = np.hstack([sc_flux_lin, lc_flux_lin])\n",
    "except:\n",
    "    try:\n",
    "        good_flux = np.hstack(sc_flux)\n",
    "    except:\n",
    "        good_flux = np.hstack(lc_flux)"
   ]
  },
  {
   "cell_type": "code",
   "execution_count": 27,
   "metadata": {},
   "outputs": [],
   "source": [
    "# pull basic transit parameters\n",
    "epochs    = np.zeros(NPL)\n",
    "periods   = np.zeros(NPL)\n",
    "depths    = np.zeros(NPL)\n",
    "durations = np.zeros(NPL)\n",
    "impacts   = np.zeros(NPL)\n",
    "\n",
    "for npl, p in enumerate(planets):\n",
    "    epochs[npl]    = p.epoch\n",
    "    periods[npl]   = p.period\n",
    "    depths[npl]    = p.depth\n",
    "    durations[npl] = p.duration\n",
    "    impacts[npl]   = p.impact\n",
    "\n",
    "radii = np.sqrt(depths)*RSTAR"
   ]
  },
  {
   "cell_type": "code",
   "execution_count": 28,
   "metadata": {},
   "outputs": [
    {
     "name": "stdout",
     "output_type": "stream",
     "text": [
      "\n",
      "cumulative runtime =  352 s\n",
      "\n"
     ]
    }
   ],
   "source": [
    "print('')\n",
    "print('cumulative runtime = ', int(timer() - global_start_time), 's')\n",
    "print('')"
   ]
  },
  {
   "cell_type": "markdown",
   "metadata": {},
   "source": [
    "# (1) Fit POLYNOMIAL TTVs"
   ]
  },
  {
   "cell_type": "markdown",
   "metadata": {},
   "source": [
    "The TTV model is built as perturbations from fixed (i.e. invariant) transit times. These transit times (\"FIXED_TTSS\") are not varied during model fitting. If TTVs are available from Holczer+ 2016, these are used; if not, the fixed transit times determined from a linear ephemeris using Kepler DR25 epoch and period.\n",
    "\n",
    "Long-term, secular TTVs are parameterized as 3rd order Legendre polynomials as functions of dimensionless variable (\"x\") in the range (-1,1)\n",
    "\n",
    "Unlike the transit time and index values attached to each Planet object, there may be gaps in the FIXED_TTS vector where there is no available photometric data."
   ]
  },
  {
   "cell_type": "code",
   "execution_count": 29,
   "metadata": {},
   "outputs": [
    {
     "name": "stdout",
     "output_type": "stream",
     "text": [
      "\n",
      "(1) Fitting POLYNOMIAL TTV model\n"
     ]
    }
   ],
   "source": [
    "print('\\n(1) Fitting POLYNOMIAL TTV model')"
   ]
  },
  {
   "cell_type": "code",
   "execution_count": 30,
   "metadata": {},
   "outputs": [],
   "source": [
    "# pull transit_inds (zero indexed) and calculate initial Keplerian ephemeris\n",
    "num_transits  = np.zeros(NPL)\n",
    "transit_inds  = []\n",
    "\n",
    "FIXED_TTS = []\n",
    "\n",
    "for npl, p in enumerate(planets):\n",
    "    transit_inds.append((p.index - p.index.min())[p.quality])\n",
    "    FIXED_TTS.append(np.copy(p.tts)[p.quality])\n",
    "    \n",
    "    num_transits[npl] = len(transit_inds[npl])\n",
    "    \n",
    "# use Legendre polynomials for better orthogonality; \"x\" is in the range (-1,1)\n",
    "Leg0 = []\n",
    "Leg1 = []\n",
    "Leg2 = []\n",
    "Leg3 = []\n",
    "t = []\n",
    "\n",
    "# this assumes a baseline in the range (TIME_START,TIME_END)\n",
    "for npl, p in enumerate(planets):    \n",
    "    t.append(p.epoch + transit_inds[npl]*p.period)\n",
    "    x = 2*(t[npl]-TIME_START)/(TIME_END-TIME_START) - 1\n",
    "\n",
    "    Leg0.append(np.ones_like(x))\n",
    "    Leg1.append(x.copy())\n",
    "    Leg2.append(0.5*(3*x**2 - 1))\n",
    "    Leg3.append(0.5*(5*x**3 - 3*x))"
   ]
  },
  {
   "cell_type": "code",
   "execution_count": 31,
   "metadata": {},
   "outputs": [],
   "source": [
    "with pm.Model() as poly_model:\n",
    "    # stellar parameters (limb darkening using Kipping 2013)\n",
    "    u = exo.distributions.QuadLimbDark('u', testval=np.array([U1,U2]))\n",
    "\n",
    "    Rstar = pm.Bound(pm.Normal, lower=RSTAR-3*RSTAR_ERR, upper=RSTAR+3*RSTAR_ERR)('Rstar', mu=RSTAR, sd=RSTAR_ERR)\n",
    "    Mstar = pm.Bound(pm.Normal, lower=MSTAR-3*MSTAR_ERR, upper=MSTAR+3*MSTAR_ERR)('Mstar', mu=MSTAR, sd=MSTAR_ERR)\n",
    "\n",
    "    \n",
    "    # planetary parameters (impact parameter using Espinoza 2018)\n",
    "    logr = pm.Uniform('logr', lower=np.log(0.0003), upper=np.log(0.3), testval=np.log(radii), shape=NPL)\n",
    "    rp   = pm.Deterministic('rp', T.exp(logr))\n",
    "    \n",
    "    b  = exo.distributions.ImpactParameter('b', ror=rp/Rstar, testval=impacts, shape=NPL)\n",
    "    \n",
    "    \n",
    "    # polynomial TTV parameters    \n",
    "    C0 = pm.Normal('C0', mu=0.0, sd=durations/2, shape=NPL)\n",
    "    C1 = pm.Normal('C1', mu=0.0, sd=durations/2, shape=NPL)\n",
    "    C2 = []\n",
    "    C3 = []\n",
    "    \n",
    "    for npl in range(NPL):\n",
    "        if len(transit_inds[npl]) > 7:\n",
    "            C2.append(pm.Normal('C2_{0}'.format(npl), mu=0.0, sd=durations[npl]/4))\n",
    "        else:\n",
    "            C2.append(0.)\n",
    "            \n",
    "        if len(transit_inds[npl]) > 15:\n",
    "            C3.append(pm.Normal('C3_{0}'.format(npl), mu=0.0, sd=durations[npl]/4))\n",
    "        else:\n",
    "            C3.append(0.)\n",
    "    \n",
    "\n",
    "    transit_times = []\n",
    "    for npl in range(NPL):\n",
    "        transit_times.append(pm.Deterministic('tts_{0}'.format(npl), \\\n",
    "                                              FIXED_TTS[npl] + \\\n",
    "                                              C0[npl]*Leg0[npl] + C1[npl]*Leg1[npl] + \\\n",
    "                                              C2[npl]*Leg2[npl] + C3[npl]*Leg3[npl]))\n",
    "    \n",
    "    \n",
    "    # set up stellar model and planetary orbit\n",
    "    exoSLC = exo.StarryLightCurve(u)\n",
    "    orbit  = exo.orbits.TTVOrbit(transit_times=transit_times, transit_inds=transit_inds, \\\n",
    "                                 b=b, r_star=Rstar, m_star=Mstar)\n",
    "    \n",
    "    # track period and epoch\n",
    "    T0 = pm.Deterministic('T0', orbit.t0)\n",
    "    P  = pm.Deterministic('P', orbit.period)\n",
    "    \n",
    "    \n",
    "    # build the GP kernel using a different noise model for each season\n",
    "    logSw4 = [None]*4\n",
    "    logw0  = [None]*4\n",
    "    logQ   = [None]*4\n",
    "    \n",
    "    kernel  = [None]*4\n",
    "    \n",
    "    for i in range(4):\n",
    "        gpi = gp_priors[i]\n",
    "        \n",
    "        try:\n",
    "            logSw4[i] = pm.Normal('logSw4_{0}'.format(i), mu=gpi['logSw4'][0], sd=gpi['logSw4'][1])\n",
    "        except:\n",
    "            logSw4[i] = gpi['logSw4'][0]\n",
    "            \n",
    "        try:\n",
    "            logw0[i] = pm.Normal('logw0_{0}'.format(i), mu=gpi['logw0'][0], sd=gpi['logw0'][1])\n",
    "        except:\n",
    "            logw0[i] = gpi['logw0'][0]\n",
    "\n",
    "        try:\n",
    "            logQ[i] = pm.Normal('logQ_{0}'.format(i), mu=gpi['logQ'][0], sd=gpi['logQ'][1])\n",
    "        except:\n",
    "            logQ[i] = gpi['logQ'][0]\n",
    "\n",
    "        \n",
    "        kernel[i] = exo.gp.terms.SHOTerm(log_Sw4=logSw4[i], log_w0=logw0[i], log_Q=logQ[i])\n",
    "        \n",
    "        \n",
    "    # nuissance parameters\n",
    "    flux0 = pm.Normal('flux0', mu=1.0, sd=np.std(good_flux))\n",
    "\n",
    "    if len(sc_flux_lin) > 1:\n",
    "        logvar = pm.Normal('logvar', mu=np.log(np.var(sc_flux_lin)), sd=np.log(4))\n",
    "    else:\n",
    "        logvar = pm.Normal('logvar', mu=np.log(np.var(lc_flux_lin)*30), sd=np.log(4))\n",
    "    \n",
    "    \n",
    "    # now evaluate the model for each quarter\n",
    "    light_curves       = [None]*nq\n",
    "    summed_light_curve = [None]*nq\n",
    "    model_flux         = [None]*nq\n",
    "    \n",
    "    gp      = [None]*nq\n",
    "    gp_pred = [None]*nq\n",
    "    \n",
    "    \n",
    "    for j, q in enumerate(quarters):\n",
    "        # set oversampling factor\n",
    "        if all_dtype[q] == 'short':\n",
    "            oversample = 1\n",
    "        elif all_dtype[q] == 'long':\n",
    "            oversample = 15\n",
    "            \n",
    "        # calculate light curves\n",
    "        light_curves[j] = exoSLC.get_light_curve(orbit=orbit, r=rp, t=all_time[q], oversample=oversample)\n",
    "        summed_light_curve[j] = pm.math.sum(light_curves[j], axis=-1) + flux0*T.ones(len(all_time[q]))\n",
    "        model_flux[j] = pm.Deterministic('model_flux_{0}'.format(j), summed_light_curve[j])\n",
    "        \n",
    "        # here's the GP (w/ kernel by season)\n",
    "        if all_dtype[q] == 'short':\n",
    "            gp[j] = exo.gp.GP(kernel[q%4], all_time[q], T.exp(logvar)*T.ones(len(all_time[q])))\n",
    "            \n",
    "        elif all_dtype[q] == 'long':\n",
    "            gp[j] = exo.gp.GP(kernel[q%4], all_time[q], T.exp(logvar)/30*T.ones(len(all_time[q])))\n",
    "            \n",
    "        else:\n",
    "            raise ValueError(\"Cadence data type must be 'short' or 'long'\")\n",
    "\n",
    "\n",
    "        # add custom potential (log-prob fxn) with the GP likelihood\n",
    "        pm.Potential('obs_{0}'.format(j), gp[j].log_likelihood(all_flux[q] - model_flux[j]))\n",
    "\n",
    "\n",
    "        # track GP prediction\n",
    "        gp_pred[j] = pm.Deterministic('gp_pred_{0}'.format(j), gp[j].predict())"
   ]
  },
  {
   "cell_type": "code",
   "execution_count": 32,
   "metadata": {},
   "outputs": [
    {
     "name": "stderr",
     "output_type": "stream",
     "text": [
      "optimizing logp for variables: [logvar, flux0]\n",
      "78it [00:06, 12.44it/s, logp=6.132573e+05]\n",
      "message: Desired error not necessarily achieved due to precision loss.\n",
      "logp: 613157.32598983 -> 613257.265468222\n",
      "optimizing logp for variables: [b, logr, Rstar]\n",
      "147it [00:15,  9.71it/s, logp=6.135013e+05]\n",
      "message: Desired error not necessarily achieved due to precision loss.\n",
      "logp: 613157.32598983 -> 613501.2662281288\n",
      "optimizing logp for variables: [Mstar, u]\n",
      "31it [00:07,  4.06it/s, logp=6.135057e+05]\n",
      "message: Desired error not necessarily achieved due to precision loss.\n",
      "logp: 613501.2662281288 -> 613505.673889549\n",
      "optimizing logp for variables: [C1, C0]\n",
      "67it [00:12,  5.42it/s, logp=6.135076e+05]\n",
      "message: Desired error not necessarily achieved due to precision loss.\n",
      "logp: 613505.673889549 -> 613507.553248755\n",
      "optimizing logp for variables: [C3_0, C2_0]\n",
      "86it [00:07, 11.72it/s, logp=6.135561e+05]\n",
      "message: Desired error not necessarily achieved due to precision loss.\n",
      "logp: 613507.553248755 -> 613556.0703392365\n",
      "optimizing logp for variables: [C3_1, C2_1]\n",
      "87it [00:13,  6.59it/s, logp=6.135562e+05]\n",
      "message: Desired error not necessarily achieved due to precision loss.\n",
      "logp: 613556.0703392365 -> 613556.1888389032\n",
      "optimizing logp for variables: [C3_2, C2_2]\n",
      "20it [00:01, 11.51it/s, logp=6.136058e+05]\n",
      "message: Optimization terminated successfully.\n",
      "logp: 613556.1888389032 -> 613605.7513208201\n",
      "optimizing logp for variables: [logvar, flux0, C3_2, C2_2, C3_1, C2_1, C3_0, C2_0, C1, C0, b, logr, Mstar, Rstar, u]\n",
      "124it [00:11, 10.48it/s, logp=6.136833e+05]\n",
      "message: Desired error not necessarily achieved due to precision loss.\n",
      "logp: 613605.7513208201 -> 613683.2529689793\n"
     ]
    }
   ],
   "source": [
    "with poly_model:\n",
    "    poly_map = exo.optimize(start=poly_model.test_point, vars=[flux0, logvar])\n",
    "    poly_map = exo.optimize(start=poly_model.test_point, vars=[b])\n",
    "    poly_map = exo.optimize(start=poly_map, vars=[u, Mstar])\n",
    "    poly_map = exo.optimize(start=poly_map, vars=[C0, C1])\n",
    "    \n",
    "    for npl in range(NPL):\n",
    "        try: poly_map = exo.optimize(start=poly_map, vars=[C2[npl], C3[npl]])\n",
    "        except:\n",
    "            try: poly_map = exo.optimize(start=poly_map, vars=[C2[npl]])\n",
    "            except: pass\n",
    "\n",
    "    poly_map = exo.optimize(start=poly_map)"
   ]
  },
  {
   "cell_type": "code",
   "execution_count": 33,
   "metadata": {},
   "outputs": [
    {
     "data": {
      "image/png": "[encoded data removed]",
      "text/plain": [
       "<Figure size 1440x288 with 1 Axes>"
      ]
     },
     "metadata": {
      "needs_background": "light"
     },
     "output_type": "display_data"
    }
   ],
   "source": [
    "# grab the model flux and gp prediction\n",
    "model_flux = []\n",
    "gp_pred = []\n",
    "\n",
    "for j, q in enumerate(quarters):\n",
    "    model_flux.append(poly_map['model_flux_{0}'.format(j)])\n",
    "    gp_pred.append(poly_map['gp_pred_{0}'.format(j)])\n",
    "\n",
    "\n",
    "# plot the model lightcurve\n",
    "plt.figure(figsize=(20,4))\n",
    "for j, q in enumerate(quarters):\n",
    "    plt.plot(all_time[q], all_flux[q], '.', color='lightgrey')\n",
    "    plt.plot(all_time[q], model_flux[j] + gp_pred[j])\n",
    "plt.show()"
   ]
  },
  {
   "cell_type": "code",
   "execution_count": 34,
   "metadata": {
    "scrolled": false
   },
   "outputs": [
    {
     "data": {
      "image/png": "[encoded data removed]",
      "text/plain": [
       "<Figure size 864x576 with 3 Axes>"
      ]
     },
     "metadata": {
      "needs_background": "light"
     },
     "output_type": "display_data"
    }
   ],
   "source": [
    "# grab transit times and ephemeris\n",
    "poly_transit_times = []\n",
    "poly_ephemeris = []\n",
    "\n",
    "for npl, p in enumerate(planets):\n",
    "    poly_transit_times.append(poly_map['tts_{0}'.format(npl)])\n",
    "    poly_ephemeris.append(poly_map['P'][npl]*transit_inds[npl] + poly_map['T0'][npl])\n",
    "\n",
    "    \n",
    "# plot the OMC TTVs\n",
    "fig, axes = plt.subplots(NPL, figsize=(12,8))\n",
    "\n",
    "for npl, p in enumerate(planets):\n",
    "    xtime = poly_transit_times[npl]\n",
    "    yomc  = (poly_transit_times[npl] - poly_ephemeris[npl])*24*60\n",
    "    \n",
    "    axes[npl].plot(xtime, yomc, '.', c='C{0}'.format(npl))\n",
    "    axes[npl].set_ylabel('O-C [min]', fontsize=20)\n",
    "axes[NPL-1].set_xlabel('Time [BJKD]', fontsize=20)\n",
    "plt.savefig(FIGURE_DIR + TARGET + '_ttvs_poly.pdf', bbox_inches='tight')\n",
    "plt.show()"
   ]
  },
  {
   "cell_type": "code",
   "execution_count": 35,
   "metadata": {},
   "outputs": [
    {
     "name": "stdout",
     "output_type": "stream",
     "text": [
      "\n",
      "cumulative runtime =  646 s\n",
      "\n"
     ]
    }
   ],
   "source": [
    "print('')\n",
    "print('cumulative runtime = ', int(timer() - global_start_time), 's')\n",
    "print('')"
   ]
  },
  {
   "cell_type": "markdown",
   "metadata": {},
   "source": [
    "# (2) Fit independent TTVs"
   ]
  },
  {
   "cell_type": "code",
   "execution_count": 36,
   "metadata": {},
   "outputs": [
    {
     "name": "stdout",
     "output_type": "stream",
     "text": [
      "\n",
      "(2) Fitting INDEPENDENT TTV model\n"
     ]
    }
   ],
   "source": [
    "print('\\n(2) Fitting INDEPENDENT TTV model')"
   ]
  },
  {
   "cell_type": "code",
   "execution_count": 37,
   "metadata": {},
   "outputs": [],
   "source": [
    "rp = poly_map['rp']\n",
    "b  = poly_map['b']\n",
    "\n",
    "Rstar = poly_map['Rstar']\n",
    "Mstar = poly_map['Mstar']\n",
    "u = poly_map['u']"
   ]
  },
  {
   "cell_type": "code",
   "execution_count": 38,
   "metadata": {},
   "outputs": [],
   "source": [
    "with pm.Model() as indep_model:\n",
    "    # transit times\n",
    "    tt_offset = []\n",
    "    transit_times = []\n",
    "    for npl in range(NPL):\n",
    "        tt_offset.append(pm.StudentT('tt_offset_{0}'.format(npl), nu=2, shape=len(poly_transit_times[npl])))\n",
    "        \n",
    "        transit_times.append(pm.Deterministic('tts_{0}'.format(npl), \\\n",
    "                                              poly_transit_times[npl] + tt_offset[npl]*durations[npl]/3))\n",
    "    \n",
    "    # set up stellar model and planetary orbit\n",
    "    exoSLC = exo.StarryLightCurve(u)\n",
    "    orbit  = exo.orbits.TTVOrbit(transit_times=transit_times, transit_inds=transit_inds, \\\n",
    "                                 b=b, r_star=Rstar, m_star=Mstar)\n",
    "    \n",
    "    # track period and epoch\n",
    "    T0 = pm.Deterministic('T0', orbit.t0)\n",
    "    P  = pm.Deterministic('P', orbit.period)\n",
    "    \n",
    "    \n",
    "    # build the GP kernel using a different noise model for each season\n",
    "    logSw4 = [None]*4\n",
    "    logw0  = [None]*4\n",
    "    logQ   = [None]*4\n",
    "    \n",
    "    kernel  = [None]*4\n",
    "    \n",
    "    for i in range(4):\n",
    "        gpi = gp_priors[i]\n",
    "        \n",
    "        try:\n",
    "            logSw4[i] = pm.Normal('logSw4_{0}'.format(i), mu=gpi['logSw4'][0], sd=gpi['logSw4'][1])\n",
    "        except:\n",
    "            logSw4[i] = gpi['logSw4'][0]\n",
    "            \n",
    "        try:\n",
    "            logw0[i] = pm.Normal('logw0_{0}'.format(i), mu=gpi['logw0'][0], sd=gpi['logw0'][1])\n",
    "        except:\n",
    "            logw0[i] = gpi['logw0'][0]\n",
    "\n",
    "        try:\n",
    "            logQ[i] = pm.Normal('logQ_{0}'.format(i), mu=gpi['logQ'][0], sd=gpi['logQ'][1])\n",
    "        except:\n",
    "            logQ[i] = gpi['logQ'][0]\n",
    "\n",
    "        \n",
    "        kernel[i] = exo.gp.terms.SHOTerm(log_Sw4=logSw4[i], log_w0=logw0[i], log_Q=logQ[i])\n",
    "        \n",
    "        \n",
    "        \n",
    "    # nuissance parameters\n",
    "    flux0 = pm.Normal('flux0', mu=1.0, sd=np.std(good_flux))\n",
    "\n",
    "    if len(sc_flux_lin) > 1:\n",
    "        logvar = pm.Normal('logvar', mu=np.log(np.var(sc_flux_lin)), sd=np.log(4))\n",
    "    else:\n",
    "        logvar = pm.Normal('logvar', mu=np.log(np.var(lc_flux_lin)*30), sd=np.log(4))\n",
    "    \n",
    "    \n",
    "    # now evaluate the model for each quarter\n",
    "    light_curves       = [None]*nq\n",
    "    summed_light_curve = [None]*nq\n",
    "    model_flux         = [None]*nq\n",
    "    \n",
    "    gp      = [None]*nq\n",
    "    gp_pred = [None]*nq\n",
    "    \n",
    "    \n",
    "    for j, q in enumerate(quarters):\n",
    "        # set oversampling factor\n",
    "        if all_dtype[q] == 'short':\n",
    "            oversample = 1\n",
    "        elif all_dtype[q] == 'long':\n",
    "            oversample = 15\n",
    "            \n",
    "        # calculate light curves\n",
    "        light_curves[j] = exoSLC.get_light_curve(orbit=orbit, r=rp, t=all_time[q], oversample=oversample)\n",
    "        summed_light_curve[j] = pm.math.sum(light_curves[j], axis=-1) + flux0*T.ones(len(all_time[q]))\n",
    "        model_flux[j] = pm.Deterministic('model_flux_{0}'.format(j), summed_light_curve[j])\n",
    "        \n",
    "        # here's the GP (w/ kernel by season)\n",
    "        if all_dtype[q] == 'short':\n",
    "            gp[j] = exo.gp.GP(kernel[q%4], all_time[q], T.exp(logvar)*T.ones(len(all_time[q])))\n",
    "            \n",
    "        elif all_dtype[q] == 'long':\n",
    "            gp[j] = exo.gp.GP(kernel[q%4], all_time[q], T.exp(logvar)/30*T.ones(len(all_time[q])))\n",
    "            \n",
    "        else:\n",
    "            raise ValueError(\"Cadence data type must be 'short' or 'long'\")\n",
    "\n",
    "\n",
    "        # add custom potential (log-prob fxn) with the GP likelihood\n",
    "        pm.Potential('obs_{0}'.format(j), gp[j].log_likelihood(all_flux[q] - model_flux[j]))\n",
    "\n",
    "\n",
    "        # track GP prediction\n",
    "        gp_pred[j] = pm.Deterministic('gp_pred_{0}'.format(j), gp[j].predict())"
   ]
  },
  {
   "cell_type": "code",
   "execution_count": 39,
   "metadata": {
    "scrolled": true
   },
   "outputs": [
    {
     "name": "stderr",
     "output_type": "stream",
     "text": [
      "optimizing logp for variables: [logvar, flux0, tt_offset_2, tt_offset_1, tt_offset_0]\n",
      "918it [01:26, 11.06it/s, logp=6.134287e+05]\n",
      "message: Desired error not necessarily achieved due to precision loss.\n",
      "logp: 613197.6495877436 -> 613428.6607140966\n"
     ]
    }
   ],
   "source": [
    "with indep_model:\n",
    "    indep_map = exo.optimize(start=indep_model.test_point)"
   ]
  },
  {
   "cell_type": "code",
   "execution_count": 40,
   "metadata": {},
   "outputs": [
    {
     "data": {
      "image/png": "[encoded data removed]",
      "text/plain": [
       "<Figure size 864x576 with 3 Axes>"
      ]
     },
     "metadata": {
      "needs_background": "light"
     },
     "output_type": "display_data"
    }
   ],
   "source": [
    "indep_transit_times = []\n",
    "indep_ephemeris = []\n",
    "\n",
    "for npl in range(NPL):\n",
    "    indep_transit_times.append(indep_map['tts_{0}'.format(npl)])\n",
    "    indep_ephemeris.append(indep_map['P'][npl]*transit_inds[npl] + indep_map['T0'][npl])\n",
    "    \n",
    "    \n",
    "fig, axes = plt.subplots(NPL, figsize=(12,8))\n",
    "\n",
    "for npl, p in enumerate(planets):\n",
    "    xtime = indep_transit_times[npl]\n",
    "    yomc  = (indep_transit_times[npl] - indep_ephemeris[npl])*24*60\n",
    "    \n",
    "    axes[npl].plot(xtime, yomc, '.', c='C{0}'.format(npl))\n",
    "    axes[npl].set_ylabel('O-C [min]', fontsize=20)\n",
    "axes[NPL-1].set_xlabel('Time [BJKD]', fontsize=20)\n",
    "plt.savefig(FIGURE_DIR + TARGET + '_ttvs_indep.pdf', bbox_inches='tight')\n",
    "plt.show()"
   ]
  },
  {
   "cell_type": "code",
   "execution_count": 41,
   "metadata": {},
   "outputs": [],
   "source": [
    "# get estimate of ttv amplitude and a reasonable buffer\n",
    "ttv_amps   = np.zeros(NPL)\n",
    "ttv_buffer = np.zeros(NPL)\n",
    "\n",
    "for npl in range(NPL):\n",
    "    # estimate TTV amplitude\n",
    "    ttv_amps[npl] = astropy.stats.mad_std(indep_transit_times[npl] - indep_ephemeris[npl])\n",
    "\n",
    "    # based on scatter in independent times, set threshold so not even one outlier is expected\n",
    "    N   = len(transit_inds[npl])\n",
    "    eta = np.max([3., stats.norm.interval((N-1)/N)[1]])\n",
    "\n",
    "    ttv_buffer[npl] = eta*ttv_amps[npl]"
   ]
  },
  {
   "cell_type": "code",
   "execution_count": 42,
   "metadata": {},
   "outputs": [],
   "source": [
    "# Save fixed ephemeris and independent TTV measurements to a text file\n",
    "for npl in range(NPL):\n",
    "    data_out = np.vstack([transit_inds[npl], indep_ephemeris[npl]]).swapaxes(0,1)\n",
    "    fname_out = QUICK_TTV_DIR + TARGET + \"_{:02d}\".format(npl) + \"_fixed_ephemeris.txt\"\n",
    "    \n",
    "    np.savetxt(fname_out, data_out, fmt=('%1d', '%.8f'), delimiter='\\t')\n",
    "    \n",
    "    \n",
    "    data_out  = np.vstack([transit_inds[npl], indep_transit_times[npl]]).swapaxes(0,1)\n",
    "    fname_out = QUICK_TTV_DIR + TARGET + '_{:02d}'.format(npl) + '_map_indep_ttvs.txt'\n",
    "    \n",
    "    np.savetxt(fname_out, data_out, fmt=('%1d', '%.8f'), delimiter='\\t')"
   ]
  },
  {
   "cell_type": "code",
   "execution_count": 43,
   "metadata": {},
   "outputs": [
    {
     "name": "stdout",
     "output_type": "stream",
     "text": [
      "\n",
      "cumulative runtime =  767 s\n",
      "\n"
     ]
    }
   ],
   "source": [
    "print('')\n",
    "print('cumulative runtime = ', int(timer() - global_start_time), 's')\n",
    "print('')"
   ]
  },
  {
   "cell_type": "code",
   "execution_count": null,
   "metadata": {},
   "outputs": [],
   "source": []
  },
  {
   "cell_type": "code",
   "execution_count": null,
   "metadata": {},
   "outputs": [],
   "source": []
  },
  {
   "cell_type": "code",
   "execution_count": null,
   "metadata": {},
   "outputs": [],
   "source": []
  },
  {
   "cell_type": "code",
   "execution_count": null,
   "metadata": {},
   "outputs": [],
   "source": []
  },
  {
   "cell_type": "code",
   "execution_count": null,
   "metadata": {},
   "outputs": [],
   "source": []
  },
  {
   "cell_type": "code",
   "execution_count": null,
   "metadata": {},
   "outputs": [],
   "source": []
  },
  {
   "cell_type": "markdown",
   "metadata": {},
   "source": [
    "# Detrend again with better estimates of transit timing"
   ]
  },
  {
   "cell_type": "code",
   "execution_count": null,
   "metadata": {},
   "outputs": [],
   "source": [
    "# reset to raw data\n",
    "\n",
    "if MISSION == 'Kepler':\n",
    "    try:\n",
    "        sc_data = detrend.cleanup_lkfc(sc_rawdata, KIC)\n",
    "\n",
    "        sc_quarters = []\n",
    "        for i, scd in enumerate(sc_data):\n",
    "            sc_quarters.append(scd.quarter)    \n",
    "    \n",
    "    except:\n",
    "        pass\n",
    "    \n",
    "    \n",
    "    try:\n",
    "        lc_data = detrend.cleanup_lkfc(lc_rawdata, KIC)\n",
    "\n",
    "        lc_quarters = []\n",
    "        for i, lcd in enumerate(lc_data):\n",
    "            lc_quarters.append(lcd.quarter)\n",
    "            \n",
    "    except:\n",
    "        pass\n",
    "        \n",
    "\n",
    "        \n",
    "elif MISSION == 'Simulated':\n",
    "    sc_quarters = []\n",
    "    for i, scrd in enumerate(sc_rawdata):\n",
    "        sc_quarters.append(scrd.quarter)\n",
    "        \n",
    "    order = np.argsort(sc_quarters)    \n",
    "    sc_data = lk.LightCurveCollection([sc_rawdata_list[o] for o in order])\n",
    "            \n",
    "\n",
    "    lc_quarters = []\n",
    "    for i, lcrd in enumerate(lc_rawdata):\n",
    "        lc_quarters.append(lcrd.quarter)\n",
    "        \n",
    "    order = np.argsort(lc_quarters)    \n",
    "    lc_data = lk.LightCurveCollection([lc_rawdata_list[o] for o in order])"
   ]
  },
  {
   "cell_type": "code",
   "execution_count": null,
   "metadata": {},
   "outputs": [],
   "source": [
    "# clean up the LONG CADENCE data\n",
    "for i, lcq in enumerate(lc_data):\n",
    "    lcq = detrend.remove_flagged_cadences(lcq)\n",
    "    lcq = detrend.clip_outliers(lcq, kernel_size=13, sigma_upper=5.0, sigma_lower=5.0)\n",
    "    lc_data[i] = lcq\n",
    "\n",
    "# broadcast quarter and channel integers into arrays (for convenient use after stitching)\n",
    "for i, lcq in enumerate(lc_data):\n",
    "    lcq.quarter = lcq.quarter*np.ones(len(lcq.time))\n",
    "    lcq.channel = lcq.channel*np.ones(len(lcq.time))\n",
    "\n",
    "    \n",
    "if len(lc_data) > 0:\n",
    "    # combine quarters into a single LiteCurve\n",
    "    lc = detrend.stitch_lkc(lc_data)\n",
    "    \n",
    "    # make a mask where planets transit\n",
    "    lc_mask = np.zeros((NPL,len(lc.time)),dtype='bool')\n",
    "    for npl, p in enumerate(planets):\n",
    "        masksize = (p.duration + 2*ttv_buffer[npl] + 1/24) / p.duration / 2\n",
    "        masksize = np.max([masksize, 2/3])\n",
    "    \n",
    "        lc_mask[npl] = detrend.make_transitmask(lc.time, p.tts, p.duration, masksize=masksize)\n",
    "\n",
    "    lc.mask = deepcopy(lc_mask)\n",
    "    \n",
    "    # plot the non-detrended data\n",
    "    plt.figure(figsize=(20,4))\n",
    "    plt.plot(lc.time, lc.flux, c=\"k\", lw=0.5)\n",
    "    plt.xlim(lc.time.min(), lc.time.max())\n",
    "    plt.show()\n",
    "    \n",
    "else:\n",
    "    lc = None"
   ]
  },
  {
   "cell_type": "code",
   "execution_count": null,
   "metadata": {},
   "outputs": [],
   "source": [
    "if lc is not None:    \n",
    "    # detrend\n",
    "    break_tolerance = int(DURS.max()/(LCIT/60/24)*5/2)\n",
    "    min_period = 5*DURS.max()\n",
    "    \n",
    "    lc = detrend.flatten_with_gp(lc, break_tolerance=break_tolerance, min_period=min_period)\n",
    "\n",
    "    # determine seasons\n",
    "    lc.season = lc.quarter % 4\n",
    "\n",
    "    # plot detrended data\n",
    "    plt.figure(figsize=(16,4))\n",
    "    plt.plot(lc.time, lc.flux, c='k', lw=0.5)\n",
    "    plt.xlim(lc.time.min(), lc.time.max())\n",
    "    plt.xlabel('Time [BKJD]', fontsize=20)\n",
    "    plt.ylabel('Relative Flux', fontsize=20)\n",
    "    plt.savefig(FIGURE_DIR + TARGET + '_long_cadence_flux.pdf', bbox_inches='tight')\n",
    "    plt.show()"
   ]
  },
  {
   "cell_type": "code",
   "execution_count": null,
   "metadata": {},
   "outputs": [],
   "source": [
    "# clean up the SHORT CADENCE data\n",
    "for i, scq in enumerate(sc_data):\n",
    "    scq = detrend.remove_flagged_cadences(scq)\n",
    "    scq = detrend.clip_outliers(scq, kernel_size=13, sigma_upper=5.0, sigma_lower=5.0)\n",
    "    sc_data[i] = scq\n",
    "\n",
    "# broadcast quarter and channel integers into arrays (for convenient use after stitching)\n",
    "for i, scq in enumerate(sc_data):\n",
    "    scq.quarter = scq.quarter*np.ones(len(scq.time))\n",
    "    scq.channel = scq.channel*np.ones(len(scq.time))\n",
    "\n",
    "    \n",
    "if len(sc_data) > 0:\n",
    "    # combine quarters into a single LiteCurve\n",
    "    sc = detrend.stitch_lkc(sc_data)\n",
    "    \n",
    "    # make a mask where planets transit\n",
    "    sc_mask = np.zeros((NPL,len(sc.time)),dtype='bool')\n",
    "    for npl, p in enumerate(planets):\n",
    "        masksize = (p.duration + 2*ttv_buffer[npl] + 1/24) / p.duration / 2\n",
    "        masksize = np.max([masksize, 2/3])\n",
    "\n",
    "        sc_mask[npl] = detrend.make_transitmask(sc.time, p.tts, p.duration, masksize=masksize)\n",
    "\n",
    "    sc.mask = deepcopy(sc_mask)\n",
    "    \n",
    "    # plot the non-detrended data\n",
    "    plt.figure(figsize=(20,4))\n",
    "    plt.plot(sc.time, sc.flux, c=\"k\", lw=0.5)\n",
    "    plt.xlim(sc.time.min(), sc.time.max())\n",
    "    plt.show()\n",
    "    \n",
    "else:\n",
    "    sc = None"
   ]
  },
  {
   "cell_type": "code",
   "execution_count": null,
   "metadata": {},
   "outputs": [],
   "source": [
    "if sc is not None:    \n",
    "    # detrend\n",
    "    break_tolerance = int(DURS.max()/(SCIT/3600/24)*5/2)\n",
    "    min_period = 5*DURS.max()\n",
    "    \n",
    "    sc = detrend.flatten_with_gp(sc, break_tolerance=break_tolerance, min_period=min_period)\n",
    "\n",
    "    # determine seasons\n",
    "    sc.season = sc.quarter % 4\n",
    "\n",
    "    # plot detrended data\n",
    "    plt.figure(figsize=(16,4))\n",
    "    plt.plot(sc.time, sc.flux, c='k', lw=0.5)\n",
    "    plt.xlim(sc.time.min(), sc.time.max())\n",
    "    plt.xlabel('Time [BKJD]', fontsize=20)\n",
    "    plt.ylabel('Relative Flux', fontsize=20)\n",
    "    plt.savefig(FIGURE_DIR + TARGET + '_short_cadence_flux.pdf', bbox_inches='tight')\n",
    "    plt.show()"
   ]
  },
  {
   "cell_type": "code",
   "execution_count": null,
   "metadata": {},
   "outputs": [],
   "source": []
  },
  {
   "cell_type": "code",
   "execution_count": null,
   "metadata": {},
   "outputs": [],
   "source": []
  },
  {
   "cell_type": "code",
   "execution_count": null,
   "metadata": {},
   "outputs": [],
   "source": []
  },
  {
   "cell_type": "markdown",
   "metadata": {},
   "source": [
    "# Make individual mask for where each planet transits\n",
    "### These masks have width 1.5 transit durations, which may be wider than the masks used for detrending"
   ]
  },
  {
   "cell_type": "code",
   "execution_count": null,
   "metadata": {},
   "outputs": [],
   "source": [
    "print('Making transit masks')\n",
    "try:\n",
    "    sc_mask = np.zeros((NPL,len(sc.time)),dtype='bool')\n",
    "    for npl, p in enumerate(planets):\n",
    "        sc_mask[npl] = detrend.make_transitmask(sc.time, p.tts, p.duration, masksize=1.5)\n",
    "\n",
    "    sc.mask = sc_mask\n",
    "\n",
    "except:\n",
    "    sc_mask = None\n",
    "\n",
    "    \n",
    "try:\n",
    "    lc_mask = np.zeros((NPL,len(lc.time)),dtype='bool')\n",
    "    for npl, p in enumerate(planets):\n",
    "        lc_mask[npl] = detrend.make_transitmask(lc.time, p.tts, p.duration, masksize=1.5)\n",
    "    \n",
    "    lc.mask = lc_mask\n",
    "\n",
    "except:\n",
    "    lc_mask = None"
   ]
  },
  {
   "cell_type": "markdown",
   "metadata": {},
   "source": [
    "# Flag where there is data near transit (quality = 1)"
   ]
  },
  {
   "cell_type": "code",
   "execution_count": null,
   "metadata": {},
   "outputs": [],
   "source": [
    "for npl, p in enumerate(planets):\n",
    "\n",
    "    quality = []\n",
    "\n",
    "    # cut out the stamps\n",
    "    for i, t0 in enumerate(p.tts):\n",
    "        try:\n",
    "            neartransit_sc = np.abs(sc.time - t0)/p.duration < 1.5\n",
    "            neartransit_lc = np.abs(lc.time - t0)/p.duration < 1.5\n",
    "        \n",
    "            quality.append((np.sum(neartransit_sc) + np.sum(neartransit_lc)) > 0)\n",
    "                        \n",
    "        except:\n",
    "            neartransit = np.abs(lc.time - t0)/p.duration < 1.5\n",
    "            quality.append(np.sum(neartransit) > 0)\n",
    "        \n",
    "    p.quality = quality"
   ]
  },
  {
   "cell_type": "code",
   "execution_count": null,
   "metadata": {},
   "outputs": [],
   "source": [
    "print('')\n",
    "print('cumulative runtime = ', int(timer() - global_start_time), 's')\n",
    "print('')"
   ]
  },
  {
   "cell_type": "markdown",
   "metadata": {},
   "source": [
    "# Make phase-folded transit plots"
   ]
  },
  {
   "cell_type": "code",
   "execution_count": null,
   "metadata": {
    "scrolled": false
   },
   "outputs": [],
   "source": [
    "for npl, p in enumerate(planets):\n",
    "    tts = p.tts[p.quality*~p.overlap]\n",
    "    \n",
    "    \n",
    "    if len(tts) == 0:\n",
    "        print(\"No non-overlapping high quality transits found for planet {0} (P = {1} d)\".format(npl, p.period))\n",
    "    \n",
    "    \n",
    "    else:\n",
    "        t_ = []\n",
    "        f_ = []\n",
    "\n",
    "\n",
    "        for t0 in tts:\n",
    "            try:\n",
    "                neartransit_sc = np.abs(sc.time - t0)/p.duration < 1.5\n",
    "            except:\n",
    "                neartransit_sc = None\n",
    "\n",
    "            try:\n",
    "                neartransit_lc = np.abs(lc.time - t0)/p.duration < 1.5\n",
    "            except:\n",
    "                neartransit_lc = None\n",
    "\n",
    "            if (neartransit_lc is not None) and (np.sum(neartransit_lc) > 0):\n",
    "                t_.append(lc.time[neartransit_lc] - t0)\n",
    "                f_.append(lc.flux[neartransit_lc])\n",
    "\n",
    "            if (neartransit_sc is not None) and (np.sum(neartransit_sc) > 0):\n",
    "                t_.append(sc.time[neartransit_sc] - t0)\n",
    "                f_.append(sc.flux[neartransit_sc])\n",
    "\n",
    "\n",
    "        t_ = np.hstack(t_)\n",
    "        f_ = np.hstack(f_)\n",
    "\n",
    "        order = np.argsort(t_)\n",
    "        t_ = t_[order]\n",
    "        f_ = f_[order]\n",
    "\n",
    "        f_bin = bin_data(t_, f_, LCIT/60/24/2)\n",
    "        t_bin = bin_data(t_, t_, LCIT/60/24/2)\n",
    "\n",
    "        plt.figure(figsize=(12,4))\n",
    "        plt.plot(t_*24, f_, \".\", c=\"lightgrey\")\n",
    "        plt.plot(t_bin*24, f_bin, \"o\", ms=5, color=\"C{0}\".format(npl))\n",
    "        plt.savefig(FIGURE_DIR + TARGET + '_{0:02d}_folded_transit_.pdf'.format(npl), bbox_inches='tight')\n",
    "        plt.show()"
   ]
  },
  {
   "cell_type": "markdown",
   "metadata": {},
   "source": [
    "# Generate and model empirical autocorrelation function (ACF)"
   ]
  },
  {
   "cell_type": "code",
   "execution_count": null,
   "metadata": {},
   "outputs": [],
   "source": [
    "# generating figures inside imported modules creates issues with UChicago Midway RCC cluster\n",
    "# it's easier to just define the function here in the main script\n",
    "\n",
    "def plot_acf(xcor, acf_emp, acf_mod, xf, yf, freqs, target_name, season):\n",
    "    \"\"\"\n",
    "    Docstring\n",
    "    \"\"\"\n",
    "    fig = plt.figure(figsize=(20,5))\n",
    "\n",
    "    plt.tight_layout()\n",
    "    plt.subplots_adjust(wspace=0.8)\n",
    "\n",
    "    ax = plt.subplot2grid(shape=(5,10), loc=(0,0), rowspan=3, colspan=7)\n",
    "    ax.plot(xcor*24, acf_emp[0], color='lightgrey')\n",
    "    ax.plot(xcor*24, acf_mod[0], c='red')\n",
    "    ax.set_xlim(xcor.min()*24,xcor.max()*24)\n",
    "    ax.set_xticks(np.arange(0,xcor.max()*24,2))\n",
    "    ax.set_xticklabels([])\n",
    "    ax.set_ylim(acf_emp.min()*1.1, acf_emp.max()*1.1)\n",
    "    ax.set_ylabel('ACF', fontsize=20)\n",
    "    ax.text(xcor.max()*24-0.15, acf_emp.max(), '%s, SEASON %d' %(target_name, season), va='top', ha='right', fontsize=20)\n",
    "\n",
    "\n",
    "    ax = plt.subplot2grid(shape=(5,10), loc=(0,7), rowspan=5, colspan=3)\n",
    "    ax.plot(xf/24/3600*1e3, yf, color='k', lw=0.5)\n",
    "    for f in freqs:\n",
    "        ax.axvline(f/24/3600*1e3, color='red', zorder=0, lw=3, alpha=0.3) \n",
    "    ax.set_xlim(xf.min()/24/3600*1e3, xf.max()/24/3600*1e3)\n",
    "    ax.set_ylim(yf.min(),1.2*yf.max())\n",
    "    ax.set_ylabel('Power', fontsize=20)\n",
    "    ax.set_yticks([])\n",
    "    ax.set_xlabel('Frequency [mHz]', fontsize=20)\n",
    "\n",
    "    for i, sf in enumerate(np.sort(freqs)[::-1]):\n",
    "        ax.text(xf.min()/24/3600*1e3+0.1, yf.max()*(1.1-0.1*i), '%.2f min' %(24*60/sf), fontsize=16)\n",
    "\n",
    "\n",
    "    ax = plt.subplot2grid(shape=(5,10), loc=(3,0), rowspan=2, colspan=7)\n",
    "    ax.plot(xcor*24, acf_emp[1], c='lightgrey')\n",
    "    #ax.plot(xcor*24, acf_mod[1], c='red', lw=0.5)\n",
    "    ax.set_xlim(xcor.min()*24,xcor.max()*24)\n",
    "    ax.set_xticks(np.arange(0,xcor.max()*24,2))\n",
    "    ax.set_xlabel('Lag time [hours]', fontsize=20)\n",
    "    ax.set_ylabel('Residuals', fontsize=20)    \n",
    "    \n",
    "    return fig"
   ]
  },
  {
   "cell_type": "code",
   "execution_count": null,
   "metadata": {
    "scrolled": false
   },
   "outputs": [],
   "source": [
    "print('Generating autocorrelation function\\n')\n",
    "\n",
    "# set Npts from 5 x maximum transit duration\n",
    "durations = np.zeros(NPL)\n",
    "for npl, p in enumerate(planets):\n",
    "    durations[npl] = p.duration\n",
    "Npts = int(5*durations.max()*24*3600/SCIT)\n",
    "\n",
    "\n",
    "# set cutoff between low and high frequency signals\n",
    "fcut = 2/(LCIT/60/24)\n",
    "fmin = 2/(5*durations.max())\n",
    "\n",
    "# now estimate the ACF\n",
    "acf_lag = []\n",
    "acf_emp = []\n",
    "acf_mod = []\n",
    "acf_freqs = []\n",
    "\n",
    "\n",
    "if sc is not None:\n",
    "    for z in range(4):\n",
    "        # make a mask where any planet transits\n",
    "        scm = sc.mask.sum(axis=0) > 0\n",
    "\n",
    "        # pull out a particular season\n",
    "        use = sc.season == z\n",
    "        scm = scm[use]\n",
    "\n",
    "        if np.sum(use) > 0:\n",
    "            sc_time = sc.time[use][~scm]\n",
    "            sc_flux = sc.flux[use][~scm]\n",
    "            sc_error = sc.error[use][~scm]\n",
    "            sc_cadno = sc.cadno[use][~scm]\n",
    "\n",
    "            # generate the empirical acf\n",
    "            xcor, acor, wcor, acf_stats = noise.generate_acf(sc_time, sc_flux, sc_cadno, Npts)\n",
    "\n",
    "            # model the acf\n",
    "            acor_emp, acor_mod, xf, yf, freqs = noise.model_acf(xcor, acor, fcut, fmin=fmin, method='savgol')\n",
    "\n",
    "            # make some plots\n",
    "            fig = plot_acf(xcor, acor_emp, acor_mod, xf, yf, freqs, TARGET, z)\n",
    "            fig.savefig(FIGURE_DIR + TARGET + '_ACF_season_{0}.pdf'.format(z), bbox_inches='tight')\n",
    "\n",
    "\n",
    "            # filter out significant high-frequency components\n",
    "            fring = freqs[freqs > fcut]\n",
    "            bw = 1/(lcit-scit/np.sqrt(2))-1/(lcit+scit/np.sqrt(2))\n",
    "\n",
    "            if len(fring) > 0:\n",
    "                flux_filtered = detrend.filter_ringing(sc, break_tolerance, fring, bw)\n",
    "\n",
    "                sc.flux[use] = flux_filtered[use]\n",
    "                sc_flux = sc.flux[use][~scm]\n",
    "\n",
    "\n",
    "            # re-run the ACF modeling on the filtered lightcurve\n",
    "            xcor, acor, wcor, acf_stats = noise.generate_acf(sc_time, sc_flux, sc_cadno, Npts)\n",
    "            acor_emp, acor_mod, xf, yf, freqs = noise.model_acf(xcor, acor, fcut, fmin=fmin, method='savgol')\n",
    "\n",
    "            fig = plot_acf(xcor, acor_emp, acor_mod, xf, yf, freqs, TARGET, z)\n",
    "            fig.savefig(FIGURE_DIR + TARGET + '_ACF_season_{0}_filtered.pdf'.format(z), bbox_inches='tight')\n",
    "\n",
    "\n",
    "            # add to list\n",
    "            acf_lag.append(xcor)\n",
    "            acf_emp.append(acor_emp)\n",
    "            acf_mod.append(acor_mod)\n",
    "            acf_freqs.append(freqs)        \n",
    "\n",
    "\n",
    "        else:\n",
    "            acf_lag.append(None)\n",
    "            acf_emp.append(None)\n",
    "            acf_mod.append(None)\n",
    "            acf_freqs.append(None)"
   ]
  },
  {
   "cell_type": "markdown",
   "metadata": {},
   "source": [
    "# Generate synthetic noise"
   ]
  },
  {
   "cell_type": "code",
   "execution_count": null,
   "metadata": {
    "scrolled": false
   },
   "outputs": [],
   "source": [
    "print('Generating synthetic noise\\n')\n",
    "\n",
    "synth_time  = []\n",
    "synth_red   = []\n",
    "synth_white = []\n",
    "\n",
    "if sc is not None:\n",
    "    for z in range(4):\n",
    "        # make a mask where any planet transits\n",
    "        scm = sc.mask.sum(axis=0) > 0\n",
    "\n",
    "        # pull out a particular season\n",
    "        use = sc.season == z\n",
    "        scm = scm[use]\n",
    "\n",
    "        if np.sum(use) > 0:\n",
    "            sc_time = sc.time[use][~scm]\n",
    "            sc_flux = sc.flux[use][~scm]\n",
    "            sc_error = sc.error[use][~scm]\n",
    "            sc_cadno = sc.cadno[use][~scm]\n",
    "\n",
    "            # pull and split high/low frequencies\n",
    "            freqs = acf_freqs[z]\n",
    "\n",
    "            low_freqs  = freqs[freqs <= fcut]\n",
    "            high_freqs = freqs[freqs > fcut]\n",
    "\n",
    "            # generate some synthetic correlated noise\n",
    "            x, red_noise, white_noise = noise.generate_synthetic_noise(acf_lag[z], acf_mod[z][0]+acf_mod[z][1], \n",
    "                                                                       5*len(acf_lag[z]), np.median(sc_error))\n",
    "\n",
    "            # add to list\n",
    "            synth_time.append(x)\n",
    "            synth_red.append(red_noise)\n",
    "            synth_white.append(white_noise)\n",
    "\n",
    "            # plot the noise\n",
    "            plt.figure(figsize=(20,8))\n",
    "            plt.plot(x, white_noise + red_noise, '.', c='lightgrey')\n",
    "            plt.plot(x, red_noise, c='red', lw=4)\n",
    "            plt.axhline(0.0005, c='k', ls='--', lw=3)\n",
    "            plt.axhline(-0.0005, c='k', ls='--', lw=3)\n",
    "            plt.xlim(x.min(),x.max())\n",
    "            plt.xlabel('Time [days]', fontsize=30)\n",
    "            plt.ylabel('Flux', fontsize=30)\n",
    "            plt.text(x.max()-0.02, white_noise.max(), '%s, SEASON %d' %(TARGET, z), va='center', ha='right', fontsize=24)\n",
    "            plt.savefig(FIGURE_DIR + TARGET + '_synthetic_noise_season_{0}.pdf'.format(z), bbox_inches='tight')\n",
    "            plt.show()\n",
    "\n",
    "        else:\n",
    "            synth_time.append(None)\n",
    "            synth_red.append(None)\n",
    "            synth_white.append(None)"
   ]
  },
  {
   "cell_type": "markdown",
   "metadata": {},
   "source": [
    "# Fit a GP to the synthetic noise"
   ]
  },
  {
   "cell_type": "code",
   "execution_count": null,
   "metadata": {
    "scrolled": false
   },
   "outputs": [],
   "source": [
    "print('Fitting a GP to synthetic noise\\n')\n",
    "\n",
    "gp_model  = []\n",
    "gp_trace  = []\n",
    "gp_priors = []\n",
    "\n",
    "if sc is not None:\n",
    "    for z in range(4):\n",
    "        # make a mask where any planet transits\n",
    "        scm = sc.mask.sum(axis=0) > 0\n",
    "\n",
    "        # pull out a particular season\n",
    "        use = sc.season == z\n",
    "        scm = scm[use]\n",
    "\n",
    "        if np.sum(use) > 0:\n",
    "            sc_time = sc.time[use][~scm]\n",
    "            sc_flux = sc.flux[use][~scm]\n",
    "            sc_error = sc.error[use][~scm]\n",
    "            sc_cadno = sc.cadno[use][~scm]\n",
    "\n",
    "            # pull out and split high/low frequencies\n",
    "            freqs = acf_freqs[z]\n",
    "\n",
    "            low_freqs  = freqs[freqs <= fcut]\n",
    "            high_freqs = freqs[freqs > fcut]\n",
    "\n",
    "            if len(low_freqs) > 0:\n",
    "                lf = [low_freqs[0]]\n",
    "                extra_term = None\n",
    "            else:\n",
    "                lf = None\n",
    "                extra_term = 'free'\n",
    "\n",
    "            if len(high_freqs) > 0:\n",
    "                warnings.warn(\"there are remaining high-frequency noise components\")\n",
    "\n",
    "\n",
    "            # fit a GP model to the synthetic noise\n",
    "            gp_model.append(noise.build_sho_model(synth_time[z], synth_red[z], var_method='local', \\\n",
    "                                                  low_freqs=lf, high_freqs=None, extra_term=extra_term))\n",
    "\n",
    "        else:\n",
    "            gp_model.append(None)\n",
    "\n",
    "\n",
    "        if np.sum(use) > 0:\n",
    "            with gp_model[z] as model:\n",
    "                map_soln = exo.optimize(start=model.test_point, vars=[model.vars[0]])\n",
    "\n",
    "                for mv in model.vars[1:]:\n",
    "                    map_soln = exo.optimize(start=map_soln, vars=[mv])\n",
    "\n",
    "                map_soln = exo.optimize(start=map_soln)\n",
    "\n",
    "\n",
    "            with gp_model[z] as model:\n",
    "                trace = pm.sample(tune=2000, draws=500, start=map_soln, chains=2, \\\n",
    "                                  step=exo.get_dense_nuts_step(target_accept=0.9))\n",
    "\n",
    "            plt.figure(figsize=(20,4))\n",
    "            plt.plot(synth_time[z], synth_red[z], c='pink', lw=4)\n",
    "            plt.plot(synth_time[z], np.median(trace['gp_pred'], axis=0), c='red')\n",
    "            plt.xlim(synth_time[z].min(), synth_time[z].max())\n",
    "            plt.savefig(FIGURE_DIR + TARGET + '_GP_noise_model_{0}.pdf'.format(z), bbox_inches='tight')\n",
    "            plt.show()\n",
    "\n",
    "            # transfer trace posteriors to new prior dictionary\n",
    "            gp_trace.append(trace)\n",
    "            gp_priors.append(noise.make_gp_prior_dict(trace))\n",
    "\n",
    "\n",
    "        else:\n",
    "            gp_trace.append(None)\n",
    "            gp_priors.append(None)\n",
    "\n",
    "\n",
    "    # save the GP trace results\n",
    "    gp_var_names=['logw0', 'logSw4', 'logQ', 'logw0_x', 'logSw4_x', 'logQ_x', 'logS1', 'logS2', 'logQ1']\n",
    "\n",
    "    for i, gpt in enumerate(gp_trace):\n",
    "        if gpt is not None:\n",
    "            varnames = np.array(gpt.varnames)[np.isin(gpt.varnames, gp_var_names)]    \n",
    "\n",
    "            hdulist = io.trace_to_hdulist(gpt, varnames, TARGET)\n",
    "            hdulist.writeto(TRACE_DIR + TARGET + '_gp_{0}.fits'.format(z), overwrite=True)"
   ]
  },
  {
   "cell_type": "code",
   "execution_count": null,
   "metadata": {
    "scrolled": false
   },
   "outputs": [],
   "source": [
    "if sc is not None:\n",
    "    do_plots = False\n",
    "    if do_plots:\n",
    "        for z, gpt in enumerate(gp_trace):\n",
    "            print(z)\n",
    "            try:\n",
    "                varnames = np.array(gpt.varnames)[np.isin(gpt.varnames, gp_var_names)]\n",
    "\n",
    "                with gp_model[z]:\n",
    "                    pm.traceplot(gp_trace[z], var_names=varnames)\n",
    "\n",
    "            except:\n",
    "                pass"
   ]
  },
  {
   "cell_type": "code",
   "execution_count": null,
   "metadata": {},
   "outputs": [],
   "source": [
    "# list of all quarters with data\n",
    "quarters = np.sort(np.hstack([lc_quarters, sc_quarters]))\n",
    "\n",
    "# get variance of each quarter\n",
    "if lc is not None:\n",
    "    lcm = lc.mask.sum(axis=0) == 0\n",
    "if sc is not None:\n",
    "    scm = sc.mask.sum(axis=0) == 0\n",
    "\n",
    "var_by_quarter = []\n",
    "\n",
    "for i, q in enumerate(quarters):\n",
    "    if (sc is not None) and (np.sum(sc.quarter==q) > 0):\n",
    "        var_by_quarter.append(np.var(sc.flux[scm*(sc.quarter==q)]))\n",
    "    elif (lc is not None) and (np.sum(lc.quarter==q) > 0):\n",
    "        var_by_quarter.append(np.var(lc.flux[lcm*lc.quarter==q]))\n",
    "    else:\n",
    "        var_by_quarter.append(None)"
   ]
  },
  {
   "cell_type": "markdown",
   "metadata": {},
   "source": [
    "# Save detrended lightcurves and estimates of the noise properties"
   ]
  },
  {
   "cell_type": "code",
   "execution_count": null,
   "metadata": {},
   "outputs": [],
   "source": [
    "# Save detrended lightcurves as .fits files\n",
    "try:\n",
    "    lc.to_fits(TARGET, DLC_DIR + TARGET + '_lc_detrended.fits')\n",
    "except:\n",
    "    print(\"No long cadence data\")\n",
    "\n",
    "try:\n",
    "    sc.to_fits(TARGET, DLC_DIR + TARGET + '_sc_detrended.fits')\n",
    "except:\n",
    "    print(\"No short cadence data\")"
   ]
  },
  {
   "cell_type": "code",
   "execution_count": null,
   "metadata": {},
   "outputs": [],
   "source": [
    "# Save var_by_quarter\n",
    "data_out  = np.vstack([quarters, var_by_quarter]).swapaxes(0,1)\n",
    "fname_out = NOISE_DIR + TARGET + '_var_by_quarter.txt'\n",
    "    \n",
    "np.savetxt(fname_out, data_out, fmt=('%1d', '%.15f'), delimiter='\\t')\n",
    "\n",
    "\n",
    "# save gp_priors\n",
    "for z in range(4):\n",
    "    try:\n",
    "        for k in gp_priors[z].keys():\n",
    "            gp_priors[z][k] = list(gp_priors[z][k])\n",
    "\n",
    "        fname_out = NOISE_DIR + TARGET + '_shoterm_gp_priors_{0}.txt'.format(z)\n",
    "\n",
    "        with open(fname_out, 'w') as file:\n",
    "            json.dump(gp_priors[z], file)\n",
    "            \n",
    "    except:\n",
    "        pass"
   ]
  },
  {
   "cell_type": "code",
   "execution_count": null,
   "metadata": {},
   "outputs": [],
   "source": [
    "print('')\n",
    "print('cumulative runtime = ', int(timer() - global_start_time), 's')\n",
    "print('')"
   ]
  },
  {
   "cell_type": "code",
   "execution_count": null,
   "metadata": {},
   "outputs": [],
   "source": []
  }
 ],
 "metadata": {
  "kernelspec": {
   "display_name": "Python 3",
   "language": "python",
   "name": "python3"
  },
  "language_info": {
   "codemirror_mode": {
    "name": "ipython",
    "version": 3
   },
   "file_extension": ".py",
   "mimetype": "text/x-python",
   "name": "python",
   "nbconvert_exporter": "python",
   "pygments_lexer": "ipython3",
   "version": "3.7.3"
  }
 },
 "nbformat": 4,
 "nbformat_minor": 2
}
